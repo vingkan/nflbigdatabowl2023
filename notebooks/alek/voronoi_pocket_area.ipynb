{
 "cells": [
  {
   "cell_type": "code",
   "execution_count": 1,
   "metadata": {},
   "outputs": [],
   "source": [
    "%load_ext autoreload\n",
    "%autoreload 2"
   ]
  },
  {
   "cell_type": "code",
   "execution_count": 2,
   "metadata": {},
   "outputs": [],
   "source": [
    "import sys\n",
    "DIR = '/workspace/nflbigdatabowl2023'\n",
    "sys.path.append(DIR)"
   ]
  },
  {
   "cell_type": "code",
   "execution_count": 4,
   "metadata": {},
   "outputs": [
    {
     "ename": "ModuleNotFoundError",
     "evalue": "No module named 'scipy'",
     "output_type": "error",
     "traceback": [
      "\u001b[0;31m---------------------------------------------------------------------------\u001b[0m",
      "\u001b[0;31mModuleNotFoundError\u001b[0m                       Traceback (most recent call last)",
      "Cell \u001b[0;32mIn[4], line 2\u001b[0m\n\u001b[1;32m      1\u001b[0m \u001b[39mfrom\u001b[39;00m \u001b[39mtyping\u001b[39;00m \u001b[39mimport\u001b[39;00m List, Dict\n\u001b[0;32m----> 2\u001b[0m \u001b[39mfrom\u001b[39;00m \u001b[39mscipy\u001b[39;00m\u001b[39m.\u001b[39;00m\u001b[39mspatial\u001b[39;00m \u001b[39mimport\u001b[39;00m Voronoi\n\u001b[1;32m      3\u001b[0m \u001b[39mfrom\u001b[39;00m \u001b[39mshapely\u001b[39;00m \u001b[39mimport\u001b[39;00m Polygon\n\u001b[1;32m      4\u001b[0m \u001b[39mfrom\u001b[39;00m \u001b[39msrc\u001b[39;00m\u001b[39m.\u001b[39;00m\u001b[39mmetrics\u001b[39;00m\u001b[39m.\u001b[39;00m\u001b[39mpocket_area\u001b[39;00m\u001b[39m.\u001b[39;00m\u001b[39mbase\u001b[39;00m \u001b[39mimport\u001b[39;00m PocketArea, PocketAreaMetadata\n",
      "\u001b[0;31mModuleNotFoundError\u001b[0m: No module named 'scipy'"
     ]
    }
   ],
   "source": [
    "from typing import List, Dict\n",
    "from scipy.spatial import Voronoi\n",
    "from shapely import Polygon\n",
    "from src.metrics.pocket_area.base import PocketArea, PocketAreaMetadata"
   ]
  },
  {
   "cell_type": "code",
   "execution_count": null,
   "metadata": {},
   "outputs": [],
   "source": [
    "def voronoi_pocket_area(players: List[Dict]) -> PocketArea:\n",
    "\n",
    "    passer_idx = -1\n",
    "    passer_coord = (-1, -1)\n",
    "    for i, p in enumerate(players):\n",
    "        if p['role'] == 'passer':\n",
    "            passer_idx = i\n",
    "            passer_coord = (p['x'], p['y'])\n",
    "            break\n",
    "    \n",
    "    points = [(p['x'], p['y']) for p in players]\n",
    "    ghost = (passer_coord[0], passer_coord[1] - 2)\n",
    "    points.append(ghost)\n",
    "\n",
    "    vor = Voronoi(points)\n",
    "    region_idx = vor.point_region[passer_idx]\n",
    "    region_vertices_indices = vor.regions[region_idx]\n",
    "    region_vertices = [tuple(vor.vertices[idx]) for idx in region_vertices_indices]\n",
    "\n",
    "    pocket = Polygon(region_vertices)\n",
    "    area = pocket.area\n",
    "    metadata = PocketAreaMetadata(vertices=region_vertices)\n",
    "    return PocketArea(area, metadata)"
   ]
  },
  {
   "cell_type": "code",
   "execution_count": null,
   "metadata": {},
   "outputs": [],
   "source": [
    "frame = [\n",
    "  {'role': 'passer', 'x': 5, 'y': 5},\n",
    "  {'role': 'rusher', 'x': 1, 'y': 9},\n",
    "  {'role': 'rusher', 'x': 9, 'y': 9},\n",
    "  {'role': 'blocker', 'x': 1, 'y': 1},\n",
    "  {'role': 'blocker', 'x': 9, 'y': 1}\n",
    "]"
   ]
  },
  {
   "cell_type": "code",
   "execution_count": null,
   "metadata": {},
   "outputs": [],
   "source": [
    "pocket_area = voronoi_pocket_area(frame)\n",
    "print(pocket_area.area)\n",
    "print(pocket_area.metadata.vertices)"
   ]
  }
 ],
 "metadata": {
  "kernelspec": {
   "display_name": "Python 3",
   "language": "python",
   "name": "python3"
  },
  "language_info": {
   "codemirror_mode": {
    "name": "ipython",
    "version": 3
   },
   "file_extension": ".py",
   "mimetype": "text/x-python",
   "name": "python",
   "nbconvert_exporter": "python",
   "pygments_lexer": "ipython3",
   "version": "3.8.13"
  },
  "orig_nbformat": 4,
  "vscode": {
   "interpreter": {
    "hash": "9ac03a0a6051494cc606d484d27d20fce22fb7b4d169f583271e11d5ba46a56e"
   }
  }
 },
 "nbformat": 4,
 "nbformat_minor": 2
}
