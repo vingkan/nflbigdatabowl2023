{
 "cells": [
  {
   "cell_type": "code",
   "execution_count": 1,
   "metadata": {},
   "outputs": [],
   "source": [
    "%load_ext autoreload\n",
    "%autoreload 2"
   ]
  },
  {
   "cell_type": "code",
   "execution_count": 2,
   "metadata": {},
   "outputs": [],
   "source": [
    "import sys\n",
    "DIR = '/workspace/nflbigdatabowl2023'\n",
    "sys.path.append(DIR)"
   ]
  },
  {
   "cell_type": "code",
   "execution_count": 3,
   "metadata": {},
   "outputs": [],
   "source": [
    "from typing import Dict, List\n",
    "from scipy.spatial import Voronoi\n",
    "from shapely import Polygon"
   ]
  },
  {
   "cell_type": "code",
   "execution_count": null,
   "metadata": {},
   "outputs": [],
   "source": [
    "from src.metrics.pocket_area.base import PocketArea, PocketAreaMetadata\n",
    "from src.metrics.pocket_area.helpers import split_records_by_role\n",
    "from src.pipeline.tasks.constants import FIELD_WIDTH"
   ]
  },
  {
   "cell_type": "code",
   "execution_count": null,
   "metadata": {},
   "outputs": [],
   "source": [
    "FIELD_WIDTH_MIN = 0\n",
    "FIELD_WIDTH_MAX = FIELD_WIDTH"
   ]
  },
  {
   "cell_type": "code",
   "execution_count": 4,
   "metadata": {},
   "outputs": [],
   "source": [
    "def voronoi_rushers_only(players: List[Dict]) -> PocketArea:\n",
    "\n",
    "    passer, _, rushers = split_records_by_role(players)\n",
    "    # How much pocket depth can be behind the passer.\n",
    "    pocket_max_depth_behind_passer = 1\n",
    "    # How much pocket width can be to either side of the passer.\n",
    "    pocket_max_side_width = 5\n",
    "    min_x = max(FIELD_WIDTH_MIN, passer[\"x\"] - (2 * pocket_max_side_width))\n",
    "    max_x = min(FIELD_WIDTH_MAX, passer[\"x\"] + (2 * pocket_max_side_width))\n",
    "    # Add fake points to keep the pocket bounded.\n",
    "    ghost_points = [\n",
    "        # Limit pocket area behind passer. Double the max depth behind passer\n",
    "        # so that the pocket boundary will fall at the midpoint.\n",
    "        (passer[\"x\"], passer[\"y\"] - (2 * pocket_max_depth_behind_passer)),\n",
    "        # Limit pocket area in front of passer to line of scrimmage (y = 0).\n",
    "        (passer[\"x\"], 0),\n",
    "        # Limit pocket area to sides of passer. Double the max side width so\n",
    "        # that the pocket boundary will fall at the midpoint.\n",
    "        (max_x, passer[\"y\"]),\n",
    "        (min_x, passer[\"y\"])\n",
    "    ]\n",
    "\n",
    "    pocket_players = [passer] + rushers\n",
    "    passer_idx = 0\n",
    "    pocket_points = [(p[\"x\"], p[\"y\"]) for p in pocket_players]\n",
    "    all_points = pocket_points + ghost_points\n",
    "\n",
    "    vor = Voronoi(all_points)\n",
    "    region_idx = vor.point_region[passer_idx]\n",
    "    region_vertices_indices = vor.regions[region_idx]\n",
    "    region_vertices = [\n",
    "        (vor.vertices[idx][0], vor.vertices[idx][1])\n",
    "        for idx in region_vertices_indices\n",
    "    ]\n",
    "\n",
    "    pocket = Polygon(region_vertices)\n",
    "    area = pocket.area\n",
    "    metadata = PocketAreaMetadata(vertices=region_vertices)\n",
    "    return PocketArea(area, metadata)"
   ]
  },
  {
   "cell_type": "code",
   "execution_count": 5,
   "metadata": {},
   "outputs": [],
   "source": [
    "frame = [\n",
    "  {'role': 'passer', 'x': 5, 'y': 5},\n",
    "  {'role': 'rusher', 'x': 1, 'y': 9},\n",
    "  {'role': 'rusher', 'x': 9, 'y': 9},\n",
    "  {'role': 'rusher', 'x': 1, 'y': 1},\n",
    "  {'role': 'rusher', 'x': 9, 'y': 1},\n",
    "  {'role': 'blocker', 'x': 0, 'y': 9},\n",
    "  {'role': 'blocker', 'x': 10, 'y': 9},\n",
    "  {'role': 'blocker', 'x': 0, 'y': 1},\n",
    "  {'role': 'blocker', 'x': 10, 'y': 1},\n",
    "]"
   ]
  },
  {
   "cell_type": "code",
   "execution_count": 6,
   "metadata": {},
   "outputs": [
    {
     "name": "stdout",
     "output_type": "stream",
     "text": [
      "23.0\n",
      "[(8.0, 4.0), (9.0, 5.0), (5.0, 9.0), (1.0, 5.0), (2.0, 4.0)]\n"
     ]
    }
   ],
   "source": [
    "pocket_area = voronoi_rushers_only(frame)\n",
    "print(pocket_area.area)\n",
    "print(pocket_area.metadata.vertices)"
   ]
  }
 ],
 "metadata": {
  "kernelspec": {
   "display_name": "Python 3 (ipykernel)",
   "language": "python",
   "name": "python3"
  },
  "language_info": {
   "codemirror_mode": {
    "name": "ipython",
    "version": 3
   },
   "file_extension": ".py",
   "mimetype": "text/x-python",
   "name": "python",
   "nbconvert_exporter": "python",
   "pygments_lexer": "ipython3",
   "version": "3.8.13"
  },
  "vscode": {
   "interpreter": {
    "hash": "32851c0586613b673c0e930c323ba937886b2f699c9a23a5a6ddc560d53801f6"
   }
  }
 },
 "nbformat": 4,
 "nbformat_minor": 2
}
