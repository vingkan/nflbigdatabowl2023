{
 "cells": [
  {
   "cell_type": "code",
   "execution_count": 2,
   "id": "50fadc7e",
   "metadata": {},
   "outputs": [],
   "source": [
    "%load_ext autoreload\n",
    "%autoreload 2"
   ]
  },
  {
   "cell_type": "code",
   "execution_count": 3,
   "id": "e6e568a4",
   "metadata": {},
   "outputs": [],
   "source": [
    "import sys\n",
    "DIR = \"/workspace/nflbigdatabowl2023\"\n",
    "sys.path.append(DIR)"
   ]
  },
  {
   "cell_type": "code",
   "execution_count": 4,
   "id": "e8136fe5",
   "metadata": {},
   "outputs": [],
   "source": [
    "import math\n",
    "from ast import literal_eval\n",
    "\n",
    "import pandas as pd\n",
    "import numpy as np\n",
    "import matplotlib.pyplot as plt\n",
    "\n",
    "from src.pipeline.flows.main import main_flow\n",
    "from src.visualization.interactive_play_selector import create_interactive_play_selector"
   ]
  },
  {
   "cell_type": "code",
   "execution_count": 5,
   "id": "4f9b5221",
   "metadata": {},
   "outputs": [
    {
     "name": "stderr",
     "output_type": "stream",
     "text": [
      "/home/gitpod/.pyenv/versions/3.8.13/lib/python3.8/contextlib.py:120: SAWarning: Skipped unsupported reflection of expression-based index ix_flow_run__coalesce_start_time_expected_start_time_desc\n",
      "  next(self.gen)\n",
      "/home/gitpod/.pyenv/versions/3.8.13/lib/python3.8/contextlib.py:120: SAWarning: Skipped unsupported reflection of expression-based index ix_flow_run__coalesce_start_time_expected_start_time_asc\n",
      "  next(self.gen)\n"
     ]
    },
    {
     "data": {
      "text/html": [
       "<pre style=\"white-space:pre;overflow-x:auto;line-height:normal;font-family:Menlo,'DejaVu Sans Mono',consolas,'Courier New',monospace\">04:50:10.156 | <span style=\"color: #008080; text-decoration-color: #008080\">INFO</span>    | prefect.engine - Created flow run<span style=\"color: #800080; text-decoration-color: #800080\"> 'azure-junglefowl'</span> for flow<span style=\"color: #800080; text-decoration-color: #800080; font-weight: bold\"> 'main-flow'</span>\n",
       "</pre>\n"
      ],
      "text/plain": [
       "04:50:10.156 | \u001b[36mINFO\u001b[0m    | prefect.engine - Created flow run\u001b[35m 'azure-junglefowl'\u001b[0m for flow\u001b[1;35m 'main-flow'\u001b[0m\n"
      ]
     },
     "metadata": {},
     "output_type": "display_data"
    },
    {
     "data": {
      "text/html": [
       "<pre style=\"white-space:pre;overflow-x:auto;line-height:normal;font-family:Menlo,'DejaVu Sans Mono',consolas,'Courier New',monospace\">04:50:10.573 | <span style=\"color: #008080; text-decoration-color: #008080\">INFO</span>    | Flow run<span style=\"color: #800080; text-decoration-color: #800080\"> 'azure-junglefowl'</span> - Created task run 'read_csv-3609c996-0' for task 'read_csv'\n",
       "</pre>\n"
      ],
      "text/plain": [
       "04:50:10.573 | \u001b[36mINFO\u001b[0m    | Flow run\u001b[35m 'azure-junglefowl'\u001b[0m - Created task run 'read_csv-3609c996-0' for task 'read_csv'\n"
      ]
     },
     "metadata": {},
     "output_type": "display_data"
    },
    {
     "data": {
      "text/html": [
       "<pre style=\"white-space:pre;overflow-x:auto;line-height:normal;font-family:Menlo,'DejaVu Sans Mono',consolas,'Courier New',monospace\">04:50:10.581 | <span style=\"color: #008080; text-decoration-color: #008080\">INFO</span>    | Flow run<span style=\"color: #800080; text-decoration-color: #800080\"> 'azure-junglefowl'</span> - Executing 'read_csv-3609c996-0' immediately...\n",
       "</pre>\n"
      ],
      "text/plain": [
       "04:50:10.581 | \u001b[36mINFO\u001b[0m    | Flow run\u001b[35m 'azure-junglefowl'\u001b[0m - Executing 'read_csv-3609c996-0' immediately...\n"
      ]
     },
     "metadata": {},
     "output_type": "display_data"
    },
    {
     "data": {
      "text/html": [
       "<pre style=\"white-space:pre;overflow-x:auto;line-height:normal;font-family:Menlo,'DejaVu Sans Mono',consolas,'Courier New',monospace\">04:50:11.311 | <span style=\"color: #008080; text-decoration-color: #008080\">INFO</span>    | Task run 'read_csv-3609c996-0' - Finished in state <span style=\"color: #008000; text-decoration-color: #008000\">Completed</span>()\n",
       "</pre>\n"
      ],
      "text/plain": [
       "04:50:11.311 | \u001b[36mINFO\u001b[0m    | Task run 'read_csv-3609c996-0' - Finished in state \u001b[32mCompleted\u001b[0m()\n"
      ]
     },
     "metadata": {},
     "output_type": "display_data"
    },
    {
     "data": {
      "text/html": [
       "<pre style=\"white-space:pre;overflow-x:auto;line-height:normal;font-family:Menlo,'DejaVu Sans Mono',consolas,'Courier New',monospace\">04:50:11.383 | <span style=\"color: #008080; text-decoration-color: #008080\">INFO</span>    | Flow run<span style=\"color: #800080; text-decoration-color: #800080\"> 'azure-junglefowl'</span> - Created task run 'read_csv-3609c996-1' for task 'read_csv'\n",
       "</pre>\n"
      ],
      "text/plain": [
       "04:50:11.383 | \u001b[36mINFO\u001b[0m    | Flow run\u001b[35m 'azure-junglefowl'\u001b[0m - Created task run 'read_csv-3609c996-1' for task 'read_csv'\n"
      ]
     },
     "metadata": {},
     "output_type": "display_data"
    },
    {
     "data": {
      "text/html": [
       "<pre style=\"white-space:pre;overflow-x:auto;line-height:normal;font-family:Menlo,'DejaVu Sans Mono',consolas,'Courier New',monospace\">04:50:11.387 | <span style=\"color: #008080; text-decoration-color: #008080\">INFO</span>    | Flow run<span style=\"color: #800080; text-decoration-color: #800080\"> 'azure-junglefowl'</span> - Executing 'read_csv-3609c996-1' immediately...\n",
       "</pre>\n"
      ],
      "text/plain": [
       "04:50:11.387 | \u001b[36mINFO\u001b[0m    | Flow run\u001b[35m 'azure-junglefowl'\u001b[0m - Executing 'read_csv-3609c996-1' immediately...\n"
      ]
     },
     "metadata": {},
     "output_type": "display_data"
    },
    {
     "data": {
      "text/html": [
       "<pre style=\"white-space:pre;overflow-x:auto;line-height:normal;font-family:Menlo,'DejaVu Sans Mono',consolas,'Courier New',monospace\">04:50:11.661 | <span style=\"color: #008080; text-decoration-color: #008080\">INFO</span>    | Task run 'read_csv-3609c996-1' - Finished in state <span style=\"color: #008000; text-decoration-color: #008000\">Completed</span>()\n",
       "</pre>\n"
      ],
      "text/plain": [
       "04:50:11.661 | \u001b[36mINFO\u001b[0m    | Task run 'read_csv-3609c996-1' - Finished in state \u001b[32mCompleted\u001b[0m()\n"
      ]
     },
     "metadata": {},
     "output_type": "display_data"
    },
    {
     "data": {
      "text/html": [
       "<pre style=\"white-space:pre;overflow-x:auto;line-height:normal;font-family:Menlo,'DejaVu Sans Mono',consolas,'Courier New',monospace\">04:50:11.737 | <span style=\"color: #008080; text-decoration-color: #008080\">INFO</span>    | Flow run<span style=\"color: #800080; text-decoration-color: #800080\"> 'azure-junglefowl'</span> - Created task run 'read_csv-3609c996-2' for task 'read_csv'\n",
       "</pre>\n"
      ],
      "text/plain": [
       "04:50:11.737 | \u001b[36mINFO\u001b[0m    | Flow run\u001b[35m 'azure-junglefowl'\u001b[0m - Created task run 'read_csv-3609c996-2' for task 'read_csv'\n"
      ]
     },
     "metadata": {},
     "output_type": "display_data"
    },
    {
     "data": {
      "text/html": [
       "<pre style=\"white-space:pre;overflow-x:auto;line-height:normal;font-family:Menlo,'DejaVu Sans Mono',consolas,'Courier New',monospace\">04:50:11.744 | <span style=\"color: #008080; text-decoration-color: #008080\">INFO</span>    | Flow run<span style=\"color: #800080; text-decoration-color: #800080\"> 'azure-junglefowl'</span> - Executing 'read_csv-3609c996-2' immediately...\n",
       "</pre>\n"
      ],
      "text/plain": [
       "04:50:11.744 | \u001b[36mINFO\u001b[0m    | Flow run\u001b[35m 'azure-junglefowl'\u001b[0m - Executing 'read_csv-3609c996-2' immediately...\n"
      ]
     },
     "metadata": {},
     "output_type": "display_data"
    },
    {
     "data": {
      "text/html": [
       "<pre style=\"white-space:pre;overflow-x:auto;line-height:normal;font-family:Menlo,'DejaVu Sans Mono',consolas,'Courier New',monospace\">04:50:16.403 | <span style=\"color: #008080; text-decoration-color: #008080\">INFO</span>    | Task run 'read_csv-3609c996-2' - Finished in state <span style=\"color: #008000; text-decoration-color: #008000\">Completed</span>()\n",
       "</pre>\n"
      ],
      "text/plain": [
       "04:50:16.403 | \u001b[36mINFO\u001b[0m    | Task run 'read_csv-3609c996-2' - Finished in state \u001b[32mCompleted\u001b[0m()\n"
      ]
     },
     "metadata": {},
     "output_type": "display_data"
    },
    {
     "data": {
      "text/html": [
       "<pre style=\"white-space:pre;overflow-x:auto;line-height:normal;font-family:Menlo,'DejaVu Sans Mono',consolas,'Courier New',monospace\">04:50:16.493 | <span style=\"color: #008080; text-decoration-color: #008080\">INFO</span>    | Flow run<span style=\"color: #800080; text-decoration-color: #800080\"> 'azure-junglefowl'</span> - Created task run 'limit_by_keys-3d51749e-0' for task 'limit_by_keys'\n",
       "</pre>\n"
      ],
      "text/plain": [
       "04:50:16.493 | \u001b[36mINFO\u001b[0m    | Flow run\u001b[35m 'azure-junglefowl'\u001b[0m - Created task run 'limit_by_keys-3d51749e-0' for task 'limit_by_keys'\n"
      ]
     },
     "metadata": {},
     "output_type": "display_data"
    },
    {
     "data": {
      "text/html": [
       "<pre style=\"white-space:pre;overflow-x:auto;line-height:normal;font-family:Menlo,'DejaVu Sans Mono',consolas,'Courier New',monospace\">04:50:16.500 | <span style=\"color: #008080; text-decoration-color: #008080\">INFO</span>    | Flow run<span style=\"color: #800080; text-decoration-color: #800080\"> 'azure-junglefowl'</span> - Executing 'limit_by_keys-3d51749e-0' immediately...\n",
       "</pre>\n"
      ],
      "text/plain": [
       "04:50:16.500 | \u001b[36mINFO\u001b[0m    | Flow run\u001b[35m 'azure-junglefowl'\u001b[0m - Executing 'limit_by_keys-3d51749e-0' immediately...\n"
      ]
     },
     "metadata": {},
     "output_type": "display_data"
    },
    {
     "data": {
      "text/html": [
       "<pre style=\"white-space:pre;overflow-x:auto;line-height:normal;font-family:Menlo,'DejaVu Sans Mono',consolas,'Courier New',monospace\">04:50:17.987 | <span style=\"color: #008080; text-decoration-color: #008080\">INFO</span>    | Task run 'limit_by_keys-3d51749e-0' - Finished in state <span style=\"color: #008000; text-decoration-color: #008000\">Completed</span>()\n",
       "</pre>\n"
      ],
      "text/plain": [
       "04:50:17.987 | \u001b[36mINFO\u001b[0m    | Task run 'limit_by_keys-3d51749e-0' - Finished in state \u001b[32mCompleted\u001b[0m()\n"
      ]
     },
     "metadata": {},
     "output_type": "display_data"
    },
    {
     "data": {
      "text/html": [
       "<pre style=\"white-space:pre;overflow-x:auto;line-height:normal;font-family:Menlo,'DejaVu Sans Mono',consolas,'Courier New',monospace\">04:50:18.082 | <span style=\"color: #008080; text-decoration-color: #008080\">INFO</span>    | Flow run<span style=\"color: #800080; text-decoration-color: #800080\"> 'azure-junglefowl'</span> - Created task run 'limit_by_child_keys-4238f776-0' for task 'limit_by_child_keys'\n",
       "</pre>\n"
      ],
      "text/plain": [
       "04:50:18.082 | \u001b[36mINFO\u001b[0m    | Flow run\u001b[35m 'azure-junglefowl'\u001b[0m - Created task run 'limit_by_child_keys-4238f776-0' for task 'limit_by_child_keys'\n"
      ]
     },
     "metadata": {},
     "output_type": "display_data"
    },
    {
     "data": {
      "text/html": [
       "<pre style=\"white-space:pre;overflow-x:auto;line-height:normal;font-family:Menlo,'DejaVu Sans Mono',consolas,'Courier New',monospace\">04:50:18.087 | <span style=\"color: #008080; text-decoration-color: #008080\">INFO</span>    | Flow run<span style=\"color: #800080; text-decoration-color: #800080\"> 'azure-junglefowl'</span> - Executing 'limit_by_child_keys-4238f776-0' immediately...\n",
       "</pre>\n"
      ],
      "text/plain": [
       "04:50:18.087 | \u001b[36mINFO\u001b[0m    | Flow run\u001b[35m 'azure-junglefowl'\u001b[0m - Executing 'limit_by_child_keys-4238f776-0' immediately...\n"
      ]
     },
     "metadata": {},
     "output_type": "display_data"
    },
    {
     "data": {
      "text/html": [
       "<pre style=\"white-space:pre;overflow-x:auto;line-height:normal;font-family:Menlo,'DejaVu Sans Mono',consolas,'Courier New',monospace\">04:50:18.356 | <span style=\"color: #008080; text-decoration-color: #008080\">INFO</span>    | Task run 'limit_by_child_keys-4238f776-0' - Finished in state <span style=\"color: #008000; text-decoration-color: #008000\">Completed</span>()\n",
       "</pre>\n"
      ],
      "text/plain": [
       "04:50:18.356 | \u001b[36mINFO\u001b[0m    | Task run 'limit_by_child_keys-4238f776-0' - Finished in state \u001b[32mCompleted\u001b[0m()\n"
      ]
     },
     "metadata": {},
     "output_type": "display_data"
    },
    {
     "data": {
      "text/html": [
       "<pre style=\"white-space:pre;overflow-x:auto;line-height:normal;font-family:Menlo,'DejaVu Sans Mono',consolas,'Courier New',monospace\">04:50:18.447 | <span style=\"color: #008080; text-decoration-color: #008080\">INFO</span>    | Flow run<span style=\"color: #800080; text-decoration-color: #800080\"> 'azure-junglefowl'</span> - Created task run 'align_tracking_data-ea7afe30-0' for task 'align_tracking_data'\n",
       "</pre>\n"
      ],
      "text/plain": [
       "04:50:18.447 | \u001b[36mINFO\u001b[0m    | Flow run\u001b[35m 'azure-junglefowl'\u001b[0m - Created task run 'align_tracking_data-ea7afe30-0' for task 'align_tracking_data'\n"
      ]
     },
     "metadata": {},
     "output_type": "display_data"
    },
    {
     "data": {
      "text/html": [
       "<pre style=\"white-space:pre;overflow-x:auto;line-height:normal;font-family:Menlo,'DejaVu Sans Mono',consolas,'Courier New',monospace\">04:50:18.456 | <span style=\"color: #008080; text-decoration-color: #008080\">INFO</span>    | Flow run<span style=\"color: #800080; text-decoration-color: #800080\"> 'azure-junglefowl'</span> - Executing 'align_tracking_data-ea7afe30-0' immediately...\n",
       "</pre>\n"
      ],
      "text/plain": [
       "04:50:18.456 | \u001b[36mINFO\u001b[0m    | Flow run\u001b[35m 'azure-junglefowl'\u001b[0m - Executing 'align_tracking_data-ea7afe30-0' immediately...\n"
      ]
     },
     "metadata": {},
     "output_type": "display_data"
    },
    {
     "data": {
      "text/html": [
       "<pre style=\"white-space:pre;overflow-x:auto;line-height:normal;font-family:Menlo,'DejaVu Sans Mono',consolas,'Courier New',monospace\">04:50:18.622 | <span style=\"color: #008080; text-decoration-color: #008080\">INFO</span>    | Task run 'align_tracking_data-ea7afe30-0' - Finished in state <span style=\"color: #008000; text-decoration-color: #008000\">Completed</span>()\n",
       "</pre>\n"
      ],
      "text/plain": [
       "04:50:18.622 | \u001b[36mINFO\u001b[0m    | Task run 'align_tracking_data-ea7afe30-0' - Finished in state \u001b[32mCompleted\u001b[0m()\n"
      ]
     },
     "metadata": {},
     "output_type": "display_data"
    },
    {
     "data": {
      "text/html": [
       "<pre style=\"white-space:pre;overflow-x:auto;line-height:normal;font-family:Menlo,'DejaVu Sans Mono',consolas,'Courier New',monospace\">04:50:18.688 | <span style=\"color: #008080; text-decoration-color: #008080\">INFO</span>    | Flow run<span style=\"color: #800080; text-decoration-color: #800080\"> 'azure-junglefowl'</span> - Created task run 'rotate_tracking_data-13ea6cce-0' for task 'rotate_tracking_data'\n",
       "</pre>\n"
      ],
      "text/plain": [
       "04:50:18.688 | \u001b[36mINFO\u001b[0m    | Flow run\u001b[35m 'azure-junglefowl'\u001b[0m - Created task run 'rotate_tracking_data-13ea6cce-0' for task 'rotate_tracking_data'\n"
      ]
     },
     "metadata": {},
     "output_type": "display_data"
    },
    {
     "data": {
      "text/html": [
       "<pre style=\"white-space:pre;overflow-x:auto;line-height:normal;font-family:Menlo,'DejaVu Sans Mono',consolas,'Courier New',monospace\">04:50:18.693 | <span style=\"color: #008080; text-decoration-color: #008080\">INFO</span>    | Flow run<span style=\"color: #800080; text-decoration-color: #800080\"> 'azure-junglefowl'</span> - Executing 'rotate_tracking_data-13ea6cce-0' immediately...\n",
       "</pre>\n"
      ],
      "text/plain": [
       "04:50:18.693 | \u001b[36mINFO\u001b[0m    | Flow run\u001b[35m 'azure-junglefowl'\u001b[0m - Executing 'rotate_tracking_data-13ea6cce-0' immediately...\n"
      ]
     },
     "metadata": {},
     "output_type": "display_data"
    },
    {
     "data": {
      "text/html": [
       "<pre style=\"white-space:pre;overflow-x:auto;line-height:normal;font-family:Menlo,'DejaVu Sans Mono',consolas,'Courier New',monospace\">04:50:18.898 | <span style=\"color: #008080; text-decoration-color: #008080\">INFO</span>    | Task run 'rotate_tracking_data-13ea6cce-0' - Finished in state <span style=\"color: #008000; text-decoration-color: #008000\">Completed</span>()\n",
       "</pre>\n"
      ],
      "text/plain": [
       "04:50:18.898 | \u001b[36mINFO\u001b[0m    | Task run 'rotate_tracking_data-13ea6cce-0' - Finished in state \u001b[32mCompleted\u001b[0m()\n"
      ]
     },
     "metadata": {},
     "output_type": "display_data"
    },
    {
     "data": {
      "text/html": [
       "<pre style=\"white-space:pre;overflow-x:auto;line-height:normal;font-family:Menlo,'DejaVu Sans Mono',consolas,'Courier New',monospace\">04:50:18.991 | <span style=\"color: #008080; text-decoration-color: #008080\">INFO</span>    | Flow run<span style=\"color: #800080; text-decoration-color: #800080\"> 'azure-junglefowl'</span> - Created task run 'get_passer_out_of_pocket-98072e46-0' for task 'get_passer_out_of_pocket'\n",
       "</pre>\n"
      ],
      "text/plain": [
       "04:50:18.991 | \u001b[36mINFO\u001b[0m    | Flow run\u001b[35m 'azure-junglefowl'\u001b[0m - Created task run 'get_passer_out_of_pocket-98072e46-0' for task 'get_passer_out_of_pocket'\n"
      ]
     },
     "metadata": {},
     "output_type": "display_data"
    },
    {
     "data": {
      "text/html": [
       "<pre style=\"white-space:pre;overflow-x:auto;line-height:normal;font-family:Menlo,'DejaVu Sans Mono',consolas,'Courier New',monospace\">04:50:18.998 | <span style=\"color: #008080; text-decoration-color: #008080\">INFO</span>    | Flow run<span style=\"color: #800080; text-decoration-color: #800080\"> 'azure-junglefowl'</span> - Executing 'get_passer_out_of_pocket-98072e46-0' immediately...\n",
       "</pre>\n"
      ],
      "text/plain": [
       "04:50:18.998 | \u001b[36mINFO\u001b[0m    | Flow run\u001b[35m 'azure-junglefowl'\u001b[0m - Executing 'get_passer_out_of_pocket-98072e46-0' immediately...\n"
      ]
     },
     "metadata": {},
     "output_type": "display_data"
    },
    {
     "data": {
      "text/html": [
       "<pre style=\"white-space:pre;overflow-x:auto;line-height:normal;font-family:Menlo,'DejaVu Sans Mono',consolas,'Courier New',monospace\">04:50:19.249 | <span style=\"color: #008080; text-decoration-color: #008080\">INFO</span>    | Task run 'get_passer_out_of_pocket-98072e46-0' - Finished in state <span style=\"color: #008000; text-decoration-color: #008000\">Completed</span>()\n",
       "</pre>\n"
      ],
      "text/plain": [
       "04:50:19.249 | \u001b[36mINFO\u001b[0m    | Task run 'get_passer_out_of_pocket-98072e46-0' - Finished in state \u001b[32mCompleted\u001b[0m()\n"
      ]
     },
     "metadata": {},
     "output_type": "display_data"
    },
    {
     "data": {
      "text/html": [
       "<pre style=\"white-space:pre;overflow-x:auto;line-height:normal;font-family:Menlo,'DejaVu Sans Mono',consolas,'Courier New',monospace\">04:50:19.340 | <span style=\"color: #008080; text-decoration-color: #008080\">INFO</span>    | Flow run<span style=\"color: #800080; text-decoration-color: #800080\"> 'azure-junglefowl'</span> - Created task run 'clean_event_data-657c8302-0' for task 'clean_event_data'\n",
       "</pre>\n"
      ],
      "text/plain": [
       "04:50:19.340 | \u001b[36mINFO\u001b[0m    | Flow run\u001b[35m 'azure-junglefowl'\u001b[0m - Created task run 'clean_event_data-657c8302-0' for task 'clean_event_data'\n"
      ]
     },
     "metadata": {},
     "output_type": "display_data"
    },
    {
     "data": {
      "text/html": [
       "<pre style=\"white-space:pre;overflow-x:auto;line-height:normal;font-family:Menlo,'DejaVu Sans Mono',consolas,'Courier New',monospace\">04:50:19.346 | <span style=\"color: #008080; text-decoration-color: #008080\">INFO</span>    | Flow run<span style=\"color: #800080; text-decoration-color: #800080\"> 'azure-junglefowl'</span> - Executing 'clean_event_data-657c8302-0' immediately...\n",
       "</pre>\n"
      ],
      "text/plain": [
       "04:50:19.346 | \u001b[36mINFO\u001b[0m    | Flow run\u001b[35m 'azure-junglefowl'\u001b[0m - Executing 'clean_event_data-657c8302-0' immediately...\n"
      ]
     },
     "metadata": {},
     "output_type": "display_data"
    },
    {
     "data": {
      "text/html": [
       "<pre style=\"white-space:pre;overflow-x:auto;line-height:normal;font-family:Menlo,'DejaVu Sans Mono',consolas,'Courier New',monospace\">04:50:19.593 | <span style=\"color: #008080; text-decoration-color: #008080\">INFO</span>    | Task run 'clean_event_data-657c8302-0' - Finished in state <span style=\"color: #008000; text-decoration-color: #008000\">Completed</span>()\n",
       "</pre>\n"
      ],
      "text/plain": [
       "04:50:19.593 | \u001b[36mINFO\u001b[0m    | Task run 'clean_event_data-657c8302-0' - Finished in state \u001b[32mCompleted\u001b[0m()\n"
      ]
     },
     "metadata": {},
     "output_type": "display_data"
    },
    {
     "data": {
      "text/html": [
       "<pre style=\"white-space:pre;overflow-x:auto;line-height:normal;font-family:Menlo,'DejaVu Sans Mono',consolas,'Courier New',monospace\">04:50:19.668 | <span style=\"color: #008080; text-decoration-color: #008080\">INFO</span>    | Flow run<span style=\"color: #800080; text-decoration-color: #800080\"> 'azure-junglefowl'</span> - Created task run 'get_pocket_eligibility-6d653879-0' for task 'get_pocket_eligibility'\n",
       "</pre>\n"
      ],
      "text/plain": [
       "04:50:19.668 | \u001b[36mINFO\u001b[0m    | Flow run\u001b[35m 'azure-junglefowl'\u001b[0m - Created task run 'get_pocket_eligibility-6d653879-0' for task 'get_pocket_eligibility'\n"
      ]
     },
     "metadata": {},
     "output_type": "display_data"
    },
    {
     "data": {
      "text/html": [
       "<pre style=\"white-space:pre;overflow-x:auto;line-height:normal;font-family:Menlo,'DejaVu Sans Mono',consolas,'Courier New',monospace\">04:50:19.672 | <span style=\"color: #008080; text-decoration-color: #008080\">INFO</span>    | Flow run<span style=\"color: #800080; text-decoration-color: #800080\"> 'azure-junglefowl'</span> - Executing 'get_pocket_eligibility-6d653879-0' immediately...\n",
       "</pre>\n"
      ],
      "text/plain": [
       "04:50:19.672 | \u001b[36mINFO\u001b[0m    | Flow run\u001b[35m 'azure-junglefowl'\u001b[0m - Executing 'get_pocket_eligibility-6d653879-0' immediately...\n"
      ]
     },
     "metadata": {},
     "output_type": "display_data"
    },
    {
     "data": {
      "text/html": [
       "<pre style=\"white-space:pre;overflow-x:auto;line-height:normal;font-family:Menlo,'DejaVu Sans Mono',consolas,'Courier New',monospace\">04:50:19.939 | <span style=\"color: #008080; text-decoration-color: #008080\">INFO</span>    | Task run 'get_pocket_eligibility-6d653879-0' - Finished in state <span style=\"color: #008000; text-decoration-color: #008000\">Completed</span>()\n",
       "</pre>\n"
      ],
      "text/plain": [
       "04:50:19.939 | \u001b[36mINFO\u001b[0m    | Task run 'get_pocket_eligibility-6d653879-0' - Finished in state \u001b[32mCompleted\u001b[0m()\n"
      ]
     },
     "metadata": {},
     "output_type": "display_data"
    },
    {
     "data": {
      "text/html": [
       "<pre style=\"white-space:pre;overflow-x:auto;line-height:normal;font-family:Menlo,'DejaVu Sans Mono',consolas,'Courier New',monospace\">04:50:20.013 | <span style=\"color: #008080; text-decoration-color: #008080\">INFO</span>    | Flow run<span style=\"color: #800080; text-decoration-color: #800080\"> 'azure-junglefowl'</span> - Created task run 'augment_tracking_events-342a9dc3-0' for task 'augment_tracking_events'\n",
       "</pre>\n"
      ],
      "text/plain": [
       "04:50:20.013 | \u001b[36mINFO\u001b[0m    | Flow run\u001b[35m 'azure-junglefowl'\u001b[0m - Created task run 'augment_tracking_events-342a9dc3-0' for task 'augment_tracking_events'\n"
      ]
     },
     "metadata": {},
     "output_type": "display_data"
    },
    {
     "data": {
      "text/html": [
       "<pre style=\"white-space:pre;overflow-x:auto;line-height:normal;font-family:Menlo,'DejaVu Sans Mono',consolas,'Courier New',monospace\">04:50:20.016 | <span style=\"color: #008080; text-decoration-color: #008080\">INFO</span>    | Flow run<span style=\"color: #800080; text-decoration-color: #800080\"> 'azure-junglefowl'</span> - Executing 'augment_tracking_events-342a9dc3-0' immediately...\n",
       "</pre>\n"
      ],
      "text/plain": [
       "04:50:20.016 | \u001b[36mINFO\u001b[0m    | Flow run\u001b[35m 'azure-junglefowl'\u001b[0m - Executing 'augment_tracking_events-342a9dc3-0' immediately...\n"
      ]
     },
     "metadata": {},
     "output_type": "display_data"
    },
    {
     "data": {
      "text/html": [
       "<pre style=\"white-space:pre;overflow-x:auto;line-height:normal;font-family:Menlo,'DejaVu Sans Mono',consolas,'Courier New',monospace\">04:50:20.166 | <span style=\"color: #008080; text-decoration-color: #008080\">INFO</span>    | Task run 'augment_tracking_events-342a9dc3-0' - Finished in state <span style=\"color: #008000; text-decoration-color: #008000\">Completed</span>()\n",
       "</pre>\n"
      ],
      "text/plain": [
       "04:50:20.166 | \u001b[36mINFO\u001b[0m    | Task run 'augment_tracking_events-342a9dc3-0' - Finished in state \u001b[32mCompleted\u001b[0m()\n"
      ]
     },
     "metadata": {},
     "output_type": "display_data"
    },
    {
     "data": {
      "text/html": [
       "<pre style=\"white-space:pre;overflow-x:auto;line-height:normal;font-family:Menlo,'DejaVu Sans Mono',consolas,'Courier New',monospace\">04:50:20.215 | <span style=\"color: #008080; text-decoration-color: #008080\">INFO</span>    | Flow run<span style=\"color: #800080; text-decoration-color: #800080\"> 'azure-junglefowl'</span> - Created task run 'transform_to_tracking_display-0c78dc49-0' for task 'transform_to_tracking_display'\n",
       "</pre>\n"
      ],
      "text/plain": [
       "04:50:20.215 | \u001b[36mINFO\u001b[0m    | Flow run\u001b[35m 'azure-junglefowl'\u001b[0m - Created task run 'transform_to_tracking_display-0c78dc49-0' for task 'transform_to_tracking_display'\n"
      ]
     },
     "metadata": {},
     "output_type": "display_data"
    },
    {
     "data": {
      "text/html": [
       "<pre style=\"white-space:pre;overflow-x:auto;line-height:normal;font-family:Menlo,'DejaVu Sans Mono',consolas,'Courier New',monospace\">04:50:20.218 | <span style=\"color: #008080; text-decoration-color: #008080\">INFO</span>    | Flow run<span style=\"color: #800080; text-decoration-color: #800080\"> 'azure-junglefowl'</span> - Executing 'transform_to_tracking_display-0c78dc49-0' immediately...\n",
       "</pre>\n"
      ],
      "text/plain": [
       "04:50:20.218 | \u001b[36mINFO\u001b[0m    | Flow run\u001b[35m 'azure-junglefowl'\u001b[0m - Executing 'transform_to_tracking_display-0c78dc49-0' immediately...\n"
      ]
     },
     "metadata": {},
     "output_type": "display_data"
    },
    {
     "data": {
      "text/html": [
       "<pre style=\"white-space:pre;overflow-x:auto;line-height:normal;font-family:Menlo,'DejaVu Sans Mono',consolas,'Courier New',monospace\">04:50:20.486 | <span style=\"color: #008080; text-decoration-color: #008080\">INFO</span>    | Task run 'transform_to_tracking_display-0c78dc49-0' - Finished in state <span style=\"color: #008000; text-decoration-color: #008000\">Completed</span>()\n",
       "</pre>\n"
      ],
      "text/plain": [
       "04:50:20.486 | \u001b[36mINFO\u001b[0m    | Task run 'transform_to_tracking_display-0c78dc49-0' - Finished in state \u001b[32mCompleted\u001b[0m()\n"
      ]
     },
     "metadata": {},
     "output_type": "display_data"
    },
    {
     "data": {
      "text/html": [
       "<pre style=\"white-space:pre;overflow-x:auto;line-height:normal;font-family:Menlo,'DejaVu Sans Mono',consolas,'Courier New',monospace\">04:50:20.537 | <span style=\"color: #008080; text-decoration-color: #008080\">INFO</span>    | Flow run<span style=\"color: #800080; text-decoration-color: #800080\"> 'azure-junglefowl'</span> - Created task run 'transform_to_frames-3446c324-0' for task 'transform_to_frames'\n",
       "</pre>\n"
      ],
      "text/plain": [
       "04:50:20.537 | \u001b[36mINFO\u001b[0m    | Flow run\u001b[35m 'azure-junglefowl'\u001b[0m - Created task run 'transform_to_frames-3446c324-0' for task 'transform_to_frames'\n"
      ]
     },
     "metadata": {},
     "output_type": "display_data"
    },
    {
     "data": {
      "text/html": [
       "<pre style=\"white-space:pre;overflow-x:auto;line-height:normal;font-family:Menlo,'DejaVu Sans Mono',consolas,'Courier New',monospace\">04:50:20.540 | <span style=\"color: #008080; text-decoration-color: #008080\">INFO</span>    | Flow run<span style=\"color: #800080; text-decoration-color: #800080\"> 'azure-junglefowl'</span> - Executing 'transform_to_frames-3446c324-0' immediately...\n",
       "</pre>\n"
      ],
      "text/plain": [
       "04:50:20.540 | \u001b[36mINFO\u001b[0m    | Flow run\u001b[35m 'azure-junglefowl'\u001b[0m - Executing 'transform_to_frames-3446c324-0' immediately...\n"
      ]
     },
     "metadata": {},
     "output_type": "display_data"
    },
    {
     "data": {
      "text/html": [
       "<pre style=\"white-space:pre;overflow-x:auto;line-height:normal;font-family:Menlo,'DejaVu Sans Mono',consolas,'Courier New',monospace\">04:50:20.751 | <span style=\"color: #008080; text-decoration-color: #008080\">INFO</span>    | Task run 'transform_to_frames-3446c324-0' - Finished in state <span style=\"color: #008000; text-decoration-color: #008000\">Completed</span>()\n",
       "</pre>\n"
      ],
      "text/plain": [
       "04:50:20.751 | \u001b[36mINFO\u001b[0m    | Task run 'transform_to_frames-3446c324-0' - Finished in state \u001b[32mCompleted\u001b[0m()\n"
      ]
     },
     "metadata": {},
     "output_type": "display_data"
    },
    {
     "data": {
      "text/html": [
       "<pre style=\"white-space:pre;overflow-x:auto;line-height:normal;font-family:Menlo,'DejaVu Sans Mono',consolas,'Courier New',monospace\">04:50:20.804 | <span style=\"color: #008080; text-decoration-color: #008080\">INFO</span>    | Flow run<span style=\"color: #800080; text-decoration-color: #800080\"> 'azure-junglefowl'</span> - Created task run 'transform_to_records_per_frame-823b8998-0' for task 'transform_to_records_per_frame'\n",
       "</pre>\n"
      ],
      "text/plain": [
       "04:50:20.804 | \u001b[36mINFO\u001b[0m    | Flow run\u001b[35m 'azure-junglefowl'\u001b[0m - Created task run 'transform_to_records_per_frame-823b8998-0' for task 'transform_to_records_per_frame'\n"
      ]
     },
     "metadata": {},
     "output_type": "display_data"
    },
    {
     "data": {
      "text/html": [
       "<pre style=\"white-space:pre;overflow-x:auto;line-height:normal;font-family:Menlo,'DejaVu Sans Mono',consolas,'Courier New',monospace\">04:50:20.808 | <span style=\"color: #008080; text-decoration-color: #008080\">INFO</span>    | Flow run<span style=\"color: #800080; text-decoration-color: #800080\"> 'azure-junglefowl'</span> - Executing 'transform_to_records_per_frame-823b8998-0' immediately...\n",
       "</pre>\n"
      ],
      "text/plain": [
       "04:50:20.808 | \u001b[36mINFO\u001b[0m    | Flow run\u001b[35m 'azure-junglefowl'\u001b[0m - Executing 'transform_to_records_per_frame-823b8998-0' immediately...\n"
      ]
     },
     "metadata": {},
     "output_type": "display_data"
    },
    {
     "data": {
      "text/html": [
       "<pre style=\"white-space:pre;overflow-x:auto;line-height:normal;font-family:Menlo,'DejaVu Sans Mono',consolas,'Courier New',monospace\">04:50:21.079 | <span style=\"color: #008080; text-decoration-color: #008080\">INFO</span>    | Task run 'transform_to_records_per_frame-823b8998-0' - Finished in state <span style=\"color: #008000; text-decoration-color: #008000\">Completed</span>()\n",
       "</pre>\n"
      ],
      "text/plain": [
       "04:50:21.079 | \u001b[36mINFO\u001b[0m    | Task run 'transform_to_records_per_frame-823b8998-0' - Finished in state \u001b[32mCompleted\u001b[0m()\n"
      ]
     },
     "metadata": {},
     "output_type": "display_data"
    },
    {
     "data": {
      "text/html": [
       "<pre style=\"white-space:pre;overflow-x:auto;line-height:normal;font-family:Menlo,'DejaVu Sans Mono',consolas,'Courier New',monospace\">04:50:21.179 | <span style=\"color: #008080; text-decoration-color: #008080\">INFO</span>    | Flow run<span style=\"color: #800080; text-decoration-color: #800080\"> 'azure-junglefowl'</span> - Created task run 'calculate_pocket_area-cc18ef62-1' for task 'calculate_pocket_area'\n",
       "</pre>\n"
      ],
      "text/plain": [
       "04:50:21.179 | \u001b[36mINFO\u001b[0m    | Flow run\u001b[35m 'azure-junglefowl'\u001b[0m - Created task run 'calculate_pocket_area-cc18ef62-1' for task 'calculate_pocket_area'\n"
      ]
     },
     "metadata": {},
     "output_type": "display_data"
    },
    {
     "data": {
      "text/html": [
       "<pre style=\"white-space:pre;overflow-x:auto;line-height:normal;font-family:Menlo,'DejaVu Sans Mono',consolas,'Courier New',monospace\">04:50:21.184 | <span style=\"color: #008080; text-decoration-color: #008080\">INFO</span>    | Flow run<span style=\"color: #800080; text-decoration-color: #800080\"> 'azure-junglefowl'</span> - Submitted task run 'calculate_pocket_area-cc18ef62-1' for execution.\n",
       "</pre>\n"
      ],
      "text/plain": [
       "04:50:21.184 | \u001b[36mINFO\u001b[0m    | Flow run\u001b[35m 'azure-junglefowl'\u001b[0m - Submitted task run 'calculate_pocket_area-cc18ef62-1' for execution.\n"
      ]
     },
     "metadata": {},
     "output_type": "display_data"
    },
    {
     "data": {
      "text/html": [
       "<pre style=\"white-space:pre;overflow-x:auto;line-height:normal;font-family:Menlo,'DejaVu Sans Mono',consolas,'Courier New',monospace\">04:50:21.236 | <span style=\"color: #008080; text-decoration-color: #008080\">INFO</span>    | Flow run<span style=\"color: #800080; text-decoration-color: #800080\"> 'azure-junglefowl'</span> - Created task run 'calculate_pocket_area-cc18ef62-0' for task 'calculate_pocket_area'\n",
       "</pre>\n"
      ],
      "text/plain": [
       "04:50:21.236 | \u001b[36mINFO\u001b[0m    | Flow run\u001b[35m 'azure-junglefowl'\u001b[0m - Created task run 'calculate_pocket_area-cc18ef62-0' for task 'calculate_pocket_area'\n"
      ]
     },
     "metadata": {},
     "output_type": "display_data"
    },
    {
     "data": {
      "text/html": [
       "<pre style=\"white-space:pre;overflow-x:auto;line-height:normal;font-family:Menlo,'DejaVu Sans Mono',consolas,'Courier New',monospace\">04:50:21.239 | <span style=\"color: #008080; text-decoration-color: #008080\">INFO</span>    | Flow run<span style=\"color: #800080; text-decoration-color: #800080\"> 'azure-junglefowl'</span> - Submitted task run 'calculate_pocket_area-cc18ef62-0' for execution.\n",
       "</pre>\n"
      ],
      "text/plain": [
       "04:50:21.239 | \u001b[36mINFO\u001b[0m    | Flow run\u001b[35m 'azure-junglefowl'\u001b[0m - Submitted task run 'calculate_pocket_area-cc18ef62-0' for execution.\n"
      ]
     },
     "metadata": {},
     "output_type": "display_data"
    },
    {
     "data": {
      "text/html": [
       "<pre style=\"white-space:pre;overflow-x:auto;line-height:normal;font-family:Menlo,'DejaVu Sans Mono',consolas,'Courier New',monospace\">04:50:21.584 | <span style=\"color: #008080; text-decoration-color: #008080\">INFO</span>    | Flow run<span style=\"color: #800080; text-decoration-color: #800080\"> 'azure-junglefowl'</span> - Created task run 'union_dataframes-8a4e3d8f-0' for task 'union_dataframes'\n",
       "</pre>\n"
      ],
      "text/plain": [
       "04:50:21.584 | \u001b[36mINFO\u001b[0m    | Flow run\u001b[35m 'azure-junglefowl'\u001b[0m - Created task run 'union_dataframes-8a4e3d8f-0' for task 'union_dataframes'\n"
      ]
     },
     "metadata": {},
     "output_type": "display_data"
    },
    {
     "data": {
      "text/html": [
       "<pre style=\"white-space:pre;overflow-x:auto;line-height:normal;font-family:Menlo,'DejaVu Sans Mono',consolas,'Courier New',monospace\">04:50:21.594 | <span style=\"color: #008080; text-decoration-color: #008080\">INFO</span>    | Flow run<span style=\"color: #800080; text-decoration-color: #800080\"> 'azure-junglefowl'</span> - Executing 'union_dataframes-8a4e3d8f-0' immediately...\n",
       "</pre>\n"
      ],
      "text/plain": [
       "04:50:21.594 | \u001b[36mINFO\u001b[0m    | Flow run\u001b[35m 'azure-junglefowl'\u001b[0m - Executing 'union_dataframes-8a4e3d8f-0' immediately...\n"
      ]
     },
     "metadata": {},
     "output_type": "display_data"
    },
    {
     "data": {
      "text/html": [
       "<pre style=\"white-space:pre;overflow-x:auto;line-height:normal;font-family:Menlo,'DejaVu Sans Mono',consolas,'Courier New',monospace\">04:50:21.725 | <span style=\"color: #008080; text-decoration-color: #008080\">INFO</span>    | Task run 'calculate_pocket_area-cc18ef62-0' - Finished in state <span style=\"color: #008000; text-decoration-color: #008000\">Completed</span>()\n",
       "</pre>\n"
      ],
      "text/plain": [
       "04:50:21.725 | \u001b[36mINFO\u001b[0m    | Task run 'calculate_pocket_area-cc18ef62-0' - Finished in state \u001b[32mCompleted\u001b[0m()\n"
      ]
     },
     "metadata": {},
     "output_type": "display_data"
    },
    {
     "data": {
      "text/html": [
       "<pre style=\"white-space:pre;overflow-x:auto;line-height:normal;font-family:Menlo,'DejaVu Sans Mono',consolas,'Courier New',monospace\">04:50:21.917 | <span style=\"color: #008080; text-decoration-color: #008080\">INFO</span>    | Task run 'calculate_pocket_area-cc18ef62-1' - Finished in state <span style=\"color: #008000; text-decoration-color: #008000\">Completed</span>()\n",
       "</pre>\n"
      ],
      "text/plain": [
       "04:50:21.917 | \u001b[36mINFO\u001b[0m    | Task run 'calculate_pocket_area-cc18ef62-1' - Finished in state \u001b[32mCompleted\u001b[0m()\n"
      ]
     },
     "metadata": {},
     "output_type": "display_data"
    },
    {
     "data": {
      "text/html": [
       "<pre style=\"white-space:pre;overflow-x:auto;line-height:normal;font-family:Menlo,'DejaVu Sans Mono',consolas,'Courier New',monospace\">04:50:22.124 | <span style=\"color: #008080; text-decoration-color: #008080\">INFO</span>    | Task run 'union_dataframes-8a4e3d8f-0' - Finished in state <span style=\"color: #008000; text-decoration-color: #008000\">Completed</span>()\n",
       "</pre>\n"
      ],
      "text/plain": [
       "04:50:22.124 | \u001b[36mINFO\u001b[0m    | Task run 'union_dataframes-8a4e3d8f-0' - Finished in state \u001b[32mCompleted\u001b[0m()\n"
      ]
     },
     "metadata": {},
     "output_type": "display_data"
    },
    {
     "data": {
      "text/html": [
       "<pre style=\"white-space:pre;overflow-x:auto;line-height:normal;font-family:Menlo,'DejaVu Sans Mono',consolas,'Courier New',monospace\">04:50:22.203 | <span style=\"color: #008080; text-decoration-color: #008080\">INFO</span>    | Flow run<span style=\"color: #800080; text-decoration-color: #800080\"> 'azure-junglefowl'</span> - Created task run 'get_frames_for_time_windows-182f3eb1-0' for task 'get_frames_for_time_windows'\n",
       "</pre>\n"
      ],
      "text/plain": [
       "04:50:22.203 | \u001b[36mINFO\u001b[0m    | Flow run\u001b[35m 'azure-junglefowl'\u001b[0m - Created task run 'get_frames_for_time_windows-182f3eb1-0' for task 'get_frames_for_time_windows'\n"
      ]
     },
     "metadata": {},
     "output_type": "display_data"
    },
    {
     "data": {
      "text/html": [
       "<pre style=\"white-space:pre;overflow-x:auto;line-height:normal;font-family:Menlo,'DejaVu Sans Mono',consolas,'Courier New',monospace\">04:50:22.209 | <span style=\"color: #008080; text-decoration-color: #008080\">INFO</span>    | Flow run<span style=\"color: #800080; text-decoration-color: #800080\"> 'azure-junglefowl'</span> - Executing 'get_frames_for_time_windows-182f3eb1-0' immediately...\n",
       "</pre>\n"
      ],
      "text/plain": [
       "04:50:22.209 | \u001b[36mINFO\u001b[0m    | Flow run\u001b[35m 'azure-junglefowl'\u001b[0m - Executing 'get_frames_for_time_windows-182f3eb1-0' immediately...\n"
      ]
     },
     "metadata": {},
     "output_type": "display_data"
    },
    {
     "data": {
      "text/html": [
       "<pre style=\"white-space:pre;overflow-x:auto;line-height:normal;font-family:Menlo,'DejaVu Sans Mono',consolas,'Courier New',monospace\">04:50:22.490 | <span style=\"color: #008080; text-decoration-color: #008080\">INFO</span>    | Task run 'get_frames_for_time_windows-182f3eb1-0' - Finished in state <span style=\"color: #008000; text-decoration-color: #008000\">Completed</span>()\n",
       "</pre>\n"
      ],
      "text/plain": [
       "04:50:22.490 | \u001b[36mINFO\u001b[0m    | Task run 'get_frames_for_time_windows-182f3eb1-0' - Finished in state \u001b[32mCompleted\u001b[0m()\n"
      ]
     },
     "metadata": {},
     "output_type": "display_data"
    },
    {
     "data": {
      "text/html": [
       "<pre style=\"white-space:pre;overflow-x:auto;line-height:normal;font-family:Menlo,'DejaVu Sans Mono',consolas,'Courier New',monospace\">04:50:22.577 | <span style=\"color: #008080; text-decoration-color: #008080\">INFO</span>    | Flow run<span style=\"color: #800080; text-decoration-color: #800080\"> 'azure-junglefowl'</span> - Created task run 'get_play_pocket_metrics-c9059079-0' for task 'get_play_pocket_metrics'\n",
       "</pre>\n"
      ],
      "text/plain": [
       "04:50:22.577 | \u001b[36mINFO\u001b[0m    | Flow run\u001b[35m 'azure-junglefowl'\u001b[0m - Created task run 'get_play_pocket_metrics-c9059079-0' for task 'get_play_pocket_metrics'\n"
      ]
     },
     "metadata": {},
     "output_type": "display_data"
    },
    {
     "data": {
      "text/html": [
       "<pre style=\"white-space:pre;overflow-x:auto;line-height:normal;font-family:Menlo,'DejaVu Sans Mono',consolas,'Courier New',monospace\">04:50:22.582 | <span style=\"color: #008080; text-decoration-color: #008080\">INFO</span>    | Flow run<span style=\"color: #800080; text-decoration-color: #800080\"> 'azure-junglefowl'</span> - Executing 'get_play_pocket_metrics-c9059079-0' immediately...\n",
       "</pre>\n"
      ],
      "text/plain": [
       "04:50:22.582 | \u001b[36mINFO\u001b[0m    | Flow run\u001b[35m 'azure-junglefowl'\u001b[0m - Executing 'get_play_pocket_metrics-c9059079-0' immediately...\n"
      ]
     },
     "metadata": {},
     "output_type": "display_data"
    },
    {
     "data": {
      "text/html": [
       "<pre style=\"white-space:pre;overflow-x:auto;line-height:normal;font-family:Menlo,'DejaVu Sans Mono',consolas,'Courier New',monospace\">04:50:22.799 | <span style=\"color: #008080; text-decoration-color: #008080\">INFO</span>    | Task run 'get_play_pocket_metrics-c9059079-0' - Finished in state <span style=\"color: #008000; text-decoration-color: #008000\">Completed</span>()\n",
       "</pre>\n"
      ],
      "text/plain": [
       "04:50:22.799 | \u001b[36mINFO\u001b[0m    | Task run 'get_play_pocket_metrics-c9059079-0' - Finished in state \u001b[32mCompleted\u001b[0m()\n"
      ]
     },
     "metadata": {},
     "output_type": "display_data"
    },
    {
     "data": {
      "text/html": [
       "<pre style=\"white-space:pre;overflow-x:auto;line-height:normal;font-family:Menlo,'DejaVu Sans Mono',consolas,'Courier New',monospace\">04:50:22.880 | <span style=\"color: #008080; text-decoration-color: #008080\">INFO</span>    | Flow run<span style=\"color: #800080; text-decoration-color: #800080\"> 'azure-junglefowl'</span> - Created task run 'calculate_average_pocket_area_loss_per_second-c688e278-0' for task 'calculate_average_pocket_area_loss_per_second'\n",
       "</pre>\n"
      ],
      "text/plain": [
       "04:50:22.880 | \u001b[36mINFO\u001b[0m    | Flow run\u001b[35m 'azure-junglefowl'\u001b[0m - Created task run 'calculate_average_pocket_area_loss_per_second-c688e278-0' for task 'calculate_average_pocket_area_loss_per_second'\n"
      ]
     },
     "metadata": {},
     "output_type": "display_data"
    },
    {
     "data": {
      "text/html": [
       "<pre style=\"white-space:pre;overflow-x:auto;line-height:normal;font-family:Menlo,'DejaVu Sans Mono',consolas,'Courier New',monospace\">04:50:22.883 | <span style=\"color: #008080; text-decoration-color: #008080\">INFO</span>    | Flow run<span style=\"color: #800080; text-decoration-color: #800080\"> 'azure-junglefowl'</span> - Executing 'calculate_average_pocket_area_loss_per_second-c688e278-0' immediately...\n",
       "</pre>\n"
      ],
      "text/plain": [
       "04:50:22.883 | \u001b[36mINFO\u001b[0m    | Flow run\u001b[35m 'azure-junglefowl'\u001b[0m - Executing 'calculate_average_pocket_area_loss_per_second-c688e278-0' immediately...\n"
      ]
     },
     "metadata": {},
     "output_type": "display_data"
    },
    {
     "data": {
      "text/html": [
       "<pre style=\"white-space:pre;overflow-x:auto;line-height:normal;font-family:Menlo,'DejaVu Sans Mono',consolas,'Courier New',monospace\">04:50:22.976 | <span style=\"color: #008080; text-decoration-color: #008080\">INFO</span>    | Task run 'calculate_average_pocket_area_loss_per_second-c688e278-0' - Finished in state <span style=\"color: #008000; text-decoration-color: #008000\">Completed</span>()\n",
       "</pre>\n"
      ],
      "text/plain": [
       "04:50:22.976 | \u001b[36mINFO\u001b[0m    | Task run 'calculate_average_pocket_area_loss_per_second-c688e278-0' - Finished in state \u001b[32mCompleted\u001b[0m()\n"
      ]
     },
     "metadata": {},
     "output_type": "display_data"
    },
    {
     "data": {
      "text/html": [
       "<pre style=\"white-space:pre;overflow-x:auto;line-height:normal;font-family:Menlo,'DejaVu Sans Mono',consolas,'Courier New',monospace\">04:50:23.040 | <span style=\"color: #008080; text-decoration-color: #008080\">INFO</span>    | Flow run<span style=\"color: #800080; text-decoration-color: #800080\"> 'azure-junglefowl'</span> - Created task run 'write_csv-386fe2af-0' for task 'write_csv'\n",
       "</pre>\n"
      ],
      "text/plain": [
       "04:50:23.040 | \u001b[36mINFO\u001b[0m    | Flow run\u001b[35m 'azure-junglefowl'\u001b[0m - Created task run 'write_csv-386fe2af-0' for task 'write_csv'\n"
      ]
     },
     "metadata": {},
     "output_type": "display_data"
    },
    {
     "data": {
      "text/html": [
       "<pre style=\"white-space:pre;overflow-x:auto;line-height:normal;font-family:Menlo,'DejaVu Sans Mono',consolas,'Courier New',monospace\">04:50:23.044 | <span style=\"color: #008080; text-decoration-color: #008080\">INFO</span>    | Flow run<span style=\"color: #800080; text-decoration-color: #800080\"> 'azure-junglefowl'</span> - Executing 'write_csv-386fe2af-0' immediately...\n",
       "</pre>\n"
      ],
      "text/plain": [
       "04:50:23.044 | \u001b[36mINFO\u001b[0m    | Flow run\u001b[35m 'azure-junglefowl'\u001b[0m - Executing 'write_csv-386fe2af-0' immediately...\n"
      ]
     },
     "metadata": {},
     "output_type": "display_data"
    },
    {
     "data": {
      "text/html": [
       "<pre style=\"white-space:pre;overflow-x:auto;line-height:normal;font-family:Menlo,'DejaVu Sans Mono',consolas,'Courier New',monospace\">04:50:23.198 | <span style=\"color: #008080; text-decoration-color: #008080\">INFO</span>    | Task run 'write_csv-386fe2af-0' - Finished in state <span style=\"color: #008000; text-decoration-color: #008000\">Completed</span>()\n",
       "</pre>\n"
      ],
      "text/plain": [
       "04:50:23.198 | \u001b[36mINFO\u001b[0m    | Task run 'write_csv-386fe2af-0' - Finished in state \u001b[32mCompleted\u001b[0m()\n"
      ]
     },
     "metadata": {},
     "output_type": "display_data"
    },
    {
     "data": {
      "text/html": [
       "<pre style=\"white-space:pre;overflow-x:auto;line-height:normal;font-family:Menlo,'DejaVu Sans Mono',consolas,'Courier New',monospace\">04:50:23.250 | <span style=\"color: #008080; text-decoration-color: #008080\">INFO</span>    | Flow run<span style=\"color: #800080; text-decoration-color: #800080\"> 'azure-junglefowl'</span> - Created task run 'write_csv-386fe2af-1' for task 'write_csv'\n",
       "</pre>\n"
      ],
      "text/plain": [
       "04:50:23.250 | \u001b[36mINFO\u001b[0m    | Flow run\u001b[35m 'azure-junglefowl'\u001b[0m - Created task run 'write_csv-386fe2af-1' for task 'write_csv'\n"
      ]
     },
     "metadata": {},
     "output_type": "display_data"
    },
    {
     "data": {
      "text/html": [
       "<pre style=\"white-space:pre;overflow-x:auto;line-height:normal;font-family:Menlo,'DejaVu Sans Mono',consolas,'Courier New',monospace\">04:50:23.253 | <span style=\"color: #008080; text-decoration-color: #008080\">INFO</span>    | Flow run<span style=\"color: #800080; text-decoration-color: #800080\"> 'azure-junglefowl'</span> - Executing 'write_csv-386fe2af-1' immediately...\n",
       "</pre>\n"
      ],
      "text/plain": [
       "04:50:23.253 | \u001b[36mINFO\u001b[0m    | Flow run\u001b[35m 'azure-junglefowl'\u001b[0m - Executing 'write_csv-386fe2af-1' immediately...\n"
      ]
     },
     "metadata": {},
     "output_type": "display_data"
    },
    {
     "data": {
      "text/html": [
       "<pre style=\"white-space:pre;overflow-x:auto;line-height:normal;font-family:Menlo,'DejaVu Sans Mono',consolas,'Courier New',monospace\">04:50:23.429 | <span style=\"color: #008080; text-decoration-color: #008080\">INFO</span>    | Task run 'write_csv-386fe2af-1' - Finished in state <span style=\"color: #008000; text-decoration-color: #008000\">Completed</span>()\n",
       "</pre>\n"
      ],
      "text/plain": [
       "04:50:23.429 | \u001b[36mINFO\u001b[0m    | Task run 'write_csv-386fe2af-1' - Finished in state \u001b[32mCompleted\u001b[0m()\n"
      ]
     },
     "metadata": {},
     "output_type": "display_data"
    },
    {
     "data": {
      "text/html": [
       "<pre style=\"white-space:pre;overflow-x:auto;line-height:normal;font-family:Menlo,'DejaVu Sans Mono',consolas,'Courier New',monospace\">04:50:23.474 | <span style=\"color: #008080; text-decoration-color: #008080\">INFO</span>    | Flow run<span style=\"color: #800080; text-decoration-color: #800080\"> 'azure-junglefowl'</span> - Created task run 'write_csv-386fe2af-2' for task 'write_csv'\n",
       "</pre>\n"
      ],
      "text/plain": [
       "04:50:23.474 | \u001b[36mINFO\u001b[0m    | Flow run\u001b[35m 'azure-junglefowl'\u001b[0m - Created task run 'write_csv-386fe2af-2' for task 'write_csv'\n"
      ]
     },
     "metadata": {},
     "output_type": "display_data"
    },
    {
     "data": {
      "text/html": [
       "<pre style=\"white-space:pre;overflow-x:auto;line-height:normal;font-family:Menlo,'DejaVu Sans Mono',consolas,'Courier New',monospace\">04:50:23.477 | <span style=\"color: #008080; text-decoration-color: #008080\">INFO</span>    | Flow run<span style=\"color: #800080; text-decoration-color: #800080\"> 'azure-junglefowl'</span> - Executing 'write_csv-386fe2af-2' immediately...\n",
       "</pre>\n"
      ],
      "text/plain": [
       "04:50:23.477 | \u001b[36mINFO\u001b[0m    | Flow run\u001b[35m 'azure-junglefowl'\u001b[0m - Executing 'write_csv-386fe2af-2' immediately...\n"
      ]
     },
     "metadata": {},
     "output_type": "display_data"
    },
    {
     "data": {
      "text/html": [
       "<pre style=\"white-space:pre;overflow-x:auto;line-height:normal;font-family:Menlo,'DejaVu Sans Mono',consolas,'Courier New',monospace\">04:50:23.686 | <span style=\"color: #008080; text-decoration-color: #008080\">INFO</span>    | Task run 'write_csv-386fe2af-2' - Finished in state <span style=\"color: #008000; text-decoration-color: #008000\">Completed</span>()\n",
       "</pre>\n"
      ],
      "text/plain": [
       "04:50:23.686 | \u001b[36mINFO\u001b[0m    | Task run 'write_csv-386fe2af-2' - Finished in state \u001b[32mCompleted\u001b[0m()\n"
      ]
     },
     "metadata": {},
     "output_type": "display_data"
    },
    {
     "data": {
      "text/html": [
       "<pre style=\"white-space:pre;overflow-x:auto;line-height:normal;font-family:Menlo,'DejaVu Sans Mono',consolas,'Courier New',monospace\">04:50:23.771 | <span style=\"color: #008080; text-decoration-color: #008080\">INFO</span>    | Flow run<span style=\"color: #800080; text-decoration-color: #800080\"> 'azure-junglefowl'</span> - Created task run 'write_csv-386fe2af-3' for task 'write_csv'\n",
       "</pre>\n"
      ],
      "text/plain": [
       "04:50:23.771 | \u001b[36mINFO\u001b[0m    | Flow run\u001b[35m 'azure-junglefowl'\u001b[0m - Created task run 'write_csv-386fe2af-3' for task 'write_csv'\n"
      ]
     },
     "metadata": {},
     "output_type": "display_data"
    },
    {
     "data": {
      "text/html": [
       "<pre style=\"white-space:pre;overflow-x:auto;line-height:normal;font-family:Menlo,'DejaVu Sans Mono',consolas,'Courier New',monospace\">04:50:23.777 | <span style=\"color: #008080; text-decoration-color: #008080\">INFO</span>    | Flow run<span style=\"color: #800080; text-decoration-color: #800080\"> 'azure-junglefowl'</span> - Executing 'write_csv-386fe2af-3' immediately...\n",
       "</pre>\n"
      ],
      "text/plain": [
       "04:50:23.777 | \u001b[36mINFO\u001b[0m    | Flow run\u001b[35m 'azure-junglefowl'\u001b[0m - Executing 'write_csv-386fe2af-3' immediately...\n"
      ]
     },
     "metadata": {},
     "output_type": "display_data"
    },
    {
     "data": {
      "text/html": [
       "<pre style=\"white-space:pre;overflow-x:auto;line-height:normal;font-family:Menlo,'DejaVu Sans Mono',consolas,'Courier New',monospace\">04:50:24.004 | <span style=\"color: #008080; text-decoration-color: #008080\">INFO</span>    | Task run 'write_csv-386fe2af-3' - Finished in state <span style=\"color: #008000; text-decoration-color: #008000\">Completed</span>()\n",
       "</pre>\n"
      ],
      "text/plain": [
       "04:50:24.004 | \u001b[36mINFO\u001b[0m    | Task run 'write_csv-386fe2af-3' - Finished in state \u001b[32mCompleted\u001b[0m()\n"
      ]
     },
     "metadata": {},
     "output_type": "display_data"
    },
    {
     "data": {
      "text/html": [
       "<pre style=\"white-space:pre;overflow-x:auto;line-height:normal;font-family:Menlo,'DejaVu Sans Mono',consolas,'Courier New',monospace\">04:50:24.096 | <span style=\"color: #008080; text-decoration-color: #008080\">INFO</span>    | Flow run<span style=\"color: #800080; text-decoration-color: #800080\"> 'azure-junglefowl'</span> - Created task run 'write_csv-386fe2af-4' for task 'write_csv'\n",
       "</pre>\n"
      ],
      "text/plain": [
       "04:50:24.096 | \u001b[36mINFO\u001b[0m    | Flow run\u001b[35m 'azure-junglefowl'\u001b[0m - Created task run 'write_csv-386fe2af-4' for task 'write_csv'\n"
      ]
     },
     "metadata": {},
     "output_type": "display_data"
    },
    {
     "data": {
      "text/html": [
       "<pre style=\"white-space:pre;overflow-x:auto;line-height:normal;font-family:Menlo,'DejaVu Sans Mono',consolas,'Courier New',monospace\">04:50:24.101 | <span style=\"color: #008080; text-decoration-color: #008080\">INFO</span>    | Flow run<span style=\"color: #800080; text-decoration-color: #800080\"> 'azure-junglefowl'</span> - Executing 'write_csv-386fe2af-4' immediately...\n",
       "</pre>\n"
      ],
      "text/plain": [
       "04:50:24.101 | \u001b[36mINFO\u001b[0m    | Flow run\u001b[35m 'azure-junglefowl'\u001b[0m - Executing 'write_csv-386fe2af-4' immediately...\n"
      ]
     },
     "metadata": {},
     "output_type": "display_data"
    },
    {
     "data": {
      "text/html": [
       "<pre style=\"white-space:pre;overflow-x:auto;line-height:normal;font-family:Menlo,'DejaVu Sans Mono',consolas,'Courier New',monospace\">04:50:24.312 | <span style=\"color: #008080; text-decoration-color: #008080\">INFO</span>    | Task run 'write_csv-386fe2af-4' - Finished in state <span style=\"color: #008000; text-decoration-color: #008000\">Completed</span>()\n",
       "</pre>\n"
      ],
      "text/plain": [
       "04:50:24.312 | \u001b[36mINFO\u001b[0m    | Task run 'write_csv-386fe2af-4' - Finished in state \u001b[32mCompleted\u001b[0m()\n"
      ]
     },
     "metadata": {},
     "output_type": "display_data"
    },
    {
     "data": {
      "text/html": [
       "<pre style=\"white-space:pre;overflow-x:auto;line-height:normal;font-family:Menlo,'DejaVu Sans Mono',consolas,'Courier New',monospace\">04:50:24.377 | <span style=\"color: #008080; text-decoration-color: #008080\">INFO</span>    | Flow run<span style=\"color: #800080; text-decoration-color: #800080\"> 'azure-junglefowl'</span> - Created task run 'write_csv-386fe2af-5' for task 'write_csv'\n",
       "</pre>\n"
      ],
      "text/plain": [
       "04:50:24.377 | \u001b[36mINFO\u001b[0m    | Flow run\u001b[35m 'azure-junglefowl'\u001b[0m - Created task run 'write_csv-386fe2af-5' for task 'write_csv'\n"
      ]
     },
     "metadata": {},
     "output_type": "display_data"
    },
    {
     "data": {
      "text/html": [
       "<pre style=\"white-space:pre;overflow-x:auto;line-height:normal;font-family:Menlo,'DejaVu Sans Mono',consolas,'Courier New',monospace\">04:50:24.380 | <span style=\"color: #008080; text-decoration-color: #008080\">INFO</span>    | Flow run<span style=\"color: #800080; text-decoration-color: #800080\"> 'azure-junglefowl'</span> - Executing 'write_csv-386fe2af-5' immediately...\n",
       "</pre>\n"
      ],
      "text/plain": [
       "04:50:24.380 | \u001b[36mINFO\u001b[0m    | Flow run\u001b[35m 'azure-junglefowl'\u001b[0m - Executing 'write_csv-386fe2af-5' immediately...\n"
      ]
     },
     "metadata": {},
     "output_type": "display_data"
    },
    {
     "data": {
      "text/html": [
       "<pre style=\"white-space:pre;overflow-x:auto;line-height:normal;font-family:Menlo,'DejaVu Sans Mono',consolas,'Courier New',monospace\">04:50:24.502 | <span style=\"color: #008080; text-decoration-color: #008080\">INFO</span>    | Task run 'write_csv-386fe2af-5' - Finished in state <span style=\"color: #008000; text-decoration-color: #008000\">Completed</span>()\n",
       "</pre>\n"
      ],
      "text/plain": [
       "04:50:24.502 | \u001b[36mINFO\u001b[0m    | Task run 'write_csv-386fe2af-5' - Finished in state \u001b[32mCompleted\u001b[0m()\n"
      ]
     },
     "metadata": {},
     "output_type": "display_data"
    },
    {
     "data": {
      "text/html": [
       "<pre style=\"white-space:pre;overflow-x:auto;line-height:normal;font-family:Menlo,'DejaVu Sans Mono',consolas,'Courier New',monospace\">04:50:24.597 | <span style=\"color: #008080; text-decoration-color: #008080\">INFO</span>    | Flow run<span style=\"color: #800080; text-decoration-color: #800080\"> 'azure-junglefowl'</span> - Finished in state <span style=\"color: #008000; text-decoration-color: #008000\">Completed</span>('All states completed.')\n",
       "</pre>\n"
      ],
      "text/plain": [
       "04:50:24.597 | \u001b[36mINFO\u001b[0m    | Flow run\u001b[35m 'azure-junglefowl'\u001b[0m - Finished in state \u001b[32mCompleted\u001b[0m('All states completed.')\n"
      ]
     },
     "metadata": {},
     "output_type": "display_data"
    }
   ],
   "source": [
    "_ = main_flow(max_games=3, max_plays=3)"
   ]
  },
  {
   "cell_type": "code",
   "execution_count": 6,
   "id": "baa4de16",
   "metadata": {},
   "outputs": [
    {
     "data": {
      "text/plain": [
       "[{'role': 'passer', 'x': 0, 'y': 5},\n",
       " {'role': 'blocker', 'x': 0, 'y': 0},\n",
       " {'role': 'blocker', 'x': 1, 'y': 2},\n",
       " {'role': 'blocker', 'x': 5, 'y': 0},\n",
       " {'role': 'blocker', 'x': 5, 'y': 5},\n",
       " {'role': 'blocker', 'x': 0, 'y': -2},\n",
       " {'role': 'rusher', 'x': 0, 'y': 6},\n",
       " {'role': 'rusher', 'x': 0, 'y': 4}]"
      ]
     },
     "execution_count": 6,
     "metadata": {},
     "output_type": "execute_result"
    }
   ],
   "source": [
    "df_play_metrics = pd.read_csv(f\"{DIR}/data/outputs/play_metrics.csv\")\n",
    "df_tracking = pd.read_csv(f\"{DIR}/data/raw/pffScoutingData.csv\")\n",
    "df_frames = pd.read_csv(f\"{DIR}/data/outputs/frames.csv\")\n",
    "df_frame_8 = df_frames.query(\"gameId == 2021090900 and playId == 97 and frameId == 8\")\n",
    "frame = [\n",
    "        {\"role\": \"passer\", \"x\": 0, \"y\": 5},\n",
    "        {\"role\": \"blocker\", \"x\": 0, \"y\": 0},\n",
    "        {\"role\": \"blocker\", \"x\": 1, \"y\": 2},\n",
    "        {\"role\": \"blocker\", \"x\": 5, \"y\": 0},\n",
    "        {\"role\": \"blocker\", \"x\": 5, \"y\": 5},\n",
    "        {\"role\": \"blocker\", \"x\": 0, \"y\": -2},\n",
    "        {\"role\": \"rusher\", \"x\": 0, \"y\": 6},\n",
    "        {\"role\": \"rusher\", \"x\": 0, \"y\": 4},\n",
    "    ]\n",
    "frame"
   ]
  },
  {
   "cell_type": "code",
   "execution_count": 14,
   "id": "2ac58a1b",
   "metadata": {},
   "outputs": [],
   "source": [
    "from typing import Dict, List, Tuple\n",
    "\n",
    "import numpy as np\n",
    "from scipy.spatial import ConvexHull\n",
    "\n",
    "from src.metrics.pocket_area.base import (\n",
    "    InvalidPocketError,\n",
    "    PocketArea,\n",
    "    PocketAreaMetadata,\n",
    ")\n",
    "from src.metrics.pocket_area.helpers import (\n",
    "    get_distance,\n",
    "    get_location,\n",
    "    split_records_by_role,\n",
    ")\n",
    "\n",
    "from src.metrics.pocket_area.passer_radius_area import (\n",
    "    find_closest_player\n",
    ")\n",
    "\n",
    "from src.metrics.pocket_area.passer_radius_area import (\n",
    "    get_passBlocker_convexHull_area\n",
    ")\n",
    "\n",
    "\"\"\"\n",
    "Adaptive Corvex Hull Pseudocode:\n",
    "\n",
    "    1. Form a list of the passer, blockers, and rushers\n",
    "    2. Find the rusher who is closest to the passer and the distance between them\n",
    "    3. Filter out all players whose distance from the passer is greater than that distance\n",
    "    4. If the filtered list has more than two players, calculate the convex hull of their coordinates and return the area\n",
    "    5. If there are exactly two, calculate the area of a circle with that distance as the radius, then multiply that area by a proportion (let's say 0.25 for now) to represent the cone in front of the passer\n",
    "    6. If there are fewer than two players in the filtered list raise an exception because something has gone wrong\n",
    "\n",
    "\"\"\"\n",
    "\n",
    "def find_closest_player_s(point: Dict, players: List[Dict], rusher_difference: float):\n",
    "    \"\"\"Returns the closest players to the given point and the distance.\n",
    "        \n",
    "        rusher_difference : acceptable difference parameter from the closest rusher \n",
    "        and any other rushers that should be considered to make the pocket\n",
    "    \"\"\"\n",
    "    if not players:\n",
    "        raise InvalidPocketError(\"No players in input.\")\n",
    "\n",
    "    closest_player: List[Dict] = []\n",
    "    closest_distance = float(\"inf\")\n",
    "\n",
    "    for player in players:\n",
    "        d = get_distance(point, player)\n",
    "        if d <= (closest_distance + rusher_difference) or not closest_player:\n",
    "            closest_player.append(player)\n",
    "            closest_distance = d\n",
    "\n",
    "    return closest_player, closest_distance\n",
    "\n",
    "def calculate_adaptive_pocket_area(frame: pd.DataFrame) -> pd.DataFrame:\n",
    "    \n",
    "    passer, blockers, rushers = split_records_by_role(frame)\n",
    "    if not rushers:\n",
    "        raise InvalidPocketError(\"No rushers in frame to make pocket.\")\n",
    "    if not passer:\n",
    "        raise InvalidPocketError(\"No passer in frame.\")\n",
    "    \n",
    "    pocket_players = rushers + [passer]\n",
    "    closest_players = find_closest_player_s(passer, rushers, 0.0)\n",
    "    print(closest_players[0])\n",
    "    if (len(closest_players[0]) >= 2):\n",
    "        get_passBlocker_convexHull_area(pocket_players)\n",
    "    else:\n",
    "        pass\n",
    "        \n",
    "    return closest_players"
   ]
  },
  {
   "cell_type": "code",
   "execution_count": 15,
   "id": "9d3254bc",
   "metadata": {},
   "outputs": [
    {
     "name": "stdout",
     "output_type": "stream",
     "text": [
      "[{'role': 'rusher', 'x': 0, 'y': 6}, {'role': 'rusher', 'x': 0, 'y': 4}]\n"
     ]
    },
    {
     "ename": "NameError",
     "evalue": "name 'get_passBlocker_convexHull_area' is not defined",
     "output_type": "error",
     "traceback": [
      "\u001b[0;31m---------------------------------------------------------------------------\u001b[0m",
      "\u001b[0;31mNameError\u001b[0m                                 Traceback (most recent call last)",
      "Cell \u001b[0;32mIn[15], line 1\u001b[0m\n\u001b[0;32m----> 1\u001b[0m \u001b[43mcalculate_adaptive_pocket_area\u001b[49m\u001b[43m(\u001b[49m\u001b[43mframe\u001b[49m\u001b[43m)\u001b[49m\n",
      "Cell \u001b[0;32mIn[14], line 65\u001b[0m, in \u001b[0;36mcalculate_adaptive_pocket_area\u001b[0;34m(frame)\u001b[0m\n\u001b[1;32m     63\u001b[0m \u001b[38;5;28mprint\u001b[39m(closest_players[\u001b[38;5;241m0\u001b[39m])\n\u001b[1;32m     64\u001b[0m \u001b[38;5;28;01mif\u001b[39;00m (\u001b[38;5;28mlen\u001b[39m(closest_players[\u001b[38;5;241m0\u001b[39m]) \u001b[38;5;241m>\u001b[39m\u001b[38;5;241m=\u001b[39m \u001b[38;5;241m2\u001b[39m):\n\u001b[0;32m---> 65\u001b[0m     \u001b[43mget_passBlocker_convexHull_area\u001b[49m(pocket_players)\n\u001b[1;32m     66\u001b[0m \u001b[38;5;28;01melse\u001b[39;00m:\n\u001b[1;32m     67\u001b[0m     \u001b[38;5;28;01mpass\u001b[39;00m\n",
      "\u001b[0;31mNameError\u001b[0m: name 'get_passBlocker_convexHull_area' is not defined"
     ]
    }
   ],
   "source": [
    "calculate_adaptive_pocket_area(frame)"
   ]
  },
  {
   "cell_type": "code",
   "execution_count": null,
   "id": "8c23c363",
   "metadata": {},
   "outputs": [],
   "source": []
  }
 ],
 "metadata": {
  "kernelspec": {
   "display_name": "Python 3 (ipykernel)",
   "language": "python",
   "name": "python3"
  },
  "language_info": {
   "codemirror_mode": {
    "name": "ipython",
    "version": 3
   },
   "file_extension": ".py",
   "mimetype": "text/x-python",
   "name": "python",
   "nbconvert_exporter": "python",
   "pygments_lexer": "ipython3",
   "version": "3.8.13"
  }
 },
 "nbformat": 4,
 "nbformat_minor": 5
}
