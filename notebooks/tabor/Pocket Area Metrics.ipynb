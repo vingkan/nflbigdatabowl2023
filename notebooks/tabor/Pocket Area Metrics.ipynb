{
 "cells": [
  {
   "cell_type": "code",
   "execution_count": 1,
   "id": "8515dfaf",
   "metadata": {},
   "outputs": [],
   "source": [
    "%load_ext autoreload\n",
    "%autoreload 2"
   ]
  },
  {
   "cell_type": "code",
   "execution_count": 2,
   "id": "2a9bfad9",
   "metadata": {},
   "outputs": [],
   "source": [
    "import sys\n",
    "DIR = \"/workspace/nflbigdatabowl2023\"\n",
    "sys.path.append(DIR)"
   ]
  },
  {
   "cell_type": "code",
   "execution_count": 3,
   "id": "ceaa24e1",
   "metadata": {},
   "outputs": [],
   "source": [
    "import math\n",
    "from ast import literal_eval\n",
    "\n",
    "import pandas as pd\n",
    "import matplotlib.pyplot as plt\n",
    "\n",
    "from src.pipeline.flows.main import main_flow\n",
    "from src.visualization.interactive_play_selector import create_interactive_play_selector"
   ]
  },
  {
   "cell_type": "code",
   "execution_count": 4,
   "id": "a0d8c203",
   "metadata": {},
   "outputs": [
    {
     "name": "stderr",
     "output_type": "stream",
     "text": [
      "/home/gitpod/.pyenv/versions/3.8.13/lib/python3.8/contextlib.py:120: SAWarning: Skipped unsupported reflection of expression-based index ix_flow_run__coalesce_start_time_expected_start_time_desc\n",
      "  next(self.gen)\n",
      "/home/gitpod/.pyenv/versions/3.8.13/lib/python3.8/contextlib.py:120: SAWarning: Skipped unsupported reflection of expression-based index ix_flow_run__coalesce_start_time_expected_start_time_asc\n",
      "  next(self.gen)\n"
     ]
    },
    {
     "data": {
      "text/html": [
       "<pre style=\"white-space:pre;overflow-x:auto;line-height:normal;font-family:Menlo,'DejaVu Sans Mono',consolas,'Courier New',monospace\">18:27:37.884 | <span style=\"color: #008080; text-decoration-color: #008080\">INFO</span>    | prefect.engine - Created flow run<span style=\"color: #800080; text-decoration-color: #800080\"> 'beryl-toad'</span> for flow<span style=\"color: #800080; text-decoration-color: #800080; font-weight: bold\"> 'main-flow'</span>\n",
       "</pre>\n"
      ],
      "text/plain": [
       "18:27:37.884 | \u001b[36mINFO\u001b[0m    | prefect.engine - Created flow run\u001b[35m 'beryl-toad'\u001b[0m for flow\u001b[1;35m 'main-flow'\u001b[0m\n"
      ]
     },
     "metadata": {},
     "output_type": "display_data"
    },
    {
     "data": {
      "text/html": [
       "<pre style=\"white-space:pre;overflow-x:auto;line-height:normal;font-family:Menlo,'DejaVu Sans Mono',consolas,'Courier New',monospace\">18:27:38.118 | <span style=\"color: #008080; text-decoration-color: #008080\">INFO</span>    | Flow run<span style=\"color: #800080; text-decoration-color: #800080\"> 'beryl-toad'</span> - Created task run 'read_csv-3609c996-0' for task 'read_csv'\n",
       "</pre>\n"
      ],
      "text/plain": [
       "18:27:38.118 | \u001b[36mINFO\u001b[0m    | Flow run\u001b[35m 'beryl-toad'\u001b[0m - Created task run 'read_csv-3609c996-0' for task 'read_csv'\n"
      ]
     },
     "metadata": {},
     "output_type": "display_data"
    },
    {
     "data": {
      "text/html": [
       "<pre style=\"white-space:pre;overflow-x:auto;line-height:normal;font-family:Menlo,'DejaVu Sans Mono',consolas,'Courier New',monospace\">18:27:38.121 | <span style=\"color: #008080; text-decoration-color: #008080\">INFO</span>    | Flow run<span style=\"color: #800080; text-decoration-color: #800080\"> 'beryl-toad'</span> - Executing 'read_csv-3609c996-0' immediately...\n",
       "</pre>\n"
      ],
      "text/plain": [
       "18:27:38.121 | \u001b[36mINFO\u001b[0m    | Flow run\u001b[35m 'beryl-toad'\u001b[0m - Executing 'read_csv-3609c996-0' immediately...\n"
      ]
     },
     "metadata": {},
     "output_type": "display_data"
    },
    {
     "data": {
      "text/html": [
       "<pre style=\"white-space:pre;overflow-x:auto;line-height:normal;font-family:Menlo,'DejaVu Sans Mono',consolas,'Courier New',monospace\">18:27:38.483 | <span style=\"color: #008080; text-decoration-color: #008080\">INFO</span>    | Task run 'read_csv-3609c996-0' - Finished in state <span style=\"color: #008000; text-decoration-color: #008000\">Completed</span>()\n",
       "</pre>\n"
      ],
      "text/plain": [
       "18:27:38.483 | \u001b[36mINFO\u001b[0m    | Task run 'read_csv-3609c996-0' - Finished in state \u001b[32mCompleted\u001b[0m()\n"
      ]
     },
     "metadata": {},
     "output_type": "display_data"
    },
    {
     "data": {
      "text/html": [
       "<pre style=\"white-space:pre;overflow-x:auto;line-height:normal;font-family:Menlo,'DejaVu Sans Mono',consolas,'Courier New',monospace\">18:27:38.519 | <span style=\"color: #008080; text-decoration-color: #008080\">INFO</span>    | Flow run<span style=\"color: #800080; text-decoration-color: #800080\"> 'beryl-toad'</span> - Created task run 'read_csv-3609c996-1' for task 'read_csv'\n",
       "</pre>\n"
      ],
      "text/plain": [
       "18:27:38.519 | \u001b[36mINFO\u001b[0m    | Flow run\u001b[35m 'beryl-toad'\u001b[0m - Created task run 'read_csv-3609c996-1' for task 'read_csv'\n"
      ]
     },
     "metadata": {},
     "output_type": "display_data"
    },
    {
     "data": {
      "text/html": [
       "<pre style=\"white-space:pre;overflow-x:auto;line-height:normal;font-family:Menlo,'DejaVu Sans Mono',consolas,'Courier New',monospace\">18:27:38.522 | <span style=\"color: #008080; text-decoration-color: #008080\">INFO</span>    | Flow run<span style=\"color: #800080; text-decoration-color: #800080\"> 'beryl-toad'</span> - Executing 'read_csv-3609c996-1' immediately...\n",
       "</pre>\n"
      ],
      "text/plain": [
       "18:27:38.522 | \u001b[36mINFO\u001b[0m    | Flow run\u001b[35m 'beryl-toad'\u001b[0m - Executing 'read_csv-3609c996-1' immediately...\n"
      ]
     },
     "metadata": {},
     "output_type": "display_data"
    },
    {
     "data": {
      "text/html": [
       "<pre style=\"white-space:pre;overflow-x:auto;line-height:normal;font-family:Menlo,'DejaVu Sans Mono',consolas,'Courier New',monospace\">18:27:38.646 | <span style=\"color: #008080; text-decoration-color: #008080\">INFO</span>    | Task run 'read_csv-3609c996-1' - Finished in state <span style=\"color: #008000; text-decoration-color: #008000\">Completed</span>()\n",
       "</pre>\n"
      ],
      "text/plain": [
       "18:27:38.646 | \u001b[36mINFO\u001b[0m    | Task run 'read_csv-3609c996-1' - Finished in state \u001b[32mCompleted\u001b[0m()\n"
      ]
     },
     "metadata": {},
     "output_type": "display_data"
    },
    {
     "data": {
      "text/html": [
       "<pre style=\"white-space:pre;overflow-x:auto;line-height:normal;font-family:Menlo,'DejaVu Sans Mono',consolas,'Courier New',monospace\">18:27:38.684 | <span style=\"color: #008080; text-decoration-color: #008080\">INFO</span>    | Flow run<span style=\"color: #800080; text-decoration-color: #800080\"> 'beryl-toad'</span> - Created task run 'read_csv-3609c996-2' for task 'read_csv'\n",
       "</pre>\n"
      ],
      "text/plain": [
       "18:27:38.684 | \u001b[36mINFO\u001b[0m    | Flow run\u001b[35m 'beryl-toad'\u001b[0m - Created task run 'read_csv-3609c996-2' for task 'read_csv'\n"
      ]
     },
     "metadata": {},
     "output_type": "display_data"
    },
    {
     "data": {
      "text/html": [
       "<pre style=\"white-space:pre;overflow-x:auto;line-height:normal;font-family:Menlo,'DejaVu Sans Mono',consolas,'Courier New',monospace\">18:27:38.687 | <span style=\"color: #008080; text-decoration-color: #008080\">INFO</span>    | Flow run<span style=\"color: #800080; text-decoration-color: #800080\"> 'beryl-toad'</span> - Executing 'read_csv-3609c996-2' immediately...\n",
       "</pre>\n"
      ],
      "text/plain": [
       "18:27:38.687 | \u001b[36mINFO\u001b[0m    | Flow run\u001b[35m 'beryl-toad'\u001b[0m - Executing 'read_csv-3609c996-2' immediately...\n"
      ]
     },
     "metadata": {},
     "output_type": "display_data"
    },
    {
     "data": {
      "text/html": [
       "<pre style=\"white-space:pre;overflow-x:auto;line-height:normal;font-family:Menlo,'DejaVu Sans Mono',consolas,'Courier New',monospace\">18:27:41.014 | <span style=\"color: #008080; text-decoration-color: #008080\">INFO</span>    | Task run 'read_csv-3609c996-2' - Finished in state <span style=\"color: #008000; text-decoration-color: #008000\">Completed</span>()\n",
       "</pre>\n"
      ],
      "text/plain": [
       "18:27:41.014 | \u001b[36mINFO\u001b[0m    | Task run 'read_csv-3609c996-2' - Finished in state \u001b[32mCompleted\u001b[0m()\n"
      ]
     },
     "metadata": {},
     "output_type": "display_data"
    },
    {
     "data": {
      "text/html": [
       "<pre style=\"white-space:pre;overflow-x:auto;line-height:normal;font-family:Menlo,'DejaVu Sans Mono',consolas,'Courier New',monospace\">18:27:41.049 | <span style=\"color: #008080; text-decoration-color: #008080\">INFO</span>    | Flow run<span style=\"color: #800080; text-decoration-color: #800080\"> 'beryl-toad'</span> - Created task run 'limit_by_keys-3d51749e-0' for task 'limit_by_keys'\n",
       "</pre>\n"
      ],
      "text/plain": [
       "18:27:41.049 | \u001b[36mINFO\u001b[0m    | Flow run\u001b[35m 'beryl-toad'\u001b[0m - Created task run 'limit_by_keys-3d51749e-0' for task 'limit_by_keys'\n"
      ]
     },
     "metadata": {},
     "output_type": "display_data"
    },
    {
     "data": {
      "text/html": [
       "<pre style=\"white-space:pre;overflow-x:auto;line-height:normal;font-family:Menlo,'DejaVu Sans Mono',consolas,'Courier New',monospace\">18:27:41.052 | <span style=\"color: #008080; text-decoration-color: #008080\">INFO</span>    | Flow run<span style=\"color: #800080; text-decoration-color: #800080\"> 'beryl-toad'</span> - Executing 'limit_by_keys-3d51749e-0' immediately...\n",
       "</pre>\n"
      ],
      "text/plain": [
       "18:27:41.052 | \u001b[36mINFO\u001b[0m    | Flow run\u001b[35m 'beryl-toad'\u001b[0m - Executing 'limit_by_keys-3d51749e-0' immediately...\n"
      ]
     },
     "metadata": {},
     "output_type": "display_data"
    },
    {
     "data": {
      "text/html": [
       "<pre style=\"white-space:pre;overflow-x:auto;line-height:normal;font-family:Menlo,'DejaVu Sans Mono',consolas,'Courier New',monospace\">18:27:41.676 | <span style=\"color: #008080; text-decoration-color: #008080\">INFO</span>    | Task run 'limit_by_keys-3d51749e-0' - Finished in state <span style=\"color: #008000; text-decoration-color: #008000\">Completed</span>()\n",
       "</pre>\n"
      ],
      "text/plain": [
       "18:27:41.676 | \u001b[36mINFO\u001b[0m    | Task run 'limit_by_keys-3d51749e-0' - Finished in state \u001b[32mCompleted\u001b[0m()\n"
      ]
     },
     "metadata": {},
     "output_type": "display_data"
    },
    {
     "data": {
      "text/html": [
       "<pre style=\"white-space:pre;overflow-x:auto;line-height:normal;font-family:Menlo,'DejaVu Sans Mono',consolas,'Courier New',monospace\">18:27:41.709 | <span style=\"color: #008080; text-decoration-color: #008080\">INFO</span>    | Flow run<span style=\"color: #800080; text-decoration-color: #800080\"> 'beryl-toad'</span> - Created task run 'limit_by_child_keys-4238f776-0' for task 'limit_by_child_keys'\n",
       "</pre>\n"
      ],
      "text/plain": [
       "18:27:41.709 | \u001b[36mINFO\u001b[0m    | Flow run\u001b[35m 'beryl-toad'\u001b[0m - Created task run 'limit_by_child_keys-4238f776-0' for task 'limit_by_child_keys'\n"
      ]
     },
     "metadata": {},
     "output_type": "display_data"
    },
    {
     "data": {
      "text/html": [
       "<pre style=\"white-space:pre;overflow-x:auto;line-height:normal;font-family:Menlo,'DejaVu Sans Mono',consolas,'Courier New',monospace\">18:27:41.711 | <span style=\"color: #008080; text-decoration-color: #008080\">INFO</span>    | Flow run<span style=\"color: #800080; text-decoration-color: #800080\"> 'beryl-toad'</span> - Executing 'limit_by_child_keys-4238f776-0' immediately...\n",
       "</pre>\n"
      ],
      "text/plain": [
       "18:27:41.711 | \u001b[36mINFO\u001b[0m    | Flow run\u001b[35m 'beryl-toad'\u001b[0m - Executing 'limit_by_child_keys-4238f776-0' immediately...\n"
      ]
     },
     "metadata": {},
     "output_type": "display_data"
    },
    {
     "data": {
      "text/html": [
       "<pre style=\"white-space:pre;overflow-x:auto;line-height:normal;font-family:Menlo,'DejaVu Sans Mono',consolas,'Courier New',monospace\">18:27:41.855 | <span style=\"color: #008080; text-decoration-color: #008080\">INFO</span>    | Task run 'limit_by_child_keys-4238f776-0' - Finished in state <span style=\"color: #008000; text-decoration-color: #008000\">Completed</span>()\n",
       "</pre>\n"
      ],
      "text/plain": [
       "18:27:41.855 | \u001b[36mINFO\u001b[0m    | Task run 'limit_by_child_keys-4238f776-0' - Finished in state \u001b[32mCompleted\u001b[0m()\n"
      ]
     },
     "metadata": {},
     "output_type": "display_data"
    },
    {
     "data": {
      "text/html": [
       "<pre style=\"white-space:pre;overflow-x:auto;line-height:normal;font-family:Menlo,'DejaVu Sans Mono',consolas,'Courier New',monospace\">18:27:41.895 | <span style=\"color: #008080; text-decoration-color: #008080\">INFO</span>    | Flow run<span style=\"color: #800080; text-decoration-color: #800080\"> 'beryl-toad'</span> - Created task run 'align_tracking_data-ea7afe30-0' for task 'align_tracking_data'\n",
       "</pre>\n"
      ],
      "text/plain": [
       "18:27:41.895 | \u001b[36mINFO\u001b[0m    | Flow run\u001b[35m 'beryl-toad'\u001b[0m - Created task run 'align_tracking_data-ea7afe30-0' for task 'align_tracking_data'\n"
      ]
     },
     "metadata": {},
     "output_type": "display_data"
    },
    {
     "data": {
      "text/html": [
       "<pre style=\"white-space:pre;overflow-x:auto;line-height:normal;font-family:Menlo,'DejaVu Sans Mono',consolas,'Courier New',monospace\">18:27:41.897 | <span style=\"color: #008080; text-decoration-color: #008080\">INFO</span>    | Flow run<span style=\"color: #800080; text-decoration-color: #800080\"> 'beryl-toad'</span> - Executing 'align_tracking_data-ea7afe30-0' immediately...\n",
       "</pre>\n"
      ],
      "text/plain": [
       "18:27:41.897 | \u001b[36mINFO\u001b[0m    | Flow run\u001b[35m 'beryl-toad'\u001b[0m - Executing 'align_tracking_data-ea7afe30-0' immediately...\n"
      ]
     },
     "metadata": {},
     "output_type": "display_data"
    },
    {
     "data": {
      "text/html": [
       "<pre style=\"white-space:pre;overflow-x:auto;line-height:normal;font-family:Menlo,'DejaVu Sans Mono',consolas,'Courier New',monospace\">18:27:44.248 | <span style=\"color: #008080; text-decoration-color: #008080\">INFO</span>    | Task run 'align_tracking_data-ea7afe30-0' - Finished in state <span style=\"color: #008000; text-decoration-color: #008000\">Completed</span>()\n",
       "</pre>\n"
      ],
      "text/plain": [
       "18:27:44.248 | \u001b[36mINFO\u001b[0m    | Task run 'align_tracking_data-ea7afe30-0' - Finished in state \u001b[32mCompleted\u001b[0m()\n"
      ]
     },
     "metadata": {},
     "output_type": "display_data"
    },
    {
     "data": {
      "text/html": [
       "<pre style=\"white-space:pre;overflow-x:auto;line-height:normal;font-family:Menlo,'DejaVu Sans Mono',consolas,'Courier New',monospace\">18:27:44.280 | <span style=\"color: #008080; text-decoration-color: #008080\">INFO</span>    | Flow run<span style=\"color: #800080; text-decoration-color: #800080\"> 'beryl-toad'</span> - Created task run 'rotate_tracking_data-13ea6cce-0' for task 'rotate_tracking_data'\n",
       "</pre>\n"
      ],
      "text/plain": [
       "18:27:44.280 | \u001b[36mINFO\u001b[0m    | Flow run\u001b[35m 'beryl-toad'\u001b[0m - Created task run 'rotate_tracking_data-13ea6cce-0' for task 'rotate_tracking_data'\n"
      ]
     },
     "metadata": {},
     "output_type": "display_data"
    },
    {
     "data": {
      "text/html": [
       "<pre style=\"white-space:pre;overflow-x:auto;line-height:normal;font-family:Menlo,'DejaVu Sans Mono',consolas,'Courier New',monospace\">18:27:44.283 | <span style=\"color: #008080; text-decoration-color: #008080\">INFO</span>    | Flow run<span style=\"color: #800080; text-decoration-color: #800080\"> 'beryl-toad'</span> - Executing 'rotate_tracking_data-13ea6cce-0' immediately...\n",
       "</pre>\n"
      ],
      "text/plain": [
       "18:27:44.283 | \u001b[36mINFO\u001b[0m    | Flow run\u001b[35m 'beryl-toad'\u001b[0m - Executing 'rotate_tracking_data-13ea6cce-0' immediately...\n"
      ]
     },
     "metadata": {},
     "output_type": "display_data"
    },
    {
     "data": {
      "text/html": [
       "<pre style=\"white-space:pre;overflow-x:auto;line-height:normal;font-family:Menlo,'DejaVu Sans Mono',consolas,'Courier New',monospace\">18:27:46.336 | <span style=\"color: #008080; text-decoration-color: #008080\">INFO</span>    | Task run 'rotate_tracking_data-13ea6cce-0' - Finished in state <span style=\"color: #008000; text-decoration-color: #008000\">Completed</span>()\n",
       "</pre>\n"
      ],
      "text/plain": [
       "18:27:46.336 | \u001b[36mINFO\u001b[0m    | Task run 'rotate_tracking_data-13ea6cce-0' - Finished in state \u001b[32mCompleted\u001b[0m()\n"
      ]
     },
     "metadata": {},
     "output_type": "display_data"
    },
    {
     "data": {
      "text/html": [
       "<pre style=\"white-space:pre;overflow-x:auto;line-height:normal;font-family:Menlo,'DejaVu Sans Mono',consolas,'Courier New',monospace\">18:27:46.375 | <span style=\"color: #008080; text-decoration-color: #008080\">INFO</span>    | Flow run<span style=\"color: #800080; text-decoration-color: #800080\"> 'beryl-toad'</span> - Created task run 'get_passer_out_of_pocket-98072e46-0' for task 'get_passer_out_of_pocket'\n",
       "</pre>\n"
      ],
      "text/plain": [
       "18:27:46.375 | \u001b[36mINFO\u001b[0m    | Flow run\u001b[35m 'beryl-toad'\u001b[0m - Created task run 'get_passer_out_of_pocket-98072e46-0' for task 'get_passer_out_of_pocket'\n"
      ]
     },
     "metadata": {},
     "output_type": "display_data"
    },
    {
     "data": {
      "text/html": [
       "<pre style=\"white-space:pre;overflow-x:auto;line-height:normal;font-family:Menlo,'DejaVu Sans Mono',consolas,'Courier New',monospace\">18:27:46.378 | <span style=\"color: #008080; text-decoration-color: #008080\">INFO</span>    | Flow run<span style=\"color: #800080; text-decoration-color: #800080\"> 'beryl-toad'</span> - Executing 'get_passer_out_of_pocket-98072e46-0' immediately...\n",
       "</pre>\n"
      ],
      "text/plain": [
       "18:27:46.378 | \u001b[36mINFO\u001b[0m    | Flow run\u001b[35m 'beryl-toad'\u001b[0m - Executing 'get_passer_out_of_pocket-98072e46-0' immediately...\n"
      ]
     },
     "metadata": {},
     "output_type": "display_data"
    },
    {
     "data": {
      "text/html": [
       "<pre style=\"white-space:pre;overflow-x:auto;line-height:normal;font-family:Menlo,'DejaVu Sans Mono',consolas,'Courier New',monospace\">18:27:46.546 | <span style=\"color: #008080; text-decoration-color: #008080\">INFO</span>    | Task run 'get_passer_out_of_pocket-98072e46-0' - Finished in state <span style=\"color: #008000; text-decoration-color: #008000\">Completed</span>()\n",
       "</pre>\n"
      ],
      "text/plain": [
       "18:27:46.546 | \u001b[36mINFO\u001b[0m    | Task run 'get_passer_out_of_pocket-98072e46-0' - Finished in state \u001b[32mCompleted\u001b[0m()\n"
      ]
     },
     "metadata": {},
     "output_type": "display_data"
    },
    {
     "data": {
      "text/html": [
       "<pre style=\"white-space:pre;overflow-x:auto;line-height:normal;font-family:Menlo,'DejaVu Sans Mono',consolas,'Courier New',monospace\">18:27:46.586 | <span style=\"color: #008080; text-decoration-color: #008080\">INFO</span>    | Flow run<span style=\"color: #800080; text-decoration-color: #800080\"> 'beryl-toad'</span> - Created task run 'clean_event_data-657c8302-0' for task 'clean_event_data'\n",
       "</pre>\n"
      ],
      "text/plain": [
       "18:27:46.586 | \u001b[36mINFO\u001b[0m    | Flow run\u001b[35m 'beryl-toad'\u001b[0m - Created task run 'clean_event_data-657c8302-0' for task 'clean_event_data'\n"
      ]
     },
     "metadata": {},
     "output_type": "display_data"
    },
    {
     "data": {
      "text/html": [
       "<pre style=\"white-space:pre;overflow-x:auto;line-height:normal;font-family:Menlo,'DejaVu Sans Mono',consolas,'Courier New',monospace\">18:27:46.589 | <span style=\"color: #008080; text-decoration-color: #008080\">INFO</span>    | Flow run<span style=\"color: #800080; text-decoration-color: #800080\"> 'beryl-toad'</span> - Executing 'clean_event_data-657c8302-0' immediately...\n",
       "</pre>\n"
      ],
      "text/plain": [
       "18:27:46.589 | \u001b[36mINFO\u001b[0m    | Flow run\u001b[35m 'beryl-toad'\u001b[0m - Executing 'clean_event_data-657c8302-0' immediately...\n"
      ]
     },
     "metadata": {},
     "output_type": "display_data"
    },
    {
     "data": {
      "text/html": [
       "<pre style=\"white-space:pre;overflow-x:auto;line-height:normal;font-family:Menlo,'DejaVu Sans Mono',consolas,'Courier New',monospace\">18:27:46.691 | <span style=\"color: #008080; text-decoration-color: #008080\">INFO</span>    | Task run 'clean_event_data-657c8302-0' - Finished in state <span style=\"color: #008000; text-decoration-color: #008000\">Completed</span>()\n",
       "</pre>\n"
      ],
      "text/plain": [
       "18:27:46.691 | \u001b[36mINFO\u001b[0m    | Task run 'clean_event_data-657c8302-0' - Finished in state \u001b[32mCompleted\u001b[0m()\n"
      ]
     },
     "metadata": {},
     "output_type": "display_data"
    },
    {
     "data": {
      "text/html": [
       "<pre style=\"white-space:pre;overflow-x:auto;line-height:normal;font-family:Menlo,'DejaVu Sans Mono',consolas,'Courier New',monospace\">18:27:46.719 | <span style=\"color: #008080; text-decoration-color: #008080\">INFO</span>    | Flow run<span style=\"color: #800080; text-decoration-color: #800080\"> 'beryl-toad'</span> - Created task run 'get_pocket_eligibility-6d653879-0' for task 'get_pocket_eligibility'\n",
       "</pre>\n"
      ],
      "text/plain": [
       "18:27:46.719 | \u001b[36mINFO\u001b[0m    | Flow run\u001b[35m 'beryl-toad'\u001b[0m - Created task run 'get_pocket_eligibility-6d653879-0' for task 'get_pocket_eligibility'\n"
      ]
     },
     "metadata": {},
     "output_type": "display_data"
    },
    {
     "data": {
      "text/html": [
       "<pre style=\"white-space:pre;overflow-x:auto;line-height:normal;font-family:Menlo,'DejaVu Sans Mono',consolas,'Courier New',monospace\">18:27:46.722 | <span style=\"color: #008080; text-decoration-color: #008080\">INFO</span>    | Flow run<span style=\"color: #800080; text-decoration-color: #800080\"> 'beryl-toad'</span> - Executing 'get_pocket_eligibility-6d653879-0' immediately...\n",
       "</pre>\n"
      ],
      "text/plain": [
       "18:27:46.722 | \u001b[36mINFO\u001b[0m    | Flow run\u001b[35m 'beryl-toad'\u001b[0m - Executing 'get_pocket_eligibility-6d653879-0' immediately...\n"
      ]
     },
     "metadata": {},
     "output_type": "display_data"
    },
    {
     "data": {
      "text/html": [
       "<pre style=\"white-space:pre;overflow-x:auto;line-height:normal;font-family:Menlo,'DejaVu Sans Mono',consolas,'Courier New',monospace\">18:27:46.830 | <span style=\"color: #008080; text-decoration-color: #008080\">INFO</span>    | Task run 'get_pocket_eligibility-6d653879-0' - Finished in state <span style=\"color: #008000; text-decoration-color: #008000\">Completed</span>()\n",
       "</pre>\n"
      ],
      "text/plain": [
       "18:27:46.830 | \u001b[36mINFO\u001b[0m    | Task run 'get_pocket_eligibility-6d653879-0' - Finished in state \u001b[32mCompleted\u001b[0m()\n"
      ]
     },
     "metadata": {},
     "output_type": "display_data"
    },
    {
     "data": {
      "text/html": [
       "<pre style=\"white-space:pre;overflow-x:auto;line-height:normal;font-family:Menlo,'DejaVu Sans Mono',consolas,'Courier New',monospace\">18:27:46.857 | <span style=\"color: #008080; text-decoration-color: #008080\">INFO</span>    | Flow run<span style=\"color: #800080; text-decoration-color: #800080\"> 'beryl-toad'</span> - Created task run 'augment_tracking_events-342a9dc3-0' for task 'augment_tracking_events'\n",
       "</pre>\n"
      ],
      "text/plain": [
       "18:27:46.857 | \u001b[36mINFO\u001b[0m    | Flow run\u001b[35m 'beryl-toad'\u001b[0m - Created task run 'augment_tracking_events-342a9dc3-0' for task 'augment_tracking_events'\n"
      ]
     },
     "metadata": {},
     "output_type": "display_data"
    },
    {
     "data": {
      "text/html": [
       "<pre style=\"white-space:pre;overflow-x:auto;line-height:normal;font-family:Menlo,'DejaVu Sans Mono',consolas,'Courier New',monospace\">18:27:46.859 | <span style=\"color: #008080; text-decoration-color: #008080\">INFO</span>    | Flow run<span style=\"color: #800080; text-decoration-color: #800080\"> 'beryl-toad'</span> - Executing 'augment_tracking_events-342a9dc3-0' immediately...\n",
       "</pre>\n"
      ],
      "text/plain": [
       "18:27:46.859 | \u001b[36mINFO\u001b[0m    | Flow run\u001b[35m 'beryl-toad'\u001b[0m - Executing 'augment_tracking_events-342a9dc3-0' immediately...\n"
      ]
     },
     "metadata": {},
     "output_type": "display_data"
    },
    {
     "data": {
      "text/html": [
       "<pre style=\"white-space:pre;overflow-x:auto;line-height:normal;font-family:Menlo,'DejaVu Sans Mono',consolas,'Courier New',monospace\">18:27:46.943 | <span style=\"color: #008080; text-decoration-color: #008080\">INFO</span>    | Task run 'augment_tracking_events-342a9dc3-0' - Finished in state <span style=\"color: #008000; text-decoration-color: #008000\">Completed</span>()\n",
       "</pre>\n"
      ],
      "text/plain": [
       "18:27:46.943 | \u001b[36mINFO\u001b[0m    | Task run 'augment_tracking_events-342a9dc3-0' - Finished in state \u001b[32mCompleted\u001b[0m()\n"
      ]
     },
     "metadata": {},
     "output_type": "display_data"
    },
    {
     "data": {
      "text/html": [
       "<pre style=\"white-space:pre;overflow-x:auto;line-height:normal;font-family:Menlo,'DejaVu Sans Mono',consolas,'Courier New',monospace\">18:27:46.986 | <span style=\"color: #008080; text-decoration-color: #008080\">INFO</span>    | Flow run<span style=\"color: #800080; text-decoration-color: #800080\"> 'beryl-toad'</span> - Created task run 'transform_to_tracking_display-0c78dc49-0' for task 'transform_to_tracking_display'\n",
       "</pre>\n"
      ],
      "text/plain": [
       "18:27:46.986 | \u001b[36mINFO\u001b[0m    | Flow run\u001b[35m 'beryl-toad'\u001b[0m - Created task run 'transform_to_tracking_display-0c78dc49-0' for task 'transform_to_tracking_display'\n"
      ]
     },
     "metadata": {},
     "output_type": "display_data"
    },
    {
     "data": {
      "text/html": [
       "<pre style=\"white-space:pre;overflow-x:auto;line-height:normal;font-family:Menlo,'DejaVu Sans Mono',consolas,'Courier New',monospace\">18:27:46.989 | <span style=\"color: #008080; text-decoration-color: #008080\">INFO</span>    | Flow run<span style=\"color: #800080; text-decoration-color: #800080\"> 'beryl-toad'</span> - Executing 'transform_to_tracking_display-0c78dc49-0' immediately...\n",
       "</pre>\n"
      ],
      "text/plain": [
       "18:27:46.989 | \u001b[36mINFO\u001b[0m    | Flow run\u001b[35m 'beryl-toad'\u001b[0m - Executing 'transform_to_tracking_display-0c78dc49-0' immediately...\n"
      ]
     },
     "metadata": {},
     "output_type": "display_data"
    },
    {
     "data": {
      "text/html": [
       "<pre style=\"white-space:pre;overflow-x:auto;line-height:normal;font-family:Menlo,'DejaVu Sans Mono',consolas,'Courier New',monospace\">18:27:47.128 | <span style=\"color: #008080; text-decoration-color: #008080\">INFO</span>    | Task run 'transform_to_tracking_display-0c78dc49-0' - Finished in state <span style=\"color: #008000; text-decoration-color: #008000\">Completed</span>()\n",
       "</pre>\n"
      ],
      "text/plain": [
       "18:27:47.128 | \u001b[36mINFO\u001b[0m    | Task run 'transform_to_tracking_display-0c78dc49-0' - Finished in state \u001b[32mCompleted\u001b[0m()\n"
      ]
     },
     "metadata": {},
     "output_type": "display_data"
    },
    {
     "data": {
      "text/html": [
       "<pre style=\"white-space:pre;overflow-x:auto;line-height:normal;font-family:Menlo,'DejaVu Sans Mono',consolas,'Courier New',monospace\">18:27:47.157 | <span style=\"color: #008080; text-decoration-color: #008080\">INFO</span>    | Flow run<span style=\"color: #800080; text-decoration-color: #800080\"> 'beryl-toad'</span> - Created task run 'transform_to_frames-3446c324-0' for task 'transform_to_frames'\n",
       "</pre>\n"
      ],
      "text/plain": [
       "18:27:47.157 | \u001b[36mINFO\u001b[0m    | Flow run\u001b[35m 'beryl-toad'\u001b[0m - Created task run 'transform_to_frames-3446c324-0' for task 'transform_to_frames'\n"
      ]
     },
     "metadata": {},
     "output_type": "display_data"
    },
    {
     "data": {
      "text/html": [
       "<pre style=\"white-space:pre;overflow-x:auto;line-height:normal;font-family:Menlo,'DejaVu Sans Mono',consolas,'Courier New',monospace\">18:27:47.159 | <span style=\"color: #008080; text-decoration-color: #008080\">INFO</span>    | Flow run<span style=\"color: #800080; text-decoration-color: #800080\"> 'beryl-toad'</span> - Executing 'transform_to_frames-3446c324-0' immediately...\n",
       "</pre>\n"
      ],
      "text/plain": [
       "18:27:47.159 | \u001b[36mINFO\u001b[0m    | Flow run\u001b[35m 'beryl-toad'\u001b[0m - Executing 'transform_to_frames-3446c324-0' immediately...\n"
      ]
     },
     "metadata": {},
     "output_type": "display_data"
    },
    {
     "data": {
      "text/html": [
       "<pre style=\"white-space:pre;overflow-x:auto;line-height:normal;font-family:Menlo,'DejaVu Sans Mono',consolas,'Courier New',monospace\">18:27:47.311 | <span style=\"color: #008080; text-decoration-color: #008080\">INFO</span>    | Task run 'transform_to_frames-3446c324-0' - Finished in state <span style=\"color: #008000; text-decoration-color: #008000\">Completed</span>()\n",
       "</pre>\n"
      ],
      "text/plain": [
       "18:27:47.311 | \u001b[36mINFO\u001b[0m    | Task run 'transform_to_frames-3446c324-0' - Finished in state \u001b[32mCompleted\u001b[0m()\n"
      ]
     },
     "metadata": {},
     "output_type": "display_data"
    },
    {
     "data": {
      "text/html": [
       "<pre style=\"white-space:pre;overflow-x:auto;line-height:normal;font-family:Menlo,'DejaVu Sans Mono',consolas,'Courier New',monospace\">18:27:47.338 | <span style=\"color: #008080; text-decoration-color: #008080\">INFO</span>    | Flow run<span style=\"color: #800080; text-decoration-color: #800080\"> 'beryl-toad'</span> - Created task run 'transform_to_records_per_frame-823b8998-0' for task 'transform_to_records_per_frame'\n",
       "</pre>\n"
      ],
      "text/plain": [
       "18:27:47.338 | \u001b[36mINFO\u001b[0m    | Flow run\u001b[35m 'beryl-toad'\u001b[0m - Created task run 'transform_to_records_per_frame-823b8998-0' for task 'transform_to_records_per_frame'\n"
      ]
     },
     "metadata": {},
     "output_type": "display_data"
    },
    {
     "data": {
      "text/html": [
       "<pre style=\"white-space:pre;overflow-x:auto;line-height:normal;font-family:Menlo,'DejaVu Sans Mono',consolas,'Courier New',monospace\">18:27:47.340 | <span style=\"color: #008080; text-decoration-color: #008080\">INFO</span>    | Flow run<span style=\"color: #800080; text-decoration-color: #800080\"> 'beryl-toad'</span> - Executing 'transform_to_records_per_frame-823b8998-0' immediately...\n",
       "</pre>\n"
      ],
      "text/plain": [
       "18:27:47.340 | \u001b[36mINFO\u001b[0m    | Flow run\u001b[35m 'beryl-toad'\u001b[0m - Executing 'transform_to_records_per_frame-823b8998-0' immediately...\n"
      ]
     },
     "metadata": {},
     "output_type": "display_data"
    },
    {
     "data": {
      "text/html": [
       "<pre style=\"white-space:pre;overflow-x:auto;line-height:normal;font-family:Menlo,'DejaVu Sans Mono',consolas,'Courier New',monospace\">18:27:47.816 | <span style=\"color: #008080; text-decoration-color: #008080\">INFO</span>    | Task run 'transform_to_records_per_frame-823b8998-0' - Finished in state <span style=\"color: #008000; text-decoration-color: #008000\">Completed</span>()\n",
       "</pre>\n"
      ],
      "text/plain": [
       "18:27:47.816 | \u001b[36mINFO\u001b[0m    | Task run 'transform_to_records_per_frame-823b8998-0' - Finished in state \u001b[32mCompleted\u001b[0m()\n"
      ]
     },
     "metadata": {},
     "output_type": "display_data"
    },
    {
     "data": {
      "text/html": [
       "<pre style=\"white-space:pre;overflow-x:auto;line-height:normal;font-family:Menlo,'DejaVu Sans Mono',consolas,'Courier New',monospace\">18:27:47.861 | <span style=\"color: #008080; text-decoration-color: #008080\">INFO</span>    | Flow run<span style=\"color: #800080; text-decoration-color: #800080\"> 'beryl-toad'</span> - Created task run 'calculate_pocket_area-cc18ef62-0' for task 'calculate_pocket_area'\n",
       "</pre>\n"
      ],
      "text/plain": [
       "18:27:47.861 | \u001b[36mINFO\u001b[0m    | Flow run\u001b[35m 'beryl-toad'\u001b[0m - Created task run 'calculate_pocket_area-cc18ef62-0' for task 'calculate_pocket_area'\n"
      ]
     },
     "metadata": {},
     "output_type": "display_data"
    },
    {
     "data": {
      "text/html": [
       "<pre style=\"white-space:pre;overflow-x:auto;line-height:normal;font-family:Menlo,'DejaVu Sans Mono',consolas,'Courier New',monospace\">18:27:47.876 | <span style=\"color: #008080; text-decoration-color: #008080\">INFO</span>    | Flow run<span style=\"color: #800080; text-decoration-color: #800080\"> 'beryl-toad'</span> - Submitted task run 'calculate_pocket_area-cc18ef62-0' for execution.\n",
       "</pre>\n"
      ],
      "text/plain": [
       "18:27:47.876 | \u001b[36mINFO\u001b[0m    | Flow run\u001b[35m 'beryl-toad'\u001b[0m - Submitted task run 'calculate_pocket_area-cc18ef62-0' for execution.\n"
      ]
     },
     "metadata": {},
     "output_type": "display_data"
    },
    {
     "data": {
      "text/html": [
       "<pre style=\"white-space:pre;overflow-x:auto;line-height:normal;font-family:Menlo,'DejaVu Sans Mono',consolas,'Courier New',monospace\">18:27:47.906 | <span style=\"color: #008080; text-decoration-color: #008080\">INFO</span>    | Flow run<span style=\"color: #800080; text-decoration-color: #800080\"> 'beryl-toad'</span> - Created task run 'calculate_pocket_area-cc18ef62-1' for task 'calculate_pocket_area'\n",
       "</pre>\n"
      ],
      "text/plain": [
       "18:27:47.906 | \u001b[36mINFO\u001b[0m    | Flow run\u001b[35m 'beryl-toad'\u001b[0m - Created task run 'calculate_pocket_area-cc18ef62-1' for task 'calculate_pocket_area'\n"
      ]
     },
     "metadata": {},
     "output_type": "display_data"
    },
    {
     "data": {
      "text/html": [
       "<pre style=\"white-space:pre;overflow-x:auto;line-height:normal;font-family:Menlo,'DejaVu Sans Mono',consolas,'Courier New',monospace\">18:27:47.909 | <span style=\"color: #008080; text-decoration-color: #008080\">INFO</span>    | Flow run<span style=\"color: #800080; text-decoration-color: #800080\"> 'beryl-toad'</span> - Submitted task run 'calculate_pocket_area-cc18ef62-1' for execution.\n",
       "</pre>\n"
      ],
      "text/plain": [
       "18:27:47.909 | \u001b[36mINFO\u001b[0m    | Flow run\u001b[35m 'beryl-toad'\u001b[0m - Submitted task run 'calculate_pocket_area-cc18ef62-1' for execution.\n"
      ]
     },
     "metadata": {},
     "output_type": "display_data"
    },
    {
     "data": {
      "text/html": [
       "<pre style=\"white-space:pre;overflow-x:auto;line-height:normal;font-family:Menlo,'DejaVu Sans Mono',consolas,'Courier New',monospace\">18:27:48.074 | <span style=\"color: #008080; text-decoration-color: #008080\">INFO</span>    | Flow run<span style=\"color: #800080; text-decoration-color: #800080\"> 'beryl-toad'</span> - Created task run 'union_dataframes-8a4e3d8f-0' for task 'union_dataframes'\n",
       "</pre>\n"
      ],
      "text/plain": [
       "18:27:48.074 | \u001b[36mINFO\u001b[0m    | Flow run\u001b[35m 'beryl-toad'\u001b[0m - Created task run 'union_dataframes-8a4e3d8f-0' for task 'union_dataframes'\n"
      ]
     },
     "metadata": {},
     "output_type": "display_data"
    },
    {
     "data": {
      "text/html": [
       "<pre style=\"white-space:pre;overflow-x:auto;line-height:normal;font-family:Menlo,'DejaVu Sans Mono',consolas,'Courier New',monospace\">18:27:48.078 | <span style=\"color: #008080; text-decoration-color: #008080\">INFO</span>    | Flow run<span style=\"color: #800080; text-decoration-color: #800080\"> 'beryl-toad'</span> - Executing 'union_dataframes-8a4e3d8f-0' immediately...\n",
       "</pre>\n"
      ],
      "text/plain": [
       "18:27:48.078 | \u001b[36mINFO\u001b[0m    | Flow run\u001b[35m 'beryl-toad'\u001b[0m - Executing 'union_dataframes-8a4e3d8f-0' immediately...\n"
      ]
     },
     "metadata": {},
     "output_type": "display_data"
    },
    {
     "data": {
      "text/html": [
       "<pre style=\"white-space:pre;overflow-x:auto;line-height:normal;font-family:Menlo,'DejaVu Sans Mono',consolas,'Courier New',monospace\">18:27:48.119 | <span style=\"color: #008080; text-decoration-color: #008080\">INFO</span>    | Task run 'calculate_pocket_area-cc18ef62-0' - Finished in state <span style=\"color: #008000; text-decoration-color: #008000\">Completed</span>()\n",
       "</pre>\n"
      ],
      "text/plain": [
       "18:27:48.119 | \u001b[36mINFO\u001b[0m    | Task run 'calculate_pocket_area-cc18ef62-0' - Finished in state \u001b[32mCompleted\u001b[0m()\n"
      ]
     },
     "metadata": {},
     "output_type": "display_data"
    },
    {
     "data": {
      "text/html": [
       "<pre style=\"white-space:pre;overflow-x:auto;line-height:normal;font-family:Menlo,'DejaVu Sans Mono',consolas,'Courier New',monospace\">18:27:48.288 | <span style=\"color: #008080; text-decoration-color: #008080\">INFO</span>    | Task run 'calculate_pocket_area-cc18ef62-1' - Finished in state <span style=\"color: #008000; text-decoration-color: #008000\">Completed</span>()\n",
       "</pre>\n"
      ],
      "text/plain": [
       "18:27:48.288 | \u001b[36mINFO\u001b[0m    | Task run 'calculate_pocket_area-cc18ef62-1' - Finished in state \u001b[32mCompleted\u001b[0m()\n"
      ]
     },
     "metadata": {},
     "output_type": "display_data"
    },
    {
     "data": {
      "text/html": [
       "<pre style=\"white-space:pre;overflow-x:auto;line-height:normal;font-family:Menlo,'DejaVu Sans Mono',consolas,'Courier New',monospace\">18:27:48.397 | <span style=\"color: #008080; text-decoration-color: #008080\">INFO</span>    | Task run 'union_dataframes-8a4e3d8f-0' - Finished in state <span style=\"color: #008000; text-decoration-color: #008000\">Completed</span>()\n",
       "</pre>\n"
      ],
      "text/plain": [
       "18:27:48.397 | \u001b[36mINFO\u001b[0m    | Task run 'union_dataframes-8a4e3d8f-0' - Finished in state \u001b[32mCompleted\u001b[0m()\n"
      ]
     },
     "metadata": {},
     "output_type": "display_data"
    },
    {
     "data": {
      "text/html": [
       "<pre style=\"white-space:pre;overflow-x:auto;line-height:normal;font-family:Menlo,'DejaVu Sans Mono',consolas,'Courier New',monospace\">18:27:48.431 | <span style=\"color: #008080; text-decoration-color: #008080\">INFO</span>    | Flow run<span style=\"color: #800080; text-decoration-color: #800080\"> 'beryl-toad'</span> - Created task run 'write_csv-386fe2af-0' for task 'write_csv'\n",
       "</pre>\n"
      ],
      "text/plain": [
       "18:27:48.431 | \u001b[36mINFO\u001b[0m    | Flow run\u001b[35m 'beryl-toad'\u001b[0m - Created task run 'write_csv-386fe2af-0' for task 'write_csv'\n"
      ]
     },
     "metadata": {},
     "output_type": "display_data"
    },
    {
     "data": {
      "text/html": [
       "<pre style=\"white-space:pre;overflow-x:auto;line-height:normal;font-family:Menlo,'DejaVu Sans Mono',consolas,'Courier New',monospace\">18:27:48.434 | <span style=\"color: #008080; text-decoration-color: #008080\">INFO</span>    | Flow run<span style=\"color: #800080; text-decoration-color: #800080\"> 'beryl-toad'</span> - Executing 'write_csv-386fe2af-0' immediately...\n",
       "</pre>\n"
      ],
      "text/plain": [
       "18:27:48.434 | \u001b[36mINFO\u001b[0m    | Flow run\u001b[35m 'beryl-toad'\u001b[0m - Executing 'write_csv-386fe2af-0' immediately...\n"
      ]
     },
     "metadata": {},
     "output_type": "display_data"
    },
    {
     "data": {
      "text/html": [
       "<pre style=\"white-space:pre;overflow-x:auto;line-height:normal;font-family:Menlo,'DejaVu Sans Mono',consolas,'Courier New',monospace\">18:27:48.597 | <span style=\"color: #008080; text-decoration-color: #008080\">INFO</span>    | Task run 'write_csv-386fe2af-0' - Finished in state <span style=\"color: #008000; text-decoration-color: #008000\">Completed</span>()\n",
       "</pre>\n"
      ],
      "text/plain": [
       "18:27:48.597 | \u001b[36mINFO\u001b[0m    | Task run 'write_csv-386fe2af-0' - Finished in state \u001b[32mCompleted\u001b[0m()\n"
      ]
     },
     "metadata": {},
     "output_type": "display_data"
    },
    {
     "data": {
      "text/html": [
       "<pre style=\"white-space:pre;overflow-x:auto;line-height:normal;font-family:Menlo,'DejaVu Sans Mono',consolas,'Courier New',monospace\">18:27:48.631 | <span style=\"color: #008080; text-decoration-color: #008080\">INFO</span>    | Flow run<span style=\"color: #800080; text-decoration-color: #800080\"> 'beryl-toad'</span> - Created task run 'write_csv-386fe2af-1' for task 'write_csv'\n",
       "</pre>\n"
      ],
      "text/plain": [
       "18:27:48.631 | \u001b[36mINFO\u001b[0m    | Flow run\u001b[35m 'beryl-toad'\u001b[0m - Created task run 'write_csv-386fe2af-1' for task 'write_csv'\n"
      ]
     },
     "metadata": {},
     "output_type": "display_data"
    },
    {
     "data": {
      "text/html": [
       "<pre style=\"white-space:pre;overflow-x:auto;line-height:normal;font-family:Menlo,'DejaVu Sans Mono',consolas,'Courier New',monospace\">18:27:48.634 | <span style=\"color: #008080; text-decoration-color: #008080\">INFO</span>    | Flow run<span style=\"color: #800080; text-decoration-color: #800080\"> 'beryl-toad'</span> - Executing 'write_csv-386fe2af-1' immediately...\n",
       "</pre>\n"
      ],
      "text/plain": [
       "18:27:48.634 | \u001b[36mINFO\u001b[0m    | Flow run\u001b[35m 'beryl-toad'\u001b[0m - Executing 'write_csv-386fe2af-1' immediately...\n"
      ]
     },
     "metadata": {},
     "output_type": "display_data"
    },
    {
     "data": {
      "text/html": [
       "<pre style=\"white-space:pre;overflow-x:auto;line-height:normal;font-family:Menlo,'DejaVu Sans Mono',consolas,'Courier New',monospace\">18:27:48.716 | <span style=\"color: #008080; text-decoration-color: #008080\">INFO</span>    | Task run 'write_csv-386fe2af-1' - Finished in state <span style=\"color: #008000; text-decoration-color: #008000\">Completed</span>()\n",
       "</pre>\n"
      ],
      "text/plain": [
       "18:27:48.716 | \u001b[36mINFO\u001b[0m    | Task run 'write_csv-386fe2af-1' - Finished in state \u001b[32mCompleted\u001b[0m()\n"
      ]
     },
     "metadata": {},
     "output_type": "display_data"
    },
    {
     "data": {
      "text/html": [
       "<pre style=\"white-space:pre;overflow-x:auto;line-height:normal;font-family:Menlo,'DejaVu Sans Mono',consolas,'Courier New',monospace\">18:27:48.744 | <span style=\"color: #008080; text-decoration-color: #008080\">INFO</span>    | Flow run<span style=\"color: #800080; text-decoration-color: #800080\"> 'beryl-toad'</span> - Created task run 'write_csv-386fe2af-2' for task 'write_csv'\n",
       "</pre>\n"
      ],
      "text/plain": [
       "18:27:48.744 | \u001b[36mINFO\u001b[0m    | Flow run\u001b[35m 'beryl-toad'\u001b[0m - Created task run 'write_csv-386fe2af-2' for task 'write_csv'\n"
      ]
     },
     "metadata": {},
     "output_type": "display_data"
    },
    {
     "data": {
      "text/html": [
       "<pre style=\"white-space:pre;overflow-x:auto;line-height:normal;font-family:Menlo,'DejaVu Sans Mono',consolas,'Courier New',monospace\">18:27:48.747 | <span style=\"color: #008080; text-decoration-color: #008080\">INFO</span>    | Flow run<span style=\"color: #800080; text-decoration-color: #800080\"> 'beryl-toad'</span> - Executing 'write_csv-386fe2af-2' immediately...\n",
       "</pre>\n"
      ],
      "text/plain": [
       "18:27:48.747 | \u001b[36mINFO\u001b[0m    | Flow run\u001b[35m 'beryl-toad'\u001b[0m - Executing 'write_csv-386fe2af-2' immediately...\n"
      ]
     },
     "metadata": {},
     "output_type": "display_data"
    },
    {
     "data": {
      "text/html": [
       "<pre style=\"white-space:pre;overflow-x:auto;line-height:normal;font-family:Menlo,'DejaVu Sans Mono',consolas,'Courier New',monospace\">18:27:48.882 | <span style=\"color: #008080; text-decoration-color: #008080\">INFO</span>    | Task run 'write_csv-386fe2af-2' - Finished in state <span style=\"color: #008000; text-decoration-color: #008000\">Completed</span>()\n",
       "</pre>\n"
      ],
      "text/plain": [
       "18:27:48.882 | \u001b[36mINFO\u001b[0m    | Task run 'write_csv-386fe2af-2' - Finished in state \u001b[32mCompleted\u001b[0m()\n"
      ]
     },
     "metadata": {},
     "output_type": "display_data"
    },
    {
     "data": {
      "text/html": [
       "<pre style=\"white-space:pre;overflow-x:auto;line-height:normal;font-family:Menlo,'DejaVu Sans Mono',consolas,'Courier New',monospace\">18:27:48.913 | <span style=\"color: #008080; text-decoration-color: #008080\">INFO</span>    | Flow run<span style=\"color: #800080; text-decoration-color: #800080\"> 'beryl-toad'</span> - Created task run 'write_csv-386fe2af-3' for task 'write_csv'\n",
       "</pre>\n"
      ],
      "text/plain": [
       "18:27:48.913 | \u001b[36mINFO\u001b[0m    | Flow run\u001b[35m 'beryl-toad'\u001b[0m - Created task run 'write_csv-386fe2af-3' for task 'write_csv'\n"
      ]
     },
     "metadata": {},
     "output_type": "display_data"
    },
    {
     "data": {
      "text/html": [
       "<pre style=\"white-space:pre;overflow-x:auto;line-height:normal;font-family:Menlo,'DejaVu Sans Mono',consolas,'Courier New',monospace\">18:27:48.915 | <span style=\"color: #008080; text-decoration-color: #008080\">INFO</span>    | Flow run<span style=\"color: #800080; text-decoration-color: #800080\"> 'beryl-toad'</span> - Executing 'write_csv-386fe2af-3' immediately...\n",
       "</pre>\n"
      ],
      "text/plain": [
       "18:27:48.915 | \u001b[36mINFO\u001b[0m    | Flow run\u001b[35m 'beryl-toad'\u001b[0m - Executing 'write_csv-386fe2af-3' immediately...\n"
      ]
     },
     "metadata": {},
     "output_type": "display_data"
    },
    {
     "data": {
      "text/html": [
       "<pre style=\"white-space:pre;overflow-x:auto;line-height:normal;font-family:Menlo,'DejaVu Sans Mono',consolas,'Courier New',monospace\">18:27:49.025 | <span style=\"color: #008080; text-decoration-color: #008080\">INFO</span>    | Task run 'write_csv-386fe2af-3' - Finished in state <span style=\"color: #008000; text-decoration-color: #008000\">Completed</span>()\n",
       "</pre>\n"
      ],
      "text/plain": [
       "18:27:49.025 | \u001b[36mINFO\u001b[0m    | Task run 'write_csv-386fe2af-3' - Finished in state \u001b[32mCompleted\u001b[0m()\n"
      ]
     },
     "metadata": {},
     "output_type": "display_data"
    },
    {
     "data": {
      "text/html": [
       "<pre style=\"white-space:pre;overflow-x:auto;line-height:normal;font-family:Menlo,'DejaVu Sans Mono',consolas,'Courier New',monospace\">18:27:49.058 | <span style=\"color: #008080; text-decoration-color: #008080\">INFO</span>    | Flow run<span style=\"color: #800080; text-decoration-color: #800080\"> 'beryl-toad'</span> - Created task run 'write_csv-386fe2af-4' for task 'write_csv'\n",
       "</pre>\n"
      ],
      "text/plain": [
       "18:27:49.058 | \u001b[36mINFO\u001b[0m    | Flow run\u001b[35m 'beryl-toad'\u001b[0m - Created task run 'write_csv-386fe2af-4' for task 'write_csv'\n"
      ]
     },
     "metadata": {},
     "output_type": "display_data"
    },
    {
     "data": {
      "text/html": [
       "<pre style=\"white-space:pre;overflow-x:auto;line-height:normal;font-family:Menlo,'DejaVu Sans Mono',consolas,'Courier New',monospace\">18:27:49.075 | <span style=\"color: #008080; text-decoration-color: #008080\">INFO</span>    | Flow run<span style=\"color: #800080; text-decoration-color: #800080\"> 'beryl-toad'</span> - Executing 'write_csv-386fe2af-4' immediately...\n",
       "</pre>\n"
      ],
      "text/plain": [
       "18:27:49.075 | \u001b[36mINFO\u001b[0m    | Flow run\u001b[35m 'beryl-toad'\u001b[0m - Executing 'write_csv-386fe2af-4' immediately...\n"
      ]
     },
     "metadata": {},
     "output_type": "display_data"
    },
    {
     "data": {
      "text/html": [
       "<pre style=\"white-space:pre;overflow-x:auto;line-height:normal;font-family:Menlo,'DejaVu Sans Mono',consolas,'Courier New',monospace\">18:27:49.182 | <span style=\"color: #008080; text-decoration-color: #008080\">INFO</span>    | Task run 'write_csv-386fe2af-4' - Finished in state <span style=\"color: #008000; text-decoration-color: #008000\">Completed</span>()\n",
       "</pre>\n"
      ],
      "text/plain": [
       "18:27:49.182 | \u001b[36mINFO\u001b[0m    | Task run 'write_csv-386fe2af-4' - Finished in state \u001b[32mCompleted\u001b[0m()\n"
      ]
     },
     "metadata": {},
     "output_type": "display_data"
    },
    {
     "data": {
      "text/html": [
       "<pre style=\"white-space:pre;overflow-x:auto;line-height:normal;font-family:Menlo,'DejaVu Sans Mono',consolas,'Courier New',monospace\">18:27:49.236 | <span style=\"color: #008080; text-decoration-color: #008080\">INFO</span>    | Flow run<span style=\"color: #800080; text-decoration-color: #800080\"> 'beryl-toad'</span> - Finished in state <span style=\"color: #008000; text-decoration-color: #008000\">Completed</span>('All states completed.')\n",
       "</pre>\n"
      ],
      "text/plain": [
       "18:27:49.236 | \u001b[36mINFO\u001b[0m    | Flow run\u001b[35m 'beryl-toad'\u001b[0m - Finished in state \u001b[32mCompleted\u001b[0m('All states completed.')\n"
      ]
     },
     "metadata": {},
     "output_type": "display_data"
    }
   ],
   "source": [
    "_ = main_flow(max_games=3, max_plays=3)"
   ]
  },
  {
   "cell_type": "code",
   "execution_count": 5,
   "id": "a70745f3",
   "metadata": {},
   "outputs": [],
   "source": [
    "df_plays_all = pd.read_csv(f\"{DIR}/data/raw/plays.csv\")\n",
    "df_tracking_display_all = pd.read_csv(f\"{DIR}/data/outputs/tracking_display.csv\")\n",
    "df_areas_all = pd.read_csv(f\"{DIR}/data/outputs/pocket_areas.csv\")\n",
    "df_areas_all[\"pocket\"] = df_areas_all[\"pocket\"].apply(literal_eval)"
   ]
  },
  {
   "cell_type": "code",
   "execution_count": 6,
   "id": "1bc065c0",
   "metadata": {},
   "outputs": [],
   "source": [
    "def average_pocket_change(df_areas, df_tracking):\n",
    "    df_areasXtracking = df_areas.merge(df_tracking[['gameId', 'playId', 'frameId', 'event', 'pff_role']]\\\n",
    "                                       .query(\"pff_role == 'Pass'\"), on = ['gameId', 'playId', 'frameId'], how = 'left')\n",
    "    df_areasXtracking_grouped = df_areasXtracking.groupby(['gameId', 'playId']).mean().reset_index()\n",
    "    for index, row in df_areasXtracking_grouped.iterrows():\n",
    "        df_ball_snap = df_areasXtracking.query(\"gameId == \" + str(row['gameId']) + \\\n",
    "                                      \" and playId ==\" + str(row['playId']) + \"and event == 'ball_snap'\")\n",
    "        df_end_frame = df_areasXtracking.query(\"gameId == \" + str(row['gameId']) + \\\n",
    "                                      \" and playId ==\" + str(row['playId']) + \\\n",
    "                                                \"and frameId == {}\".format(df_ball_snap['frameId'].values[0] + 20))\n",
    "        \n",
    "        change_in_area_pocket_radius = df_end_frame['area'].values[0] - df_ball_snap['area'].values[0]\n",
    "        change_in_area_corvex_hull = df_end_frame['area'].values[1] - df_ball_snap['area'].values[1]\n",
    "\n",
    "        change_in_frames = df_end_frame['frameId'].values[0] - df_ball_snap['frameId'].values[0]\n",
    "        average_pr = change_in_area_pocket_radius / (change_in_frames/10)\n",
    "        average_ch = change_in_area_corvex_hull / (change_in_frames/10)\n",
    "        \n",
    "        print(average_pr, average_ch)"
   ]
  },
  {
   "cell_type": "code",
   "execution_count": 7,
   "id": "2a460c1a",
   "metadata": {},
   "outputs": [
    {
     "data": {
      "text/html": [
       "<div>\n",
       "<style scoped>\n",
       "    .dataframe tbody tr th:only-of-type {\n",
       "        vertical-align: middle;\n",
       "    }\n",
       "\n",
       "    .dataframe tbody tr th {\n",
       "        vertical-align: top;\n",
       "    }\n",
       "\n",
       "    .dataframe thead th {\n",
       "        text-align: right;\n",
       "    }\n",
       "</style>\n",
       "<table border=\"1\" class=\"dataframe\">\n",
       "  <thead>\n",
       "    <tr style=\"text-align: right;\">\n",
       "      <th></th>\n",
       "      <th>gameId</th>\n",
       "      <th>playId</th>\n",
       "      <th>frameId</th>\n",
       "      <th>method</th>\n",
       "      <th>window_type</th>\n",
       "      <th>area</th>\n",
       "    </tr>\n",
       "  </thead>\n",
       "  <tbody>\n",
       "    <tr>\n",
       "      <th>0</th>\n",
       "      <td>1</td>\n",
       "      <td>1</td>\n",
       "      <td>5</td>\n",
       "      <td>A</td>\n",
       "      <td>after_snap</td>\n",
       "      <td>100</td>\n",
       "    </tr>\n",
       "    <tr>\n",
       "      <th>1</th>\n",
       "      <td>1</td>\n",
       "      <td>1</td>\n",
       "      <td>6</td>\n",
       "      <td>A</td>\n",
       "      <td>after_snap</td>\n",
       "      <td>120</td>\n",
       "    </tr>\n",
       "    <tr>\n",
       "      <th>2</th>\n",
       "      <td>1</td>\n",
       "      <td>1</td>\n",
       "      <td>25</td>\n",
       "      <td>A</td>\n",
       "      <td>after_snap</td>\n",
       "      <td>80</td>\n",
       "    </tr>\n",
       "    <tr>\n",
       "      <th>3</th>\n",
       "      <td>1</td>\n",
       "      <td>1</td>\n",
       "      <td>5</td>\n",
       "      <td>B</td>\n",
       "      <td>after_snap</td>\n",
       "      <td>20</td>\n",
       "    </tr>\n",
       "    <tr>\n",
       "      <th>4</th>\n",
       "      <td>1</td>\n",
       "      <td>1</td>\n",
       "      <td>6</td>\n",
       "      <td>B</td>\n",
       "      <td>after_snap</td>\n",
       "      <td>30</td>\n",
       "    </tr>\n",
       "    <tr>\n",
       "      <th>5</th>\n",
       "      <td>1</td>\n",
       "      <td>1</td>\n",
       "      <td>25</td>\n",
       "      <td>B</td>\n",
       "      <td>after_snap</td>\n",
       "      <td>12</td>\n",
       "    </tr>\n",
       "    <tr>\n",
       "      <th>6</th>\n",
       "      <td>1</td>\n",
       "      <td>1</td>\n",
       "      <td>12</td>\n",
       "      <td>A</td>\n",
       "      <td>before_pass</td>\n",
       "      <td>110</td>\n",
       "    </tr>\n",
       "    <tr>\n",
       "      <th>7</th>\n",
       "      <td>1</td>\n",
       "      <td>1</td>\n",
       "      <td>32</td>\n",
       "      <td>A</td>\n",
       "      <td>before_pass</td>\n",
       "      <td>75</td>\n",
       "    </tr>\n",
       "    <tr>\n",
       "      <th>8</th>\n",
       "      <td>1</td>\n",
       "      <td>1</td>\n",
       "      <td>12</td>\n",
       "      <td>B</td>\n",
       "      <td>before_pass</td>\n",
       "      <td>15</td>\n",
       "    </tr>\n",
       "    <tr>\n",
       "      <th>9</th>\n",
       "      <td>1</td>\n",
       "      <td>1</td>\n",
       "      <td>32</td>\n",
       "      <td>B</td>\n",
       "      <td>before_pass</td>\n",
       "      <td>8</td>\n",
       "    </tr>\n",
       "    <tr>\n",
       "      <th>10</th>\n",
       "      <td>2</td>\n",
       "      <td>2</td>\n",
       "      <td>5</td>\n",
       "      <td>A</td>\n",
       "      <td>after_snap</td>\n",
       "      <td>110</td>\n",
       "    </tr>\n",
       "    <tr>\n",
       "      <th>11</th>\n",
       "      <td>2</td>\n",
       "      <td>2</td>\n",
       "      <td>6</td>\n",
       "      <td>A</td>\n",
       "      <td>after_snap</td>\n",
       "      <td>130</td>\n",
       "    </tr>\n",
       "    <tr>\n",
       "      <th>12</th>\n",
       "      <td>2</td>\n",
       "      <td>2</td>\n",
       "      <td>25</td>\n",
       "      <td>A</td>\n",
       "      <td>after_snap</td>\n",
       "      <td>85</td>\n",
       "    </tr>\n",
       "    <tr>\n",
       "      <th>13</th>\n",
       "      <td>2</td>\n",
       "      <td>2</td>\n",
       "      <td>5</td>\n",
       "      <td>B</td>\n",
       "      <td>after_snap</td>\n",
       "      <td>25</td>\n",
       "    </tr>\n",
       "    <tr>\n",
       "      <th>14</th>\n",
       "      <td>2</td>\n",
       "      <td>2</td>\n",
       "      <td>6</td>\n",
       "      <td>B</td>\n",
       "      <td>after_snap</td>\n",
       "      <td>35</td>\n",
       "    </tr>\n",
       "    <tr>\n",
       "      <th>15</th>\n",
       "      <td>2</td>\n",
       "      <td>2</td>\n",
       "      <td>25</td>\n",
       "      <td>B</td>\n",
       "      <td>after_snap</td>\n",
       "      <td>17</td>\n",
       "    </tr>\n",
       "    <tr>\n",
       "      <th>16</th>\n",
       "      <td>2</td>\n",
       "      <td>2</td>\n",
       "      <td>12</td>\n",
       "      <td>A</td>\n",
       "      <td>before_pass</td>\n",
       "      <td>115</td>\n",
       "    </tr>\n",
       "    <tr>\n",
       "      <th>17</th>\n",
       "      <td>2</td>\n",
       "      <td>2</td>\n",
       "      <td>32</td>\n",
       "      <td>A</td>\n",
       "      <td>before_pass</td>\n",
       "      <td>80</td>\n",
       "    </tr>\n",
       "    <tr>\n",
       "      <th>18</th>\n",
       "      <td>2</td>\n",
       "      <td>2</td>\n",
       "      <td>12</td>\n",
       "      <td>B</td>\n",
       "      <td>before_pass</td>\n",
       "      <td>18</td>\n",
       "    </tr>\n",
       "    <tr>\n",
       "      <th>19</th>\n",
       "      <td>2</td>\n",
       "      <td>2</td>\n",
       "      <td>32</td>\n",
       "      <td>B</td>\n",
       "      <td>before_pass</td>\n",
       "      <td>12</td>\n",
       "    </tr>\n",
       "  </tbody>\n",
       "</table>\n",
       "</div>"
      ],
      "text/plain": [
       "    gameId  playId  frameId method  window_type  area\n",
       "0        1       1        5      A   after_snap   100\n",
       "1        1       1        6      A   after_snap   120\n",
       "2        1       1       25      A   after_snap    80\n",
       "3        1       1        5      B   after_snap    20\n",
       "4        1       1        6      B   after_snap    30\n",
       "5        1       1       25      B   after_snap    12\n",
       "6        1       1       12      A  before_pass   110\n",
       "7        1       1       32      A  before_pass    75\n",
       "8        1       1       12      B  before_pass    15\n",
       "9        1       1       32      B  before_pass     8\n",
       "10       2       2        5      A   after_snap   110\n",
       "11       2       2        6      A   after_snap   130\n",
       "12       2       2       25      A   after_snap    85\n",
       "13       2       2        5      B   after_snap    25\n",
       "14       2       2        6      B   after_snap    35\n",
       "15       2       2       25      B   after_snap    17\n",
       "16       2       2       12      A  before_pass   115\n",
       "17       2       2       32      A  before_pass    80\n",
       "18       2       2       12      B  before_pass    18\n",
       "19       2       2       32      B  before_pass    12"
      ]
     },
     "execution_count": 7,
     "metadata": {},
     "output_type": "execute_result"
    }
   ],
   "source": [
    "\"\"\"\n",
    "Pseudocode:\n",
    "\n",
    "- 4. Calculate average pocket loss per second\n",
    "- I need a dataset that gives me: gameId, playId, method, window_type, pocket_area_start, pocket_area_end, time_start, time_end\n",
    "- (variation can be `after_snap` or `before_pass`)\n",
    "\n",
    "- 3. Create a dataset that has the above columns\n",
    "- I need to filter a dataset to only rows that are in the time frame\n",
    "\n",
    "- 2. Create a dataset filtered to only rows that are in the time frame\n",
    "- I need to join tracking to area to events\n",
    "\n",
    "- 1. Create a dataset that has the events for each frame\n",
    "- I need tracking data\n",
    "\n",
    "List of flow of tasks:\n",
    "\n",
    "A. Clean event data (autoevent and event adjustment)\n",
    "B1. Filter frame data to only X seconds after snap (depends on A)\n",
    "B2. Filter frame data to only X seconds before pass (depends on A)\n",
    "\tX will be a variable in the function\n",
    "C. Union frame data with different window types (depends on B1, B2)\n",
    "\n",
    "D1. Calculate pocket area for passer radius\n",
    "D2. Calculate pocket area for blocker convex hull\n",
    "D3. Calculate pocket area for rusher convex hull\n",
    "E. Union pocket area data with different methods (depends D1, D2, D3)\n",
    "\n",
    "F. Join frame data with different window types to pocket area (depends on C, E)\n",
    "G. Calculate play pcoket metrics (depends on F)\n",
    "H. Calculate average pocket area loss per second (depends on H)\n",
    "\n",
    "Diagram of flow of tasks:\n",
    "\n",
    "  A\n",
    " / \\\n",
    "B1 B2  D1 D2 D3\n",
    " \\ /     \\ | /\n",
    "  C        E\n",
    "   \\______/\n",
    "   |\n",
    "   F\n",
    "   |\n",
    "   G\n",
    "   |\n",
    "   H\n",
    "\n",
    "\"\"\"\n",
    "\n",
    "\n",
    "import pandas as pd\n",
    "\n",
    "def get_average_pocket_area_loss_per_second(area_start, area_end, time_start, time_end):\n",
    "    time_delta = time_end - time_start\n",
    "    if time_delta == 0:\n",
    "        return 0\n",
    "  \n",
    "    area_delta = area_end - area_start\n",
    "    return area_delta / time_delta\n",
    "\n",
    "def calculate_average_pocket_area_loss_per_second(\n",
    "  df_play_pocket_metrics: pd.DataFrame\n",
    ") -> pd.DataFrame:\n",
    "    \"\"\"\n",
    "    Parameters:\n",
    "    df_play_pocket_metrics: DataFrame for every play, pocket area method,\n",
    "        and window type, with metrics related to pocket area.\n",
    "      Contains columns:\n",
    "        - gameId (PK)\n",
    "        - playId (PK)\n",
    "        - method (PK)\n",
    "        - window_type (PK)\n",
    "        - pocket_area_start\n",
    "        - pocket_area_end\n",
    "        - time_start\n",
    "        - time_end\n",
    "\n",
    "    Returns:\n",
    "        DataFrame with pocket are loss per second for each primary key.\n",
    "    Contains columns:\n",
    "        - gameId (PK)\n",
    "        - playId (PK)\n",
    "        - method (PK)\n",
    "        - window_type (PK)\n",
    "        - average_pocket_loss_per_second\n",
    "    \"\"\"\n",
    "    df_metric = pd.DataFrame(df_play_pocket_metrics)\n",
    "    df_metric[\"average_pocket_area_loss_per_second\"] = df_metric.apply(\n",
    "        lambda df: get_average_pocket_area_loss_per_second(\n",
    "            area_start=df[\"area_start\"],\n",
    "            area_end=df[\"area_end\"],\n",
    "            time_start=df[\"time_start\"],\n",
    "            time_end=df[\"time_end\"],\n",
    "        ),\n",
    "        axis=1\n",
    "    )\n",
    "    return df_metric\n",
    "\n",
    "def get_play_pocket_metrics(df_area: pd.DataFrame) -> pd.DataFrame:\n",
    "    \"\"\"\n",
    "    Parameters:\n",
    "    df_area:\n",
    "      Contains columns:\n",
    "        - gameId (PK)\n",
    "        - playId (PK)\n",
    "        - frameId (PK)\n",
    "        - method (PK)\n",
    "        - window_type (PK)\n",
    "        - area\n",
    "\n",
    "    The input can contain as many types of time window as needed.\n",
    "    For example:\n",
    "    - window_type = `x_after_snap`:\n",
    "      - Already filtered out frames before the snap.\n",
    "        - Already filtered out any plays that end less than X seconds after snap.\n",
    "    - window_type = `x_before_pass`:\n",
    "      - Already filtered out frames earlier than X seconds before pass.\n",
    "      - Already filtered out frames after pass.\n",
    "        - Already filtered out any plays where the pass is less than X seconds after the snapp\n",
    "\n",
    "    Returns:\n",
    "    Contains columns:\n",
    "        - gameId (PK)\n",
    "        - playId (PK)\n",
    "        - method (PK)\n",
    "        - window_type (PK)\n",
    "        - pocket_area_start\n",
    "        - pocket_area_end\n",
    "        - time_start\n",
    "        - time_end\n",
    "    \"\"\"\n",
    "    # Copy input and add columns to mark start and end of time window.\n",
    "    df = pd.DataFrame(df_area)\n",
    "    # Find the first and last frame of each play.\n",
    "    play_keys = [\"gameId\", \"playId\", \"method\", \"window_type\"]\n",
    "    aggregations = {\n",
    "        \"min\": (\"frameId\", min),\n",
    "        \"max\": (\"frameId\", max),\n",
    "        }\n",
    "    df_time_window = df.groupby(play_keys).agg(**aggregations).reset_index()\n",
    "    \"\"\"\n",
    "    df_time_window =\n",
    "    gameId\tplayId\t\tmethod\twindow_type\t\tmin\t\tmax\n",
    "    1\t\t\t\t1\t\t\t\t\tA\t\t\t\tafter_snap\t\t5\t\t\t25\n",
    "    1\t\t\t\t2\t\t\t\t\tA\t\t\t\tafter_snap\t\t2\t\t\t22\n",
    "    1\t\t\t\t1\t\t\t\t\tB\t\t\t\tafter_snap\t\t5\t\t\t25\n",
    "    1\t\t\t\t2\t\t\t\t\tB\t\t\t\tafter_snap\t\t2\t\t\t22\n",
    "    1\t\t\t\t1\t\t\t\t\tA\t\t\t\tbefore_pass\t\t...\n",
    "    ...\n",
    "    \"\"\"\n",
    "    # Join in the start pocket area for each play.\n",
    "    # Note: The join should explode if there are multiple `method` rows, so that we get each of them.\n",
    "    # Note: The join columns have different names on each side.\n",
    "    df_with_start = df_time_window.merge(\n",
    "        df,\n",
    "        left_on=(play_keys + [\"min\"]),\n",
    "        right_on=(play_keys + [\"frameId\"]),\n",
    "        how=\"left\"\n",
    "    ).rename(columns = {\"area\": \"area_start\"})\n",
    "    # Join in the end pocket area for each play.\n",
    "    df_with_both = df_with_start.merge(\n",
    "        df,\n",
    "        left_on=(play_keys + [\"max\"]),\n",
    "        right_on=(play_keys + [\"frameId\"]),\n",
    "        how=\"left\"\n",
    "    ).rename(columns = {\"area\": \"area_end\"}).drop(columns = ['frameId_x', 'frameId_y'])\n",
    "    \"\"\"\n",
    "    gameId\tplayId\t\tmethod\t\twindow_type\t\tmin\t\tmax\t\tarea_start\tarea_end\n",
    "    1\t\t\t\t1\t\t\t\t\tA\t\t\t\t\tafter_snap\t\t5\t\t\t25\t\t100\t\t\t\t\t80\n",
    "    1\t\t\t\t2\t\t\t\t\tA\t\t\t\t\tafter_snap\t\t2\t\t\t22\t\t120\t\t\t\t\t95\n",
    "    1\t\t\t\t1\t\t\t\t\tB\t\t\t\t\tafter_snap\t\t5\t\t\t25\t\t20\t\t\t\t\t12\n",
    "    1\t\t\t\t2\t\t\t\t\tB\t\t\t\t\tafter_snap\t\t2\t\t\t22\t\t23\t\t\t\t\t20\n",
    "    1\t\t\t\t1\t\t\t\t\tA\t\t\t\t\tbefore_pass\t\t...\n",
    "    ...\n",
    "    \"\"\"\n",
    "    frames_per_second = 10.0\n",
    "    df_with_both[\"time_start\"] = df_with_both[\"min\"].astype(float) / frames_per_second\n",
    "    df_with_both[\"time_end\"] = df_with_both[\"max\"].astype(float) / frames_per_second\n",
    "    return df_with_both\n",
    "\n",
    "\n",
    "df_area_with_window = pd.DataFrame([\n",
    "    # Frames inside window, but not outside window.\n",
    "    {\"gameId\": 1, \"playId\": 1, \"frameId\": 5, \"method\": \"A\", \"window_type\": \"after_snap\", \"area\": 100},\n",
    "    {\"gameId\": 1, \"playId\": 1, \"frameId\": 6, \"method\": \"A\", \"window_type\": \"after_snap\", \"area\": 120},\n",
    "    {\"gameId\": 1, \"playId\": 1, \"frameId\": 25, \"method\": \"A\", \"window_type\": \"after_snap\", \"area\": 80},\n",
    "\n",
    "    # Multiple pocket area methods.\n",
    "    {\"gameId\": 1, \"playId\": 1, \"frameId\": 5, \"method\": \"B\", \"window_type\": \"after_snap\", \"area\": 20},\n",
    "    {\"gameId\": 1, \"playId\": 1, \"frameId\": 6, \"method\": \"B\", \"window_type\": \"after_snap\", \"area\": 30},\n",
    "    {\"gameId\": 1, \"playId\": 1, \"frameId\": 25, \"method\": \"B\", \"window_type\": \"after_snap\", \"area\": 12},\n",
    "\n",
    "    # Multiple window types.\n",
    "    {\"gameId\": 1, \"playId\": 1, \"frameId\": 12, \"method\": \"A\", \"window_type\": \"before_pass\", \"area\": 110},\n",
    "    {\"gameId\": 1, \"playId\": 1, \"frameId\": 32, \"method\": \"A\", \"window_type\": \"before_pass\", \"area\": 75},\n",
    "    {\"gameId\": 1, \"playId\": 1, \"frameId\": 12, \"method\": \"B\", \"window_type\": \"before_pass\", \"area\": 15},\n",
    "    {\"gameId\": 1, \"playId\": 1, \"frameId\": 32, \"method\": \"B\", \"window_type\": \"before_pass\", \"area\": 8},\n",
    "\n",
    "    # Multiple plays.\n",
    "    {\"gameId\": 2, \"playId\": 2, \"frameId\": 5, \"method\": \"A\", \"window_type\": \"after_snap\", \"area\": 110},\n",
    "    {\"gameId\": 2, \"playId\": 2, \"frameId\": 6, \"method\": \"A\", \"window_type\": \"after_snap\", \"area\": 130},\n",
    "    {\"gameId\": 2, \"playId\": 2, \"frameId\": 25, \"method\": \"A\", \"window_type\": \"after_snap\", \"area\": 85},\n",
    "    {\"gameId\": 2, \"playId\": 2, \"frameId\": 5, \"method\": \"B\", \"window_type\": \"after_snap\", \"area\": 25},\n",
    "    {\"gameId\": 2, \"playId\": 2, \"frameId\": 6, \"method\": \"B\", \"window_type\": \"after_snap\", \"area\": 35},\n",
    "    {\"gameId\": 2, \"playId\": 2, \"frameId\": 25, \"method\": \"B\", \"window_type\": \"after_snap\", \"area\": 17},\n",
    "    {\"gameId\": 2, \"playId\": 2, \"frameId\": 12, \"method\": \"A\", \"window_type\": \"before_pass\", \"area\": 115},\n",
    "    {\"gameId\": 2, \"playId\": 2, \"frameId\": 32, \"method\": \"A\", \"window_type\": \"before_pass\", \"area\": 80},\n",
    "    {\"gameId\": 2, \"playId\": 2, \"frameId\": 12, \"method\": \"B\", \"window_type\": \"before_pass\", \"area\": 18},\n",
    "    {\"gameId\": 2, \"playId\": 2, \"frameId\": 32, \"method\": \"B\", \"window_type\": \"before_pass\", \"area\": 12},\n",
    "])\n",
    "df_play_pocket_metrics = get_play_pocket_metrics(df_area_with_window)\n",
    "get_play_pocket_metrics(df_area_with_window)\n",
    "df_area_with_window"
   ]
  },
  {
   "cell_type": "code",
   "execution_count": 8,
   "id": "7681a46d",
   "metadata": {},
   "outputs": [
    {
     "data": {
      "text/html": [
       "<div>\n",
       "<style scoped>\n",
       "    .dataframe tbody tr th:only-of-type {\n",
       "        vertical-align: middle;\n",
       "    }\n",
       "\n",
       "    .dataframe tbody tr th {\n",
       "        vertical-align: top;\n",
       "    }\n",
       "\n",
       "    .dataframe thead th {\n",
       "        text-align: right;\n",
       "    }\n",
       "</style>\n",
       "<table border=\"1\" class=\"dataframe\">\n",
       "  <thead>\n",
       "    <tr style=\"text-align: right;\">\n",
       "      <th></th>\n",
       "      <th>gameId</th>\n",
       "      <th>playId</th>\n",
       "      <th>frameId</th>\n",
       "      <th>event</th>\n",
       "      <th>frame_start</th>\n",
       "      <th>frame_end</th>\n",
       "      <th>passer_out_of_pocket</th>\n",
       "      <th>eligible_for_pocket</th>\n",
       "      <th>window_type</th>\n",
       "      <th>method</th>\n",
       "      <th>area</th>\n",
       "    </tr>\n",
       "  </thead>\n",
       "  <tbody>\n",
       "    <tr>\n",
       "      <th>0</th>\n",
       "      <td>2021090900</td>\n",
       "      <td>97</td>\n",
       "      <td>1</td>\n",
       "      <td>NaN</td>\n",
       "      <td>6</td>\n",
       "      <td>38</td>\n",
       "      <td>False</td>\n",
       "      <td>False</td>\n",
       "      <td>after_pass</td>\n",
       "      <td>passer_radius</td>\n",
       "      <td>104.729389</td>\n",
       "    </tr>\n",
       "    <tr>\n",
       "      <th>1</th>\n",
       "      <td>2021090900</td>\n",
       "      <td>97</td>\n",
       "      <td>1</td>\n",
       "      <td>NaN</td>\n",
       "      <td>6</td>\n",
       "      <td>38</td>\n",
       "      <td>False</td>\n",
       "      <td>False</td>\n",
       "      <td>after_pass</td>\n",
       "      <td>blocker_convex_hull</td>\n",
       "      <td>12.440200</td>\n",
       "    </tr>\n",
       "    <tr>\n",
       "      <th>2</th>\n",
       "      <td>2021090900</td>\n",
       "      <td>97</td>\n",
       "      <td>2</td>\n",
       "      <td>NaN</td>\n",
       "      <td>6</td>\n",
       "      <td>38</td>\n",
       "      <td>False</td>\n",
       "      <td>False</td>\n",
       "      <td>after_pass</td>\n",
       "      <td>passer_radius</td>\n",
       "      <td>104.014363</td>\n",
       "    </tr>\n",
       "    <tr>\n",
       "      <th>3</th>\n",
       "      <td>2021090900</td>\n",
       "      <td>97</td>\n",
       "      <td>2</td>\n",
       "      <td>NaN</td>\n",
       "      <td>6</td>\n",
       "      <td>38</td>\n",
       "      <td>False</td>\n",
       "      <td>False</td>\n",
       "      <td>after_pass</td>\n",
       "      <td>blocker_convex_hull</td>\n",
       "      <td>12.357150</td>\n",
       "    </tr>\n",
       "    <tr>\n",
       "      <th>4</th>\n",
       "      <td>2021090900</td>\n",
       "      <td>97</td>\n",
       "      <td>3</td>\n",
       "      <td>NaN</td>\n",
       "      <td>6</td>\n",
       "      <td>38</td>\n",
       "      <td>False</td>\n",
       "      <td>False</td>\n",
       "      <td>after_pass</td>\n",
       "      <td>passer_radius</td>\n",
       "      <td>103.956872</td>\n",
       "    </tr>\n",
       "    <tr>\n",
       "      <th>5</th>\n",
       "      <td>2021090900</td>\n",
       "      <td>97</td>\n",
       "      <td>3</td>\n",
       "      <td>NaN</td>\n",
       "      <td>6</td>\n",
       "      <td>38</td>\n",
       "      <td>False</td>\n",
       "      <td>False</td>\n",
       "      <td>after_pass</td>\n",
       "      <td>blocker_convex_hull</td>\n",
       "      <td>12.353000</td>\n",
       "    </tr>\n",
       "    <tr>\n",
       "      <th>6</th>\n",
       "      <td>2021090900</td>\n",
       "      <td>97</td>\n",
       "      <td>4</td>\n",
       "      <td>NaN</td>\n",
       "      <td>6</td>\n",
       "      <td>38</td>\n",
       "      <td>False</td>\n",
       "      <td>False</td>\n",
       "      <td>after_pass</td>\n",
       "      <td>passer_radius</td>\n",
       "      <td>104.917257</td>\n",
       "    </tr>\n",
       "    <tr>\n",
       "      <th>7</th>\n",
       "      <td>2021090900</td>\n",
       "      <td>97</td>\n",
       "      <td>4</td>\n",
       "      <td>NaN</td>\n",
       "      <td>6</td>\n",
       "      <td>38</td>\n",
       "      <td>False</td>\n",
       "      <td>False</td>\n",
       "      <td>after_pass</td>\n",
       "      <td>blocker_convex_hull</td>\n",
       "      <td>12.532450</td>\n",
       "    </tr>\n",
       "    <tr>\n",
       "      <th>8</th>\n",
       "      <td>2021090900</td>\n",
       "      <td>97</td>\n",
       "      <td>5</td>\n",
       "      <td>NaN</td>\n",
       "      <td>6</td>\n",
       "      <td>38</td>\n",
       "      <td>False</td>\n",
       "      <td>False</td>\n",
       "      <td>after_pass</td>\n",
       "      <td>passer_radius</td>\n",
       "      <td>105.332575</td>\n",
       "    </tr>\n",
       "    <tr>\n",
       "      <th>9</th>\n",
       "      <td>2021090900</td>\n",
       "      <td>97</td>\n",
       "      <td>5</td>\n",
       "      <td>NaN</td>\n",
       "      <td>6</td>\n",
       "      <td>38</td>\n",
       "      <td>False</td>\n",
       "      <td>False</td>\n",
       "      <td>after_pass</td>\n",
       "      <td>blocker_convex_hull</td>\n",
       "      <td>12.710200</td>\n",
       "    </tr>\n",
       "  </tbody>\n",
       "</table>\n",
       "</div>"
      ],
      "text/plain": [
       "       gameId  playId  frameId event  frame_start  frame_end  \\\n",
       "0  2021090900      97        1   NaN            6         38   \n",
       "1  2021090900      97        1   NaN            6         38   \n",
       "2  2021090900      97        2   NaN            6         38   \n",
       "3  2021090900      97        2   NaN            6         38   \n",
       "4  2021090900      97        3   NaN            6         38   \n",
       "5  2021090900      97        3   NaN            6         38   \n",
       "6  2021090900      97        4   NaN            6         38   \n",
       "7  2021090900      97        4   NaN            6         38   \n",
       "8  2021090900      97        5   NaN            6         38   \n",
       "9  2021090900      97        5   NaN            6         38   \n",
       "\n",
       "   passer_out_of_pocket  eligible_for_pocket window_type               method  \\\n",
       "0                 False                False  after_pass        passer_radius   \n",
       "1                 False                False  after_pass  blocker_convex_hull   \n",
       "2                 False                False  after_pass        passer_radius   \n",
       "3                 False                False  after_pass  blocker_convex_hull   \n",
       "4                 False                False  after_pass        passer_radius   \n",
       "5                 False                False  after_pass  blocker_convex_hull   \n",
       "6                 False                False  after_pass        passer_radius   \n",
       "7                 False                False  after_pass  blocker_convex_hull   \n",
       "8                 False                False  after_pass        passer_radius   \n",
       "9                 False                False  after_pass  blocker_convex_hull   \n",
       "\n",
       "         area  \n",
       "0  104.729389  \n",
       "1   12.440200  \n",
       "2  104.014363  \n",
       "3   12.357150  \n",
       "4  103.956872  \n",
       "5   12.353000  \n",
       "6  104.917257  \n",
       "7   12.532450  \n",
       "8  105.332575  \n",
       "9   12.710200  "
      ]
     },
     "execution_count": 8,
     "metadata": {},
     "output_type": "execute_result"
    }
   ],
   "source": [
    "DIR = \"/workspace/nflbigdatabowl2023\"\n",
    "df_events = pd.read_csv(f\"{DIR}/data/outputs/events.csv\")\n",
    "df_areas = pd.read_csv(f\"{DIR}/data/outputs/pocket_areas.csv\")\n",
    "df = pd.DataFrame(df_events)\n",
    "df[\"window_type\"] = \"after_pass\"\n",
    "df_events.query(\"event == 'ball_snap'\")\n",
    "df.merge(df_areas.drop(columns = [\"pocket\"]), how = \"left\").head(10)"
   ]
  },
  {
   "cell_type": "code",
   "execution_count": 13,
   "id": "bf05f2dd",
   "metadata": {},
   "outputs": [],
   "source": [
    "def get_frames_with_area_and_filter(\n",
    "    df_events: pd.DataFrame,\n",
    "    frames_factor: int) -> pd.DataFrame:\n",
    "    #This method will apply all the area algorithms to the dataframe and filter out plays\n",
    "    \"\"\"\n",
    "    Parameters:\n",
    "    df_events:\n",
    "      Contains columns:\n",
    "        - gameId (PK)\n",
    "        - playId (PK)\n",
    "        - frameId (PK)\n",
    "        - event\n",
    "        - frame_start (snap of the ball)\n",
    "        - frame_end (pass, sack, etc)\n",
    "        - passer_out_of_pocket\n",
    "        - elgible_for_pocket\n",
    "    \n",
    "    second_factor:\n",
    "        -X seconds factor after snap/before snap\n",
    "\n",
    "    The input can contain as many types of time window as needed.\n",
    "    For example:\n",
    "    - window_type = `x_after_snap`:\n",
    "      - Already filtered out frames before the snap.\n",
    "        - Already filtered out any plays that end less than X seconds after snap.\n",
    "    - window_type = `x_before_pass`:\n",
    "      - Already filtered out frames earlier than X seconds before pass.\n",
    "      - Already filtered out frames after pass.\n",
    "        - Already filtered out any plays where the pass is less than X seconds after the snapp\n",
    "\n",
    "    Returns:\n",
    "    Contains columns:\n",
    "        - gameId (PK)\n",
    "        - playId (PK)\n",
    "        - frameId (PK)\n",
    "        - method (PK)\n",
    "        - window_type (PK)\n",
    "        - area\n",
    "    \"\"\"\n",
    "    #df_areas possibly put as a parameter for this method??\n",
    "    df_areas = pd.read_csv(f\"{DIR}/data/outputs/pocket_areas.csv\")\n",
    "    \n",
    "    df = pd.DataFrame(df_events)\n",
    "    #join to add frame where pass happened\n",
    "    df_pass = df.query(\"event == 'pass_forward'\")[[\"gameId\", \"playId\", \"frameId\"]].rename(columns = {\"frameId\": \"pass_frame\"})\n",
    "    df = df.merge(df_pass, how=\"left\", on= [\"gameId\", \"playId\"])\n",
    "\n",
    "    df[\"frames_elapsed\"] = df[\"frameId\"] - df[\"frame_start\"]\n",
    "    df[\"window_size\"] = frames_factor\n",
    "    df[\"total_frames\"] = df[\"frame_end\"] - df[\"frame_start\"]\n",
    "    \n",
    "    #this is not the frame immediately before the pass, this is the frame factor before the pass frame\n",
    "    df[\"frame_before_pass\"] = df[\"pass_frame\"] - frames_factor    \n",
    "    \n",
    "    query_x_before_pass = (\n",
    "        \"pass_frame == pass_frame \"\n",
    "        \"and frameId <= pass_frame \"\n",
    "        \"and frameId >= frame_before_pass \"\n",
    "        \"and frame_before_pass >= frame_start \"\n",
    "        )\n",
    "    df_before_pass = pd.DataFrame(df.query(query_x_before_pass))\n",
    "    df_before_pass[\"window_type\"] = \"before_pass\"\n",
    "    \n",
    "    query_x_after_snap = (\n",
    "        \"frameId >= frame_start \"\n",
    "        \"and frames_elapsed <= window_size \"\n",
    "        \"and total_frames >= window_size \"\n",
    "    )\n",
    "    df_after_snap = pd.DataFrame(df.query(query_x_after_snap))\n",
    "    df_after_snap[\"window_type\"] = \"after_snap\"\n",
    "    \n",
    "    df_windows = pd.concat([df_after_snap, df_before_pass])\n",
    "    \n",
    "    #filter 1:\n",
    "    #getting accurate after snap frames and declaring frame as \"after_snap\" window type\n",
    "    # frameId >= frameStart, elapsedFrames < frameEnd, frameEnd - frameStart > frame_window\n",
    "#     factor_one = \"frameId >= {first_frame} and frameId <= {second_frame}\".format(first_frame = df[\"frame_start\"] + frames_factor, second_frame = df[\"frame_end\"])\n",
    "    \n",
    "    \n",
    "    #getting accurate before snap frames and declaring frame as \"before_pass\" window type    \n",
    "#     df_before_pass = df.query(\"frameId >= {first_frame} and frameId <= {second_frame}\".format(first_frame = df[\"frame_end\"] - frames_factor, second_frame = df[\"frame_end\"]))\n",
    "#     df_before_pass[\"window_type\"] = \"before_pass\"\n",
    "    \n",
    "    #merging after_snap and before_pass with area dataframe\n",
    "    df_out = df_windows.merge(df_areas, on = [\"gameId\", \"playId\", \"frameId\"], how = \"left\")\n",
    "#     merged_before_pass_with_area = df_before_pass.merge(df_areas.drop(columns = [\"pocket\"]), how = \"left\")\n",
    "    #Combining the two merged dataframes\n",
    "#     prefiltered_returned_frames = pd.concat([merged_after_snap_with_area, merged_before_pass_with_area])\n",
    "    \n",
    "    #filter 2: making sure all the frames are elgible to be a pocket\n",
    "#     returned_frames = prefiltered_returned_frames.query(\"eligible_for_pocket == True\")\n",
    "    \n",
    "    return df_out"
   ]
  },
  {
   "cell_type": "code",
   "execution_count": 14,
   "id": "39c4b283",
   "metadata": {},
   "outputs": [
    {
     "data": {
      "text/html": [
       "<div>\n",
       "<style scoped>\n",
       "    .dataframe tbody tr th:only-of-type {\n",
       "        vertical-align: middle;\n",
       "    }\n",
       "\n",
       "    .dataframe tbody tr th {\n",
       "        vertical-align: top;\n",
       "    }\n",
       "\n",
       "    .dataframe thead th {\n",
       "        text-align: right;\n",
       "    }\n",
       "</style>\n",
       "<table border=\"1\" class=\"dataframe\">\n",
       "  <thead>\n",
       "    <tr style=\"text-align: right;\">\n",
       "      <th></th>\n",
       "      <th>gameId</th>\n",
       "      <th>playId</th>\n",
       "      <th>method</th>\n",
       "      <th>window_type</th>\n",
       "      <th>average_pocket_area_loss_per_second</th>\n",
       "    </tr>\n",
       "  </thead>\n",
       "  <tbody>\n",
       "    <tr>\n",
       "      <th>0</th>\n",
       "      <td>2021090900</td>\n",
       "      <td>97</td>\n",
       "      <td>blocker_convex_hull</td>\n",
       "      <td>after_snap</td>\n",
       "      <td>1.270125</td>\n",
       "    </tr>\n",
       "    <tr>\n",
       "      <th>1</th>\n",
       "      <td>2021090900</td>\n",
       "      <td>97</td>\n",
       "      <td>blocker_convex_hull</td>\n",
       "      <td>before_pass</td>\n",
       "      <td>-0.208200</td>\n",
       "    </tr>\n",
       "    <tr>\n",
       "      <th>2</th>\n",
       "      <td>2021090900</td>\n",
       "      <td>97</td>\n",
       "      <td>passer_radius</td>\n",
       "      <td>after_snap</td>\n",
       "      <td>-24.834290</td>\n",
       "    </tr>\n",
       "    <tr>\n",
       "      <th>3</th>\n",
       "      <td>2021090900</td>\n",
       "      <td>97</td>\n",
       "      <td>passer_radius</td>\n",
       "      <td>before_pass</td>\n",
       "      <td>-28.882232</td>\n",
       "    </tr>\n",
       "    <tr>\n",
       "      <th>4</th>\n",
       "      <td>2021090900</td>\n",
       "      <td>137</td>\n",
       "      <td>blocker_convex_hull</td>\n",
       "      <td>after_snap</td>\n",
       "      <td>0.338525</td>\n",
       "    </tr>\n",
       "    <tr>\n",
       "      <th>5</th>\n",
       "      <td>2021090900</td>\n",
       "      <td>137</td>\n",
       "      <td>blocker_convex_hull</td>\n",
       "      <td>before_pass</td>\n",
       "      <td>0.363450</td>\n",
       "    </tr>\n",
       "    <tr>\n",
       "      <th>6</th>\n",
       "      <td>2021090900</td>\n",
       "      <td>137</td>\n",
       "      <td>passer_radius</td>\n",
       "      <td>after_snap</td>\n",
       "      <td>-14.991837</td>\n",
       "    </tr>\n",
       "    <tr>\n",
       "      <th>7</th>\n",
       "      <td>2021090900</td>\n",
       "      <td>137</td>\n",
       "      <td>passer_radius</td>\n",
       "      <td>before_pass</td>\n",
       "      <td>-31.299688</td>\n",
       "    </tr>\n",
       "    <tr>\n",
       "      <th>8</th>\n",
       "      <td>2021090900</td>\n",
       "      <td>187</td>\n",
       "      <td>blocker_convex_hull</td>\n",
       "      <td>after_snap</td>\n",
       "      <td>-0.278700</td>\n",
       "    </tr>\n",
       "    <tr>\n",
       "      <th>9</th>\n",
       "      <td>2021090900</td>\n",
       "      <td>187</td>\n",
       "      <td>blocker_convex_hull</td>\n",
       "      <td>before_pass</td>\n",
       "      <td>-0.278700</td>\n",
       "    </tr>\n",
       "    <tr>\n",
       "      <th>10</th>\n",
       "      <td>2021090900</td>\n",
       "      <td>187</td>\n",
       "      <td>passer_radius</td>\n",
       "      <td>after_snap</td>\n",
       "      <td>-22.442281</td>\n",
       "    </tr>\n",
       "    <tr>\n",
       "      <th>11</th>\n",
       "      <td>2021090900</td>\n",
       "      <td>187</td>\n",
       "      <td>passer_radius</td>\n",
       "      <td>before_pass</td>\n",
       "      <td>-22.442281</td>\n",
       "    </tr>\n",
       "    <tr>\n",
       "      <th>12</th>\n",
       "      <td>2021091200</td>\n",
       "      <td>56</td>\n",
       "      <td>blocker_convex_hull</td>\n",
       "      <td>after_snap</td>\n",
       "      <td>7.373700</td>\n",
       "    </tr>\n",
       "    <tr>\n",
       "      <th>13</th>\n",
       "      <td>2021091200</td>\n",
       "      <td>56</td>\n",
       "      <td>blocker_convex_hull</td>\n",
       "      <td>before_pass</td>\n",
       "      <td>8.236375</td>\n",
       "    </tr>\n",
       "    <tr>\n",
       "      <th>14</th>\n",
       "      <td>2021091200</td>\n",
       "      <td>56</td>\n",
       "      <td>passer_radius</td>\n",
       "      <td>after_snap</td>\n",
       "      <td>29.392741</td>\n",
       "    </tr>\n",
       "    <tr>\n",
       "      <th>15</th>\n",
       "      <td>2021091200</td>\n",
       "      <td>56</td>\n",
       "      <td>passer_radius</td>\n",
       "      <td>before_pass</td>\n",
       "      <td>8.751378</td>\n",
       "    </tr>\n",
       "    <tr>\n",
       "      <th>16</th>\n",
       "      <td>2021091200</td>\n",
       "      <td>122</td>\n",
       "      <td>blocker_convex_hull</td>\n",
       "      <td>after_snap</td>\n",
       "      <td>10.773625</td>\n",
       "    </tr>\n",
       "    <tr>\n",
       "      <th>17</th>\n",
       "      <td>2021091200</td>\n",
       "      <td>122</td>\n",
       "      <td>blocker_convex_hull</td>\n",
       "      <td>before_pass</td>\n",
       "      <td>16.784275</td>\n",
       "    </tr>\n",
       "    <tr>\n",
       "      <th>18</th>\n",
       "      <td>2021091200</td>\n",
       "      <td>122</td>\n",
       "      <td>passer_radius</td>\n",
       "      <td>after_snap</td>\n",
       "      <td>61.002032</td>\n",
       "    </tr>\n",
       "    <tr>\n",
       "      <th>19</th>\n",
       "      <td>2021091200</td>\n",
       "      <td>122</td>\n",
       "      <td>passer_radius</td>\n",
       "      <td>before_pass</td>\n",
       "      <td>7.271373</td>\n",
       "    </tr>\n",
       "    <tr>\n",
       "      <th>20</th>\n",
       "      <td>2021091201</td>\n",
       "      <td>63</td>\n",
       "      <td>blocker_convex_hull</td>\n",
       "      <td>after_snap</td>\n",
       "      <td>1.574675</td>\n",
       "    </tr>\n",
       "    <tr>\n",
       "      <th>21</th>\n",
       "      <td>2021091201</td>\n",
       "      <td>63</td>\n",
       "      <td>blocker_convex_hull</td>\n",
       "      <td>before_pass</td>\n",
       "      <td>0.777825</td>\n",
       "    </tr>\n",
       "    <tr>\n",
       "      <th>22</th>\n",
       "      <td>2021091201</td>\n",
       "      <td>63</td>\n",
       "      <td>passer_radius</td>\n",
       "      <td>after_snap</td>\n",
       "      <td>-30.234374</td>\n",
       "    </tr>\n",
       "    <tr>\n",
       "      <th>23</th>\n",
       "      <td>2021091201</td>\n",
       "      <td>63</td>\n",
       "      <td>passer_radius</td>\n",
       "      <td>before_pass</td>\n",
       "      <td>-34.071201</td>\n",
       "    </tr>\n",
       "    <tr>\n",
       "      <th>24</th>\n",
       "      <td>2021091201</td>\n",
       "      <td>111</td>\n",
       "      <td>blocker_convex_hull</td>\n",
       "      <td>after_snap</td>\n",
       "      <td>1.440650</td>\n",
       "    </tr>\n",
       "    <tr>\n",
       "      <th>25</th>\n",
       "      <td>2021091201</td>\n",
       "      <td>111</td>\n",
       "      <td>blocker_convex_hull</td>\n",
       "      <td>before_pass</td>\n",
       "      <td>7.171275</td>\n",
       "    </tr>\n",
       "    <tr>\n",
       "      <th>26</th>\n",
       "      <td>2021091201</td>\n",
       "      <td>111</td>\n",
       "      <td>passer_radius</td>\n",
       "      <td>after_snap</td>\n",
       "      <td>-24.993097</td>\n",
       "    </tr>\n",
       "    <tr>\n",
       "      <th>27</th>\n",
       "      <td>2021091201</td>\n",
       "      <td>111</td>\n",
       "      <td>passer_radius</td>\n",
       "      <td>before_pass</td>\n",
       "      <td>-32.378196</td>\n",
       "    </tr>\n",
       "    <tr>\n",
       "      <th>28</th>\n",
       "      <td>2021091201</td>\n",
       "      <td>262</td>\n",
       "      <td>blocker_convex_hull</td>\n",
       "      <td>after_snap</td>\n",
       "      <td>1.543350</td>\n",
       "    </tr>\n",
       "    <tr>\n",
       "      <th>29</th>\n",
       "      <td>2021091201</td>\n",
       "      <td>262</td>\n",
       "      <td>blocker_convex_hull</td>\n",
       "      <td>before_pass</td>\n",
       "      <td>1.037750</td>\n",
       "    </tr>\n",
       "    <tr>\n",
       "      <th>30</th>\n",
       "      <td>2021091201</td>\n",
       "      <td>262</td>\n",
       "      <td>passer_radius</td>\n",
       "      <td>after_snap</td>\n",
       "      <td>-43.646932</td>\n",
       "    </tr>\n",
       "    <tr>\n",
       "      <th>31</th>\n",
       "      <td>2021091201</td>\n",
       "      <td>262</td>\n",
       "      <td>passer_radius</td>\n",
       "      <td>before_pass</td>\n",
       "      <td>-47.110067</td>\n",
       "    </tr>\n",
       "  </tbody>\n",
       "</table>\n",
       "</div>"
      ],
      "text/plain": [
       "        gameId  playId               method  window_type  \\\n",
       "0   2021090900      97  blocker_convex_hull   after_snap   \n",
       "1   2021090900      97  blocker_convex_hull  before_pass   \n",
       "2   2021090900      97        passer_radius   after_snap   \n",
       "3   2021090900      97        passer_radius  before_pass   \n",
       "4   2021090900     137  blocker_convex_hull   after_snap   \n",
       "5   2021090900     137  blocker_convex_hull  before_pass   \n",
       "6   2021090900     137        passer_radius   after_snap   \n",
       "7   2021090900     137        passer_radius  before_pass   \n",
       "8   2021090900     187  blocker_convex_hull   after_snap   \n",
       "9   2021090900     187  blocker_convex_hull  before_pass   \n",
       "10  2021090900     187        passer_radius   after_snap   \n",
       "11  2021090900     187        passer_radius  before_pass   \n",
       "12  2021091200      56  blocker_convex_hull   after_snap   \n",
       "13  2021091200      56  blocker_convex_hull  before_pass   \n",
       "14  2021091200      56        passer_radius   after_snap   \n",
       "15  2021091200      56        passer_radius  before_pass   \n",
       "16  2021091200     122  blocker_convex_hull   after_snap   \n",
       "17  2021091200     122  blocker_convex_hull  before_pass   \n",
       "18  2021091200     122        passer_radius   after_snap   \n",
       "19  2021091200     122        passer_radius  before_pass   \n",
       "20  2021091201      63  blocker_convex_hull   after_snap   \n",
       "21  2021091201      63  blocker_convex_hull  before_pass   \n",
       "22  2021091201      63        passer_radius   after_snap   \n",
       "23  2021091201      63        passer_radius  before_pass   \n",
       "24  2021091201     111  blocker_convex_hull   after_snap   \n",
       "25  2021091201     111  blocker_convex_hull  before_pass   \n",
       "26  2021091201     111        passer_radius   after_snap   \n",
       "27  2021091201     111        passer_radius  before_pass   \n",
       "28  2021091201     262  blocker_convex_hull   after_snap   \n",
       "29  2021091201     262  blocker_convex_hull  before_pass   \n",
       "30  2021091201     262        passer_radius   after_snap   \n",
       "31  2021091201     262        passer_radius  before_pass   \n",
       "\n",
       "    average_pocket_area_loss_per_second  \n",
       "0                              1.270125  \n",
       "1                             -0.208200  \n",
       "2                            -24.834290  \n",
       "3                            -28.882232  \n",
       "4                              0.338525  \n",
       "5                              0.363450  \n",
       "6                            -14.991837  \n",
       "7                            -31.299688  \n",
       "8                             -0.278700  \n",
       "9                             -0.278700  \n",
       "10                           -22.442281  \n",
       "11                           -22.442281  \n",
       "12                             7.373700  \n",
       "13                             8.236375  \n",
       "14                            29.392741  \n",
       "15                             8.751378  \n",
       "16                            10.773625  \n",
       "17                            16.784275  \n",
       "18                            61.002032  \n",
       "19                             7.271373  \n",
       "20                             1.574675  \n",
       "21                             0.777825  \n",
       "22                           -30.234374  \n",
       "23                           -34.071201  \n",
       "24                             1.440650  \n",
       "25                             7.171275  \n",
       "26                           -24.993097  \n",
       "27                           -32.378196  \n",
       "28                             1.543350  \n",
       "29                             1.037750  \n",
       "30                           -43.646932  \n",
       "31                           -47.110067  "
      ]
     },
     "execution_count": 14,
     "metadata": {},
     "output_type": "execute_result"
    }
   ],
   "source": [
    "df_area_with_windows_two = get_frames_with_area_and_filter(df_events, frames_factor = 20)\n",
    "df_pocket_metrics = get_play_pocket_metrics(df_area_with_windows_two)\n",
    "df_loss = calculate_average_pocket_area_loss_per_second(df_pocket_metrics)\n",
    "# df_area_with_windows\n",
    "df_loss[[\"gameId\", \"playId\", \"method\", \"window_type\", \"average_pocket_area_loss_per_second\"]].sort_values([\"gameId\", \"playId\"])"
   ]
  },
  {
   "cell_type": "code",
   "execution_count": null,
   "id": "07f16587",
   "metadata": {},
   "outputs": [],
   "source": []
  }
 ],
 "metadata": {
  "kernelspec": {
   "display_name": "Python 3 (ipykernel)",
   "language": "python",
   "name": "python3"
  },
  "language_info": {
   "codemirror_mode": {
    "name": "ipython",
    "version": 3
   },
   "file_extension": ".py",
   "mimetype": "text/x-python",
   "name": "python",
   "nbconvert_exporter": "python",
   "pygments_lexer": "ipython3",
   "version": "3.8.13"
  }
 },
 "nbformat": 4,
 "nbformat_minor": 5
}
