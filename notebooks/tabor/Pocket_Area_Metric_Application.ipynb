{
 "cells": [
  {
   "cell_type": "code",
   "execution_count": 1,
   "id": "9c47cb60",
   "metadata": {},
   "outputs": [],
   "source": [
    "%load_ext autoreload\n",
    "%autoreload 2"
   ]
  },
  {
   "cell_type": "code",
   "execution_count": 2,
   "id": "353aa52a",
   "metadata": {},
   "outputs": [],
   "source": [
    "import sys\n",
    "DIR = \"/workspace/nflbigdatabowl2023\"\n",
    "sys.path.append(DIR)"
   ]
  },
  {
   "cell_type": "code",
   "execution_count": 3,
   "id": "067dee9a",
   "metadata": {},
   "outputs": [],
   "source": [
    "import math\n",
    "from ast import literal_eval\n",
    "\n",
    "import pandas as pd\n",
    "import numpy as np\n",
    "import matplotlib.pyplot as plt\n",
    "\n",
    "from src.pipeline.flows.main import main_flow\n",
    "from src.visualization.interactive_play_selector import create_interactive_play_selector"
   ]
  },
  {
   "cell_type": "code",
   "execution_count": 4,
   "id": "04cc9558",
   "metadata": {},
   "outputs": [
    {
     "name": "stderr",
     "output_type": "stream",
     "text": [
      "/home/gitpod/.pyenv/versions/3.8.13/lib/python3.8/contextlib.py:120: SAWarning: Skipped unsupported reflection of expression-based index ix_flow_run__coalesce_start_time_expected_start_time_desc\n",
      "  next(self.gen)\n",
      "/home/gitpod/.pyenv/versions/3.8.13/lib/python3.8/contextlib.py:120: SAWarning: Skipped unsupported reflection of expression-based index ix_flow_run__coalesce_start_time_expected_start_time_asc\n",
      "  next(self.gen)\n"
     ]
    },
    {
     "data": {
      "text/html": [
       "<pre style=\"white-space:pre;overflow-x:auto;line-height:normal;font-family:Menlo,'DejaVu Sans Mono',consolas,'Courier New',monospace\">05:04:59.326 | <span style=\"color: #008080; text-decoration-color: #008080\">INFO</span>    | prefect.engine - Created flow run<span style=\"color: #800080; text-decoration-color: #800080\"> 'optimistic-avocet'</span> for flow<span style=\"color: #800080; text-decoration-color: #800080; font-weight: bold\"> 'main-flow'</span>\n",
       "</pre>\n"
      ],
      "text/plain": [
       "05:04:59.326 | \u001b[36mINFO\u001b[0m    | prefect.engine - Created flow run\u001b[35m 'optimistic-avocet'\u001b[0m for flow\u001b[1;35m 'main-flow'\u001b[0m\n"
      ]
     },
     "metadata": {},
     "output_type": "display_data"
    },
    {
     "data": {
      "text/html": [
       "<pre style=\"white-space:pre;overflow-x:auto;line-height:normal;font-family:Menlo,'DejaVu Sans Mono',consolas,'Courier New',monospace\">05:05:00.017 | <span style=\"color: #008080; text-decoration-color: #008080\">INFO</span>    | Flow run<span style=\"color: #800080; text-decoration-color: #800080\"> 'optimistic-avocet'</span> - Created task run 'read_csv-3609c996-0' for task 'read_csv'\n",
       "</pre>\n"
      ],
      "text/plain": [
       "05:05:00.017 | \u001b[36mINFO\u001b[0m    | Flow run\u001b[35m 'optimistic-avocet'\u001b[0m - Created task run 'read_csv-3609c996-0' for task 'read_csv'\n"
      ]
     },
     "metadata": {},
     "output_type": "display_data"
    },
    {
     "data": {
      "text/html": [
       "<pre style=\"white-space:pre;overflow-x:auto;line-height:normal;font-family:Menlo,'DejaVu Sans Mono',consolas,'Courier New',monospace\">05:05:00.025 | <span style=\"color: #008080; text-decoration-color: #008080\">INFO</span>    | Flow run<span style=\"color: #800080; text-decoration-color: #800080\"> 'optimistic-avocet'</span> - Executing 'read_csv-3609c996-0' immediately...\n",
       "</pre>\n"
      ],
      "text/plain": [
       "05:05:00.025 | \u001b[36mINFO\u001b[0m    | Flow run\u001b[35m 'optimistic-avocet'\u001b[0m - Executing 'read_csv-3609c996-0' immediately...\n"
      ]
     },
     "metadata": {},
     "output_type": "display_data"
    },
    {
     "data": {
      "text/html": [
       "<pre style=\"white-space:pre;overflow-x:auto;line-height:normal;font-family:Menlo,'DejaVu Sans Mono',consolas,'Courier New',monospace\">05:05:01.188 | <span style=\"color: #008080; text-decoration-color: #008080\">INFO</span>    | Task run 'read_csv-3609c996-0' - Finished in state <span style=\"color: #008000; text-decoration-color: #008000\">Completed</span>()\n",
       "</pre>\n"
      ],
      "text/plain": [
       "05:05:01.188 | \u001b[36mINFO\u001b[0m    | Task run 'read_csv-3609c996-0' - Finished in state \u001b[32mCompleted\u001b[0m()\n"
      ]
     },
     "metadata": {},
     "output_type": "display_data"
    },
    {
     "data": {
      "text/html": [
       "<pre style=\"white-space:pre;overflow-x:auto;line-height:normal;font-family:Menlo,'DejaVu Sans Mono',consolas,'Courier New',monospace\">05:05:01.328 | <span style=\"color: #008080; text-decoration-color: #008080\">INFO</span>    | Flow run<span style=\"color: #800080; text-decoration-color: #800080\"> 'optimistic-avocet'</span> - Created task run 'read_csv-3609c996-1' for task 'read_csv'\n",
       "</pre>\n"
      ],
      "text/plain": [
       "05:05:01.328 | \u001b[36mINFO\u001b[0m    | Flow run\u001b[35m 'optimistic-avocet'\u001b[0m - Created task run 'read_csv-3609c996-1' for task 'read_csv'\n"
      ]
     },
     "metadata": {},
     "output_type": "display_data"
    },
    {
     "data": {
      "text/html": [
       "<pre style=\"white-space:pre;overflow-x:auto;line-height:normal;font-family:Menlo,'DejaVu Sans Mono',consolas,'Courier New',monospace\">05:05:01.337 | <span style=\"color: #008080; text-decoration-color: #008080\">INFO</span>    | Flow run<span style=\"color: #800080; text-decoration-color: #800080\"> 'optimistic-avocet'</span> - Executing 'read_csv-3609c996-1' immediately...\n",
       "</pre>\n"
      ],
      "text/plain": [
       "05:05:01.337 | \u001b[36mINFO\u001b[0m    | Flow run\u001b[35m 'optimistic-avocet'\u001b[0m - Executing 'read_csv-3609c996-1' immediately...\n"
      ]
     },
     "metadata": {},
     "output_type": "display_data"
    },
    {
     "data": {
      "text/html": [
       "<pre style=\"white-space:pre;overflow-x:auto;line-height:normal;font-family:Menlo,'DejaVu Sans Mono',consolas,'Courier New',monospace\">05:05:01.787 | <span style=\"color: #008080; text-decoration-color: #008080\">INFO</span>    | Task run 'read_csv-3609c996-1' - Finished in state <span style=\"color: #008000; text-decoration-color: #008000\">Completed</span>()\n",
       "</pre>\n"
      ],
      "text/plain": [
       "05:05:01.787 | \u001b[36mINFO\u001b[0m    | Task run 'read_csv-3609c996-1' - Finished in state \u001b[32mCompleted\u001b[0m()\n"
      ]
     },
     "metadata": {},
     "output_type": "display_data"
    },
    {
     "data": {
      "text/html": [
       "<pre style=\"white-space:pre;overflow-x:auto;line-height:normal;font-family:Menlo,'DejaVu Sans Mono',consolas,'Courier New',monospace\">05:05:01.911 | <span style=\"color: #008080; text-decoration-color: #008080\">INFO</span>    | Flow run<span style=\"color: #800080; text-decoration-color: #800080\"> 'optimistic-avocet'</span> - Created task run 'read_csv-3609c996-2' for task 'read_csv'\n",
       "</pre>\n"
      ],
      "text/plain": [
       "05:05:01.911 | \u001b[36mINFO\u001b[0m    | Flow run\u001b[35m 'optimistic-avocet'\u001b[0m - Created task run 'read_csv-3609c996-2' for task 'read_csv'\n"
      ]
     },
     "metadata": {},
     "output_type": "display_data"
    },
    {
     "data": {
      "text/html": [
       "<pre style=\"white-space:pre;overflow-x:auto;line-height:normal;font-family:Menlo,'DejaVu Sans Mono',consolas,'Courier New',monospace\">05:05:01.919 | <span style=\"color: #008080; text-decoration-color: #008080\">INFO</span>    | Flow run<span style=\"color: #800080; text-decoration-color: #800080\"> 'optimistic-avocet'</span> - Executing 'read_csv-3609c996-2' immediately...\n",
       "</pre>\n"
      ],
      "text/plain": [
       "05:05:01.919 | \u001b[36mINFO\u001b[0m    | Flow run\u001b[35m 'optimistic-avocet'\u001b[0m - Executing 'read_csv-3609c996-2' immediately...\n"
      ]
     },
     "metadata": {},
     "output_type": "display_data"
    },
    {
     "data": {
      "text/html": [
       "<pre style=\"white-space:pre;overflow-x:auto;line-height:normal;font-family:Menlo,'DejaVu Sans Mono',consolas,'Courier New',monospace\">05:05:06.366 | <span style=\"color: #008080; text-decoration-color: #008080\">INFO</span>    | Task run 'read_csv-3609c996-2' - Finished in state <span style=\"color: #008000; text-decoration-color: #008000\">Completed</span>()\n",
       "</pre>\n"
      ],
      "text/plain": [
       "05:05:06.366 | \u001b[36mINFO\u001b[0m    | Task run 'read_csv-3609c996-2' - Finished in state \u001b[32mCompleted\u001b[0m()\n"
      ]
     },
     "metadata": {},
     "output_type": "display_data"
    },
    {
     "data": {
      "text/html": [
       "<pre style=\"white-space:pre;overflow-x:auto;line-height:normal;font-family:Menlo,'DejaVu Sans Mono',consolas,'Courier New',monospace\">05:05:06.496 | <span style=\"color: #008080; text-decoration-color: #008080\">INFO</span>    | Flow run<span style=\"color: #800080; text-decoration-color: #800080\"> 'optimistic-avocet'</span> - Created task run 'limit_by_keys-3d51749e-0' for task 'limit_by_keys'\n",
       "</pre>\n"
      ],
      "text/plain": [
       "05:05:06.496 | \u001b[36mINFO\u001b[0m    | Flow run\u001b[35m 'optimistic-avocet'\u001b[0m - Created task run 'limit_by_keys-3d51749e-0' for task 'limit_by_keys'\n"
      ]
     },
     "metadata": {},
     "output_type": "display_data"
    },
    {
     "data": {
      "text/html": [
       "<pre style=\"white-space:pre;overflow-x:auto;line-height:normal;font-family:Menlo,'DejaVu Sans Mono',consolas,'Courier New',monospace\">05:05:06.504 | <span style=\"color: #008080; text-decoration-color: #008080\">INFO</span>    | Flow run<span style=\"color: #800080; text-decoration-color: #800080\"> 'optimistic-avocet'</span> - Executing 'limit_by_keys-3d51749e-0' immediately...\n",
       "</pre>\n"
      ],
      "text/plain": [
       "05:05:06.504 | \u001b[36mINFO\u001b[0m    | Flow run\u001b[35m 'optimistic-avocet'\u001b[0m - Executing 'limit_by_keys-3d51749e-0' immediately...\n"
      ]
     },
     "metadata": {},
     "output_type": "display_data"
    },
    {
     "data": {
      "text/html": [
       "<pre style=\"white-space:pre;overflow-x:auto;line-height:normal;font-family:Menlo,'DejaVu Sans Mono',consolas,'Courier New',monospace\">05:05:07.362 | <span style=\"color: #008080; text-decoration-color: #008080\">INFO</span>    | Task run 'limit_by_keys-3d51749e-0' - Finished in state <span style=\"color: #008000; text-decoration-color: #008000\">Completed</span>()\n",
       "</pre>\n"
      ],
      "text/plain": [
       "05:05:07.362 | \u001b[36mINFO\u001b[0m    | Task run 'limit_by_keys-3d51749e-0' - Finished in state \u001b[32mCompleted\u001b[0m()\n"
      ]
     },
     "metadata": {},
     "output_type": "display_data"
    },
    {
     "data": {
      "text/html": [
       "<pre style=\"white-space:pre;overflow-x:auto;line-height:normal;font-family:Menlo,'DejaVu Sans Mono',consolas,'Courier New',monospace\">05:05:07.521 | <span style=\"color: #008080; text-decoration-color: #008080\">INFO</span>    | Flow run<span style=\"color: #800080; text-decoration-color: #800080\"> 'optimistic-avocet'</span> - Created task run 'limit_by_child_keys-4238f776-0' for task 'limit_by_child_keys'\n",
       "</pre>\n"
      ],
      "text/plain": [
       "05:05:07.521 | \u001b[36mINFO\u001b[0m    | Flow run\u001b[35m 'optimistic-avocet'\u001b[0m - Created task run 'limit_by_child_keys-4238f776-0' for task 'limit_by_child_keys'\n"
      ]
     },
     "metadata": {},
     "output_type": "display_data"
    },
    {
     "data": {
      "text/html": [
       "<pre style=\"white-space:pre;overflow-x:auto;line-height:normal;font-family:Menlo,'DejaVu Sans Mono',consolas,'Courier New',monospace\">05:05:07.531 | <span style=\"color: #008080; text-decoration-color: #008080\">INFO</span>    | Flow run<span style=\"color: #800080; text-decoration-color: #800080\"> 'optimistic-avocet'</span> - Executing 'limit_by_child_keys-4238f776-0' immediately...\n",
       "</pre>\n"
      ],
      "text/plain": [
       "05:05:07.531 | \u001b[36mINFO\u001b[0m    | Flow run\u001b[35m 'optimistic-avocet'\u001b[0m - Executing 'limit_by_child_keys-4238f776-0' immediately...\n"
      ]
     },
     "metadata": {},
     "output_type": "display_data"
    },
    {
     "data": {
      "text/html": [
       "<pre style=\"white-space:pre;overflow-x:auto;line-height:normal;font-family:Menlo,'DejaVu Sans Mono',consolas,'Courier New',monospace\">05:05:08.061 | <span style=\"color: #008080; text-decoration-color: #008080\">INFO</span>    | Task run 'limit_by_child_keys-4238f776-0' - Finished in state <span style=\"color: #008000; text-decoration-color: #008000\">Completed</span>()\n",
       "</pre>\n"
      ],
      "text/plain": [
       "05:05:08.061 | \u001b[36mINFO\u001b[0m    | Task run 'limit_by_child_keys-4238f776-0' - Finished in state \u001b[32mCompleted\u001b[0m()\n"
      ]
     },
     "metadata": {},
     "output_type": "display_data"
    },
    {
     "data": {
      "text/html": [
       "<pre style=\"white-space:pre;overflow-x:auto;line-height:normal;font-family:Menlo,'DejaVu Sans Mono',consolas,'Courier New',monospace\">05:05:08.221 | <span style=\"color: #008080; text-decoration-color: #008080\">INFO</span>    | Flow run<span style=\"color: #800080; text-decoration-color: #800080\"> 'optimistic-avocet'</span> - Created task run 'align_tracking_data-ea7afe30-0' for task 'align_tracking_data'\n",
       "</pre>\n"
      ],
      "text/plain": [
       "05:05:08.221 | \u001b[36mINFO\u001b[0m    | Flow run\u001b[35m 'optimistic-avocet'\u001b[0m - Created task run 'align_tracking_data-ea7afe30-0' for task 'align_tracking_data'\n"
      ]
     },
     "metadata": {},
     "output_type": "display_data"
    },
    {
     "data": {
      "text/html": [
       "<pre style=\"white-space:pre;overflow-x:auto;line-height:normal;font-family:Menlo,'DejaVu Sans Mono',consolas,'Courier New',monospace\">05:05:08.230 | <span style=\"color: #008080; text-decoration-color: #008080\">INFO</span>    | Flow run<span style=\"color: #800080; text-decoration-color: #800080\"> 'optimistic-avocet'</span> - Executing 'align_tracking_data-ea7afe30-0' immediately...\n",
       "</pre>\n"
      ],
      "text/plain": [
       "05:05:08.230 | \u001b[36mINFO\u001b[0m    | Flow run\u001b[35m 'optimistic-avocet'\u001b[0m - Executing 'align_tracking_data-ea7afe30-0' immediately...\n"
      ]
     },
     "metadata": {},
     "output_type": "display_data"
    },
    {
     "data": {
      "text/html": [
       "<pre style=\"white-space:pre;overflow-x:auto;line-height:normal;font-family:Menlo,'DejaVu Sans Mono',consolas,'Courier New',monospace\">05:05:08.773 | <span style=\"color: #008080; text-decoration-color: #008080\">INFO</span>    | Task run 'align_tracking_data-ea7afe30-0' - Finished in state <span style=\"color: #008000; text-decoration-color: #008000\">Completed</span>()\n",
       "</pre>\n"
      ],
      "text/plain": [
       "05:05:08.773 | \u001b[36mINFO\u001b[0m    | Task run 'align_tracking_data-ea7afe30-0' - Finished in state \u001b[32mCompleted\u001b[0m()\n"
      ]
     },
     "metadata": {},
     "output_type": "display_data"
    },
    {
     "data": {
      "text/html": [
       "<pre style=\"white-space:pre;overflow-x:auto;line-height:normal;font-family:Menlo,'DejaVu Sans Mono',consolas,'Courier New',monospace\">05:05:08.969 | <span style=\"color: #008080; text-decoration-color: #008080\">INFO</span>    | Flow run<span style=\"color: #800080; text-decoration-color: #800080\"> 'optimistic-avocet'</span> - Created task run 'rotate_tracking_data-13ea6cce-0' for task 'rotate_tracking_data'\n",
       "</pre>\n"
      ],
      "text/plain": [
       "05:05:08.969 | \u001b[36mINFO\u001b[0m    | Flow run\u001b[35m 'optimistic-avocet'\u001b[0m - Created task run 'rotate_tracking_data-13ea6cce-0' for task 'rotate_tracking_data'\n"
      ]
     },
     "metadata": {},
     "output_type": "display_data"
    },
    {
     "data": {
      "text/html": [
       "<pre style=\"white-space:pre;overflow-x:auto;line-height:normal;font-family:Menlo,'DejaVu Sans Mono',consolas,'Courier New',monospace\">05:05:08.977 | <span style=\"color: #008080; text-decoration-color: #008080\">INFO</span>    | Flow run<span style=\"color: #800080; text-decoration-color: #800080\"> 'optimistic-avocet'</span> - Executing 'rotate_tracking_data-13ea6cce-0' immediately...\n",
       "</pre>\n"
      ],
      "text/plain": [
       "05:05:08.977 | \u001b[36mINFO\u001b[0m    | Flow run\u001b[35m 'optimistic-avocet'\u001b[0m - Executing 'rotate_tracking_data-13ea6cce-0' immediately...\n"
      ]
     },
     "metadata": {},
     "output_type": "display_data"
    },
    {
     "data": {
      "text/html": [
       "<pre style=\"white-space:pre;overflow-x:auto;line-height:normal;font-family:Menlo,'DejaVu Sans Mono',consolas,'Courier New',monospace\">05:05:09.332 | <span style=\"color: #008080; text-decoration-color: #008080\">INFO</span>    | Task run 'rotate_tracking_data-13ea6cce-0' - Finished in state <span style=\"color: #008000; text-decoration-color: #008000\">Completed</span>()\n",
       "</pre>\n"
      ],
      "text/plain": [
       "05:05:09.332 | \u001b[36mINFO\u001b[0m    | Task run 'rotate_tracking_data-13ea6cce-0' - Finished in state \u001b[32mCompleted\u001b[0m()\n"
      ]
     },
     "metadata": {},
     "output_type": "display_data"
    },
    {
     "data": {
      "text/html": [
       "<pre style=\"white-space:pre;overflow-x:auto;line-height:normal;font-family:Menlo,'DejaVu Sans Mono',consolas,'Courier New',monospace\">05:05:09.521 | <span style=\"color: #008080; text-decoration-color: #008080\">INFO</span>    | Flow run<span style=\"color: #800080; text-decoration-color: #800080\"> 'optimistic-avocet'</span> - Created task run 'get_passer_out_of_pocket-98072e46-0' for task 'get_passer_out_of_pocket'\n",
       "</pre>\n"
      ],
      "text/plain": [
       "05:05:09.521 | \u001b[36mINFO\u001b[0m    | Flow run\u001b[35m 'optimistic-avocet'\u001b[0m - Created task run 'get_passer_out_of_pocket-98072e46-0' for task 'get_passer_out_of_pocket'\n"
      ]
     },
     "metadata": {},
     "output_type": "display_data"
    },
    {
     "data": {
      "text/html": [
       "<pre style=\"white-space:pre;overflow-x:auto;line-height:normal;font-family:Menlo,'DejaVu Sans Mono',consolas,'Courier New',monospace\">05:05:09.531 | <span style=\"color: #008080; text-decoration-color: #008080\">INFO</span>    | Flow run<span style=\"color: #800080; text-decoration-color: #800080\"> 'optimistic-avocet'</span> - Executing 'get_passer_out_of_pocket-98072e46-0' immediately...\n",
       "</pre>\n"
      ],
      "text/plain": [
       "05:05:09.531 | \u001b[36mINFO\u001b[0m    | Flow run\u001b[35m 'optimistic-avocet'\u001b[0m - Executing 'get_passer_out_of_pocket-98072e46-0' immediately...\n"
      ]
     },
     "metadata": {},
     "output_type": "display_data"
    },
    {
     "data": {
      "text/html": [
       "<pre style=\"white-space:pre;overflow-x:auto;line-height:normal;font-family:Menlo,'DejaVu Sans Mono',consolas,'Courier New',monospace\">05:05:10.094 | <span style=\"color: #008080; text-decoration-color: #008080\">INFO</span>    | Task run 'get_passer_out_of_pocket-98072e46-0' - Finished in state <span style=\"color: #008000; text-decoration-color: #008000\">Completed</span>()\n",
       "</pre>\n"
      ],
      "text/plain": [
       "05:05:10.094 | \u001b[36mINFO\u001b[0m    | Task run 'get_passer_out_of_pocket-98072e46-0' - Finished in state \u001b[32mCompleted\u001b[0m()\n"
      ]
     },
     "metadata": {},
     "output_type": "display_data"
    },
    {
     "data": {
      "text/html": [
       "<pre style=\"white-space:pre;overflow-x:auto;line-height:normal;font-family:Menlo,'DejaVu Sans Mono',consolas,'Courier New',monospace\">05:05:10.220 | <span style=\"color: #008080; text-decoration-color: #008080\">INFO</span>    | Flow run<span style=\"color: #800080; text-decoration-color: #800080\"> 'optimistic-avocet'</span> - Created task run 'clean_event_data-657c8302-0' for task 'clean_event_data'\n",
       "</pre>\n"
      ],
      "text/plain": [
       "05:05:10.220 | \u001b[36mINFO\u001b[0m    | Flow run\u001b[35m 'optimistic-avocet'\u001b[0m - Created task run 'clean_event_data-657c8302-0' for task 'clean_event_data'\n"
      ]
     },
     "metadata": {},
     "output_type": "display_data"
    },
    {
     "data": {
      "text/html": [
       "<pre style=\"white-space:pre;overflow-x:auto;line-height:normal;font-family:Menlo,'DejaVu Sans Mono',consolas,'Courier New',monospace\">05:05:10.225 | <span style=\"color: #008080; text-decoration-color: #008080\">INFO</span>    | Flow run<span style=\"color: #800080; text-decoration-color: #800080\"> 'optimistic-avocet'</span> - Executing 'clean_event_data-657c8302-0' immediately...\n",
       "</pre>\n"
      ],
      "text/plain": [
       "05:05:10.225 | \u001b[36mINFO\u001b[0m    | Flow run\u001b[35m 'optimistic-avocet'\u001b[0m - Executing 'clean_event_data-657c8302-0' immediately...\n"
      ]
     },
     "metadata": {},
     "output_type": "display_data"
    },
    {
     "data": {
      "text/html": [
       "<pre style=\"white-space:pre;overflow-x:auto;line-height:normal;font-family:Menlo,'DejaVu Sans Mono',consolas,'Courier New',monospace\">05:05:10.660 | <span style=\"color: #008080; text-decoration-color: #008080\">INFO</span>    | Task run 'clean_event_data-657c8302-0' - Finished in state <span style=\"color: #008000; text-decoration-color: #008000\">Completed</span>()\n",
       "</pre>\n"
      ],
      "text/plain": [
       "05:05:10.660 | \u001b[36mINFO\u001b[0m    | Task run 'clean_event_data-657c8302-0' - Finished in state \u001b[32mCompleted\u001b[0m()\n"
      ]
     },
     "metadata": {},
     "output_type": "display_data"
    },
    {
     "data": {
      "text/html": [
       "<pre style=\"white-space:pre;overflow-x:auto;line-height:normal;font-family:Menlo,'DejaVu Sans Mono',consolas,'Courier New',monospace\">05:05:10.791 | <span style=\"color: #008080; text-decoration-color: #008080\">INFO</span>    | Flow run<span style=\"color: #800080; text-decoration-color: #800080\"> 'optimistic-avocet'</span> - Created task run 'get_pocket_eligibility-6d653879-0' for task 'get_pocket_eligibility'\n",
       "</pre>\n"
      ],
      "text/plain": [
       "05:05:10.791 | \u001b[36mINFO\u001b[0m    | Flow run\u001b[35m 'optimistic-avocet'\u001b[0m - Created task run 'get_pocket_eligibility-6d653879-0' for task 'get_pocket_eligibility'\n"
      ]
     },
     "metadata": {},
     "output_type": "display_data"
    },
    {
     "data": {
      "text/html": [
       "<pre style=\"white-space:pre;overflow-x:auto;line-height:normal;font-family:Menlo,'DejaVu Sans Mono',consolas,'Courier New',monospace\">05:05:10.799 | <span style=\"color: #008080; text-decoration-color: #008080\">INFO</span>    | Flow run<span style=\"color: #800080; text-decoration-color: #800080\"> 'optimistic-avocet'</span> - Executing 'get_pocket_eligibility-6d653879-0' immediately...\n",
       "</pre>\n"
      ],
      "text/plain": [
       "05:05:10.799 | \u001b[36mINFO\u001b[0m    | Flow run\u001b[35m 'optimistic-avocet'\u001b[0m - Executing 'get_pocket_eligibility-6d653879-0' immediately...\n"
      ]
     },
     "metadata": {},
     "output_type": "display_data"
    },
    {
     "data": {
      "text/html": [
       "<pre style=\"white-space:pre;overflow-x:auto;line-height:normal;font-family:Menlo,'DejaVu Sans Mono',consolas,'Courier New',monospace\">05:05:11.027 | <span style=\"color: #008080; text-decoration-color: #008080\">INFO</span>    | Task run 'get_pocket_eligibility-6d653879-0' - Finished in state <span style=\"color: #008000; text-decoration-color: #008000\">Completed</span>()\n",
       "</pre>\n"
      ],
      "text/plain": [
       "05:05:11.027 | \u001b[36mINFO\u001b[0m    | Task run 'get_pocket_eligibility-6d653879-0' - Finished in state \u001b[32mCompleted\u001b[0m()\n"
      ]
     },
     "metadata": {},
     "output_type": "display_data"
    },
    {
     "data": {
      "text/html": [
       "<pre style=\"white-space:pre;overflow-x:auto;line-height:normal;font-family:Menlo,'DejaVu Sans Mono',consolas,'Courier New',monospace\">05:05:11.153 | <span style=\"color: #008080; text-decoration-color: #008080\">INFO</span>    | Flow run<span style=\"color: #800080; text-decoration-color: #800080\"> 'optimistic-avocet'</span> - Created task run 'augment_tracking_events-342a9dc3-0' for task 'augment_tracking_events'\n",
       "</pre>\n"
      ],
      "text/plain": [
       "05:05:11.153 | \u001b[36mINFO\u001b[0m    | Flow run\u001b[35m 'optimistic-avocet'\u001b[0m - Created task run 'augment_tracking_events-342a9dc3-0' for task 'augment_tracking_events'\n"
      ]
     },
     "metadata": {},
     "output_type": "display_data"
    },
    {
     "data": {
      "text/html": [
       "<pre style=\"white-space:pre;overflow-x:auto;line-height:normal;font-family:Menlo,'DejaVu Sans Mono',consolas,'Courier New',monospace\">05:05:11.161 | <span style=\"color: #008080; text-decoration-color: #008080\">INFO</span>    | Flow run<span style=\"color: #800080; text-decoration-color: #800080\"> 'optimistic-avocet'</span> - Executing 'augment_tracking_events-342a9dc3-0' immediately...\n",
       "</pre>\n"
      ],
      "text/plain": [
       "05:05:11.161 | \u001b[36mINFO\u001b[0m    | Flow run\u001b[35m 'optimistic-avocet'\u001b[0m - Executing 'augment_tracking_events-342a9dc3-0' immediately...\n"
      ]
     },
     "metadata": {},
     "output_type": "display_data"
    },
    {
     "data": {
      "text/html": [
       "<pre style=\"white-space:pre;overflow-x:auto;line-height:normal;font-family:Menlo,'DejaVu Sans Mono',consolas,'Courier New',monospace\">05:05:11.479 | <span style=\"color: #008080; text-decoration-color: #008080\">INFO</span>    | Task run 'augment_tracking_events-342a9dc3-0' - Finished in state <span style=\"color: #008000; text-decoration-color: #008000\">Completed</span>()\n",
       "</pre>\n"
      ],
      "text/plain": [
       "05:05:11.479 | \u001b[36mINFO\u001b[0m    | Task run 'augment_tracking_events-342a9dc3-0' - Finished in state \u001b[32mCompleted\u001b[0m()\n"
      ]
     },
     "metadata": {},
     "output_type": "display_data"
    },
    {
     "data": {
      "text/html": [
       "<pre style=\"white-space:pre;overflow-x:auto;line-height:normal;font-family:Menlo,'DejaVu Sans Mono',consolas,'Courier New',monospace\">05:05:11.602 | <span style=\"color: #008080; text-decoration-color: #008080\">INFO</span>    | Flow run<span style=\"color: #800080; text-decoration-color: #800080\"> 'optimistic-avocet'</span> - Created task run 'transform_to_tracking_display-0c78dc49-0' for task 'transform_to_tracking_display'\n",
       "</pre>\n"
      ],
      "text/plain": [
       "05:05:11.602 | \u001b[36mINFO\u001b[0m    | Flow run\u001b[35m 'optimistic-avocet'\u001b[0m - Created task run 'transform_to_tracking_display-0c78dc49-0' for task 'transform_to_tracking_display'\n"
      ]
     },
     "metadata": {},
     "output_type": "display_data"
    },
    {
     "data": {
      "text/html": [
       "<pre style=\"white-space:pre;overflow-x:auto;line-height:normal;font-family:Menlo,'DejaVu Sans Mono',consolas,'Courier New',monospace\">05:05:11.607 | <span style=\"color: #008080; text-decoration-color: #008080\">INFO</span>    | Flow run<span style=\"color: #800080; text-decoration-color: #800080\"> 'optimistic-avocet'</span> - Executing 'transform_to_tracking_display-0c78dc49-0' immediately...\n",
       "</pre>\n"
      ],
      "text/plain": [
       "05:05:11.607 | \u001b[36mINFO\u001b[0m    | Flow run\u001b[35m 'optimistic-avocet'\u001b[0m - Executing 'transform_to_tracking_display-0c78dc49-0' immediately...\n"
      ]
     },
     "metadata": {},
     "output_type": "display_data"
    },
    {
     "data": {
      "text/html": [
       "<pre style=\"white-space:pre;overflow-x:auto;line-height:normal;font-family:Menlo,'DejaVu Sans Mono',consolas,'Courier New',monospace\">05:05:11.924 | <span style=\"color: #008080; text-decoration-color: #008080\">INFO</span>    | Task run 'transform_to_tracking_display-0c78dc49-0' - Finished in state <span style=\"color: #008000; text-decoration-color: #008000\">Completed</span>()\n",
       "</pre>\n"
      ],
      "text/plain": [
       "05:05:11.924 | \u001b[36mINFO\u001b[0m    | Task run 'transform_to_tracking_display-0c78dc49-0' - Finished in state \u001b[32mCompleted\u001b[0m()\n"
      ]
     },
     "metadata": {},
     "output_type": "display_data"
    },
    {
     "data": {
      "text/html": [
       "<pre style=\"white-space:pre;overflow-x:auto;line-height:normal;font-family:Menlo,'DejaVu Sans Mono',consolas,'Courier New',monospace\">05:05:11.994 | <span style=\"color: #008080; text-decoration-color: #008080\">INFO</span>    | Flow run<span style=\"color: #800080; text-decoration-color: #800080\"> 'optimistic-avocet'</span> - Created task run 'transform_to_frames-3446c324-0' for task 'transform_to_frames'\n",
       "</pre>\n"
      ],
      "text/plain": [
       "05:05:11.994 | \u001b[36mINFO\u001b[0m    | Flow run\u001b[35m 'optimistic-avocet'\u001b[0m - Created task run 'transform_to_frames-3446c324-0' for task 'transform_to_frames'\n"
      ]
     },
     "metadata": {},
     "output_type": "display_data"
    },
    {
     "data": {
      "text/html": [
       "<pre style=\"white-space:pre;overflow-x:auto;line-height:normal;font-family:Menlo,'DejaVu Sans Mono',consolas,'Courier New',monospace\">05:05:12.001 | <span style=\"color: #008080; text-decoration-color: #008080\">INFO</span>    | Flow run<span style=\"color: #800080; text-decoration-color: #800080\"> 'optimistic-avocet'</span> - Executing 'transform_to_frames-3446c324-0' immediately...\n",
       "</pre>\n"
      ],
      "text/plain": [
       "05:05:12.001 | \u001b[36mINFO\u001b[0m    | Flow run\u001b[35m 'optimistic-avocet'\u001b[0m - Executing 'transform_to_frames-3446c324-0' immediately...\n"
      ]
     },
     "metadata": {},
     "output_type": "display_data"
    },
    {
     "data": {
      "text/html": [
       "<pre style=\"white-space:pre;overflow-x:auto;line-height:normal;font-family:Menlo,'DejaVu Sans Mono',consolas,'Courier New',monospace\">05:05:12.564 | <span style=\"color: #008080; text-decoration-color: #008080\">INFO</span>    | Task run 'transform_to_frames-3446c324-0' - Finished in state <span style=\"color: #008000; text-decoration-color: #008000\">Completed</span>()\n",
       "</pre>\n"
      ],
      "text/plain": [
       "05:05:12.564 | \u001b[36mINFO\u001b[0m    | Task run 'transform_to_frames-3446c324-0' - Finished in state \u001b[32mCompleted\u001b[0m()\n"
      ]
     },
     "metadata": {},
     "output_type": "display_data"
    },
    {
     "data": {
      "text/html": [
       "<pre style=\"white-space:pre;overflow-x:auto;line-height:normal;font-family:Menlo,'DejaVu Sans Mono',consolas,'Courier New',monospace\">05:05:12.676 | <span style=\"color: #008080; text-decoration-color: #008080\">INFO</span>    | Flow run<span style=\"color: #800080; text-decoration-color: #800080\"> 'optimistic-avocet'</span> - Created task run 'transform_to_records_per_frame-823b8998-0' for task 'transform_to_records_per_frame'\n",
       "</pre>\n"
      ],
      "text/plain": [
       "05:05:12.676 | \u001b[36mINFO\u001b[0m    | Flow run\u001b[35m 'optimistic-avocet'\u001b[0m - Created task run 'transform_to_records_per_frame-823b8998-0' for task 'transform_to_records_per_frame'\n"
      ]
     },
     "metadata": {},
     "output_type": "display_data"
    },
    {
     "data": {
      "text/html": [
       "<pre style=\"white-space:pre;overflow-x:auto;line-height:normal;font-family:Menlo,'DejaVu Sans Mono',consolas,'Courier New',monospace\">05:05:12.683 | <span style=\"color: #008080; text-decoration-color: #008080\">INFO</span>    | Flow run<span style=\"color: #800080; text-decoration-color: #800080\"> 'optimistic-avocet'</span> - Executing 'transform_to_records_per_frame-823b8998-0' immediately...\n",
       "</pre>\n"
      ],
      "text/plain": [
       "05:05:12.683 | \u001b[36mINFO\u001b[0m    | Flow run\u001b[35m 'optimistic-avocet'\u001b[0m - Executing 'transform_to_records_per_frame-823b8998-0' immediately...\n"
      ]
     },
     "metadata": {},
     "output_type": "display_data"
    },
    {
     "data": {
      "text/html": [
       "<pre style=\"white-space:pre;overflow-x:auto;line-height:normal;font-family:Menlo,'DejaVu Sans Mono',consolas,'Courier New',monospace\">05:05:13.031 | <span style=\"color: #008080; text-decoration-color: #008080\">INFO</span>    | Task run 'transform_to_records_per_frame-823b8998-0' - Finished in state <span style=\"color: #008000; text-decoration-color: #008000\">Completed</span>()\n",
       "</pre>\n"
      ],
      "text/plain": [
       "05:05:13.031 | \u001b[36mINFO\u001b[0m    | Task run 'transform_to_records_per_frame-823b8998-0' - Finished in state \u001b[32mCompleted\u001b[0m()\n"
      ]
     },
     "metadata": {},
     "output_type": "display_data"
    },
    {
     "data": {
      "text/html": [
       "<pre style=\"white-space:pre;overflow-x:auto;line-height:normal;font-family:Menlo,'DejaVu Sans Mono',consolas,'Courier New',monospace\">05:05:13.185 | <span style=\"color: #008080; text-decoration-color: #008080\">INFO</span>    | Flow run<span style=\"color: #800080; text-decoration-color: #800080\"> 'optimistic-avocet'</span> - Created task run 'calculate_pocket_area-cc18ef62-0' for task 'calculate_pocket_area'\n",
       "</pre>\n"
      ],
      "text/plain": [
       "05:05:13.185 | \u001b[36mINFO\u001b[0m    | Flow run\u001b[35m 'optimistic-avocet'\u001b[0m - Created task run 'calculate_pocket_area-cc18ef62-0' for task 'calculate_pocket_area'\n"
      ]
     },
     "metadata": {},
     "output_type": "display_data"
    },
    {
     "data": {
      "text/html": [
       "<pre style=\"white-space:pre;overflow-x:auto;line-height:normal;font-family:Menlo,'DejaVu Sans Mono',consolas,'Courier New',monospace\">05:05:13.196 | <span style=\"color: #008080; text-decoration-color: #008080\">INFO</span>    | Flow run<span style=\"color: #800080; text-decoration-color: #800080\"> 'optimistic-avocet'</span> - Submitted task run 'calculate_pocket_area-cc18ef62-0' for execution.\n",
       "</pre>\n"
      ],
      "text/plain": [
       "05:05:13.196 | \u001b[36mINFO\u001b[0m    | Flow run\u001b[35m 'optimistic-avocet'\u001b[0m - Submitted task run 'calculate_pocket_area-cc18ef62-0' for execution.\n"
      ]
     },
     "metadata": {},
     "output_type": "display_data"
    },
    {
     "data": {
      "text/html": [
       "<pre style=\"white-space:pre;overflow-x:auto;line-height:normal;font-family:Menlo,'DejaVu Sans Mono',consolas,'Courier New',monospace\">05:05:13.358 | <span style=\"color: #008080; text-decoration-color: #008080\">INFO</span>    | Flow run<span style=\"color: #800080; text-decoration-color: #800080\"> 'optimistic-avocet'</span> - Created task run 'calculate_pocket_area-cc18ef62-1' for task 'calculate_pocket_area'\n",
       "</pre>\n"
      ],
      "text/plain": [
       "05:05:13.358 | \u001b[36mINFO\u001b[0m    | Flow run\u001b[35m 'optimistic-avocet'\u001b[0m - Created task run 'calculate_pocket_area-cc18ef62-1' for task 'calculate_pocket_area'\n"
      ]
     },
     "metadata": {},
     "output_type": "display_data"
    },
    {
     "data": {
      "text/html": [
       "<pre style=\"white-space:pre;overflow-x:auto;line-height:normal;font-family:Menlo,'DejaVu Sans Mono',consolas,'Courier New',monospace\">05:05:13.366 | <span style=\"color: #008080; text-decoration-color: #008080\">INFO</span>    | Flow run<span style=\"color: #800080; text-decoration-color: #800080\"> 'optimistic-avocet'</span> - Submitted task run 'calculate_pocket_area-cc18ef62-1' for execution.\n",
       "</pre>\n"
      ],
      "text/plain": [
       "05:05:13.366 | \u001b[36mINFO\u001b[0m    | Flow run\u001b[35m 'optimistic-avocet'\u001b[0m - Submitted task run 'calculate_pocket_area-cc18ef62-1' for execution.\n"
      ]
     },
     "metadata": {},
     "output_type": "display_data"
    },
    {
     "data": {
      "text/html": [
       "<pre style=\"white-space:pre;overflow-x:auto;line-height:normal;font-family:Menlo,'DejaVu Sans Mono',consolas,'Courier New',monospace\">05:05:13.712 | <span style=\"color: #008080; text-decoration-color: #008080\">INFO</span>    | Flow run<span style=\"color: #800080; text-decoration-color: #800080\"> 'optimistic-avocet'</span> - Created task run 'union_dataframes-8a4e3d8f-0' for task 'union_dataframes'\n",
       "</pre>\n"
      ],
      "text/plain": [
       "05:05:13.712 | \u001b[36mINFO\u001b[0m    | Flow run\u001b[35m 'optimistic-avocet'\u001b[0m - Created task run 'union_dataframes-8a4e3d8f-0' for task 'union_dataframes'\n"
      ]
     },
     "metadata": {},
     "output_type": "display_data"
    },
    {
     "data": {
      "text/html": [
       "<pre style=\"white-space:pre;overflow-x:auto;line-height:normal;font-family:Menlo,'DejaVu Sans Mono',consolas,'Courier New',monospace\">05:05:13.722 | <span style=\"color: #008080; text-decoration-color: #008080\">INFO</span>    | Flow run<span style=\"color: #800080; text-decoration-color: #800080\"> 'optimistic-avocet'</span> - Executing 'union_dataframes-8a4e3d8f-0' immediately...\n",
       "</pre>\n"
      ],
      "text/plain": [
       "05:05:13.722 | \u001b[36mINFO\u001b[0m    | Flow run\u001b[35m 'optimistic-avocet'\u001b[0m - Executing 'union_dataframes-8a4e3d8f-0' immediately...\n"
      ]
     },
     "metadata": {},
     "output_type": "display_data"
    },
    {
     "data": {
      "text/html": [
       "<pre style=\"white-space:pre;overflow-x:auto;line-height:normal;font-family:Menlo,'DejaVu Sans Mono',consolas,'Courier New',monospace\">05:05:13.964 | <span style=\"color: #008080; text-decoration-color: #008080\">INFO</span>    | Task run 'calculate_pocket_area-cc18ef62-0' - Finished in state <span style=\"color: #008000; text-decoration-color: #008000\">Completed</span>()\n",
       "</pre>\n"
      ],
      "text/plain": [
       "05:05:13.964 | \u001b[36mINFO\u001b[0m    | Task run 'calculate_pocket_area-cc18ef62-0' - Finished in state \u001b[32mCompleted\u001b[0m()\n"
      ]
     },
     "metadata": {},
     "output_type": "display_data"
    },
    {
     "data": {
      "text/html": [
       "<pre style=\"white-space:pre;overflow-x:auto;line-height:normal;font-family:Menlo,'DejaVu Sans Mono',consolas,'Courier New',monospace\">05:05:14.259 | <span style=\"color: #008080; text-decoration-color: #008080\">INFO</span>    | Task run 'calculate_pocket_area-cc18ef62-1' - Finished in state <span style=\"color: #008000; text-decoration-color: #008000\">Completed</span>()\n",
       "</pre>\n"
      ],
      "text/plain": [
       "05:05:14.259 | \u001b[36mINFO\u001b[0m    | Task run 'calculate_pocket_area-cc18ef62-1' - Finished in state \u001b[32mCompleted\u001b[0m()\n"
      ]
     },
     "metadata": {},
     "output_type": "display_data"
    },
    {
     "data": {
      "text/html": [
       "<pre style=\"white-space:pre;overflow-x:auto;line-height:normal;font-family:Menlo,'DejaVu Sans Mono',consolas,'Courier New',monospace\">05:05:14.434 | <span style=\"color: #008080; text-decoration-color: #008080\">INFO</span>    | Task run 'union_dataframes-8a4e3d8f-0' - Finished in state <span style=\"color: #008000; text-decoration-color: #008000\">Completed</span>()\n",
       "</pre>\n"
      ],
      "text/plain": [
       "05:05:14.434 | \u001b[36mINFO\u001b[0m    | Task run 'union_dataframes-8a4e3d8f-0' - Finished in state \u001b[32mCompleted\u001b[0m()\n"
      ]
     },
     "metadata": {},
     "output_type": "display_data"
    },
    {
     "data": {
      "text/html": [
       "<pre style=\"white-space:pre;overflow-x:auto;line-height:normal;font-family:Menlo,'DejaVu Sans Mono',consolas,'Courier New',monospace\">05:05:14.530 | <span style=\"color: #008080; text-decoration-color: #008080\">INFO</span>    | Flow run<span style=\"color: #800080; text-decoration-color: #800080\"> 'optimistic-avocet'</span> - Created task run 'get_frames_for_time_windows-182f3eb1-0' for task 'get_frames_for_time_windows'\n",
       "</pre>\n"
      ],
      "text/plain": [
       "05:05:14.530 | \u001b[36mINFO\u001b[0m    | Flow run\u001b[35m 'optimistic-avocet'\u001b[0m - Created task run 'get_frames_for_time_windows-182f3eb1-0' for task 'get_frames_for_time_windows'\n"
      ]
     },
     "metadata": {},
     "output_type": "display_data"
    },
    {
     "data": {
      "text/html": [
       "<pre style=\"white-space:pre;overflow-x:auto;line-height:normal;font-family:Menlo,'DejaVu Sans Mono',consolas,'Courier New',monospace\">05:05:14.537 | <span style=\"color: #008080; text-decoration-color: #008080\">INFO</span>    | Flow run<span style=\"color: #800080; text-decoration-color: #800080\"> 'optimistic-avocet'</span> - Executing 'get_frames_for_time_windows-182f3eb1-0' immediately...\n",
       "</pre>\n"
      ],
      "text/plain": [
       "05:05:14.537 | \u001b[36mINFO\u001b[0m    | Flow run\u001b[35m 'optimistic-avocet'\u001b[0m - Executing 'get_frames_for_time_windows-182f3eb1-0' immediately...\n"
      ]
     },
     "metadata": {},
     "output_type": "display_data"
    },
    {
     "data": {
      "text/html": [
       "<pre style=\"white-space:pre;overflow-x:auto;line-height:normal;font-family:Menlo,'DejaVu Sans Mono',consolas,'Courier New',monospace\">05:05:14.786 | <span style=\"color: #008080; text-decoration-color: #008080\">INFO</span>    | Task run 'get_frames_for_time_windows-182f3eb1-0' - Finished in state <span style=\"color: #008000; text-decoration-color: #008000\">Completed</span>()\n",
       "</pre>\n"
      ],
      "text/plain": [
       "05:05:14.786 | \u001b[36mINFO\u001b[0m    | Task run 'get_frames_for_time_windows-182f3eb1-0' - Finished in state \u001b[32mCompleted\u001b[0m()\n"
      ]
     },
     "metadata": {},
     "output_type": "display_data"
    },
    {
     "data": {
      "text/html": [
       "<pre style=\"white-space:pre;overflow-x:auto;line-height:normal;font-family:Menlo,'DejaVu Sans Mono',consolas,'Courier New',monospace\">05:05:14.942 | <span style=\"color: #008080; text-decoration-color: #008080\">INFO</span>    | Flow run<span style=\"color: #800080; text-decoration-color: #800080\"> 'optimistic-avocet'</span> - Created task run 'get_play_pocket_metrics-c9059079-0' for task 'get_play_pocket_metrics'\n",
       "</pre>\n"
      ],
      "text/plain": [
       "05:05:14.942 | \u001b[36mINFO\u001b[0m    | Flow run\u001b[35m 'optimistic-avocet'\u001b[0m - Created task run 'get_play_pocket_metrics-c9059079-0' for task 'get_play_pocket_metrics'\n"
      ]
     },
     "metadata": {},
     "output_type": "display_data"
    },
    {
     "data": {
      "text/html": [
       "<pre style=\"white-space:pre;overflow-x:auto;line-height:normal;font-family:Menlo,'DejaVu Sans Mono',consolas,'Courier New',monospace\">05:05:14.949 | <span style=\"color: #008080; text-decoration-color: #008080\">INFO</span>    | Flow run<span style=\"color: #800080; text-decoration-color: #800080\"> 'optimistic-avocet'</span> - Executing 'get_play_pocket_metrics-c9059079-0' immediately...\n",
       "</pre>\n"
      ],
      "text/plain": [
       "05:05:14.949 | \u001b[36mINFO\u001b[0m    | Flow run\u001b[35m 'optimistic-avocet'\u001b[0m - Executing 'get_play_pocket_metrics-c9059079-0' immediately...\n"
      ]
     },
     "metadata": {},
     "output_type": "display_data"
    },
    {
     "data": {
      "text/html": [
       "<pre style=\"white-space:pre;overflow-x:auto;line-height:normal;font-family:Menlo,'DejaVu Sans Mono',consolas,'Courier New',monospace\">05:05:15.202 | <span style=\"color: #008080; text-decoration-color: #008080\">INFO</span>    | Task run 'get_play_pocket_metrics-c9059079-0' - Finished in state <span style=\"color: #008000; text-decoration-color: #008000\">Completed</span>()\n",
       "</pre>\n"
      ],
      "text/plain": [
       "05:05:15.202 | \u001b[36mINFO\u001b[0m    | Task run 'get_play_pocket_metrics-c9059079-0' - Finished in state \u001b[32mCompleted\u001b[0m()\n"
      ]
     },
     "metadata": {},
     "output_type": "display_data"
    },
    {
     "data": {
      "text/html": [
       "<pre style=\"white-space:pre;overflow-x:auto;line-height:normal;font-family:Menlo,'DejaVu Sans Mono',consolas,'Courier New',monospace\">05:05:15.324 | <span style=\"color: #008080; text-decoration-color: #008080\">INFO</span>    | Flow run<span style=\"color: #800080; text-decoration-color: #800080\"> 'optimistic-avocet'</span> - Created task run 'calculate_average_pocket_area_loss_per_second-c688e278-0' for task 'calculate_average_pocket_area_loss_per_second'\n",
       "</pre>\n"
      ],
      "text/plain": [
       "05:05:15.324 | \u001b[36mINFO\u001b[0m    | Flow run\u001b[35m 'optimistic-avocet'\u001b[0m - Created task run 'calculate_average_pocket_area_loss_per_second-c688e278-0' for task 'calculate_average_pocket_area_loss_per_second'\n"
      ]
     },
     "metadata": {},
     "output_type": "display_data"
    },
    {
     "data": {
      "text/html": [
       "<pre style=\"white-space:pre;overflow-x:auto;line-height:normal;font-family:Menlo,'DejaVu Sans Mono',consolas,'Courier New',monospace\">05:05:15.332 | <span style=\"color: #008080; text-decoration-color: #008080\">INFO</span>    | Flow run<span style=\"color: #800080; text-decoration-color: #800080\"> 'optimistic-avocet'</span> - Executing 'calculate_average_pocket_area_loss_per_second-c688e278-0' immediately...\n",
       "</pre>\n"
      ],
      "text/plain": [
       "05:05:15.332 | \u001b[36mINFO\u001b[0m    | Flow run\u001b[35m 'optimistic-avocet'\u001b[0m - Executing 'calculate_average_pocket_area_loss_per_second-c688e278-0' immediately...\n"
      ]
     },
     "metadata": {},
     "output_type": "display_data"
    },
    {
     "data": {
      "text/html": [
       "<pre style=\"white-space:pre;overflow-x:auto;line-height:normal;font-family:Menlo,'DejaVu Sans Mono',consolas,'Courier New',monospace\">05:05:15.582 | <span style=\"color: #008080; text-decoration-color: #008080\">INFO</span>    | Task run 'calculate_average_pocket_area_loss_per_second-c688e278-0' - Finished in state <span style=\"color: #008000; text-decoration-color: #008000\">Completed</span>()\n",
       "</pre>\n"
      ],
      "text/plain": [
       "05:05:15.582 | \u001b[36mINFO\u001b[0m    | Task run 'calculate_average_pocket_area_loss_per_second-c688e278-0' - Finished in state \u001b[32mCompleted\u001b[0m()\n"
      ]
     },
     "metadata": {},
     "output_type": "display_data"
    },
    {
     "data": {
      "text/html": [
       "<pre style=\"white-space:pre;overflow-x:auto;line-height:normal;font-family:Menlo,'DejaVu Sans Mono',consolas,'Courier New',monospace\">05:05:15.684 | <span style=\"color: #008080; text-decoration-color: #008080\">INFO</span>    | Flow run<span style=\"color: #800080; text-decoration-color: #800080\"> 'optimistic-avocet'</span> - Created task run 'write_csv-386fe2af-0' for task 'write_csv'\n",
       "</pre>\n"
      ],
      "text/plain": [
       "05:05:15.684 | \u001b[36mINFO\u001b[0m    | Flow run\u001b[35m 'optimistic-avocet'\u001b[0m - Created task run 'write_csv-386fe2af-0' for task 'write_csv'\n"
      ]
     },
     "metadata": {},
     "output_type": "display_data"
    },
    {
     "data": {
      "text/html": [
       "<pre style=\"white-space:pre;overflow-x:auto;line-height:normal;font-family:Menlo,'DejaVu Sans Mono',consolas,'Courier New',monospace\">05:05:15.692 | <span style=\"color: #008080; text-decoration-color: #008080\">INFO</span>    | Flow run<span style=\"color: #800080; text-decoration-color: #800080\"> 'optimistic-avocet'</span> - Executing 'write_csv-386fe2af-0' immediately...\n",
       "</pre>\n"
      ],
      "text/plain": [
       "05:05:15.692 | \u001b[36mINFO\u001b[0m    | Flow run\u001b[35m 'optimistic-avocet'\u001b[0m - Executing 'write_csv-386fe2af-0' immediately...\n"
      ]
     },
     "metadata": {},
     "output_type": "display_data"
    },
    {
     "data": {
      "text/html": [
       "<pre style=\"white-space:pre;overflow-x:auto;line-height:normal;font-family:Menlo,'DejaVu Sans Mono',consolas,'Courier New',monospace\">05:05:16.086 | <span style=\"color: #008080; text-decoration-color: #008080\">INFO</span>    | Task run 'write_csv-386fe2af-0' - Finished in state <span style=\"color: #008000; text-decoration-color: #008000\">Completed</span>()\n",
       "</pre>\n"
      ],
      "text/plain": [
       "05:05:16.086 | \u001b[36mINFO\u001b[0m    | Task run 'write_csv-386fe2af-0' - Finished in state \u001b[32mCompleted\u001b[0m()\n"
      ]
     },
     "metadata": {},
     "output_type": "display_data"
    },
    {
     "data": {
      "text/html": [
       "<pre style=\"white-space:pre;overflow-x:auto;line-height:normal;font-family:Menlo,'DejaVu Sans Mono',consolas,'Courier New',monospace\">05:05:16.218 | <span style=\"color: #008080; text-decoration-color: #008080\">INFO</span>    | Flow run<span style=\"color: #800080; text-decoration-color: #800080\"> 'optimistic-avocet'</span> - Created task run 'write_csv-386fe2af-1' for task 'write_csv'\n",
       "</pre>\n"
      ],
      "text/plain": [
       "05:05:16.218 | \u001b[36mINFO\u001b[0m    | Flow run\u001b[35m 'optimistic-avocet'\u001b[0m - Created task run 'write_csv-386fe2af-1' for task 'write_csv'\n"
      ]
     },
     "metadata": {},
     "output_type": "display_data"
    },
    {
     "data": {
      "text/html": [
       "<pre style=\"white-space:pre;overflow-x:auto;line-height:normal;font-family:Menlo,'DejaVu Sans Mono',consolas,'Courier New',monospace\">05:05:16.225 | <span style=\"color: #008080; text-decoration-color: #008080\">INFO</span>    | Flow run<span style=\"color: #800080; text-decoration-color: #800080\"> 'optimistic-avocet'</span> - Executing 'write_csv-386fe2af-1' immediately...\n",
       "</pre>\n"
      ],
      "text/plain": [
       "05:05:16.225 | \u001b[36mINFO\u001b[0m    | Flow run\u001b[35m 'optimistic-avocet'\u001b[0m - Executing 'write_csv-386fe2af-1' immediately...\n"
      ]
     },
     "metadata": {},
     "output_type": "display_data"
    },
    {
     "data": {
      "text/html": [
       "<pre style=\"white-space:pre;overflow-x:auto;line-height:normal;font-family:Menlo,'DejaVu Sans Mono',consolas,'Courier New',monospace\">05:05:16.636 | <span style=\"color: #008080; text-decoration-color: #008080\">INFO</span>    | Task run 'write_csv-386fe2af-1' - Finished in state <span style=\"color: #008000; text-decoration-color: #008000\">Completed</span>()\n",
       "</pre>\n"
      ],
      "text/plain": [
       "05:05:16.636 | \u001b[36mINFO\u001b[0m    | Task run 'write_csv-386fe2af-1' - Finished in state \u001b[32mCompleted\u001b[0m()\n"
      ]
     },
     "metadata": {},
     "output_type": "display_data"
    },
    {
     "data": {
      "text/html": [
       "<pre style=\"white-space:pre;overflow-x:auto;line-height:normal;font-family:Menlo,'DejaVu Sans Mono',consolas,'Courier New',monospace\">05:05:16.700 | <span style=\"color: #008080; text-decoration-color: #008080\">INFO</span>    | Flow run<span style=\"color: #800080; text-decoration-color: #800080\"> 'optimistic-avocet'</span> - Created task run 'write_csv-386fe2af-2' for task 'write_csv'\n",
       "</pre>\n"
      ],
      "text/plain": [
       "05:05:16.700 | \u001b[36mINFO\u001b[0m    | Flow run\u001b[35m 'optimistic-avocet'\u001b[0m - Created task run 'write_csv-386fe2af-2' for task 'write_csv'\n"
      ]
     },
     "metadata": {},
     "output_type": "display_data"
    },
    {
     "data": {
      "text/html": [
       "<pre style=\"white-space:pre;overflow-x:auto;line-height:normal;font-family:Menlo,'DejaVu Sans Mono',consolas,'Courier New',monospace\">05:05:16.716 | <span style=\"color: #008080; text-decoration-color: #008080\">INFO</span>    | Flow run<span style=\"color: #800080; text-decoration-color: #800080\"> 'optimistic-avocet'</span> - Executing 'write_csv-386fe2af-2' immediately...\n",
       "</pre>\n"
      ],
      "text/plain": [
       "05:05:16.716 | \u001b[36mINFO\u001b[0m    | Flow run\u001b[35m 'optimistic-avocet'\u001b[0m - Executing 'write_csv-386fe2af-2' immediately...\n"
      ]
     },
     "metadata": {},
     "output_type": "display_data"
    },
    {
     "data": {
      "text/html": [
       "<pre style=\"white-space:pre;overflow-x:auto;line-height:normal;font-family:Menlo,'DejaVu Sans Mono',consolas,'Courier New',monospace\">05:05:17.078 | <span style=\"color: #008080; text-decoration-color: #008080\">INFO</span>    | Task run 'write_csv-386fe2af-2' - Finished in state <span style=\"color: #008000; text-decoration-color: #008000\">Completed</span>()\n",
       "</pre>\n"
      ],
      "text/plain": [
       "05:05:17.078 | \u001b[36mINFO\u001b[0m    | Task run 'write_csv-386fe2af-2' - Finished in state \u001b[32mCompleted\u001b[0m()\n"
      ]
     },
     "metadata": {},
     "output_type": "display_data"
    },
    {
     "data": {
      "text/html": [
       "<pre style=\"white-space:pre;overflow-x:auto;line-height:normal;font-family:Menlo,'DejaVu Sans Mono',consolas,'Courier New',monospace\">05:05:17.227 | <span style=\"color: #008080; text-decoration-color: #008080\">INFO</span>    | Flow run<span style=\"color: #800080; text-decoration-color: #800080\"> 'optimistic-avocet'</span> - Created task run 'write_csv-386fe2af-3' for task 'write_csv'\n",
       "</pre>\n"
      ],
      "text/plain": [
       "05:05:17.227 | \u001b[36mINFO\u001b[0m    | Flow run\u001b[35m 'optimistic-avocet'\u001b[0m - Created task run 'write_csv-386fe2af-3' for task 'write_csv'\n"
      ]
     },
     "metadata": {},
     "output_type": "display_data"
    },
    {
     "data": {
      "text/html": [
       "<pre style=\"white-space:pre;overflow-x:auto;line-height:normal;font-family:Menlo,'DejaVu Sans Mono',consolas,'Courier New',monospace\">05:05:17.236 | <span style=\"color: #008080; text-decoration-color: #008080\">INFO</span>    | Flow run<span style=\"color: #800080; text-decoration-color: #800080\"> 'optimistic-avocet'</span> - Executing 'write_csv-386fe2af-3' immediately...\n",
       "</pre>\n"
      ],
      "text/plain": [
       "05:05:17.236 | \u001b[36mINFO\u001b[0m    | Flow run\u001b[35m 'optimistic-avocet'\u001b[0m - Executing 'write_csv-386fe2af-3' immediately...\n"
      ]
     },
     "metadata": {},
     "output_type": "display_data"
    },
    {
     "data": {
      "text/html": [
       "<pre style=\"white-space:pre;overflow-x:auto;line-height:normal;font-family:Menlo,'DejaVu Sans Mono',consolas,'Courier New',monospace\">05:05:17.630 | <span style=\"color: #008080; text-decoration-color: #008080\">INFO</span>    | Task run 'write_csv-386fe2af-3' - Finished in state <span style=\"color: #008000; text-decoration-color: #008000\">Completed</span>()\n",
       "</pre>\n"
      ],
      "text/plain": [
       "05:05:17.630 | \u001b[36mINFO\u001b[0m    | Task run 'write_csv-386fe2af-3' - Finished in state \u001b[32mCompleted\u001b[0m()\n"
      ]
     },
     "metadata": {},
     "output_type": "display_data"
    },
    {
     "data": {
      "text/html": [
       "<pre style=\"white-space:pre;overflow-x:auto;line-height:normal;font-family:Menlo,'DejaVu Sans Mono',consolas,'Courier New',monospace\">05:05:17.777 | <span style=\"color: #008080; text-decoration-color: #008080\">INFO</span>    | Flow run<span style=\"color: #800080; text-decoration-color: #800080\"> 'optimistic-avocet'</span> - Created task run 'write_csv-386fe2af-4' for task 'write_csv'\n",
       "</pre>\n"
      ],
      "text/plain": [
       "05:05:17.777 | \u001b[36mINFO\u001b[0m    | Flow run\u001b[35m 'optimistic-avocet'\u001b[0m - Created task run 'write_csv-386fe2af-4' for task 'write_csv'\n"
      ]
     },
     "metadata": {},
     "output_type": "display_data"
    },
    {
     "data": {
      "text/html": [
       "<pre style=\"white-space:pre;overflow-x:auto;line-height:normal;font-family:Menlo,'DejaVu Sans Mono',consolas,'Courier New',monospace\">05:05:17.785 | <span style=\"color: #008080; text-decoration-color: #008080\">INFO</span>    | Flow run<span style=\"color: #800080; text-decoration-color: #800080\"> 'optimistic-avocet'</span> - Executing 'write_csv-386fe2af-4' immediately...\n",
       "</pre>\n"
      ],
      "text/plain": [
       "05:05:17.785 | \u001b[36mINFO\u001b[0m    | Flow run\u001b[35m 'optimistic-avocet'\u001b[0m - Executing 'write_csv-386fe2af-4' immediately...\n"
      ]
     },
     "metadata": {},
     "output_type": "display_data"
    },
    {
     "data": {
      "text/html": [
       "<pre style=\"white-space:pre;overflow-x:auto;line-height:normal;font-family:Menlo,'DejaVu Sans Mono',consolas,'Courier New',monospace\">05:05:18.116 | <span style=\"color: #008080; text-decoration-color: #008080\">INFO</span>    | Task run 'write_csv-386fe2af-4' - Finished in state <span style=\"color: #008000; text-decoration-color: #008000\">Completed</span>()\n",
       "</pre>\n"
      ],
      "text/plain": [
       "05:05:18.116 | \u001b[36mINFO\u001b[0m    | Task run 'write_csv-386fe2af-4' - Finished in state \u001b[32mCompleted\u001b[0m()\n"
      ]
     },
     "metadata": {},
     "output_type": "display_data"
    },
    {
     "data": {
      "text/html": [
       "<pre style=\"white-space:pre;overflow-x:auto;line-height:normal;font-family:Menlo,'DejaVu Sans Mono',consolas,'Courier New',monospace\">05:05:18.253 | <span style=\"color: #008080; text-decoration-color: #008080\">INFO</span>    | Flow run<span style=\"color: #800080; text-decoration-color: #800080\"> 'optimistic-avocet'</span> - Created task run 'write_csv-386fe2af-5' for task 'write_csv'\n",
       "</pre>\n"
      ],
      "text/plain": [
       "05:05:18.253 | \u001b[36mINFO\u001b[0m    | Flow run\u001b[35m 'optimistic-avocet'\u001b[0m - Created task run 'write_csv-386fe2af-5' for task 'write_csv'\n"
      ]
     },
     "metadata": {},
     "output_type": "display_data"
    },
    {
     "data": {
      "text/html": [
       "<pre style=\"white-space:pre;overflow-x:auto;line-height:normal;font-family:Menlo,'DejaVu Sans Mono',consolas,'Courier New',monospace\">05:05:18.262 | <span style=\"color: #008080; text-decoration-color: #008080\">INFO</span>    | Flow run<span style=\"color: #800080; text-decoration-color: #800080\"> 'optimistic-avocet'</span> - Executing 'write_csv-386fe2af-5' immediately...\n",
       "</pre>\n"
      ],
      "text/plain": [
       "05:05:18.262 | \u001b[36mINFO\u001b[0m    | Flow run\u001b[35m 'optimistic-avocet'\u001b[0m - Executing 'write_csv-386fe2af-5' immediately...\n"
      ]
     },
     "metadata": {},
     "output_type": "display_data"
    },
    {
     "data": {
      "text/html": [
       "<pre style=\"white-space:pre;overflow-x:auto;line-height:normal;font-family:Menlo,'DejaVu Sans Mono',consolas,'Courier New',monospace\">05:05:18.591 | <span style=\"color: #008080; text-decoration-color: #008080\">INFO</span>    | Task run 'write_csv-386fe2af-5' - Finished in state <span style=\"color: #008000; text-decoration-color: #008000\">Completed</span>()\n",
       "</pre>\n"
      ],
      "text/plain": [
       "05:05:18.591 | \u001b[36mINFO\u001b[0m    | Task run 'write_csv-386fe2af-5' - Finished in state \u001b[32mCompleted\u001b[0m()\n"
      ]
     },
     "metadata": {},
     "output_type": "display_data"
    },
    {
     "data": {
      "text/html": [
       "<pre style=\"white-space:pre;overflow-x:auto;line-height:normal;font-family:Menlo,'DejaVu Sans Mono',consolas,'Courier New',monospace\">05:05:18.754 | <span style=\"color: #008080; text-decoration-color: #008080\">INFO</span>    | Flow run<span style=\"color: #800080; text-decoration-color: #800080\"> 'optimistic-avocet'</span> - Finished in state <span style=\"color: #008000; text-decoration-color: #008000\">Completed</span>('All states completed.')\n",
       "</pre>\n"
      ],
      "text/plain": [
       "05:05:18.754 | \u001b[36mINFO\u001b[0m    | Flow run\u001b[35m 'optimistic-avocet'\u001b[0m - Finished in state \u001b[32mCompleted\u001b[0m('All states completed.')\n"
      ]
     },
     "metadata": {},
     "output_type": "display_data"
    }
   ],
   "source": [
    "_ = main_flow(max_games=3, max_plays=3)"
   ]
  },
  {
   "cell_type": "code",
   "execution_count": 10,
   "id": "fd924483",
   "metadata": {},
   "outputs": [
    {
     "name": "stderr",
     "output_type": "stream",
     "text": [
      "/tmp/ipykernel_5144/1599904757.py:1: FutureWarning: The default value of numeric_only in DataFrameGroupBy.sum is deprecated. In a future version, numeric_only will default to False. Either specify numeric_only or select only columns which should be valid for the function.\n",
      "  df_plays_group_one = df_plays.groupby([\"down\", \"yardsToGo\"]).sum().reset_index()\n"
     ]
    },
    {
     "data": {
      "text/html": [
       "<div>\n",
       "<style scoped>\n",
       "    .dataframe tbody tr th:only-of-type {\n",
       "        vertical-align: middle;\n",
       "    }\n",
       "\n",
       "    .dataframe tbody tr th {\n",
       "        vertical-align: top;\n",
       "    }\n",
       "\n",
       "    .dataframe thead th {\n",
       "        text-align: right;\n",
       "    }\n",
       "</style>\n",
       "<table border=\"1\" class=\"dataframe\">\n",
       "  <thead>\n",
       "    <tr style=\"text-align: right;\">\n",
       "      <th></th>\n",
       "      <th>down</th>\n",
       "      <th>yardsToGo</th>\n",
       "      <th>gameId</th>\n",
       "      <th>playId</th>\n",
       "      <th>quarter</th>\n",
       "      <th>yardlineNumber</th>\n",
       "      <th>preSnapHomeScore</th>\n",
       "      <th>preSnapVisitorScore</th>\n",
       "      <th>penaltyYards</th>\n",
       "      <th>prePenaltyPlayResult</th>\n",
       "      <th>playResult</th>\n",
       "      <th>foulNFLId1</th>\n",
       "      <th>foulNFLId2</th>\n",
       "      <th>foulNFLId3</th>\n",
       "      <th>absoluteYardlineNumber</th>\n",
       "      <th>defendersInBox</th>\n",
       "      <th>pff_playAction</th>\n",
       "    </tr>\n",
       "  </thead>\n",
       "  <tbody>\n",
       "    <tr>\n",
       "      <th>0</th>\n",
       "      <td>0</td>\n",
       "      <td>0</td>\n",
       "      <td>70738474252</td>\n",
       "      <td>117082</td>\n",
       "      <td>130</td>\n",
       "      <td>90</td>\n",
       "      <td>687</td>\n",
       "      <td>810</td>\n",
       "      <td>4.0</td>\n",
       "      <td>0</td>\n",
       "      <td>4</td>\n",
       "      <td>42346.0</td>\n",
       "      <td>0.0</td>\n",
       "      <td>0.0</td>\n",
       "      <td>1752.0</td>\n",
       "      <td>242.0</td>\n",
       "      <td>14</td>\n",
       "    </tr>\n",
       "    <tr>\n",
       "      <th>1</th>\n",
       "      <td>1</td>\n",
       "      <td>1</td>\n",
       "      <td>32337583387</td>\n",
       "      <td>34064</td>\n",
       "      <td>39</td>\n",
       "      <td>16</td>\n",
       "      <td>127</td>\n",
       "      <td>149</td>\n",
       "      <td>0.0</td>\n",
       "      <td>6</td>\n",
       "      <td>6</td>\n",
       "      <td>90125.0</td>\n",
       "      <td>45069.0</td>\n",
       "      <td>0.0</td>\n",
       "      <td>862.0</td>\n",
       "      <td>138.0</td>\n",
       "      <td>10</td>\n",
       "    </tr>\n",
       "    <tr>\n",
       "      <th>2</th>\n",
       "      <td>1</td>\n",
       "      <td>2</td>\n",
       "      <td>18189897136</td>\n",
       "      <td>16347</td>\n",
       "      <td>19</td>\n",
       "      <td>18</td>\n",
       "      <td>68</td>\n",
       "      <td>70</td>\n",
       "      <td>-4.0</td>\n",
       "      <td>11</td>\n",
       "      <td>6</td>\n",
       "      <td>52415.0</td>\n",
       "      <td>0.0</td>\n",
       "      <td>0.0</td>\n",
       "      <td>588.0</td>\n",
       "      <td>73.0</td>\n",
       "      <td>5</td>\n",
       "    </tr>\n",
       "    <tr>\n",
       "      <th>3</th>\n",
       "      <td>1</td>\n",
       "      <td>3</td>\n",
       "      <td>16168784753</td>\n",
       "      <td>15915</td>\n",
       "      <td>19</td>\n",
       "      <td>24</td>\n",
       "      <td>103</td>\n",
       "      <td>84</td>\n",
       "      <td>2.0</td>\n",
       "      <td>9</td>\n",
       "      <td>11</td>\n",
       "      <td>53629.0</td>\n",
       "      <td>0.0</td>\n",
       "      <td>0.0</td>\n",
       "      <td>480.0</td>\n",
       "      <td>58.0</td>\n",
       "      <td>7</td>\n",
       "    </tr>\n",
       "    <tr>\n",
       "      <th>4</th>\n",
       "      <td>1</td>\n",
       "      <td>4</td>\n",
       "      <td>16168774432</td>\n",
       "      <td>17766</td>\n",
       "      <td>21</td>\n",
       "      <td>32</td>\n",
       "      <td>122</td>\n",
       "      <td>64</td>\n",
       "      <td>5.0</td>\n",
       "      <td>-5</td>\n",
       "      <td>0</td>\n",
       "      <td>90116.0</td>\n",
       "      <td>0.0</td>\n",
       "      <td>0.0</td>\n",
       "      <td>388.0</td>\n",
       "      <td>55.0</td>\n",
       "      <td>4</td>\n",
       "    </tr>\n",
       "    <tr>\n",
       "      <th>...</th>\n",
       "      <td>...</td>\n",
       "      <td>...</td>\n",
       "      <td>...</td>\n",
       "      <td>...</td>\n",
       "      <td>...</td>\n",
       "      <td>...</td>\n",
       "      <td>...</td>\n",
       "      <td>...</td>\n",
       "      <td>...</td>\n",
       "      <td>...</td>\n",
       "      <td>...</td>\n",
       "      <td>...</td>\n",
       "      <td>...</td>\n",
       "      <td>...</td>\n",
       "      <td>...</td>\n",
       "      <td>...</td>\n",
       "      <td>...</td>\n",
       "    </tr>\n",
       "    <tr>\n",
       "      <th>98</th>\n",
       "      <td>4</td>\n",
       "      <td>18</td>\n",
       "      <td>2021102405</td>\n",
       "      <td>3484</td>\n",
       "      <td>4</td>\n",
       "      <td>25</td>\n",
       "      <td>27</td>\n",
       "      <td>3</td>\n",
       "      <td>0.0</td>\n",
       "      <td>-8</td>\n",
       "      <td>-8</td>\n",
       "      <td>0.0</td>\n",
       "      <td>0.0</td>\n",
       "      <td>0.0</td>\n",
       "      <td>35.0</td>\n",
       "      <td>5.0</td>\n",
       "      <td>0</td>\n",
       "    </tr>\n",
       "    <tr>\n",
       "      <th>99</th>\n",
       "      <td>4</td>\n",
       "      <td>19</td>\n",
       "      <td>4042195712</td>\n",
       "      <td>7446</td>\n",
       "      <td>8</td>\n",
       "      <td>36</td>\n",
       "      <td>34</td>\n",
       "      <td>26</td>\n",
       "      <td>0.0</td>\n",
       "      <td>36</td>\n",
       "      <td>36</td>\n",
       "      <td>43387.0</td>\n",
       "      <td>43722.0</td>\n",
       "      <td>0.0</td>\n",
       "      <td>56.0</td>\n",
       "      <td>6.0</td>\n",
       "      <td>0</td>\n",
       "    </tr>\n",
       "    <tr>\n",
       "      <th>100</th>\n",
       "      <td>4</td>\n",
       "      <td>20</td>\n",
       "      <td>2021092610</td>\n",
       "      <td>4670</td>\n",
       "      <td>5</td>\n",
       "      <td>15</td>\n",
       "      <td>28</td>\n",
       "      <td>25</td>\n",
       "      <td>0.0</td>\n",
       "      <td>27</td>\n",
       "      <td>27</td>\n",
       "      <td>0.0</td>\n",
       "      <td>0.0</td>\n",
       "      <td>0.0</td>\n",
       "      <td>25.0</td>\n",
       "      <td>4.0</td>\n",
       "      <td>0</td>\n",
       "    </tr>\n",
       "    <tr>\n",
       "      <th>101</th>\n",
       "      <td>4</td>\n",
       "      <td>26</td>\n",
       "      <td>2021101703</td>\n",
       "      <td>3809</td>\n",
       "      <td>4</td>\n",
       "      <td>48</td>\n",
       "      <td>14</td>\n",
       "      <td>24</td>\n",
       "      <td>0.0</td>\n",
       "      <td>0</td>\n",
       "      <td>0</td>\n",
       "      <td>45550.0</td>\n",
       "      <td>0.0</td>\n",
       "      <td>0.0</td>\n",
       "      <td>58.0</td>\n",
       "      <td>4.0</td>\n",
       "      <td>0</td>\n",
       "    </tr>\n",
       "    <tr>\n",
       "      <th>102</th>\n",
       "      <td>4</td>\n",
       "      <td>28</td>\n",
       "      <td>2021102500</td>\n",
       "      <td>3998</td>\n",
       "      <td>4</td>\n",
       "      <td>7</td>\n",
       "      <td>10</td>\n",
       "      <td>13</td>\n",
       "      <td>0.0</td>\n",
       "      <td>0</td>\n",
       "      <td>0</td>\n",
       "      <td>0.0</td>\n",
       "      <td>0.0</td>\n",
       "      <td>0.0</td>\n",
       "      <td>103.0</td>\n",
       "      <td>3.0</td>\n",
       "      <td>0</td>\n",
       "    </tr>\n",
       "  </tbody>\n",
       "</table>\n",
       "<p>103 rows × 17 columns</p>\n",
       "</div>"
      ],
      "text/plain": [
       "     down  yardsToGo       gameId  playId  quarter  yardlineNumber  \\\n",
       "0       0          0  70738474252  117082      130              90   \n",
       "1       1          1  32337583387   34064       39              16   \n",
       "2       1          2  18189897136   16347       19              18   \n",
       "3       1          3  16168784753   15915       19              24   \n",
       "4       1          4  16168774432   17766       21              32   \n",
       "..    ...        ...          ...     ...      ...             ...   \n",
       "98      4         18   2021102405    3484        4              25   \n",
       "99      4         19   4042195712    7446        8              36   \n",
       "100     4         20   2021092610    4670        5              15   \n",
       "101     4         26   2021101703    3809        4              48   \n",
       "102     4         28   2021102500    3998        4               7   \n",
       "\n",
       "     preSnapHomeScore  preSnapVisitorScore  penaltyYards  \\\n",
       "0                 687                  810           4.0   \n",
       "1                 127                  149           0.0   \n",
       "2                  68                   70          -4.0   \n",
       "3                 103                   84           2.0   \n",
       "4                 122                   64           5.0   \n",
       "..                ...                  ...           ...   \n",
       "98                 27                    3           0.0   \n",
       "99                 34                   26           0.0   \n",
       "100                28                   25           0.0   \n",
       "101                14                   24           0.0   \n",
       "102                10                   13           0.0   \n",
       "\n",
       "     prePenaltyPlayResult  playResult  foulNFLId1  foulNFLId2  foulNFLId3  \\\n",
       "0                       0           4     42346.0         0.0         0.0   \n",
       "1                       6           6     90125.0     45069.0         0.0   \n",
       "2                      11           6     52415.0         0.0         0.0   \n",
       "3                       9          11     53629.0         0.0         0.0   \n",
       "4                      -5           0     90116.0         0.0         0.0   \n",
       "..                    ...         ...         ...         ...         ...   \n",
       "98                     -8          -8         0.0         0.0         0.0   \n",
       "99                     36          36     43387.0     43722.0         0.0   \n",
       "100                    27          27         0.0         0.0         0.0   \n",
       "101                     0           0     45550.0         0.0         0.0   \n",
       "102                     0           0         0.0         0.0         0.0   \n",
       "\n",
       "     absoluteYardlineNumber  defendersInBox  pff_playAction  \n",
       "0                    1752.0           242.0              14  \n",
       "1                     862.0           138.0              10  \n",
       "2                     588.0            73.0               5  \n",
       "3                     480.0            58.0               7  \n",
       "4                     388.0            55.0               4  \n",
       "..                      ...             ...             ...  \n",
       "98                     35.0             5.0               0  \n",
       "99                     56.0             6.0               0  \n",
       "100                    25.0             4.0               0  \n",
       "101                    58.0             4.0               0  \n",
       "102                   103.0             3.0               0  \n",
       "\n",
       "[103 rows x 17 columns]"
      ]
     },
     "execution_count": 10,
     "metadata": {},
     "output_type": "execute_result"
    }
   ],
   "source": [
    "df_plays_group_one = df_plays.groupby([\"down\", \"yardsToGo\"]).sum().reset_index()\n",
    "# df_plays_group_one.groupby(pd.cut(df_plays_group_one[\"yardsToGo\"], np.arange(1, 15, 3))).sum()\n",
    "df_seperated_downsXdistance = pd.DataFrame()\n",
    "for x in df_plays_group_one[\"down\"].unique():\n",
    "    df_query_one_to_three = df_plays_group_one.query(\"down == {} and yardsToGo >= 0 and yardsToGo <= 3\".format(x))\n",
    "    df_plays_group_two_point_one = df_query_one_to_three.groupby([\"down\"]).sum()\n",
    "    df_plays_group_two_point_one[\"yardsToGo\"] = \"1 to 3\"\n",
    "    df_query_four_to_six = df_plays_group_one.query(\"down == {} and yardsToGo >= 4 and yardsToGo <= 6\".format(x))\n",
    "    df_plays_group_two_point_two = df_query_four_to_six.groupby([\"down\"]).sum()\n",
    "    df_plays_group_two_point_two[\"yardsToGo\"] = \"4 to 6\"\n",
    "    df_query_seven_to_nine = df_plays_group_one.query(\"down == {} and yardsToGo >= 7 and yardsToGo <= 9\".format(x))\n",
    "    df_plays_group_two_point_three = df_query_seven_to_nine.groupby([\"down\"]).sum()\n",
    "    df_plays_group_two_point_three[\"yardsToGo\"] = \"7 to 9\"\n",
    "    df_query_ten_plus = df_plays_group_one.query(\"down == {} and yardsToGo >= 10\".format(x))\n",
    "    df_plays_group_two_point_four = df_query_ten_plus.groupby([\"down\"]).sum()\n",
    "    df_plays_group_two_point_four[\"yardsToGo\"] = \"10+\"\n",
    "    df_seperated_downsXdistance = pd.concat([df_seperated_downsXdistance, df_plays_group_two_point_one, df_plays_group_two_point_two, df_plays_group_two_point_three, df_plays_group_two_point_four])\n",
    "#     df_seperated_downsXdistance = pd.concat([df_seperated_downsXdistance, df_plays_group_two_point_one])\n",
    "\n",
    "df_plays_group_one"
   ]
  },
  {
   "cell_type": "code",
   "execution_count": 81,
   "id": "cd113d2f",
   "metadata": {},
   "outputs": [],
   "source": [
    "df_play_metrics = pd.read_csv(f\"{DIR}/data/outputs/play_metrics.csv\")\n",
    "df_plays = pd.read_csv(f\"{DIR}/data/raw/plays.csv\")\n",
    "\n",
    "def calculate_down_and_distance_pocket_loss_average(\n",
    "    df_average_loss: pd.DataFrame)-> pd.DataFrame:\n",
    "    \"\"\"\n",
    "    This method will create a dataframe that looks at average pocket loss across the NFL based on down and distance\n",
    "    \n",
    "    Four distance buckets:\n",
    "        - 1 to 3 yards\n",
    "        - 4 to 6 yards\n",
    "        - 7 to 9 yards\n",
    "        - 10+ yards\n",
    "    \n",
    "    Parameters:\n",
    "        df_average_loss:\n",
    "        - gameId (PK)\n",
    "        - playId (PK)\n",
    "        - method (PK)\n",
    "        - window_type (PK)\n",
    "        - average_pocket_loss_per_second\n",
    "        \n",
    "    Returns:\n",
    "        df_out:\n",
    "        - Down (PK)\n",
    "        - Distance_Start (PK)\n",
    "        - Distance_End (PK)\n",
    "        - method (PK)\n",
    "        - window_type (PK)\n",
    "        - average_pocket_loss_per_second\n",
    "    \"\"\"\n",
    "    df = pd.DataFrame(df_average_loss)\n",
    "    \n",
    "    #df_plays might be passed to \n",
    "    df_plays[\"play_count\"] = 1\n",
    "    df_lossXplays = df.merge(df_plays[[\"gameId\", \"playId\", \"down\", \"yardsToGo\", \"play_count\"]], how = \"left\", on=[\"gameId\", \"playId\"])\n",
    "    df_lossXplays_grouped = df_lossXplays.groupby([\"down\", \"yardsToGo\"]).mean(numeric_only = True)\n",
    "    \n",
    "    #seperation of plays into buckets based on downs and distance\n",
    "    df_seperated_downsXdistance = pd.DataFrame()\n",
    "    for x in df_lossXplays[\"down\"].unique():\n",
    "        #first filter of plays between 0 to 3 yards on the selected down of the loop, grouped by method and window_type as well\n",
    "        df_query_one_to_three = df_lossXplays.query(\"down == {} and yardsToGo >= 0 and yardsToGo <= 3\".format(x))\n",
    "        df_plays_group_two_point_one = df_query_one_to_three.groupby([\"down\", \"method\", \"window_type\"]).sum(numeric_only = True)\n",
    "        df_plays_group_two_point_one[\"yardsToGo\"] = \"1 to 3\"\n",
    "        #second filter of plays between 4 to 6 yards, grouped by method and window_type as well\n",
    "        df_query_four_to_six = df_lossXplays.query(\"down == {} and yardsToGo >= 4 and yardsToGo <= 6\".format(x))\n",
    "        df_plays_group_two_point_two = df_query_four_to_six.groupby([\"down\", \"method\", \"window_type\"]).sum(numeric_only = True)\n",
    "        df_plays_group_two_point_two[\"yardsToGo\"] = \"4 to 6\"\n",
    "        #fourth filter of plays between 7 to 9 yards, grouped by method and window_type as well\n",
    "        df_query_seven_to_nine = df_lossXplays.query(\"down == {} and yardsToGo >= 7 and yardsToGo <= 9\".format(x))\n",
    "        df_plays_group_two_point_three = df_query_seven_to_nine.groupby([\"down\", \"method\", \"window_type\"]).sum(numeric_only = True)\n",
    "        df_plays_group_two_point_three[\"yardsToGo\"] = \"7 to 9\"\n",
    "        #fourth filter of plays between yards, grouped by method and window_type as well\n",
    "        df_query_ten_plus = df_lossXplays.query(\"down == {} and yardsToGo >= 10\".format(x))\n",
    "        df_plays_group_two_point_four = df_query_ten_plus.groupby([\"down\", \"method\", \"window_type\"]).sum(numeric_only = True)\n",
    "        df_plays_group_two_point_four[\"yardsToGo\"] = \"10+\"\n",
    "        df_seperated_downsXdistance = pd.concat([df_seperated_downsXdistance, df_plays_group_two_point_one, df_plays_group_two_point_two, df_plays_group_two_point_three, df_plays_group_two_point_four])\n",
    "             \n",
    "    #reseting index to make down accesible\n",
    "    df_seperated_downsXdistance = df_seperated_downsXdistance.groupby([\"down\", \"yardsToGo\", \"method\", \"window_type\"]).sum(numeric_only = True).reset_index()\n",
    "    #calculating correct average_pocket_area_loss_per_second across all the plays within the bucket\n",
    "    df_seperated_downsXdistance[\"average_pocket_area_loss_per_second\"] = df_seperated_downsXdistance[\"average_pocket_area_loss_per_second\"] / df_seperated_downsXdistance[\"play_count\"]\n",
    "    #pulling important columns and writing to df_out\n",
    "    df_out = df_seperated_downsXdistance[[\"down\", \"yardsToGo\", \"method\", \"window_type\", \"average_pocket_area_loss_per_second\", \"play_count\"]].rename(columns = {\"yardsToGo\" : \"Distance\"})\n",
    "    return df_out"
   ]
  },
  {
   "cell_type": "code",
   "execution_count": 82,
   "id": "0b94aecb",
   "metadata": {},
   "outputs": [
    {
     "data": {
      "text/html": [
       "<div>\n",
       "<style scoped>\n",
       "    .dataframe tbody tr th:only-of-type {\n",
       "        vertical-align: middle;\n",
       "    }\n",
       "\n",
       "    .dataframe tbody tr th {\n",
       "        vertical-align: top;\n",
       "    }\n",
       "\n",
       "    .dataframe thead th {\n",
       "        text-align: right;\n",
       "    }\n",
       "</style>\n",
       "<table border=\"1\" class=\"dataframe\">\n",
       "  <thead>\n",
       "    <tr style=\"text-align: right;\">\n",
       "      <th></th>\n",
       "      <th>down</th>\n",
       "      <th>Distance</th>\n",
       "      <th>method</th>\n",
       "      <th>window_type</th>\n",
       "      <th>average_pocket_area_loss_per_second</th>\n",
       "      <th>play_count</th>\n",
       "    </tr>\n",
       "  </thead>\n",
       "  <tbody>\n",
       "    <tr>\n",
       "      <th>0</th>\n",
       "      <td>1</td>\n",
       "      <td>10+</td>\n",
       "      <td>blocker_convex_hull</td>\n",
       "      <td>after_snap</td>\n",
       "      <td>3.095633</td>\n",
       "      <td>3</td>\n",
       "    </tr>\n",
       "    <tr>\n",
       "      <th>1</th>\n",
       "      <td>1</td>\n",
       "      <td>10+</td>\n",
       "      <td>blocker_convex_hull</td>\n",
       "      <td>before_pass</td>\n",
       "      <td>3.125883</td>\n",
       "      <td>3</td>\n",
       "    </tr>\n",
       "    <tr>\n",
       "      <th>2</th>\n",
       "      <td>1</td>\n",
       "      <td>10+</td>\n",
       "      <td>passer_radius</td>\n",
       "      <td>after_snap</td>\n",
       "      <td>-5.277823</td>\n",
       "      <td>3</td>\n",
       "    </tr>\n",
       "    <tr>\n",
       "      <th>3</th>\n",
       "      <td>1</td>\n",
       "      <td>10+</td>\n",
       "      <td>passer_radius</td>\n",
       "      <td>before_pass</td>\n",
       "      <td>-18.873170</td>\n",
       "      <td>3</td>\n",
       "    </tr>\n",
       "    <tr>\n",
       "      <th>4</th>\n",
       "      <td>2</td>\n",
       "      <td>4 to 6</td>\n",
       "      <td>blocker_convex_hull</td>\n",
       "      <td>after_snap</td>\n",
       "      <td>5.247462</td>\n",
       "      <td>2</td>\n",
       "    </tr>\n",
       "    <tr>\n",
       "      <th>5</th>\n",
       "      <td>2</td>\n",
       "      <td>4 to 6</td>\n",
       "      <td>blocker_convex_hull</td>\n",
       "      <td>before_pass</td>\n",
       "      <td>8.252787</td>\n",
       "      <td>2</td>\n",
       "    </tr>\n",
       "    <tr>\n",
       "      <th>6</th>\n",
       "      <td>2</td>\n",
       "      <td>4 to 6</td>\n",
       "      <td>passer_radius</td>\n",
       "      <td>after_snap</td>\n",
       "      <td>19.279876</td>\n",
       "      <td>2</td>\n",
       "    </tr>\n",
       "    <tr>\n",
       "      <th>7</th>\n",
       "      <td>2</td>\n",
       "      <td>4 to 6</td>\n",
       "      <td>passer_radius</td>\n",
       "      <td>before_pass</td>\n",
       "      <td>-7.585454</td>\n",
       "      <td>2</td>\n",
       "    </tr>\n",
       "    <tr>\n",
       "      <th>8</th>\n",
       "      <td>3</td>\n",
       "      <td>1 to 3</td>\n",
       "      <td>blocker_convex_hull</td>\n",
       "      <td>after_snap</td>\n",
       "      <td>1.270125</td>\n",
       "      <td>1</td>\n",
       "    </tr>\n",
       "    <tr>\n",
       "      <th>9</th>\n",
       "      <td>3</td>\n",
       "      <td>1 to 3</td>\n",
       "      <td>blocker_convex_hull</td>\n",
       "      <td>before_pass</td>\n",
       "      <td>-0.208200</td>\n",
       "      <td>1</td>\n",
       "    </tr>\n",
       "    <tr>\n",
       "      <th>10</th>\n",
       "      <td>3</td>\n",
       "      <td>1 to 3</td>\n",
       "      <td>passer_radius</td>\n",
       "      <td>after_snap</td>\n",
       "      <td>-24.834290</td>\n",
       "      <td>1</td>\n",
       "    </tr>\n",
       "    <tr>\n",
       "      <th>11</th>\n",
       "      <td>3</td>\n",
       "      <td>1 to 3</td>\n",
       "      <td>passer_radius</td>\n",
       "      <td>before_pass</td>\n",
       "      <td>-28.882232</td>\n",
       "      <td>1</td>\n",
       "    </tr>\n",
       "    <tr>\n",
       "      <th>12</th>\n",
       "      <td>3</td>\n",
       "      <td>4 to 6</td>\n",
       "      <td>blocker_convex_hull</td>\n",
       "      <td>after_snap</td>\n",
       "      <td>1.492000</td>\n",
       "      <td>2</td>\n",
       "    </tr>\n",
       "    <tr>\n",
       "      <th>13</th>\n",
       "      <td>3</td>\n",
       "      <td>4 to 6</td>\n",
       "      <td>blocker_convex_hull</td>\n",
       "      <td>before_pass</td>\n",
       "      <td>4.104513</td>\n",
       "      <td>2</td>\n",
       "    </tr>\n",
       "    <tr>\n",
       "      <th>14</th>\n",
       "      <td>3</td>\n",
       "      <td>4 to 6</td>\n",
       "      <td>passer_radius</td>\n",
       "      <td>after_snap</td>\n",
       "      <td>-34.320015</td>\n",
       "      <td>2</td>\n",
       "    </tr>\n",
       "    <tr>\n",
       "      <th>15</th>\n",
       "      <td>3</td>\n",
       "      <td>4 to 6</td>\n",
       "      <td>passer_radius</td>\n",
       "      <td>before_pass</td>\n",
       "      <td>-39.744132</td>\n",
       "      <td>2</td>\n",
       "    </tr>\n",
       "  </tbody>\n",
       "</table>\n",
       "</div>"
      ],
      "text/plain": [
       "    down Distance               method  window_type  \\\n",
       "0      1      10+  blocker_convex_hull   after_snap   \n",
       "1      1      10+  blocker_convex_hull  before_pass   \n",
       "2      1      10+        passer_radius   after_snap   \n",
       "3      1      10+        passer_radius  before_pass   \n",
       "4      2   4 to 6  blocker_convex_hull   after_snap   \n",
       "5      2   4 to 6  blocker_convex_hull  before_pass   \n",
       "6      2   4 to 6        passer_radius   after_snap   \n",
       "7      2   4 to 6        passer_radius  before_pass   \n",
       "8      3   1 to 3  blocker_convex_hull   after_snap   \n",
       "9      3   1 to 3  blocker_convex_hull  before_pass   \n",
       "10     3   1 to 3        passer_radius   after_snap   \n",
       "11     3   1 to 3        passer_radius  before_pass   \n",
       "12     3   4 to 6  blocker_convex_hull   after_snap   \n",
       "13     3   4 to 6  blocker_convex_hull  before_pass   \n",
       "14     3   4 to 6        passer_radius   after_snap   \n",
       "15     3   4 to 6        passer_radius  before_pass   \n",
       "\n",
       "    average_pocket_area_loss_per_second  play_count  \n",
       "0                              3.095633           3  \n",
       "1                              3.125883           3  \n",
       "2                             -5.277823           3  \n",
       "3                            -18.873170           3  \n",
       "4                              5.247462           2  \n",
       "5                              8.252787           2  \n",
       "6                             19.279876           2  \n",
       "7                             -7.585454           2  \n",
       "8                              1.270125           1  \n",
       "9                             -0.208200           1  \n",
       "10                           -24.834290           1  \n",
       "11                           -28.882232           1  \n",
       "12                             1.492000           2  \n",
       "13                             4.104513           2  \n",
       "14                           -34.320015           2  \n",
       "15                           -39.744132           2  "
      ]
     },
     "execution_count": 82,
     "metadata": {},
     "output_type": "execute_result"
    }
   ],
   "source": [
    "calculate_down_and_distance_pocket_loss_average(df_play_metrics)"
   ]
  },
  {
   "cell_type": "code",
   "execution_count": 59,
   "id": "416f90a2",
   "metadata": {},
   "outputs": [
    {
     "data": {
      "text/html": [
       "<div>\n",
       "<style scoped>\n",
       "    .dataframe tbody tr th:only-of-type {\n",
       "        vertical-align: middle;\n",
       "    }\n",
       "\n",
       "    .dataframe tbody tr th {\n",
       "        vertical-align: top;\n",
       "    }\n",
       "\n",
       "    .dataframe thead th {\n",
       "        text-align: right;\n",
       "    }\n",
       "</style>\n",
       "<table border=\"1\" class=\"dataframe\">\n",
       "  <thead>\n",
       "    <tr style=\"text-align: right;\">\n",
       "      <th></th>\n",
       "      <th>gameId</th>\n",
       "      <th>playId</th>\n",
       "      <th>method</th>\n",
       "      <th>window_type</th>\n",
       "      <th>event_x</th>\n",
       "      <th>frame_start_x</th>\n",
       "      <th>frame_end_x</th>\n",
       "      <th>passer_out_of_pocket_x</th>\n",
       "      <th>eligible_for_pocket_x</th>\n",
       "      <th>pass_frame_x</th>\n",
       "      <th>...</th>\n",
       "      <th>pass_frame_y</th>\n",
       "      <th>frames_elapsed_y</th>\n",
       "      <th>window_size_y</th>\n",
       "      <th>total_frames_y</th>\n",
       "      <th>frame_before_pass_y</th>\n",
       "      <th>pocket_y</th>\n",
       "      <th>area_end</th>\n",
       "      <th>time_start</th>\n",
       "      <th>time_end</th>\n",
       "      <th>average_pocket_area_loss_per_second</th>\n",
       "    </tr>\n",
       "  </thead>\n",
       "  <tbody>\n",
       "    <tr>\n",
       "      <th>0</th>\n",
       "      <td>2021090900</td>\n",
       "      <td>97</td>\n",
       "      <td>blocker_convex_hull</td>\n",
       "      <td>after_snap</td>\n",
       "      <td>ball_snap</td>\n",
       "      <td>6</td>\n",
       "      <td>38</td>\n",
       "      <td>False</td>\n",
       "      <td>True</td>\n",
       "      <td>38</td>\n",
       "      <td>...</td>\n",
       "      <td>38</td>\n",
       "      <td>20</td>\n",
       "      <td>20</td>\n",
       "      <td>32</td>\n",
       "      <td>18</td>\n",
       "      <td>{'area': 15.423249999999982, 'metadata': {'ver...</td>\n",
       "      <td>15.423250</td>\n",
       "      <td>0.6</td>\n",
       "      <td>2.6</td>\n",
       "      <td>1.270125</td>\n",
       "    </tr>\n",
       "    <tr>\n",
       "      <th>1</th>\n",
       "      <td>2021090900</td>\n",
       "      <td>97</td>\n",
       "      <td>blocker_convex_hull</td>\n",
       "      <td>before_pass</td>\n",
       "      <td>NaN</td>\n",
       "      <td>6</td>\n",
       "      <td>38</td>\n",
       "      <td>False</td>\n",
       "      <td>True</td>\n",
       "      <td>38</td>\n",
       "      <td>...</td>\n",
       "      <td>38</td>\n",
       "      <td>32</td>\n",
       "      <td>20</td>\n",
       "      <td>32</td>\n",
       "      <td>18</td>\n",
       "      <td>{'area': 17.14429999999998, 'metadata': {'vert...</td>\n",
       "      <td>17.144300</td>\n",
       "      <td>1.8</td>\n",
       "      <td>3.8</td>\n",
       "      <td>-0.208200</td>\n",
       "    </tr>\n",
       "    <tr>\n",
       "      <th>2</th>\n",
       "      <td>2021090900</td>\n",
       "      <td>97</td>\n",
       "      <td>passer_radius</td>\n",
       "      <td>after_snap</td>\n",
       "      <td>ball_snap</td>\n",
       "      <td>6</td>\n",
       "      <td>38</td>\n",
       "      <td>False</td>\n",
       "      <td>True</td>\n",
       "      <td>38</td>\n",
       "      <td>...</td>\n",
       "      <td>38</td>\n",
       "      <td>20</td>\n",
       "      <td>20</td>\n",
       "      <td>32</td>\n",
       "      <td>18</td>\n",
       "      <td>{'area': 55.41926520565073, 'metadata': {'vert...</td>\n",
       "      <td>55.419265</td>\n",
       "      <td>0.6</td>\n",
       "      <td>2.6</td>\n",
       "      <td>-24.834290</td>\n",
       "    </tr>\n",
       "    <tr>\n",
       "      <th>3</th>\n",
       "      <td>2021090900</td>\n",
       "      <td>97</td>\n",
       "      <td>passer_radius</td>\n",
       "      <td>before_pass</td>\n",
       "      <td>NaN</td>\n",
       "      <td>6</td>\n",
       "      <td>38</td>\n",
       "      <td>False</td>\n",
       "      <td>True</td>\n",
       "      <td>38</td>\n",
       "      <td>...</td>\n",
       "      <td>38</td>\n",
       "      <td>32</td>\n",
       "      <td>20</td>\n",
       "      <td>32</td>\n",
       "      <td>18</td>\n",
       "      <td>{'area': 16.744688843633554, 'metadata': {'ver...</td>\n",
       "      <td>16.744689</td>\n",
       "      <td>1.8</td>\n",
       "      <td>3.8</td>\n",
       "      <td>-28.882232</td>\n",
       "    </tr>\n",
       "    <tr>\n",
       "      <th>4</th>\n",
       "      <td>2021090900</td>\n",
       "      <td>137</td>\n",
       "      <td>blocker_convex_hull</td>\n",
       "      <td>after_snap</td>\n",
       "      <td>ball_snap</td>\n",
       "      <td>6</td>\n",
       "      <td>32</td>\n",
       "      <td>False</td>\n",
       "      <td>True</td>\n",
       "      <td>32</td>\n",
       "      <td>...</td>\n",
       "      <td>32</td>\n",
       "      <td>20</td>\n",
       "      <td>20</td>\n",
       "      <td>26</td>\n",
       "      <td>12</td>\n",
       "      <td>{'area': 14.403799999999983, 'metadata': {'ver...</td>\n",
       "      <td>14.403800</td>\n",
       "      <td>0.6</td>\n",
       "      <td>2.6</td>\n",
       "      <td>0.338525</td>\n",
       "    </tr>\n",
       "    <tr>\n",
       "      <th>5</th>\n",
       "      <td>2021090900</td>\n",
       "      <td>137</td>\n",
       "      <td>blocker_convex_hull</td>\n",
       "      <td>before_pass</td>\n",
       "      <td>NaN</td>\n",
       "      <td>6</td>\n",
       "      <td>32</td>\n",
       "      <td>False</td>\n",
       "      <td>True</td>\n",
       "      <td>32</td>\n",
       "      <td>...</td>\n",
       "      <td>32</td>\n",
       "      <td>26</td>\n",
       "      <td>20</td>\n",
       "      <td>26</td>\n",
       "      <td>12</td>\n",
       "      <td>{'area': 13.214700000000018, 'metadata': {'ver...</td>\n",
       "      <td>13.214700</td>\n",
       "      <td>1.2</td>\n",
       "      <td>3.2</td>\n",
       "      <td>0.363450</td>\n",
       "    </tr>\n",
       "    <tr>\n",
       "      <th>6</th>\n",
       "      <td>2021090900</td>\n",
       "      <td>137</td>\n",
       "      <td>passer_radius</td>\n",
       "      <td>after_snap</td>\n",
       "      <td>ball_snap</td>\n",
       "      <td>6</td>\n",
       "      <td>32</td>\n",
       "      <td>False</td>\n",
       "      <td>True</td>\n",
       "      <td>32</td>\n",
       "      <td>...</td>\n",
       "      <td>32</td>\n",
       "      <td>20</td>\n",
       "      <td>20</td>\n",
       "      <td>26</td>\n",
       "      <td>12</td>\n",
       "      <td>{'area': 43.67096531828616, 'metadata': {'vert...</td>\n",
       "      <td>43.670965</td>\n",
       "      <td>0.6</td>\n",
       "      <td>2.6</td>\n",
       "      <td>-14.991837</td>\n",
       "    </tr>\n",
       "    <tr>\n",
       "      <th>7</th>\n",
       "      <td>2021090900</td>\n",
       "      <td>137</td>\n",
       "      <td>passer_radius</td>\n",
       "      <td>before_pass</td>\n",
       "      <td>NaN</td>\n",
       "      <td>6</td>\n",
       "      <td>32</td>\n",
       "      <td>False</td>\n",
       "      <td>True</td>\n",
       "      <td>32</td>\n",
       "      <td>...</td>\n",
       "      <td>32</td>\n",
       "      <td>26</td>\n",
       "      <td>20</td>\n",
       "      <td>26</td>\n",
       "      <td>12</td>\n",
       "      <td>{'area': 18.612365676192837, 'metadata': {'ver...</td>\n",
       "      <td>18.612366</td>\n",
       "      <td>1.2</td>\n",
       "      <td>3.2</td>\n",
       "      <td>-31.299688</td>\n",
       "    </tr>\n",
       "    <tr>\n",
       "      <th>8</th>\n",
       "      <td>2021090900</td>\n",
       "      <td>187</td>\n",
       "      <td>blocker_convex_hull</td>\n",
       "      <td>after_snap</td>\n",
       "      <td>ball_snap</td>\n",
       "      <td>6</td>\n",
       "      <td>26</td>\n",
       "      <td>False</td>\n",
       "      <td>True</td>\n",
       "      <td>26</td>\n",
       "      <td>...</td>\n",
       "      <td>26</td>\n",
       "      <td>20</td>\n",
       "      <td>20</td>\n",
       "      <td>20</td>\n",
       "      <td>6</td>\n",
       "      <td>{'area': 10.422899999999954, 'metadata': {'ver...</td>\n",
       "      <td>10.422900</td>\n",
       "      <td>0.6</td>\n",
       "      <td>2.6</td>\n",
       "      <td>-0.278700</td>\n",
       "    </tr>\n",
       "    <tr>\n",
       "      <th>9</th>\n",
       "      <td>2021090900</td>\n",
       "      <td>187</td>\n",
       "      <td>blocker_convex_hull</td>\n",
       "      <td>before_pass</td>\n",
       "      <td>ball_snap</td>\n",
       "      <td>6</td>\n",
       "      <td>26</td>\n",
       "      <td>False</td>\n",
       "      <td>True</td>\n",
       "      <td>26</td>\n",
       "      <td>...</td>\n",
       "      <td>26</td>\n",
       "      <td>20</td>\n",
       "      <td>20</td>\n",
       "      <td>20</td>\n",
       "      <td>6</td>\n",
       "      <td>{'area': 10.422899999999954, 'metadata': {'ver...</td>\n",
       "      <td>10.422900</td>\n",
       "      <td>0.6</td>\n",
       "      <td>2.6</td>\n",
       "      <td>-0.278700</td>\n",
       "    </tr>\n",
       "    <tr>\n",
       "      <th>10</th>\n",
       "      <td>2021090900</td>\n",
       "      <td>187</td>\n",
       "      <td>passer_radius</td>\n",
       "      <td>after_snap</td>\n",
       "      <td>ball_snap</td>\n",
       "      <td>6</td>\n",
       "      <td>26</td>\n",
       "      <td>False</td>\n",
       "      <td>True</td>\n",
       "      <td>26</td>\n",
       "      <td>...</td>\n",
       "      <td>26</td>\n",
       "      <td>20</td>\n",
       "      <td>20</td>\n",
       "      <td>20</td>\n",
       "      <td>6</td>\n",
       "      <td>{'area': 66.42740586382934, 'metadata': {'vert...</td>\n",
       "      <td>66.427406</td>\n",
       "      <td>0.6</td>\n",
       "      <td>2.6</td>\n",
       "      <td>-22.442281</td>\n",
       "    </tr>\n",
       "    <tr>\n",
       "      <th>11</th>\n",
       "      <td>2021090900</td>\n",
       "      <td>187</td>\n",
       "      <td>passer_radius</td>\n",
       "      <td>before_pass</td>\n",
       "      <td>ball_snap</td>\n",
       "      <td>6</td>\n",
       "      <td>26</td>\n",
       "      <td>False</td>\n",
       "      <td>True</td>\n",
       "      <td>26</td>\n",
       "      <td>...</td>\n",
       "      <td>26</td>\n",
       "      <td>20</td>\n",
       "      <td>20</td>\n",
       "      <td>20</td>\n",
       "      <td>6</td>\n",
       "      <td>{'area': 66.42740586382934, 'metadata': {'vert...</td>\n",
       "      <td>66.427406</td>\n",
       "      <td>0.6</td>\n",
       "      <td>2.6</td>\n",
       "      <td>-22.442281</td>\n",
       "    </tr>\n",
       "    <tr>\n",
       "      <th>12</th>\n",
       "      <td>2021091200</td>\n",
       "      <td>56</td>\n",
       "      <td>blocker_convex_hull</td>\n",
       "      <td>after_snap</td>\n",
       "      <td>ball_snap</td>\n",
       "      <td>6</td>\n",
       "      <td>33</td>\n",
       "      <td>False</td>\n",
       "      <td>True</td>\n",
       "      <td>33</td>\n",
       "      <td>...</td>\n",
       "      <td>33</td>\n",
       "      <td>20</td>\n",
       "      <td>20</td>\n",
       "      <td>27</td>\n",
       "      <td>13</td>\n",
       "      <td>{'area': 21.42270000000001, 'metadata': {'vert...</td>\n",
       "      <td>21.422700</td>\n",
       "      <td>0.6</td>\n",
       "      <td>2.6</td>\n",
       "      <td>7.373700</td>\n",
       "    </tr>\n",
       "    <tr>\n",
       "      <th>13</th>\n",
       "      <td>2021091200</td>\n",
       "      <td>56</td>\n",
       "      <td>blocker_convex_hull</td>\n",
       "      <td>before_pass</td>\n",
       "      <td>NaN</td>\n",
       "      <td>6</td>\n",
       "      <td>33</td>\n",
       "      <td>False</td>\n",
       "      <td>True</td>\n",
       "      <td>33</td>\n",
       "      <td>...</td>\n",
       "      <td>33</td>\n",
       "      <td>27</td>\n",
       "      <td>20</td>\n",
       "      <td>27</td>\n",
       "      <td>13</td>\n",
       "      <td>{'area': 22.972350000000006, 'metadata': {'ver...</td>\n",
       "      <td>22.972350</td>\n",
       "      <td>1.3</td>\n",
       "      <td>3.3</td>\n",
       "      <td>8.236375</td>\n",
       "    </tr>\n",
       "    <tr>\n",
       "      <th>14</th>\n",
       "      <td>2021091200</td>\n",
       "      <td>56</td>\n",
       "      <td>passer_radius</td>\n",
       "      <td>after_snap</td>\n",
       "      <td>ball_snap</td>\n",
       "      <td>6</td>\n",
       "      <td>33</td>\n",
       "      <td>False</td>\n",
       "      <td>True</td>\n",
       "      <td>33</td>\n",
       "      <td>...</td>\n",
       "      <td>33</td>\n",
       "      <td>20</td>\n",
       "      <td>20</td>\n",
       "      <td>27</td>\n",
       "      <td>13</td>\n",
       "      <td>{'area': 75.35109979635115, 'metadata': {'vert...</td>\n",
       "      <td>75.351100</td>\n",
       "      <td>0.6</td>\n",
       "      <td>2.6</td>\n",
       "      <td>29.392741</td>\n",
       "    </tr>\n",
       "    <tr>\n",
       "      <th>15</th>\n",
       "      <td>2021091200</td>\n",
       "      <td>56</td>\n",
       "      <td>passer_radius</td>\n",
       "      <td>before_pass</td>\n",
       "      <td>NaN</td>\n",
       "      <td>6</td>\n",
       "      <td>33</td>\n",
       "      <td>False</td>\n",
       "      <td>True</td>\n",
       "      <td>33</td>\n",
       "      <td>...</td>\n",
       "      <td>33</td>\n",
       "      <td>27</td>\n",
       "      <td>20</td>\n",
       "      <td>27</td>\n",
       "      <td>13</td>\n",
       "      <td>{'area': 33.849404205368636, 'metadata': {'ver...</td>\n",
       "      <td>33.849404</td>\n",
       "      <td>1.3</td>\n",
       "      <td>3.3</td>\n",
       "      <td>8.751378</td>\n",
       "    </tr>\n",
       "    <tr>\n",
       "      <th>16</th>\n",
       "      <td>2021091200</td>\n",
       "      <td>122</td>\n",
       "      <td>blocker_convex_hull</td>\n",
       "      <td>after_snap</td>\n",
       "      <td>ball_snap</td>\n",
       "      <td>6</td>\n",
       "      <td>35</td>\n",
       "      <td>False</td>\n",
       "      <td>True</td>\n",
       "      <td>35</td>\n",
       "      <td>...</td>\n",
       "      <td>35</td>\n",
       "      <td>20</td>\n",
       "      <td>20</td>\n",
       "      <td>29</td>\n",
       "      <td>15</td>\n",
       "      <td>{'area': 25.395449999999983, 'metadata': {'ver...</td>\n",
       "      <td>25.395450</td>\n",
       "      <td>0.6</td>\n",
       "      <td>2.6</td>\n",
       "      <td>10.773625</td>\n",
       "    </tr>\n",
       "    <tr>\n",
       "      <th>17</th>\n",
       "      <td>2021091200</td>\n",
       "      <td>122</td>\n",
       "      <td>blocker_convex_hull</td>\n",
       "      <td>before_pass</td>\n",
       "      <td>NaN</td>\n",
       "      <td>6</td>\n",
       "      <td>35</td>\n",
       "      <td>False</td>\n",
       "      <td>True</td>\n",
       "      <td>35</td>\n",
       "      <td>...</td>\n",
       "      <td>35</td>\n",
       "      <td>29</td>\n",
       "      <td>20</td>\n",
       "      <td>29</td>\n",
       "      <td>15</td>\n",
       "      <td>{'area': 42.953249999999954, 'metadata': {'ver...</td>\n",
       "      <td>42.953250</td>\n",
       "      <td>1.5</td>\n",
       "      <td>3.5</td>\n",
       "      <td>16.784275</td>\n",
       "    </tr>\n",
       "    <tr>\n",
       "      <th>18</th>\n",
       "      <td>2021091200</td>\n",
       "      <td>122</td>\n",
       "      <td>passer_radius</td>\n",
       "      <td>after_snap</td>\n",
       "      <td>ball_snap</td>\n",
       "      <td>6</td>\n",
       "      <td>35</td>\n",
       "      <td>False</td>\n",
       "      <td>True</td>\n",
       "      <td>35</td>\n",
       "      <td>...</td>\n",
       "      <td>35</td>\n",
       "      <td>20</td>\n",
       "      <td>20</td>\n",
       "      <td>29</td>\n",
       "      <td>15</td>\n",
       "      <td>{'area': 142.04145696528582, 'metadata': {'ver...</td>\n",
       "      <td>142.041457</td>\n",
       "      <td>0.6</td>\n",
       "      <td>2.6</td>\n",
       "      <td>61.002032</td>\n",
       "    </tr>\n",
       "    <tr>\n",
       "      <th>19</th>\n",
       "      <td>2021091200</td>\n",
       "      <td>122</td>\n",
       "      <td>passer_radius</td>\n",
       "      <td>before_pass</td>\n",
       "      <td>NaN</td>\n",
       "      <td>6</td>\n",
       "      <td>35</td>\n",
       "      <td>False</td>\n",
       "      <td>True</td>\n",
       "      <td>35</td>\n",
       "      <td>...</td>\n",
       "      <td>35</td>\n",
       "      <td>29</td>\n",
       "      <td>20</td>\n",
       "      <td>29</td>\n",
       "      <td>15</td>\n",
       "      <td>{'area': 57.31930044254183, 'metadata': {'vert...</td>\n",
       "      <td>57.319300</td>\n",
       "      <td>1.5</td>\n",
       "      <td>3.5</td>\n",
       "      <td>7.271373</td>\n",
       "    </tr>\n",
       "    <tr>\n",
       "      <th>20</th>\n",
       "      <td>2021091201</td>\n",
       "      <td>63</td>\n",
       "      <td>blocker_convex_hull</td>\n",
       "      <td>after_snap</td>\n",
       "      <td>ball_snap</td>\n",
       "      <td>6</td>\n",
       "      <td>27</td>\n",
       "      <td>False</td>\n",
       "      <td>True</td>\n",
       "      <td>27</td>\n",
       "      <td>...</td>\n",
       "      <td>27</td>\n",
       "      <td>20</td>\n",
       "      <td>20</td>\n",
       "      <td>21</td>\n",
       "      <td>7</td>\n",
       "      <td>{'area': 18.610300000000016, 'metadata': {'ver...</td>\n",
       "      <td>18.610300</td>\n",
       "      <td>0.6</td>\n",
       "      <td>2.6</td>\n",
       "      <td>1.574675</td>\n",
       "    </tr>\n",
       "    <tr>\n",
       "      <th>21</th>\n",
       "      <td>2021091201</td>\n",
       "      <td>63</td>\n",
       "      <td>blocker_convex_hull</td>\n",
       "      <td>before_pass</td>\n",
       "      <td>NaN</td>\n",
       "      <td>6</td>\n",
       "      <td>27</td>\n",
       "      <td>False</td>\n",
       "      <td>True</td>\n",
       "      <td>27</td>\n",
       "      <td>...</td>\n",
       "      <td>27</td>\n",
       "      <td>21</td>\n",
       "      <td>20</td>\n",
       "      <td>21</td>\n",
       "      <td>7</td>\n",
       "      <td>{'area': 17.290349999999975, 'metadata': {'ver...</td>\n",
       "      <td>17.290350</td>\n",
       "      <td>0.7</td>\n",
       "      <td>2.7</td>\n",
       "      <td>0.777825</td>\n",
       "    </tr>\n",
       "    <tr>\n",
       "      <th>22</th>\n",
       "      <td>2021091201</td>\n",
       "      <td>63</td>\n",
       "      <td>passer_radius</td>\n",
       "      <td>after_snap</td>\n",
       "      <td>ball_snap</td>\n",
       "      <td>6</td>\n",
       "      <td>27</td>\n",
       "      <td>False</td>\n",
       "      <td>True</td>\n",
       "      <td>27</td>\n",
       "      <td>...</td>\n",
       "      <td>27</td>\n",
       "      <td>20</td>\n",
       "      <td>20</td>\n",
       "      <td>21</td>\n",
       "      <td>7</td>\n",
       "      <td>{'area': 51.377606256807454, 'metadata': {'ver...</td>\n",
       "      <td>51.377606</td>\n",
       "      <td>0.6</td>\n",
       "      <td>2.6</td>\n",
       "      <td>-30.234374</td>\n",
       "    </tr>\n",
       "    <tr>\n",
       "      <th>23</th>\n",
       "      <td>2021091201</td>\n",
       "      <td>63</td>\n",
       "      <td>passer_radius</td>\n",
       "      <td>before_pass</td>\n",
       "      <td>NaN</td>\n",
       "      <td>6</td>\n",
       "      <td>27</td>\n",
       "      <td>False</td>\n",
       "      <td>True</td>\n",
       "      <td>27</td>\n",
       "      <td>...</td>\n",
       "      <td>27</td>\n",
       "      <td>21</td>\n",
       "      <td>20</td>\n",
       "      <td>21</td>\n",
       "      <td>7</td>\n",
       "      <td>{'area': 43.70395204114903, 'metadata': {'vert...</td>\n",
       "      <td>43.703952</td>\n",
       "      <td>0.7</td>\n",
       "      <td>2.7</td>\n",
       "      <td>-34.071201</td>\n",
       "    </tr>\n",
       "    <tr>\n",
       "      <th>24</th>\n",
       "      <td>2021091201</td>\n",
       "      <td>111</td>\n",
       "      <td>blocker_convex_hull</td>\n",
       "      <td>after_snap</td>\n",
       "      <td>ball_snap</td>\n",
       "      <td>6</td>\n",
       "      <td>38</td>\n",
       "      <td>False</td>\n",
       "      <td>True</td>\n",
       "      <td>38</td>\n",
       "      <td>...</td>\n",
       "      <td>38</td>\n",
       "      <td>20</td>\n",
       "      <td>20</td>\n",
       "      <td>32</td>\n",
       "      <td>18</td>\n",
       "      <td>{'area': 17.035599999999974, 'metadata': {'ver...</td>\n",
       "      <td>17.035600</td>\n",
       "      <td>0.6</td>\n",
       "      <td>2.6</td>\n",
       "      <td>1.440650</td>\n",
       "    </tr>\n",
       "    <tr>\n",
       "      <th>25</th>\n",
       "      <td>2021091201</td>\n",
       "      <td>111</td>\n",
       "      <td>blocker_convex_hull</td>\n",
       "      <td>before_pass</td>\n",
       "      <td>NaN</td>\n",
       "      <td>6</td>\n",
       "      <td>38</td>\n",
       "      <td>False</td>\n",
       "      <td>True</td>\n",
       "      <td>38</td>\n",
       "      <td>...</td>\n",
       "      <td>38</td>\n",
       "      <td>32</td>\n",
       "      <td>20</td>\n",
       "      <td>32</td>\n",
       "      <td>18</td>\n",
       "      <td>{'area': 33.678000000000054, 'metadata': {'ver...</td>\n",
       "      <td>33.678000</td>\n",
       "      <td>1.8</td>\n",
       "      <td>3.8</td>\n",
       "      <td>7.171275</td>\n",
       "    </tr>\n",
       "    <tr>\n",
       "      <th>26</th>\n",
       "      <td>2021091201</td>\n",
       "      <td>111</td>\n",
       "      <td>passer_radius</td>\n",
       "      <td>after_snap</td>\n",
       "      <td>ball_snap</td>\n",
       "      <td>6</td>\n",
       "      <td>38</td>\n",
       "      <td>False</td>\n",
       "      <td>True</td>\n",
       "      <td>38</td>\n",
       "      <td>...</td>\n",
       "      <td>38</td>\n",
       "      <td>20</td>\n",
       "      <td>20</td>\n",
       "      <td>32</td>\n",
       "      <td>18</td>\n",
       "      <td>{'area': 46.10381466922591, 'metadata': {'vert...</td>\n",
       "      <td>46.103815</td>\n",
       "      <td>0.6</td>\n",
       "      <td>2.6</td>\n",
       "      <td>-24.993097</td>\n",
       "    </tr>\n",
       "    <tr>\n",
       "      <th>27</th>\n",
       "      <td>2021091201</td>\n",
       "      <td>111</td>\n",
       "      <td>passer_radius</td>\n",
       "      <td>before_pass</td>\n",
       "      <td>NaN</td>\n",
       "      <td>6</td>\n",
       "      <td>38</td>\n",
       "      <td>False</td>\n",
       "      <td>True</td>\n",
       "      <td>38</td>\n",
       "      <td>...</td>\n",
       "      <td>38</td>\n",
       "      <td>32</td>\n",
       "      <td>20</td>\n",
       "      <td>32</td>\n",
       "      <td>18</td>\n",
       "      <td>{'area': 12.416830804048367, 'metadata': {'ver...</td>\n",
       "      <td>12.416831</td>\n",
       "      <td>1.8</td>\n",
       "      <td>3.8</td>\n",
       "      <td>-32.378196</td>\n",
       "    </tr>\n",
       "    <tr>\n",
       "      <th>28</th>\n",
       "      <td>2021091201</td>\n",
       "      <td>262</td>\n",
       "      <td>blocker_convex_hull</td>\n",
       "      <td>after_snap</td>\n",
       "      <td>ball_snap</td>\n",
       "      <td>6</td>\n",
       "      <td>28</td>\n",
       "      <td>False</td>\n",
       "      <td>True</td>\n",
       "      <td>28</td>\n",
       "      <td>...</td>\n",
       "      <td>28</td>\n",
       "      <td>20</td>\n",
       "      <td>20</td>\n",
       "      <td>22</td>\n",
       "      <td>8</td>\n",
       "      <td>{'area': 19.667449999999967, 'metadata': {'ver...</td>\n",
       "      <td>19.667450</td>\n",
       "      <td>0.6</td>\n",
       "      <td>2.6</td>\n",
       "      <td>1.543350</td>\n",
       "    </tr>\n",
       "    <tr>\n",
       "      <th>29</th>\n",
       "      <td>2021091201</td>\n",
       "      <td>262</td>\n",
       "      <td>blocker_convex_hull</td>\n",
       "      <td>before_pass</td>\n",
       "      <td>NaN</td>\n",
       "      <td>6</td>\n",
       "      <td>28</td>\n",
       "      <td>False</td>\n",
       "      <td>True</td>\n",
       "      <td>28</td>\n",
       "      <td>...</td>\n",
       "      <td>28</td>\n",
       "      <td>22</td>\n",
       "      <td>20</td>\n",
       "      <td>22</td>\n",
       "      <td>8</td>\n",
       "      <td>{'area': 18.101849999999978, 'metadata': {'ver...</td>\n",
       "      <td>18.101850</td>\n",
       "      <td>0.8</td>\n",
       "      <td>2.8</td>\n",
       "      <td>1.037750</td>\n",
       "    </tr>\n",
       "    <tr>\n",
       "      <th>30</th>\n",
       "      <td>2021091201</td>\n",
       "      <td>262</td>\n",
       "      <td>passer_radius</td>\n",
       "      <td>after_snap</td>\n",
       "      <td>ball_snap</td>\n",
       "      <td>6</td>\n",
       "      <td>28</td>\n",
       "      <td>False</td>\n",
       "      <td>True</td>\n",
       "      <td>28</td>\n",
       "      <td>...</td>\n",
       "      <td>28</td>\n",
       "      <td>20</td>\n",
       "      <td>20</td>\n",
       "      <td>22</td>\n",
       "      <td>8</td>\n",
       "      <td>{'area': 26.87821010705278, 'metadata': {'vert...</td>\n",
       "      <td>26.878210</td>\n",
       "      <td>0.6</td>\n",
       "      <td>2.6</td>\n",
       "      <td>-43.646932</td>\n",
       "    </tr>\n",
       "    <tr>\n",
       "      <th>31</th>\n",
       "      <td>2021091201</td>\n",
       "      <td>262</td>\n",
       "      <td>passer_radius</td>\n",
       "      <td>before_pass</td>\n",
       "      <td>NaN</td>\n",
       "      <td>6</td>\n",
       "      <td>28</td>\n",
       "      <td>False</td>\n",
       "      <td>True</td>\n",
       "      <td>28</td>\n",
       "      <td>...</td>\n",
       "      <td>28</td>\n",
       "      <td>22</td>\n",
       "      <td>20</td>\n",
       "      <td>22</td>\n",
       "      <td>8</td>\n",
       "      <td>{'area': 18.950086886453622, 'metadata': {'ver...</td>\n",
       "      <td>18.950087</td>\n",
       "      <td>0.8</td>\n",
       "      <td>2.8</td>\n",
       "      <td>-47.110067</td>\n",
       "    </tr>\n",
       "  </tbody>\n",
       "</table>\n",
       "<p>32 rows × 31 columns</p>\n",
       "</div>"
      ],
      "text/plain": [
       "        gameId  playId               method  window_type    event_x  \\\n",
       "0   2021090900      97  blocker_convex_hull   after_snap  ball_snap   \n",
       "1   2021090900      97  blocker_convex_hull  before_pass        NaN   \n",
       "2   2021090900      97        passer_radius   after_snap  ball_snap   \n",
       "3   2021090900      97        passer_radius  before_pass        NaN   \n",
       "4   2021090900     137  blocker_convex_hull   after_snap  ball_snap   \n",
       "5   2021090900     137  blocker_convex_hull  before_pass        NaN   \n",
       "6   2021090900     137        passer_radius   after_snap  ball_snap   \n",
       "7   2021090900     137        passer_radius  before_pass        NaN   \n",
       "8   2021090900     187  blocker_convex_hull   after_snap  ball_snap   \n",
       "9   2021090900     187  blocker_convex_hull  before_pass  ball_snap   \n",
       "10  2021090900     187        passer_radius   after_snap  ball_snap   \n",
       "11  2021090900     187        passer_radius  before_pass  ball_snap   \n",
       "12  2021091200      56  blocker_convex_hull   after_snap  ball_snap   \n",
       "13  2021091200      56  blocker_convex_hull  before_pass        NaN   \n",
       "14  2021091200      56        passer_radius   after_snap  ball_snap   \n",
       "15  2021091200      56        passer_radius  before_pass        NaN   \n",
       "16  2021091200     122  blocker_convex_hull   after_snap  ball_snap   \n",
       "17  2021091200     122  blocker_convex_hull  before_pass        NaN   \n",
       "18  2021091200     122        passer_radius   after_snap  ball_snap   \n",
       "19  2021091200     122        passer_radius  before_pass        NaN   \n",
       "20  2021091201      63  blocker_convex_hull   after_snap  ball_snap   \n",
       "21  2021091201      63  blocker_convex_hull  before_pass        NaN   \n",
       "22  2021091201      63        passer_radius   after_snap  ball_snap   \n",
       "23  2021091201      63        passer_radius  before_pass        NaN   \n",
       "24  2021091201     111  blocker_convex_hull   after_snap  ball_snap   \n",
       "25  2021091201     111  blocker_convex_hull  before_pass        NaN   \n",
       "26  2021091201     111        passer_radius   after_snap  ball_snap   \n",
       "27  2021091201     111        passer_radius  before_pass        NaN   \n",
       "28  2021091201     262  blocker_convex_hull   after_snap  ball_snap   \n",
       "29  2021091201     262  blocker_convex_hull  before_pass        NaN   \n",
       "30  2021091201     262        passer_radius   after_snap  ball_snap   \n",
       "31  2021091201     262        passer_radius  before_pass        NaN   \n",
       "\n",
       "    frame_start_x  frame_end_x  passer_out_of_pocket_x  eligible_for_pocket_x  \\\n",
       "0               6           38                   False                   True   \n",
       "1               6           38                   False                   True   \n",
       "2               6           38                   False                   True   \n",
       "3               6           38                   False                   True   \n",
       "4               6           32                   False                   True   \n",
       "5               6           32                   False                   True   \n",
       "6               6           32                   False                   True   \n",
       "7               6           32                   False                   True   \n",
       "8               6           26                   False                   True   \n",
       "9               6           26                   False                   True   \n",
       "10              6           26                   False                   True   \n",
       "11              6           26                   False                   True   \n",
       "12              6           33                   False                   True   \n",
       "13              6           33                   False                   True   \n",
       "14              6           33                   False                   True   \n",
       "15              6           33                   False                   True   \n",
       "16              6           35                   False                   True   \n",
       "17              6           35                   False                   True   \n",
       "18              6           35                   False                   True   \n",
       "19              6           35                   False                   True   \n",
       "20              6           27                   False                   True   \n",
       "21              6           27                   False                   True   \n",
       "22              6           27                   False                   True   \n",
       "23              6           27                   False                   True   \n",
       "24              6           38                   False                   True   \n",
       "25              6           38                   False                   True   \n",
       "26              6           38                   False                   True   \n",
       "27              6           38                   False                   True   \n",
       "28              6           28                   False                   True   \n",
       "29              6           28                   False                   True   \n",
       "30              6           28                   False                   True   \n",
       "31              6           28                   False                   True   \n",
       "\n",
       "    pass_frame_x  ...  pass_frame_y  frames_elapsed_y  window_size_y  \\\n",
       "0             38  ...            38                20             20   \n",
       "1             38  ...            38                32             20   \n",
       "2             38  ...            38                20             20   \n",
       "3             38  ...            38                32             20   \n",
       "4             32  ...            32                20             20   \n",
       "5             32  ...            32                26             20   \n",
       "6             32  ...            32                20             20   \n",
       "7             32  ...            32                26             20   \n",
       "8             26  ...            26                20             20   \n",
       "9             26  ...            26                20             20   \n",
       "10            26  ...            26                20             20   \n",
       "11            26  ...            26                20             20   \n",
       "12            33  ...            33                20             20   \n",
       "13            33  ...            33                27             20   \n",
       "14            33  ...            33                20             20   \n",
       "15            33  ...            33                27             20   \n",
       "16            35  ...            35                20             20   \n",
       "17            35  ...            35                29             20   \n",
       "18            35  ...            35                20             20   \n",
       "19            35  ...            35                29             20   \n",
       "20            27  ...            27                20             20   \n",
       "21            27  ...            27                21             20   \n",
       "22            27  ...            27                20             20   \n",
       "23            27  ...            27                21             20   \n",
       "24            38  ...            38                20             20   \n",
       "25            38  ...            38                32             20   \n",
       "26            38  ...            38                20             20   \n",
       "27            38  ...            38                32             20   \n",
       "28            28  ...            28                20             20   \n",
       "29            28  ...            28                22             20   \n",
       "30            28  ...            28                20             20   \n",
       "31            28  ...            28                22             20   \n",
       "\n",
       "    total_frames_y frame_before_pass_y  \\\n",
       "0               32                  18   \n",
       "1               32                  18   \n",
       "2               32                  18   \n",
       "3               32                  18   \n",
       "4               26                  12   \n",
       "5               26                  12   \n",
       "6               26                  12   \n",
       "7               26                  12   \n",
       "8               20                   6   \n",
       "9               20                   6   \n",
       "10              20                   6   \n",
       "11              20                   6   \n",
       "12              27                  13   \n",
       "13              27                  13   \n",
       "14              27                  13   \n",
       "15              27                  13   \n",
       "16              29                  15   \n",
       "17              29                  15   \n",
       "18              29                  15   \n",
       "19              29                  15   \n",
       "20              21                   7   \n",
       "21              21                   7   \n",
       "22              21                   7   \n",
       "23              21                   7   \n",
       "24              32                  18   \n",
       "25              32                  18   \n",
       "26              32                  18   \n",
       "27              32                  18   \n",
       "28              22                   8   \n",
       "29              22                   8   \n",
       "30              22                   8   \n",
       "31              22                   8   \n",
       "\n",
       "                                             pocket_y    area_end  time_start  \\\n",
       "0   {'area': 15.423249999999982, 'metadata': {'ver...   15.423250         0.6   \n",
       "1   {'area': 17.14429999999998, 'metadata': {'vert...   17.144300         1.8   \n",
       "2   {'area': 55.41926520565073, 'metadata': {'vert...   55.419265         0.6   \n",
       "3   {'area': 16.744688843633554, 'metadata': {'ver...   16.744689         1.8   \n",
       "4   {'area': 14.403799999999983, 'metadata': {'ver...   14.403800         0.6   \n",
       "5   {'area': 13.214700000000018, 'metadata': {'ver...   13.214700         1.2   \n",
       "6   {'area': 43.67096531828616, 'metadata': {'vert...   43.670965         0.6   \n",
       "7   {'area': 18.612365676192837, 'metadata': {'ver...   18.612366         1.2   \n",
       "8   {'area': 10.422899999999954, 'metadata': {'ver...   10.422900         0.6   \n",
       "9   {'area': 10.422899999999954, 'metadata': {'ver...   10.422900         0.6   \n",
       "10  {'area': 66.42740586382934, 'metadata': {'vert...   66.427406         0.6   \n",
       "11  {'area': 66.42740586382934, 'metadata': {'vert...   66.427406         0.6   \n",
       "12  {'area': 21.42270000000001, 'metadata': {'vert...   21.422700         0.6   \n",
       "13  {'area': 22.972350000000006, 'metadata': {'ver...   22.972350         1.3   \n",
       "14  {'area': 75.35109979635115, 'metadata': {'vert...   75.351100         0.6   \n",
       "15  {'area': 33.849404205368636, 'metadata': {'ver...   33.849404         1.3   \n",
       "16  {'area': 25.395449999999983, 'metadata': {'ver...   25.395450         0.6   \n",
       "17  {'area': 42.953249999999954, 'metadata': {'ver...   42.953250         1.5   \n",
       "18  {'area': 142.04145696528582, 'metadata': {'ver...  142.041457         0.6   \n",
       "19  {'area': 57.31930044254183, 'metadata': {'vert...   57.319300         1.5   \n",
       "20  {'area': 18.610300000000016, 'metadata': {'ver...   18.610300         0.6   \n",
       "21  {'area': 17.290349999999975, 'metadata': {'ver...   17.290350         0.7   \n",
       "22  {'area': 51.377606256807454, 'metadata': {'ver...   51.377606         0.6   \n",
       "23  {'area': 43.70395204114903, 'metadata': {'vert...   43.703952         0.7   \n",
       "24  {'area': 17.035599999999974, 'metadata': {'ver...   17.035600         0.6   \n",
       "25  {'area': 33.678000000000054, 'metadata': {'ver...   33.678000         1.8   \n",
       "26  {'area': 46.10381466922591, 'metadata': {'vert...   46.103815         0.6   \n",
       "27  {'area': 12.416830804048367, 'metadata': {'ver...   12.416831         1.8   \n",
       "28  {'area': 19.667449999999967, 'metadata': {'ver...   19.667450         0.6   \n",
       "29  {'area': 18.101849999999978, 'metadata': {'ver...   18.101850         0.8   \n",
       "30  {'area': 26.87821010705278, 'metadata': {'vert...   26.878210         0.6   \n",
       "31  {'area': 18.950086886453622, 'metadata': {'ver...   18.950087         0.8   \n",
       "\n",
       "    time_end  average_pocket_area_loss_per_second  \n",
       "0        2.6                             1.270125  \n",
       "1        3.8                            -0.208200  \n",
       "2        2.6                           -24.834290  \n",
       "3        3.8                           -28.882232  \n",
       "4        2.6                             0.338525  \n",
       "5        3.2                             0.363450  \n",
       "6        2.6                           -14.991837  \n",
       "7        3.2                           -31.299688  \n",
       "8        2.6                            -0.278700  \n",
       "9        2.6                            -0.278700  \n",
       "10       2.6                           -22.442281  \n",
       "11       2.6                           -22.442281  \n",
       "12       2.6                             7.373700  \n",
       "13       3.3                             8.236375  \n",
       "14       2.6                            29.392741  \n",
       "15       3.3                             8.751378  \n",
       "16       2.6                            10.773625  \n",
       "17       3.5                            16.784275  \n",
       "18       2.6                            61.002032  \n",
       "19       3.5                             7.271373  \n",
       "20       2.6                             1.574675  \n",
       "21       2.7                             0.777825  \n",
       "22       2.6                           -30.234374  \n",
       "23       2.7                           -34.071201  \n",
       "24       2.6                             1.440650  \n",
       "25       3.8                             7.171275  \n",
       "26       2.6                           -24.993097  \n",
       "27       3.8                           -32.378196  \n",
       "28       2.6                             1.543350  \n",
       "29       2.8                             1.037750  \n",
       "30       2.6                           -43.646932  \n",
       "31       2.8                           -47.110067  \n",
       "\n",
       "[32 rows x 31 columns]"
      ]
     },
     "execution_count": 59,
     "metadata": {},
     "output_type": "execute_result"
    }
   ],
   "source": [
    "df_play_metrics"
   ]
  },
  {
   "cell_type": "code",
   "execution_count": null,
   "id": "3b771f2c",
   "metadata": {},
   "outputs": [],
   "source": []
  }
 ],
 "metadata": {
  "kernelspec": {
   "display_name": "Python 3 (ipykernel)",
   "language": "python",
   "name": "python3"
  },
  "language_info": {
   "codemirror_mode": {
    "name": "ipython",
    "version": 3
   },
   "file_extension": ".py",
   "mimetype": "text/x-python",
   "name": "python",
   "nbconvert_exporter": "python",
   "pygments_lexer": "ipython3",
   "version": "3.8.13"
  }
 },
 "nbformat": 4,
 "nbformat_minor": 5
}
