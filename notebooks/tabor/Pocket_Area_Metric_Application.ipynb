{
 "cells": [
  {
   "cell_type": "code",
   "execution_count": 1,
   "id": "fd8050df",
   "metadata": {},
   "outputs": [],
   "source": [
    "%load_ext autoreload\n",
    "%autoreload 2"
   ]
  },
  {
   "cell_type": "code",
   "execution_count": 2,
   "id": "d0a8f369",
   "metadata": {},
   "outputs": [],
   "source": [
    "import sys\n",
    "DIR = \"/workspace/nflbigdatabowl2023\"\n",
    "sys.path.append(DIR)"
   ]
  },
  {
   "cell_type": "code",
   "execution_count": 3,
   "id": "be0ebdd6",
   "metadata": {},
   "outputs": [],
   "source": [
    "import math\n",
    "from ast import literal_eval\n",
    "\n",
    "import pandas as pd\n",
    "import numpy as np\n",
    "import matplotlib.pyplot as plt\n",
    "\n",
    "from src.pipeline.flows.main import main_flow\n",
    "from src.visualization.interactive_play_selector import create_interactive_play_selector"
   ]
  },
  {
   "cell_type": "code",
   "execution_count": 4,
   "id": "1c221785",
   "metadata": {},
   "outputs": [
    {
     "data": {
      "text/html": [
       "<pre style=\"white-space:pre;overflow-x:auto;line-height:normal;font-family:Menlo,'DejaVu Sans Mono',consolas,'Courier New',monospace\">01:00:09.227 | <span style=\"color: #008080; text-decoration-color: #008080\">INFO</span>    | prefect.engine - Created flow run<span style=\"color: #800080; text-decoration-color: #800080\"> 'bright-bullfrog'</span> for flow<span style=\"color: #800080; text-decoration-color: #800080; font-weight: bold\"> 'main-flow'</span>\n",
       "</pre>\n"
      ],
      "text/plain": [
       "01:00:09.227 | \u001b[36mINFO\u001b[0m    | prefect.engine - Created flow run\u001b[35m 'bright-bullfrog'\u001b[0m for flow\u001b[1;35m 'main-flow'\u001b[0m\n"
      ]
     },
     "metadata": {},
     "output_type": "display_data"
    },
    {
     "data": {
      "text/html": [
       "<pre style=\"white-space:pre;overflow-x:auto;line-height:normal;font-family:Menlo,'DejaVu Sans Mono',consolas,'Courier New',monospace\">01:00:09.409 | <span style=\"color: #008080; text-decoration-color: #008080\">INFO</span>    | Flow run<span style=\"color: #800080; text-decoration-color: #800080\"> 'bright-bullfrog'</span> - Created task run 'read_csv-3609c996-0' for task 'read_csv'\n",
       "</pre>\n"
      ],
      "text/plain": [
       "01:00:09.409 | \u001b[36mINFO\u001b[0m    | Flow run\u001b[35m 'bright-bullfrog'\u001b[0m - Created task run 'read_csv-3609c996-0' for task 'read_csv'\n"
      ]
     },
     "metadata": {},
     "output_type": "display_data"
    },
    {
     "data": {
      "text/html": [
       "<pre style=\"white-space:pre;overflow-x:auto;line-height:normal;font-family:Menlo,'DejaVu Sans Mono',consolas,'Courier New',monospace\">01:00:09.412 | <span style=\"color: #008080; text-decoration-color: #008080\">INFO</span>    | Flow run<span style=\"color: #800080; text-decoration-color: #800080\"> 'bright-bullfrog'</span> - Executing 'read_csv-3609c996-0' immediately...\n",
       "</pre>\n"
      ],
      "text/plain": [
       "01:00:09.412 | \u001b[36mINFO\u001b[0m    | Flow run\u001b[35m 'bright-bullfrog'\u001b[0m - Executing 'read_csv-3609c996-0' immediately...\n"
      ]
     },
     "metadata": {},
     "output_type": "display_data"
    },
    {
     "data": {
      "text/html": [
       "<pre style=\"white-space:pre;overflow-x:auto;line-height:normal;font-family:Menlo,'DejaVu Sans Mono',consolas,'Courier New',monospace\">01:00:09.681 | <span style=\"color: #008080; text-decoration-color: #008080\">INFO</span>    | Task run 'read_csv-3609c996-0' - Finished in state <span style=\"color: #008000; text-decoration-color: #008000\">Completed</span>()\n",
       "</pre>\n"
      ],
      "text/plain": [
       "01:00:09.681 | \u001b[36mINFO\u001b[0m    | Task run 'read_csv-3609c996-0' - Finished in state \u001b[32mCompleted\u001b[0m()\n"
      ]
     },
     "metadata": {},
     "output_type": "display_data"
    },
    {
     "data": {
      "text/html": [
       "<pre style=\"white-space:pre;overflow-x:auto;line-height:normal;font-family:Menlo,'DejaVu Sans Mono',consolas,'Courier New',monospace\">01:00:09.707 | <span style=\"color: #008080; text-decoration-color: #008080\">INFO</span>    | Flow run<span style=\"color: #800080; text-decoration-color: #800080\"> 'bright-bullfrog'</span> - Created task run 'read_csv-3609c996-1' for task 'read_csv'\n",
       "</pre>\n"
      ],
      "text/plain": [
       "01:00:09.707 | \u001b[36mINFO\u001b[0m    | Flow run\u001b[35m 'bright-bullfrog'\u001b[0m - Created task run 'read_csv-3609c996-1' for task 'read_csv'\n"
      ]
     },
     "metadata": {},
     "output_type": "display_data"
    },
    {
     "data": {
      "text/html": [
       "<pre style=\"white-space:pre;overflow-x:auto;line-height:normal;font-family:Menlo,'DejaVu Sans Mono',consolas,'Courier New',monospace\">01:00:09.709 | <span style=\"color: #008080; text-decoration-color: #008080\">INFO</span>    | Flow run<span style=\"color: #800080; text-decoration-color: #800080\"> 'bright-bullfrog'</span> - Executing 'read_csv-3609c996-1' immediately...\n",
       "</pre>\n"
      ],
      "text/plain": [
       "01:00:09.709 | \u001b[36mINFO\u001b[0m    | Flow run\u001b[35m 'bright-bullfrog'\u001b[0m - Executing 'read_csv-3609c996-1' immediately...\n"
      ]
     },
     "metadata": {},
     "output_type": "display_data"
    },
    {
     "data": {
      "text/html": [
       "<pre style=\"white-space:pre;overflow-x:auto;line-height:normal;font-family:Menlo,'DejaVu Sans Mono',consolas,'Courier New',monospace\">01:00:09.808 | <span style=\"color: #008080; text-decoration-color: #008080\">INFO</span>    | Task run 'read_csv-3609c996-1' - Finished in state <span style=\"color: #008000; text-decoration-color: #008000\">Completed</span>()\n",
       "</pre>\n"
      ],
      "text/plain": [
       "01:00:09.808 | \u001b[36mINFO\u001b[0m    | Task run 'read_csv-3609c996-1' - Finished in state \u001b[32mCompleted\u001b[0m()\n"
      ]
     },
     "metadata": {},
     "output_type": "display_data"
    },
    {
     "data": {
      "text/html": [
       "<pre style=\"white-space:pre;overflow-x:auto;line-height:normal;font-family:Menlo,'DejaVu Sans Mono',consolas,'Courier New',monospace\">01:00:09.835 | <span style=\"color: #008080; text-decoration-color: #008080\">INFO</span>    | Flow run<span style=\"color: #800080; text-decoration-color: #800080\"> 'bright-bullfrog'</span> - Created task run 'read_tracking_data-e2eae939-0' for task 'read_tracking_data'\n",
       "</pre>\n"
      ],
      "text/plain": [
       "01:00:09.835 | \u001b[36mINFO\u001b[0m    | Flow run\u001b[35m 'bright-bullfrog'\u001b[0m - Created task run 'read_tracking_data-e2eae939-0' for task 'read_tracking_data'\n"
      ]
     },
     "metadata": {},
     "output_type": "display_data"
    },
    {
     "data": {
      "text/html": [
       "<pre style=\"white-space:pre;overflow-x:auto;line-height:normal;font-family:Menlo,'DejaVu Sans Mono',consolas,'Courier New',monospace\">01:00:09.837 | <span style=\"color: #008080; text-decoration-color: #008080\">INFO</span>    | Flow run<span style=\"color: #800080; text-decoration-color: #800080\"> 'bright-bullfrog'</span> - Executing 'read_tracking_data-e2eae939-0' immediately...\n",
       "</pre>\n"
      ],
      "text/plain": [
       "01:00:09.837 | \u001b[36mINFO\u001b[0m    | Flow run\u001b[35m 'bright-bullfrog'\u001b[0m - Executing 'read_tracking_data-e2eae939-0' immediately...\n"
      ]
     },
     "metadata": {},
     "output_type": "display_data"
    },
    {
     "data": {
      "text/html": [
       "<pre style=\"white-space:pre;overflow-x:auto;line-height:normal;font-family:Menlo,'DejaVu Sans Mono',consolas,'Courier New',monospace\">01:00:30.142 | <span style=\"color: #008080; text-decoration-color: #008080\">INFO</span>    | Task run 'read_tracking_data-e2eae939-0' - Finished in state <span style=\"color: #008000; text-decoration-color: #008000\">Completed</span>()\n",
       "</pre>\n"
      ],
      "text/plain": [
       "01:00:30.142 | \u001b[36mINFO\u001b[0m    | Task run 'read_tracking_data-e2eae939-0' - Finished in state \u001b[32mCompleted\u001b[0m()\n"
      ]
     },
     "metadata": {},
     "output_type": "display_data"
    },
    {
     "data": {
      "text/html": [
       "<pre style=\"white-space:pre;overflow-x:auto;line-height:normal;font-family:Menlo,'DejaVu Sans Mono',consolas,'Courier New',monospace\">01:00:30.171 | <span style=\"color: #008080; text-decoration-color: #008080\">INFO</span>    | Flow run<span style=\"color: #800080; text-decoration-color: #800080\"> 'bright-bullfrog'</span> - Created task run 'limit_by_child_keys-4238f776-0' for task 'limit_by_child_keys'\n",
       "</pre>\n"
      ],
      "text/plain": [
       "01:00:30.171 | \u001b[36mINFO\u001b[0m    | Flow run\u001b[35m 'bright-bullfrog'\u001b[0m - Created task run 'limit_by_child_keys-4238f776-0' for task 'limit_by_child_keys'\n"
      ]
     },
     "metadata": {},
     "output_type": "display_data"
    },
    {
     "data": {
      "text/html": [
       "<pre style=\"white-space:pre;overflow-x:auto;line-height:normal;font-family:Menlo,'DejaVu Sans Mono',consolas,'Courier New',monospace\">01:00:30.173 | <span style=\"color: #008080; text-decoration-color: #008080\">INFO</span>    | Flow run<span style=\"color: #800080; text-decoration-color: #800080\"> 'bright-bullfrog'</span> - Executing 'limit_by_child_keys-4238f776-0' immediately...\n",
       "</pre>\n"
      ],
      "text/plain": [
       "01:00:30.173 | \u001b[36mINFO\u001b[0m    | Flow run\u001b[35m 'bright-bullfrog'\u001b[0m - Executing 'limit_by_child_keys-4238f776-0' immediately...\n"
      ]
     },
     "metadata": {},
     "output_type": "display_data"
    },
    {
     "data": {
      "text/html": [
       "<pre style=\"white-space:pre;overflow-x:auto;line-height:normal;font-family:Menlo,'DejaVu Sans Mono',consolas,'Courier New',monospace\">01:00:35.989 | <span style=\"color: #008080; text-decoration-color: #008080\">INFO</span>    | Task run 'limit_by_child_keys-4238f776-0' - Finished in state <span style=\"color: #008000; text-decoration-color: #008000\">Completed</span>()\n",
       "</pre>\n"
      ],
      "text/plain": [
       "01:00:35.989 | \u001b[36mINFO\u001b[0m    | Task run 'limit_by_child_keys-4238f776-0' - Finished in state \u001b[32mCompleted\u001b[0m()\n"
      ]
     },
     "metadata": {},
     "output_type": "display_data"
    },
    {
     "data": {
      "text/html": [
       "<pre style=\"white-space:pre;overflow-x:auto;line-height:normal;font-family:Menlo,'DejaVu Sans Mono',consolas,'Courier New',monospace\">01:00:36.015 | <span style=\"color: #008080; text-decoration-color: #008080\">INFO</span>    | Flow run<span style=\"color: #800080; text-decoration-color: #800080\"> 'bright-bullfrog'</span> - Created task run 'limit_by_child_keys-4238f776-1' for task 'limit_by_child_keys'\n",
       "</pre>\n"
      ],
      "text/plain": [
       "01:00:36.015 | \u001b[36mINFO\u001b[0m    | Flow run\u001b[35m 'bright-bullfrog'\u001b[0m - Created task run 'limit_by_child_keys-4238f776-1' for task 'limit_by_child_keys'\n"
      ]
     },
     "metadata": {},
     "output_type": "display_data"
    },
    {
     "data": {
      "text/html": [
       "<pre style=\"white-space:pre;overflow-x:auto;line-height:normal;font-family:Menlo,'DejaVu Sans Mono',consolas,'Courier New',monospace\">01:00:36.017 | <span style=\"color: #008080; text-decoration-color: #008080\">INFO</span>    | Flow run<span style=\"color: #800080; text-decoration-color: #800080\"> 'bright-bullfrog'</span> - Executing 'limit_by_child_keys-4238f776-1' immediately...\n",
       "</pre>\n"
      ],
      "text/plain": [
       "01:00:36.017 | \u001b[36mINFO\u001b[0m    | Flow run\u001b[35m 'bright-bullfrog'\u001b[0m - Executing 'limit_by_child_keys-4238f776-1' immediately...\n"
      ]
     },
     "metadata": {},
     "output_type": "display_data"
    },
    {
     "data": {
      "text/html": [
       "<pre style=\"white-space:pre;overflow-x:auto;line-height:normal;font-family:Menlo,'DejaVu Sans Mono',consolas,'Courier New',monospace\">01:00:36.651 | <span style=\"color: #008080; text-decoration-color: #008080\">INFO</span>    | Task run 'limit_by_child_keys-4238f776-1' - Finished in state <span style=\"color: #008000; text-decoration-color: #008000\">Completed</span>()\n",
       "</pre>\n"
      ],
      "text/plain": [
       "01:00:36.651 | \u001b[36mINFO\u001b[0m    | Task run 'limit_by_child_keys-4238f776-1' - Finished in state \u001b[32mCompleted\u001b[0m()\n"
      ]
     },
     "metadata": {},
     "output_type": "display_data"
    },
    {
     "data": {
      "text/html": [
       "<pre style=\"white-space:pre;overflow-x:auto;line-height:normal;font-family:Menlo,'DejaVu Sans Mono',consolas,'Courier New',monospace\">01:00:36.680 | <span style=\"color: #008080; text-decoration-color: #008080\">INFO</span>    | Flow run<span style=\"color: #800080; text-decoration-color: #800080\"> 'bright-bullfrog'</span> - Created task run 'align_tracking_data-ea7afe30-0' for task 'align_tracking_data'\n",
       "</pre>\n"
      ],
      "text/plain": [
       "01:00:36.680 | \u001b[36mINFO\u001b[0m    | Flow run\u001b[35m 'bright-bullfrog'\u001b[0m - Created task run 'align_tracking_data-ea7afe30-0' for task 'align_tracking_data'\n"
      ]
     },
     "metadata": {},
     "output_type": "display_data"
    },
    {
     "data": {
      "text/html": [
       "<pre style=\"white-space:pre;overflow-x:auto;line-height:normal;font-family:Menlo,'DejaVu Sans Mono',consolas,'Courier New',monospace\">01:00:36.683 | <span style=\"color: #008080; text-decoration-color: #008080\">INFO</span>    | Flow run<span style=\"color: #800080; text-decoration-color: #800080\"> 'bright-bullfrog'</span> - Executing 'align_tracking_data-ea7afe30-0' immediately...\n",
       "</pre>\n"
      ],
      "text/plain": [
       "01:00:36.683 | \u001b[36mINFO\u001b[0m    | Flow run\u001b[35m 'bright-bullfrog'\u001b[0m - Executing 'align_tracking_data-ea7afe30-0' immediately...\n"
      ]
     },
     "metadata": {},
     "output_type": "display_data"
    },
    {
     "data": {
      "text/html": [
       "<pre style=\"white-space:pre;overflow-x:auto;line-height:normal;font-family:Menlo,'DejaVu Sans Mono',consolas,'Courier New',monospace\">01:00:36.764 | <span style=\"color: #008080; text-decoration-color: #008080\">INFO</span>    | Task run 'align_tracking_data-ea7afe30-0' - Finished in state <span style=\"color: #008000; text-decoration-color: #008000\">Completed</span>()\n",
       "</pre>\n"
      ],
      "text/plain": [
       "01:00:36.764 | \u001b[36mINFO\u001b[0m    | Task run 'align_tracking_data-ea7afe30-0' - Finished in state \u001b[32mCompleted\u001b[0m()\n"
      ]
     },
     "metadata": {},
     "output_type": "display_data"
    },
    {
     "data": {
      "text/html": [
       "<pre style=\"white-space:pre;overflow-x:auto;line-height:normal;font-family:Menlo,'DejaVu Sans Mono',consolas,'Courier New',monospace\">01:00:36.794 | <span style=\"color: #008080; text-decoration-color: #008080\">INFO</span>    | Flow run<span style=\"color: #800080; text-decoration-color: #800080\"> 'bright-bullfrog'</span> - Created task run 'rotate_tracking_data-13ea6cce-0' for task 'rotate_tracking_data'\n",
       "</pre>\n"
      ],
      "text/plain": [
       "01:00:36.794 | \u001b[36mINFO\u001b[0m    | Flow run\u001b[35m 'bright-bullfrog'\u001b[0m - Created task run 'rotate_tracking_data-13ea6cce-0' for task 'rotate_tracking_data'\n"
      ]
     },
     "metadata": {},
     "output_type": "display_data"
    },
    {
     "data": {
      "text/html": [
       "<pre style=\"white-space:pre;overflow-x:auto;line-height:normal;font-family:Menlo,'DejaVu Sans Mono',consolas,'Courier New',monospace\">01:00:36.796 | <span style=\"color: #008080; text-decoration-color: #008080\">INFO</span>    | Flow run<span style=\"color: #800080; text-decoration-color: #800080\"> 'bright-bullfrog'</span> - Executing 'rotate_tracking_data-13ea6cce-0' immediately...\n",
       "</pre>\n"
      ],
      "text/plain": [
       "01:00:36.796 | \u001b[36mINFO\u001b[0m    | Flow run\u001b[35m 'bright-bullfrog'\u001b[0m - Executing 'rotate_tracking_data-13ea6cce-0' immediately...\n"
      ]
     },
     "metadata": {},
     "output_type": "display_data"
    },
    {
     "data": {
      "text/html": [
       "<pre style=\"white-space:pre;overflow-x:auto;line-height:normal;font-family:Menlo,'DejaVu Sans Mono',consolas,'Courier New',monospace\">01:00:36.872 | <span style=\"color: #008080; text-decoration-color: #008080\">INFO</span>    | Task run 'rotate_tracking_data-13ea6cce-0' - Finished in state <span style=\"color: #008000; text-decoration-color: #008000\">Completed</span>()\n",
       "</pre>\n"
      ],
      "text/plain": [
       "01:00:36.872 | \u001b[36mINFO\u001b[0m    | Task run 'rotate_tracking_data-13ea6cce-0' - Finished in state \u001b[32mCompleted\u001b[0m()\n"
      ]
     },
     "metadata": {},
     "output_type": "display_data"
    },
    {
     "data": {
      "text/html": [
       "<pre style=\"white-space:pre;overflow-x:auto;line-height:normal;font-family:Menlo,'DejaVu Sans Mono',consolas,'Courier New',monospace\">01:00:36.901 | <span style=\"color: #008080; text-decoration-color: #008080\">INFO</span>    | Flow run<span style=\"color: #800080; text-decoration-color: #800080\"> 'bright-bullfrog'</span> - Created task run 'get_passer_out_of_pocket-98072e46-0' for task 'get_passer_out_of_pocket'\n",
       "</pre>\n"
      ],
      "text/plain": [
       "01:00:36.901 | \u001b[36mINFO\u001b[0m    | Flow run\u001b[35m 'bright-bullfrog'\u001b[0m - Created task run 'get_passer_out_of_pocket-98072e46-0' for task 'get_passer_out_of_pocket'\n"
      ]
     },
     "metadata": {},
     "output_type": "display_data"
    },
    {
     "data": {
      "text/html": [
       "<pre style=\"white-space:pre;overflow-x:auto;line-height:normal;font-family:Menlo,'DejaVu Sans Mono',consolas,'Courier New',monospace\">01:00:36.903 | <span style=\"color: #008080; text-decoration-color: #008080\">INFO</span>    | Flow run<span style=\"color: #800080; text-decoration-color: #800080\"> 'bright-bullfrog'</span> - Executing 'get_passer_out_of_pocket-98072e46-0' immediately...\n",
       "</pre>\n"
      ],
      "text/plain": [
       "01:00:36.903 | \u001b[36mINFO\u001b[0m    | Flow run\u001b[35m 'bright-bullfrog'\u001b[0m - Executing 'get_passer_out_of_pocket-98072e46-0' immediately...\n"
      ]
     },
     "metadata": {},
     "output_type": "display_data"
    },
    {
     "data": {
      "text/html": [
       "<pre style=\"white-space:pre;overflow-x:auto;line-height:normal;font-family:Menlo,'DejaVu Sans Mono',consolas,'Courier New',monospace\">01:00:37.122 | <span style=\"color: #008080; text-decoration-color: #008080\">INFO</span>    | Task run 'get_passer_out_of_pocket-98072e46-0' - Finished in state <span style=\"color: #008000; text-decoration-color: #008000\">Completed</span>()\n",
       "</pre>\n"
      ],
      "text/plain": [
       "01:00:37.122 | \u001b[36mINFO\u001b[0m    | Task run 'get_passer_out_of_pocket-98072e46-0' - Finished in state \u001b[32mCompleted\u001b[0m()\n"
      ]
     },
     "metadata": {},
     "output_type": "display_data"
    },
    {
     "data": {
      "text/html": [
       "<pre style=\"white-space:pre;overflow-x:auto;line-height:normal;font-family:Menlo,'DejaVu Sans Mono',consolas,'Courier New',monospace\">01:00:37.152 | <span style=\"color: #008080; text-decoration-color: #008080\">INFO</span>    | Flow run<span style=\"color: #800080; text-decoration-color: #800080\"> 'bright-bullfrog'</span> - Created task run 'clean_event_data-657c8302-0' for task 'clean_event_data'\n",
       "</pre>\n"
      ],
      "text/plain": [
       "01:00:37.152 | \u001b[36mINFO\u001b[0m    | Flow run\u001b[35m 'bright-bullfrog'\u001b[0m - Created task run 'clean_event_data-657c8302-0' for task 'clean_event_data'\n"
      ]
     },
     "metadata": {},
     "output_type": "display_data"
    },
    {
     "data": {
      "text/html": [
       "<pre style=\"white-space:pre;overflow-x:auto;line-height:normal;font-family:Menlo,'DejaVu Sans Mono',consolas,'Courier New',monospace\">01:00:37.157 | <span style=\"color: #008080; text-decoration-color: #008080\">INFO</span>    | Flow run<span style=\"color: #800080; text-decoration-color: #800080\"> 'bright-bullfrog'</span> - Executing 'clean_event_data-657c8302-0' immediately...\n",
       "</pre>\n"
      ],
      "text/plain": [
       "01:00:37.157 | \u001b[36mINFO\u001b[0m    | Flow run\u001b[35m 'bright-bullfrog'\u001b[0m - Executing 'clean_event_data-657c8302-0' immediately...\n"
      ]
     },
     "metadata": {},
     "output_type": "display_data"
    },
    {
     "data": {
      "text/html": [
       "<pre style=\"white-space:pre;overflow-x:auto;line-height:normal;font-family:Menlo,'DejaVu Sans Mono',consolas,'Courier New',monospace\">01:00:37.299 | <span style=\"color: #008080; text-decoration-color: #008080\">INFO</span>    | Task run 'clean_event_data-657c8302-0' - Finished in state <span style=\"color: #008000; text-decoration-color: #008000\">Completed</span>()\n",
       "</pre>\n"
      ],
      "text/plain": [
       "01:00:37.299 | \u001b[36mINFO\u001b[0m    | Task run 'clean_event_data-657c8302-0' - Finished in state \u001b[32mCompleted\u001b[0m()\n"
      ]
     },
     "metadata": {},
     "output_type": "display_data"
    },
    {
     "data": {
      "text/html": [
       "<pre style=\"white-space:pre;overflow-x:auto;line-height:normal;font-family:Menlo,'DejaVu Sans Mono',consolas,'Courier New',monospace\">01:00:37.346 | <span style=\"color: #008080; text-decoration-color: #008080\">INFO</span>    | Flow run<span style=\"color: #800080; text-decoration-color: #800080\"> 'bright-bullfrog'</span> - Created task run 'get_pocket_eligibility-6d653879-0' for task 'get_pocket_eligibility'\n",
       "</pre>\n"
      ],
      "text/plain": [
       "01:00:37.346 | \u001b[36mINFO\u001b[0m    | Flow run\u001b[35m 'bright-bullfrog'\u001b[0m - Created task run 'get_pocket_eligibility-6d653879-0' for task 'get_pocket_eligibility'\n"
      ]
     },
     "metadata": {},
     "output_type": "display_data"
    },
    {
     "data": {
      "text/html": [
       "<pre style=\"white-space:pre;overflow-x:auto;line-height:normal;font-family:Menlo,'DejaVu Sans Mono',consolas,'Courier New',monospace\">01:00:37.350 | <span style=\"color: #008080; text-decoration-color: #008080\">INFO</span>    | Flow run<span style=\"color: #800080; text-decoration-color: #800080\"> 'bright-bullfrog'</span> - Executing 'get_pocket_eligibility-6d653879-0' immediately...\n",
       "</pre>\n"
      ],
      "text/plain": [
       "01:00:37.350 | \u001b[36mINFO\u001b[0m    | Flow run\u001b[35m 'bright-bullfrog'\u001b[0m - Executing 'get_pocket_eligibility-6d653879-0' immediately...\n"
      ]
     },
     "metadata": {},
     "output_type": "display_data"
    },
    {
     "data": {
      "text/html": [
       "<pre style=\"white-space:pre;overflow-x:auto;line-height:normal;font-family:Menlo,'DejaVu Sans Mono',consolas,'Courier New',monospace\">01:00:37.577 | <span style=\"color: #008080; text-decoration-color: #008080\">INFO</span>    | Task run 'get_pocket_eligibility-6d653879-0' - Finished in state <span style=\"color: #008000; text-decoration-color: #008000\">Completed</span>()\n",
       "</pre>\n"
      ],
      "text/plain": [
       "01:00:37.577 | \u001b[36mINFO\u001b[0m    | Task run 'get_pocket_eligibility-6d653879-0' - Finished in state \u001b[32mCompleted\u001b[0m()\n"
      ]
     },
     "metadata": {},
     "output_type": "display_data"
    },
    {
     "data": {
      "text/html": [
       "<pre style=\"white-space:pre;overflow-x:auto;line-height:normal;font-family:Menlo,'DejaVu Sans Mono',consolas,'Courier New',monospace\">01:00:37.625 | <span style=\"color: #008080; text-decoration-color: #008080\">INFO</span>    | Flow run<span style=\"color: #800080; text-decoration-color: #800080\"> 'bright-bullfrog'</span> - Created task run 'augment_tracking_events-342a9dc3-0' for task 'augment_tracking_events'\n",
       "</pre>\n"
      ],
      "text/plain": [
       "01:00:37.625 | \u001b[36mINFO\u001b[0m    | Flow run\u001b[35m 'bright-bullfrog'\u001b[0m - Created task run 'augment_tracking_events-342a9dc3-0' for task 'augment_tracking_events'\n"
      ]
     },
     "metadata": {},
     "output_type": "display_data"
    },
    {
     "data": {
      "text/html": [
       "<pre style=\"white-space:pre;overflow-x:auto;line-height:normal;font-family:Menlo,'DejaVu Sans Mono',consolas,'Courier New',monospace\">01:00:37.629 | <span style=\"color: #008080; text-decoration-color: #008080\">INFO</span>    | Flow run<span style=\"color: #800080; text-decoration-color: #800080\"> 'bright-bullfrog'</span> - Executing 'augment_tracking_events-342a9dc3-0' immediately...\n",
       "</pre>\n"
      ],
      "text/plain": [
       "01:00:37.629 | \u001b[36mINFO\u001b[0m    | Flow run\u001b[35m 'bright-bullfrog'\u001b[0m - Executing 'augment_tracking_events-342a9dc3-0' immediately...\n"
      ]
     },
     "metadata": {},
     "output_type": "display_data"
    },
    {
     "data": {
      "text/html": [
       "<pre style=\"white-space:pre;overflow-x:auto;line-height:normal;font-family:Menlo,'DejaVu Sans Mono',consolas,'Courier New',monospace\">01:00:37.771 | <span style=\"color: #008080; text-decoration-color: #008080\">INFO</span>    | Task run 'augment_tracking_events-342a9dc3-0' - Finished in state <span style=\"color: #008000; text-decoration-color: #008000\">Completed</span>()\n",
       "</pre>\n"
      ],
      "text/plain": [
       "01:00:37.771 | \u001b[36mINFO\u001b[0m    | Task run 'augment_tracking_events-342a9dc3-0' - Finished in state \u001b[32mCompleted\u001b[0m()\n"
      ]
     },
     "metadata": {},
     "output_type": "display_data"
    },
    {
     "data": {
      "text/html": [
       "<pre style=\"white-space:pre;overflow-x:auto;line-height:normal;font-family:Menlo,'DejaVu Sans Mono',consolas,'Courier New',monospace\">01:00:37.807 | <span style=\"color: #008080; text-decoration-color: #008080\">INFO</span>    | Flow run<span style=\"color: #800080; text-decoration-color: #800080\"> 'bright-bullfrog'</span> - Created task run 'transform_to_tracking_display-0c78dc49-0' for task 'transform_to_tracking_display'\n",
       "</pre>\n"
      ],
      "text/plain": [
       "01:00:37.807 | \u001b[36mINFO\u001b[0m    | Flow run\u001b[35m 'bright-bullfrog'\u001b[0m - Created task run 'transform_to_tracking_display-0c78dc49-0' for task 'transform_to_tracking_display'\n"
      ]
     },
     "metadata": {},
     "output_type": "display_data"
    },
    {
     "data": {
      "text/html": [
       "<pre style=\"white-space:pre;overflow-x:auto;line-height:normal;font-family:Menlo,'DejaVu Sans Mono',consolas,'Courier New',monospace\">01:00:37.811 | <span style=\"color: #008080; text-decoration-color: #008080\">INFO</span>    | Flow run<span style=\"color: #800080; text-decoration-color: #800080\"> 'bright-bullfrog'</span> - Executing 'transform_to_tracking_display-0c78dc49-0' immediately...\n",
       "</pre>\n"
      ],
      "text/plain": [
       "01:00:37.811 | \u001b[36mINFO\u001b[0m    | Flow run\u001b[35m 'bright-bullfrog'\u001b[0m - Executing 'transform_to_tracking_display-0c78dc49-0' immediately...\n"
      ]
     },
     "metadata": {},
     "output_type": "display_data"
    },
    {
     "data": {
      "text/html": [
       "<pre style=\"white-space:pre;overflow-x:auto;line-height:normal;font-family:Menlo,'DejaVu Sans Mono',consolas,'Courier New',monospace\">01:00:38.130 | <span style=\"color: #008080; text-decoration-color: #008080\">INFO</span>    | Task run 'transform_to_tracking_display-0c78dc49-0' - Finished in state <span style=\"color: #008000; text-decoration-color: #008000\">Completed</span>()\n",
       "</pre>\n"
      ],
      "text/plain": [
       "01:00:38.130 | \u001b[36mINFO\u001b[0m    | Task run 'transform_to_tracking_display-0c78dc49-0' - Finished in state \u001b[32mCompleted\u001b[0m()\n"
      ]
     },
     "metadata": {},
     "output_type": "display_data"
    },
    {
     "data": {
      "text/html": [
       "<pre style=\"white-space:pre;overflow-x:auto;line-height:normal;font-family:Menlo,'DejaVu Sans Mono',consolas,'Courier New',monospace\">01:00:38.183 | <span style=\"color: #008080; text-decoration-color: #008080\">INFO</span>    | Flow run<span style=\"color: #800080; text-decoration-color: #800080\"> 'bright-bullfrog'</span> - Created task run 'transform_to_frames-3446c324-0' for task 'transform_to_frames'\n",
       "</pre>\n"
      ],
      "text/plain": [
       "01:00:38.183 | \u001b[36mINFO\u001b[0m    | Flow run\u001b[35m 'bright-bullfrog'\u001b[0m - Created task run 'transform_to_frames-3446c324-0' for task 'transform_to_frames'\n"
      ]
     },
     "metadata": {},
     "output_type": "display_data"
    },
    {
     "data": {
      "text/html": [
       "<pre style=\"white-space:pre;overflow-x:auto;line-height:normal;font-family:Menlo,'DejaVu Sans Mono',consolas,'Courier New',monospace\">01:00:38.186 | <span style=\"color: #008080; text-decoration-color: #008080\">INFO</span>    | Flow run<span style=\"color: #800080; text-decoration-color: #800080\"> 'bright-bullfrog'</span> - Executing 'transform_to_frames-3446c324-0' immediately...\n",
       "</pre>\n"
      ],
      "text/plain": [
       "01:00:38.186 | \u001b[36mINFO\u001b[0m    | Flow run\u001b[35m 'bright-bullfrog'\u001b[0m - Executing 'transform_to_frames-3446c324-0' immediately...\n"
      ]
     },
     "metadata": {},
     "output_type": "display_data"
    },
    {
     "data": {
      "text/html": [
       "<pre style=\"white-space:pre;overflow-x:auto;line-height:normal;font-family:Menlo,'DejaVu Sans Mono',consolas,'Courier New',monospace\">01:00:38.532 | <span style=\"color: #008080; text-decoration-color: #008080\">INFO</span>    | Task run 'transform_to_frames-3446c324-0' - Finished in state <span style=\"color: #008000; text-decoration-color: #008000\">Completed</span>()\n",
       "</pre>\n"
      ],
      "text/plain": [
       "01:00:38.532 | \u001b[36mINFO\u001b[0m    | Task run 'transform_to_frames-3446c324-0' - Finished in state \u001b[32mCompleted\u001b[0m()\n"
      ]
     },
     "metadata": {},
     "output_type": "display_data"
    },
    {
     "data": {
      "text/html": [
       "<pre style=\"white-space:pre;overflow-x:auto;line-height:normal;font-family:Menlo,'DejaVu Sans Mono',consolas,'Courier New',monospace\">01:00:38.568 | <span style=\"color: #008080; text-decoration-color: #008080\">INFO</span>    | Flow run<span style=\"color: #800080; text-decoration-color: #800080\"> 'bright-bullfrog'</span> - Created task run 'transform_to_records_per_frame-823b8998-0' for task 'transform_to_records_per_frame'\n",
       "</pre>\n"
      ],
      "text/plain": [
       "01:00:38.568 | \u001b[36mINFO\u001b[0m    | Flow run\u001b[35m 'bright-bullfrog'\u001b[0m - Created task run 'transform_to_records_per_frame-823b8998-0' for task 'transform_to_records_per_frame'\n"
      ]
     },
     "metadata": {},
     "output_type": "display_data"
    },
    {
     "data": {
      "text/html": [
       "<pre style=\"white-space:pre;overflow-x:auto;line-height:normal;font-family:Menlo,'DejaVu Sans Mono',consolas,'Courier New',monospace\">01:00:38.571 | <span style=\"color: #008080; text-decoration-color: #008080\">INFO</span>    | Flow run<span style=\"color: #800080; text-decoration-color: #800080\"> 'bright-bullfrog'</span> - Executing 'transform_to_records_per_frame-823b8998-0' immediately...\n",
       "</pre>\n"
      ],
      "text/plain": [
       "01:00:38.571 | \u001b[36mINFO\u001b[0m    | Flow run\u001b[35m 'bright-bullfrog'\u001b[0m - Executing 'transform_to_records_per_frame-823b8998-0' immediately...\n"
      ]
     },
     "metadata": {},
     "output_type": "display_data"
    },
    {
     "data": {
      "text/html": [
       "<pre style=\"white-space:pre;overflow-x:auto;line-height:normal;font-family:Menlo,'DejaVu Sans Mono',consolas,'Courier New',monospace\">01:00:38.741 | <span style=\"color: #008080; text-decoration-color: #008080\">INFO</span>    | Task run 'transform_to_records_per_frame-823b8998-0' - Finished in state <span style=\"color: #008000; text-decoration-color: #008000\">Completed</span>()\n",
       "</pre>\n"
      ],
      "text/plain": [
       "01:00:38.741 | \u001b[36mINFO\u001b[0m    | Task run 'transform_to_records_per_frame-823b8998-0' - Finished in state \u001b[32mCompleted\u001b[0m()\n"
      ]
     },
     "metadata": {},
     "output_type": "display_data"
    },
    {
     "data": {
      "text/html": [
       "<pre style=\"white-space:pre;overflow-x:auto;line-height:normal;font-family:Menlo,'DejaVu Sans Mono',consolas,'Courier New',monospace\">01:00:38.824 | <span style=\"color: #008080; text-decoration-color: #008080\">INFO</span>    | Flow run<span style=\"color: #800080; text-decoration-color: #800080\"> 'bright-bullfrog'</span> - Created task run 'calculate_pocket_area-cc18ef62-0' for task 'calculate_pocket_area'\n",
       "</pre>\n"
      ],
      "text/plain": [
       "01:00:38.824 | \u001b[36mINFO\u001b[0m    | Flow run\u001b[35m 'bright-bullfrog'\u001b[0m - Created task run 'calculate_pocket_area-cc18ef62-0' for task 'calculate_pocket_area'\n"
      ]
     },
     "metadata": {},
     "output_type": "display_data"
    },
    {
     "data": {
      "text/html": [
       "<pre style=\"white-space:pre;overflow-x:auto;line-height:normal;font-family:Menlo,'DejaVu Sans Mono',consolas,'Courier New',monospace\">01:00:38.826 | <span style=\"color: #008080; text-decoration-color: #008080\">INFO</span>    | Flow run<span style=\"color: #800080; text-decoration-color: #800080\"> 'bright-bullfrog'</span> - Submitted task run 'calculate_pocket_area-cc18ef62-0' for execution.\n",
       "</pre>\n"
      ],
      "text/plain": [
       "01:00:38.826 | \u001b[36mINFO\u001b[0m    | Flow run\u001b[35m 'bright-bullfrog'\u001b[0m - Submitted task run 'calculate_pocket_area-cc18ef62-0' for execution.\n"
      ]
     },
     "metadata": {},
     "output_type": "display_data"
    },
    {
     "data": {
      "text/html": [
       "<pre style=\"white-space:pre;overflow-x:auto;line-height:normal;font-family:Menlo,'DejaVu Sans Mono',consolas,'Courier New',monospace\">01:00:38.879 | <span style=\"color: #008080; text-decoration-color: #008080\">INFO</span>    | Flow run<span style=\"color: #800080; text-decoration-color: #800080\"> 'bright-bullfrog'</span> - Created task run 'calculate_pocket_area-cc18ef62-3' for task 'calculate_pocket_area'\n",
       "</pre>\n"
      ],
      "text/plain": [
       "01:00:38.879 | \u001b[36mINFO\u001b[0m    | Flow run\u001b[35m 'bright-bullfrog'\u001b[0m - Created task run 'calculate_pocket_area-cc18ef62-3' for task 'calculate_pocket_area'\n"
      ]
     },
     "metadata": {},
     "output_type": "display_data"
    },
    {
     "data": {
      "text/html": [
       "<pre style=\"white-space:pre;overflow-x:auto;line-height:normal;font-family:Menlo,'DejaVu Sans Mono',consolas,'Courier New',monospace\">01:00:38.882 | <span style=\"color: #008080; text-decoration-color: #008080\">INFO</span>    | Flow run<span style=\"color: #800080; text-decoration-color: #800080\"> 'bright-bullfrog'</span> - Submitted task run 'calculate_pocket_area-cc18ef62-3' for execution.\n",
       "</pre>\n"
      ],
      "text/plain": [
       "01:00:38.882 | \u001b[36mINFO\u001b[0m    | Flow run\u001b[35m 'bright-bullfrog'\u001b[0m - Submitted task run 'calculate_pocket_area-cc18ef62-3' for execution.\n"
      ]
     },
     "metadata": {},
     "output_type": "display_data"
    },
    {
     "data": {
      "text/html": [
       "<pre style=\"white-space:pre;overflow-x:auto;line-height:normal;font-family:Menlo,'DejaVu Sans Mono',consolas,'Courier New',monospace\">01:00:38.914 | <span style=\"color: #008080; text-decoration-color: #008080\">INFO</span>    | Flow run<span style=\"color: #800080; text-decoration-color: #800080\"> 'bright-bullfrog'</span> - Created task run 'calculate_pocket_area-cc18ef62-4' for task 'calculate_pocket_area'\n",
       "</pre>\n"
      ],
      "text/plain": [
       "01:00:38.914 | \u001b[36mINFO\u001b[0m    | Flow run\u001b[35m 'bright-bullfrog'\u001b[0m - Created task run 'calculate_pocket_area-cc18ef62-4' for task 'calculate_pocket_area'\n"
      ]
     },
     "metadata": {},
     "output_type": "display_data"
    },
    {
     "data": {
      "text/html": [
       "<pre style=\"white-space:pre;overflow-x:auto;line-height:normal;font-family:Menlo,'DejaVu Sans Mono',consolas,'Courier New',monospace\">01:00:38.916 | <span style=\"color: #008080; text-decoration-color: #008080\">INFO</span>    | Flow run<span style=\"color: #800080; text-decoration-color: #800080\"> 'bright-bullfrog'</span> - Submitted task run 'calculate_pocket_area-cc18ef62-4' for execution.\n",
       "</pre>\n"
      ],
      "text/plain": [
       "01:00:38.916 | \u001b[36mINFO\u001b[0m    | Flow run\u001b[35m 'bright-bullfrog'\u001b[0m - Submitted task run 'calculate_pocket_area-cc18ef62-4' for execution.\n"
      ]
     },
     "metadata": {},
     "output_type": "display_data"
    },
    {
     "data": {
      "text/html": [
       "<pre style=\"white-space:pre;overflow-x:auto;line-height:normal;font-family:Menlo,'DejaVu Sans Mono',consolas,'Courier New',monospace\">01:00:38.962 | <span style=\"color: #008080; text-decoration-color: #008080\">INFO</span>    | Flow run<span style=\"color: #800080; text-decoration-color: #800080\"> 'bright-bullfrog'</span> - Created task run 'calculate_pocket_area-cc18ef62-1' for task 'calculate_pocket_area'\n",
       "</pre>\n"
      ],
      "text/plain": [
       "01:00:38.962 | \u001b[36mINFO\u001b[0m    | Flow run\u001b[35m 'bright-bullfrog'\u001b[0m - Created task run 'calculate_pocket_area-cc18ef62-1' for task 'calculate_pocket_area'\n"
      ]
     },
     "metadata": {},
     "output_type": "display_data"
    },
    {
     "data": {
      "text/html": [
       "<pre style=\"white-space:pre;overflow-x:auto;line-height:normal;font-family:Menlo,'DejaVu Sans Mono',consolas,'Courier New',monospace\">01:00:38.965 | <span style=\"color: #008080; text-decoration-color: #008080\">INFO</span>    | Flow run<span style=\"color: #800080; text-decoration-color: #800080\"> 'bright-bullfrog'</span> - Submitted task run 'calculate_pocket_area-cc18ef62-1' for execution.\n",
       "</pre>\n"
      ],
      "text/plain": [
       "01:00:38.965 | \u001b[36mINFO\u001b[0m    | Flow run\u001b[35m 'bright-bullfrog'\u001b[0m - Submitted task run 'calculate_pocket_area-cc18ef62-1' for execution.\n"
      ]
     },
     "metadata": {},
     "output_type": "display_data"
    },
    {
     "data": {
      "text/html": [
       "<pre style=\"white-space:pre;overflow-x:auto;line-height:normal;font-family:Menlo,'DejaVu Sans Mono',consolas,'Courier New',monospace\">01:00:39.676 | <span style=\"color: #008080; text-decoration-color: #008080\">INFO</span>    | Flow run<span style=\"color: #800080; text-decoration-color: #800080\"> 'bright-bullfrog'</span> - Created task run 'calculate_pocket_area-cc18ef62-2' for task 'calculate_pocket_area'\n",
       "</pre>\n"
      ],
      "text/plain": [
       "01:00:39.676 | \u001b[36mINFO\u001b[0m    | Flow run\u001b[35m 'bright-bullfrog'\u001b[0m - Created task run 'calculate_pocket_area-cc18ef62-2' for task 'calculate_pocket_area'\n"
      ]
     },
     "metadata": {},
     "output_type": "display_data"
    },
    {
     "data": {
      "text/html": [
       "<pre style=\"white-space:pre;overflow-x:auto;line-height:normal;font-family:Menlo,'DejaVu Sans Mono',consolas,'Courier New',monospace\">01:00:39.719 | <span style=\"color: #008080; text-decoration-color: #008080\">INFO</span>    | Flow run<span style=\"color: #800080; text-decoration-color: #800080\"> 'bright-bullfrog'</span> - Submitted task run 'calculate_pocket_area-cc18ef62-2' for execution.\n",
       "</pre>\n"
      ],
      "text/plain": [
       "01:00:39.719 | \u001b[36mINFO\u001b[0m    | Flow run\u001b[35m 'bright-bullfrog'\u001b[0m - Submitted task run 'calculate_pocket_area-cc18ef62-2' for execution.\n"
      ]
     },
     "metadata": {},
     "output_type": "display_data"
    },
    {
     "data": {
      "text/html": [
       "<pre style=\"white-space:pre;overflow-x:auto;line-height:normal;font-family:Menlo,'DejaVu Sans Mono',consolas,'Courier New',monospace\">01:00:40.196 | <span style=\"color: #008080; text-decoration-color: #008080\">INFO</span>    | Flow run<span style=\"color: #800080; text-decoration-color: #800080\"> 'bright-bullfrog'</span> - Created task run 'union_dataframes-8a4e3d8f-0' for task 'union_dataframes'\n",
       "</pre>\n"
      ],
      "text/plain": [
       "01:00:40.196 | \u001b[36mINFO\u001b[0m    | Flow run\u001b[35m 'bright-bullfrog'\u001b[0m - Created task run 'union_dataframes-8a4e3d8f-0' for task 'union_dataframes'\n"
      ]
     },
     "metadata": {},
     "output_type": "display_data"
    },
    {
     "data": {
      "text/html": [
       "<pre style=\"white-space:pre;overflow-x:auto;line-height:normal;font-family:Menlo,'DejaVu Sans Mono',consolas,'Courier New',monospace\">01:00:40.200 | <span style=\"color: #008080; text-decoration-color: #008080\">INFO</span>    | Flow run<span style=\"color: #800080; text-decoration-color: #800080\"> 'bright-bullfrog'</span> - Executing 'union_dataframes-8a4e3d8f-0' immediately...\n",
       "</pre>\n"
      ],
      "text/plain": [
       "01:00:40.200 | \u001b[36mINFO\u001b[0m    | Flow run\u001b[35m 'bright-bullfrog'\u001b[0m - Executing 'union_dataframes-8a4e3d8f-0' immediately...\n"
      ]
     },
     "metadata": {},
     "output_type": "display_data"
    },
    {
     "data": {
      "text/html": [
       "<pre style=\"white-space:pre;overflow-x:auto;line-height:normal;font-family:Menlo,'DejaVu Sans Mono',consolas,'Courier New',monospace\">01:00:40.272 | <span style=\"color: #008080; text-decoration-color: #008080\">INFO</span>    | Task run 'calculate_pocket_area-cc18ef62-0' - Finished in state <span style=\"color: #008000; text-decoration-color: #008000\">Completed</span>()\n",
       "</pre>\n"
      ],
      "text/plain": [
       "01:00:40.272 | \u001b[36mINFO\u001b[0m    | Task run 'calculate_pocket_area-cc18ef62-0' - Finished in state \u001b[32mCompleted\u001b[0m()\n"
      ]
     },
     "metadata": {},
     "output_type": "display_data"
    },
    {
     "data": {
      "text/html": [
       "<pre style=\"white-space:pre;overflow-x:auto;line-height:normal;font-family:Menlo,'DejaVu Sans Mono',consolas,'Courier New',monospace\">01:00:44.729 | <span style=\"color: #008080; text-decoration-color: #008080\">INFO</span>    | Task run 'calculate_pocket_area-cc18ef62-3' - Finished in state <span style=\"color: #008000; text-decoration-color: #008000\">Completed</span>()\n",
       "</pre>\n"
      ],
      "text/plain": [
       "01:00:44.729 | \u001b[36mINFO\u001b[0m    | Task run 'calculate_pocket_area-cc18ef62-3' - Finished in state \u001b[32mCompleted\u001b[0m()\n"
      ]
     },
     "metadata": {},
     "output_type": "display_data"
    },
    {
     "data": {
      "text/html": [
       "<pre style=\"white-space:pre;overflow-x:auto;line-height:normal;font-family:Menlo,'DejaVu Sans Mono',consolas,'Courier New',monospace\">01:00:45.662 | <span style=\"color: #008080; text-decoration-color: #008080\">INFO</span>    | Task run 'calculate_pocket_area-cc18ef62-4' - Finished in state <span style=\"color: #008000; text-decoration-color: #008000\">Completed</span>()\n",
       "</pre>\n"
      ],
      "text/plain": [
       "01:00:45.662 | \u001b[36mINFO\u001b[0m    | Task run 'calculate_pocket_area-cc18ef62-4' - Finished in state \u001b[32mCompleted\u001b[0m()\n"
      ]
     },
     "metadata": {},
     "output_type": "display_data"
    },
    {
     "data": {
      "text/html": [
       "<pre style=\"white-space:pre;overflow-x:auto;line-height:normal;font-family:Menlo,'DejaVu Sans Mono',consolas,'Courier New',monospace\">01:00:45.936 | <span style=\"color: #008080; text-decoration-color: #008080\">INFO</span>    | Task run 'calculate_pocket_area-cc18ef62-1' - Finished in state <span style=\"color: #008000; text-decoration-color: #008000\">Completed</span>()\n",
       "</pre>\n"
      ],
      "text/plain": [
       "01:00:45.936 | \u001b[36mINFO\u001b[0m    | Task run 'calculate_pocket_area-cc18ef62-1' - Finished in state \u001b[32mCompleted\u001b[0m()\n"
      ]
     },
     "metadata": {},
     "output_type": "display_data"
    },
    {
     "data": {
      "text/html": [
       "<pre style=\"white-space:pre;overflow-x:auto;line-height:normal;font-family:Menlo,'DejaVu Sans Mono',consolas,'Courier New',monospace\">01:00:45.954 | <span style=\"color: #008080; text-decoration-color: #008080\">INFO</span>    | Task run 'calculate_pocket_area-cc18ef62-2' - Finished in state <span style=\"color: #008000; text-decoration-color: #008000\">Completed</span>()\n",
       "</pre>\n"
      ],
      "text/plain": [
       "01:00:45.954 | \u001b[36mINFO\u001b[0m    | Task run 'calculate_pocket_area-cc18ef62-2' - Finished in state \u001b[32mCompleted\u001b[0m()\n"
      ]
     },
     "metadata": {},
     "output_type": "display_data"
    },
    {
     "data": {
      "text/html": [
       "<pre style=\"white-space:pre;overflow-x:auto;line-height:normal;font-family:Menlo,'DejaVu Sans Mono',consolas,'Courier New',monospace\">01:00:46.026 | <span style=\"color: #008080; text-decoration-color: #008080\">INFO</span>    | Task run 'union_dataframes-8a4e3d8f-0' - Finished in state <span style=\"color: #008000; text-decoration-color: #008000\">Completed</span>()\n",
       "</pre>\n"
      ],
      "text/plain": [
       "01:00:46.026 | \u001b[36mINFO\u001b[0m    | Task run 'union_dataframes-8a4e3d8f-0' - Finished in state \u001b[32mCompleted\u001b[0m()\n"
      ]
     },
     "metadata": {},
     "output_type": "display_data"
    },
    {
     "data": {
      "text/html": [
       "<pre style=\"white-space:pre;overflow-x:auto;line-height:normal;font-family:Menlo,'DejaVu Sans Mono',consolas,'Courier New',monospace\">01:00:46.058 | <span style=\"color: #008080; text-decoration-color: #008080\">INFO</span>    | Flow run<span style=\"color: #800080; text-decoration-color: #800080\"> 'bright-bullfrog'</span> - Created task run 'get_frames_for_time_windows-182f3eb1-0' for task 'get_frames_for_time_windows'\n",
       "</pre>\n"
      ],
      "text/plain": [
       "01:00:46.058 | \u001b[36mINFO\u001b[0m    | Flow run\u001b[35m 'bright-bullfrog'\u001b[0m - Created task run 'get_frames_for_time_windows-182f3eb1-0' for task 'get_frames_for_time_windows'\n"
      ]
     },
     "metadata": {},
     "output_type": "display_data"
    },
    {
     "data": {
      "text/html": [
       "<pre style=\"white-space:pre;overflow-x:auto;line-height:normal;font-family:Menlo,'DejaVu Sans Mono',consolas,'Courier New',monospace\">01:00:46.061 | <span style=\"color: #008080; text-decoration-color: #008080\">INFO</span>    | Flow run<span style=\"color: #800080; text-decoration-color: #800080\"> 'bright-bullfrog'</span> - Executing 'get_frames_for_time_windows-182f3eb1-0' immediately...\n",
       "</pre>\n"
      ],
      "text/plain": [
       "01:00:46.061 | \u001b[36mINFO\u001b[0m    | Flow run\u001b[35m 'bright-bullfrog'\u001b[0m - Executing 'get_frames_for_time_windows-182f3eb1-0' immediately...\n"
      ]
     },
     "metadata": {},
     "output_type": "display_data"
    },
    {
     "data": {
      "text/html": [
       "<pre style=\"white-space:pre;overflow-x:auto;line-height:normal;font-family:Menlo,'DejaVu Sans Mono',consolas,'Courier New',monospace\">01:00:46.165 | <span style=\"color: #008080; text-decoration-color: #008080\">INFO</span>    | Task run 'get_frames_for_time_windows-182f3eb1-0' - Finished in state <span style=\"color: #008000; text-decoration-color: #008000\">Completed</span>()\n",
       "</pre>\n"
      ],
      "text/plain": [
       "01:00:46.165 | \u001b[36mINFO\u001b[0m    | Task run 'get_frames_for_time_windows-182f3eb1-0' - Finished in state \u001b[32mCompleted\u001b[0m()\n"
      ]
     },
     "metadata": {},
     "output_type": "display_data"
    },
    {
     "data": {
      "text/html": [
       "<pre style=\"white-space:pre;overflow-x:auto;line-height:normal;font-family:Menlo,'DejaVu Sans Mono',consolas,'Courier New',monospace\">01:00:46.195 | <span style=\"color: #008080; text-decoration-color: #008080\">INFO</span>    | Flow run<span style=\"color: #800080; text-decoration-color: #800080\"> 'bright-bullfrog'</span> - Created task run 'get_play_pocket_metrics-c9059079-0' for task 'get_play_pocket_metrics'\n",
       "</pre>\n"
      ],
      "text/plain": [
       "01:00:46.195 | \u001b[36mINFO\u001b[0m    | Flow run\u001b[35m 'bright-bullfrog'\u001b[0m - Created task run 'get_play_pocket_metrics-c9059079-0' for task 'get_play_pocket_metrics'\n"
      ]
     },
     "metadata": {},
     "output_type": "display_data"
    },
    {
     "data": {
      "text/html": [
       "<pre style=\"white-space:pre;overflow-x:auto;line-height:normal;font-family:Menlo,'DejaVu Sans Mono',consolas,'Courier New',monospace\">01:00:46.197 | <span style=\"color: #008080; text-decoration-color: #008080\">INFO</span>    | Flow run<span style=\"color: #800080; text-decoration-color: #800080\"> 'bright-bullfrog'</span> - Executing 'get_play_pocket_metrics-c9059079-0' immediately...\n",
       "</pre>\n"
      ],
      "text/plain": [
       "01:00:46.197 | \u001b[36mINFO\u001b[0m    | Flow run\u001b[35m 'bright-bullfrog'\u001b[0m - Executing 'get_play_pocket_metrics-c9059079-0' immediately...\n"
      ]
     },
     "metadata": {},
     "output_type": "display_data"
    },
    {
     "data": {
      "text/html": [
       "<pre style=\"white-space:pre;overflow-x:auto;line-height:normal;font-family:Menlo,'DejaVu Sans Mono',consolas,'Courier New',monospace\">01:00:46.302 | <span style=\"color: #008080; text-decoration-color: #008080\">INFO</span>    | Task run 'get_play_pocket_metrics-c9059079-0' - Finished in state <span style=\"color: #008000; text-decoration-color: #008000\">Completed</span>()\n",
       "</pre>\n"
      ],
      "text/plain": [
       "01:00:46.302 | \u001b[36mINFO\u001b[0m    | Task run 'get_play_pocket_metrics-c9059079-0' - Finished in state \u001b[32mCompleted\u001b[0m()\n"
      ]
     },
     "metadata": {},
     "output_type": "display_data"
    },
    {
     "data": {
      "text/html": [
       "<pre style=\"white-space:pre;overflow-x:auto;line-height:normal;font-family:Menlo,'DejaVu Sans Mono',consolas,'Courier New',monospace\">01:00:46.332 | <span style=\"color: #008080; text-decoration-color: #008080\">INFO</span>    | Flow run<span style=\"color: #800080; text-decoration-color: #800080\"> 'bright-bullfrog'</span> - Created task run 'calculate_average_pocket_area_loss_per_second-c688e278-0' for task 'calculate_average_pocket_area_loss_per_second'\n",
       "</pre>\n"
      ],
      "text/plain": [
       "01:00:46.332 | \u001b[36mINFO\u001b[0m    | Flow run\u001b[35m 'bright-bullfrog'\u001b[0m - Created task run 'calculate_average_pocket_area_loss_per_second-c688e278-0' for task 'calculate_average_pocket_area_loss_per_second'\n"
      ]
     },
     "metadata": {},
     "output_type": "display_data"
    },
    {
     "data": {
      "text/html": [
       "<pre style=\"white-space:pre;overflow-x:auto;line-height:normal;font-family:Menlo,'DejaVu Sans Mono',consolas,'Courier New',monospace\">01:00:46.334 | <span style=\"color: #008080; text-decoration-color: #008080\">INFO</span>    | Flow run<span style=\"color: #800080; text-decoration-color: #800080\"> 'bright-bullfrog'</span> - Executing 'calculate_average_pocket_area_loss_per_second-c688e278-0' immediately...\n",
       "</pre>\n"
      ],
      "text/plain": [
       "01:00:46.334 | \u001b[36mINFO\u001b[0m    | Flow run\u001b[35m 'bright-bullfrog'\u001b[0m - Executing 'calculate_average_pocket_area_loss_per_second-c688e278-0' immediately...\n"
      ]
     },
     "metadata": {},
     "output_type": "display_data"
    },
    {
     "data": {
      "text/html": [
       "<pre style=\"white-space:pre;overflow-x:auto;line-height:normal;font-family:Menlo,'DejaVu Sans Mono',consolas,'Courier New',monospace\">01:00:46.430 | <span style=\"color: #008080; text-decoration-color: #008080\">INFO</span>    | Task run 'calculate_average_pocket_area_loss_per_second-c688e278-0' - Finished in state <span style=\"color: #008000; text-decoration-color: #008000\">Completed</span>()\n",
       "</pre>\n"
      ],
      "text/plain": [
       "01:00:46.430 | \u001b[36mINFO\u001b[0m    | Task run 'calculate_average_pocket_area_loss_per_second-c688e278-0' - Finished in state \u001b[32mCompleted\u001b[0m()\n"
      ]
     },
     "metadata": {},
     "output_type": "display_data"
    },
    {
     "data": {
      "text/html": [
       "<pre style=\"white-space:pre;overflow-x:auto;line-height:normal;font-family:Menlo,'DejaVu Sans Mono',consolas,'Courier New',monospace\">01:00:46.460 | <span style=\"color: #008080; text-decoration-color: #008080\">INFO</span>    | Flow run<span style=\"color: #800080; text-decoration-color: #800080\"> 'bright-bullfrog'</span> - Created task run 'write_csv-386fe2af-0' for task 'write_csv'\n",
       "</pre>\n"
      ],
      "text/plain": [
       "01:00:46.460 | \u001b[36mINFO\u001b[0m    | Flow run\u001b[35m 'bright-bullfrog'\u001b[0m - Created task run 'write_csv-386fe2af-0' for task 'write_csv'\n"
      ]
     },
     "metadata": {},
     "output_type": "display_data"
    },
    {
     "data": {
      "text/html": [
       "<pre style=\"white-space:pre;overflow-x:auto;line-height:normal;font-family:Menlo,'DejaVu Sans Mono',consolas,'Courier New',monospace\">01:00:46.462 | <span style=\"color: #008080; text-decoration-color: #008080\">INFO</span>    | Flow run<span style=\"color: #800080; text-decoration-color: #800080\"> 'bright-bullfrog'</span> - Executing 'write_csv-386fe2af-0' immediately...\n",
       "</pre>\n"
      ],
      "text/plain": [
       "01:00:46.462 | \u001b[36mINFO\u001b[0m    | Flow run\u001b[35m 'bright-bullfrog'\u001b[0m - Executing 'write_csv-386fe2af-0' immediately...\n"
      ]
     },
     "metadata": {},
     "output_type": "display_data"
    },
    {
     "data": {
      "text/html": [
       "<pre style=\"white-space:pre;overflow-x:auto;line-height:normal;font-family:Menlo,'DejaVu Sans Mono',consolas,'Courier New',monospace\">01:00:47.090 | <span style=\"color: #008080; text-decoration-color: #008080\">INFO</span>    | Task run 'write_csv-386fe2af-0' - Finished in state <span style=\"color: #008000; text-decoration-color: #008000\">Completed</span>()\n",
       "</pre>\n"
      ],
      "text/plain": [
       "01:00:47.090 | \u001b[36mINFO\u001b[0m    | Task run 'write_csv-386fe2af-0' - Finished in state \u001b[32mCompleted\u001b[0m()\n"
      ]
     },
     "metadata": {},
     "output_type": "display_data"
    },
    {
     "data": {
      "text/html": [
       "<pre style=\"white-space:pre;overflow-x:auto;line-height:normal;font-family:Menlo,'DejaVu Sans Mono',consolas,'Courier New',monospace\">01:00:47.130 | <span style=\"color: #008080; text-decoration-color: #008080\">INFO</span>    | Flow run<span style=\"color: #800080; text-decoration-color: #800080\"> 'bright-bullfrog'</span> - Created task run 'write_csv-386fe2af-1' for task 'write_csv'\n",
       "</pre>\n"
      ],
      "text/plain": [
       "01:00:47.130 | \u001b[36mINFO\u001b[0m    | Flow run\u001b[35m 'bright-bullfrog'\u001b[0m - Created task run 'write_csv-386fe2af-1' for task 'write_csv'\n"
      ]
     },
     "metadata": {},
     "output_type": "display_data"
    },
    {
     "data": {
      "text/html": [
       "<pre style=\"white-space:pre;overflow-x:auto;line-height:normal;font-family:Menlo,'DejaVu Sans Mono',consolas,'Courier New',monospace\">01:00:47.133 | <span style=\"color: #008080; text-decoration-color: #008080\">INFO</span>    | Flow run<span style=\"color: #800080; text-decoration-color: #800080\"> 'bright-bullfrog'</span> - Executing 'write_csv-386fe2af-1' immediately...\n",
       "</pre>\n"
      ],
      "text/plain": [
       "01:00:47.133 | \u001b[36mINFO\u001b[0m    | Flow run\u001b[35m 'bright-bullfrog'\u001b[0m - Executing 'write_csv-386fe2af-1' immediately...\n"
      ]
     },
     "metadata": {},
     "output_type": "display_data"
    },
    {
     "data": {
      "text/html": [
       "<pre style=\"white-space:pre;overflow-x:auto;line-height:normal;font-family:Menlo,'DejaVu Sans Mono',consolas,'Courier New',monospace\">01:00:47.223 | <span style=\"color: #008080; text-decoration-color: #008080\">INFO</span>    | Task run 'write_csv-386fe2af-1' - Finished in state <span style=\"color: #008000; text-decoration-color: #008000\">Completed</span>()\n",
       "</pre>\n"
      ],
      "text/plain": [
       "01:00:47.223 | \u001b[36mINFO\u001b[0m    | Task run 'write_csv-386fe2af-1' - Finished in state \u001b[32mCompleted\u001b[0m()\n"
      ]
     },
     "metadata": {},
     "output_type": "display_data"
    },
    {
     "data": {
      "text/html": [
       "<pre style=\"white-space:pre;overflow-x:auto;line-height:normal;font-family:Menlo,'DejaVu Sans Mono',consolas,'Courier New',monospace\">01:00:47.258 | <span style=\"color: #008080; text-decoration-color: #008080\">INFO</span>    | Flow run<span style=\"color: #800080; text-decoration-color: #800080\"> 'bright-bullfrog'</span> - Created task run 'write_csv-386fe2af-2' for task 'write_csv'\n",
       "</pre>\n"
      ],
      "text/plain": [
       "01:00:47.258 | \u001b[36mINFO\u001b[0m    | Flow run\u001b[35m 'bright-bullfrog'\u001b[0m - Created task run 'write_csv-386fe2af-2' for task 'write_csv'\n"
      ]
     },
     "metadata": {},
     "output_type": "display_data"
    },
    {
     "data": {
      "text/html": [
       "<pre style=\"white-space:pre;overflow-x:auto;line-height:normal;font-family:Menlo,'DejaVu Sans Mono',consolas,'Courier New',monospace\">01:00:47.260 | <span style=\"color: #008080; text-decoration-color: #008080\">INFO</span>    | Flow run<span style=\"color: #800080; text-decoration-color: #800080\"> 'bright-bullfrog'</span> - Executing 'write_csv-386fe2af-2' immediately...\n",
       "</pre>\n"
      ],
      "text/plain": [
       "01:00:47.260 | \u001b[36mINFO\u001b[0m    | Flow run\u001b[35m 'bright-bullfrog'\u001b[0m - Executing 'write_csv-386fe2af-2' immediately...\n"
      ]
     },
     "metadata": {},
     "output_type": "display_data"
    },
    {
     "data": {
      "text/html": [
       "<pre style=\"white-space:pre;overflow-x:auto;line-height:normal;font-family:Menlo,'DejaVu Sans Mono',consolas,'Courier New',monospace\">01:00:47.598 | <span style=\"color: #008080; text-decoration-color: #008080\">INFO</span>    | Task run 'write_csv-386fe2af-2' - Finished in state <span style=\"color: #008000; text-decoration-color: #008000\">Completed</span>()\n",
       "</pre>\n"
      ],
      "text/plain": [
       "01:00:47.598 | \u001b[36mINFO\u001b[0m    | Task run 'write_csv-386fe2af-2' - Finished in state \u001b[32mCompleted\u001b[0m()\n"
      ]
     },
     "metadata": {},
     "output_type": "display_data"
    },
    {
     "data": {
      "text/html": [
       "<pre style=\"white-space:pre;overflow-x:auto;line-height:normal;font-family:Menlo,'DejaVu Sans Mono',consolas,'Courier New',monospace\">01:00:47.653 | <span style=\"color: #008080; text-decoration-color: #008080\">INFO</span>    | Flow run<span style=\"color: #800080; text-decoration-color: #800080\"> 'bright-bullfrog'</span> - Created task run 'write_csv-386fe2af-3' for task 'write_csv'\n",
       "</pre>\n"
      ],
      "text/plain": [
       "01:00:47.653 | \u001b[36mINFO\u001b[0m    | Flow run\u001b[35m 'bright-bullfrog'\u001b[0m - Created task run 'write_csv-386fe2af-3' for task 'write_csv'\n"
      ]
     },
     "metadata": {},
     "output_type": "display_data"
    },
    {
     "data": {
      "text/html": [
       "<pre style=\"white-space:pre;overflow-x:auto;line-height:normal;font-family:Menlo,'DejaVu Sans Mono',consolas,'Courier New',monospace\">01:00:47.656 | <span style=\"color: #008080; text-decoration-color: #008080\">INFO</span>    | Flow run<span style=\"color: #800080; text-decoration-color: #800080\"> 'bright-bullfrog'</span> - Executing 'write_csv-386fe2af-3' immediately...\n",
       "</pre>\n"
      ],
      "text/plain": [
       "01:00:47.656 | \u001b[36mINFO\u001b[0m    | Flow run\u001b[35m 'bright-bullfrog'\u001b[0m - Executing 'write_csv-386fe2af-3' immediately...\n"
      ]
     },
     "metadata": {},
     "output_type": "display_data"
    },
    {
     "data": {
      "text/html": [
       "<pre style=\"white-space:pre;overflow-x:auto;line-height:normal;font-family:Menlo,'DejaVu Sans Mono',consolas,'Courier New',monospace\">01:00:47.763 | <span style=\"color: #008080; text-decoration-color: #008080\">INFO</span>    | Task run 'write_csv-386fe2af-3' - Finished in state <span style=\"color: #008000; text-decoration-color: #008000\">Completed</span>()\n",
       "</pre>\n"
      ],
      "text/plain": [
       "01:00:47.763 | \u001b[36mINFO\u001b[0m    | Task run 'write_csv-386fe2af-3' - Finished in state \u001b[32mCompleted\u001b[0m()\n"
      ]
     },
     "metadata": {},
     "output_type": "display_data"
    },
    {
     "data": {
      "text/html": [
       "<pre style=\"white-space:pre;overflow-x:auto;line-height:normal;font-family:Menlo,'DejaVu Sans Mono',consolas,'Courier New',monospace\">01:00:47.819 | <span style=\"color: #008080; text-decoration-color: #008080\">INFO</span>    | Flow run<span style=\"color: #800080; text-decoration-color: #800080\"> 'bright-bullfrog'</span> - Finished in state <span style=\"color: #008000; text-decoration-color: #008000\">Completed</span>('All states completed.')\n",
       "</pre>\n"
      ],
      "text/plain": [
       "01:00:47.819 | \u001b[36mINFO\u001b[0m    | Flow run\u001b[35m 'bright-bullfrog'\u001b[0m - Finished in state \u001b[32mCompleted\u001b[0m('All states completed.')\n"
      ]
     },
     "metadata": {},
     "output_type": "display_data"
    }
   ],
   "source": [
    "_ = main_flow(max_games=3, max_plays=3)"
   ]
  },
  {
   "cell_type": "code",
   "execution_count": 1,
   "id": "197ac5a4",
   "metadata": {},
   "outputs": [
    {
     "ename": "NameError",
     "evalue": "name 'pd' is not defined",
     "output_type": "error",
     "traceback": [
      "\u001b[0;31m---------------------------------------------------------------------------\u001b[0m",
      "\u001b[0;31mNameError\u001b[0m                                 Traceback (most recent call last)",
      "Cell \u001b[0;32mIn[1], line 1\u001b[0m\n\u001b[0;32m----> 1\u001b[0m df_play_metrics \u001b[38;5;241m=\u001b[39m \u001b[43mpd\u001b[49m\u001b[38;5;241m.\u001b[39mread_csv(\u001b[38;5;124mf\u001b[39m\u001b[38;5;124m\"\u001b[39m\u001b[38;5;132;01m{\u001b[39;00mDIR\u001b[38;5;132;01m}\u001b[39;00m\u001b[38;5;124m/data/outputs/play_metrics.csv\u001b[39m\u001b[38;5;124m\"\u001b[39m)\n\u001b[1;32m      2\u001b[0m df_plays \u001b[38;5;241m=\u001b[39m pd\u001b[38;5;241m.\u001b[39mread_csv(\u001b[38;5;124mf\u001b[39m\u001b[38;5;124m\"\u001b[39m\u001b[38;5;132;01m{\u001b[39;00mDIR\u001b[38;5;132;01m}\u001b[39;00m\u001b[38;5;124m/data/raw/plays.csv\u001b[39m\u001b[38;5;124m\"\u001b[39m)\n\u001b[1;32m      3\u001b[0m df_plays_group_one \u001b[38;5;241m=\u001b[39m df_plays\u001b[38;5;241m.\u001b[39mgroupby([\u001b[38;5;124m\"\u001b[39m\u001b[38;5;124mdown\u001b[39m\u001b[38;5;124m\"\u001b[39m, \u001b[38;5;124m\"\u001b[39m\u001b[38;5;124myardsToGo\u001b[39m\u001b[38;5;124m\"\u001b[39m])\u001b[38;5;241m.\u001b[39msum()\u001b[38;5;241m.\u001b[39mreset_index()\n",
      "\u001b[0;31mNameError\u001b[0m: name 'pd' is not defined"
     ]
    }
   ],
   "source": [
    "df_play_metrics = pd.read_csv(f\"{DIR}/data/outputs/play_metrics.csv\")\n",
    "df_plays = pd.read_csv(f\"{DIR}/data/raw/plays.csv\")\n",
    "df_plays_group_one = df_plays.groupby([\"down\", \"yardsToGo\"]).sum().reset_index()\n",
    "# df_plays_group_one.groupby(pd.cut(df_plays_group_one[\"yardsToGo\"], np.arange(1, 15, 3))).sum()\n",
    "df_seperated_downsXdistance = pd.DataFrame()\n",
    "for x in df_plays_group_one[\"down\"].unique():\n",
    "    df_query_one_to_three = df_plays_group_one.query(\"down == {} and yardsToGo >= 0 and yardsToGo <= 3\".format(x))\n",
    "    df_plays_group_two_point_one = df_query_one_to_three.groupby([\"down\"]).sum()\n",
    "    df_plays_group_two_point_one[\"yardsToGo\"] = \"1 to 3\"\n",
    "    df_query_four_to_six = df_plays_group_one.query(\"down == {} and yardsToGo >= 4 and yardsToGo <= 6\".format(x))\n",
    "    df_plays_group_two_point_two = df_query_four_to_six.groupby([\"down\"]).sum()\n",
    "    df_plays_group_two_point_two[\"yardsToGo\"] = \"4 to 6\"\n",
    "    df_query_seven_to_nine = df_plays_group_one.query(\"down == {} and yardsToGo >= 7 and yardsToGo <= 9\".format(x))\n",
    "    df_plays_group_two_point_three = df_query_seven_to_nine.groupby([\"down\"]).sum()\n",
    "    df_plays_group_two_point_three[\"yardsToGo\"] = \"7 to 9\"\n",
    "    df_query_ten_plus = df_plays_group_one.query(\"down == {} and yardsToGo >= 10\".format(x))\n",
    "    df_plays_group_two_point_four = df_query_ten_plus.groupby([\"down\"]).sum()\n",
    "    df_plays_group_two_point_four[\"yardsToGo\"] = \"10+\"\n",
    "    df_seperated_downsXdistance = pd.concat([df_seperated_downsXdistance, df_plays_group_two_point_one, df_plays_group_two_point_two, df_plays_group_two_point_three, df_plays_group_two_point_four])\n",
    "#     df_seperated_downsXdistance = pd.concat([df_seperated_downsXdistance, df_plays_group_two_point_one])\n",
    "\n",
    "df_plays_group_one"
   ]
  },
  {
   "cell_type": "code",
   "execution_count": 10,
   "id": "872a3a62",
   "metadata": {},
   "outputs": [
    {
     "name": "stderr",
     "output_type": "stream",
     "text": [
      "/tmp/ipykernel_5234/3405367752.py:1: FutureWarning: The default value of numeric_only in DataFrameGroupBy.sum is deprecated. In a future version, numeric_only will default to False. Either specify numeric_only or select only columns which should be valid for the function.\n",
      "  df_plays.groupby(['down', pd.cut(df_plays[\"yardsToGo\"], np.arange(0, 15, 3))]).sum()\n"
     ]
    },
    {
     "data": {
      "text/html": [
       "<div>\n",
       "<style scoped>\n",
       "    .dataframe tbody tr th:only-of-type {\n",
       "        vertical-align: middle;\n",
       "    }\n",
       "\n",
       "    .dataframe tbody tr th {\n",
       "        vertical-align: top;\n",
       "    }\n",
       "\n",
       "    .dataframe thead th {\n",
       "        text-align: right;\n",
       "    }\n",
       "</style>\n",
       "<table border=\"1\" class=\"dataframe\">\n",
       "  <thead>\n",
       "    <tr style=\"text-align: right;\">\n",
       "      <th></th>\n",
       "      <th></th>\n",
       "      <th>gameId</th>\n",
       "      <th>playId</th>\n",
       "      <th>quarter</th>\n",
       "      <th>yardsToGo</th>\n",
       "      <th>yardlineNumber</th>\n",
       "      <th>preSnapHomeScore</th>\n",
       "      <th>preSnapVisitorScore</th>\n",
       "      <th>penaltyYards</th>\n",
       "      <th>prePenaltyPlayResult</th>\n",
       "      <th>playResult</th>\n",
       "      <th>foulNFLId1</th>\n",
       "      <th>foulNFLId2</th>\n",
       "      <th>foulNFLId3</th>\n",
       "      <th>absoluteYardlineNumber</th>\n",
       "      <th>defendersInBox</th>\n",
       "      <th>pff_playAction</th>\n",
       "    </tr>\n",
       "    <tr>\n",
       "      <th>down</th>\n",
       "      <th>yardsToGo</th>\n",
       "      <th></th>\n",
       "      <th></th>\n",
       "      <th></th>\n",
       "      <th></th>\n",
       "      <th></th>\n",
       "      <th></th>\n",
       "      <th></th>\n",
       "      <th></th>\n",
       "      <th></th>\n",
       "      <th></th>\n",
       "      <th></th>\n",
       "      <th></th>\n",
       "      <th></th>\n",
       "      <th></th>\n",
       "      <th></th>\n",
       "      <th></th>\n",
       "    </tr>\n",
       "  </thead>\n",
       "  <tbody>\n",
       "    <tr>\n",
       "      <th rowspan=\"4\" valign=\"top\">0</th>\n",
       "      <th>(0, 3]</th>\n",
       "      <td>0</td>\n",
       "      <td>0</td>\n",
       "      <td>0</td>\n",
       "      <td>0</td>\n",
       "      <td>0</td>\n",
       "      <td>0</td>\n",
       "      <td>0</td>\n",
       "      <td>0.0</td>\n",
       "      <td>0</td>\n",
       "      <td>0</td>\n",
       "      <td>0.0</td>\n",
       "      <td>0.0</td>\n",
       "      <td>0.0</td>\n",
       "      <td>0.0</td>\n",
       "      <td>0.0</td>\n",
       "      <td>0</td>\n",
       "    </tr>\n",
       "    <tr>\n",
       "      <th>(3, 6]</th>\n",
       "      <td>0</td>\n",
       "      <td>0</td>\n",
       "      <td>0</td>\n",
       "      <td>0</td>\n",
       "      <td>0</td>\n",
       "      <td>0</td>\n",
       "      <td>0</td>\n",
       "      <td>0.0</td>\n",
       "      <td>0</td>\n",
       "      <td>0</td>\n",
       "      <td>0.0</td>\n",
       "      <td>0.0</td>\n",
       "      <td>0.0</td>\n",
       "      <td>0.0</td>\n",
       "      <td>0.0</td>\n",
       "      <td>0</td>\n",
       "    </tr>\n",
       "    <tr>\n",
       "      <th>(6, 9]</th>\n",
       "      <td>0</td>\n",
       "      <td>0</td>\n",
       "      <td>0</td>\n",
       "      <td>0</td>\n",
       "      <td>0</td>\n",
       "      <td>0</td>\n",
       "      <td>0</td>\n",
       "      <td>0.0</td>\n",
       "      <td>0</td>\n",
       "      <td>0</td>\n",
       "      <td>0.0</td>\n",
       "      <td>0.0</td>\n",
       "      <td>0.0</td>\n",
       "      <td>0.0</td>\n",
       "      <td>0.0</td>\n",
       "      <td>0</td>\n",
       "    </tr>\n",
       "    <tr>\n",
       "      <th>(9, 12]</th>\n",
       "      <td>0</td>\n",
       "      <td>0</td>\n",
       "      <td>0</td>\n",
       "      <td>0</td>\n",
       "      <td>0</td>\n",
       "      <td>0</td>\n",
       "      <td>0</td>\n",
       "      <td>0.0</td>\n",
       "      <td>0</td>\n",
       "      <td>0</td>\n",
       "      <td>0.0</td>\n",
       "      <td>0.0</td>\n",
       "      <td>0.0</td>\n",
       "      <td>0.0</td>\n",
       "      <td>0.0</td>\n",
       "      <td>0</td>\n",
       "    </tr>\n",
       "    <tr>\n",
       "      <th rowspan=\"4\" valign=\"top\">1</th>\n",
       "      <th>(0, 3]</th>\n",
       "      <td>66696265276</td>\n",
       "      <td>66326</td>\n",
       "      <td>77</td>\n",
       "      <td>58</td>\n",
       "      <td>58</td>\n",
       "      <td>298</td>\n",
       "      <td>303</td>\n",
       "      <td>-2.0</td>\n",
       "      <td>26</td>\n",
       "      <td>23</td>\n",
       "      <td>196169.0</td>\n",
       "      <td>45069.0</td>\n",
       "      <td>0.0</td>\n",
       "      <td>1930.0</td>\n",
       "      <td>269.0</td>\n",
       "      <td>22</td>\n",
       "    </tr>\n",
       "    <tr>\n",
       "      <th>(3, 6]</th>\n",
       "      <td>94991603341</td>\n",
       "      <td>99067</td>\n",
       "      <td>121</td>\n",
       "      <td>238</td>\n",
       "      <td>577</td>\n",
       "      <td>507</td>\n",
       "      <td>459</td>\n",
       "      <td>10.0</td>\n",
       "      <td>135</td>\n",
       "      <td>145</td>\n",
       "      <td>277361.0</td>\n",
       "      <td>48118.0</td>\n",
       "      <td>0.0</td>\n",
       "      <td>2755.0</td>\n",
       "      <td>311.0</td>\n",
       "      <td>16</td>\n",
       "    </tr>\n",
       "    <tr>\n",
       "      <th>(6, 9]</th>\n",
       "      <td>111160407341</td>\n",
       "      <td>148744</td>\n",
       "      <td>167</td>\n",
       "      <td>442</td>\n",
       "      <td>442</td>\n",
       "      <td>812</td>\n",
       "      <td>756</td>\n",
       "      <td>4.0</td>\n",
       "      <td>146</td>\n",
       "      <td>122</td>\n",
       "      <td>192454.0</td>\n",
       "      <td>0.0</td>\n",
       "      <td>0.0</td>\n",
       "      <td>2762.0</td>\n",
       "      <td>349.0</td>\n",
       "      <td>14</td>\n",
       "    </tr>\n",
       "    <tr>\n",
       "      <th>(9, 12]</th>\n",
       "      <td>5582272152465</td>\n",
       "      <td>5907045</td>\n",
       "      <td>7160</td>\n",
       "      <td>27629</td>\n",
       "      <td>86693</td>\n",
       "      <td>32075</td>\n",
       "      <td>31365</td>\n",
       "      <td>740.0</td>\n",
       "      <td>20115</td>\n",
       "      <td>20043</td>\n",
       "      <td>9166509.0</td>\n",
       "      <td>472891.0</td>\n",
       "      <td>46190.0</td>\n",
       "      <td>163852.0</td>\n",
       "      <td>17065.0</td>\n",
       "      <td>1144</td>\n",
       "    </tr>\n",
       "    <tr>\n",
       "      <th rowspan=\"4\" valign=\"top\">2</th>\n",
       "      <th>(0, 3]</th>\n",
       "      <td>517400995672</td>\n",
       "      <td>597752</td>\n",
       "      <td>696</td>\n",
       "      <td>567</td>\n",
       "      <td>7355</td>\n",
       "      <td>3286</td>\n",
       "      <td>3022</td>\n",
       "      <td>148.0</td>\n",
       "      <td>1491</td>\n",
       "      <td>1571</td>\n",
       "      <td>1223861.0</td>\n",
       "      <td>0.0</td>\n",
       "      <td>0.0</td>\n",
       "      <td>15455.0</td>\n",
       "      <td>1610.0</td>\n",
       "      <td>83</td>\n",
       "    </tr>\n",
       "    <tr>\n",
       "      <th>(3, 6]</th>\n",
       "      <td>1168194523908</td>\n",
       "      <td>1240104</td>\n",
       "      <td>1509</td>\n",
       "      <td>2997</td>\n",
       "      <td>17056</td>\n",
       "      <td>6613</td>\n",
       "      <td>6705</td>\n",
       "      <td>27.0</td>\n",
       "      <td>3903</td>\n",
       "      <td>3863</td>\n",
       "      <td>1402086.0</td>\n",
       "      <td>46269.0</td>\n",
       "      <td>0.0</td>\n",
       "      <td>34264.0</td>\n",
       "      <td>3567.0</td>\n",
       "      <td>175</td>\n",
       "    </tr>\n",
       "    <tr>\n",
       "      <th>(6, 9]</th>\n",
       "      <td>1588582790072</td>\n",
       "      <td>1592307</td>\n",
       "      <td>2003</td>\n",
       "      <td>6275</td>\n",
       "      <td>22680</td>\n",
       "      <td>8576</td>\n",
       "      <td>8233</td>\n",
       "      <td>71.0</td>\n",
       "      <td>5591</td>\n",
       "      <td>5429</td>\n",
       "      <td>2481866.0</td>\n",
       "      <td>152000.0</td>\n",
       "      <td>0.0</td>\n",
       "      <td>47904.0</td>\n",
       "      <td>4873.0</td>\n",
       "      <td>248</td>\n",
       "    </tr>\n",
       "    <tr>\n",
       "      <th>(9, 12]</th>\n",
       "      <td>1788671662966</td>\n",
       "      <td>2049554</td>\n",
       "      <td>2420</td>\n",
       "      <td>9131</td>\n",
       "      <td>27582</td>\n",
       "      <td>11345</td>\n",
       "      <td>10809</td>\n",
       "      <td>230.0</td>\n",
       "      <td>5734</td>\n",
       "      <td>5857</td>\n",
       "      <td>3416906.0</td>\n",
       "      <td>98706.0</td>\n",
       "      <td>0.0</td>\n",
       "      <td>52792.0</td>\n",
       "      <td>5206.0</td>\n",
       "      <td>132</td>\n",
       "    </tr>\n",
       "    <tr>\n",
       "      <th rowspan=\"4\" valign=\"top\">3</th>\n",
       "      <th>(0, 3]</th>\n",
       "      <td>941831529232</td>\n",
       "      <td>952069</td>\n",
       "      <td>1183</td>\n",
       "      <td>1032</td>\n",
       "      <td>13947</td>\n",
       "      <td>5296</td>\n",
       "      <td>4762</td>\n",
       "      <td>240.0</td>\n",
       "      <td>2839</td>\n",
       "      <td>3053</td>\n",
       "      <td>2102234.0</td>\n",
       "      <td>44955.0</td>\n",
       "      <td>0.0</td>\n",
       "      <td>28493.0</td>\n",
       "      <td>2943.0</td>\n",
       "      <td>70</td>\n",
       "    </tr>\n",
       "    <tr>\n",
       "      <th>(3, 6]</th>\n",
       "      <td>1400620734326</td>\n",
       "      <td>1374099</td>\n",
       "      <td>1722</td>\n",
       "      <td>3457</td>\n",
       "      <td>20267</td>\n",
       "      <td>7217</td>\n",
       "      <td>7071</td>\n",
       "      <td>292.0</td>\n",
       "      <td>3639</td>\n",
       "      <td>3698</td>\n",
       "      <td>3869420.0</td>\n",
       "      <td>106079.0</td>\n",
       "      <td>0.0</td>\n",
       "      <td>40929.0</td>\n",
       "      <td>4047.0</td>\n",
       "      <td>19</td>\n",
       "    </tr>\n",
       "    <tr>\n",
       "      <th>(6, 9]</th>\n",
       "      <td>1115645908735</td>\n",
       "      <td>1101919</td>\n",
       "      <td>1380</td>\n",
       "      <td>4347</td>\n",
       "      <td>16332</td>\n",
       "      <td>5818</td>\n",
       "      <td>5454</td>\n",
       "      <td>229.0</td>\n",
       "      <td>3142</td>\n",
       "      <td>3253</td>\n",
       "      <td>2978033.0</td>\n",
       "      <td>129828.0</td>\n",
       "      <td>0.0</td>\n",
       "      <td>31828.0</td>\n",
       "      <td>3101.0</td>\n",
       "      <td>6</td>\n",
       "    </tr>\n",
       "    <tr>\n",
       "      <th>(9, 12]</th>\n",
       "      <td>858966618395</td>\n",
       "      <td>957104</td>\n",
       "      <td>1142</td>\n",
       "      <td>4491</td>\n",
       "      <td>12805</td>\n",
       "      <td>5247</td>\n",
       "      <td>4987</td>\n",
       "      <td>150.0</td>\n",
       "      <td>2666</td>\n",
       "      <td>2743</td>\n",
       "      <td>1806799.0</td>\n",
       "      <td>138804.0</td>\n",
       "      <td>0.0</td>\n",
       "      <td>24883.0</td>\n",
       "      <td>2385.0</td>\n",
       "      <td>5</td>\n",
       "    </tr>\n",
       "    <tr>\n",
       "      <th rowspan=\"4\" valign=\"top\">4</th>\n",
       "      <th>(0, 3]</th>\n",
       "      <td>206152054711</td>\n",
       "      <td>222545</td>\n",
       "      <td>270</td>\n",
       "      <td>190</td>\n",
       "      <td>2468</td>\n",
       "      <td>1205</td>\n",
       "      <td>1163</td>\n",
       "      <td>23.0</td>\n",
       "      <td>430</td>\n",
       "      <td>464</td>\n",
       "      <td>413260.0</td>\n",
       "      <td>0.0</td>\n",
       "      <td>0.0</td>\n",
       "      <td>6282.0</td>\n",
       "      <td>670.0</td>\n",
       "      <td>21</td>\n",
       "    </tr>\n",
       "    <tr>\n",
       "      <th>(3, 6]</th>\n",
       "      <td>117223680371</td>\n",
       "      <td>160233</td>\n",
       "      <td>185</td>\n",
       "      <td>272</td>\n",
       "      <td>2057</td>\n",
       "      <td>902</td>\n",
       "      <td>804</td>\n",
       "      <td>13.0</td>\n",
       "      <td>300</td>\n",
       "      <td>283</td>\n",
       "      <td>247355.0</td>\n",
       "      <td>0.0</td>\n",
       "      <td>0.0</td>\n",
       "      <td>3279.0</td>\n",
       "      <td>333.0</td>\n",
       "      <td>1</td>\n",
       "    </tr>\n",
       "    <tr>\n",
       "      <th>(6, 9]</th>\n",
       "      <td>40421961411</td>\n",
       "      <td>71274</td>\n",
       "      <td>74</td>\n",
       "      <td>155</td>\n",
       "      <td>620</td>\n",
       "      <td>419</td>\n",
       "      <td>409</td>\n",
       "      <td>33.0</td>\n",
       "      <td>194</td>\n",
       "      <td>209</td>\n",
       "      <td>138458.0</td>\n",
       "      <td>0.0</td>\n",
       "      <td>0.0</td>\n",
       "      <td>1226.0</td>\n",
       "      <td>108.0</td>\n",
       "      <td>1</td>\n",
       "    </tr>\n",
       "    <tr>\n",
       "      <th>(9, 12]</th>\n",
       "      <td>62654036251</td>\n",
       "      <td>112156</td>\n",
       "      <td>115</td>\n",
       "      <td>321</td>\n",
       "      <td>1090</td>\n",
       "      <td>648</td>\n",
       "      <td>593</td>\n",
       "      <td>22.0</td>\n",
       "      <td>95</td>\n",
       "      <td>117</td>\n",
       "      <td>91450.0</td>\n",
       "      <td>0.0</td>\n",
       "      <td>0.0</td>\n",
       "      <td>1788.0</td>\n",
       "      <td>162.0</td>\n",
       "      <td>0</td>\n",
       "    </tr>\n",
       "  </tbody>\n",
       "</table>\n",
       "</div>"
      ],
      "text/plain": [
       "                       gameId   playId  quarter  yardsToGo  yardlineNumber  \\\n",
       "down yardsToGo                                                               \n",
       "0    (0, 3]                 0        0        0          0               0   \n",
       "     (3, 6]                 0        0        0          0               0   \n",
       "     (6, 9]                 0        0        0          0               0   \n",
       "     (9, 12]                0        0        0          0               0   \n",
       "1    (0, 3]       66696265276    66326       77         58              58   \n",
       "     (3, 6]       94991603341    99067      121        238             577   \n",
       "     (6, 9]      111160407341   148744      167        442             442   \n",
       "     (9, 12]    5582272152465  5907045     7160      27629           86693   \n",
       "2    (0, 3]      517400995672   597752      696        567            7355   \n",
       "     (3, 6]     1168194523908  1240104     1509       2997           17056   \n",
       "     (6, 9]     1588582790072  1592307     2003       6275           22680   \n",
       "     (9, 12]    1788671662966  2049554     2420       9131           27582   \n",
       "3    (0, 3]      941831529232   952069     1183       1032           13947   \n",
       "     (3, 6]     1400620734326  1374099     1722       3457           20267   \n",
       "     (6, 9]     1115645908735  1101919     1380       4347           16332   \n",
       "     (9, 12]     858966618395   957104     1142       4491           12805   \n",
       "4    (0, 3]      206152054711   222545      270        190            2468   \n",
       "     (3, 6]      117223680371   160233      185        272            2057   \n",
       "     (6, 9]       40421961411    71274       74        155             620   \n",
       "     (9, 12]      62654036251   112156      115        321            1090   \n",
       "\n",
       "                preSnapHomeScore  preSnapVisitorScore  penaltyYards  \\\n",
       "down yardsToGo                                                        \n",
       "0    (0, 3]                    0                    0           0.0   \n",
       "     (3, 6]                    0                    0           0.0   \n",
       "     (6, 9]                    0                    0           0.0   \n",
       "     (9, 12]                   0                    0           0.0   \n",
       "1    (0, 3]                  298                  303          -2.0   \n",
       "     (3, 6]                  507                  459          10.0   \n",
       "     (6, 9]                  812                  756           4.0   \n",
       "     (9, 12]               32075                31365         740.0   \n",
       "2    (0, 3]                 3286                 3022         148.0   \n",
       "     (3, 6]                 6613                 6705          27.0   \n",
       "     (6, 9]                 8576                 8233          71.0   \n",
       "     (9, 12]               11345                10809         230.0   \n",
       "3    (0, 3]                 5296                 4762         240.0   \n",
       "     (3, 6]                 7217                 7071         292.0   \n",
       "     (6, 9]                 5818                 5454         229.0   \n",
       "     (9, 12]                5247                 4987         150.0   \n",
       "4    (0, 3]                 1205                 1163          23.0   \n",
       "     (3, 6]                  902                  804          13.0   \n",
       "     (6, 9]                  419                  409          33.0   \n",
       "     (9, 12]                 648                  593          22.0   \n",
       "\n",
       "                prePenaltyPlayResult  playResult  foulNFLId1  foulNFLId2  \\\n",
       "down yardsToGo                                                             \n",
       "0    (0, 3]                        0           0         0.0         0.0   \n",
       "     (3, 6]                        0           0         0.0         0.0   \n",
       "     (6, 9]                        0           0         0.0         0.0   \n",
       "     (9, 12]                       0           0         0.0         0.0   \n",
       "1    (0, 3]                       26          23    196169.0     45069.0   \n",
       "     (3, 6]                      135         145    277361.0     48118.0   \n",
       "     (6, 9]                      146         122    192454.0         0.0   \n",
       "     (9, 12]                   20115       20043   9166509.0    472891.0   \n",
       "2    (0, 3]                     1491        1571   1223861.0         0.0   \n",
       "     (3, 6]                     3903        3863   1402086.0     46269.0   \n",
       "     (6, 9]                     5591        5429   2481866.0    152000.0   \n",
       "     (9, 12]                    5734        5857   3416906.0     98706.0   \n",
       "3    (0, 3]                     2839        3053   2102234.0     44955.0   \n",
       "     (3, 6]                     3639        3698   3869420.0    106079.0   \n",
       "     (6, 9]                     3142        3253   2978033.0    129828.0   \n",
       "     (9, 12]                    2666        2743   1806799.0    138804.0   \n",
       "4    (0, 3]                      430         464    413260.0         0.0   \n",
       "     (3, 6]                      300         283    247355.0         0.0   \n",
       "     (6, 9]                      194         209    138458.0         0.0   \n",
       "     (9, 12]                      95         117     91450.0         0.0   \n",
       "\n",
       "                foulNFLId3  absoluteYardlineNumber  defendersInBox  \\\n",
       "down yardsToGo                                                       \n",
       "0    (0, 3]            0.0                     0.0             0.0   \n",
       "     (3, 6]            0.0                     0.0             0.0   \n",
       "     (6, 9]            0.0                     0.0             0.0   \n",
       "     (9, 12]           0.0                     0.0             0.0   \n",
       "1    (0, 3]            0.0                  1930.0           269.0   \n",
       "     (3, 6]            0.0                  2755.0           311.0   \n",
       "     (6, 9]            0.0                  2762.0           349.0   \n",
       "     (9, 12]       46190.0                163852.0         17065.0   \n",
       "2    (0, 3]            0.0                 15455.0          1610.0   \n",
       "     (3, 6]            0.0                 34264.0          3567.0   \n",
       "     (6, 9]            0.0                 47904.0          4873.0   \n",
       "     (9, 12]           0.0                 52792.0          5206.0   \n",
       "3    (0, 3]            0.0                 28493.0          2943.0   \n",
       "     (3, 6]            0.0                 40929.0          4047.0   \n",
       "     (6, 9]            0.0                 31828.0          3101.0   \n",
       "     (9, 12]           0.0                 24883.0          2385.0   \n",
       "4    (0, 3]            0.0                  6282.0           670.0   \n",
       "     (3, 6]            0.0                  3279.0           333.0   \n",
       "     (6, 9]            0.0                  1226.0           108.0   \n",
       "     (9, 12]           0.0                  1788.0           162.0   \n",
       "\n",
       "                pff_playAction  \n",
       "down yardsToGo                  \n",
       "0    (0, 3]                  0  \n",
       "     (3, 6]                  0  \n",
       "     (6, 9]                  0  \n",
       "     (9, 12]                 0  \n",
       "1    (0, 3]                 22  \n",
       "     (3, 6]                 16  \n",
       "     (6, 9]                 14  \n",
       "     (9, 12]              1144  \n",
       "2    (0, 3]                 83  \n",
       "     (3, 6]                175  \n",
       "     (6, 9]                248  \n",
       "     (9, 12]               132  \n",
       "3    (0, 3]                 70  \n",
       "     (3, 6]                 19  \n",
       "     (6, 9]                  6  \n",
       "     (9, 12]                 5  \n",
       "4    (0, 3]                 21  \n",
       "     (3, 6]                  1  \n",
       "     (6, 9]                  1  \n",
       "     (9, 12]                 0  "
      ]
     },
     "execution_count": 10,
     "metadata": {},
     "output_type": "execute_result"
    }
   ],
   "source": [
    "df_plays.groupby(['down', pd.cut(df_plays[\"yardsToGo\"], np.arange(0, 15, 3))]).sum()"
   ]
  },
  {
   "cell_type": "code",
   "execution_count": 11,
   "id": "ec5786a8",
   "metadata": {},
   "outputs": [],
   "source": []
  },
  {
   "cell_type": "code",
   "execution_count": 5,
   "id": "5236828f",
   "metadata": {},
   "outputs": [
    {
     "ename": "NameError",
     "evalue": "name 'calculate_down_and_distance_pocket_loss_average' is not defined",
     "output_type": "error",
     "traceback": [
      "\u001b[0;31m---------------------------------------------------------------------------\u001b[0m",
      "\u001b[0;31mNameError\u001b[0m                                 Traceback (most recent call last)",
      "Cell \u001b[0;32mIn[5], line 1\u001b[0m\n\u001b[0;32m----> 1\u001b[0m \u001b[43mcalculate_down_and_distance_pocket_loss_average\u001b[49m(df_play_metrics)\n",
      "\u001b[0;31mNameError\u001b[0m: name 'calculate_down_and_distance_pocket_loss_average' is not defined"
     ]
    }
   ],
   "source": [
    "calculate_down_and_distance_pocket_loss_average(df_play_metrics)"
   ]
  },
  {
   "cell_type": "code",
   "execution_count": 19,
   "id": "37c7a4b2",
   "metadata": {},
   "outputs": [],
   "source": [
    "df_play_metrics = pd.read_csv(f\"{DIR}/data/outputs/play_metrics.csv\")\n",
    "df_plays = pd.read_csv(f\"{DIR}/data/raw/plays.csv\")\n",
    "\n",
    "def calculate_down_and_distance_pocket_loss_average_method_two(\n",
    "    df_average_loss: pd.DataFrame)-> pd.DataFrame:\n",
    "    \"\"\"\n",
    "    This method will create a dataframe that looks at average pocket loss across the NFL based on down and distance\n",
    "    \n",
    "    Four distance buckets:\n",
    "        - 1 to 3 yards\n",
    "        - 4 to 6 yards\n",
    "        - 7 to 9 yards\n",
    "        - 10+ yards\n",
    "    \n",
    "    Parameters:\n",
    "        df_average_loss:\n",
    "        - gameId (PK)\n",
    "        - playId (PK)\n",
    "        - method (PK)\n",
    "        - window_type (PK)\n",
    "        - average_pocket_loss_per_second\n",
    "        \n",
    "    Returns:\n",
    "        df_out:\n",
    "        - Down (PK)\n",
    "        - Distance_Start (PK)\n",
    "        - Distance_End (PK)\n",
    "        - method (PK)\n",
    "        - window_type (PK)\n",
    "        - average_pocket_loss_per_second\n",
    "    \"\"\"\n",
    "    df = pd.DataFrame(df_average_loss)\n",
    "    #df_plays might be passed to \n",
    "    df_lossXplays = df.merge(df_plays[[\"gameId\", \"playId\", \"down\", \"yardsToGo\"]], how = \"left\", on=[\"gameId\", \"playId\"]).rename(columns = {\"yardsToGo\" : \"distance\"})\n",
    "\n",
    "    #Simpler code that seperates plays into buckets and average numbers o\n",
    "    df_out = df_lossXplays.groupby(['down', pd.cut(df_lossXplays[\"distance\"], [0, 4, 7, 10, 15]), \"method\", \"window_type\"]).mean(numeric_only = True)\n",
    "    \n",
    "    return df_out.dropna()"
   ]
  },
  {
   "cell_type": "code",
   "execution_count": 20,
   "id": "a8813968",
   "metadata": {},
   "outputs": [
    {
     "name": "stdout",
     "output_type": "stream",
     "text": [
      "Index(['gameId', 'playId', 'method', 'window_type', 'event_x', 'frame_start_x',\n",
      "       'frame_end_x', 'passer_out_of_pocket_x', 'eligible_for_pocket_x',\n",
      "       'pass_frame_x', 'frames_elapsed_x', 'window_size_x', 'total_frames_x',\n",
      "       'frame_before_pass_x', 'pocket_x', 'area_start', 'event_y',\n",
      "       'frame_start_y', 'frame_end_y', 'passer_out_of_pocket_y',\n",
      "       'eligible_for_pocket_y', 'pass_frame_y', 'frames_elapsed_y',\n",
      "       'window_size_y', 'total_frames_y', 'frame_before_pass_y', 'pocket_y',\n",
      "       'area_end', 'time_start', 'time_end',\n",
      "       'average_pocket_area_loss_per_second', 'down', 'distance',\n",
      "       'play_count'],\n",
      "      dtype='object')\n"
     ]
    },
    {
     "data": {
      "text/html": [
       "<div>\n",
       "<style scoped>\n",
       "    .dataframe tbody tr th:only-of-type {\n",
       "        vertical-align: middle;\n",
       "    }\n",
       "\n",
       "    .dataframe tbody tr th {\n",
       "        vertical-align: top;\n",
       "    }\n",
       "\n",
       "    .dataframe thead th {\n",
       "        text-align: right;\n",
       "    }\n",
       "</style>\n",
       "<table border=\"1\" class=\"dataframe\">\n",
       "  <thead>\n",
       "    <tr style=\"text-align: right;\">\n",
       "      <th></th>\n",
       "      <th></th>\n",
       "      <th></th>\n",
       "      <th></th>\n",
       "      <th>gameId</th>\n",
       "      <th>playId</th>\n",
       "      <th>frame_start_x</th>\n",
       "      <th>frame_end_x</th>\n",
       "      <th>passer_out_of_pocket_x</th>\n",
       "      <th>eligible_for_pocket_x</th>\n",
       "      <th>pass_frame_x</th>\n",
       "      <th>frames_elapsed_x</th>\n",
       "      <th>window_size_x</th>\n",
       "      <th>total_frames_x</th>\n",
       "      <th>...</th>\n",
       "      <th>frames_elapsed_y</th>\n",
       "      <th>window_size_y</th>\n",
       "      <th>total_frames_y</th>\n",
       "      <th>frame_before_pass_y</th>\n",
       "      <th>area_end</th>\n",
       "      <th>time_start</th>\n",
       "      <th>time_end</th>\n",
       "      <th>average_pocket_area_loss_per_second</th>\n",
       "      <th>distance</th>\n",
       "      <th>play_count</th>\n",
       "    </tr>\n",
       "    <tr>\n",
       "      <th>down</th>\n",
       "      <th>distance</th>\n",
       "      <th>method</th>\n",
       "      <th>window_type</th>\n",
       "      <th></th>\n",
       "      <th></th>\n",
       "      <th></th>\n",
       "      <th></th>\n",
       "      <th></th>\n",
       "      <th></th>\n",
       "      <th></th>\n",
       "      <th></th>\n",
       "      <th></th>\n",
       "      <th></th>\n",
       "      <th></th>\n",
       "      <th></th>\n",
       "      <th></th>\n",
       "      <th></th>\n",
       "      <th></th>\n",
       "      <th></th>\n",
       "      <th></th>\n",
       "      <th></th>\n",
       "      <th></th>\n",
       "      <th></th>\n",
       "      <th></th>\n",
       "    </tr>\n",
       "  </thead>\n",
       "  <tbody>\n",
       "    <tr>\n",
       "      <th rowspan=\"4\" valign=\"top\">1</th>\n",
       "      <th rowspan=\"4\" valign=\"top\">(7, 10]</th>\n",
       "      <th rowspan=\"2\" valign=\"top\">blocker_convex_hull</th>\n",
       "      <th>after_snap</th>\n",
       "      <td>2.021091e+09</td>\n",
       "      <td>85.333333</td>\n",
       "      <td>6.0</td>\n",
       "      <td>30.666667</td>\n",
       "      <td>0.0</td>\n",
       "      <td>1.0</td>\n",
       "      <td>30.666667</td>\n",
       "      <td>0.000000</td>\n",
       "      <td>20.0</td>\n",
       "      <td>24.666667</td>\n",
       "      <td>...</td>\n",
       "      <td>20.000000</td>\n",
       "      <td>20.0</td>\n",
       "      <td>24.666667</td>\n",
       "      <td>10.666667</td>\n",
       "      <td>18.145600</td>\n",
       "      <td>0.600000</td>\n",
       "      <td>2.600000</td>\n",
       "      <td>3.095633</td>\n",
       "      <td>10.0</td>\n",
       "      <td>1.0</td>\n",
       "    </tr>\n",
       "    <tr>\n",
       "      <th>before_pass</th>\n",
       "      <td>2.021091e+09</td>\n",
       "      <td>85.333333</td>\n",
       "      <td>6.0</td>\n",
       "      <td>30.666667</td>\n",
       "      <td>0.0</td>\n",
       "      <td>1.0</td>\n",
       "      <td>30.666667</td>\n",
       "      <td>4.666667</td>\n",
       "      <td>20.0</td>\n",
       "      <td>24.666667</td>\n",
       "      <td>...</td>\n",
       "      <td>24.666667</td>\n",
       "      <td>20.0</td>\n",
       "      <td>24.666667</td>\n",
       "      <td>10.666667</td>\n",
       "      <td>17.825800</td>\n",
       "      <td>1.066667</td>\n",
       "      <td>3.066667</td>\n",
       "      <td>3.125883</td>\n",
       "      <td>10.0</td>\n",
       "      <td>1.0</td>\n",
       "    </tr>\n",
       "    <tr>\n",
       "      <th rowspan=\"2\" valign=\"top\">passer_radius</th>\n",
       "      <th>after_snap</th>\n",
       "      <td>2.021091e+09</td>\n",
       "      <td>85.333333</td>\n",
       "      <td>6.0</td>\n",
       "      <td>30.666667</td>\n",
       "      <td>0.0</td>\n",
       "      <td>1.0</td>\n",
       "      <td>30.666667</td>\n",
       "      <td>0.000000</td>\n",
       "      <td>20.0</td>\n",
       "      <td>24.666667</td>\n",
       "      <td>...</td>\n",
       "      <td>20.000000</td>\n",
       "      <td>20.0</td>\n",
       "      <td>24.666667</td>\n",
       "      <td>10.666667</td>\n",
       "      <td>56.799890</td>\n",
       "      <td>0.600000</td>\n",
       "      <td>2.600000</td>\n",
       "      <td>-5.277823</td>\n",
       "      <td>10.0</td>\n",
       "      <td>1.0</td>\n",
       "    </tr>\n",
       "    <tr>\n",
       "      <th>before_pass</th>\n",
       "      <td>2.021091e+09</td>\n",
       "      <td>85.333333</td>\n",
       "      <td>6.0</td>\n",
       "      <td>30.666667</td>\n",
       "      <td>0.0</td>\n",
       "      <td>1.0</td>\n",
       "      <td>30.666667</td>\n",
       "      <td>4.666667</td>\n",
       "      <td>20.0</td>\n",
       "      <td>24.666667</td>\n",
       "      <td>...</td>\n",
       "      <td>24.666667</td>\n",
       "      <td>20.0</td>\n",
       "      <td>24.666667</td>\n",
       "      <td>10.666667</td>\n",
       "      <td>32.055241</td>\n",
       "      <td>1.066667</td>\n",
       "      <td>3.066667</td>\n",
       "      <td>-18.873170</td>\n",
       "      <td>10.0</td>\n",
       "      <td>1.0</td>\n",
       "    </tr>\n",
       "    <tr>\n",
       "      <th rowspan=\"4\" valign=\"top\">2</th>\n",
       "      <th rowspan=\"4\" valign=\"top\">(4, 7]</th>\n",
       "      <th rowspan=\"2\" valign=\"top\">blocker_convex_hull</th>\n",
       "      <th>after_snap</th>\n",
       "      <td>2.021091e+09</td>\n",
       "      <td>154.500000</td>\n",
       "      <td>6.0</td>\n",
       "      <td>30.500000</td>\n",
       "      <td>0.0</td>\n",
       "      <td>1.0</td>\n",
       "      <td>30.500000</td>\n",
       "      <td>0.000000</td>\n",
       "      <td>20.0</td>\n",
       "      <td>24.500000</td>\n",
       "      <td>...</td>\n",
       "      <td>20.000000</td>\n",
       "      <td>20.0</td>\n",
       "      <td>24.500000</td>\n",
       "      <td>10.500000</td>\n",
       "      <td>17.909175</td>\n",
       "      <td>0.600000</td>\n",
       "      <td>2.600000</td>\n",
       "      <td>5.247462</td>\n",
       "      <td>6.0</td>\n",
       "      <td>1.0</td>\n",
       "    </tr>\n",
       "    <tr>\n",
       "      <th>before_pass</th>\n",
       "      <td>2.021091e+09</td>\n",
       "      <td>154.500000</td>\n",
       "      <td>6.0</td>\n",
       "      <td>30.500000</td>\n",
       "      <td>0.0</td>\n",
       "      <td>1.0</td>\n",
       "      <td>30.500000</td>\n",
       "      <td>4.500000</td>\n",
       "      <td>20.0</td>\n",
       "      <td>24.500000</td>\n",
       "      <td>...</td>\n",
       "      <td>24.500000</td>\n",
       "      <td>20.0</td>\n",
       "      <td>24.500000</td>\n",
       "      <td>10.500000</td>\n",
       "      <td>26.688075</td>\n",
       "      <td>1.050000</td>\n",
       "      <td>3.050000</td>\n",
       "      <td>8.252787</td>\n",
       "      <td>6.0</td>\n",
       "      <td>1.0</td>\n",
       "    </tr>\n",
       "    <tr>\n",
       "      <th rowspan=\"2\" valign=\"top\">passer_radius</th>\n",
       "      <th>after_snap</th>\n",
       "      <td>2.021091e+09</td>\n",
       "      <td>154.500000</td>\n",
       "      <td>6.0</td>\n",
       "      <td>30.500000</td>\n",
       "      <td>0.0</td>\n",
       "      <td>1.0</td>\n",
       "      <td>30.500000</td>\n",
       "      <td>0.000000</td>\n",
       "      <td>20.0</td>\n",
       "      <td>24.500000</td>\n",
       "      <td>...</td>\n",
       "      <td>20.000000</td>\n",
       "      <td>20.0</td>\n",
       "      <td>24.500000</td>\n",
       "      <td>10.500000</td>\n",
       "      <td>104.234431</td>\n",
       "      <td>0.600000</td>\n",
       "      <td>2.600000</td>\n",
       "      <td>19.279876</td>\n",
       "      <td>6.0</td>\n",
       "      <td>1.0</td>\n",
       "    </tr>\n",
       "    <tr>\n",
       "      <th>before_pass</th>\n",
       "      <td>2.021091e+09</td>\n",
       "      <td>154.500000</td>\n",
       "      <td>6.0</td>\n",
       "      <td>30.500000</td>\n",
       "      <td>0.0</td>\n",
       "      <td>1.0</td>\n",
       "      <td>30.500000</td>\n",
       "      <td>4.500000</td>\n",
       "      <td>20.0</td>\n",
       "      <td>24.500000</td>\n",
       "      <td>...</td>\n",
       "      <td>24.500000</td>\n",
       "      <td>20.0</td>\n",
       "      <td>24.500000</td>\n",
       "      <td>10.500000</td>\n",
       "      <td>61.873353</td>\n",
       "      <td>1.050000</td>\n",
       "      <td>3.050000</td>\n",
       "      <td>-7.585454</td>\n",
       "      <td>6.0</td>\n",
       "      <td>1.0</td>\n",
       "    </tr>\n",
       "    <tr>\n",
       "      <th rowspan=\"8\" valign=\"top\">3</th>\n",
       "      <th rowspan=\"4\" valign=\"top\">(0, 4]</th>\n",
       "      <th rowspan=\"2\" valign=\"top\">blocker_convex_hull</th>\n",
       "      <th>after_snap</th>\n",
       "      <td>2.021091e+09</td>\n",
       "      <td>179.500000</td>\n",
       "      <td>6.0</td>\n",
       "      <td>33.000000</td>\n",
       "      <td>0.0</td>\n",
       "      <td>1.0</td>\n",
       "      <td>33.000000</td>\n",
       "      <td>0.000000</td>\n",
       "      <td>20.0</td>\n",
       "      <td>27.000000</td>\n",
       "      <td>...</td>\n",
       "      <td>20.000000</td>\n",
       "      <td>20.0</td>\n",
       "      <td>27.000000</td>\n",
       "      <td>13.000000</td>\n",
       "      <td>17.545350</td>\n",
       "      <td>0.600000</td>\n",
       "      <td>2.600000</td>\n",
       "      <td>1.406737</td>\n",
       "      <td>3.0</td>\n",
       "      <td>1.0</td>\n",
       "    </tr>\n",
       "    <tr>\n",
       "      <th>before_pass</th>\n",
       "      <td>2.021091e+09</td>\n",
       "      <td>179.500000</td>\n",
       "      <td>6.0</td>\n",
       "      <td>33.000000</td>\n",
       "      <td>0.0</td>\n",
       "      <td>1.0</td>\n",
       "      <td>33.000000</td>\n",
       "      <td>7.000000</td>\n",
       "      <td>20.0</td>\n",
       "      <td>27.000000</td>\n",
       "      <td>...</td>\n",
       "      <td>27.000000</td>\n",
       "      <td>20.0</td>\n",
       "      <td>27.000000</td>\n",
       "      <td>13.000000</td>\n",
       "      <td>17.623075</td>\n",
       "      <td>1.300000</td>\n",
       "      <td>3.300000</td>\n",
       "      <td>0.414775</td>\n",
       "      <td>3.0</td>\n",
       "      <td>1.0</td>\n",
       "    </tr>\n",
       "    <tr>\n",
       "      <th rowspan=\"2\" valign=\"top\">passer_radius</th>\n",
       "      <th>after_snap</th>\n",
       "      <td>2.021091e+09</td>\n",
       "      <td>179.500000</td>\n",
       "      <td>6.0</td>\n",
       "      <td>33.000000</td>\n",
       "      <td>0.0</td>\n",
       "      <td>1.0</td>\n",
       "      <td>33.000000</td>\n",
       "      <td>0.000000</td>\n",
       "      <td>20.0</td>\n",
       "      <td>27.000000</td>\n",
       "      <td>...</td>\n",
       "      <td>20.000000</td>\n",
       "      <td>20.0</td>\n",
       "      <td>27.000000</td>\n",
       "      <td>13.000000</td>\n",
       "      <td>41.148738</td>\n",
       "      <td>0.600000</td>\n",
       "      <td>2.600000</td>\n",
       "      <td>-34.240611</td>\n",
       "      <td>3.0</td>\n",
       "      <td>1.0</td>\n",
       "    </tr>\n",
       "    <tr>\n",
       "      <th>before_pass</th>\n",
       "      <td>2.021091e+09</td>\n",
       "      <td>179.500000</td>\n",
       "      <td>6.0</td>\n",
       "      <td>33.000000</td>\n",
       "      <td>0.0</td>\n",
       "      <td>1.0</td>\n",
       "      <td>33.000000</td>\n",
       "      <td>7.000000</td>\n",
       "      <td>20.0</td>\n",
       "      <td>27.000000</td>\n",
       "      <td>...</td>\n",
       "      <td>27.000000</td>\n",
       "      <td>20.0</td>\n",
       "      <td>27.000000</td>\n",
       "      <td>13.000000</td>\n",
       "      <td>17.847388</td>\n",
       "      <td>1.300000</td>\n",
       "      <td>3.300000</td>\n",
       "      <td>-37.996149</td>\n",
       "      <td>3.0</td>\n",
       "      <td>1.0</td>\n",
       "    </tr>\n",
       "    <tr>\n",
       "      <th rowspan=\"4\" valign=\"top\">(4, 7]</th>\n",
       "      <th rowspan=\"2\" valign=\"top\">blocker_convex_hull</th>\n",
       "      <th>after_snap</th>\n",
       "      <td>2.021091e+09</td>\n",
       "      <td>111.000000</td>\n",
       "      <td>6.0</td>\n",
       "      <td>38.000000</td>\n",
       "      <td>0.0</td>\n",
       "      <td>1.0</td>\n",
       "      <td>38.000000</td>\n",
       "      <td>0.000000</td>\n",
       "      <td>20.0</td>\n",
       "      <td>32.000000</td>\n",
       "      <td>...</td>\n",
       "      <td>20.000000</td>\n",
       "      <td>20.0</td>\n",
       "      <td>32.000000</td>\n",
       "      <td>18.000000</td>\n",
       "      <td>17.035600</td>\n",
       "      <td>0.600000</td>\n",
       "      <td>2.600000</td>\n",
       "      <td>1.440650</td>\n",
       "      <td>5.0</td>\n",
       "      <td>1.0</td>\n",
       "    </tr>\n",
       "    <tr>\n",
       "      <th>before_pass</th>\n",
       "      <td>2.021091e+09</td>\n",
       "      <td>111.000000</td>\n",
       "      <td>6.0</td>\n",
       "      <td>38.000000</td>\n",
       "      <td>0.0</td>\n",
       "      <td>1.0</td>\n",
       "      <td>38.000000</td>\n",
       "      <td>12.000000</td>\n",
       "      <td>20.0</td>\n",
       "      <td>32.000000</td>\n",
       "      <td>...</td>\n",
       "      <td>32.000000</td>\n",
       "      <td>20.0</td>\n",
       "      <td>32.000000</td>\n",
       "      <td>18.000000</td>\n",
       "      <td>33.678000</td>\n",
       "      <td>1.800000</td>\n",
       "      <td>3.800000</td>\n",
       "      <td>7.171275</td>\n",
       "      <td>5.0</td>\n",
       "      <td>1.0</td>\n",
       "    </tr>\n",
       "    <tr>\n",
       "      <th rowspan=\"2\" valign=\"top\">passer_radius</th>\n",
       "      <th>after_snap</th>\n",
       "      <td>2.021091e+09</td>\n",
       "      <td>111.000000</td>\n",
       "      <td>6.0</td>\n",
       "      <td>38.000000</td>\n",
       "      <td>0.0</td>\n",
       "      <td>1.0</td>\n",
       "      <td>38.000000</td>\n",
       "      <td>0.000000</td>\n",
       "      <td>20.0</td>\n",
       "      <td>32.000000</td>\n",
       "      <td>...</td>\n",
       "      <td>20.000000</td>\n",
       "      <td>20.0</td>\n",
       "      <td>32.000000</td>\n",
       "      <td>18.000000</td>\n",
       "      <td>46.103815</td>\n",
       "      <td>0.600000</td>\n",
       "      <td>2.600000</td>\n",
       "      <td>-24.993097</td>\n",
       "      <td>5.0</td>\n",
       "      <td>1.0</td>\n",
       "    </tr>\n",
       "    <tr>\n",
       "      <th>before_pass</th>\n",
       "      <td>2.021091e+09</td>\n",
       "      <td>111.000000</td>\n",
       "      <td>6.0</td>\n",
       "      <td>38.000000</td>\n",
       "      <td>0.0</td>\n",
       "      <td>1.0</td>\n",
       "      <td>38.000000</td>\n",
       "      <td>12.000000</td>\n",
       "      <td>20.0</td>\n",
       "      <td>32.000000</td>\n",
       "      <td>...</td>\n",
       "      <td>32.000000</td>\n",
       "      <td>20.0</td>\n",
       "      <td>32.000000</td>\n",
       "      <td>18.000000</td>\n",
       "      <td>12.416831</td>\n",
       "      <td>1.800000</td>\n",
       "      <td>3.800000</td>\n",
       "      <td>-32.378196</td>\n",
       "      <td>5.0</td>\n",
       "      <td>1.0</td>\n",
       "    </tr>\n",
       "  </tbody>\n",
       "</table>\n",
       "<p>16 rows × 27 columns</p>\n",
       "</div>"
      ],
      "text/plain": [
       "                                                     gameId      playId  \\\n",
       "down distance method              window_type                             \n",
       "1    (7, 10]  blocker_convex_hull after_snap   2.021091e+09   85.333333   \n",
       "                                  before_pass  2.021091e+09   85.333333   \n",
       "              passer_radius       after_snap   2.021091e+09   85.333333   \n",
       "                                  before_pass  2.021091e+09   85.333333   \n",
       "2    (4, 7]   blocker_convex_hull after_snap   2.021091e+09  154.500000   \n",
       "                                  before_pass  2.021091e+09  154.500000   \n",
       "              passer_radius       after_snap   2.021091e+09  154.500000   \n",
       "                                  before_pass  2.021091e+09  154.500000   \n",
       "3    (0, 4]   blocker_convex_hull after_snap   2.021091e+09  179.500000   \n",
       "                                  before_pass  2.021091e+09  179.500000   \n",
       "              passer_radius       after_snap   2.021091e+09  179.500000   \n",
       "                                  before_pass  2.021091e+09  179.500000   \n",
       "     (4, 7]   blocker_convex_hull after_snap   2.021091e+09  111.000000   \n",
       "                                  before_pass  2.021091e+09  111.000000   \n",
       "              passer_radius       after_snap   2.021091e+09  111.000000   \n",
       "                                  before_pass  2.021091e+09  111.000000   \n",
       "\n",
       "                                               frame_start_x  frame_end_x  \\\n",
       "down distance method              window_type                               \n",
       "1    (7, 10]  blocker_convex_hull after_snap             6.0    30.666667   \n",
       "                                  before_pass            6.0    30.666667   \n",
       "              passer_radius       after_snap             6.0    30.666667   \n",
       "                                  before_pass            6.0    30.666667   \n",
       "2    (4, 7]   blocker_convex_hull after_snap             6.0    30.500000   \n",
       "                                  before_pass            6.0    30.500000   \n",
       "              passer_radius       after_snap             6.0    30.500000   \n",
       "                                  before_pass            6.0    30.500000   \n",
       "3    (0, 4]   blocker_convex_hull after_snap             6.0    33.000000   \n",
       "                                  before_pass            6.0    33.000000   \n",
       "              passer_radius       after_snap             6.0    33.000000   \n",
       "                                  before_pass            6.0    33.000000   \n",
       "     (4, 7]   blocker_convex_hull after_snap             6.0    38.000000   \n",
       "                                  before_pass            6.0    38.000000   \n",
       "              passer_radius       after_snap             6.0    38.000000   \n",
       "                                  before_pass            6.0    38.000000   \n",
       "\n",
       "                                               passer_out_of_pocket_x  \\\n",
       "down distance method              window_type                           \n",
       "1    (7, 10]  blocker_convex_hull after_snap                      0.0   \n",
       "                                  before_pass                     0.0   \n",
       "              passer_radius       after_snap                      0.0   \n",
       "                                  before_pass                     0.0   \n",
       "2    (4, 7]   blocker_convex_hull after_snap                      0.0   \n",
       "                                  before_pass                     0.0   \n",
       "              passer_radius       after_snap                      0.0   \n",
       "                                  before_pass                     0.0   \n",
       "3    (0, 4]   blocker_convex_hull after_snap                      0.0   \n",
       "                                  before_pass                     0.0   \n",
       "              passer_radius       after_snap                      0.0   \n",
       "                                  before_pass                     0.0   \n",
       "     (4, 7]   blocker_convex_hull after_snap                      0.0   \n",
       "                                  before_pass                     0.0   \n",
       "              passer_radius       after_snap                      0.0   \n",
       "                                  before_pass                     0.0   \n",
       "\n",
       "                                               eligible_for_pocket_x  \\\n",
       "down distance method              window_type                          \n",
       "1    (7, 10]  blocker_convex_hull after_snap                     1.0   \n",
       "                                  before_pass                    1.0   \n",
       "              passer_radius       after_snap                     1.0   \n",
       "                                  before_pass                    1.0   \n",
       "2    (4, 7]   blocker_convex_hull after_snap                     1.0   \n",
       "                                  before_pass                    1.0   \n",
       "              passer_radius       after_snap                     1.0   \n",
       "                                  before_pass                    1.0   \n",
       "3    (0, 4]   blocker_convex_hull after_snap                     1.0   \n",
       "                                  before_pass                    1.0   \n",
       "              passer_radius       after_snap                     1.0   \n",
       "                                  before_pass                    1.0   \n",
       "     (4, 7]   blocker_convex_hull after_snap                     1.0   \n",
       "                                  before_pass                    1.0   \n",
       "              passer_radius       after_snap                     1.0   \n",
       "                                  before_pass                    1.0   \n",
       "\n",
       "                                               pass_frame_x  frames_elapsed_x  \\\n",
       "down distance method              window_type                                   \n",
       "1    (7, 10]  blocker_convex_hull after_snap      30.666667          0.000000   \n",
       "                                  before_pass     30.666667          4.666667   \n",
       "              passer_radius       after_snap      30.666667          0.000000   \n",
       "                                  before_pass     30.666667          4.666667   \n",
       "2    (4, 7]   blocker_convex_hull after_snap      30.500000          0.000000   \n",
       "                                  before_pass     30.500000          4.500000   \n",
       "              passer_radius       after_snap      30.500000          0.000000   \n",
       "                                  before_pass     30.500000          4.500000   \n",
       "3    (0, 4]   blocker_convex_hull after_snap      33.000000          0.000000   \n",
       "                                  before_pass     33.000000          7.000000   \n",
       "              passer_radius       after_snap      33.000000          0.000000   \n",
       "                                  before_pass     33.000000          7.000000   \n",
       "     (4, 7]   blocker_convex_hull after_snap      38.000000          0.000000   \n",
       "                                  before_pass     38.000000         12.000000   \n",
       "              passer_radius       after_snap      38.000000          0.000000   \n",
       "                                  before_pass     38.000000         12.000000   \n",
       "\n",
       "                                               window_size_x  total_frames_x  \\\n",
       "down distance method              window_type                                  \n",
       "1    (7, 10]  blocker_convex_hull after_snap            20.0       24.666667   \n",
       "                                  before_pass           20.0       24.666667   \n",
       "              passer_radius       after_snap            20.0       24.666667   \n",
       "                                  before_pass           20.0       24.666667   \n",
       "2    (4, 7]   blocker_convex_hull after_snap            20.0       24.500000   \n",
       "                                  before_pass           20.0       24.500000   \n",
       "              passer_radius       after_snap            20.0       24.500000   \n",
       "                                  before_pass           20.0       24.500000   \n",
       "3    (0, 4]   blocker_convex_hull after_snap            20.0       27.000000   \n",
       "                                  before_pass           20.0       27.000000   \n",
       "              passer_radius       after_snap            20.0       27.000000   \n",
       "                                  before_pass           20.0       27.000000   \n",
       "     (4, 7]   blocker_convex_hull after_snap            20.0       32.000000   \n",
       "                                  before_pass           20.0       32.000000   \n",
       "              passer_radius       after_snap            20.0       32.000000   \n",
       "                                  before_pass           20.0       32.000000   \n",
       "\n",
       "                                               ...  frames_elapsed_y  \\\n",
       "down distance method              window_type  ...                     \n",
       "1    (7, 10]  blocker_convex_hull after_snap   ...         20.000000   \n",
       "                                  before_pass  ...         24.666667   \n",
       "              passer_radius       after_snap   ...         20.000000   \n",
       "                                  before_pass  ...         24.666667   \n",
       "2    (4, 7]   blocker_convex_hull after_snap   ...         20.000000   \n",
       "                                  before_pass  ...         24.500000   \n",
       "              passer_radius       after_snap   ...         20.000000   \n",
       "                                  before_pass  ...         24.500000   \n",
       "3    (0, 4]   blocker_convex_hull after_snap   ...         20.000000   \n",
       "                                  before_pass  ...         27.000000   \n",
       "              passer_radius       after_snap   ...         20.000000   \n",
       "                                  before_pass  ...         27.000000   \n",
       "     (4, 7]   blocker_convex_hull after_snap   ...         20.000000   \n",
       "                                  before_pass  ...         32.000000   \n",
       "              passer_radius       after_snap   ...         20.000000   \n",
       "                                  before_pass  ...         32.000000   \n",
       "\n",
       "                                               window_size_y  total_frames_y  \\\n",
       "down distance method              window_type                                  \n",
       "1    (7, 10]  blocker_convex_hull after_snap            20.0       24.666667   \n",
       "                                  before_pass           20.0       24.666667   \n",
       "              passer_radius       after_snap            20.0       24.666667   \n",
       "                                  before_pass           20.0       24.666667   \n",
       "2    (4, 7]   blocker_convex_hull after_snap            20.0       24.500000   \n",
       "                                  before_pass           20.0       24.500000   \n",
       "              passer_radius       after_snap            20.0       24.500000   \n",
       "                                  before_pass           20.0       24.500000   \n",
       "3    (0, 4]   blocker_convex_hull after_snap            20.0       27.000000   \n",
       "                                  before_pass           20.0       27.000000   \n",
       "              passer_radius       after_snap            20.0       27.000000   \n",
       "                                  before_pass           20.0       27.000000   \n",
       "     (4, 7]   blocker_convex_hull after_snap            20.0       32.000000   \n",
       "                                  before_pass           20.0       32.000000   \n",
       "              passer_radius       after_snap            20.0       32.000000   \n",
       "                                  before_pass           20.0       32.000000   \n",
       "\n",
       "                                               frame_before_pass_y  \\\n",
       "down distance method              window_type                        \n",
       "1    (7, 10]  blocker_convex_hull after_snap             10.666667   \n",
       "                                  before_pass            10.666667   \n",
       "              passer_radius       after_snap             10.666667   \n",
       "                                  before_pass            10.666667   \n",
       "2    (4, 7]   blocker_convex_hull after_snap             10.500000   \n",
       "                                  before_pass            10.500000   \n",
       "              passer_radius       after_snap             10.500000   \n",
       "                                  before_pass            10.500000   \n",
       "3    (0, 4]   blocker_convex_hull after_snap             13.000000   \n",
       "                                  before_pass            13.000000   \n",
       "              passer_radius       after_snap             13.000000   \n",
       "                                  before_pass            13.000000   \n",
       "     (4, 7]   blocker_convex_hull after_snap             18.000000   \n",
       "                                  before_pass            18.000000   \n",
       "              passer_radius       after_snap             18.000000   \n",
       "                                  before_pass            18.000000   \n",
       "\n",
       "                                                 area_end  time_start  \\\n",
       "down distance method              window_type                           \n",
       "1    (7, 10]  blocker_convex_hull after_snap    18.145600    0.600000   \n",
       "                                  before_pass   17.825800    1.066667   \n",
       "              passer_radius       after_snap    56.799890    0.600000   \n",
       "                                  before_pass   32.055241    1.066667   \n",
       "2    (4, 7]   blocker_convex_hull after_snap    17.909175    0.600000   \n",
       "                                  before_pass   26.688075    1.050000   \n",
       "              passer_radius       after_snap   104.234431    0.600000   \n",
       "                                  before_pass   61.873353    1.050000   \n",
       "3    (0, 4]   blocker_convex_hull after_snap    17.545350    0.600000   \n",
       "                                  before_pass   17.623075    1.300000   \n",
       "              passer_radius       after_snap    41.148738    0.600000   \n",
       "                                  before_pass   17.847388    1.300000   \n",
       "     (4, 7]   blocker_convex_hull after_snap    17.035600    0.600000   \n",
       "                                  before_pass   33.678000    1.800000   \n",
       "              passer_radius       after_snap    46.103815    0.600000   \n",
       "                                  before_pass   12.416831    1.800000   \n",
       "\n",
       "                                               time_end  \\\n",
       "down distance method              window_type             \n",
       "1    (7, 10]  blocker_convex_hull after_snap   2.600000   \n",
       "                                  before_pass  3.066667   \n",
       "              passer_radius       after_snap   2.600000   \n",
       "                                  before_pass  3.066667   \n",
       "2    (4, 7]   blocker_convex_hull after_snap   2.600000   \n",
       "                                  before_pass  3.050000   \n",
       "              passer_radius       after_snap   2.600000   \n",
       "                                  before_pass  3.050000   \n",
       "3    (0, 4]   blocker_convex_hull after_snap   2.600000   \n",
       "                                  before_pass  3.300000   \n",
       "              passer_radius       after_snap   2.600000   \n",
       "                                  before_pass  3.300000   \n",
       "     (4, 7]   blocker_convex_hull after_snap   2.600000   \n",
       "                                  before_pass  3.800000   \n",
       "              passer_radius       after_snap   2.600000   \n",
       "                                  before_pass  3.800000   \n",
       "\n",
       "                                               average_pocket_area_loss_per_second  \\\n",
       "down distance method              window_type                                        \n",
       "1    (7, 10]  blocker_convex_hull after_snap                              3.095633   \n",
       "                                  before_pass                             3.125883   \n",
       "              passer_radius       after_snap                             -5.277823   \n",
       "                                  before_pass                           -18.873170   \n",
       "2    (4, 7]   blocker_convex_hull after_snap                              5.247462   \n",
       "                                  before_pass                             8.252787   \n",
       "              passer_radius       after_snap                             19.279876   \n",
       "                                  before_pass                            -7.585454   \n",
       "3    (0, 4]   blocker_convex_hull after_snap                              1.406737   \n",
       "                                  before_pass                             0.414775   \n",
       "              passer_radius       after_snap                            -34.240611   \n",
       "                                  before_pass                           -37.996149   \n",
       "     (4, 7]   blocker_convex_hull after_snap                              1.440650   \n",
       "                                  before_pass                             7.171275   \n",
       "              passer_radius       after_snap                            -24.993097   \n",
       "                                  before_pass                           -32.378196   \n",
       "\n",
       "                                               distance  play_count  \n",
       "down distance method              window_type                        \n",
       "1    (7, 10]  blocker_convex_hull after_snap       10.0         1.0  \n",
       "                                  before_pass      10.0         1.0  \n",
       "              passer_radius       after_snap       10.0         1.0  \n",
       "                                  before_pass      10.0         1.0  \n",
       "2    (4, 7]   blocker_convex_hull after_snap        6.0         1.0  \n",
       "                                  before_pass       6.0         1.0  \n",
       "              passer_radius       after_snap        6.0         1.0  \n",
       "                                  before_pass       6.0         1.0  \n",
       "3    (0, 4]   blocker_convex_hull after_snap        3.0         1.0  \n",
       "                                  before_pass       3.0         1.0  \n",
       "              passer_radius       after_snap        3.0         1.0  \n",
       "                                  before_pass       3.0         1.0  \n",
       "     (4, 7]   blocker_convex_hull after_snap        5.0         1.0  \n",
       "                                  before_pass       5.0         1.0  \n",
       "              passer_radius       after_snap        5.0         1.0  \n",
       "                                  before_pass       5.0         1.0  \n",
       "\n",
       "[16 rows x 27 columns]"
      ]
     },
     "execution_count": 20,
     "metadata": {},
     "output_type": "execute_result"
    }
   ],
   "source": [
    "calculate_down_and_distance_pocket_loss_average_method_two(df_play_metrics)"
   ]
  },
  {
   "cell_type": "code",
   "execution_count": null,
   "id": "47843884",
   "metadata": {},
   "outputs": [],
   "source": []
  }
 ],
 "metadata": {
  "kernelspec": {
   "display_name": "Python 3 (ipykernel)",
   "language": "python",
   "name": "python3"
  },
  "language_info": {
   "codemirror_mode": {
    "name": "ipython",
    "version": 3
   },
   "file_extension": ".py",
   "mimetype": "text/x-python",
   "name": "python",
   "nbconvert_exporter": "python",
   "pygments_lexer": "ipython3",
   "version": "3.8.13"
  }
 },
 "nbformat": 4,
 "nbformat_minor": 5
}
