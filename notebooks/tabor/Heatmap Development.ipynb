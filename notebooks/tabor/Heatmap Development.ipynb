{
 "cells": [
  {
   "cell_type": "code",
   "execution_count": 21,
   "id": "c87ab53b",
   "metadata": {},
   "outputs": [
    {
     "ename": "ModuleNotFoundError",
     "evalue": "No module named 'descartes'",
     "output_type": "error",
     "traceback": [
      "\u001b[0;31m---------------------------------------------------------------------------\u001b[0m",
      "\u001b[0;31mModuleNotFoundError\u001b[0m                       Traceback (most recent call last)",
      "Cell \u001b[0;32mIn[21], line 3\u001b[0m\n\u001b[1;32m      1\u001b[0m \u001b[38;5;28;01mfrom\u001b[39;00m \u001b[38;5;21;01mshapely\u001b[39;00m \u001b[38;5;28;01mimport\u001b[39;00m Polygon, Point\n\u001b[1;32m      2\u001b[0m \u001b[38;5;28;01mimport\u001b[39;00m \u001b[38;5;21;01mmatplotlib\u001b[39;00m\u001b[38;5;21;01m.\u001b[39;00m\u001b[38;5;21;01mpyplot\u001b[39;00m \u001b[38;5;28;01mas\u001b[39;00m \u001b[38;5;21;01mplt\u001b[39;00m\n\u001b[0;32m----> 3\u001b[0m \u001b[38;5;28;01mfrom\u001b[39;00m \u001b[38;5;21;01mdescartes\u001b[39;00m \u001b[38;5;28;01mimport\u001b[39;00m PolygonPatch\n\u001b[1;32m      6\u001b[0m polygon \u001b[38;5;241m=\u001b[39m Polygon([(\u001b[38;5;241m0\u001b[39m, \u001b[38;5;241m0\u001b[39m), (\u001b[38;5;241m0\u001b[39m, \u001b[38;5;241m1\u001b[39m), (\u001b[38;5;241m1\u001b[39m, \u001b[38;5;241m1\u001b[39m), (\u001b[38;5;241m1\u001b[39m, \u001b[38;5;241m0\u001b[39m)])\n\u001b[1;32m      7\u001b[0m \u001b[38;5;66;03m#smaller Square\u001b[39;00m\n",
      "\u001b[0;31mModuleNotFoundError\u001b[0m: No module named 'descartes'"
     ]
    }
   ],
   "source": [
    "from shapely import Polygon, Point\n",
    "import matplotlib.pyplot as plt\n",
    "from descartes import PolygonPatch\n",
    "\n",
    "\n",
    "polygon = Polygon([(0, 0), (0, 1), (1, 1), (1, 0)])\n",
    "#smaller Square\n",
    "polygon_two = Polygon([(0, 0), (0, .5), (.5, 1), (.5, 0)])\n",
    "#triangle\n",
    "polygon_three = Polygon([(0, 0), (.5, 1), (1, 0)])\n",
    "#hexagon-ish\n",
    "polygon_four = Polygon([(.25, 0), (0, .25), (0, .5), \n",
    "                   (.25, .75), (.5, .75), (.75, .5), (.75, .25), (.5, 0)])\n",
    "point_inside = Point(0.7, 0.5)\n",
    "point_outside = Point(2, 2)\n",
    "# polygon.contains(point_outside) # False\n",
    "polygon.contains(polygon_three)\n",
    "polygon_four\n",
    "poly1patch = PolygonPatch(polygon, fc=BLUE, ec=BLUE, alpha=0.5, zorder=2)\n",
    "poly2patch = PolygonPatch(polygon_four, ec=BLUE, alpha=0.5, zorder=2)\n",
    "fig = plt.figure(1)\n",
    "ax = fig.add_subplot(111)\n",
    "ax.add_patch(poly1patch)\n",
    "ax.add_patch(poly2patch)"
   ]
  },
  {
   "cell_type": "code",
   "execution_count": null,
   "id": "86a6636e",
   "metadata": {},
   "outputs": [],
   "source": [
    "import shapely.geometry as sg\n",
    "import shapely.ops as so\n",
    "import matplotlib.pyplot as plt\n",
    "\n",
    "r1 = sg.Polygon([(0,0),(0,1),(1,1),(1,0),(0,0)])\n",
    "r4 = sg.Polygon([(.25, 0), (0, .25), (0, .5), \n",
    "                   (.25, .75), (.5, .75), (.75, .5), (.75, .25), (.5, 0)])\n",
    "r2 = sg.box(0.5,0.5,1.5,1.5)\n",
    "r3 = sg.box(4,4,5,5)\n",
    "\n",
    "new_shape = so.unary_union([r1, r2, r4])\n",
    "fig, axs = plt.subplots()\n",
    "axs.set_aspect('equal', 'datalim')\n",
    "\n",
    "for geom in new_shape.geoms:    \n",
    "    xs, ys = geom.exterior.xy    \n",
    "    axs.fill(xs, ys, alpha=0.5, fc='r', ec='none')\n",
    "\n",
    "plt.show()"
   ]
  },
  {
   "cell_type": "code",
   "execution_count": null,
   "id": "14823889",
   "metadata": {},
   "outputs": [],
   "source": []
  }
 ],
 "metadata": {
  "kernelspec": {
   "display_name": "Python 3 (ipykernel)",
   "language": "python",
   "name": "python3"
  },
  "language_info": {
   "codemirror_mode": {
    "name": "ipython",
    "version": 3
   },
   "file_extension": ".py",
   "mimetype": "text/x-python",
   "name": "python",
   "nbconvert_exporter": "python",
   "pygments_lexer": "ipython3",
   "version": "3.8.13"
  }
 },
 "nbformat": 4,
 "nbformat_minor": 5
}
