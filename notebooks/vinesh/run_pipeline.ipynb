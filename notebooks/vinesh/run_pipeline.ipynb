{
 "cells": [
  {
   "cell_type": "markdown",
   "id": "a14b9353",
   "metadata": {},
   "source": [
    "# Run Pipeline"
   ]
  },
  {
   "cell_type": "code",
   "execution_count": 1,
   "id": "a1468fc0",
   "metadata": {},
   "outputs": [],
   "source": [
    "%load_ext autoreload\n",
    "%autoreload 2"
   ]
  },
  {
   "cell_type": "code",
   "execution_count": 2,
   "id": "2376f922",
   "metadata": {},
   "outputs": [],
   "source": [
    "# If you run this locally, change DIR to be the folder where you stored your raw and output data files.\n",
    "import sys\n",
    "DIR = \"/workspace/nflbigdatabowl2023\"\n",
    "sys.path.append(DIR)"
   ]
  },
  {
   "cell_type": "code",
   "execution_count": 3,
   "id": "193f4ff6",
   "metadata": {
    "scrolled": false
   },
   "outputs": [
    {
     "name": "stderr",
     "output_type": "stream",
     "text": [
      "/home/gitpod/.pyenv/versions/3.8.13/lib/python3.8/contextlib.py:120: SAWarning: Skipped unsupported reflection of expression-based index ix_flow_run__coalesce_start_time_expected_start_time_desc\n",
      "  next(self.gen)\n",
      "/home/gitpod/.pyenv/versions/3.8.13/lib/python3.8/contextlib.py:120: SAWarning: Skipped unsupported reflection of expression-based index ix_flow_run__coalesce_start_time_expected_start_time_asc\n",
      "  next(self.gen)\n"
     ]
    },
    {
     "data": {
      "text/html": [
       "<pre style=\"white-space:pre;overflow-x:auto;line-height:normal;font-family:Menlo,'DejaVu Sans Mono',consolas,'Courier New',monospace\">05:10:19.253 | <span style=\"color: #008080; text-decoration-color: #008080\">INFO</span>    | prefect.engine - Created flow run<span style=\"color: #800080; text-decoration-color: #800080\"> 'elegant-mule'</span> for flow<span style=\"color: #800080; text-decoration-color: #800080; font-weight: bold\"> 'main-flow'</span>\n",
       "</pre>\n"
      ],
      "text/plain": [
       "05:10:19.253 | \u001b[36mINFO\u001b[0m    | prefect.engine - Created flow run\u001b[35m 'elegant-mule'\u001b[0m for flow\u001b[1;35m 'main-flow'\u001b[0m\n"
      ]
     },
     "metadata": {},
     "output_type": "display_data"
    },
    {
     "data": {
      "text/html": [
       "<pre style=\"white-space:pre;overflow-x:auto;line-height:normal;font-family:Menlo,'DejaVu Sans Mono',consolas,'Courier New',monospace\">05:10:19.418 | <span style=\"color: #008080; text-decoration-color: #008080\">INFO</span>    | Flow run<span style=\"color: #800080; text-decoration-color: #800080\"> 'elegant-mule'</span> - Created task run 'read_csv-3609c996-0' for task 'read_csv'\n",
       "</pre>\n"
      ],
      "text/plain": [
       "05:10:19.418 | \u001b[36mINFO\u001b[0m    | Flow run\u001b[35m 'elegant-mule'\u001b[0m - Created task run 'read_csv-3609c996-0' for task 'read_csv'\n"
      ]
     },
     "metadata": {},
     "output_type": "display_data"
    },
    {
     "data": {
      "text/html": [
       "<pre style=\"white-space:pre;overflow-x:auto;line-height:normal;font-family:Menlo,'DejaVu Sans Mono',consolas,'Courier New',monospace\">05:10:19.421 | <span style=\"color: #008080; text-decoration-color: #008080\">INFO</span>    | Flow run<span style=\"color: #800080; text-decoration-color: #800080\"> 'elegant-mule'</span> - Executing 'read_csv-3609c996-0' immediately...\n",
       "</pre>\n"
      ],
      "text/plain": [
       "05:10:19.421 | \u001b[36mINFO\u001b[0m    | Flow run\u001b[35m 'elegant-mule'\u001b[0m - Executing 'read_csv-3609c996-0' immediately...\n"
      ]
     },
     "metadata": {},
     "output_type": "display_data"
    },
    {
     "data": {
      "text/html": [
       "<pre style=\"white-space:pre;overflow-x:auto;line-height:normal;font-family:Menlo,'DejaVu Sans Mono',consolas,'Courier New',monospace\">05:10:19.838 | <span style=\"color: #008080; text-decoration-color: #008080\">INFO</span>    | Task run 'read_csv-3609c996-0' - Finished in state <span style=\"color: #008000; text-decoration-color: #008000\">Completed</span>()\n",
       "</pre>\n"
      ],
      "text/plain": [
       "05:10:19.838 | \u001b[36mINFO\u001b[0m    | Task run 'read_csv-3609c996-0' - Finished in state \u001b[32mCompleted\u001b[0m()\n"
      ]
     },
     "metadata": {},
     "output_type": "display_data"
    },
    {
     "data": {
      "text/html": [
       "<pre style=\"white-space:pre;overflow-x:auto;line-height:normal;font-family:Menlo,'DejaVu Sans Mono',consolas,'Courier New',monospace\">05:10:19.865 | <span style=\"color: #008080; text-decoration-color: #008080\">INFO</span>    | Flow run<span style=\"color: #800080; text-decoration-color: #800080\"> 'elegant-mule'</span> - Created task run 'read_csv-3609c996-1' for task 'read_csv'\n",
       "</pre>\n"
      ],
      "text/plain": [
       "05:10:19.865 | \u001b[36mINFO\u001b[0m    | Flow run\u001b[35m 'elegant-mule'\u001b[0m - Created task run 'read_csv-3609c996-1' for task 'read_csv'\n"
      ]
     },
     "metadata": {},
     "output_type": "display_data"
    },
    {
     "data": {
      "text/html": [
       "<pre style=\"white-space:pre;overflow-x:auto;line-height:normal;font-family:Menlo,'DejaVu Sans Mono',consolas,'Courier New',monospace\">05:10:19.867 | <span style=\"color: #008080; text-decoration-color: #008080\">INFO</span>    | Flow run<span style=\"color: #800080; text-decoration-color: #800080\"> 'elegant-mule'</span> - Executing 'read_csv-3609c996-1' immediately...\n",
       "</pre>\n"
      ],
      "text/plain": [
       "05:10:19.867 | \u001b[36mINFO\u001b[0m    | Flow run\u001b[35m 'elegant-mule'\u001b[0m - Executing 'read_csv-3609c996-1' immediately...\n"
      ]
     },
     "metadata": {},
     "output_type": "display_data"
    },
    {
     "data": {
      "text/html": [
       "<pre style=\"white-space:pre;overflow-x:auto;line-height:normal;font-family:Menlo,'DejaVu Sans Mono',consolas,'Courier New',monospace\">05:10:19.966 | <span style=\"color: #008080; text-decoration-color: #008080\">INFO</span>    | Task run 'read_csv-3609c996-1' - Finished in state <span style=\"color: #008000; text-decoration-color: #008000\">Completed</span>()\n",
       "</pre>\n"
      ],
      "text/plain": [
       "05:10:19.966 | \u001b[36mINFO\u001b[0m    | Task run 'read_csv-3609c996-1' - Finished in state \u001b[32mCompleted\u001b[0m()\n"
      ]
     },
     "metadata": {},
     "output_type": "display_data"
    },
    {
     "data": {
      "text/html": [
       "<pre style=\"white-space:pre;overflow-x:auto;line-height:normal;font-family:Menlo,'DejaVu Sans Mono',consolas,'Courier New',monospace\">05:10:19.994 | <span style=\"color: #008080; text-decoration-color: #008080\">INFO</span>    | Flow run<span style=\"color: #800080; text-decoration-color: #800080\"> 'elegant-mule'</span> - Created task run 'read_tracking_data-e2eae939-0' for task 'read_tracking_data'\n",
       "</pre>\n"
      ],
      "text/plain": [
       "05:10:19.994 | \u001b[36mINFO\u001b[0m    | Flow run\u001b[35m 'elegant-mule'\u001b[0m - Created task run 'read_tracking_data-e2eae939-0' for task 'read_tracking_data'\n"
      ]
     },
     "metadata": {},
     "output_type": "display_data"
    },
    {
     "data": {
      "text/html": [
       "<pre style=\"white-space:pre;overflow-x:auto;line-height:normal;font-family:Menlo,'DejaVu Sans Mono',consolas,'Courier New',monospace\">05:10:19.996 | <span style=\"color: #008080; text-decoration-color: #008080\">INFO</span>    | Flow run<span style=\"color: #800080; text-decoration-color: #800080\"> 'elegant-mule'</span> - Executing 'read_tracking_data-e2eae939-0' immediately...\n",
       "</pre>\n"
      ],
      "text/plain": [
       "05:10:19.996 | \u001b[36mINFO\u001b[0m    | Flow run\u001b[35m 'elegant-mule'\u001b[0m - Executing 'read_tracking_data-e2eae939-0' immediately...\n"
      ]
     },
     "metadata": {},
     "output_type": "display_data"
    },
    {
     "data": {
      "text/html": [
       "<pre style=\"white-space:pre;overflow-x:auto;line-height:normal;font-family:Menlo,'DejaVu Sans Mono',consolas,'Courier New',monospace\">05:10:24.819 | <span style=\"color: #008080; text-decoration-color: #008080\">INFO</span>    | Task run 'read_tracking_data-e2eae939-0' - Finished in state <span style=\"color: #008000; text-decoration-color: #008000\">Completed</span>()\n",
       "</pre>\n"
      ],
      "text/plain": [
       "05:10:24.819 | \u001b[36mINFO\u001b[0m    | Task run 'read_tracking_data-e2eae939-0' - Finished in state \u001b[32mCompleted\u001b[0m()\n"
      ]
     },
     "metadata": {},
     "output_type": "display_data"
    },
    {
     "data": {
      "text/html": [
       "<pre style=\"white-space:pre;overflow-x:auto;line-height:normal;font-family:Menlo,'DejaVu Sans Mono',consolas,'Courier New',monospace\">05:10:24.851 | <span style=\"color: #008080; text-decoration-color: #008080\">INFO</span>    | Flow run<span style=\"color: #800080; text-decoration-color: #800080\"> 'elegant-mule'</span> - Created task run 'limit_by_child_keys-4238f776-0' for task 'limit_by_child_keys'\n",
       "</pre>\n"
      ],
      "text/plain": [
       "05:10:24.851 | \u001b[36mINFO\u001b[0m    | Flow run\u001b[35m 'elegant-mule'\u001b[0m - Created task run 'limit_by_child_keys-4238f776-0' for task 'limit_by_child_keys'\n"
      ]
     },
     "metadata": {},
     "output_type": "display_data"
    },
    {
     "data": {
      "text/html": [
       "<pre style=\"white-space:pre;overflow-x:auto;line-height:normal;font-family:Menlo,'DejaVu Sans Mono',consolas,'Courier New',monospace\">05:10:24.853 | <span style=\"color: #008080; text-decoration-color: #008080\">INFO</span>    | Flow run<span style=\"color: #800080; text-decoration-color: #800080\"> 'elegant-mule'</span> - Executing 'limit_by_child_keys-4238f776-0' immediately...\n",
       "</pre>\n"
      ],
      "text/plain": [
       "05:10:24.853 | \u001b[36mINFO\u001b[0m    | Flow run\u001b[35m 'elegant-mule'\u001b[0m - Executing 'limit_by_child_keys-4238f776-0' immediately...\n"
      ]
     },
     "metadata": {},
     "output_type": "display_data"
    },
    {
     "data": {
      "text/html": [
       "<pre style=\"white-space:pre;overflow-x:auto;line-height:normal;font-family:Menlo,'DejaVu Sans Mono',consolas,'Courier New',monospace\">05:10:24.921 | <span style=\"color: #008080; text-decoration-color: #008080\">INFO</span>    | Task run 'limit_by_child_keys-4238f776-0' - Finished in state <span style=\"color: #008000; text-decoration-color: #008000\">Completed</span>()\n",
       "</pre>\n"
      ],
      "text/plain": [
       "05:10:24.921 | \u001b[36mINFO\u001b[0m    | Task run 'limit_by_child_keys-4238f776-0' - Finished in state \u001b[32mCompleted\u001b[0m()\n"
      ]
     },
     "metadata": {},
     "output_type": "display_data"
    },
    {
     "data": {
      "text/html": [
       "<pre style=\"white-space:pre;overflow-x:auto;line-height:normal;font-family:Menlo,'DejaVu Sans Mono',consolas,'Courier New',monospace\">05:10:24.950 | <span style=\"color: #008080; text-decoration-color: #008080\">INFO</span>    | Flow run<span style=\"color: #800080; text-decoration-color: #800080\"> 'elegant-mule'</span> - Created task run 'limit_by_child_keys-4238f776-1' for task 'limit_by_child_keys'\n",
       "</pre>\n"
      ],
      "text/plain": [
       "05:10:24.950 | \u001b[36mINFO\u001b[0m    | Flow run\u001b[35m 'elegant-mule'\u001b[0m - Created task run 'limit_by_child_keys-4238f776-1' for task 'limit_by_child_keys'\n"
      ]
     },
     "metadata": {},
     "output_type": "display_data"
    },
    {
     "data": {
      "text/html": [
       "<pre style=\"white-space:pre;overflow-x:auto;line-height:normal;font-family:Menlo,'DejaVu Sans Mono',consolas,'Courier New',monospace\">05:10:24.953 | <span style=\"color: #008080; text-decoration-color: #008080\">INFO</span>    | Flow run<span style=\"color: #800080; text-decoration-color: #800080\"> 'elegant-mule'</span> - Executing 'limit_by_child_keys-4238f776-1' immediately...\n",
       "</pre>\n"
      ],
      "text/plain": [
       "05:10:24.953 | \u001b[36mINFO\u001b[0m    | Flow run\u001b[35m 'elegant-mule'\u001b[0m - Executing 'limit_by_child_keys-4238f776-1' immediately...\n"
      ]
     },
     "metadata": {},
     "output_type": "display_data"
    },
    {
     "data": {
      "text/html": [
       "<pre style=\"white-space:pre;overflow-x:auto;line-height:normal;font-family:Menlo,'DejaVu Sans Mono',consolas,'Courier New',monospace\">05:10:25.018 | <span style=\"color: #008080; text-decoration-color: #008080\">INFO</span>    | Task run 'limit_by_child_keys-4238f776-1' - Finished in state <span style=\"color: #008000; text-decoration-color: #008000\">Completed</span>()\n",
       "</pre>\n"
      ],
      "text/plain": [
       "05:10:25.018 | \u001b[36mINFO\u001b[0m    | Task run 'limit_by_child_keys-4238f776-1' - Finished in state \u001b[32mCompleted\u001b[0m()\n"
      ]
     },
     "metadata": {},
     "output_type": "display_data"
    },
    {
     "data": {
      "text/html": [
       "<pre style=\"white-space:pre;overflow-x:auto;line-height:normal;font-family:Menlo,'DejaVu Sans Mono',consolas,'Courier New',monospace\">05:10:25.045 | <span style=\"color: #008080; text-decoration-color: #008080\">INFO</span>    | Flow run<span style=\"color: #800080; text-decoration-color: #800080\"> 'elegant-mule'</span> - Created task run 'align_tracking_data-ea7afe30-0' for task 'align_tracking_data'\n",
       "</pre>\n"
      ],
      "text/plain": [
       "05:10:25.045 | \u001b[36mINFO\u001b[0m    | Flow run\u001b[35m 'elegant-mule'\u001b[0m - Created task run 'align_tracking_data-ea7afe30-0' for task 'align_tracking_data'\n"
      ]
     },
     "metadata": {},
     "output_type": "display_data"
    },
    {
     "data": {
      "text/html": [
       "<pre style=\"white-space:pre;overflow-x:auto;line-height:normal;font-family:Menlo,'DejaVu Sans Mono',consolas,'Courier New',monospace\">05:10:25.047 | <span style=\"color: #008080; text-decoration-color: #008080\">INFO</span>    | Flow run<span style=\"color: #800080; text-decoration-color: #800080\"> 'elegant-mule'</span> - Executing 'align_tracking_data-ea7afe30-0' immediately...\n",
       "</pre>\n"
      ],
      "text/plain": [
       "05:10:25.047 | \u001b[36mINFO\u001b[0m    | Flow run\u001b[35m 'elegant-mule'\u001b[0m - Executing 'align_tracking_data-ea7afe30-0' immediately...\n"
      ]
     },
     "metadata": {},
     "output_type": "display_data"
    },
    {
     "data": {
      "text/html": [
       "<pre style=\"white-space:pre;overflow-x:auto;line-height:normal;font-family:Menlo,'DejaVu Sans Mono',consolas,'Courier New',monospace\">05:10:26.899 | <span style=\"color: #008080; text-decoration-color: #008080\">INFO</span>    | Task run 'align_tracking_data-ea7afe30-0' - Finished in state <span style=\"color: #008000; text-decoration-color: #008000\">Completed</span>()\n",
       "</pre>\n"
      ],
      "text/plain": [
       "05:10:26.899 | \u001b[36mINFO\u001b[0m    | Task run 'align_tracking_data-ea7afe30-0' - Finished in state \u001b[32mCompleted\u001b[0m()\n"
      ]
     },
     "metadata": {},
     "output_type": "display_data"
    },
    {
     "data": {
      "text/html": [
       "<pre style=\"white-space:pre;overflow-x:auto;line-height:normal;font-family:Menlo,'DejaVu Sans Mono',consolas,'Courier New',monospace\">05:10:26.931 | <span style=\"color: #008080; text-decoration-color: #008080\">INFO</span>    | Flow run<span style=\"color: #800080; text-decoration-color: #800080\"> 'elegant-mule'</span> - Created task run 'rotate_tracking_data-13ea6cce-0' for task 'rotate_tracking_data'\n",
       "</pre>\n"
      ],
      "text/plain": [
       "05:10:26.931 | \u001b[36mINFO\u001b[0m    | Flow run\u001b[35m 'elegant-mule'\u001b[0m - Created task run 'rotate_tracking_data-13ea6cce-0' for task 'rotate_tracking_data'\n"
      ]
     },
     "metadata": {},
     "output_type": "display_data"
    },
    {
     "data": {
      "text/html": [
       "<pre style=\"white-space:pre;overflow-x:auto;line-height:normal;font-family:Menlo,'DejaVu Sans Mono',consolas,'Courier New',monospace\">05:10:26.933 | <span style=\"color: #008080; text-decoration-color: #008080\">INFO</span>    | Flow run<span style=\"color: #800080; text-decoration-color: #800080\"> 'elegant-mule'</span> - Executing 'rotate_tracking_data-13ea6cce-0' immediately...\n",
       "</pre>\n"
      ],
      "text/plain": [
       "05:10:26.933 | \u001b[36mINFO\u001b[0m    | Flow run\u001b[35m 'elegant-mule'\u001b[0m - Executing 'rotate_tracking_data-13ea6cce-0' immediately...\n"
      ]
     },
     "metadata": {},
     "output_type": "display_data"
    },
    {
     "data": {
      "text/html": [
       "<pre style=\"white-space:pre;overflow-x:auto;line-height:normal;font-family:Menlo,'DejaVu Sans Mono',consolas,'Courier New',monospace\">05:10:27.069 | <span style=\"color: #008080; text-decoration-color: #008080\">INFO</span>    | Task run 'rotate_tracking_data-13ea6cce-0' - Finished in state <span style=\"color: #008000; text-decoration-color: #008000\">Completed</span>()\n",
       "</pre>\n"
      ],
      "text/plain": [
       "05:10:27.069 | \u001b[36mINFO\u001b[0m    | Task run 'rotate_tracking_data-13ea6cce-0' - Finished in state \u001b[32mCompleted\u001b[0m()\n"
      ]
     },
     "metadata": {},
     "output_type": "display_data"
    },
    {
     "data": {
      "text/html": [
       "<pre style=\"white-space:pre;overflow-x:auto;line-height:normal;font-family:Menlo,'DejaVu Sans Mono',consolas,'Courier New',monospace\">05:10:27.105 | <span style=\"color: #008080; text-decoration-color: #008080\">INFO</span>    | Flow run<span style=\"color: #800080; text-decoration-color: #800080\"> 'elegant-mule'</span> - Created task run 'get_passer_out_of_pocket-98072e46-0' for task 'get_passer_out_of_pocket'\n",
       "</pre>\n"
      ],
      "text/plain": [
       "05:10:27.105 | \u001b[36mINFO\u001b[0m    | Flow run\u001b[35m 'elegant-mule'\u001b[0m - Created task run 'get_passer_out_of_pocket-98072e46-0' for task 'get_passer_out_of_pocket'\n"
      ]
     },
     "metadata": {},
     "output_type": "display_data"
    },
    {
     "data": {
      "text/html": [
       "<pre style=\"white-space:pre;overflow-x:auto;line-height:normal;font-family:Menlo,'DejaVu Sans Mono',consolas,'Courier New',monospace\">05:10:27.107 | <span style=\"color: #008080; text-decoration-color: #008080\">INFO</span>    | Flow run<span style=\"color: #800080; text-decoration-color: #800080\"> 'elegant-mule'</span> - Executing 'get_passer_out_of_pocket-98072e46-0' immediately...\n",
       "</pre>\n"
      ],
      "text/plain": [
       "05:10:27.107 | \u001b[36mINFO\u001b[0m    | Flow run\u001b[35m 'elegant-mule'\u001b[0m - Executing 'get_passer_out_of_pocket-98072e46-0' immediately...\n"
      ]
     },
     "metadata": {},
     "output_type": "display_data"
    },
    {
     "data": {
      "text/html": [
       "<pre style=\"white-space:pre;overflow-x:auto;line-height:normal;font-family:Menlo,'DejaVu Sans Mono',consolas,'Courier New',monospace\">05:10:32.118 | <span style=\"color: #008080; text-decoration-color: #008080\">INFO</span>    | Task run 'get_passer_out_of_pocket-98072e46-0' - Finished in state <span style=\"color: #008000; text-decoration-color: #008000\">Completed</span>()\n",
       "</pre>\n"
      ],
      "text/plain": [
       "05:10:32.118 | \u001b[36mINFO\u001b[0m    | Task run 'get_passer_out_of_pocket-98072e46-0' - Finished in state \u001b[32mCompleted\u001b[0m()\n"
      ]
     },
     "metadata": {},
     "output_type": "display_data"
    },
    {
     "data": {
      "text/html": [
       "<pre style=\"white-space:pre;overflow-x:auto;line-height:normal;font-family:Menlo,'DejaVu Sans Mono',consolas,'Courier New',monospace\">05:10:32.152 | <span style=\"color: #008080; text-decoration-color: #008080\">INFO</span>    | Flow run<span style=\"color: #800080; text-decoration-color: #800080\"> 'elegant-mule'</span> - Created task run 'clean_event_data-657c8302-0' for task 'clean_event_data'\n",
       "</pre>\n"
      ],
      "text/plain": [
       "05:10:32.152 | \u001b[36mINFO\u001b[0m    | Flow run\u001b[35m 'elegant-mule'\u001b[0m - Created task run 'clean_event_data-657c8302-0' for task 'clean_event_data'\n"
      ]
     },
     "metadata": {},
     "output_type": "display_data"
    },
    {
     "data": {
      "text/html": [
       "<pre style=\"white-space:pre;overflow-x:auto;line-height:normal;font-family:Menlo,'DejaVu Sans Mono',consolas,'Courier New',monospace\">05:10:32.154 | <span style=\"color: #008080; text-decoration-color: #008080\">INFO</span>    | Flow run<span style=\"color: #800080; text-decoration-color: #800080\"> 'elegant-mule'</span> - Executing 'clean_event_data-657c8302-0' immediately...\n",
       "</pre>\n"
      ],
      "text/plain": [
       "05:10:32.154 | \u001b[36mINFO\u001b[0m    | Flow run\u001b[35m 'elegant-mule'\u001b[0m - Executing 'clean_event_data-657c8302-0' immediately...\n"
      ]
     },
     "metadata": {},
     "output_type": "display_data"
    },
    {
     "data": {
      "text/html": [
       "<pre style=\"white-space:pre;overflow-x:auto;line-height:normal;font-family:Menlo,'DejaVu Sans Mono',consolas,'Courier New',monospace\">05:10:33.902 | <span style=\"color: #008080; text-decoration-color: #008080\">INFO</span>    | Task run 'clean_event_data-657c8302-0' - Finished in state <span style=\"color: #008000; text-decoration-color: #008000\">Completed</span>()\n",
       "</pre>\n"
      ],
      "text/plain": [
       "05:10:33.902 | \u001b[36mINFO\u001b[0m    | Task run 'clean_event_data-657c8302-0' - Finished in state \u001b[32mCompleted\u001b[0m()\n"
      ]
     },
     "metadata": {},
     "output_type": "display_data"
    },
    {
     "data": {
      "text/html": [
       "<pre style=\"white-space:pre;overflow-x:auto;line-height:normal;font-family:Menlo,'DejaVu Sans Mono',consolas,'Courier New',monospace\">05:10:33.935 | <span style=\"color: #008080; text-decoration-color: #008080\">INFO</span>    | Flow run<span style=\"color: #800080; text-decoration-color: #800080\"> 'elegant-mule'</span> - Created task run 'get_pocket_eligibility-6d653879-0' for task 'get_pocket_eligibility'\n",
       "</pre>\n"
      ],
      "text/plain": [
       "05:10:33.935 | \u001b[36mINFO\u001b[0m    | Flow run\u001b[35m 'elegant-mule'\u001b[0m - Created task run 'get_pocket_eligibility-6d653879-0' for task 'get_pocket_eligibility'\n"
      ]
     },
     "metadata": {},
     "output_type": "display_data"
    },
    {
     "data": {
      "text/html": [
       "<pre style=\"white-space:pre;overflow-x:auto;line-height:normal;font-family:Menlo,'DejaVu Sans Mono',consolas,'Courier New',monospace\">05:10:33.939 | <span style=\"color: #008080; text-decoration-color: #008080\">INFO</span>    | Flow run<span style=\"color: #800080; text-decoration-color: #800080\"> 'elegant-mule'</span> - Executing 'get_pocket_eligibility-6d653879-0' immediately...\n",
       "</pre>\n"
      ],
      "text/plain": [
       "05:10:33.939 | \u001b[36mINFO\u001b[0m    | Flow run\u001b[35m 'elegant-mule'\u001b[0m - Executing 'get_pocket_eligibility-6d653879-0' immediately...\n"
      ]
     },
     "metadata": {},
     "output_type": "display_data"
    },
    {
     "data": {
      "text/html": [
       "<pre style=\"white-space:pre;overflow-x:auto;line-height:normal;font-family:Menlo,'DejaVu Sans Mono',consolas,'Courier New',monospace\">05:10:34.130 | <span style=\"color: #008080; text-decoration-color: #008080\">INFO</span>    | Task run 'get_pocket_eligibility-6d653879-0' - Finished in state <span style=\"color: #008000; text-decoration-color: #008000\">Completed</span>()\n",
       "</pre>\n"
      ],
      "text/plain": [
       "05:10:34.130 | \u001b[36mINFO\u001b[0m    | Task run 'get_pocket_eligibility-6d653879-0' - Finished in state \u001b[32mCompleted\u001b[0m()\n"
      ]
     },
     "metadata": {},
     "output_type": "display_data"
    },
    {
     "data": {
      "text/html": [
       "<pre style=\"white-space:pre;overflow-x:auto;line-height:normal;font-family:Menlo,'DejaVu Sans Mono',consolas,'Courier New',monospace\">05:10:34.161 | <span style=\"color: #008080; text-decoration-color: #008080\">INFO</span>    | Flow run<span style=\"color: #800080; text-decoration-color: #800080\"> 'elegant-mule'</span> - Created task run 'augment_tracking_events-342a9dc3-0' for task 'augment_tracking_events'\n",
       "</pre>\n"
      ],
      "text/plain": [
       "05:10:34.161 | \u001b[36mINFO\u001b[0m    | Flow run\u001b[35m 'elegant-mule'\u001b[0m - Created task run 'augment_tracking_events-342a9dc3-0' for task 'augment_tracking_events'\n"
      ]
     },
     "metadata": {},
     "output_type": "display_data"
    },
    {
     "data": {
      "text/html": [
       "<pre style=\"white-space:pre;overflow-x:auto;line-height:normal;font-family:Menlo,'DejaVu Sans Mono',consolas,'Courier New',monospace\">05:10:34.163 | <span style=\"color: #008080; text-decoration-color: #008080\">INFO</span>    | Flow run<span style=\"color: #800080; text-decoration-color: #800080\"> 'elegant-mule'</span> - Executing 'augment_tracking_events-342a9dc3-0' immediately...\n",
       "</pre>\n"
      ],
      "text/plain": [
       "05:10:34.163 | \u001b[36mINFO\u001b[0m    | Flow run\u001b[35m 'elegant-mule'\u001b[0m - Executing 'augment_tracking_events-342a9dc3-0' immediately...\n"
      ]
     },
     "metadata": {},
     "output_type": "display_data"
    },
    {
     "data": {
      "text/html": [
       "<pre style=\"white-space:pre;overflow-x:auto;line-height:normal;font-family:Menlo,'DejaVu Sans Mono',consolas,'Courier New',monospace\">05:10:35.088 | <span style=\"color: #008080; text-decoration-color: #008080\">INFO</span>    | Task run 'augment_tracking_events-342a9dc3-0' - Finished in state <span style=\"color: #008000; text-decoration-color: #008000\">Completed</span>()\n",
       "</pre>\n"
      ],
      "text/plain": [
       "05:10:35.088 | \u001b[36mINFO\u001b[0m    | Task run 'augment_tracking_events-342a9dc3-0' - Finished in state \u001b[32mCompleted\u001b[0m()\n"
      ]
     },
     "metadata": {},
     "output_type": "display_data"
    },
    {
     "data": {
      "text/html": [
       "<pre style=\"white-space:pre;overflow-x:auto;line-height:normal;font-family:Menlo,'DejaVu Sans Mono',consolas,'Courier New',monospace\">05:10:35.128 | <span style=\"color: #008080; text-decoration-color: #008080\">INFO</span>    | Flow run<span style=\"color: #800080; text-decoration-color: #800080\"> 'elegant-mule'</span> - Created task run 'transform_to_tracking_display-0c78dc49-0' for task 'transform_to_tracking_display'\n",
       "</pre>\n"
      ],
      "text/plain": [
       "05:10:35.128 | \u001b[36mINFO\u001b[0m    | Flow run\u001b[35m 'elegant-mule'\u001b[0m - Created task run 'transform_to_tracking_display-0c78dc49-0' for task 'transform_to_tracking_display'\n"
      ]
     },
     "metadata": {},
     "output_type": "display_data"
    },
    {
     "data": {
      "text/html": [
       "<pre style=\"white-space:pre;overflow-x:auto;line-height:normal;font-family:Menlo,'DejaVu Sans Mono',consolas,'Courier New',monospace\">05:10:35.131 | <span style=\"color: #008080; text-decoration-color: #008080\">INFO</span>    | Flow run<span style=\"color: #800080; text-decoration-color: #800080\"> 'elegant-mule'</span> - Executing 'transform_to_tracking_display-0c78dc49-0' immediately...\n",
       "</pre>\n"
      ],
      "text/plain": [
       "05:10:35.131 | \u001b[36mINFO\u001b[0m    | Flow run\u001b[35m 'elegant-mule'\u001b[0m - Executing 'transform_to_tracking_display-0c78dc49-0' immediately...\n"
      ]
     },
     "metadata": {},
     "output_type": "display_data"
    },
    {
     "data": {
      "text/html": [
       "<pre style=\"white-space:pre;overflow-x:auto;line-height:normal;font-family:Menlo,'DejaVu Sans Mono',consolas,'Courier New',monospace\">05:10:38.525 | <span style=\"color: #008080; text-decoration-color: #008080\">INFO</span>    | Task run 'transform_to_tracking_display-0c78dc49-0' - Finished in state <span style=\"color: #008000; text-decoration-color: #008000\">Completed</span>()\n",
       "</pre>\n"
      ],
      "text/plain": [
       "05:10:38.525 | \u001b[36mINFO\u001b[0m    | Task run 'transform_to_tracking_display-0c78dc49-0' - Finished in state \u001b[32mCompleted\u001b[0m()\n"
      ]
     },
     "metadata": {},
     "output_type": "display_data"
    },
    {
     "data": {
      "text/html": [
       "<pre style=\"white-space:pre;overflow-x:auto;line-height:normal;font-family:Menlo,'DejaVu Sans Mono',consolas,'Courier New',monospace\">05:10:38.556 | <span style=\"color: #008080; text-decoration-color: #008080\">INFO</span>    | Flow run<span style=\"color: #800080; text-decoration-color: #800080\"> 'elegant-mule'</span> - Created task run 'transform_to_frames-3446c324-0' for task 'transform_to_frames'\n",
       "</pre>\n"
      ],
      "text/plain": [
       "05:10:38.556 | \u001b[36mINFO\u001b[0m    | Flow run\u001b[35m 'elegant-mule'\u001b[0m - Created task run 'transform_to_frames-3446c324-0' for task 'transform_to_frames'\n"
      ]
     },
     "metadata": {},
     "output_type": "display_data"
    },
    {
     "data": {
      "text/html": [
       "<pre style=\"white-space:pre;overflow-x:auto;line-height:normal;font-family:Menlo,'DejaVu Sans Mono',consolas,'Courier New',monospace\">05:10:38.558 | <span style=\"color: #008080; text-decoration-color: #008080\">INFO</span>    | Flow run<span style=\"color: #800080; text-decoration-color: #800080\"> 'elegant-mule'</span> - Executing 'transform_to_frames-3446c324-0' immediately...\n",
       "</pre>\n"
      ],
      "text/plain": [
       "05:10:38.558 | \u001b[36mINFO\u001b[0m    | Flow run\u001b[35m 'elegant-mule'\u001b[0m - Executing 'transform_to_frames-3446c324-0' immediately...\n"
      ]
     },
     "metadata": {},
     "output_type": "display_data"
    },
    {
     "data": {
      "text/html": [
       "<pre style=\"white-space:pre;overflow-x:auto;line-height:normal;font-family:Menlo,'DejaVu Sans Mono',consolas,'Courier New',monospace\">05:10:45.809 | <span style=\"color: #008080; text-decoration-color: #008080\">INFO</span>    | Task run 'transform_to_frames-3446c324-0' - Finished in state <span style=\"color: #008000; text-decoration-color: #008000\">Completed</span>()\n",
       "</pre>\n"
      ],
      "text/plain": [
       "05:10:45.809 | \u001b[36mINFO\u001b[0m    | Task run 'transform_to_frames-3446c324-0' - Finished in state \u001b[32mCompleted\u001b[0m()\n"
      ]
     },
     "metadata": {},
     "output_type": "display_data"
    },
    {
     "data": {
      "text/html": [
       "<pre style=\"white-space:pre;overflow-x:auto;line-height:normal;font-family:Menlo,'DejaVu Sans Mono',consolas,'Courier New',monospace\">05:10:45.837 | <span style=\"color: #008080; text-decoration-color: #008080\">INFO</span>    | Flow run<span style=\"color: #800080; text-decoration-color: #800080\"> 'elegant-mule'</span> - Created task run 'transform_to_records_per_frame-823b8998-0' for task 'transform_to_records_per_frame'\n",
       "</pre>\n"
      ],
      "text/plain": [
       "05:10:45.837 | \u001b[36mINFO\u001b[0m    | Flow run\u001b[35m 'elegant-mule'\u001b[0m - Created task run 'transform_to_records_per_frame-823b8998-0' for task 'transform_to_records_per_frame'\n"
      ]
     },
     "metadata": {},
     "output_type": "display_data"
    },
    {
     "data": {
      "text/html": [
       "<pre style=\"white-space:pre;overflow-x:auto;line-height:normal;font-family:Menlo,'DejaVu Sans Mono',consolas,'Courier New',monospace\">05:10:45.839 | <span style=\"color: #008080; text-decoration-color: #008080\">INFO</span>    | Flow run<span style=\"color: #800080; text-decoration-color: #800080\"> 'elegant-mule'</span> - Executing 'transform_to_records_per_frame-823b8998-0' immediately...\n",
       "</pre>\n"
      ],
      "text/plain": [
       "05:10:45.839 | \u001b[36mINFO\u001b[0m    | Flow run\u001b[35m 'elegant-mule'\u001b[0m - Executing 'transform_to_records_per_frame-823b8998-0' immediately...\n"
      ]
     },
     "metadata": {},
     "output_type": "display_data"
    },
    {
     "data": {
      "text/html": [
       "<pre style=\"white-space:pre;overflow-x:auto;line-height:normal;font-family:Menlo,'DejaVu Sans Mono',consolas,'Courier New',monospace\">05:10:51.058 | <span style=\"color: #008080; text-decoration-color: #008080\">INFO</span>    | Task run 'transform_to_records_per_frame-823b8998-0' - Finished in state <span style=\"color: #008000; text-decoration-color: #008000\">Completed</span>()\n",
       "</pre>\n"
      ],
      "text/plain": [
       "05:10:51.058 | \u001b[36mINFO\u001b[0m    | Task run 'transform_to_records_per_frame-823b8998-0' - Finished in state \u001b[32mCompleted\u001b[0m()\n"
      ]
     },
     "metadata": {},
     "output_type": "display_data"
    },
    {
     "data": {
      "text/html": [
       "<pre style=\"white-space:pre;overflow-x:auto;line-height:normal;font-family:Menlo,'DejaVu Sans Mono',consolas,'Courier New',monospace\">05:10:51.113 | <span style=\"color: #008080; text-decoration-color: #008080\">INFO</span>    | Flow run<span style=\"color: #800080; text-decoration-color: #800080\"> 'elegant-mule'</span> - Created task run 'calculate_pocket_area-cc18ef62-1' for task 'calculate_pocket_area'\n",
       "</pre>\n"
      ],
      "text/plain": [
       "05:10:51.113 | \u001b[36mINFO\u001b[0m    | Flow run\u001b[35m 'elegant-mule'\u001b[0m - Created task run 'calculate_pocket_area-cc18ef62-1' for task 'calculate_pocket_area'\n"
      ]
     },
     "metadata": {},
     "output_type": "display_data"
    },
    {
     "data": {
      "text/html": [
       "<pre style=\"white-space:pre;overflow-x:auto;line-height:normal;font-family:Menlo,'DejaVu Sans Mono',consolas,'Courier New',monospace\">05:10:51.115 | <span style=\"color: #008080; text-decoration-color: #008080\">INFO</span>    | Flow run<span style=\"color: #800080; text-decoration-color: #800080\"> 'elegant-mule'</span> - Submitted task run 'calculate_pocket_area-cc18ef62-1' for execution.\n",
       "</pre>\n"
      ],
      "text/plain": [
       "05:10:51.115 | \u001b[36mINFO\u001b[0m    | Flow run\u001b[35m 'elegant-mule'\u001b[0m - Submitted task run 'calculate_pocket_area-cc18ef62-1' for execution.\n"
      ]
     },
     "metadata": {},
     "output_type": "display_data"
    },
    {
     "data": {
      "text/html": [
       "<pre style=\"white-space:pre;overflow-x:auto;line-height:normal;font-family:Menlo,'DejaVu Sans Mono',consolas,'Courier New',monospace\">05:10:51.141 | <span style=\"color: #008080; text-decoration-color: #008080\">INFO</span>    | Flow run<span style=\"color: #800080; text-decoration-color: #800080\"> 'elegant-mule'</span> - Created task run 'calculate_pocket_area-cc18ef62-2' for task 'calculate_pocket_area'\n",
       "</pre>\n"
      ],
      "text/plain": [
       "05:10:51.141 | \u001b[36mINFO\u001b[0m    | Flow run\u001b[35m 'elegant-mule'\u001b[0m - Created task run 'calculate_pocket_area-cc18ef62-2' for task 'calculate_pocket_area'\n"
      ]
     },
     "metadata": {},
     "output_type": "display_data"
    },
    {
     "data": {
      "text/html": [
       "<pre style=\"white-space:pre;overflow-x:auto;line-height:normal;font-family:Menlo,'DejaVu Sans Mono',consolas,'Courier New',monospace\">05:10:51.143 | <span style=\"color: #008080; text-decoration-color: #008080\">INFO</span>    | Flow run<span style=\"color: #800080; text-decoration-color: #800080\"> 'elegant-mule'</span> - Submitted task run 'calculate_pocket_area-cc18ef62-2' for execution.\n",
       "</pre>\n"
      ],
      "text/plain": [
       "05:10:51.143 | \u001b[36mINFO\u001b[0m    | Flow run\u001b[35m 'elegant-mule'\u001b[0m - Submitted task run 'calculate_pocket_area-cc18ef62-2' for execution.\n"
      ]
     },
     "metadata": {},
     "output_type": "display_data"
    },
    {
     "data": {
      "text/html": [
       "<pre style=\"white-space:pre;overflow-x:auto;line-height:normal;font-family:Menlo,'DejaVu Sans Mono',consolas,'Courier New',monospace\">05:10:51.175 | <span style=\"color: #008080; text-decoration-color: #008080\">INFO</span>    | Flow run<span style=\"color: #800080; text-decoration-color: #800080\"> 'elegant-mule'</span> - Created task run 'calculate_pocket_area-cc18ef62-0' for task 'calculate_pocket_area'\n",
       "</pre>\n"
      ],
      "text/plain": [
       "05:10:51.175 | \u001b[36mINFO\u001b[0m    | Flow run\u001b[35m 'elegant-mule'\u001b[0m - Created task run 'calculate_pocket_area-cc18ef62-0' for task 'calculate_pocket_area'\n"
      ]
     },
     "metadata": {},
     "output_type": "display_data"
    },
    {
     "data": {
      "text/html": [
       "<pre style=\"white-space:pre;overflow-x:auto;line-height:normal;font-family:Menlo,'DejaVu Sans Mono',consolas,'Courier New',monospace\">05:10:51.178 | <span style=\"color: #008080; text-decoration-color: #008080\">INFO</span>    | Flow run<span style=\"color: #800080; text-decoration-color: #800080\"> 'elegant-mule'</span> - Submitted task run 'calculate_pocket_area-cc18ef62-0' for execution.\n",
       "</pre>\n"
      ],
      "text/plain": [
       "05:10:51.178 | \u001b[36mINFO\u001b[0m    | Flow run\u001b[35m 'elegant-mule'\u001b[0m - Submitted task run 'calculate_pocket_area-cc18ef62-0' for execution.\n"
      ]
     },
     "metadata": {},
     "output_type": "display_data"
    },
    {
     "data": {
      "text/html": [
       "<pre style=\"white-space:pre;overflow-x:auto;line-height:normal;font-family:Menlo,'DejaVu Sans Mono',consolas,'Courier New',monospace\">05:10:51.227 | <span style=\"color: #008080; text-decoration-color: #008080\">INFO</span>    | Flow run<span style=\"color: #800080; text-decoration-color: #800080\"> 'elegant-mule'</span> - Created task run 'calculate_pocket_area-cc18ef62-3' for task 'calculate_pocket_area'\n",
       "</pre>\n"
      ],
      "text/plain": [
       "05:10:51.227 | \u001b[36mINFO\u001b[0m    | Flow run\u001b[35m 'elegant-mule'\u001b[0m - Created task run 'calculate_pocket_area-cc18ef62-3' for task 'calculate_pocket_area'\n"
      ]
     },
     "metadata": {},
     "output_type": "display_data"
    },
    {
     "data": {
      "text/html": [
       "<pre style=\"white-space:pre;overflow-x:auto;line-height:normal;font-family:Menlo,'DejaVu Sans Mono',consolas,'Courier New',monospace\">05:10:51.231 | <span style=\"color: #008080; text-decoration-color: #008080\">INFO</span>    | Flow run<span style=\"color: #800080; text-decoration-color: #800080\"> 'elegant-mule'</span> - Submitted task run 'calculate_pocket_area-cc18ef62-3' for execution.\n",
       "</pre>\n"
      ],
      "text/plain": [
       "05:10:51.231 | \u001b[36mINFO\u001b[0m    | Flow run\u001b[35m 'elegant-mule'\u001b[0m - Submitted task run 'calculate_pocket_area-cc18ef62-3' for execution.\n"
      ]
     },
     "metadata": {},
     "output_type": "display_data"
    },
    {
     "data": {
      "text/html": [
       "<pre style=\"white-space:pre;overflow-x:auto;line-height:normal;font-family:Menlo,'DejaVu Sans Mono',consolas,'Courier New',monospace\">05:10:51.411 | <span style=\"color: #008080; text-decoration-color: #008080\">INFO</span>    | Flow run<span style=\"color: #800080; text-decoration-color: #800080\"> 'elegant-mule'</span> - Created task run 'union_dataframes-8a4e3d8f-0' for task 'union_dataframes'\n",
       "</pre>\n"
      ],
      "text/plain": [
       "05:10:51.411 | \u001b[36mINFO\u001b[0m    | Flow run\u001b[35m 'elegant-mule'\u001b[0m - Created task run 'union_dataframes-8a4e3d8f-0' for task 'union_dataframes'\n"
      ]
     },
     "metadata": {},
     "output_type": "display_data"
    },
    {
     "data": {
      "text/html": [
       "<pre style=\"white-space:pre;overflow-x:auto;line-height:normal;font-family:Menlo,'DejaVu Sans Mono',consolas,'Courier New',monospace\">05:10:51.435 | <span style=\"color: #008080; text-decoration-color: #008080\">INFO</span>    | Flow run<span style=\"color: #800080; text-decoration-color: #800080\"> 'elegant-mule'</span> - Executing 'union_dataframes-8a4e3d8f-0' immediately...\n",
       "</pre>\n"
      ],
      "text/plain": [
       "05:10:51.435 | \u001b[36mINFO\u001b[0m    | Flow run\u001b[35m 'elegant-mule'\u001b[0m - Executing 'union_dataframes-8a4e3d8f-0' immediately...\n"
      ]
     },
     "metadata": {},
     "output_type": "display_data"
    },
    {
     "data": {
      "text/html": [
       "<pre style=\"white-space:pre;overflow-x:auto;line-height:normal;font-family:Menlo,'DejaVu Sans Mono',consolas,'Courier New',monospace\">05:10:59.506 | <span style=\"color: #008080; text-decoration-color: #008080\">INFO</span>    | Task run 'calculate_pocket_area-cc18ef62-0' - Finished in state <span style=\"color: #008000; text-decoration-color: #008000\">Completed</span>()\n",
       "</pre>\n"
      ],
      "text/plain": [
       "05:10:59.506 | \u001b[36mINFO\u001b[0m    | Task run 'calculate_pocket_area-cc18ef62-0' - Finished in state \u001b[32mCompleted\u001b[0m()\n"
      ]
     },
     "metadata": {},
     "output_type": "display_data"
    },
    {
     "name": "stdout",
     "output_type": "stream",
     "text": [
      "Exception in rushers_pocket_area(): QH6214 qhull input error: not enough points(2) to construct initial simplex (need 3)\n",
      "\n",
      "While executing:  | qhull i Qt\n",
      "Options selected for Qhull 2019.1.r 2019/06/21:\n",
      "  run-id 108178738  incidence  Qtriangulate  _pre-merge  _zero-centrum\n",
      "  _maxoutside  0\n",
      "\n",
      "Exception in rushers_pocket_area(): QH6214 qhull input error: not enough points(2) to construct initial simplex (need 3)\n",
      "\n",
      "While executing:  | qhull i Qt\n",
      "Options selected for Qhull 2019.1.r 2019/06/21:\n",
      "  run-id 108178738  incidence  Qtriangulate  _pre-merge  _zero-centrum\n",
      "  _maxoutside  0\n",
      "\n",
      "Exception in rushers_pocket_area(): QH6214 qhull input error: not enough points(2) to construct initial simplex (need 3)\n",
      "\n",
      "While executing:  | qhull i Qt\n",
      "Options selected for Qhull 2019.1.r 2019/06/21:\n",
      "  run-id 108178738  incidence  Qtriangulate  _pre-merge  _zero-centrum\n",
      "  _maxoutside  0\n",
      "\n",
      "Exception in rushers_pocket_area(): QH6214 qhull input error: not enough points(2) to construct initial simplex (need 3)\n",
      "\n",
      "While executing:  | qhull i Qt\n",
      "Options selected for Qhull 2019.1.r 2019/06/21:\n",
      "  run-id 108178738  incidence  Qtriangulate  _pre-merge  _zero-centrum\n",
      "  _maxoutside  0\n",
      "\n",
      "Exception in rushers_pocket_area(): QH6214 qhull input error: not enough points(2) to construct initial simplex (need 3)\n",
      "\n",
      "While executing:  | qhull i Qt\n",
      "Options selected for Qhull 2019.1.r 2019/06/21:\n",
      "  run-id 108178738  incidence  Qtriangulate  _pre-merge  _zero-centrum\n",
      "  _maxoutside  0\n",
      "\n",
      "Exception in rushers_pocket_area(): QH6214 qhull input error: not enough points(2) to construct initial simplex (need 3)\n",
      "\n",
      "While executing:  | qhull i Qt\n",
      "Options selected for Qhull 2019.1.r 2019/06/21:\n",
      "  run-id 108178738  incidence  Qtriangulate  _pre-merge  _zero-centrum\n",
      "  _maxoutside  0\n",
      "\n",
      "Exception in rushers_pocket_area(): QH6214 qhull input error: not enough points(2) to construct initial simplex (need 3)\n",
      "\n",
      "While executing:  | qhull i Qt\n",
      "Options selected for Qhull 2019.1.r 2019/06/21:\n",
      "  run-id 108178738  incidence  Qtriangulate  _pre-merge  _zero-centrum\n",
      "  _maxoutside  0\n",
      "\n",
      "Exception in rushers_pocket_area(): QH6214 qhull input error: not enough points(2) to construct initial simplex (need 3)\n",
      "\n",
      "While executing:  | qhull i Qt\n",
      "Options selected for Qhull 2019.1.r 2019/06/21:\n",
      "  run-id 108178738  incidence  Qtriangulate  _pre-merge  _zero-centrum\n",
      "  _maxoutside  0\n",
      "\n",
      "Exception in rushers_pocket_area(): QH6214 qhull input error: not enough points(2) to construct initial simplex (need 3)\n",
      "\n",
      "While executing:  | qhull i Qt\n",
      "Options selected for Qhull 2019.1.r 2019/06/21:\n",
      "  run-id 108178738  incidence  Qtriangulate  _pre-merge  _zero-centrum\n",
      "  _maxoutside  0\n",
      "\n",
      "Exception in rushers_pocket_area(): QH6214 qhull input error: not enough points(2) to construct initial simplex (need 3)\n",
      "\n",
      "While executing:  | qhull i Qt\n",
      "Options selected for Qhull 2019.1.r 2019/06/21:\n",
      "  run-id 108178738  incidence  Qtriangulate  _pre-merge  _zero-centrum\n",
      "  _maxoutside  0\n",
      "\n",
      "Exception in rushers_pocket_area(): QH6214 qhull input error: not enough points(2) to construct initial simplex (need 3)\n",
      "\n",
      "While executing:  | qhull i Qt\n",
      "Options selected for Qhull 2019.1.r 2019/06/21:\n",
      "  run-id 108178738  incidence  Qtriangulate  _pre-merge  _zero-centrum\n",
      "  _maxoutside  0\n",
      "\n",
      "Exception in rushers_pocket_area(): QH6214 qhull input error: not enough points(2) to construct initial simplex (need 3)\n",
      "\n",
      "While executing:  | qhull i Qt\n",
      "Options selected for Qhull 2019.1.r 2019/06/21:\n",
      "  run-id 108178738  incidence  Qtriangulate  _pre-merge  _zero-centrum\n",
      "  _maxoutside  0\n",
      "\n",
      "Exception in rushers_pocket_area(): QH6214 qhull input error: not enough points(2) to construct initial simplex (need 3)\n",
      "\n",
      "While executing:  | qhull i Qt\n",
      "Options selected for Qhull 2019.1.r 2019/06/21:\n",
      "  run-id 108178738  incidence  Qtriangulate  _pre-merge  _zero-centrum\n",
      "  _maxoutside  0\n",
      "\n",
      "Exception in rushers_pocket_area(): QH6214 qhull input error: not enough points(2) to construct initial simplex (need 3)\n",
      "\n",
      "While executing:  | qhull i Qt\n",
      "Options selected for Qhull 2019.1.r 2019/06/21:\n",
      "  run-id 108178738  incidence  Qtriangulate  _pre-merge  _zero-centrum\n",
      "  _maxoutside  0\n",
      "\n",
      "Exception in rushers_pocket_area(): QH6214 qhull input error: not enough points(2) to construct initial simplex (need 3)\n",
      "\n",
      "While executing:  | qhull i Qt\n",
      "Options selected for Qhull 2019.1.r 2019/06/21:\n",
      "  run-id 108178738  incidence  Qtriangulate  _pre-merge  _zero-centrum\n",
      "  _maxoutside  0\n",
      "\n",
      "Exception in rushers_pocket_area(): QH6214 qhull input error: not enough points(2) to construct initial simplex (need 3)\n",
      "\n",
      "While executing:  | qhull i Qt\n",
      "Options selected for Qhull 2019.1.r 2019/06/21:\n",
      "  run-id 108178738  incidence  Qtriangulate  _pre-merge  _zero-centrum\n",
      "  _maxoutside  0\n",
      "\n",
      "Exception in rushers_pocket_area(): QH6214 qhull input error: not enough points(2) to construct initial simplex (need 3)\n",
      "\n",
      "While executing:  | qhull i Qt\n",
      "Options selected for Qhull 2019.1.r 2019/06/21:\n",
      "  run-id 108178738  incidence  Qtriangulate  _pre-merge  _zero-centrum\n",
      "  _maxoutside  0\n",
      "\n",
      "Exception in rushers_pocket_area(): QH6214 qhull input error: not enough points(2) to construct initial simplex (need 3)\n",
      "\n",
      "While executing:  | qhull i Qt\n",
      "Options selected for Qhull 2019.1.r 2019/06/21:\n",
      "  run-id 108178738  incidence  Qtriangulate  _pre-merge  _zero-centrum\n",
      "  _maxoutside  0\n",
      "\n",
      "Exception in rushers_pocket_area(): QH6214 qhull input error: not enough points(2) to construct initial simplex (need 3)\n",
      "\n",
      "While executing:  | qhull i Qt\n",
      "Options selected for Qhull 2019.1.r 2019/06/21:\n",
      "  run-id 108178738  incidence  Qtriangulate  _pre-merge  _zero-centrum\n",
      "  _maxoutside  0\n",
      "\n",
      "Exception in rushers_pocket_area(): QH6214 qhull input error: not enough points(2) to construct initial simplex (need 3)\n",
      "\n",
      "While executing:  | qhull i Qt\n",
      "Options selected for Qhull 2019.1.r 2019/06/21:\n",
      "  run-id 108178738  incidence  Qtriangulate  _pre-merge  _zero-centrum\n",
      "  _maxoutside  0\n",
      "\n",
      "Exception in rushers_pocket_area(): QH6214 qhull input error: not enough points(2) to construct initial simplex (need 3)\n",
      "\n",
      "While executing:  | qhull i Qt\n",
      "Options selected for Qhull 2019.1.r 2019/06/21:\n",
      "  run-id 108178738  incidence  Qtriangulate  _pre-merge  _zero-centrum\n",
      "  _maxoutside  0\n",
      "\n",
      "Exception in rushers_pocket_area(): QH6214 qhull input error: not enough points(2) to construct initial simplex (need 3)\n",
      "\n",
      "While executing:  | qhull i Qt\n",
      "Options selected for Qhull 2019.1.r 2019/06/21:\n",
      "  run-id 108178738  incidence  Qtriangulate  _pre-merge  _zero-centrum\n",
      "  _maxoutside  0\n",
      "\n",
      "Exception in rushers_pocket_area(): QH6214 qhull input error: not enough points(2) to construct initial simplex (need 3)\n",
      "\n",
      "While executing:  | qhull i Qt\n",
      "Options selected for Qhull 2019.1.r 2019/06/21:\n",
      "  run-id 108178738  incidence  Qtriangulate  _pre-merge  _zero-centrum\n",
      "  _maxoutside  0\n",
      "\n",
      "Exception in rushers_pocket_area(): QH6214 qhull input error: not enough points(2) to construct initial simplex (need 3)\n",
      "\n",
      "While executing:  | qhull i Qt\n",
      "Options selected for Qhull 2019.1.r 2019/06/21:\n",
      "  run-id 108178738  incidence  Qtriangulate  _pre-merge  _zero-centrum\n",
      "  _maxoutside  0\n",
      "\n",
      "Exception in rushers_pocket_area(): QH6214 qhull input error: not enough points(2) to construct initial simplex (need 3)\n",
      "\n",
      "While executing:  | qhull i Qt\n",
      "Options selected for Qhull 2019.1.r 2019/06/21:\n",
      "  run-id 108178738  incidence  Qtriangulate  _pre-merge  _zero-centrum\n",
      "  _maxoutside  0\n",
      "\n",
      "Exception in rushers_pocket_area(): QH6214 qhull input error: not enough points(2) to construct initial simplex (need 3)\n",
      "\n",
      "While executing:  | qhull i Qt\n",
      "Options selected for Qhull 2019.1.r 2019/06/21:\n",
      "  run-id 108178738  incidence  Qtriangulate  _pre-merge  _zero-centrum\n",
      "  _maxoutside  0\n",
      "\n",
      "Exception in rushers_pocket_area(): QH6214 qhull input error: not enough points(2) to construct initial simplex (need 3)\n",
      "\n",
      "While executing:  | qhull i Qt\n",
      "Options selected for Qhull 2019.1.r 2019/06/21:\n",
      "  run-id 108178738  incidence  Qtriangulate  _pre-merge  _zero-centrum\n",
      "  _maxoutside  0\n",
      "\n",
      "Exception in rushers_pocket_area(): QH6214 qhull input error: not enough points(2) to construct initial simplex (need 3)\n",
      "\n",
      "While executing:  | qhull i Qt\n",
      "Options selected for Qhull 2019.1.r 2019/06/21:\n",
      "  run-id 108178738  incidence  Qtriangulate  _pre-merge  _zero-centrum\n",
      "  _maxoutside  0\n",
      "\n",
      "Exception in rushers_pocket_area(): QH6214 qhull input error: not enough points(2) to construct initial simplex (need 3)\n",
      "\n",
      "While executing:  | qhull i Qt\n",
      "Options selected for Qhull 2019.1.r 2019/06/21:\n",
      "  run-id 108178738  incidence  Qtriangulate  _pre-merge  _zero-centrum\n",
      "  _maxoutside  0\n",
      "\n",
      "Exception in rushers_pocket_area(): QH6214 qhull input error: not enough points(2) to construct initial simplex (need 3)\n",
      "\n",
      "While executing:  | qhull i Qt\n",
      "Options selected for Qhull 2019.1.r 2019/06/21:\n",
      "  run-id 108178738  incidence  Qtriangulate  _pre-merge  _zero-centrum\n",
      "  _maxoutside  0\n",
      "\n",
      "Exception in rushers_pocket_area(): QH6214 qhull input error: not enough points(2) to construct initial simplex (need 3)\n",
      "\n",
      "While executing:  | qhull i Qt\n",
      "Options selected for Qhull 2019.1.r 2019/06/21:\n",
      "  run-id 108178738  incidence  Qtriangulate  _pre-merge  _zero-centrum\n",
      "  _maxoutside  0\n",
      "\n",
      "Exception in rushers_pocket_area(): QH6214 qhull input error: not enough points(2) to construct initial simplex (need 3)\n",
      "\n",
      "While executing:  | qhull i Qt\n",
      "Options selected for Qhull 2019.1.r 2019/06/21:\n",
      "  run-id 108178738  incidence  Qtriangulate  _pre-merge  _zero-centrum\n",
      "  _maxoutside  0\n",
      "\n",
      "Exception in rushers_pocket_area(): QH6214 qhull input error: not enough points(2) to construct initial simplex (need 3)\n",
      "\n",
      "While executing:  | qhull i Qt\n",
      "Options selected for Qhull 2019.1.r 2019/06/21:\n",
      "  run-id 108178738  incidence  Qtriangulate  _pre-merge  _zero-centrum\n",
      "  _maxoutside  0\n",
      "\n",
      "Exception in rushers_pocket_area(): QH6214 qhull input error: not enough points(2) to construct initial simplex (need 3)\n",
      "\n",
      "While executing:  | qhull i Qt\n",
      "Options selected for Qhull 2019.1.r 2019/06/21:\n",
      "  run-id 108178738  incidence  Qtriangulate  _pre-merge  _zero-centrum\n",
      "  _maxoutside  0\n",
      "\n",
      "Exception in rushers_pocket_area(): QH6214 qhull input error: not enough points(2) to construct initial simplex (need 3)\n",
      "\n",
      "While executing:  | qhull i Qt\n",
      "Options selected for Qhull 2019.1.r 2019/06/21:\n",
      "  run-id 108178738  incidence  Qtriangulate  _pre-merge  _zero-centrum\n",
      "  _maxoutside  0\n",
      "\n",
      "Exception in rushers_pocket_area(): QH6214 qhull input error: not enough points(2) to construct initial simplex (need 3)\n",
      "\n",
      "While executing:  | qhull i Qt\n",
      "Options selected for Qhull 2019.1.r 2019/06/21:\n",
      "  run-id 108178738  incidence  Qtriangulate  _pre-merge  _zero-centrum\n",
      "  _maxoutside  0\n",
      "\n",
      "Exception in rushers_pocket_area(): QH6214 qhull input error: not enough points(2) to construct initial simplex (need 3)\n",
      "\n",
      "While executing:  | qhull i Qt\n",
      "Options selected for Qhull 2019.1.r 2019/06/21:\n",
      "  run-id 108178738  incidence  Qtriangulate  _pre-merge  _zero-centrum\n",
      "  _maxoutside  0\n",
      "\n",
      "Exception in rushers_pocket_area(): QH6214 qhull input error: not enough points(2) to construct initial simplex (need 3)\n",
      "\n",
      "While executing:  | qhull i Qt\n",
      "Options selected for Qhull 2019.1.r 2019/06/21:\n",
      "  run-id 108178738  incidence  Qtriangulate  _pre-merge  _zero-centrum\n",
      "  _maxoutside  0\n",
      "\n",
      "Exception in rushers_pocket_area(): QH6214 qhull input error: not enough points(2) to construct initial simplex (need 3)\n",
      "\n",
      "While executing:  | qhull i Qt\n",
      "Options selected for Qhull 2019.1.r 2019/06/21:\n",
      "  run-id 108178738  incidence  Qtriangulate  _pre-merge  _zero-centrum\n",
      "  _maxoutside  0\n",
      "\n",
      "Exception in rushers_pocket_area(): QH6214 qhull input error: not enough points(2) to construct initial simplex (need 3)\n",
      "\n",
      "While executing:  | qhull i Qt\n",
      "Options selected for Qhull 2019.1.r 2019/06/21:\n",
      "  run-id 108178738  incidence  Qtriangulate  _pre-merge  _zero-centrum\n",
      "  _maxoutside  0\n",
      "\n",
      "Exception in rushers_pocket_area(): QH6214 qhull input error: not enough points(2) to construct initial simplex (need 3)\n",
      "\n",
      "While executing:  | qhull i Qt\n",
      "Options selected for Qhull 2019.1.r 2019/06/21:\n",
      "  run-id 108178738  incidence  Qtriangulate  _pre-merge  _zero-centrum\n",
      "  _maxoutside  0\n",
      "\n",
      "Exception in rushers_pocket_area(): QH6214 qhull input error: not enough points(2) to construct initial simplex (need 3)\n",
      "\n",
      "While executing:  | qhull i Qt\n",
      "Options selected for Qhull 2019.1.r 2019/06/21:\n",
      "  run-id 108178738  incidence  Qtriangulate  _pre-merge  _zero-centrum\n",
      "  _maxoutside  0\n",
      "\n",
      "Exception in rushers_pocket_area(): QH6214 qhull input error: not enough points(2) to construct initial simplex (need 3)\n",
      "\n",
      "While executing:  | qhull i Qt\n",
      "Options selected for Qhull 2019.1.r 2019/06/21:\n",
      "  run-id 108178738  incidence  Qtriangulate  _pre-merge  _zero-centrum\n",
      "  _maxoutside  0\n",
      "\n",
      "Exception in rushers_pocket_area(): QH6214 qhull input error: not enough points(2) to construct initial simplex (need 3)\n",
      "\n",
      "While executing:  | qhull i Qt\n",
      "Options selected for Qhull 2019.1.r 2019/06/21:\n",
      "  run-id 108178738  incidence  Qtriangulate  _pre-merge  _zero-centrum\n",
      "  _maxoutside  0\n",
      "\n",
      "Exception in rushers_pocket_area(): QH6214 qhull input error: not enough points(2) to construct initial simplex (need 3)\n",
      "\n",
      "While executing:  | qhull i Qt\n",
      "Options selected for Qhull 2019.1.r 2019/06/21:\n",
      "  run-id 108178738  incidence  Qtriangulate  _pre-merge  _zero-centrum\n",
      "  _maxoutside  0\n",
      "\n",
      "Exception in rushers_pocket_area(): QH6214 qhull input error: not enough points(2) to construct initial simplex (need 3)\n",
      "\n",
      "While executing:  | qhull i Qt\n",
      "Options selected for Qhull 2019.1.r 2019/06/21:\n",
      "  run-id 108178738  incidence  Qtriangulate  _pre-merge  _zero-centrum\n",
      "  _maxoutside  0\n",
      "\n",
      "Exception in rushers_pocket_area(): QH6214 qhull input error: not enough points(2) to construct initial simplex (need 3)\n",
      "\n",
      "While executing:  | qhull i Qt\n",
      "Options selected for Qhull 2019.1.r 2019/06/21:\n",
      "  run-id 108178738  incidence  Qtriangulate  _pre-merge  _zero-centrum\n",
      "  _maxoutside  0\n",
      "\n",
      "Exception in rushers_pocket_area(): QH6214 qhull input error: not enough points(2) to construct initial simplex (need 3)\n",
      "\n",
      "While executing:  | qhull i Qt\n",
      "Options selected for Qhull 2019.1.r 2019/06/21:\n",
      "  run-id 108178738  incidence  Qtriangulate  _pre-merge  _zero-centrum\n",
      "  _maxoutside  0\n",
      "\n",
      "Exception in rushers_pocket_area(): QH6214 qhull input error: not enough points(2) to construct initial simplex (need 3)\n",
      "\n",
      "While executing:  | qhull i Qt\n",
      "Options selected for Qhull 2019.1.r 2019/06/21:\n",
      "  run-id 108178738  incidence  Qtriangulate  _pre-merge  _zero-centrum\n",
      "  _maxoutside  0\n",
      "\n",
      "Exception in rushers_pocket_area(): QH6214 qhull input error: not enough points(2) to construct initial simplex (need 3)\n",
      "\n",
      "While executing:  | qhull i Qt\n",
      "Options selected for Qhull 2019.1.r 2019/06/21:\n",
      "  run-id 108178738  incidence  Qtriangulate  _pre-merge  _zero-centrum\n",
      "  _maxoutside  0\n",
      "\n",
      "Exception in rushers_pocket_area(): QH6214 qhull input error: not enough points(2) to construct initial simplex (need 3)\n",
      "\n",
      "While executing:  | qhull i Qt\n",
      "Options selected for Qhull 2019.1.r 2019/06/21:\n",
      "  run-id 108178738  incidence  Qtriangulate  _pre-merge  _zero-centrum\n",
      "  _maxoutside  0\n",
      "\n",
      "Exception in rushers_pocket_area(): QH6214 qhull input error: not enough points(2) to construct initial simplex (need 3)\n",
      "\n",
      "While executing:  | qhull i Qt\n",
      "Options selected for Qhull 2019.1.r 2019/06/21:\n",
      "  run-id 108178738  incidence  Qtriangulate  _pre-merge  _zero-centrum\n",
      "  _maxoutside  0\n",
      "\n",
      "Exception in rushers_pocket_area(): QH6214 qhull input error: not enough points(2) to construct initial simplex (need 3)\n",
      "\n",
      "While executing:  | qhull i Qt\n",
      "Options selected for Qhull 2019.1.r 2019/06/21:\n",
      "  run-id 108178738  incidence  Qtriangulate  _pre-merge  _zero-centrum\n",
      "  _maxoutside  0\n",
      "\n",
      "Exception in rushers_pocket_area(): QH6214 qhull input error: not enough points(2) to construct initial simplex (need 3)\n",
      "\n",
      "While executing:  | qhull i Qt\n",
      "Options selected for Qhull 2019.1.r 2019/06/21:\n",
      "  run-id 108178738  incidence  Qtriangulate  _pre-merge  _zero-centrum\n",
      "  _maxoutside  0\n",
      "\n",
      "Exception in rushers_pocket_area(): QH6214 qhull input error: not enough points(2) to construct initial simplex (need 3)\n",
      "\n",
      "While executing:  | qhull i Qt\n",
      "Options selected for Qhull 2019.1.r 2019/06/21:\n",
      "  run-id 108178738  incidence  Qtriangulate  _pre-merge  _zero-centrum\n",
      "  _maxoutside  0\n",
      "\n",
      "Exception in rushers_pocket_area(): QH6214 qhull input error: not enough points(2) to construct initial simplex (need 3)\n",
      "\n",
      "While executing:  | qhull i Qt\n",
      "Options selected for Qhull 2019.1.r 2019/06/21:\n",
      "  run-id 108178738  incidence  Qtriangulate  _pre-merge  _zero-centrum\n",
      "  _maxoutside  0\n",
      "\n",
      "Exception in rushers_pocket_area(): QH6214 qhull input error: not enough points(2) to construct initial simplex (need 3)\n",
      "\n",
      "While executing:  | qhull i Qt\n",
      "Options selected for Qhull 2019.1.r 2019/06/21:\n",
      "  run-id 108178738  incidence  Qtriangulate  _pre-merge  _zero-centrum\n",
      "  _maxoutside  0\n",
      "\n",
      "Exception in rushers_pocket_area(): QH6214 qhull input error: not enough points(2) to construct initial simplex (need 3)\n",
      "\n",
      "While executing:  | qhull i Qt\n",
      "Options selected for Qhull 2019.1.r 2019/06/21:\n",
      "  run-id 108178738  incidence  Qtriangulate  _pre-merge  _zero-centrum\n",
      "  _maxoutside  0\n",
      "\n"
     ]
    },
    {
     "data": {
      "text/html": [
       "<pre style=\"white-space:pre;overflow-x:auto;line-height:normal;font-family:Menlo,'DejaVu Sans Mono',consolas,'Courier New',monospace\">05:13:13.089 | <span style=\"color: #008080; text-decoration-color: #008080\">INFO</span>    | Task run 'calculate_pocket_area-cc18ef62-3' - Finished in state <span style=\"color: #008000; text-decoration-color: #008000\">Completed</span>()\n",
       "</pre>\n"
      ],
      "text/plain": [
       "05:13:13.089 | \u001b[36mINFO\u001b[0m    | Task run 'calculate_pocket_area-cc18ef62-3' - Finished in state \u001b[32mCompleted\u001b[0m()\n"
      ]
     },
     "metadata": {},
     "output_type": "display_data"
    },
    {
     "data": {
      "text/html": [
       "<pre style=\"white-space:pre;overflow-x:auto;line-height:normal;font-family:Menlo,'DejaVu Sans Mono',consolas,'Courier New',monospace\">05:13:17.924 | <span style=\"color: #008080; text-decoration-color: #008080\">INFO</span>    | Task run 'calculate_pocket_area-cc18ef62-1' - Finished in state <span style=\"color: #008000; text-decoration-color: #008000\">Completed</span>()\n",
       "</pre>\n"
      ],
      "text/plain": [
       "05:13:17.924 | \u001b[36mINFO\u001b[0m    | Task run 'calculate_pocket_area-cc18ef62-1' - Finished in state \u001b[32mCompleted\u001b[0m()\n"
      ]
     },
     "metadata": {},
     "output_type": "display_data"
    },
    {
     "data": {
      "text/html": [
       "<pre style=\"white-space:pre;overflow-x:auto;line-height:normal;font-family:Menlo,'DejaVu Sans Mono',consolas,'Courier New',monospace\">05:13:20.168 | <span style=\"color: #008080; text-decoration-color: #008080\">INFO</span>    | Task run 'calculate_pocket_area-cc18ef62-2' - Finished in state <span style=\"color: #008000; text-decoration-color: #008000\">Completed</span>()\n",
       "</pre>\n"
      ],
      "text/plain": [
       "05:13:20.168 | \u001b[36mINFO\u001b[0m    | Task run 'calculate_pocket_area-cc18ef62-2' - Finished in state \u001b[32mCompleted\u001b[0m()\n"
      ]
     },
     "metadata": {},
     "output_type": "display_data"
    },
    {
     "data": {
      "text/html": [
       "<pre style=\"white-space:pre;overflow-x:auto;line-height:normal;font-family:Menlo,'DejaVu Sans Mono',consolas,'Courier New',monospace\">05:13:20.245 | <span style=\"color: #008080; text-decoration-color: #008080\">INFO</span>    | Task run 'union_dataframes-8a4e3d8f-0' - Finished in state <span style=\"color: #008000; text-decoration-color: #008000\">Completed</span>()\n",
       "</pre>\n"
      ],
      "text/plain": [
       "05:13:20.245 | \u001b[36mINFO\u001b[0m    | Task run 'union_dataframes-8a4e3d8f-0' - Finished in state \u001b[32mCompleted\u001b[0m()\n"
      ]
     },
     "metadata": {},
     "output_type": "display_data"
    },
    {
     "data": {
      "text/html": [
       "<pre style=\"white-space:pre;overflow-x:auto;line-height:normal;font-family:Menlo,'DejaVu Sans Mono',consolas,'Courier New',monospace\">05:13:20.276 | <span style=\"color: #008080; text-decoration-color: #008080\">INFO</span>    | Flow run<span style=\"color: #800080; text-decoration-color: #800080\"> 'elegant-mule'</span> - Created task run 'get_frames_for_time_windows-182f3eb1-0' for task 'get_frames_for_time_windows'\n",
       "</pre>\n"
      ],
      "text/plain": [
       "05:13:20.276 | \u001b[36mINFO\u001b[0m    | Flow run\u001b[35m 'elegant-mule'\u001b[0m - Created task run 'get_frames_for_time_windows-182f3eb1-0' for task 'get_frames_for_time_windows'\n"
      ]
     },
     "metadata": {},
     "output_type": "display_data"
    },
    {
     "data": {
      "text/html": [
       "<pre style=\"white-space:pre;overflow-x:auto;line-height:normal;font-family:Menlo,'DejaVu Sans Mono',consolas,'Courier New',monospace\">05:13:20.278 | <span style=\"color: #008080; text-decoration-color: #008080\">INFO</span>    | Flow run<span style=\"color: #800080; text-decoration-color: #800080\"> 'elegant-mule'</span> - Executing 'get_frames_for_time_windows-182f3eb1-0' immediately...\n",
       "</pre>\n"
      ],
      "text/plain": [
       "05:13:20.278 | \u001b[36mINFO\u001b[0m    | Flow run\u001b[35m 'elegant-mule'\u001b[0m - Executing 'get_frames_for_time_windows-182f3eb1-0' immediately...\n"
      ]
     },
     "metadata": {},
     "output_type": "display_data"
    },
    {
     "data": {
      "text/html": [
       "<pre style=\"white-space:pre;overflow-x:auto;line-height:normal;font-family:Menlo,'DejaVu Sans Mono',consolas,'Courier New',monospace\">05:13:20.616 | <span style=\"color: #008080; text-decoration-color: #008080\">INFO</span>    | Task run 'get_frames_for_time_windows-182f3eb1-0' - Finished in state <span style=\"color: #008000; text-decoration-color: #008000\">Completed</span>()\n",
       "</pre>\n"
      ],
      "text/plain": [
       "05:13:20.616 | \u001b[36mINFO\u001b[0m    | Task run 'get_frames_for_time_windows-182f3eb1-0' - Finished in state \u001b[32mCompleted\u001b[0m()\n"
      ]
     },
     "metadata": {},
     "output_type": "display_data"
    },
    {
     "data": {
      "text/html": [
       "<pre style=\"white-space:pre;overflow-x:auto;line-height:normal;font-family:Menlo,'DejaVu Sans Mono',consolas,'Courier New',monospace\">05:13:20.644 | <span style=\"color: #008080; text-decoration-color: #008080\">INFO</span>    | Flow run<span style=\"color: #800080; text-decoration-color: #800080\"> 'elegant-mule'</span> - Created task run 'get_play_pocket_metrics-c9059079-0' for task 'get_play_pocket_metrics'\n",
       "</pre>\n"
      ],
      "text/plain": [
       "05:13:20.644 | \u001b[36mINFO\u001b[0m    | Flow run\u001b[35m 'elegant-mule'\u001b[0m - Created task run 'get_play_pocket_metrics-c9059079-0' for task 'get_play_pocket_metrics'\n"
      ]
     },
     "metadata": {},
     "output_type": "display_data"
    },
    {
     "data": {
      "text/html": [
       "<pre style=\"white-space:pre;overflow-x:auto;line-height:normal;font-family:Menlo,'DejaVu Sans Mono',consolas,'Courier New',monospace\">05:13:20.647 | <span style=\"color: #008080; text-decoration-color: #008080\">INFO</span>    | Flow run<span style=\"color: #800080; text-decoration-color: #800080\"> 'elegant-mule'</span> - Executing 'get_play_pocket_metrics-c9059079-0' immediately...\n",
       "</pre>\n"
      ],
      "text/plain": [
       "05:13:20.647 | \u001b[36mINFO\u001b[0m    | Flow run\u001b[35m 'elegant-mule'\u001b[0m - Executing 'get_play_pocket_metrics-c9059079-0' immediately...\n"
      ]
     },
     "metadata": {},
     "output_type": "display_data"
    },
    {
     "data": {
      "text/html": [
       "<pre style=\"white-space:pre;overflow-x:auto;line-height:normal;font-family:Menlo,'DejaVu Sans Mono',consolas,'Courier New',monospace\">05:13:21.127 | <span style=\"color: #008080; text-decoration-color: #008080\">INFO</span>    | Task run 'get_play_pocket_metrics-c9059079-0' - Finished in state <span style=\"color: #008000; text-decoration-color: #008000\">Completed</span>()\n",
       "</pre>\n"
      ],
      "text/plain": [
       "05:13:21.127 | \u001b[36mINFO\u001b[0m    | Task run 'get_play_pocket_metrics-c9059079-0' - Finished in state \u001b[32mCompleted\u001b[0m()\n"
      ]
     },
     "metadata": {},
     "output_type": "display_data"
    },
    {
     "data": {
      "text/html": [
       "<pre style=\"white-space:pre;overflow-x:auto;line-height:normal;font-family:Menlo,'DejaVu Sans Mono',consolas,'Courier New',monospace\">05:13:21.177 | <span style=\"color: #008080; text-decoration-color: #008080\">INFO</span>    | Flow run<span style=\"color: #800080; text-decoration-color: #800080\"> 'elegant-mule'</span> - Created task run 'calculate_average_pocket_area_loss_per_second-c688e278-0' for task 'calculate_average_pocket_area_loss_per_second'\n",
       "</pre>\n"
      ],
      "text/plain": [
       "05:13:21.177 | \u001b[36mINFO\u001b[0m    | Flow run\u001b[35m 'elegant-mule'\u001b[0m - Created task run 'calculate_average_pocket_area_loss_per_second-c688e278-0' for task 'calculate_average_pocket_area_loss_per_second'\n"
      ]
     },
     "metadata": {},
     "output_type": "display_data"
    },
    {
     "data": {
      "text/html": [
       "<pre style=\"white-space:pre;overflow-x:auto;line-height:normal;font-family:Menlo,'DejaVu Sans Mono',consolas,'Courier New',monospace\">05:13:21.179 | <span style=\"color: #008080; text-decoration-color: #008080\">INFO</span>    | Flow run<span style=\"color: #800080; text-decoration-color: #800080\"> 'elegant-mule'</span> - Executing 'calculate_average_pocket_area_loss_per_second-c688e278-0' immediately...\n",
       "</pre>\n"
      ],
      "text/plain": [
       "05:13:21.179 | \u001b[36mINFO\u001b[0m    | Flow run\u001b[35m 'elegant-mule'\u001b[0m - Executing 'calculate_average_pocket_area_loss_per_second-c688e278-0' immediately...\n"
      ]
     },
     "metadata": {},
     "output_type": "display_data"
    },
    {
     "data": {
      "text/html": [
       "<pre style=\"white-space:pre;overflow-x:auto;line-height:normal;font-family:Menlo,'DejaVu Sans Mono',consolas,'Courier New',monospace\">05:13:21.735 | <span style=\"color: #008080; text-decoration-color: #008080\">INFO</span>    | Task run 'calculate_average_pocket_area_loss_per_second-c688e278-0' - Finished in state <span style=\"color: #008000; text-decoration-color: #008000\">Completed</span>()\n",
       "</pre>\n"
      ],
      "text/plain": [
       "05:13:21.735 | \u001b[36mINFO\u001b[0m    | Task run 'calculate_average_pocket_area_loss_per_second-c688e278-0' - Finished in state \u001b[32mCompleted\u001b[0m()\n"
      ]
     },
     "metadata": {},
     "output_type": "display_data"
    },
    {
     "data": {
      "text/html": [
       "<pre style=\"white-space:pre;overflow-x:auto;line-height:normal;font-family:Menlo,'DejaVu Sans Mono',consolas,'Courier New',monospace\">05:13:21.762 | <span style=\"color: #008080; text-decoration-color: #008080\">INFO</span>    | Flow run<span style=\"color: #800080; text-decoration-color: #800080\"> 'elegant-mule'</span> - Created task run 'write_csv-386fe2af-0' for task 'write_csv'\n",
       "</pre>\n"
      ],
      "text/plain": [
       "05:13:21.762 | \u001b[36mINFO\u001b[0m    | Flow run\u001b[35m 'elegant-mule'\u001b[0m - Created task run 'write_csv-386fe2af-0' for task 'write_csv'\n"
      ]
     },
     "metadata": {},
     "output_type": "display_data"
    },
    {
     "data": {
      "text/html": [
       "<pre style=\"white-space:pre;overflow-x:auto;line-height:normal;font-family:Menlo,'DejaVu Sans Mono',consolas,'Courier New',monospace\">05:13:21.764 | <span style=\"color: #008080; text-decoration-color: #008080\">INFO</span>    | Flow run<span style=\"color: #800080; text-decoration-color: #800080\"> 'elegant-mule'</span> - Executing 'write_csv-386fe2af-0' immediately...\n",
       "</pre>\n"
      ],
      "text/plain": [
       "05:13:21.764 | \u001b[36mINFO\u001b[0m    | Flow run\u001b[35m 'elegant-mule'\u001b[0m - Executing 'write_csv-386fe2af-0' immediately...\n"
      ]
     },
     "metadata": {},
     "output_type": "display_data"
    },
    {
     "data": {
      "text/html": [
       "<pre style=\"white-space:pre;overflow-x:auto;line-height:normal;font-family:Menlo,'DejaVu Sans Mono',consolas,'Courier New',monospace\">05:13:38.691 | <span style=\"color: #008080; text-decoration-color: #008080\">INFO</span>    | Task run 'write_csv-386fe2af-0' - Finished in state <span style=\"color: #008000; text-decoration-color: #008000\">Completed</span>()\n",
       "</pre>\n"
      ],
      "text/plain": [
       "05:13:38.691 | \u001b[36mINFO\u001b[0m    | Task run 'write_csv-386fe2af-0' - Finished in state \u001b[32mCompleted\u001b[0m()\n"
      ]
     },
     "metadata": {},
     "output_type": "display_data"
    },
    {
     "data": {
      "text/html": [
       "<pre style=\"white-space:pre;overflow-x:auto;line-height:normal;font-family:Menlo,'DejaVu Sans Mono',consolas,'Courier New',monospace\">05:13:38.720 | <span style=\"color: #008080; text-decoration-color: #008080\">INFO</span>    | Flow run<span style=\"color: #800080; text-decoration-color: #800080\"> 'elegant-mule'</span> - Created task run 'write_csv-386fe2af-1' for task 'write_csv'\n",
       "</pre>\n"
      ],
      "text/plain": [
       "05:13:38.720 | \u001b[36mINFO\u001b[0m    | Flow run\u001b[35m 'elegant-mule'\u001b[0m - Created task run 'write_csv-386fe2af-1' for task 'write_csv'\n"
      ]
     },
     "metadata": {},
     "output_type": "display_data"
    },
    {
     "data": {
      "text/html": [
       "<pre style=\"white-space:pre;overflow-x:auto;line-height:normal;font-family:Menlo,'DejaVu Sans Mono',consolas,'Courier New',monospace\">05:13:38.722 | <span style=\"color: #008080; text-decoration-color: #008080\">INFO</span>    | Flow run<span style=\"color: #800080; text-decoration-color: #800080\"> 'elegant-mule'</span> - Executing 'write_csv-386fe2af-1' immediately...\n",
       "</pre>\n"
      ],
      "text/plain": [
       "05:13:38.722 | \u001b[36mINFO\u001b[0m    | Flow run\u001b[35m 'elegant-mule'\u001b[0m - Executing 'write_csv-386fe2af-1' immediately...\n"
      ]
     },
     "metadata": {},
     "output_type": "display_data"
    },
    {
     "data": {
      "text/html": [
       "<pre style=\"white-space:pre;overflow-x:auto;line-height:normal;font-family:Menlo,'DejaVu Sans Mono',consolas,'Courier New',monospace\">05:13:39.020 | <span style=\"color: #008080; text-decoration-color: #008080\">INFO</span>    | Task run 'write_csv-386fe2af-1' - Finished in state <span style=\"color: #008000; text-decoration-color: #008000\">Completed</span>()\n",
       "</pre>\n"
      ],
      "text/plain": [
       "05:13:39.020 | \u001b[36mINFO\u001b[0m    | Task run 'write_csv-386fe2af-1' - Finished in state \u001b[32mCompleted\u001b[0m()\n"
      ]
     },
     "metadata": {},
     "output_type": "display_data"
    },
    {
     "data": {
      "text/html": [
       "<pre style=\"white-space:pre;overflow-x:auto;line-height:normal;font-family:Menlo,'DejaVu Sans Mono',consolas,'Courier New',monospace\">05:13:39.051 | <span style=\"color: #008080; text-decoration-color: #008080\">INFO</span>    | Flow run<span style=\"color: #800080; text-decoration-color: #800080\"> 'elegant-mule'</span> - Created task run 'write_csv-386fe2af-2' for task 'write_csv'\n",
       "</pre>\n"
      ],
      "text/plain": [
       "05:13:39.051 | \u001b[36mINFO\u001b[0m    | Flow run\u001b[35m 'elegant-mule'\u001b[0m - Created task run 'write_csv-386fe2af-2' for task 'write_csv'\n"
      ]
     },
     "metadata": {},
     "output_type": "display_data"
    },
    {
     "data": {
      "text/html": [
       "<pre style=\"white-space:pre;overflow-x:auto;line-height:normal;font-family:Menlo,'DejaVu Sans Mono',consolas,'Courier New',monospace\">05:13:39.054 | <span style=\"color: #008080; text-decoration-color: #008080\">INFO</span>    | Flow run<span style=\"color: #800080; text-decoration-color: #800080\"> 'elegant-mule'</span> - Executing 'write_csv-386fe2af-2' immediately...\n",
       "</pre>\n"
      ],
      "text/plain": [
       "05:13:39.054 | \u001b[36mINFO\u001b[0m    | Flow run\u001b[35m 'elegant-mule'\u001b[0m - Executing 'write_csv-386fe2af-2' immediately...\n"
      ]
     },
     "metadata": {},
     "output_type": "display_data"
    },
    {
     "data": {
      "text/html": [
       "<pre style=\"white-space:pre;overflow-x:auto;line-height:normal;font-family:Menlo,'DejaVu Sans Mono',consolas,'Courier New',monospace\">05:13:44.814 | <span style=\"color: #008080; text-decoration-color: #008080\">INFO</span>    | Task run 'write_csv-386fe2af-2' - Finished in state <span style=\"color: #008000; text-decoration-color: #008000\">Completed</span>()\n",
       "</pre>\n"
      ],
      "text/plain": [
       "05:13:44.814 | \u001b[36mINFO\u001b[0m    | Task run 'write_csv-386fe2af-2' - Finished in state \u001b[32mCompleted\u001b[0m()\n"
      ]
     },
     "metadata": {},
     "output_type": "display_data"
    },
    {
     "data": {
      "text/html": [
       "<pre style=\"white-space:pre;overflow-x:auto;line-height:normal;font-family:Menlo,'DejaVu Sans Mono',consolas,'Courier New',monospace\">05:13:44.841 | <span style=\"color: #008080; text-decoration-color: #008080\">INFO</span>    | Flow run<span style=\"color: #800080; text-decoration-color: #800080\"> 'elegant-mule'</span> - Created task run 'write_csv-386fe2af-3' for task 'write_csv'\n",
       "</pre>\n"
      ],
      "text/plain": [
       "05:13:44.841 | \u001b[36mINFO\u001b[0m    | Flow run\u001b[35m 'elegant-mule'\u001b[0m - Created task run 'write_csv-386fe2af-3' for task 'write_csv'\n"
      ]
     },
     "metadata": {},
     "output_type": "display_data"
    },
    {
     "data": {
      "text/html": [
       "<pre style=\"white-space:pre;overflow-x:auto;line-height:normal;font-family:Menlo,'DejaVu Sans Mono',consolas,'Courier New',monospace\">05:13:44.844 | <span style=\"color: #008080; text-decoration-color: #008080\">INFO</span>    | Flow run<span style=\"color: #800080; text-decoration-color: #800080\"> 'elegant-mule'</span> - Executing 'write_csv-386fe2af-3' immediately...\n",
       "</pre>\n"
      ],
      "text/plain": [
       "05:13:44.844 | \u001b[36mINFO\u001b[0m    | Flow run\u001b[35m 'elegant-mule'\u001b[0m - Executing 'write_csv-386fe2af-3' immediately...\n"
      ]
     },
     "metadata": {},
     "output_type": "display_data"
    },
    {
     "data": {
      "text/html": [
       "<pre style=\"white-space:pre;overflow-x:auto;line-height:normal;font-family:Menlo,'DejaVu Sans Mono',consolas,'Courier New',monospace\">05:13:45.446 | <span style=\"color: #008080; text-decoration-color: #008080\">INFO</span>    | Task run 'write_csv-386fe2af-3' - Finished in state <span style=\"color: #008000; text-decoration-color: #008000\">Completed</span>()\n",
       "</pre>\n"
      ],
      "text/plain": [
       "05:13:45.446 | \u001b[36mINFO\u001b[0m    | Task run 'write_csv-386fe2af-3' - Finished in state \u001b[32mCompleted\u001b[0m()\n"
      ]
     },
     "metadata": {},
     "output_type": "display_data"
    },
    {
     "data": {
      "text/html": [
       "<pre style=\"white-space:pre;overflow-x:auto;line-height:normal;font-family:Menlo,'DejaVu Sans Mono',consolas,'Courier New',monospace\">05:13:45.494 | <span style=\"color: #008080; text-decoration-color: #008080\">INFO</span>    | Flow run<span style=\"color: #800080; text-decoration-color: #800080\"> 'elegant-mule'</span> - Finished in state <span style=\"color: #008000; text-decoration-color: #008000\">Completed</span>('All states completed.')\n",
       "</pre>\n"
      ],
      "text/plain": [
       "05:13:45.494 | \u001b[36mINFO\u001b[0m    | Flow run\u001b[35m 'elegant-mule'\u001b[0m - Finished in state \u001b[32mCompleted\u001b[0m('All states completed.')\n"
      ]
     },
     "metadata": {},
     "output_type": "display_data"
    }
   ],
   "source": [
    "from src.pipeline.flows.main import main_flow\n",
    "\n",
    "_ = main_flow(max_weeks=2, max_games=None, max_plays=None)"
   ]
  },
  {
   "cell_type": "code",
   "execution_count": 6,
   "id": "fe6e342d",
   "metadata": {},
   "outputs": [],
   "source": [
    "# Copy the raw Prefect log from above and paste it into this multi-line variable.\n",
    "raw_log = \"\"\"\n",
    "05:10:19.253 | INFO    | prefect.engine - Created flow run 'elegant-mule' for flow 'main-flow'\n",
    "05:10:19.418 | INFO    | Flow run 'elegant-mule' - Created task run 'read_csv-3609c996-0' for task 'read_csv'\n",
    "05:10:19.421 | INFO    | Flow run 'elegant-mule' - Executing 'read_csv-3609c996-0' immediately...\n",
    "05:10:19.838 | INFO    | Task run 'read_csv-3609c996-0' - Finished in state Completed()\n",
    "05:10:19.865 | INFO    | Flow run 'elegant-mule' - Created task run 'read_csv-3609c996-1' for task 'read_csv'\n",
    "05:10:19.867 | INFO    | Flow run 'elegant-mule' - Executing 'read_csv-3609c996-1' immediately...\n",
    "05:10:19.966 | INFO    | Task run 'read_csv-3609c996-1' - Finished in state Completed()\n",
    "05:10:19.994 | INFO    | Flow run 'elegant-mule' - Created task run 'read_tracking_data-e2eae939-0' for task 'read_tracking_data'\n",
    "05:10:19.996 | INFO    | Flow run 'elegant-mule' - Executing 'read_tracking_data-e2eae939-0' immediately...\n",
    "05:10:24.819 | INFO    | Task run 'read_tracking_data-e2eae939-0' - Finished in state Completed()\n",
    "05:10:24.851 | INFO    | Flow run 'elegant-mule' - Created task run 'limit_by_child_keys-4238f776-0' for task 'limit_by_child_keys'\n",
    "05:10:24.853 | INFO    | Flow run 'elegant-mule' - Executing 'limit_by_child_keys-4238f776-0' immediately...\n",
    "05:10:24.921 | INFO    | Task run 'limit_by_child_keys-4238f776-0' - Finished in state Completed()\n",
    "05:10:24.950 | INFO    | Flow run 'elegant-mule' - Created task run 'limit_by_child_keys-4238f776-1' for task 'limit_by_child_keys'\n",
    "05:10:24.953 | INFO    | Flow run 'elegant-mule' - Executing 'limit_by_child_keys-4238f776-1' immediately...\n",
    "05:10:25.018 | INFO    | Task run 'limit_by_child_keys-4238f776-1' - Finished in state Completed()\n",
    "05:10:25.045 | INFO    | Flow run 'elegant-mule' - Created task run 'align_tracking_data-ea7afe30-0' for task 'align_tracking_data'\n",
    "05:10:25.047 | INFO    | Flow run 'elegant-mule' - Executing 'align_tracking_data-ea7afe30-0' immediately...\n",
    "05:10:26.899 | INFO    | Task run 'align_tracking_data-ea7afe30-0' - Finished in state Completed()\n",
    "05:10:26.931 | INFO    | Flow run 'elegant-mule' - Created task run 'rotate_tracking_data-13ea6cce-0' for task 'rotate_tracking_data'\n",
    "05:10:26.933 | INFO    | Flow run 'elegant-mule' - Executing 'rotate_tracking_data-13ea6cce-0' immediately...\n",
    "05:10:27.069 | INFO    | Task run 'rotate_tracking_data-13ea6cce-0' - Finished in state Completed()\n",
    "05:10:27.105 | INFO    | Flow run 'elegant-mule' - Created task run 'get_passer_out_of_pocket-98072e46-0' for task 'get_passer_out_of_pocket'\n",
    "05:10:27.107 | INFO    | Flow run 'elegant-mule' - Executing 'get_passer_out_of_pocket-98072e46-0' immediately...\n",
    "05:10:32.118 | INFO    | Task run 'get_passer_out_of_pocket-98072e46-0' - Finished in state Completed()\n",
    "05:10:32.152 | INFO    | Flow run 'elegant-mule' - Created task run 'clean_event_data-657c8302-0' for task 'clean_event_data'\n",
    "05:10:32.154 | INFO    | Flow run 'elegant-mule' - Executing 'clean_event_data-657c8302-0' immediately...\n",
    "05:10:33.902 | INFO    | Task run 'clean_event_data-657c8302-0' - Finished in state Completed()\n",
    "05:10:33.935 | INFO    | Flow run 'elegant-mule' - Created task run 'get_pocket_eligibility-6d653879-0' for task 'get_pocket_eligibility'\n",
    "05:10:33.939 | INFO    | Flow run 'elegant-mule' - Executing 'get_pocket_eligibility-6d653879-0' immediately...\n",
    "05:10:34.130 | INFO    | Task run 'get_pocket_eligibility-6d653879-0' - Finished in state Completed()\n",
    "05:10:34.161 | INFO    | Flow run 'elegant-mule' - Created task run 'augment_tracking_events-342a9dc3-0' for task 'augment_tracking_events'\n",
    "05:10:34.163 | INFO    | Flow run 'elegant-mule' - Executing 'augment_tracking_events-342a9dc3-0' immediately...\n",
    "05:10:35.088 | INFO    | Task run 'augment_tracking_events-342a9dc3-0' - Finished in state Completed()\n",
    "05:10:35.128 | INFO    | Flow run 'elegant-mule' - Created task run 'transform_to_tracking_display-0c78dc49-0' for task 'transform_to_tracking_display'\n",
    "05:10:35.131 | INFO    | Flow run 'elegant-mule' - Executing 'transform_to_tracking_display-0c78dc49-0' immediately...\n",
    "05:10:38.525 | INFO    | Task run 'transform_to_tracking_display-0c78dc49-0' - Finished in state Completed()\n",
    "05:10:38.556 | INFO    | Flow run 'elegant-mule' - Created task run 'transform_to_frames-3446c324-0' for task 'transform_to_frames'\n",
    "05:10:38.558 | INFO    | Flow run 'elegant-mule' - Executing 'transform_to_frames-3446c324-0' immediately...\n",
    "05:10:45.809 | INFO    | Task run 'transform_to_frames-3446c324-0' - Finished in state Completed()\n",
    "05:10:45.837 | INFO    | Flow run 'elegant-mule' - Created task run 'transform_to_records_per_frame-823b8998-0' for task 'transform_to_records_per_frame'\n",
    "05:10:45.839 | INFO    | Flow run 'elegant-mule' - Executing 'transform_to_records_per_frame-823b8998-0' immediately...\n",
    "05:10:51.058 | INFO    | Task run 'transform_to_records_per_frame-823b8998-0' - Finished in state Completed()\n",
    "05:10:51.113 | INFO    | Flow run 'elegant-mule' - Created task run 'calculate_pocket_area-cc18ef62-1' for task 'calculate_pocket_area'\n",
    "05:10:51.115 | INFO    | Flow run 'elegant-mule' - Submitted task run 'calculate_pocket_area-cc18ef62-1' for execution.\n",
    "05:10:51.141 | INFO    | Flow run 'elegant-mule' - Created task run 'calculate_pocket_area-cc18ef62-2' for task 'calculate_pocket_area'\n",
    "05:10:51.143 | INFO    | Flow run 'elegant-mule' - Submitted task run 'calculate_pocket_area-cc18ef62-2' for execution.\n",
    "05:10:51.175 | INFO    | Flow run 'elegant-mule' - Created task run 'calculate_pocket_area-cc18ef62-0' for task 'calculate_pocket_area'\n",
    "05:10:51.178 | INFO    | Flow run 'elegant-mule' - Submitted task run 'calculate_pocket_area-cc18ef62-0' for execution.\n",
    "05:10:51.227 | INFO    | Flow run 'elegant-mule' - Created task run 'calculate_pocket_area-cc18ef62-3' for task 'calculate_pocket_area'\n",
    "05:10:51.231 | INFO    | Flow run 'elegant-mule' - Submitted task run 'calculate_pocket_area-cc18ef62-3' for execution.\n",
    "05:10:51.411 | INFO    | Flow run 'elegant-mule' - Created task run 'union_dataframes-8a4e3d8f-0' for task 'union_dataframes'\n",
    "05:10:51.435 | INFO    | Flow run 'elegant-mule' - Executing 'union_dataframes-8a4e3d8f-0' immediately...\n",
    "05:10:59.506 | INFO    | Task run 'calculate_pocket_area-cc18ef62-0' - Finished in state Completed()\n",
    "05:13:13.089 | INFO    | Task run 'calculate_pocket_area-cc18ef62-3' - Finished in state Completed()\n",
    "05:13:17.924 | INFO    | Task run 'calculate_pocket_area-cc18ef62-1' - Finished in state Completed()\n",
    "05:13:20.168 | INFO    | Task run 'calculate_pocket_area-cc18ef62-2' - Finished in state Completed()\n",
    "05:13:20.245 | INFO    | Task run 'union_dataframes-8a4e3d8f-0' - Finished in state Completed()\n",
    "05:13:20.276 | INFO    | Flow run 'elegant-mule' - Created task run 'get_frames_for_time_windows-182f3eb1-0' for task 'get_frames_for_time_windows'\n",
    "05:13:20.278 | INFO    | Flow run 'elegant-mule' - Executing 'get_frames_for_time_windows-182f3eb1-0' immediately...\n",
    "05:13:20.616 | INFO    | Task run 'get_frames_for_time_windows-182f3eb1-0' - Finished in state Completed()\n",
    "05:13:20.644 | INFO    | Flow run 'elegant-mule' - Created task run 'get_play_pocket_metrics-c9059079-0' for task 'get_play_pocket_metrics'\n",
    "05:13:20.647 | INFO    | Flow run 'elegant-mule' - Executing 'get_play_pocket_metrics-c9059079-0' immediately...\n",
    "05:13:21.127 | INFO    | Task run 'get_play_pocket_metrics-c9059079-0' - Finished in state Completed()\n",
    "05:13:21.177 | INFO    | Flow run 'elegant-mule' - Created task run 'calculate_average_pocket_area_loss_per_second-c688e278-0' for task 'calculate_average_pocket_area_loss_per_second'\n",
    "05:13:21.179 | INFO    | Flow run 'elegant-mule' - Executing 'calculate_average_pocket_area_loss_per_second-c688e278-0' immediately...\n",
    "05:13:21.735 | INFO    | Task run 'calculate_average_pocket_area_loss_per_second-c688e278-0' - Finished in state Completed()\n",
    "05:13:21.762 | INFO    | Flow run 'elegant-mule' - Created task run 'write_csv-386fe2af-0' for task 'write_csv'\n",
    "05:13:21.764 | INFO    | Flow run 'elegant-mule' - Executing 'write_csv-386fe2af-0' immediately...\n",
    "05:13:38.691 | INFO    | Task run 'write_csv-386fe2af-0' - Finished in state Completed()\n",
    "05:13:38.720 | INFO    | Flow run 'elegant-mule' - Created task run 'write_csv-386fe2af-1' for task 'write_csv'\n",
    "05:13:38.722 | INFO    | Flow run 'elegant-mule' - Executing 'write_csv-386fe2af-1' immediately...\n",
    "05:13:39.020 | INFO    | Task run 'write_csv-386fe2af-1' - Finished in state Completed()\n",
    "05:13:39.051 | INFO    | Flow run 'elegant-mule' - Created task run 'write_csv-386fe2af-2' for task 'write_csv'\n",
    "05:13:39.054 | INFO    | Flow run 'elegant-mule' - Executing 'write_csv-386fe2af-2' immediately...\n",
    "05:13:44.814 | INFO    | Task run 'write_csv-386fe2af-2' - Finished in state Completed()\n",
    "05:13:44.841 | INFO    | Flow run 'elegant-mule' - Created task run 'write_csv-386fe2af-3' for task 'write_csv'\n",
    "05:13:44.844 | INFO    | Flow run 'elegant-mule' - Executing 'write_csv-386fe2af-3' immediately...\n",
    "05:13:45.446 | INFO    | Task run 'write_csv-386fe2af-3' - Finished in state Completed()\n",
    "05:13:45.494 | INFO    | Flow run 'elegant-mule' - Finished in state Completed('All states completed.')\n",
    "\"\"\""
   ]
  },
  {
   "cell_type": "code",
   "execution_count": 7,
   "id": "98504fe4",
   "metadata": {},
   "outputs": [
    {
     "data": {
      "text/html": [
       "<div>\n",
       "<style scoped>\n",
       "    .dataframe tbody tr th:only-of-type {\n",
       "        vertical-align: middle;\n",
       "    }\n",
       "\n",
       "    .dataframe tbody tr th {\n",
       "        vertical-align: top;\n",
       "    }\n",
       "\n",
       "    .dataframe thead th {\n",
       "        text-align: right;\n",
       "    }\n",
       "</style>\n",
       "<table border=\"1\" class=\"dataframe\">\n",
       "  <thead>\n",
       "    <tr style=\"text-align: right;\">\n",
       "      <th></th>\n",
       "      <th>task</th>\n",
       "      <th>elapsed_secs</th>\n",
       "    </tr>\n",
       "  </thead>\n",
       "  <tbody>\n",
       "    <tr>\n",
       "      <th>5</th>\n",
       "      <td>calculate_pocket_area-cc18ef62-2</td>\n",
       "      <td>149.0</td>\n",
       "    </tr>\n",
       "    <tr>\n",
       "      <th>21</th>\n",
       "      <td>union_dataframes-8a4e3d8f-0</td>\n",
       "      <td>148.0</td>\n",
       "    </tr>\n",
       "    <tr>\n",
       "      <th>4</th>\n",
       "      <td>calculate_pocket_area-cc18ef62-1</td>\n",
       "      <td>146.0</td>\n",
       "    </tr>\n",
       "    <tr>\n",
       "      <th>6</th>\n",
       "      <td>calculate_pocket_area-cc18ef62-3</td>\n",
       "      <td>141.0</td>\n",
       "    </tr>\n",
       "    <tr>\n",
       "      <th>22</th>\n",
       "      <td>write_csv-386fe2af-0</td>\n",
       "      <td>16.0</td>\n",
       "    </tr>\n",
       "    <tr>\n",
       "      <th>3</th>\n",
       "      <td>calculate_pocket_area-cc18ef62-0</td>\n",
       "      <td>8.0</td>\n",
       "    </tr>\n",
       "    <tr>\n",
       "      <th>18</th>\n",
       "      <td>transform_to_frames-3446c324-0</td>\n",
       "      <td>7.0</td>\n",
       "    </tr>\n",
       "    <tr>\n",
       "      <th>24</th>\n",
       "      <td>write_csv-386fe2af-2</td>\n",
       "      <td>5.0</td>\n",
       "    </tr>\n",
       "    <tr>\n",
       "      <th>9</th>\n",
       "      <td>get_passer_out_of_pocket-98072e46-0</td>\n",
       "      <td>5.0</td>\n",
       "    </tr>\n",
       "    <tr>\n",
       "      <th>19</th>\n",
       "      <td>transform_to_records_per_frame-823b8998-0</td>\n",
       "      <td>5.0</td>\n",
       "    </tr>\n",
       "    <tr>\n",
       "      <th>16</th>\n",
       "      <td>read_tracking_data-e2eae939-0</td>\n",
       "      <td>4.0</td>\n",
       "    </tr>\n",
       "    <tr>\n",
       "      <th>20</th>\n",
       "      <td>transform_to_tracking_display-0c78dc49-0</td>\n",
       "      <td>3.0</td>\n",
       "    </tr>\n",
       "    <tr>\n",
       "      <th>0</th>\n",
       "      <td>align_tracking_data-ea7afe30-0</td>\n",
       "      <td>1.0</td>\n",
       "    </tr>\n",
       "    <tr>\n",
       "      <th>7</th>\n",
       "      <td>clean_event_data-657c8302-0</td>\n",
       "      <td>1.0</td>\n",
       "    </tr>\n",
       "    <tr>\n",
       "      <th>23</th>\n",
       "      <td>write_csv-386fe2af-1</td>\n",
       "      <td>0.0</td>\n",
       "    </tr>\n",
       "    <tr>\n",
       "      <th>17</th>\n",
       "      <td>rotate_tracking_data-13ea6cce-0</td>\n",
       "      <td>0.0</td>\n",
       "    </tr>\n",
       "    <tr>\n",
       "      <th>13</th>\n",
       "      <td>limit_by_child_keys-4238f776-1</td>\n",
       "      <td>0.0</td>\n",
       "    </tr>\n",
       "    <tr>\n",
       "      <th>15</th>\n",
       "      <td>read_csv-3609c996-1</td>\n",
       "      <td>0.0</td>\n",
       "    </tr>\n",
       "    <tr>\n",
       "      <th>14</th>\n",
       "      <td>read_csv-3609c996-0</td>\n",
       "      <td>0.0</td>\n",
       "    </tr>\n",
       "    <tr>\n",
       "      <th>1</th>\n",
       "      <td>augment_tracking_events-342a9dc3-0</td>\n",
       "      <td>0.0</td>\n",
       "    </tr>\n",
       "    <tr>\n",
       "      <th>12</th>\n",
       "      <td>limit_by_child_keys-4238f776-0</td>\n",
       "      <td>0.0</td>\n",
       "    </tr>\n",
       "    <tr>\n",
       "      <th>11</th>\n",
       "      <td>get_pocket_eligibility-6d653879-0</td>\n",
       "      <td>0.0</td>\n",
       "    </tr>\n",
       "    <tr>\n",
       "      <th>10</th>\n",
       "      <td>get_play_pocket_metrics-c9059079-0</td>\n",
       "      <td>0.0</td>\n",
       "    </tr>\n",
       "    <tr>\n",
       "      <th>8</th>\n",
       "      <td>get_frames_for_time_windows-182f3eb1-0</td>\n",
       "      <td>0.0</td>\n",
       "    </tr>\n",
       "    <tr>\n",
       "      <th>2</th>\n",
       "      <td>calculate_average_pocket_area_loss_per_second-...</td>\n",
       "      <td>0.0</td>\n",
       "    </tr>\n",
       "    <tr>\n",
       "      <th>25</th>\n",
       "      <td>write_csv-386fe2af-3</td>\n",
       "      <td>0.0</td>\n",
       "    </tr>\n",
       "  </tbody>\n",
       "</table>\n",
       "</div>"
      ],
      "text/plain": [
       "                                                 task  elapsed_secs\n",
       "5                    calculate_pocket_area-cc18ef62-2         149.0\n",
       "21                        union_dataframes-8a4e3d8f-0         148.0\n",
       "4                    calculate_pocket_area-cc18ef62-1         146.0\n",
       "6                    calculate_pocket_area-cc18ef62-3         141.0\n",
       "22                               write_csv-386fe2af-0          16.0\n",
       "3                    calculate_pocket_area-cc18ef62-0           8.0\n",
       "18                     transform_to_frames-3446c324-0           7.0\n",
       "24                               write_csv-386fe2af-2           5.0\n",
       "9                 get_passer_out_of_pocket-98072e46-0           5.0\n",
       "19          transform_to_records_per_frame-823b8998-0           5.0\n",
       "16                      read_tracking_data-e2eae939-0           4.0\n",
       "20           transform_to_tracking_display-0c78dc49-0           3.0\n",
       "0                      align_tracking_data-ea7afe30-0           1.0\n",
       "7                         clean_event_data-657c8302-0           1.0\n",
       "23                               write_csv-386fe2af-1           0.0\n",
       "17                    rotate_tracking_data-13ea6cce-0           0.0\n",
       "13                     limit_by_child_keys-4238f776-1           0.0\n",
       "15                                read_csv-3609c996-1           0.0\n",
       "14                                read_csv-3609c996-0           0.0\n",
       "1                  augment_tracking_events-342a9dc3-0           0.0\n",
       "12                     limit_by_child_keys-4238f776-0           0.0\n",
       "11                  get_pocket_eligibility-6d653879-0           0.0\n",
       "10                 get_play_pocket_metrics-c9059079-0           0.0\n",
       "8              get_frames_for_time_windows-182f3eb1-0           0.0\n",
       "2   calculate_average_pocket_area_loss_per_second-...           0.0\n",
       "25                               write_csv-386fe2af-3           0.0"
      ]
     },
     "execution_count": 7,
     "metadata": {},
     "output_type": "execute_result"
    }
   ],
   "source": [
    "import pandas as pd\n",
    "\n",
    "task_events = [\n",
    "    {\n",
    "        \"time\": line.split(\" |\")[0],\n",
    "        \"task\": line.split(\"ask run '\")[1].split(\"'\")[0],\n",
    "        \"state\": line.split(\"- \")[1].split(\" \")[0],\n",
    "    }\n",
    "    for line in raw_log.split(\"\\n\")\n",
    "    if \"ask run \" in line\n",
    "]\n",
    "\n",
    "df = pd.DataFrame(task_events)\n",
    "df_created = df[df.state == \"Created\"].groupby([\"task\"]).agg(created=(\"time\", min)).reset_index()\n",
    "df_finished = df[df.state == \"Finished\"].groupby([\"task\"]).agg(finished=(\"time\", max)).reset_index()\n",
    "df_tasks = df_created.merge(df_finished, on=[\"task\"], how=\"left\")\n",
    "df_tasks[\"created_ts\"] = df_tasks[\"created\"].apply(pd.Timestamp)\n",
    "df_tasks[\"finished_ts\"] = df_tasks[\"finished\"].apply(pd.Timestamp)\n",
    "df_tasks[\"elapsed_secs\"] = (df_tasks[\"finished_ts\"] - df_tasks[\"created_ts\"]).astype(\"timedelta64[s]\")\n",
    "\n",
    "df_tasks[[\"task\", \"elapsed_secs\"]].sort_values(by=[\"elapsed_secs\"], ascending=[False])"
   ]
  },
  {
   "cell_type": "code",
   "execution_count": null,
   "id": "79fb17b1",
   "metadata": {},
   "outputs": [],
   "source": []
  }
 ],
 "metadata": {
  "kernelspec": {
   "display_name": "Python 3 (ipykernel)",
   "language": "python",
   "name": "python3"
  },
  "language_info": {
   "codemirror_mode": {
    "name": "ipython",
    "version": 3
   },
   "file_extension": ".py",
   "mimetype": "text/x-python",
   "name": "python",
   "nbconvert_exporter": "python",
   "pygments_lexer": "ipython3",
   "version": "3.8.13"
  }
 },
 "nbformat": 4,
 "nbformat_minor": 5
}
