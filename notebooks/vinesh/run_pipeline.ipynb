{
 "cells": [
  {
   "cell_type": "markdown",
   "id": "a14b9353",
   "metadata": {},
   "source": [
    "# Run Pipeline"
   ]
  },
  {
   "cell_type": "code",
   "execution_count": 1,
   "id": "a1468fc0",
   "metadata": {},
   "outputs": [],
   "source": [
    "%load_ext autoreload\n",
    "%autoreload 2"
   ]
  },
  {
   "cell_type": "code",
   "execution_count": 2,
   "id": "2376f922",
   "metadata": {},
   "outputs": [],
   "source": [
    "# If you run this locally, change DIR to be the folder where you stored your raw and output data files.\n",
    "import sys\n",
    "DIR = \"/workspace/nflbigdatabowl2023\"\n",
    "sys.path.append(DIR)"
   ]
  },
  {
   "cell_type": "code",
   "execution_count": null,
   "id": "193f4ff6",
   "metadata": {
    "scrolled": false
   },
   "outputs": [],
   "source": [
    "from src.pipeline.flows.main import main_flow\n",
    "\n",
    "_ = main_flow(max_weeks=1, max_games=None, max_plays=None)"
   ]
  },
  {
   "cell_type": "code",
   "execution_count": null,
   "id": "fe6e342d",
   "metadata": {},
   "outputs": [],
   "source": [
    "# Copy the raw Prefect log from above and paste it into this multi-line variable.\n",
    "raw_log = \"\"\"\n",
    "23:31:33.988 | INFO    | prefect.engine - Created flow run 'little-mantis' for flow 'main-flow'\n",
    "23:31:34.358 | INFO    | Flow run 'little-mantis' - Created task run 'read_csv-3609c996-0' for task 'read_csv'\n",
    "23:31:34.361 | INFO    | Flow run 'little-mantis' - Executing 'read_csv-3609c996-0' immediately...\n",
    "23:31:35.061 | INFO    | Task run 'read_csv-3609c996-0' - Finished in state Completed()\n",
    "23:31:35.106 | INFO    | Flow run 'little-mantis' - Created task run 'read_csv-3609c996-1' for task 'read_csv'\n",
    "23:31:35.109 | INFO    | Flow run 'little-mantis' - Executing 'read_csv-3609c996-1' immediately...\n",
    "23:31:35.251 | INFO    | Task run 'read_csv-3609c996-1' - Finished in state Completed()\n",
    "23:31:35.286 | INFO    | Flow run 'little-mantis' - Created task run 'read_csv-3609c996-2' for task 'read_csv'\n",
    "23:31:35.289 | INFO    | Flow run 'little-mantis' - Executing 'read_csv-3609c996-2' immediately...\n",
    "23:31:38.168 | INFO    | Task run 'read_csv-3609c996-2' - Finished in state Completed()\n",
    "23:31:38.267 | INFO    | Flow run 'little-mantis' - Created task run 'limit_by_keys-3d51749e-0' for task 'limit_by_keys'\n",
    "23:31:38.270 | INFO    | Flow run 'little-mantis' - Executing 'limit_by_keys-3d51749e-0' immediately...\n",
    "23:31:38.693 | INFO    | Task run 'limit_by_keys-3d51749e-0' - Finished in state Completed()\n",
    "23:31:38.748 | INFO    | Flow run 'little-mantis' - Created task run 'limit_by_child_keys-4238f776-0' for task 'limit_by_child_keys'\n",
    "23:31:38.751 | INFO    | Flow run 'little-mantis' - Executing 'limit_by_child_keys-4238f776-0' immediately...\n",
    "23:31:38.887 | INFO    | Task run 'limit_by_child_keys-4238f776-0' - Finished in state Completed()\n",
    "23:31:38.944 | INFO    | Flow run 'little-mantis' - Created task run 'align_tracking_data-ea7afe30-0' for task 'align_tracking_data'\n",
    "23:31:38.947 | INFO    | Flow run 'little-mantis' - Executing 'align_tracking_data-ea7afe30-0' immediately...\n",
    "23:31:40.042 | INFO    | Task run 'align_tracking_data-ea7afe30-0' - Finished in state Completed()\n",
    "23:31:40.085 | INFO    | Flow run 'little-mantis' - Created task run 'rotate_tracking_data-13ea6cce-0' for task 'rotate_tracking_data'\n",
    "23:31:40.088 | INFO    | Flow run 'little-mantis' - Executing 'rotate_tracking_data-13ea6cce-0' immediately...\n",
    "23:31:40.241 | INFO    | Task run 'rotate_tracking_data-13ea6cce-0' - Finished in state Completed()\n",
    "23:31:40.286 | INFO    | Flow run 'little-mantis' - Created task run 'get_passer_out_of_pocket-98072e46-0' for task 'get_passer_out_of_pocket'\n",
    "23:31:40.289 | INFO    | Flow run 'little-mantis' - Executing 'get_passer_out_of_pocket-98072e46-0' immediately...\n",
    "23:31:46.219 | INFO    | Task run 'get_passer_out_of_pocket-98072e46-0' - Finished in state Completed()\n",
    "23:31:46.266 | INFO    | Flow run 'little-mantis' - Created task run 'clean_event_data-657c8302-0' for task 'clean_event_data'\n",
    "23:31:46.268 | INFO    | Flow run 'little-mantis' - Executing 'clean_event_data-657c8302-0' immediately...\n",
    "23:31:47.872 | INFO    | Task run 'clean_event_data-657c8302-0' - Finished in state Completed()\n",
    "23:31:47.919 | INFO    | Flow run 'little-mantis' - Created task run 'get_pocket_eligibility-6d653879-0' for task 'get_pocket_eligibility'\n",
    "23:31:47.922 | INFO    | Flow run 'little-mantis' - Executing 'get_pocket_eligibility-6d653879-0' immediately...\n",
    "23:31:49.365 | INFO    | Task run 'get_pocket_eligibility-6d653879-0' - Finished in state Completed()\n",
    "23:31:49.411 | INFO    | Flow run 'little-mantis' - Created task run 'augment_tracking_events-342a9dc3-0' for task 'augment_tracking_events'\n",
    "23:31:49.417 | INFO    | Flow run 'little-mantis' - Executing 'augment_tracking_events-342a9dc3-0' immediately...\n",
    "23:31:50.843 | INFO    | Task run 'augment_tracking_events-342a9dc3-0' - Finished in state Completed()\n",
    "23:31:50.881 | INFO    | Flow run 'little-mantis' - Created task run 'transform_to_tracking_display-0c78dc49-0' for task 'transform_to_tracking_display'\n",
    "23:31:50.884 | INFO    | Flow run 'little-mantis' - Executing 'transform_to_tracking_display-0c78dc49-0' immediately...\n",
    "23:31:54.165 | INFO    | Task run 'transform_to_tracking_display-0c78dc49-0' - Finished in state Completed()\n",
    "23:31:54.567 | INFO    | Flow run 'little-mantis' - Created task run 'transform_to_frames-3446c324-0' for task 'transform_to_frames'\n",
    "23:31:54.570 | INFO    | Flow run 'little-mantis' - Executing 'transform_to_frames-3446c324-0' immediately...\n",
    "23:31:59.764 | INFO    | Task run 'transform_to_frames-3446c324-0' - Finished in state Completed()\n",
    "23:31:59.808 | INFO    | Flow run 'little-mantis' - Created task run 'transform_to_records_per_frame-823b8998-0' for task 'transform_to_records_per_frame'\n",
    "23:31:59.812 | INFO    | Flow run 'little-mantis' - Executing 'transform_to_records_per_frame-823b8998-0' immediately...\n",
    "23:32:03.255 | INFO    | Task run 'transform_to_records_per_frame-823b8998-0' - Finished in state Completed()\n",
    "23:32:03.305 | INFO    | Flow run 'little-mantis' - Created task run 'calculate_pocket_area-cc18ef62-1' for task 'calculate_pocket_area'\n",
    "23:32:03.308 | INFO    | Flow run 'little-mantis' - Submitted task run 'calculate_pocket_area-cc18ef62-1' for execution.\n",
    "23:32:03.338 | INFO    | Flow run 'little-mantis' - Created task run 'calculate_pocket_area-cc18ef62-0' for task 'calculate_pocket_area'\n",
    "23:32:03.341 | INFO    | Flow run 'little-mantis' - Submitted task run 'calculate_pocket_area-cc18ef62-0' for execution.\n",
    "23:32:03.428 | INFO    | Flow run 'little-mantis' - Created task run 'union_dataframes-8a4e3d8f-0' for task 'union_dataframes'\n",
    "23:32:03.431 | INFO    | Flow run 'little-mantis' - Executing 'union_dataframes-8a4e3d8f-0' immediately...\n",
    "23:32:09.077 | INFO    | Task run 'calculate_pocket_area-cc18ef62-0' - Finished in state Completed()\n",
    "23:32:26.600 | INFO    | Task run 'calculate_pocket_area-cc18ef62-1' - Finished in state Completed()\n",
    "23:32:26.742 | INFO    | Task run 'union_dataframes-8a4e3d8f-0' - Finished in state Completed()\n",
    "23:32:26.776 | INFO    | Flow run 'little-mantis' - Created task run 'get_frames_for_time_windows-182f3eb1-0' for task 'get_frames_for_time_windows'\n",
    "23:32:26.778 | INFO    | Flow run 'little-mantis' - Executing 'get_frames_for_time_windows-182f3eb1-0' immediately...\n",
    "23:32:26.946 | INFO    | Task run 'get_frames_for_time_windows-182f3eb1-0' - Finished in state Completed()\n",
    "23:32:26.978 | INFO    | Flow run 'little-mantis' - Created task run 'get_play_pocket_metrics-c9059079-0' for task 'get_play_pocket_metrics'\n",
    "23:32:26.980 | INFO    | Flow run 'little-mantis' - Executing 'get_play_pocket_metrics-c9059079-0' immediately...\n",
    "23:32:27.189 | INFO    | Task run 'get_play_pocket_metrics-c9059079-0' - Finished in state Completed()\n",
    "23:32:27.245 | INFO    | Flow run 'little-mantis' - Created task run 'calculate_average_pocket_area_loss_per_second-c688e278-0' for task 'calculate_average_pocket_area_loss_per_second'\n",
    "23:32:27.247 | INFO    | Flow run 'little-mantis' - Executing 'calculate_average_pocket_area_loss_per_second-c688e278-0' immediately...\n",
    "23:32:27.437 | INFO    | Task run 'calculate_average_pocket_area_loss_per_second-c688e278-0' - Finished in state Completed()\n",
    "23:32:27.472 | INFO    | Flow run 'little-mantis' - Created task run 'write_csv-386fe2af-0' for task 'write_csv'\n",
    "23:32:27.475 | INFO    | Flow run 'little-mantis' - Executing 'write_csv-386fe2af-0' immediately...\n",
    "23:32:37.491 | INFO    | Task run 'write_csv-386fe2af-0' - Finished in state Completed()\n",
    "23:32:37.528 | INFO    | Flow run 'little-mantis' - Created task run 'write_csv-386fe2af-1' for task 'write_csv'\n",
    "23:32:37.530 | INFO    | Flow run 'little-mantis' - Executing 'write_csv-386fe2af-1' immediately...\n",
    "23:32:37.810 | INFO    | Task run 'write_csv-386fe2af-1' - Finished in state Completed()\n",
    "23:32:37.842 | INFO    | Flow run 'little-mantis' - Created task run 'write_csv-386fe2af-2' for task 'write_csv'\n",
    "23:32:37.844 | INFO    | Flow run 'little-mantis' - Executing 'write_csv-386fe2af-2' immediately...\n",
    "23:32:47.351 | INFO    | Task run 'write_csv-386fe2af-2' - Finished in state Completed()\n",
    "23:32:47.395 | INFO    | Flow run 'little-mantis' - Created task run 'write_csv-386fe2af-3' for task 'write_csv'\n",
    "23:32:47.420 | INFO    | Flow run 'little-mantis' - Executing 'write_csv-386fe2af-3' immediately...\n",
    "23:32:52.059 | INFO    | Task run 'write_csv-386fe2af-3' - Finished in state Completed()\n",
    "23:32:52.095 | INFO    | Flow run 'little-mantis' - Created task run 'write_csv-386fe2af-4' for task 'write_csv'\n",
    "23:32:52.105 | INFO    | Flow run 'little-mantis' - Executing 'write_csv-386fe2af-4' immediately...\n",
    "23:32:53.767 | INFO    | Task run 'write_csv-386fe2af-4' - Finished in state Completed()\n",
    "23:32:53.800 | INFO    | Flow run 'little-mantis' - Created task run 'write_csv-386fe2af-5' for task 'write_csv'\n",
    "23:32:53.803 | INFO    | Flow run 'little-mantis' - Executing 'write_csv-386fe2af-5' immediately...\n",
    "23:32:54.081 | INFO    | Task run 'write_csv-386fe2af-5' - Finished in state Completed()\n",
    "23:32:54.171 | INFO    | Flow run 'little-mantis' - Finished in state Completed('All states completed.')\n",
    "\"\"\""
   ]
  },
  {
   "cell_type": "code",
   "execution_count": null,
   "id": "98504fe4",
   "metadata": {},
   "outputs": [],
   "source": [
    "import pandas as pd\n",
    "\n",
    "task_events = [\n",
    "    {\n",
    "        \"time\": line.split(\" |\")[0],\n",
    "        \"task\": line.split(\"ask run '\")[1].split(\"'\")[0],\n",
    "        \"state\": line.split(\"- \")[1].split(\" \")[0],\n",
    "    }\n",
    "    for line in raw_log.split(\"\\n\")\n",
    "    if \"ask run \" in line\n",
    "]\n",
    "\n",
    "df = pd.DataFrame(task_events)\n",
    "df_created = df[df.state == \"Created\"].groupby([\"task\"]).agg(created=(\"time\", min)).reset_index()\n",
    "df_finished = df[df.state == \"Finished\"].groupby([\"task\"]).agg(finished=(\"time\", max)).reset_index()\n",
    "df_tasks = df_created.merge(df_finished, on=[\"task\"], how=\"left\")\n",
    "df_tasks[\"created_ts\"] = df_tasks[\"created\"].apply(pd.Timestamp)\n",
    "df_tasks[\"finished_ts\"] = df_tasks[\"finished\"].apply(pd.Timestamp)\n",
    "df_tasks[\"elapsed_secs\"] = (df_tasks[\"finished_ts\"] - df_tasks[\"created_ts\"]).astype(\"timedelta64[s]\")\n",
    "\n",
    "df_tasks[[\"task\", \"elapsed_secs\"]].sort_values(by=[\"elapsed_secs\"], ascending=[False])"
   ]
  },
  {
   "cell_type": "code",
   "execution_count": null,
   "id": "dd9bcc14",
   "metadata": {},
   "outputs": [],
   "source": []
  }
 ],
 "metadata": {
  "kernelspec": {
   "display_name": "Python 3 (ipykernel)",
   "language": "python",
   "name": "python3"
  },
  "language_info": {
   "codemirror_mode": {
    "name": "ipython",
    "version": 3
   },
   "file_extension": ".py",
   "mimetype": "text/x-python",
   "name": "python",
   "nbconvert_exporter": "python",
   "pygments_lexer": "ipython3",
   "version": "3.8.13"
  }
 },
 "nbformat": 4,
 "nbformat_minor": 5
}
