{
 "cells": [
  {
   "cell_type": "markdown",
   "id": "3d47a386",
   "metadata": {},
   "source": [
    "# Clean Event Data"
   ]
  },
  {
   "cell_type": "code",
   "execution_count": 1,
   "id": "3a49c600",
   "metadata": {},
   "outputs": [],
   "source": [
    "%load_ext autoreload\n",
    "%autoreload 2"
   ]
  },
  {
   "cell_type": "code",
   "execution_count": 2,
   "id": "d8447946",
   "metadata": {},
   "outputs": [],
   "source": [
    "import sys\n",
    "DIR = \"/workspace/nflbigdatabowl2023\"\n",
    "sys.path.append(DIR)"
   ]
  },
  {
   "cell_type": "code",
   "execution_count": 3,
   "id": "83afc5d3",
   "metadata": {},
   "outputs": [],
   "source": [
    "import pandas as pd\n",
    "\n",
    "from nflpocketarea2023.pipeline.tasks.events import clean_event_data\n",
    "from nflpocketarea2023.pipeline.tasks.dataframes import read_tracking_data\n",
    "from nflpocketarea2023.pipeline.flows.main import main_flow"
   ]
  },
  {
   "cell_type": "code",
   "execution_count": 4,
   "id": "5bc85497",
   "metadata": {},
   "outputs": [],
   "source": [
    "df_tracking_all = read_tracking_data(f\"{DIR}/data/raw/week\", weeks=8)"
   ]
  },
  {
   "cell_type": "code",
   "execution_count": 5,
   "id": "f50245bf",
   "metadata": {},
   "outputs": [
    {
     "name": "stdout",
     "output_type": "stream",
     "text": [
      "None\n",
      "autoevent_ballsnap\n",
      "autoevent_passforward\n",
      "autoevent_passinterrupted\n",
      "ball_snap\n",
      "dropped_pass\n",
      "first_contact\n",
      "fumble\n",
      "fumble_offense_recovered\n",
      "handoff\n",
      "huddle_break_offense\n",
      "lateral\n",
      "line_set\n",
      "man_in_motion\n",
      "out_of_bounds\n",
      "pass_arrived\n",
      "pass_forward\n",
      "pass_outcome_caught\n",
      "pass_outcome_incomplete\n",
      "pass_tipped\n",
      "penalty_flag\n",
      "play_action\n",
      "qb_sack\n",
      "qb_strip_sack\n",
      "run\n",
      "shift\n",
      "tackle\n"
     ]
    }
   ],
   "source": [
    "for event in sorted(df_tracking_all[\"event\"].unique()):\n",
    "    print(event)"
   ]
  },
  {
   "cell_type": "code",
   "execution_count": null,
   "id": "772aeb8c",
   "metadata": {},
   "outputs": [],
   "source": []
  }
 ],
 "metadata": {
  "kernelspec": {
   "display_name": "Python 3 (ipykernel)",
   "language": "python",
   "name": "python3"
  },
  "language_info": {
   "codemirror_mode": {
    "name": "ipython",
    "version": 3
   },
   "file_extension": ".py",
   "mimetype": "text/x-python",
   "name": "python",
   "nbconvert_exporter": "python",
   "pygments_lexer": "ipython3",
   "version": "3.8.13"
  }
 },
 "nbformat": 4,
 "nbformat_minor": 5
}
