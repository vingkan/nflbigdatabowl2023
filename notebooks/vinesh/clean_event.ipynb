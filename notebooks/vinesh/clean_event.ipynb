{
 "cells": [
  {
   "cell_type": "markdown",
   "id": "3d47a386",
   "metadata": {},
   "source": [
    "# Clean Event Data"
   ]
  },
  {
   "cell_type": "code",
   "execution_count": 1,
   "id": "3a49c600",
   "metadata": {},
   "outputs": [],
   "source": [
    "%load_ext autoreload\n",
    "%autoreload 2"
   ]
  },
  {
   "cell_type": "code",
   "execution_count": 2,
   "id": "d8447946",
   "metadata": {},
   "outputs": [],
   "source": [
    "import sys\n",
    "DIR = \"/workspace/nflbigdatabowl2023\"\n",
    "sys.path.append(DIR)"
   ]
  },
  {
   "cell_type": "code",
   "execution_count": 9,
   "id": "83afc5d3",
   "metadata": {},
   "outputs": [],
   "source": [
    "from typing import Optional\n",
    "\n",
    "import pandas as pd"
   ]
  },
  {
   "cell_type": "code",
   "execution_count": 11,
   "id": "5bc85497",
   "metadata": {},
   "outputs": [],
   "source": [
    "df_tracking_all = pd.read_csv(f\"{DIR}/data/raw/week1.csv\")"
   ]
  },
  {
   "cell_type": "code",
   "execution_count": 12,
   "id": "f50245bf",
   "metadata": {},
   "outputs": [
    {
     "name": "stdout",
     "output_type": "stream",
     "text": [
      "None\n",
      "autoevent_ballsnap\n",
      "autoevent_passforward\n",
      "autoevent_passinterrupted\n",
      "ball_snap\n",
      "first_contact\n",
      "fumble\n",
      "fumble_offense_recovered\n",
      "handoff\n",
      "huddle_break_offense\n",
      "lateral\n",
      "line_set\n",
      "man_in_motion\n",
      "pass_arrived\n",
      "pass_forward\n",
      "pass_outcome_caught\n",
      "pass_outcome_incomplete\n",
      "pass_tipped\n",
      "play_action\n",
      "qb_sack\n",
      "qb_strip_sack\n",
      "run\n",
      "shift\n"
     ]
    }
   ],
   "source": [
    "for event in sorted(df_tracking_all[\"event\"].unique()):\n",
    "    print(event)"
   ]
  },
  {
   "cell_type": "code",
   "execution_count": 21,
   "id": "95dd6408",
   "metadata": {},
   "outputs": [],
   "source": [
    "def clean_autoevent(raw: str) -> Optional[str]:\n",
    "    # Replace `None` event with null values.\n",
    "    if raw == \"None\":\n",
    "        return None\n",
    "\n",
    "    # Rename auto event names to base event names.\n",
    "    autoevent_renames = {\n",
    "        \"autoevent_ballsnap\": \"ball_snap\",\n",
    "        \"autoevent_passforward\": \"pass_forward\",\n",
    "        \"autoevent_passinterrupted\": \"pass_interrupted\",\n",
    "    }\n",
    "    # If the raw name is not in the dictionary, fall back\n",
    "    # to the raw name itself.\n",
    "    renamed_event = autoevent_renames.get(raw, raw)\n",
    "    return renamed_event"
   ]
  },
  {
   "cell_type": "code",
   "execution_count": 51,
   "id": "6a8fe530",
   "metadata": {},
   "outputs": [],
   "source": [
    "def remove_redundant_event(event: Optional[str], is_first: bool) -> Optional[str]:\n",
    "    # For example, a play could have multiple `fumble` events, so we only want to\n",
    "    # remove redundant events that are non-repeatable.\n",
    "    non_repeatable_events = {\"ball_snap\", \"pass_forward\"}\n",
    "    should_not_repeat = event in non_repeatable_events\n",
    "    is_repeat = not is_first\n",
    "    if should_not_repeat and is_repeat:\n",
    "        return None\n",
    "    return event"
   ]
  },
  {
   "cell_type": "code",
   "execution_count": 52,
   "id": "9cb01125",
   "metadata": {},
   "outputs": [],
   "source": [
    "def clean_event_data(df_tracking: pd.DataFrame) -> pd.DataFrame:\n",
    "    \"\"\"\n",
    "    Copies the Dataframe and adds a new column:\n",
    "    - cleaned_event: Replaces autoevents with the base event name.\n",
    "    \n",
    "    Also ensures that each play has exactly one `ball_snap` event.\n",
    "    \"\"\"\n",
    "    # Get only columns for event per frame, also copies the DataFrame.\n",
    "    base_columns = [\"gameId\", \"playId\", \"frameId\", \"event\"]\n",
    "    df = df_tracking[base_columns].drop_duplicates()\n",
    "    df[\"clean_event\"] = df[\"event\"].apply(clean_autoevent)\n",
    "    \n",
    "    # Find first frame for each event type.\n",
    "    df_event_first_frame = (\n",
    "        df\n",
    "            .groupby([\"gameId\", \"playId\", \"clean_event\"])\n",
    "            .agg(**{\"first_frame\": (\"frameId\", min)})\n",
    "            .reset_index()\n",
    "    )\n",
    "    df_with_first = df.merge(\n",
    "        df_event_first_frame,\n",
    "        left_on=[\"gameId\", \"playId\", \"clean_event\", \"frameId\"],\n",
    "        right_on=[\"gameId\", \"playId\", \"clean_event\", \"first_frame\"],\n",
    "        how=\"left\"\n",
    "    )\n",
    "    df_with_first[\"is_first_event_of_type\"] = df_with_first[\"first_frame\"].notna()\n",
    "    \n",
    "    # Set redundant events to a null value.\n",
    "    df_with_first[\"clean_event\"] = df_with_first.apply(\n",
    "        lambda row: remove_redundant_event(\n",
    "            event=row[\"clean_event\"],\n",
    "            is_first=row[\"is_first_event_of_type\"],\n",
    "        ),\n",
    "        axis=1,\n",
    "    )\n",
    "    df_with_first.drop(columns=[\"first_frame\", \"is_first_event_of_type\"], inplace=True)\n",
    "    return df_with_first"
   ]
  },
  {
   "cell_type": "code",
   "execution_count": 56,
   "id": "766985b8",
   "metadata": {},
   "outputs": [
    {
     "data": {
      "text/html": [
       "<div>\n",
       "<style scoped>\n",
       "    .dataframe tbody tr th:only-of-type {\n",
       "        vertical-align: middle;\n",
       "    }\n",
       "\n",
       "    .dataframe tbody tr th {\n",
       "        vertical-align: top;\n",
       "    }\n",
       "\n",
       "    .dataframe thead th {\n",
       "        text-align: right;\n",
       "    }\n",
       "</style>\n",
       "<table border=\"1\" class=\"dataframe\">\n",
       "  <thead>\n",
       "    <tr style=\"text-align: right;\">\n",
       "      <th></th>\n",
       "      <th>gameId</th>\n",
       "      <th>playId</th>\n",
       "      <th>frameId</th>\n",
       "      <th>event</th>\n",
       "      <th>clean_event</th>\n",
       "    </tr>\n",
       "  </thead>\n",
       "  <tbody>\n",
       "    <tr>\n",
       "      <th>5</th>\n",
       "      <td>2021090900</td>\n",
       "      <td>97</td>\n",
       "      <td>6</td>\n",
       "      <td>ball_snap</td>\n",
       "      <td>ball_snap</td>\n",
       "    </tr>\n",
       "    <tr>\n",
       "      <th>37</th>\n",
       "      <td>2021090900</td>\n",
       "      <td>97</td>\n",
       "      <td>38</td>\n",
       "      <td>autoevent_passforward</td>\n",
       "      <td>pass_forward</td>\n",
       "    </tr>\n",
       "    <tr>\n",
       "      <th>39</th>\n",
       "      <td>2021090900</td>\n",
       "      <td>97</td>\n",
       "      <td>40</td>\n",
       "      <td>pass_forward</td>\n",
       "      <td>None</td>\n",
       "    </tr>\n",
       "    <tr>\n",
       "      <th>48</th>\n",
       "      <td>2021090900</td>\n",
       "      <td>137</td>\n",
       "      <td>6</td>\n",
       "      <td>autoevent_ballsnap</td>\n",
       "      <td>ball_snap</td>\n",
       "    </tr>\n",
       "    <tr>\n",
       "      <th>49</th>\n",
       "      <td>2021090900</td>\n",
       "      <td>137</td>\n",
       "      <td>7</td>\n",
       "      <td>ball_snap</td>\n",
       "      <td>None</td>\n",
       "    </tr>\n",
       "    <tr>\n",
       "      <th>74</th>\n",
       "      <td>2021090900</td>\n",
       "      <td>137</td>\n",
       "      <td>32</td>\n",
       "      <td>pass_forward</td>\n",
       "      <td>pass_forward</td>\n",
       "    </tr>\n",
       "    <tr>\n",
       "      <th>80</th>\n",
       "      <td>2021090900</td>\n",
       "      <td>187</td>\n",
       "      <td>1</td>\n",
       "      <td>line_set</td>\n",
       "      <td>line_set</td>\n",
       "    </tr>\n",
       "    <tr>\n",
       "      <th>85</th>\n",
       "      <td>2021090900</td>\n",
       "      <td>187</td>\n",
       "      <td>6</td>\n",
       "      <td>ball_snap</td>\n",
       "      <td>ball_snap</td>\n",
       "    </tr>\n",
       "    <tr>\n",
       "      <th>105</th>\n",
       "      <td>2021090900</td>\n",
       "      <td>187</td>\n",
       "      <td>26</td>\n",
       "      <td>autoevent_passforward</td>\n",
       "      <td>pass_forward</td>\n",
       "    </tr>\n",
       "    <tr>\n",
       "      <th>107</th>\n",
       "      <td>2021090900</td>\n",
       "      <td>187</td>\n",
       "      <td>28</td>\n",
       "      <td>pass_forward</td>\n",
       "      <td>None</td>\n",
       "    </tr>\n",
       "  </tbody>\n",
       "</table>\n",
       "</div>"
      ],
      "text/plain": [
       "         gameId  playId  frameId                  event   clean_event\n",
       "5    2021090900      97        6              ball_snap     ball_snap\n",
       "37   2021090900      97       38  autoevent_passforward  pass_forward\n",
       "39   2021090900      97       40           pass_forward          None\n",
       "48   2021090900     137        6     autoevent_ballsnap     ball_snap\n",
       "49   2021090900     137        7              ball_snap          None\n",
       "74   2021090900     137       32           pass_forward  pass_forward\n",
       "80   2021090900     187        1               line_set      line_set\n",
       "85   2021090900     187        6              ball_snap     ball_snap\n",
       "105  2021090900     187       26  autoevent_passforward  pass_forward\n",
       "107  2021090900     187       28           pass_forward          None"
      ]
     },
     "execution_count": 56,
     "metadata": {},
     "output_type": "execute_result"
    }
   ],
   "source": [
    "df_events = clean_event_data(df_tracking_all)\n",
    "df_events[df_events[\"event\"] != \"None\"].head(10)"
   ]
  },
  {
   "cell_type": "code",
   "execution_count": null,
   "id": "acf85f78",
   "metadata": {},
   "outputs": [],
   "source": []
  }
 ],
 "metadata": {
  "kernelspec": {
   "display_name": "Python 3 (ipykernel)",
   "language": "python",
   "name": "python3"
  },
  "language_info": {
   "codemirror_mode": {
    "name": "ipython",
    "version": 3
   },
   "file_extension": ".py",
   "mimetype": "text/x-python",
   "name": "python",
   "nbconvert_exporter": "python",
   "pygments_lexer": "ipython3",
   "version": "3.8.13"
  }
 },
 "nbformat": 4,
 "nbformat_minor": 5
}
