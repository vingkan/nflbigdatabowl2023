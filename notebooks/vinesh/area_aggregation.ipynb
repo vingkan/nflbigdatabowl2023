{
 "cells": [
  {
   "cell_type": "markdown",
   "id": "10e440ff",
   "metadata": {},
   "source": [
    "# Area Aggregation"
   ]
  },
  {
   "cell_type": "code",
   "execution_count": 1,
   "id": "d761b838",
   "metadata": {},
   "outputs": [],
   "source": [
    "%load_ext autoreload\n",
    "%autoreload 2"
   ]
  },
  {
   "cell_type": "code",
   "execution_count": 2,
   "id": "ad12a792",
   "metadata": {},
   "outputs": [],
   "source": [
    "import sys\n",
    "DIR = \"/workspace/nflbigdatabowl2023\"\n",
    "sys.path.append(DIR)"
   ]
  },
  {
   "cell_type": "code",
   "execution_count": 3,
   "id": "b0585dbf",
   "metadata": {},
   "outputs": [],
   "source": [
    "import pandas as pd\n",
    "from ast import literal_eval\n",
    "from src.visualization.interactive_play_selector import create_interactive_play_selector"
   ]
  },
  {
   "cell_type": "code",
   "execution_count": 8,
   "id": "62f9b5e5",
   "metadata": {},
   "outputs": [],
   "source": [
    "df_plays_all = pd.read_csv(f\"{DIR}/data/raw/plays.csv\")\n",
    "df_tracking_display_all = pd.read_csv(f\"{DIR}/data/outputs/tracking_display.csv\")\n",
    "df_areas_all = pd.read_csv(f\"{DIR}/data/outputs/pocket_areas.csv\")\n",
    "df_areas_all[\"pocket\"] = df_areas_all[\"pocket\"].apply(literal_eval)\n",
    "df_play_metrics_all = pd.read_csv(f\"{DIR}/data/outputs/play_metrics.csv\")"
   ]
  },
  {
   "cell_type": "code",
   "execution_count": 9,
   "id": "ccfd863a",
   "metadata": {},
   "outputs": [
    {
     "data": {
      "application/vnd.jupyter.widget-view+json": {
       "model_id": "1804cfa617584c6f9fbe07ccb9d74310",
       "version_major": 2,
       "version_minor": 0
      },
      "text/plain": [
       "interactive(children=(Dropdown(description='Week', options=(1, 2, 3), value=1), Dropdown(description='Game ID'…"
      ]
     },
     "metadata": {},
     "output_type": "display_data"
    }
   ],
   "source": [
    "create_interactive_play_selector(\n",
    "    df_plays_all,\n",
    "    df_tracking_display_all,\n",
    "    df_areas_all,\n",
    "    continuous_update=True\n",
    ")"
   ]
  },
  {
   "cell_type": "code",
   "execution_count": 10,
   "id": "ea09eebc",
   "metadata": {},
   "outputs": [
    {
     "data": {
      "text/html": [
       "<div>\n",
       "<style scoped>\n",
       "    .dataframe tbody tr th:only-of-type {\n",
       "        vertical-align: middle;\n",
       "    }\n",
       "\n",
       "    .dataframe tbody tr th {\n",
       "        vertical-align: top;\n",
       "    }\n",
       "\n",
       "    .dataframe thead th {\n",
       "        text-align: right;\n",
       "    }\n",
       "</style>\n",
       "<table border=\"1\" class=\"dataframe\">\n",
       "  <thead>\n",
       "    <tr style=\"text-align: right;\">\n",
       "      <th></th>\n",
       "      <th>gameId</th>\n",
       "      <th>playId</th>\n",
       "      <th>method</th>\n",
       "      <th>window_type</th>\n",
       "      <th>area_start</th>\n",
       "      <th>event</th>\n",
       "      <th>frame_start</th>\n",
       "      <th>frame_end</th>\n",
       "      <th>passer_out_of_pocket</th>\n",
       "      <th>eligible_for_pocket</th>\n",
       "      <th>pass_frame</th>\n",
       "      <th>frames_elapsed</th>\n",
       "      <th>window_size</th>\n",
       "      <th>total_frames</th>\n",
       "      <th>frame_before_pass</th>\n",
       "      <th>pocket</th>\n",
       "      <th>area_end</th>\n",
       "      <th>time_start</th>\n",
       "      <th>time_end</th>\n",
       "      <th>average_pocket_area_loss_per_second</th>\n",
       "    </tr>\n",
       "  </thead>\n",
       "  <tbody>\n",
       "    <tr>\n",
       "      <th>0</th>\n",
       "      <td>2021090900</td>\n",
       "      <td>97</td>\n",
       "      <td>blocker_convex_hull</td>\n",
       "      <td>after_snap</td>\n",
       "      <td>12.883000</td>\n",
       "      <td>NaN</td>\n",
       "      <td>6</td>\n",
       "      <td>38</td>\n",
       "      <td>False</td>\n",
       "      <td>True</td>\n",
       "      <td>38.0</td>\n",
       "      <td>20</td>\n",
       "      <td>20</td>\n",
       "      <td>32</td>\n",
       "      <td>18.0</td>\n",
       "      <td>{'area': 15.423249999999982, 'metadata': {'ver...</td>\n",
       "      <td>15.423250</td>\n",
       "      <td>0.6</td>\n",
       "      <td>2.6</td>\n",
       "      <td>1.270125</td>\n",
       "    </tr>\n",
       "    <tr>\n",
       "      <th>1</th>\n",
       "      <td>2021090900</td>\n",
       "      <td>97</td>\n",
       "      <td>blocker_convex_hull</td>\n",
       "      <td>before_pass</td>\n",
       "      <td>17.560700</td>\n",
       "      <td>pass_forward</td>\n",
       "      <td>6</td>\n",
       "      <td>38</td>\n",
       "      <td>False</td>\n",
       "      <td>True</td>\n",
       "      <td>38.0</td>\n",
       "      <td>32</td>\n",
       "      <td>20</td>\n",
       "      <td>32</td>\n",
       "      <td>18.0</td>\n",
       "      <td>{'area': 17.14429999999998, 'metadata': {'vert...</td>\n",
       "      <td>17.144300</td>\n",
       "      <td>1.8</td>\n",
       "      <td>3.8</td>\n",
       "      <td>-0.208200</td>\n",
       "    </tr>\n",
       "    <tr>\n",
       "      <th>2</th>\n",
       "      <td>2021090900</td>\n",
       "      <td>97</td>\n",
       "      <td>passer_radius</td>\n",
       "      <td>after_snap</td>\n",
       "      <td>105.087845</td>\n",
       "      <td>NaN</td>\n",
       "      <td>6</td>\n",
       "      <td>38</td>\n",
       "      <td>False</td>\n",
       "      <td>True</td>\n",
       "      <td>38.0</td>\n",
       "      <td>20</td>\n",
       "      <td>20</td>\n",
       "      <td>32</td>\n",
       "      <td>18.0</td>\n",
       "      <td>{'area': 55.41926520565073, 'metadata': {'vert...</td>\n",
       "      <td>55.419265</td>\n",
       "      <td>0.6</td>\n",
       "      <td>2.6</td>\n",
       "      <td>-24.834290</td>\n",
       "    </tr>\n",
       "    <tr>\n",
       "      <th>3</th>\n",
       "      <td>2021090900</td>\n",
       "      <td>97</td>\n",
       "      <td>passer_radius</td>\n",
       "      <td>before_pass</td>\n",
       "      <td>74.509153</td>\n",
       "      <td>pass_forward</td>\n",
       "      <td>6</td>\n",
       "      <td>38</td>\n",
       "      <td>False</td>\n",
       "      <td>True</td>\n",
       "      <td>38.0</td>\n",
       "      <td>32</td>\n",
       "      <td>20</td>\n",
       "      <td>32</td>\n",
       "      <td>18.0</td>\n",
       "      <td>{'area': 16.744688843633554, 'metadata': {'ver...</td>\n",
       "      <td>16.744689</td>\n",
       "      <td>1.8</td>\n",
       "      <td>3.8</td>\n",
       "      <td>-28.882232</td>\n",
       "    </tr>\n",
       "    <tr>\n",
       "      <th>4</th>\n",
       "      <td>2021090900</td>\n",
       "      <td>97</td>\n",
       "      <td>rushers_pocket_area</td>\n",
       "      <td>after_snap</td>\n",
       "      <td>42.193800</td>\n",
       "      <td>NaN</td>\n",
       "      <td>6</td>\n",
       "      <td>38</td>\n",
       "      <td>False</td>\n",
       "      <td>True</td>\n",
       "      <td>38.0</td>\n",
       "      <td>20</td>\n",
       "      <td>20</td>\n",
       "      <td>32</td>\n",
       "      <td>18.0</td>\n",
       "      <td>{'area': 19.343199999999996, 'metadata': {'ver...</td>\n",
       "      <td>19.343200</td>\n",
       "      <td>0.6</td>\n",
       "      <td>2.6</td>\n",
       "      <td>-11.425300</td>\n",
       "    </tr>\n",
       "  </tbody>\n",
       "</table>\n",
       "</div>"
      ],
      "text/plain": [
       "       gameId  playId               method  window_type  area_start  \\\n",
       "0  2021090900      97  blocker_convex_hull   after_snap   12.883000   \n",
       "1  2021090900      97  blocker_convex_hull  before_pass   17.560700   \n",
       "2  2021090900      97        passer_radius   after_snap  105.087845   \n",
       "3  2021090900      97        passer_radius  before_pass   74.509153   \n",
       "4  2021090900      97  rushers_pocket_area   after_snap   42.193800   \n",
       "\n",
       "          event  frame_start  frame_end  passer_out_of_pocket  \\\n",
       "0           NaN            6         38                 False   \n",
       "1  pass_forward            6         38                 False   \n",
       "2           NaN            6         38                 False   \n",
       "3  pass_forward            6         38                 False   \n",
       "4           NaN            6         38                 False   \n",
       "\n",
       "   eligible_for_pocket  pass_frame  frames_elapsed  window_size  total_frames  \\\n",
       "0                 True        38.0              20           20            32   \n",
       "1                 True        38.0              32           20            32   \n",
       "2                 True        38.0              20           20            32   \n",
       "3                 True        38.0              32           20            32   \n",
       "4                 True        38.0              20           20            32   \n",
       "\n",
       "   frame_before_pass                                             pocket  \\\n",
       "0               18.0  {'area': 15.423249999999982, 'metadata': {'ver...   \n",
       "1               18.0  {'area': 17.14429999999998, 'metadata': {'vert...   \n",
       "2               18.0  {'area': 55.41926520565073, 'metadata': {'vert...   \n",
       "3               18.0  {'area': 16.744688843633554, 'metadata': {'ver...   \n",
       "4               18.0  {'area': 19.343199999999996, 'metadata': {'ver...   \n",
       "\n",
       "    area_end  time_start  time_end  average_pocket_area_loss_per_second  \n",
       "0  15.423250         0.6       2.6                             1.270125  \n",
       "1  17.144300         1.8       3.8                            -0.208200  \n",
       "2  55.419265         0.6       2.6                           -24.834290  \n",
       "3  16.744689         1.8       3.8                           -28.882232  \n",
       "4  19.343200         0.6       2.6                           -11.425300  "
      ]
     },
     "execution_count": 10,
     "metadata": {},
     "output_type": "execute_result"
    }
   ],
   "source": [
    "df_play_metrics_all.head()"
   ]
  },
  {
   "cell_type": "code",
   "execution_count": 11,
   "id": "3886c714",
   "metadata": {},
   "outputs": [
    {
     "data": {
      "text/plain": [
       "Index(['gameId', 'playId', 'method', 'window_type', 'area_start', 'event',\n",
       "       'frame_start', 'frame_end', 'passer_out_of_pocket',\n",
       "       'eligible_for_pocket', 'pass_frame', 'frames_elapsed', 'window_size',\n",
       "       'total_frames', 'frame_before_pass', 'pocket', 'area_end', 'time_start',\n",
       "       'time_end', 'average_pocket_area_loss_per_second'],\n",
       "      dtype='object')"
      ]
     },
     "execution_count": 11,
     "metadata": {},
     "output_type": "execute_result"
    }
   ],
   "source": [
    "df_play_metrics_all.columns"
   ]
  },
  {
   "cell_type": "code",
   "execution_count": null,
   "id": "a317e9b2",
   "metadata": {},
   "outputs": [],
   "source": []
  }
 ],
 "metadata": {
  "kernelspec": {
   "display_name": "Python 3 (ipykernel)",
   "language": "python",
   "name": "python3"
  },
  "language_info": {
   "codemirror_mode": {
    "name": "ipython",
    "version": 3
   },
   "file_extension": ".py",
   "mimetype": "text/x-python",
   "name": "python",
   "nbconvert_exporter": "python",
   "pygments_lexer": "ipython3",
   "version": "3.8.13"
  }
 },
 "nbformat": 4,
 "nbformat_minor": 5
}
