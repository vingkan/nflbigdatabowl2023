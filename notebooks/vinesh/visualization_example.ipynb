{
 "cells": [
  {
   "cell_type": "markdown",
   "id": "9754e686",
   "metadata": {},
   "source": [
    "# Visualization Example"
   ]
  },
  {
   "cell_type": "code",
   "execution_count": 1,
   "id": "b945a06e",
   "metadata": {
    "scrolled": true
   },
   "outputs": [],
   "source": [
    "%load_ext autoreload\n",
    "%autoreload 2"
   ]
  },
  {
   "cell_type": "code",
   "execution_count": 2,
   "id": "fb4c19ef",
   "metadata": {},
   "outputs": [],
   "source": [
    "import sys\n",
    "DIR = \"/workspace/nflbigdatabowl2023\"\n",
    "sys.path.append(DIR)"
   ]
  },
  {
   "cell_type": "code",
   "execution_count": 9,
   "id": "12eb9e38",
   "metadata": {},
   "outputs": [],
   "source": [
    "import time\n",
    "from contextlib import contextmanager\n",
    "\n",
    "\n",
    "@contextmanager\n",
    "def timer():\n",
    "    \"\"\"Helper function to time code within a context block.\"\"\"\n",
    "    start_time = time.perf_counter()\n",
    "    yield\n",
    "    duration = time.perf_counter() - start_time\n",
    "    print(f\"Ran in {duration:0.1f} secs\")"
   ]
  },
  {
   "cell_type": "code",
   "execution_count": 22,
   "id": "da35fb4e",
   "metadata": {},
   "outputs": [],
   "source": [
    "import math\n",
    "from ast import literal_eval\n",
    "\n",
    "import pandas as pd\n",
    "import matplotlib.pyplot as plt\n",
    "\n",
    "from src.pipeline.flows.main_no_prefect import main_flow\n",
    "from src.visualization.interactive_play_selector import create_interactive_play_selector"
   ]
  },
  {
   "cell_type": "code",
   "execution_count": 23,
   "id": "52e7c8a7",
   "metadata": {
    "scrolled": false
   },
   "outputs": [
    {
     "name": "stdout",
     "output_type": "stream",
     "text": [
      "max_y = 1.9099999999999966\n",
      "max_y = 1.8999999999999986\n",
      "max_y = 1.8999999999999986\n",
      "max_y = 1.8799999999999955\n",
      "max_y = 1.8499999999999943\n",
      "max_y = 1.7899999999999991\n",
      "max_y = 1.7199999999999989\n",
      "max_y = 1.5700000000000003\n",
      "max_y = 1.3999999999999986\n",
      "max_y = 1.1999999999999957\n",
      "max_y = 0.9899999999999949\n",
      "max_y = 0.7899999999999991\n",
      "max_y = 0.5899999999999963\n",
      "max_y = 0.1699999999999946\n",
      "max_y = -0.23000000000000398\n",
      "max_y = -0.6200000000000045\n",
      "max_y = -0.980000000000004\n",
      "max_y = -1.240000000000002\n",
      "max_y = -1.4100000000000037\n",
      "max_y = -1.5700000000000003\n",
      "max_y = -1.740000000000002\n",
      "max_y = -1.9000000000000057\n",
      "max_y = -2.0500000000000043\n",
      "max_y = -2.1700000000000017\n",
      "max_y = -2.280000000000001\n",
      "max_y = -2.3800000000000026\n",
      "max_y = -2.469999999999999\n",
      "max_y = -2.6099999999999994\n",
      "max_y = -2.710000000000001\n",
      "max_y = -4.18\n",
      "max_y = -4.340000000000003\n",
      "max_y = -4.510000000000005\n",
      "max_y = -4.660000000000004\n",
      "max_y = -5.600000000000001\n",
      "max_y = -5.890000000000001\n",
      "max_y = -6.150000000000006\n",
      "max_y = -6.43\n",
      "max_y = -6.710000000000001\n",
      "max_y = -6.710000000000001\n",
      "Ran in 2.1 secs\n"
     ]
    }
   ],
   "source": [
    "with timer():\n",
    "    _ = main_flow(max_weeks=1, max_games=1, max_plays=1)"
   ]
  },
  {
   "cell_type": "code",
   "execution_count": 24,
   "id": "f8607a90",
   "metadata": {},
   "outputs": [],
   "source": [
    "df_plays_all = pd.read_csv(f\"{DIR}/data/raw/plays.csv\")\n",
    "df_tracking_display_all = pd.read_csv(f\"{DIR}/data/outputs/tracking_display.csv\")\n",
    "df_areas_all = pd.read_csv(f\"{DIR}/data/outputs/pocket_areas.csv\")\n",
    "df_areas_all[\"pocket\"] = df_areas_all[\"pocket\"].apply(literal_eval)"
   ]
  },
  {
   "cell_type": "code",
   "execution_count": 25,
   "id": "a8b17aa2",
   "metadata": {
    "scrolled": false
   },
   "outputs": [
    {
     "data": {
      "application/vnd.jupyter.widget-view+json": {
       "model_id": "4e6de03e5e824e39a0801f94e5a5718a",
       "version_major": 2,
       "version_minor": 0
      },
      "text/plain": [
       "interactive(children=(Dropdown(description='Week', options=(1,), value=1), Dropdown(description='Game ID', opt…"
      ]
     },
     "metadata": {},
     "output_type": "display_data"
    }
   ],
   "source": [
    "create_interactive_play_selector(\n",
    "    df_plays_all,\n",
    "    df_tracking_display_all,\n",
    "    df_areas_all,\n",
    "    continuous_update=True\n",
    ")"
   ]
  },
  {
   "cell_type": "code",
   "execution_count": null,
   "id": "6df5d438",
   "metadata": {},
   "outputs": [],
   "source": []
  }
 ],
 "metadata": {
  "kernelspec": {
   "display_name": "Python 3 (ipykernel)",
   "language": "python",
   "name": "python3"
  },
  "language_info": {
   "codemirror_mode": {
    "name": "ipython",
    "version": 3
   },
   "file_extension": ".py",
   "mimetype": "text/x-python",
   "name": "python",
   "nbconvert_exporter": "python",
   "pygments_lexer": "ipython3",
   "version": "3.8.13"
  },
  "vscode": {
   "interpreter": {
    "hash": "32851c0586613b673c0e930c323ba937886b2f699c9a23a5a6ddc560d53801f6"
   }
  }
 },
 "nbformat": 4,
 "nbformat_minor": 5
}
