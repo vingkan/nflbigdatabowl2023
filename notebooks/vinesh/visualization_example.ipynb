{
 "cells": [
  {
   "cell_type": "markdown",
   "id": "9754e686",
   "metadata": {},
   "source": [
    "# Visualization Example"
   ]
  },
  {
   "cell_type": "code",
   "execution_count": 1,
   "id": "b945a06e",
   "metadata": {},
   "outputs": [],
   "source": [
    "%load_ext autoreload\n",
    "%autoreload 2"
   ]
  },
  {
   "cell_type": "code",
   "execution_count": 2,
   "id": "fb4c19ef",
   "metadata": {},
   "outputs": [],
   "source": [
    "import sys\n",
    "DIR = \"/workspace/nflbigdatabowl2023\"\n",
    "sys.path.append(DIR)"
   ]
  },
  {
   "cell_type": "code",
   "execution_count": 3,
   "id": "da35fb4e",
   "metadata": {},
   "outputs": [],
   "source": [
    "import math\n",
    "from ast import literal_eval\n",
    "\n",
    "import pandas as pd\n",
    "import matplotlib.pyplot as plt\n",
    "\n",
    "from src.pipeline.flows.main import main_flow\n",
    "from src.visualization.interactive_play_selector import create_interactive_play_selector"
   ]
  },
  {
   "cell_type": "code",
   "execution_count": 4,
   "id": "52e7c8a7",
   "metadata": {
    "scrolled": false
   },
   "outputs": [
    {
     "data": {
      "text/html": [
       "<pre style=\"white-space:pre;overflow-x:auto;line-height:normal;font-family:Menlo,'DejaVu Sans Mono',consolas,'Courier New',monospace\">18:49:26.919 | <span style=\"color: #008080; text-decoration-color: #008080\">INFO</span>    | prefect.engine - Created flow run<span style=\"color: #800080; text-decoration-color: #800080\"> 'amusing-junglefowl'</span> for flow<span style=\"color: #800080; text-decoration-color: #800080; font-weight: bold\"> 'main-flow'</span>\n",
       "</pre>\n"
      ],
      "text/plain": [
       "18:49:26.919 | \u001b[36mINFO\u001b[0m    | prefect.engine - Created flow run\u001b[35m 'amusing-junglefowl'\u001b[0m for flow\u001b[1;35m 'main-flow'\u001b[0m\n"
      ]
     },
     "metadata": {},
     "output_type": "display_data"
    },
    {
     "data": {
      "text/html": [
       "<pre style=\"white-space:pre;overflow-x:auto;line-height:normal;font-family:Menlo,'DejaVu Sans Mono',consolas,'Courier New',monospace\">18:49:27.186 | <span style=\"color: #008080; text-decoration-color: #008080\">INFO</span>    | Flow run<span style=\"color: #800080; text-decoration-color: #800080\"> 'amusing-junglefowl'</span> - Created task run 'read_csv-3609c996-0' for task 'read_csv'\n",
       "</pre>\n"
      ],
      "text/plain": [
       "18:49:27.186 | \u001b[36mINFO\u001b[0m    | Flow run\u001b[35m 'amusing-junglefowl'\u001b[0m - Created task run 'read_csv-3609c996-0' for task 'read_csv'\n"
      ]
     },
     "metadata": {},
     "output_type": "display_data"
    },
    {
     "data": {
      "text/html": [
       "<pre style=\"white-space:pre;overflow-x:auto;line-height:normal;font-family:Menlo,'DejaVu Sans Mono',consolas,'Courier New',monospace\">18:49:27.190 | <span style=\"color: #008080; text-decoration-color: #008080\">INFO</span>    | Flow run<span style=\"color: #800080; text-decoration-color: #800080\"> 'amusing-junglefowl'</span> - Executing 'read_csv-3609c996-0' immediately...\n",
       "</pre>\n"
      ],
      "text/plain": [
       "18:49:27.190 | \u001b[36mINFO\u001b[0m    | Flow run\u001b[35m 'amusing-junglefowl'\u001b[0m - Executing 'read_csv-3609c996-0' immediately...\n"
      ]
     },
     "metadata": {},
     "output_type": "display_data"
    },
    {
     "data": {
      "text/html": [
       "<pre style=\"white-space:pre;overflow-x:auto;line-height:normal;font-family:Menlo,'DejaVu Sans Mono',consolas,'Courier New',monospace\">18:49:27.514 | <span style=\"color: #008080; text-decoration-color: #008080\">INFO</span>    | Task run 'read_csv-3609c996-0' - Finished in state <span style=\"color: #008000; text-decoration-color: #008000\">Completed</span>()\n",
       "</pre>\n"
      ],
      "text/plain": [
       "18:49:27.514 | \u001b[36mINFO\u001b[0m    | Task run 'read_csv-3609c996-0' - Finished in state \u001b[32mCompleted\u001b[0m()\n"
      ]
     },
     "metadata": {},
     "output_type": "display_data"
    },
    {
     "data": {
      "text/html": [
       "<pre style=\"white-space:pre;overflow-x:auto;line-height:normal;font-family:Menlo,'DejaVu Sans Mono',consolas,'Courier New',monospace\">18:49:27.552 | <span style=\"color: #008080; text-decoration-color: #008080\">INFO</span>    | Flow run<span style=\"color: #800080; text-decoration-color: #800080\"> 'amusing-junglefowl'</span> - Created task run 'read_csv-3609c996-1' for task 'read_csv'\n",
       "</pre>\n"
      ],
      "text/plain": [
       "18:49:27.552 | \u001b[36mINFO\u001b[0m    | Flow run\u001b[35m 'amusing-junglefowl'\u001b[0m - Created task run 'read_csv-3609c996-1' for task 'read_csv'\n"
      ]
     },
     "metadata": {},
     "output_type": "display_data"
    },
    {
     "data": {
      "text/html": [
       "<pre style=\"white-space:pre;overflow-x:auto;line-height:normal;font-family:Menlo,'DejaVu Sans Mono',consolas,'Courier New',monospace\">18:49:27.556 | <span style=\"color: #008080; text-decoration-color: #008080\">INFO</span>    | Flow run<span style=\"color: #800080; text-decoration-color: #800080\"> 'amusing-junglefowl'</span> - Executing 'read_csv-3609c996-1' immediately...\n",
       "</pre>\n"
      ],
      "text/plain": [
       "18:49:27.556 | \u001b[36mINFO\u001b[0m    | Flow run\u001b[35m 'amusing-junglefowl'\u001b[0m - Executing 'read_csv-3609c996-1' immediately...\n"
      ]
     },
     "metadata": {},
     "output_type": "display_data"
    },
    {
     "data": {
      "text/html": [
       "<pre style=\"white-space:pre;overflow-x:auto;line-height:normal;font-family:Menlo,'DejaVu Sans Mono',consolas,'Courier New',monospace\">18:49:27.686 | <span style=\"color: #008080; text-decoration-color: #008080\">INFO</span>    | Task run 'read_csv-3609c996-1' - Finished in state <span style=\"color: #008000; text-decoration-color: #008000\">Completed</span>()\n",
       "</pre>\n"
      ],
      "text/plain": [
       "18:49:27.686 | \u001b[36mINFO\u001b[0m    | Task run 'read_csv-3609c996-1' - Finished in state \u001b[32mCompleted\u001b[0m()\n"
      ]
     },
     "metadata": {},
     "output_type": "display_data"
    },
    {
     "data": {
      "text/html": [
       "<pre style=\"white-space:pre;overflow-x:auto;line-height:normal;font-family:Menlo,'DejaVu Sans Mono',consolas,'Courier New',monospace\">18:49:27.716 | <span style=\"color: #008080; text-decoration-color: #008080\">INFO</span>    | Flow run<span style=\"color: #800080; text-decoration-color: #800080\"> 'amusing-junglefowl'</span> - Created task run 'read_csv-3609c996-2' for task 'read_csv'\n",
       "</pre>\n"
      ],
      "text/plain": [
       "18:49:27.716 | \u001b[36mINFO\u001b[0m    | Flow run\u001b[35m 'amusing-junglefowl'\u001b[0m - Created task run 'read_csv-3609c996-2' for task 'read_csv'\n"
      ]
     },
     "metadata": {},
     "output_type": "display_data"
    },
    {
     "data": {
      "text/html": [
       "<pre style=\"white-space:pre;overflow-x:auto;line-height:normal;font-family:Menlo,'DejaVu Sans Mono',consolas,'Courier New',monospace\">18:49:27.718 | <span style=\"color: #008080; text-decoration-color: #008080\">INFO</span>    | Flow run<span style=\"color: #800080; text-decoration-color: #800080\"> 'amusing-junglefowl'</span> - Executing 'read_csv-3609c996-2' immediately...\n",
       "</pre>\n"
      ],
      "text/plain": [
       "18:49:27.718 | \u001b[36mINFO\u001b[0m    | Flow run\u001b[35m 'amusing-junglefowl'\u001b[0m - Executing 'read_csv-3609c996-2' immediately...\n"
      ]
     },
     "metadata": {},
     "output_type": "display_data"
    },
    {
     "data": {
      "text/html": [
       "<pre style=\"white-space:pre;overflow-x:auto;line-height:normal;font-family:Menlo,'DejaVu Sans Mono',consolas,'Courier New',monospace\">18:49:29.486 | <span style=\"color: #008080; text-decoration-color: #008080\">INFO</span>    | Task run 'read_csv-3609c996-2' - Finished in state <span style=\"color: #008000; text-decoration-color: #008000\">Completed</span>()\n",
       "</pre>\n"
      ],
      "text/plain": [
       "18:49:29.486 | \u001b[36mINFO\u001b[0m    | Task run 'read_csv-3609c996-2' - Finished in state \u001b[32mCompleted\u001b[0m()\n"
      ]
     },
     "metadata": {},
     "output_type": "display_data"
    },
    {
     "data": {
      "text/html": [
       "<pre style=\"white-space:pre;overflow-x:auto;line-height:normal;font-family:Menlo,'DejaVu Sans Mono',consolas,'Courier New',monospace\">18:49:29.516 | <span style=\"color: #008080; text-decoration-color: #008080\">INFO</span>    | Flow run<span style=\"color: #800080; text-decoration-color: #800080\"> 'amusing-junglefowl'</span> - Created task run 'limit_by_keys-3d51749e-0' for task 'limit_by_keys'\n",
       "</pre>\n"
      ],
      "text/plain": [
       "18:49:29.516 | \u001b[36mINFO\u001b[0m    | Flow run\u001b[35m 'amusing-junglefowl'\u001b[0m - Created task run 'limit_by_keys-3d51749e-0' for task 'limit_by_keys'\n"
      ]
     },
     "metadata": {},
     "output_type": "display_data"
    },
    {
     "data": {
      "text/html": [
       "<pre style=\"white-space:pre;overflow-x:auto;line-height:normal;font-family:Menlo,'DejaVu Sans Mono',consolas,'Courier New',monospace\">18:49:29.518 | <span style=\"color: #008080; text-decoration-color: #008080\">INFO</span>    | Flow run<span style=\"color: #800080; text-decoration-color: #800080\"> 'amusing-junglefowl'</span> - Executing 'limit_by_keys-3d51749e-0' immediately...\n",
       "</pre>\n"
      ],
      "text/plain": [
       "18:49:29.518 | \u001b[36mINFO\u001b[0m    | Flow run\u001b[35m 'amusing-junglefowl'\u001b[0m - Executing 'limit_by_keys-3d51749e-0' immediately...\n"
      ]
     },
     "metadata": {},
     "output_type": "display_data"
    },
    {
     "data": {
      "text/html": [
       "<pre style=\"white-space:pre;overflow-x:auto;line-height:normal;font-family:Menlo,'DejaVu Sans Mono',consolas,'Courier New',monospace\">18:49:29.881 | <span style=\"color: #008080; text-decoration-color: #008080\">INFO</span>    | Task run 'limit_by_keys-3d51749e-0' - Finished in state <span style=\"color: #008000; text-decoration-color: #008000\">Completed</span>()\n",
       "</pre>\n"
      ],
      "text/plain": [
       "18:49:29.881 | \u001b[36mINFO\u001b[0m    | Task run 'limit_by_keys-3d51749e-0' - Finished in state \u001b[32mCompleted\u001b[0m()\n"
      ]
     },
     "metadata": {},
     "output_type": "display_data"
    },
    {
     "data": {
      "text/html": [
       "<pre style=\"white-space:pre;overflow-x:auto;line-height:normal;font-family:Menlo,'DejaVu Sans Mono',consolas,'Courier New',monospace\">18:49:29.916 | <span style=\"color: #008080; text-decoration-color: #008080\">INFO</span>    | Flow run<span style=\"color: #800080; text-decoration-color: #800080\"> 'amusing-junglefowl'</span> - Created task run 'limit_by_child_keys-4238f776-0' for task 'limit_by_child_keys'\n",
       "</pre>\n"
      ],
      "text/plain": [
       "18:49:29.916 | \u001b[36mINFO\u001b[0m    | Flow run\u001b[35m 'amusing-junglefowl'\u001b[0m - Created task run 'limit_by_child_keys-4238f776-0' for task 'limit_by_child_keys'\n"
      ]
     },
     "metadata": {},
     "output_type": "display_data"
    },
    {
     "data": {
      "text/html": [
       "<pre style=\"white-space:pre;overflow-x:auto;line-height:normal;font-family:Menlo,'DejaVu Sans Mono',consolas,'Courier New',monospace\">18:49:29.918 | <span style=\"color: #008080; text-decoration-color: #008080\">INFO</span>    | Flow run<span style=\"color: #800080; text-decoration-color: #800080\"> 'amusing-junglefowl'</span> - Executing 'limit_by_child_keys-4238f776-0' immediately...\n",
       "</pre>\n"
      ],
      "text/plain": [
       "18:49:29.918 | \u001b[36mINFO\u001b[0m    | Flow run\u001b[35m 'amusing-junglefowl'\u001b[0m - Executing 'limit_by_child_keys-4238f776-0' immediately...\n"
      ]
     },
     "metadata": {},
     "output_type": "display_data"
    },
    {
     "data": {
      "text/html": [
       "<pre style=\"white-space:pre;overflow-x:auto;line-height:normal;font-family:Menlo,'DejaVu Sans Mono',consolas,'Courier New',monospace\">18:49:30.015 | <span style=\"color: #008080; text-decoration-color: #008080\">INFO</span>    | Task run 'limit_by_child_keys-4238f776-0' - Finished in state <span style=\"color: #008000; text-decoration-color: #008000\">Completed</span>()\n",
       "</pre>\n"
      ],
      "text/plain": [
       "18:49:30.015 | \u001b[36mINFO\u001b[0m    | Task run 'limit_by_child_keys-4238f776-0' - Finished in state \u001b[32mCompleted\u001b[0m()\n"
      ]
     },
     "metadata": {},
     "output_type": "display_data"
    },
    {
     "data": {
      "text/html": [
       "<pre style=\"white-space:pre;overflow-x:auto;line-height:normal;font-family:Menlo,'DejaVu Sans Mono',consolas,'Courier New',monospace\">18:49:30.054 | <span style=\"color: #008080; text-decoration-color: #008080\">INFO</span>    | Flow run<span style=\"color: #800080; text-decoration-color: #800080\"> 'amusing-junglefowl'</span> - Created task run 'align_tracking_data-ea7afe30-0' for task 'align_tracking_data'\n",
       "</pre>\n"
      ],
      "text/plain": [
       "18:49:30.054 | \u001b[36mINFO\u001b[0m    | Flow run\u001b[35m 'amusing-junglefowl'\u001b[0m - Created task run 'align_tracking_data-ea7afe30-0' for task 'align_tracking_data'\n"
      ]
     },
     "metadata": {},
     "output_type": "display_data"
    },
    {
     "data": {
      "text/html": [
       "<pre style=\"white-space:pre;overflow-x:auto;line-height:normal;font-family:Menlo,'DejaVu Sans Mono',consolas,'Courier New',monospace\">18:49:30.057 | <span style=\"color: #008080; text-decoration-color: #008080\">INFO</span>    | Flow run<span style=\"color: #800080; text-decoration-color: #800080\"> 'amusing-junglefowl'</span> - Executing 'align_tracking_data-ea7afe30-0' immediately...\n",
       "</pre>\n"
      ],
      "text/plain": [
       "18:49:30.057 | \u001b[36mINFO\u001b[0m    | Flow run\u001b[35m 'amusing-junglefowl'\u001b[0m - Executing 'align_tracking_data-ea7afe30-0' immediately...\n"
      ]
     },
     "metadata": {},
     "output_type": "display_data"
    },
    {
     "data": {
      "text/html": [
       "<pre style=\"white-space:pre;overflow-x:auto;line-height:normal;font-family:Menlo,'DejaVu Sans Mono',consolas,'Courier New',monospace\">18:49:30.185 | <span style=\"color: #008080; text-decoration-color: #008080\">INFO</span>    | Task run 'align_tracking_data-ea7afe30-0' - Finished in state <span style=\"color: #008000; text-decoration-color: #008000\">Completed</span>()\n",
       "</pre>\n"
      ],
      "text/plain": [
       "18:49:30.185 | \u001b[36mINFO\u001b[0m    | Task run 'align_tracking_data-ea7afe30-0' - Finished in state \u001b[32mCompleted\u001b[0m()\n"
      ]
     },
     "metadata": {},
     "output_type": "display_data"
    },
    {
     "data": {
      "text/html": [
       "<pre style=\"white-space:pre;overflow-x:auto;line-height:normal;font-family:Menlo,'DejaVu Sans Mono',consolas,'Courier New',monospace\">18:49:30.215 | <span style=\"color: #008080; text-decoration-color: #008080\">INFO</span>    | Flow run<span style=\"color: #800080; text-decoration-color: #800080\"> 'amusing-junglefowl'</span> - Created task run 'rotate_tracking_data-13ea6cce-0' for task 'rotate_tracking_data'\n",
       "</pre>\n"
      ],
      "text/plain": [
       "18:49:30.215 | \u001b[36mINFO\u001b[0m    | Flow run\u001b[35m 'amusing-junglefowl'\u001b[0m - Created task run 'rotate_tracking_data-13ea6cce-0' for task 'rotate_tracking_data'\n"
      ]
     },
     "metadata": {},
     "output_type": "display_data"
    },
    {
     "data": {
      "text/html": [
       "<pre style=\"white-space:pre;overflow-x:auto;line-height:normal;font-family:Menlo,'DejaVu Sans Mono',consolas,'Courier New',monospace\">18:49:30.217 | <span style=\"color: #008080; text-decoration-color: #008080\">INFO</span>    | Flow run<span style=\"color: #800080; text-decoration-color: #800080\"> 'amusing-junglefowl'</span> - Executing 'rotate_tracking_data-13ea6cce-0' immediately...\n",
       "</pre>\n"
      ],
      "text/plain": [
       "18:49:30.217 | \u001b[36mINFO\u001b[0m    | Flow run\u001b[35m 'amusing-junglefowl'\u001b[0m - Executing 'rotate_tracking_data-13ea6cce-0' immediately...\n"
      ]
     },
     "metadata": {},
     "output_type": "display_data"
    },
    {
     "data": {
      "text/html": [
       "<pre style=\"white-space:pre;overflow-x:auto;line-height:normal;font-family:Menlo,'DejaVu Sans Mono',consolas,'Courier New',monospace\">18:49:30.314 | <span style=\"color: #008080; text-decoration-color: #008080\">INFO</span>    | Task run 'rotate_tracking_data-13ea6cce-0' - Finished in state <span style=\"color: #008000; text-decoration-color: #008000\">Completed</span>()\n",
       "</pre>\n"
      ],
      "text/plain": [
       "18:49:30.314 | \u001b[36mINFO\u001b[0m    | Task run 'rotate_tracking_data-13ea6cce-0' - Finished in state \u001b[32mCompleted\u001b[0m()\n"
      ]
     },
     "metadata": {},
     "output_type": "display_data"
    },
    {
     "data": {
      "text/html": [
       "<pre style=\"white-space:pre;overflow-x:auto;line-height:normal;font-family:Menlo,'DejaVu Sans Mono',consolas,'Courier New',monospace\">18:49:30.352 | <span style=\"color: #008080; text-decoration-color: #008080\">INFO</span>    | Flow run<span style=\"color: #800080; text-decoration-color: #800080\"> 'amusing-junglefowl'</span> - Created task run 'get_passer_out_of_pocket-98072e46-0' for task 'get_passer_out_of_pocket'\n",
       "</pre>\n"
      ],
      "text/plain": [
       "18:49:30.352 | \u001b[36mINFO\u001b[0m    | Flow run\u001b[35m 'amusing-junglefowl'\u001b[0m - Created task run 'get_passer_out_of_pocket-98072e46-0' for task 'get_passer_out_of_pocket'\n"
      ]
     },
     "metadata": {},
     "output_type": "display_data"
    },
    {
     "data": {
      "text/html": [
       "<pre style=\"white-space:pre;overflow-x:auto;line-height:normal;font-family:Menlo,'DejaVu Sans Mono',consolas,'Courier New',monospace\">18:49:30.356 | <span style=\"color: #008080; text-decoration-color: #008080\">INFO</span>    | Flow run<span style=\"color: #800080; text-decoration-color: #800080\"> 'amusing-junglefowl'</span> - Executing 'get_passer_out_of_pocket-98072e46-0' immediately...\n",
       "</pre>\n"
      ],
      "text/plain": [
       "18:49:30.356 | \u001b[36mINFO\u001b[0m    | Flow run\u001b[35m 'amusing-junglefowl'\u001b[0m - Executing 'get_passer_out_of_pocket-98072e46-0' immediately...\n"
      ]
     },
     "metadata": {},
     "output_type": "display_data"
    },
    {
     "data": {
      "text/html": [
       "<pre style=\"white-space:pre;overflow-x:auto;line-height:normal;font-family:Menlo,'DejaVu Sans Mono',consolas,'Courier New',monospace\">18:49:30.847 | <span style=\"color: #008080; text-decoration-color: #008080\">INFO</span>    | Task run 'get_passer_out_of_pocket-98072e46-0' - Finished in state <span style=\"color: #008000; text-decoration-color: #008000\">Completed</span>()\n",
       "</pre>\n"
      ],
      "text/plain": [
       "18:49:30.847 | \u001b[36mINFO\u001b[0m    | Task run 'get_passer_out_of_pocket-98072e46-0' - Finished in state \u001b[32mCompleted\u001b[0m()\n"
      ]
     },
     "metadata": {},
     "output_type": "display_data"
    },
    {
     "data": {
      "text/html": [
       "<pre style=\"white-space:pre;overflow-x:auto;line-height:normal;font-family:Menlo,'DejaVu Sans Mono',consolas,'Courier New',monospace\">18:49:30.893 | <span style=\"color: #008080; text-decoration-color: #008080\">INFO</span>    | Flow run<span style=\"color: #800080; text-decoration-color: #800080\"> 'amusing-junglefowl'</span> - Created task run 'clean_event_data-657c8302-0' for task 'clean_event_data'\n",
       "</pre>\n"
      ],
      "text/plain": [
       "18:49:30.893 | \u001b[36mINFO\u001b[0m    | Flow run\u001b[35m 'amusing-junglefowl'\u001b[0m - Created task run 'clean_event_data-657c8302-0' for task 'clean_event_data'\n"
      ]
     },
     "metadata": {},
     "output_type": "display_data"
    },
    {
     "data": {
      "text/html": [
       "<pre style=\"white-space:pre;overflow-x:auto;line-height:normal;font-family:Menlo,'DejaVu Sans Mono',consolas,'Courier New',monospace\">18:49:30.895 | <span style=\"color: #008080; text-decoration-color: #008080\">INFO</span>    | Flow run<span style=\"color: #800080; text-decoration-color: #800080\"> 'amusing-junglefowl'</span> - Executing 'clean_event_data-657c8302-0' immediately...\n",
       "</pre>\n"
      ],
      "text/plain": [
       "18:49:30.895 | \u001b[36mINFO\u001b[0m    | Flow run\u001b[35m 'amusing-junglefowl'\u001b[0m - Executing 'clean_event_data-657c8302-0' immediately...\n"
      ]
     },
     "metadata": {},
     "output_type": "display_data"
    },
    {
     "data": {
      "text/html": [
       "<pre style=\"white-space:pre;overflow-x:auto;line-height:normal;font-family:Menlo,'DejaVu Sans Mono',consolas,'Courier New',monospace\">18:49:31.208 | <span style=\"color: #008080; text-decoration-color: #008080\">INFO</span>    | Task run 'clean_event_data-657c8302-0' - Finished in state <span style=\"color: #008000; text-decoration-color: #008000\">Completed</span>()\n",
       "</pre>\n"
      ],
      "text/plain": [
       "18:49:31.208 | \u001b[36mINFO\u001b[0m    | Task run 'clean_event_data-657c8302-0' - Finished in state \u001b[32mCompleted\u001b[0m()\n"
      ]
     },
     "metadata": {},
     "output_type": "display_data"
    },
    {
     "data": {
      "text/html": [
       "<pre style=\"white-space:pre;overflow-x:auto;line-height:normal;font-family:Menlo,'DejaVu Sans Mono',consolas,'Courier New',monospace\">18:49:31.274 | <span style=\"color: #008080; text-decoration-color: #008080\">INFO</span>    | Flow run<span style=\"color: #800080; text-decoration-color: #800080\"> 'amusing-junglefowl'</span> - Created task run 'get_pocket_eligibility-6d653879-0' for task 'get_pocket_eligibility'\n",
       "</pre>\n"
      ],
      "text/plain": [
       "18:49:31.274 | \u001b[36mINFO\u001b[0m    | Flow run\u001b[35m 'amusing-junglefowl'\u001b[0m - Created task run 'get_pocket_eligibility-6d653879-0' for task 'get_pocket_eligibility'\n"
      ]
     },
     "metadata": {},
     "output_type": "display_data"
    },
    {
     "data": {
      "text/html": [
       "<pre style=\"white-space:pre;overflow-x:auto;line-height:normal;font-family:Menlo,'DejaVu Sans Mono',consolas,'Courier New',monospace\">18:49:31.279 | <span style=\"color: #008080; text-decoration-color: #008080\">INFO</span>    | Flow run<span style=\"color: #800080; text-decoration-color: #800080\"> 'amusing-junglefowl'</span> - Executing 'get_pocket_eligibility-6d653879-0' immediately...\n",
       "</pre>\n"
      ],
      "text/plain": [
       "18:49:31.279 | \u001b[36mINFO\u001b[0m    | Flow run\u001b[35m 'amusing-junglefowl'\u001b[0m - Executing 'get_pocket_eligibility-6d653879-0' immediately...\n"
      ]
     },
     "metadata": {},
     "output_type": "display_data"
    },
    {
     "data": {
      "text/html": [
       "<pre style=\"white-space:pre;overflow-x:auto;line-height:normal;font-family:Menlo,'DejaVu Sans Mono',consolas,'Courier New',monospace\">18:49:31.647 | <span style=\"color: #008080; text-decoration-color: #008080\">INFO</span>    | Task run 'get_pocket_eligibility-6d653879-0' - Finished in state <span style=\"color: #008000; text-decoration-color: #008000\">Completed</span>()\n",
       "</pre>\n"
      ],
      "text/plain": [
       "18:49:31.647 | \u001b[36mINFO\u001b[0m    | Task run 'get_pocket_eligibility-6d653879-0' - Finished in state \u001b[32mCompleted\u001b[0m()\n"
      ]
     },
     "metadata": {},
     "output_type": "display_data"
    },
    {
     "data": {
      "text/html": [
       "<pre style=\"white-space:pre;overflow-x:auto;line-height:normal;font-family:Menlo,'DejaVu Sans Mono',consolas,'Courier New',monospace\">18:49:31.682 | <span style=\"color: #008080; text-decoration-color: #008080\">INFO</span>    | Flow run<span style=\"color: #800080; text-decoration-color: #800080\"> 'amusing-junglefowl'</span> - Created task run 'augment_tracking_events-342a9dc3-0' for task 'augment_tracking_events'\n",
       "</pre>\n"
      ],
      "text/plain": [
       "18:49:31.682 | \u001b[36mINFO\u001b[0m    | Flow run\u001b[35m 'amusing-junglefowl'\u001b[0m - Created task run 'augment_tracking_events-342a9dc3-0' for task 'augment_tracking_events'\n"
      ]
     },
     "metadata": {},
     "output_type": "display_data"
    },
    {
     "data": {
      "text/html": [
       "<pre style=\"white-space:pre;overflow-x:auto;line-height:normal;font-family:Menlo,'DejaVu Sans Mono',consolas,'Courier New',monospace\">18:49:31.686 | <span style=\"color: #008080; text-decoration-color: #008080\">INFO</span>    | Flow run<span style=\"color: #800080; text-decoration-color: #800080\"> 'amusing-junglefowl'</span> - Executing 'augment_tracking_events-342a9dc3-0' immediately...\n",
       "</pre>\n"
      ],
      "text/plain": [
       "18:49:31.686 | \u001b[36mINFO\u001b[0m    | Flow run\u001b[35m 'amusing-junglefowl'\u001b[0m - Executing 'augment_tracking_events-342a9dc3-0' immediately...\n"
      ]
     },
     "metadata": {},
     "output_type": "display_data"
    },
    {
     "data": {
      "text/html": [
       "<pre style=\"white-space:pre;overflow-x:auto;line-height:normal;font-family:Menlo,'DejaVu Sans Mono',consolas,'Courier New',monospace\">18:49:31.860 | <span style=\"color: #008080; text-decoration-color: #008080\">INFO</span>    | Task run 'augment_tracking_events-342a9dc3-0' - Finished in state <span style=\"color: #008000; text-decoration-color: #008000\">Completed</span>()\n",
       "</pre>\n"
      ],
      "text/plain": [
       "18:49:31.860 | \u001b[36mINFO\u001b[0m    | Task run 'augment_tracking_events-342a9dc3-0' - Finished in state \u001b[32mCompleted\u001b[0m()\n"
      ]
     },
     "metadata": {},
     "output_type": "display_data"
    },
    {
     "data": {
      "text/html": [
       "<pre style=\"white-space:pre;overflow-x:auto;line-height:normal;font-family:Menlo,'DejaVu Sans Mono',consolas,'Courier New',monospace\">18:49:31.909 | <span style=\"color: #008080; text-decoration-color: #008080\">INFO</span>    | Flow run<span style=\"color: #800080; text-decoration-color: #800080\"> 'amusing-junglefowl'</span> - Created task run 'transform_to_tracking_display-0c78dc49-0' for task 'transform_to_tracking_display'\n",
       "</pre>\n"
      ],
      "text/plain": [
       "18:49:31.909 | \u001b[36mINFO\u001b[0m    | Flow run\u001b[35m 'amusing-junglefowl'\u001b[0m - Created task run 'transform_to_tracking_display-0c78dc49-0' for task 'transform_to_tracking_display'\n"
      ]
     },
     "metadata": {},
     "output_type": "display_data"
    },
    {
     "data": {
      "text/html": [
       "<pre style=\"white-space:pre;overflow-x:auto;line-height:normal;font-family:Menlo,'DejaVu Sans Mono',consolas,'Courier New',monospace\">18:49:31.912 | <span style=\"color: #008080; text-decoration-color: #008080\">INFO</span>    | Flow run<span style=\"color: #800080; text-decoration-color: #800080\"> 'amusing-junglefowl'</span> - Executing 'transform_to_tracking_display-0c78dc49-0' immediately...\n",
       "</pre>\n"
      ],
      "text/plain": [
       "18:49:31.912 | \u001b[36mINFO\u001b[0m    | Flow run\u001b[35m 'amusing-junglefowl'\u001b[0m - Executing 'transform_to_tracking_display-0c78dc49-0' immediately...\n"
      ]
     },
     "metadata": {},
     "output_type": "display_data"
    },
    {
     "data": {
      "text/html": [
       "<pre style=\"white-space:pre;overflow-x:auto;line-height:normal;font-family:Menlo,'DejaVu Sans Mono',consolas,'Courier New',monospace\">18:49:32.379 | <span style=\"color: #008080; text-decoration-color: #008080\">INFO</span>    | Task run 'transform_to_tracking_display-0c78dc49-0' - Finished in state <span style=\"color: #008000; text-decoration-color: #008000\">Completed</span>()\n",
       "</pre>\n"
      ],
      "text/plain": [
       "18:49:32.379 | \u001b[36mINFO\u001b[0m    | Task run 'transform_to_tracking_display-0c78dc49-0' - Finished in state \u001b[32mCompleted\u001b[0m()\n"
      ]
     },
     "metadata": {},
     "output_type": "display_data"
    },
    {
     "data": {
      "text/html": [
       "<pre style=\"white-space:pre;overflow-x:auto;line-height:normal;font-family:Menlo,'DejaVu Sans Mono',consolas,'Courier New',monospace\">18:49:32.420 | <span style=\"color: #008080; text-decoration-color: #008080\">INFO</span>    | Flow run<span style=\"color: #800080; text-decoration-color: #800080\"> 'amusing-junglefowl'</span> - Created task run 'transform_to_frames-3446c324-0' for task 'transform_to_frames'\n",
       "</pre>\n"
      ],
      "text/plain": [
       "18:49:32.420 | \u001b[36mINFO\u001b[0m    | Flow run\u001b[35m 'amusing-junglefowl'\u001b[0m - Created task run 'transform_to_frames-3446c324-0' for task 'transform_to_frames'\n"
      ]
     },
     "metadata": {},
     "output_type": "display_data"
    },
    {
     "data": {
      "text/html": [
       "<pre style=\"white-space:pre;overflow-x:auto;line-height:normal;font-family:Menlo,'DejaVu Sans Mono',consolas,'Courier New',monospace\">18:49:32.423 | <span style=\"color: #008080; text-decoration-color: #008080\">INFO</span>    | Flow run<span style=\"color: #800080; text-decoration-color: #800080\"> 'amusing-junglefowl'</span> - Executing 'transform_to_frames-3446c324-0' immediately...\n",
       "</pre>\n"
      ],
      "text/plain": [
       "18:49:32.423 | \u001b[36mINFO\u001b[0m    | Flow run\u001b[35m 'amusing-junglefowl'\u001b[0m - Executing 'transform_to_frames-3446c324-0' immediately...\n"
      ]
     },
     "metadata": {},
     "output_type": "display_data"
    },
    {
     "data": {
      "text/html": [
       "<pre style=\"white-space:pre;overflow-x:auto;line-height:normal;font-family:Menlo,'DejaVu Sans Mono',consolas,'Courier New',monospace\">18:49:33.327 | <span style=\"color: #008080; text-decoration-color: #008080\">INFO</span>    | Task run 'transform_to_frames-3446c324-0' - Finished in state <span style=\"color: #008000; text-decoration-color: #008000\">Completed</span>()\n",
       "</pre>\n"
      ],
      "text/plain": [
       "18:49:33.327 | \u001b[36mINFO\u001b[0m    | Task run 'transform_to_frames-3446c324-0' - Finished in state \u001b[32mCompleted\u001b[0m()\n"
      ]
     },
     "metadata": {},
     "output_type": "display_data"
    },
    {
     "data": {
      "text/html": [
       "<pre style=\"white-space:pre;overflow-x:auto;line-height:normal;font-family:Menlo,'DejaVu Sans Mono',consolas,'Courier New',monospace\">18:49:33.382 | <span style=\"color: #008080; text-decoration-color: #008080\">INFO</span>    | Flow run<span style=\"color: #800080; text-decoration-color: #800080\"> 'amusing-junglefowl'</span> - Created task run 'transform_to_records_per_frame-823b8998-0' for task 'transform_to_records_per_frame'\n",
       "</pre>\n"
      ],
      "text/plain": [
       "18:49:33.382 | \u001b[36mINFO\u001b[0m    | Flow run\u001b[35m 'amusing-junglefowl'\u001b[0m - Created task run 'transform_to_records_per_frame-823b8998-0' for task 'transform_to_records_per_frame'\n"
      ]
     },
     "metadata": {},
     "output_type": "display_data"
    },
    {
     "data": {
      "text/html": [
       "<pre style=\"white-space:pre;overflow-x:auto;line-height:normal;font-family:Menlo,'DejaVu Sans Mono',consolas,'Courier New',monospace\">18:49:33.384 | <span style=\"color: #008080; text-decoration-color: #008080\">INFO</span>    | Flow run<span style=\"color: #800080; text-decoration-color: #800080\"> 'amusing-junglefowl'</span> - Executing 'transform_to_records_per_frame-823b8998-0' immediately...\n",
       "</pre>\n"
      ],
      "text/plain": [
       "18:49:33.384 | \u001b[36mINFO\u001b[0m    | Flow run\u001b[35m 'amusing-junglefowl'\u001b[0m - Executing 'transform_to_records_per_frame-823b8998-0' immediately...\n"
      ]
     },
     "metadata": {},
     "output_type": "display_data"
    },
    {
     "data": {
      "text/html": [
       "<pre style=\"white-space:pre;overflow-x:auto;line-height:normal;font-family:Menlo,'DejaVu Sans Mono',consolas,'Courier New',monospace\">18:49:34.127 | <span style=\"color: #008080; text-decoration-color: #008080\">INFO</span>    | Task run 'transform_to_records_per_frame-823b8998-0' - Finished in state <span style=\"color: #008000; text-decoration-color: #008000\">Completed</span>()\n",
       "</pre>\n"
      ],
      "text/plain": [
       "18:49:34.127 | \u001b[36mINFO\u001b[0m    | Task run 'transform_to_records_per_frame-823b8998-0' - Finished in state \u001b[32mCompleted\u001b[0m()\n"
      ]
     },
     "metadata": {},
     "output_type": "display_data"
    },
    {
     "data": {
      "text/html": [
       "<pre style=\"white-space:pre;overflow-x:auto;line-height:normal;font-family:Menlo,'DejaVu Sans Mono',consolas,'Courier New',monospace\">18:49:34.208 | <span style=\"color: #008080; text-decoration-color: #008080\">INFO</span>    | Flow run<span style=\"color: #800080; text-decoration-color: #800080\"> 'amusing-junglefowl'</span> - Created task run 'calculate_pocket_area-cc18ef62-0' for task 'calculate_pocket_area'\n",
       "</pre>\n"
      ],
      "text/plain": [
       "18:49:34.208 | \u001b[36mINFO\u001b[0m    | Flow run\u001b[35m 'amusing-junglefowl'\u001b[0m - Created task run 'calculate_pocket_area-cc18ef62-0' for task 'calculate_pocket_area'\n"
      ]
     },
     "metadata": {},
     "output_type": "display_data"
    },
    {
     "data": {
      "text/html": [
       "<pre style=\"white-space:pre;overflow-x:auto;line-height:normal;font-family:Menlo,'DejaVu Sans Mono',consolas,'Courier New',monospace\">18:49:34.212 | <span style=\"color: #008080; text-decoration-color: #008080\">INFO</span>    | Flow run<span style=\"color: #800080; text-decoration-color: #800080\"> 'amusing-junglefowl'</span> - Submitted task run 'calculate_pocket_area-cc18ef62-0' for execution.\n",
       "</pre>\n"
      ],
      "text/plain": [
       "18:49:34.212 | \u001b[36mINFO\u001b[0m    | Flow run\u001b[35m 'amusing-junglefowl'\u001b[0m - Submitted task run 'calculate_pocket_area-cc18ef62-0' for execution.\n"
      ]
     },
     "metadata": {},
     "output_type": "display_data"
    },
    {
     "data": {
      "text/html": [
       "<pre style=\"white-space:pre;overflow-x:auto;line-height:normal;font-family:Menlo,'DejaVu Sans Mono',consolas,'Courier New',monospace\">18:49:34.254 | <span style=\"color: #008080; text-decoration-color: #008080\">INFO</span>    | Flow run<span style=\"color: #800080; text-decoration-color: #800080\"> 'amusing-junglefowl'</span> - Created task run 'calculate_pocket_area-cc18ef62-1' for task 'calculate_pocket_area'\n",
       "</pre>\n"
      ],
      "text/plain": [
       "18:49:34.254 | \u001b[36mINFO\u001b[0m    | Flow run\u001b[35m 'amusing-junglefowl'\u001b[0m - Created task run 'calculate_pocket_area-cc18ef62-1' for task 'calculate_pocket_area'\n"
      ]
     },
     "metadata": {},
     "output_type": "display_data"
    },
    {
     "data": {
      "text/html": [
       "<pre style=\"white-space:pre;overflow-x:auto;line-height:normal;font-family:Menlo,'DejaVu Sans Mono',consolas,'Courier New',monospace\">18:49:34.259 | <span style=\"color: #008080; text-decoration-color: #008080\">INFO</span>    | Flow run<span style=\"color: #800080; text-decoration-color: #800080\"> 'amusing-junglefowl'</span> - Submitted task run 'calculate_pocket_area-cc18ef62-1' for execution.\n",
       "</pre>\n"
      ],
      "text/plain": [
       "18:49:34.259 | \u001b[36mINFO\u001b[0m    | Flow run\u001b[35m 'amusing-junglefowl'\u001b[0m - Submitted task run 'calculate_pocket_area-cc18ef62-1' for execution.\n"
      ]
     },
     "metadata": {},
     "output_type": "display_data"
    },
    {
     "data": {
      "text/html": [
       "<pre style=\"white-space:pre;overflow-x:auto;line-height:normal;font-family:Menlo,'DejaVu Sans Mono',consolas,'Courier New',monospace\">18:49:34.412 | <span style=\"color: #008080; text-decoration-color: #008080\">INFO</span>    | Flow run<span style=\"color: #800080; text-decoration-color: #800080\"> 'amusing-junglefowl'</span> - Created task run 'calculate_pocket_area-cc18ef62-3' for task 'calculate_pocket_area'\n",
       "</pre>\n"
      ],
      "text/plain": [
       "18:49:34.412 | \u001b[36mINFO\u001b[0m    | Flow run\u001b[35m 'amusing-junglefowl'\u001b[0m - Created task run 'calculate_pocket_area-cc18ef62-3' for task 'calculate_pocket_area'\n"
      ]
     },
     "metadata": {},
     "output_type": "display_data"
    },
    {
     "data": {
      "text/html": [
       "<pre style=\"white-space:pre;overflow-x:auto;line-height:normal;font-family:Menlo,'DejaVu Sans Mono',consolas,'Courier New',monospace\">18:49:34.427 | <span style=\"color: #008080; text-decoration-color: #008080\">INFO</span>    | Flow run<span style=\"color: #800080; text-decoration-color: #800080\"> 'amusing-junglefowl'</span> - Submitted task run 'calculate_pocket_area-cc18ef62-3' for execution.\n",
       "</pre>\n"
      ],
      "text/plain": [
       "18:49:34.427 | \u001b[36mINFO\u001b[0m    | Flow run\u001b[35m 'amusing-junglefowl'\u001b[0m - Submitted task run 'calculate_pocket_area-cc18ef62-3' for execution.\n"
      ]
     },
     "metadata": {},
     "output_type": "display_data"
    },
    {
     "data": {
      "text/html": [
       "<pre style=\"white-space:pre;overflow-x:auto;line-height:normal;font-family:Menlo,'DejaVu Sans Mono',consolas,'Courier New',monospace\">18:49:35.425 | <span style=\"color: #008080; text-decoration-color: #008080\">INFO</span>    | Flow run<span style=\"color: #800080; text-decoration-color: #800080\"> 'amusing-junglefowl'</span> - Created task run 'calculate_pocket_area-cc18ef62-2' for task 'calculate_pocket_area'\n",
       "</pre>\n"
      ],
      "text/plain": [
       "18:49:35.425 | \u001b[36mINFO\u001b[0m    | Flow run\u001b[35m 'amusing-junglefowl'\u001b[0m - Created task run 'calculate_pocket_area-cc18ef62-2' for task 'calculate_pocket_area'\n"
      ]
     },
     "metadata": {},
     "output_type": "display_data"
    },
    {
     "data": {
      "text/html": [
       "<pre style=\"white-space:pre;overflow-x:auto;line-height:normal;font-family:Menlo,'DejaVu Sans Mono',consolas,'Courier New',monospace\">18:49:35.477 | <span style=\"color: #008080; text-decoration-color: #008080\">INFO</span>    | Flow run<span style=\"color: #800080; text-decoration-color: #800080\"> 'amusing-junglefowl'</span> - Submitted task run 'calculate_pocket_area-cc18ef62-2' for execution.\n",
       "</pre>\n"
      ],
      "text/plain": [
       "18:49:35.477 | \u001b[36mINFO\u001b[0m    | Flow run\u001b[35m 'amusing-junglefowl'\u001b[0m - Submitted task run 'calculate_pocket_area-cc18ef62-2' for execution.\n"
      ]
     },
     "metadata": {},
     "output_type": "display_data"
    },
    {
     "data": {
      "text/html": [
       "<pre style=\"white-space:pre;overflow-x:auto;line-height:normal;font-family:Menlo,'DejaVu Sans Mono',consolas,'Courier New',monospace\">18:49:35.658 | <span style=\"color: #008080; text-decoration-color: #008080\">INFO</span>    | Flow run<span style=\"color: #800080; text-decoration-color: #800080\"> 'amusing-junglefowl'</span> - Created task run 'union_dataframes-8a4e3d8f-0' for task 'union_dataframes'\n",
       "</pre>\n"
      ],
      "text/plain": [
       "18:49:35.658 | \u001b[36mINFO\u001b[0m    | Flow run\u001b[35m 'amusing-junglefowl'\u001b[0m - Created task run 'union_dataframes-8a4e3d8f-0' for task 'union_dataframes'\n"
      ]
     },
     "metadata": {},
     "output_type": "display_data"
    },
    {
     "data": {
      "text/html": [
       "<pre style=\"white-space:pre;overflow-x:auto;line-height:normal;font-family:Menlo,'DejaVu Sans Mono',consolas,'Courier New',monospace\">18:49:35.675 | <span style=\"color: #008080; text-decoration-color: #008080\">INFO</span>    | Flow run<span style=\"color: #800080; text-decoration-color: #800080\"> 'amusing-junglefowl'</span> - Executing 'union_dataframes-8a4e3d8f-0' immediately...\n",
       "</pre>\n"
      ],
      "text/plain": [
       "18:49:35.675 | \u001b[36mINFO\u001b[0m    | Flow run\u001b[35m 'amusing-junglefowl'\u001b[0m - Executing 'union_dataframes-8a4e3d8f-0' immediately...\n"
      ]
     },
     "metadata": {},
     "output_type": "display_data"
    },
    {
     "data": {
      "text/html": [
       "<pre style=\"white-space:pre;overflow-x:auto;line-height:normal;font-family:Menlo,'DejaVu Sans Mono',consolas,'Courier New',monospace\">18:49:35.807 | <span style=\"color: #008080; text-decoration-color: #008080\">INFO</span>    | Task run 'calculate_pocket_area-cc18ef62-0' - Finished in state <span style=\"color: #008000; text-decoration-color: #008000\">Completed</span>()\n",
       "</pre>\n"
      ],
      "text/plain": [
       "18:49:35.807 | \u001b[36mINFO\u001b[0m    | Task run 'calculate_pocket_area-cc18ef62-0' - Finished in state \u001b[32mCompleted\u001b[0m()\n"
      ]
     },
     "metadata": {},
     "output_type": "display_data"
    },
    {
     "data": {
      "text/html": [
       "<pre style=\"white-space:pre;overflow-x:auto;line-height:normal;font-family:Menlo,'DejaVu Sans Mono',consolas,'Courier New',monospace\">18:49:54.662 | <span style=\"color: #008080; text-decoration-color: #008080\">INFO</span>    | Task run 'calculate_pocket_area-cc18ef62-3' - Finished in state <span style=\"color: #008000; text-decoration-color: #008000\">Completed</span>()\n",
       "</pre>\n"
      ],
      "text/plain": [
       "18:49:54.662 | \u001b[36mINFO\u001b[0m    | Task run 'calculate_pocket_area-cc18ef62-3' - Finished in state \u001b[32mCompleted\u001b[0m()\n"
      ]
     },
     "metadata": {},
     "output_type": "display_data"
    },
    {
     "data": {
      "text/html": [
       "<pre style=\"white-space:pre;overflow-x:auto;line-height:normal;font-family:Menlo,'DejaVu Sans Mono',consolas,'Courier New',monospace\">18:49:54.851 | <span style=\"color: #008080; text-decoration-color: #008080\">INFO</span>    | Task run 'calculate_pocket_area-cc18ef62-2' - Finished in state <span style=\"color: #008000; text-decoration-color: #008000\">Completed</span>()\n",
       "</pre>\n"
      ],
      "text/plain": [
       "18:49:54.851 | \u001b[36mINFO\u001b[0m    | Task run 'calculate_pocket_area-cc18ef62-2' - Finished in state \u001b[32mCompleted\u001b[0m()\n"
      ]
     },
     "metadata": {},
     "output_type": "display_data"
    },
    {
     "data": {
      "text/html": [
       "<pre style=\"white-space:pre;overflow-x:auto;line-height:normal;font-family:Menlo,'DejaVu Sans Mono',consolas,'Courier New',monospace\">18:49:54.983 | <span style=\"color: #008080; text-decoration-color: #008080\">INFO</span>    | Task run 'calculate_pocket_area-cc18ef62-1' - Finished in state <span style=\"color: #008000; text-decoration-color: #008000\">Completed</span>()\n",
       "</pre>\n"
      ],
      "text/plain": [
       "18:49:54.983 | \u001b[36mINFO\u001b[0m    | Task run 'calculate_pocket_area-cc18ef62-1' - Finished in state \u001b[32mCompleted\u001b[0m()\n"
      ]
     },
     "metadata": {},
     "output_type": "display_data"
    },
    {
     "data": {
      "text/html": [
       "<pre style=\"white-space:pre;overflow-x:auto;line-height:normal;font-family:Menlo,'DejaVu Sans Mono',consolas,'Courier New',monospace\">18:49:55.130 | <span style=\"color: #008080; text-decoration-color: #008080\">INFO</span>    | Task run 'union_dataframes-8a4e3d8f-0' - Finished in state <span style=\"color: #008000; text-decoration-color: #008000\">Completed</span>()\n",
       "</pre>\n"
      ],
      "text/plain": [
       "18:49:55.130 | \u001b[36mINFO\u001b[0m    | Task run 'union_dataframes-8a4e3d8f-0' - Finished in state \u001b[32mCompleted\u001b[0m()\n"
      ]
     },
     "metadata": {},
     "output_type": "display_data"
    },
    {
     "data": {
      "text/html": [
       "<pre style=\"white-space:pre;overflow-x:auto;line-height:normal;font-family:Menlo,'DejaVu Sans Mono',consolas,'Courier New',monospace\">18:49:55.198 | <span style=\"color: #008080; text-decoration-color: #008080\">INFO</span>    | Flow run<span style=\"color: #800080; text-decoration-color: #800080\"> 'amusing-junglefowl'</span> - Created task run 'get_frames_for_time_windows-182f3eb1-0' for task 'get_frames_for_time_windows'\n",
       "</pre>\n"
      ],
      "text/plain": [
       "18:49:55.198 | \u001b[36mINFO\u001b[0m    | Flow run\u001b[35m 'amusing-junglefowl'\u001b[0m - Created task run 'get_frames_for_time_windows-182f3eb1-0' for task 'get_frames_for_time_windows'\n"
      ]
     },
     "metadata": {},
     "output_type": "display_data"
    },
    {
     "data": {
      "text/html": [
       "<pre style=\"white-space:pre;overflow-x:auto;line-height:normal;font-family:Menlo,'DejaVu Sans Mono',consolas,'Courier New',monospace\">18:49:55.203 | <span style=\"color: #008080; text-decoration-color: #008080\">INFO</span>    | Flow run<span style=\"color: #800080; text-decoration-color: #800080\"> 'amusing-junglefowl'</span> - Executing 'get_frames_for_time_windows-182f3eb1-0' immediately...\n",
       "</pre>\n"
      ],
      "text/plain": [
       "18:49:55.203 | \u001b[36mINFO\u001b[0m    | Flow run\u001b[35m 'amusing-junglefowl'\u001b[0m - Executing 'get_frames_for_time_windows-182f3eb1-0' immediately...\n"
      ]
     },
     "metadata": {},
     "output_type": "display_data"
    },
    {
     "data": {
      "text/html": [
       "<pre style=\"white-space:pre;overflow-x:auto;line-height:normal;font-family:Menlo,'DejaVu Sans Mono',consolas,'Courier New',monospace\">18:49:55.408 | <span style=\"color: #008080; text-decoration-color: #008080\">INFO</span>    | Task run 'get_frames_for_time_windows-182f3eb1-0' - Finished in state <span style=\"color: #008000; text-decoration-color: #008000\">Completed</span>()\n",
       "</pre>\n"
      ],
      "text/plain": [
       "18:49:55.408 | \u001b[36mINFO\u001b[0m    | Task run 'get_frames_for_time_windows-182f3eb1-0' - Finished in state \u001b[32mCompleted\u001b[0m()\n"
      ]
     },
     "metadata": {},
     "output_type": "display_data"
    },
    {
     "data": {
      "text/html": [
       "<pre style=\"white-space:pre;overflow-x:auto;line-height:normal;font-family:Menlo,'DejaVu Sans Mono',consolas,'Courier New',monospace\">18:49:55.477 | <span style=\"color: #008080; text-decoration-color: #008080\">INFO</span>    | Flow run<span style=\"color: #800080; text-decoration-color: #800080\"> 'amusing-junglefowl'</span> - Created task run 'get_play_pocket_metrics-c9059079-0' for task 'get_play_pocket_metrics'\n",
       "</pre>\n"
      ],
      "text/plain": [
       "18:49:55.477 | \u001b[36mINFO\u001b[0m    | Flow run\u001b[35m 'amusing-junglefowl'\u001b[0m - Created task run 'get_play_pocket_metrics-c9059079-0' for task 'get_play_pocket_metrics'\n"
      ]
     },
     "metadata": {},
     "output_type": "display_data"
    },
    {
     "data": {
      "text/html": [
       "<pre style=\"white-space:pre;overflow-x:auto;line-height:normal;font-family:Menlo,'DejaVu Sans Mono',consolas,'Courier New',monospace\">18:49:55.482 | <span style=\"color: #008080; text-decoration-color: #008080\">INFO</span>    | Flow run<span style=\"color: #800080; text-decoration-color: #800080\"> 'amusing-junglefowl'</span> - Executing 'get_play_pocket_metrics-c9059079-0' immediately...\n",
       "</pre>\n"
      ],
      "text/plain": [
       "18:49:55.482 | \u001b[36mINFO\u001b[0m    | Flow run\u001b[35m 'amusing-junglefowl'\u001b[0m - Executing 'get_play_pocket_metrics-c9059079-0' immediately...\n"
      ]
     },
     "metadata": {},
     "output_type": "display_data"
    },
    {
     "data": {
      "text/html": [
       "<pre style=\"white-space:pre;overflow-x:auto;line-height:normal;font-family:Menlo,'DejaVu Sans Mono',consolas,'Courier New',monospace\">18:49:55.708 | <span style=\"color: #008080; text-decoration-color: #008080\">INFO</span>    | Task run 'get_play_pocket_metrics-c9059079-0' - Finished in state <span style=\"color: #008000; text-decoration-color: #008000\">Completed</span>()\n",
       "</pre>\n"
      ],
      "text/plain": [
       "18:49:55.708 | \u001b[36mINFO\u001b[0m    | Task run 'get_play_pocket_metrics-c9059079-0' - Finished in state \u001b[32mCompleted\u001b[0m()\n"
      ]
     },
     "metadata": {},
     "output_type": "display_data"
    },
    {
     "data": {
      "text/html": [
       "<pre style=\"white-space:pre;overflow-x:auto;line-height:normal;font-family:Menlo,'DejaVu Sans Mono',consolas,'Courier New',monospace\">18:49:55.775 | <span style=\"color: #008080; text-decoration-color: #008080\">INFO</span>    | Flow run<span style=\"color: #800080; text-decoration-color: #800080\"> 'amusing-junglefowl'</span> - Created task run 'calculate_average_pocket_area_loss_per_second-c688e278-0' for task 'calculate_average_pocket_area_loss_per_second'\n",
       "</pre>\n"
      ],
      "text/plain": [
       "18:49:55.775 | \u001b[36mINFO\u001b[0m    | Flow run\u001b[35m 'amusing-junglefowl'\u001b[0m - Created task run 'calculate_average_pocket_area_loss_per_second-c688e278-0' for task 'calculate_average_pocket_area_loss_per_second'\n"
      ]
     },
     "metadata": {},
     "output_type": "display_data"
    },
    {
     "data": {
      "text/html": [
       "<pre style=\"white-space:pre;overflow-x:auto;line-height:normal;font-family:Menlo,'DejaVu Sans Mono',consolas,'Courier New',monospace\">18:49:55.779 | <span style=\"color: #008080; text-decoration-color: #008080\">INFO</span>    | Flow run<span style=\"color: #800080; text-decoration-color: #800080\"> 'amusing-junglefowl'</span> - Executing 'calculate_average_pocket_area_loss_per_second-c688e278-0' immediately...\n",
       "</pre>\n"
      ],
      "text/plain": [
       "18:49:55.779 | \u001b[36mINFO\u001b[0m    | Flow run\u001b[35m 'amusing-junglefowl'\u001b[0m - Executing 'calculate_average_pocket_area_loss_per_second-c688e278-0' immediately...\n"
      ]
     },
     "metadata": {},
     "output_type": "display_data"
    },
    {
     "data": {
      "text/html": [
       "<pre style=\"white-space:pre;overflow-x:auto;line-height:normal;font-family:Menlo,'DejaVu Sans Mono',consolas,'Courier New',monospace\">18:49:55.983 | <span style=\"color: #008080; text-decoration-color: #008080\">INFO</span>    | Task run 'calculate_average_pocket_area_loss_per_second-c688e278-0' - Finished in state <span style=\"color: #008000; text-decoration-color: #008000\">Completed</span>()\n",
       "</pre>\n"
      ],
      "text/plain": [
       "18:49:55.983 | \u001b[36mINFO\u001b[0m    | Task run 'calculate_average_pocket_area_loss_per_second-c688e278-0' - Finished in state \u001b[32mCompleted\u001b[0m()\n"
      ]
     },
     "metadata": {},
     "output_type": "display_data"
    },
    {
     "data": {
      "text/html": [
       "<pre style=\"white-space:pre;overflow-x:auto;line-height:normal;font-family:Menlo,'DejaVu Sans Mono',consolas,'Courier New',monospace\">18:49:56.114 | <span style=\"color: #008080; text-decoration-color: #008080\">INFO</span>    | Flow run<span style=\"color: #800080; text-decoration-color: #800080\"> 'amusing-junglefowl'</span> - Created task run 'write_csv-386fe2af-0' for task 'write_csv'\n",
       "</pre>\n"
      ],
      "text/plain": [
       "18:49:56.114 | \u001b[36mINFO\u001b[0m    | Flow run\u001b[35m 'amusing-junglefowl'\u001b[0m - Created task run 'write_csv-386fe2af-0' for task 'write_csv'\n"
      ]
     },
     "metadata": {},
     "output_type": "display_data"
    },
    {
     "data": {
      "text/html": [
       "<pre style=\"white-space:pre;overflow-x:auto;line-height:normal;font-family:Menlo,'DejaVu Sans Mono',consolas,'Courier New',monospace\">18:49:56.118 | <span style=\"color: #008080; text-decoration-color: #008080\">INFO</span>    | Flow run<span style=\"color: #800080; text-decoration-color: #800080\"> 'amusing-junglefowl'</span> - Executing 'write_csv-386fe2af-0' immediately...\n",
       "</pre>\n"
      ],
      "text/plain": [
       "18:49:56.118 | \u001b[36mINFO\u001b[0m    | Flow run\u001b[35m 'amusing-junglefowl'\u001b[0m - Executing 'write_csv-386fe2af-0' immediately...\n"
      ]
     },
     "metadata": {},
     "output_type": "display_data"
    },
    {
     "data": {
      "text/html": [
       "<pre style=\"white-space:pre;overflow-x:auto;line-height:normal;font-family:Menlo,'DejaVu Sans Mono',consolas,'Courier New',monospace\">18:49:59.104 | <span style=\"color: #008080; text-decoration-color: #008080\">INFO</span>    | Task run 'write_csv-386fe2af-0' - Finished in state <span style=\"color: #008000; text-decoration-color: #008000\">Completed</span>()\n",
       "</pre>\n"
      ],
      "text/plain": [
       "18:49:59.104 | \u001b[36mINFO\u001b[0m    | Task run 'write_csv-386fe2af-0' - Finished in state \u001b[32mCompleted\u001b[0m()\n"
      ]
     },
     "metadata": {},
     "output_type": "display_data"
    },
    {
     "data": {
      "text/html": [
       "<pre style=\"white-space:pre;overflow-x:auto;line-height:normal;font-family:Menlo,'DejaVu Sans Mono',consolas,'Courier New',monospace\">18:49:59.161 | <span style=\"color: #008080; text-decoration-color: #008080\">INFO</span>    | Flow run<span style=\"color: #800080; text-decoration-color: #800080\"> 'amusing-junglefowl'</span> - Created task run 'write_csv-386fe2af-1' for task 'write_csv'\n",
       "</pre>\n"
      ],
      "text/plain": [
       "18:49:59.161 | \u001b[36mINFO\u001b[0m    | Flow run\u001b[35m 'amusing-junglefowl'\u001b[0m - Created task run 'write_csv-386fe2af-1' for task 'write_csv'\n"
      ]
     },
     "metadata": {},
     "output_type": "display_data"
    },
    {
     "data": {
      "text/html": [
       "<pre style=\"white-space:pre;overflow-x:auto;line-height:normal;font-family:Menlo,'DejaVu Sans Mono',consolas,'Courier New',monospace\">18:49:59.165 | <span style=\"color: #008080; text-decoration-color: #008080\">INFO</span>    | Flow run<span style=\"color: #800080; text-decoration-color: #800080\"> 'amusing-junglefowl'</span> - Executing 'write_csv-386fe2af-1' immediately...\n",
       "</pre>\n"
      ],
      "text/plain": [
       "18:49:59.165 | \u001b[36mINFO\u001b[0m    | Flow run\u001b[35m 'amusing-junglefowl'\u001b[0m - Executing 'write_csv-386fe2af-1' immediately...\n"
      ]
     },
     "metadata": {},
     "output_type": "display_data"
    },
    {
     "data": {
      "text/html": [
       "<pre style=\"white-space:pre;overflow-x:auto;line-height:normal;font-family:Menlo,'DejaVu Sans Mono',consolas,'Courier New',monospace\">18:49:59.337 | <span style=\"color: #008080; text-decoration-color: #008080\">INFO</span>    | Task run 'write_csv-386fe2af-1' - Finished in state <span style=\"color: #008000; text-decoration-color: #008000\">Completed</span>()\n",
       "</pre>\n"
      ],
      "text/plain": [
       "18:49:59.337 | \u001b[36mINFO\u001b[0m    | Task run 'write_csv-386fe2af-1' - Finished in state \u001b[32mCompleted\u001b[0m()\n"
      ]
     },
     "metadata": {},
     "output_type": "display_data"
    },
    {
     "data": {
      "text/html": [
       "<pre style=\"white-space:pre;overflow-x:auto;line-height:normal;font-family:Menlo,'DejaVu Sans Mono',consolas,'Courier New',monospace\">18:49:59.393 | <span style=\"color: #008080; text-decoration-color: #008080\">INFO</span>    | Flow run<span style=\"color: #800080; text-decoration-color: #800080\"> 'amusing-junglefowl'</span> - Created task run 'write_csv-386fe2af-2' for task 'write_csv'\n",
       "</pre>\n"
      ],
      "text/plain": [
       "18:49:59.393 | \u001b[36mINFO\u001b[0m    | Flow run\u001b[35m 'amusing-junglefowl'\u001b[0m - Created task run 'write_csv-386fe2af-2' for task 'write_csv'\n"
      ]
     },
     "metadata": {},
     "output_type": "display_data"
    },
    {
     "data": {
      "text/html": [
       "<pre style=\"white-space:pre;overflow-x:auto;line-height:normal;font-family:Menlo,'DejaVu Sans Mono',consolas,'Courier New',monospace\">18:49:59.397 | <span style=\"color: #008080; text-decoration-color: #008080\">INFO</span>    | Flow run<span style=\"color: #800080; text-decoration-color: #800080\"> 'amusing-junglefowl'</span> - Executing 'write_csv-386fe2af-2' immediately...\n",
       "</pre>\n"
      ],
      "text/plain": [
       "18:49:59.397 | \u001b[36mINFO\u001b[0m    | Flow run\u001b[35m 'amusing-junglefowl'\u001b[0m - Executing 'write_csv-386fe2af-2' immediately...\n"
      ]
     },
     "metadata": {},
     "output_type": "display_data"
    },
    {
     "data": {
      "text/html": [
       "<pre style=\"white-space:pre;overflow-x:auto;line-height:normal;font-family:Menlo,'DejaVu Sans Mono',consolas,'Courier New',monospace\">18:50:02.356 | <span style=\"color: #008080; text-decoration-color: #008080\">INFO</span>    | Task run 'write_csv-386fe2af-2' - Finished in state <span style=\"color: #008000; text-decoration-color: #008000\">Completed</span>()\n",
       "</pre>\n"
      ],
      "text/plain": [
       "18:50:02.356 | \u001b[36mINFO\u001b[0m    | Task run 'write_csv-386fe2af-2' - Finished in state \u001b[32mCompleted\u001b[0m()\n"
      ]
     },
     "metadata": {},
     "output_type": "display_data"
    },
    {
     "data": {
      "text/html": [
       "<pre style=\"white-space:pre;overflow-x:auto;line-height:normal;font-family:Menlo,'DejaVu Sans Mono',consolas,'Courier New',monospace\">18:50:02.436 | <span style=\"color: #008080; text-decoration-color: #008080\">INFO</span>    | Flow run<span style=\"color: #800080; text-decoration-color: #800080\"> 'amusing-junglefowl'</span> - Created task run 'write_csv-386fe2af-3' for task 'write_csv'\n",
       "</pre>\n"
      ],
      "text/plain": [
       "18:50:02.436 | \u001b[36mINFO\u001b[0m    | Flow run\u001b[35m 'amusing-junglefowl'\u001b[0m - Created task run 'write_csv-386fe2af-3' for task 'write_csv'\n"
      ]
     },
     "metadata": {},
     "output_type": "display_data"
    },
    {
     "data": {
      "text/html": [
       "<pre style=\"white-space:pre;overflow-x:auto;line-height:normal;font-family:Menlo,'DejaVu Sans Mono',consolas,'Courier New',monospace\">18:50:02.441 | <span style=\"color: #008080; text-decoration-color: #008080\">INFO</span>    | Flow run<span style=\"color: #800080; text-decoration-color: #800080\"> 'amusing-junglefowl'</span> - Executing 'write_csv-386fe2af-3' immediately...\n",
       "</pre>\n"
      ],
      "text/plain": [
       "18:50:02.441 | \u001b[36mINFO\u001b[0m    | Flow run\u001b[35m 'amusing-junglefowl'\u001b[0m - Executing 'write_csv-386fe2af-3' immediately...\n"
      ]
     },
     "metadata": {},
     "output_type": "display_data"
    },
    {
     "data": {
      "text/html": [
       "<pre style=\"white-space:pre;overflow-x:auto;line-height:normal;font-family:Menlo,'DejaVu Sans Mono',consolas,'Courier New',monospace\">18:50:03.780 | <span style=\"color: #008080; text-decoration-color: #008080\">INFO</span>    | Task run 'write_csv-386fe2af-3' - Finished in state <span style=\"color: #008000; text-decoration-color: #008000\">Completed</span>()\n",
       "</pre>\n"
      ],
      "text/plain": [
       "18:50:03.780 | \u001b[36mINFO\u001b[0m    | Task run 'write_csv-386fe2af-3' - Finished in state \u001b[32mCompleted\u001b[0m()\n"
      ]
     },
     "metadata": {},
     "output_type": "display_data"
    },
    {
     "data": {
      "text/html": [
       "<pre style=\"white-space:pre;overflow-x:auto;line-height:normal;font-family:Menlo,'DejaVu Sans Mono',consolas,'Courier New',monospace\">18:50:03.830 | <span style=\"color: #008080; text-decoration-color: #008080\">INFO</span>    | Flow run<span style=\"color: #800080; text-decoration-color: #800080\"> 'amusing-junglefowl'</span> - Created task run 'write_csv-386fe2af-4' for task 'write_csv'\n",
       "</pre>\n"
      ],
      "text/plain": [
       "18:50:03.830 | \u001b[36mINFO\u001b[0m    | Flow run\u001b[35m 'amusing-junglefowl'\u001b[0m - Created task run 'write_csv-386fe2af-4' for task 'write_csv'\n"
      ]
     },
     "metadata": {},
     "output_type": "display_data"
    },
    {
     "data": {
      "text/html": [
       "<pre style=\"white-space:pre;overflow-x:auto;line-height:normal;font-family:Menlo,'DejaVu Sans Mono',consolas,'Courier New',monospace\">18:50:03.833 | <span style=\"color: #008080; text-decoration-color: #008080\">INFO</span>    | Flow run<span style=\"color: #800080; text-decoration-color: #800080\"> 'amusing-junglefowl'</span> - Executing 'write_csv-386fe2af-4' immediately...\n",
       "</pre>\n"
      ],
      "text/plain": [
       "18:50:03.833 | \u001b[36mINFO\u001b[0m    | Flow run\u001b[35m 'amusing-junglefowl'\u001b[0m - Executing 'write_csv-386fe2af-4' immediately...\n"
      ]
     },
     "metadata": {},
     "output_type": "display_data"
    },
    {
     "data": {
      "text/html": [
       "<pre style=\"white-space:pre;overflow-x:auto;line-height:normal;font-family:Menlo,'DejaVu Sans Mono',consolas,'Courier New',monospace\">18:50:05.039 | <span style=\"color: #008080; text-decoration-color: #008080\">INFO</span>    | Task run 'write_csv-386fe2af-4' - Finished in state <span style=\"color: #008000; text-decoration-color: #008000\">Completed</span>()\n",
       "</pre>\n"
      ],
      "text/plain": [
       "18:50:05.039 | \u001b[36mINFO\u001b[0m    | Task run 'write_csv-386fe2af-4' - Finished in state \u001b[32mCompleted\u001b[0m()\n"
      ]
     },
     "metadata": {},
     "output_type": "display_data"
    },
    {
     "data": {
      "text/html": [
       "<pre style=\"white-space:pre;overflow-x:auto;line-height:normal;font-family:Menlo,'DejaVu Sans Mono',consolas,'Courier New',monospace\">18:50:05.096 | <span style=\"color: #008080; text-decoration-color: #008080\">INFO</span>    | Flow run<span style=\"color: #800080; text-decoration-color: #800080\"> 'amusing-junglefowl'</span> - Created task run 'write_csv-386fe2af-5' for task 'write_csv'\n",
       "</pre>\n"
      ],
      "text/plain": [
       "18:50:05.096 | \u001b[36mINFO\u001b[0m    | Flow run\u001b[35m 'amusing-junglefowl'\u001b[0m - Created task run 'write_csv-386fe2af-5' for task 'write_csv'\n"
      ]
     },
     "metadata": {},
     "output_type": "display_data"
    },
    {
     "data": {
      "text/html": [
       "<pre style=\"white-space:pre;overflow-x:auto;line-height:normal;font-family:Menlo,'DejaVu Sans Mono',consolas,'Courier New',monospace\">18:50:05.099 | <span style=\"color: #008080; text-decoration-color: #008080\">INFO</span>    | Flow run<span style=\"color: #800080; text-decoration-color: #800080\"> 'amusing-junglefowl'</span> - Executing 'write_csv-386fe2af-5' immediately...\n",
       "</pre>\n"
      ],
      "text/plain": [
       "18:50:05.099 | \u001b[36mINFO\u001b[0m    | Flow run\u001b[35m 'amusing-junglefowl'\u001b[0m - Executing 'write_csv-386fe2af-5' immediately...\n"
      ]
     },
     "metadata": {},
     "output_type": "display_data"
    },
    {
     "data": {
      "text/html": [
       "<pre style=\"white-space:pre;overflow-x:auto;line-height:normal;font-family:Menlo,'DejaVu Sans Mono',consolas,'Courier New',monospace\">18:50:05.328 | <span style=\"color: #008080; text-decoration-color: #008080\">INFO</span>    | Task run 'write_csv-386fe2af-5' - Finished in state <span style=\"color: #008000; text-decoration-color: #008000\">Completed</span>()\n",
       "</pre>\n"
      ],
      "text/plain": [
       "18:50:05.328 | \u001b[36mINFO\u001b[0m    | Task run 'write_csv-386fe2af-5' - Finished in state \u001b[32mCompleted\u001b[0m()\n"
      ]
     },
     "metadata": {},
     "output_type": "display_data"
    },
    {
     "data": {
      "text/html": [
       "<pre style=\"white-space:pre;overflow-x:auto;line-height:normal;font-family:Menlo,'DejaVu Sans Mono',consolas,'Courier New',monospace\">18:50:05.411 | <span style=\"color: #008080; text-decoration-color: #008080\">INFO</span>    | Flow run<span style=\"color: #800080; text-decoration-color: #800080\"> 'amusing-junglefowl'</span> - Finished in state <span style=\"color: #008000; text-decoration-color: #008000\">Completed</span>('All states completed.')\n",
       "</pre>\n"
      ],
      "text/plain": [
       "18:50:05.411 | \u001b[36mINFO\u001b[0m    | Flow run\u001b[35m 'amusing-junglefowl'\u001b[0m - Finished in state \u001b[32mCompleted\u001b[0m('All states completed.')\n"
      ]
     },
     "metadata": {},
     "output_type": "display_data"
    }
   ],
   "source": [
    "_ = main_flow(max_games=3, max_plays=None)"
   ]
  },
  {
   "cell_type": "code",
   "execution_count": 5,
   "id": "f8607a90",
   "metadata": {},
   "outputs": [],
   "source": [
    "df_plays_all = pd.read_csv(f\"{DIR}/data/raw/plays.csv\")\n",
    "df_tracking_display_all = pd.read_csv(f\"{DIR}/data/outputs/tracking_display.csv\")\n",
    "df_areas_all = pd.read_csv(f\"{DIR}/data/outputs/pocket_areas.csv\")\n",
    "df_areas_all[\"pocket\"] = df_areas_all[\"pocket\"].apply(literal_eval)"
   ]
  },
  {
   "cell_type": "code",
   "execution_count": 7,
   "id": "a8b17aa2",
   "metadata": {
    "scrolled": false
   },
   "outputs": [
    {
     "data": {
      "application/vnd.jupyter.widget-view+json": {
       "model_id": "78a636593e38478db772ff7167589f76",
       "version_major": 2,
       "version_minor": 0
      },
      "text/plain": [
       "interactive(children=(Dropdown(description='Game ID', options=(2021090900, 2021091200, 2021091201), value=2021…"
      ]
     },
     "metadata": {},
     "output_type": "display_data"
    }
   ],
   "source": [
    "create_interactive_play_selector(\n",
    "    df_plays_all,\n",
    "    df_tracking_display_all,\n",
    "    df_areas_all,\n",
    "    continuous_update=True\n",
    ")"
   ]
  },
  {
   "cell_type": "code",
   "execution_count": null,
   "id": "6df5d438",
   "metadata": {},
   "outputs": [],
   "source": []
  }
 ],
 "metadata": {
  "kernelspec": {
   "display_name": "Python 3 (ipykernel)",
   "language": "python",
   "name": "python3"
  },
  "language_info": {
   "codemirror_mode": {
    "name": "ipython",
    "version": 3
   },
   "file_extension": ".py",
   "mimetype": "text/x-python",
   "name": "python",
   "nbconvert_exporter": "python",
   "pygments_lexer": "ipython3",
   "version": "3.8.13"
  },
  "vscode": {
   "interpreter": {
    "hash": "32851c0586613b673c0e930c323ba937886b2f699c9a23a5a6ddc560d53801f6"
   }
  }
 },
 "nbformat": 4,
 "nbformat_minor": 5
}
