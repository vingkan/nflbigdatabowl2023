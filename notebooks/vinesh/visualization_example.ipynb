{
 "cells": [
  {
   "cell_type": "markdown",
   "id": "9754e686",
   "metadata": {},
   "source": [
    "# Visualization Example"
   ]
  },
  {
   "cell_type": "code",
   "execution_count": 1,
   "id": "b945a06e",
   "metadata": {},
   "outputs": [],
   "source": [
    "%load_ext autoreload\n",
    "%autoreload 2"
   ]
  },
  {
   "cell_type": "code",
   "execution_count": 2,
   "id": "fb4c19ef",
   "metadata": {},
   "outputs": [],
   "source": [
    "import sys\n",
    "DIR = \"/workspace/nflbigdatabowl2023\"\n",
    "sys.path.append(DIR)"
   ]
  },
  {
   "cell_type": "code",
   "execution_count": 22,
   "id": "da35fb4e",
   "metadata": {},
   "outputs": [],
   "source": [
    "from ast import literal_eval\n",
    "\n",
    "import pandas as pd\n",
    "import matplotlib.pyplot as plt\n",
    "import matplotlib.animation as animation\n",
    "from IPython.display import HTML\n",
    "\n",
    "from src.pipeline.flows.main import main_flow"
   ]
  },
  {
   "cell_type": "code",
   "execution_count": 4,
   "id": "52e7c8a7",
   "metadata": {
    "collapsed": true
   },
   "outputs": [
    {
     "data": {
      "text/html": [
       "<pre style=\"white-space:pre;overflow-x:auto;line-height:normal;font-family:Menlo,'DejaVu Sans Mono',consolas,'Courier New',monospace\">19:05:42.973 | <span style=\"color: #008080; text-decoration-color: #008080\">INFO</span>    | prefect.engine - Created flow run<span style=\"color: #800080; text-decoration-color: #800080\"> 'sticky-cougar'</span> for flow<span style=\"color: #800080; text-decoration-color: #800080; font-weight: bold\"> 'main-flow'</span>\n",
       "</pre>\n"
      ],
      "text/plain": [
       "19:05:42.973 | \u001b[36mINFO\u001b[0m    | prefect.engine - Created flow run\u001b[35m 'sticky-cougar'\u001b[0m for flow\u001b[1;35m 'main-flow'\u001b[0m\n"
      ]
     },
     "metadata": {},
     "output_type": "display_data"
    },
    {
     "data": {
      "text/html": [
       "<pre style=\"white-space:pre;overflow-x:auto;line-height:normal;font-family:Menlo,'DejaVu Sans Mono',consolas,'Courier New',monospace\">19:05:43.189 | <span style=\"color: #008080; text-decoration-color: #008080\">INFO</span>    | Flow run<span style=\"color: #800080; text-decoration-color: #800080\"> 'sticky-cougar'</span> - Created task run 'read_csv-3609c996-0' for task 'read_csv'\n",
       "</pre>\n"
      ],
      "text/plain": [
       "19:05:43.189 | \u001b[36mINFO\u001b[0m    | Flow run\u001b[35m 'sticky-cougar'\u001b[0m - Created task run 'read_csv-3609c996-0' for task 'read_csv'\n"
      ]
     },
     "metadata": {},
     "output_type": "display_data"
    },
    {
     "data": {
      "text/html": [
       "<pre style=\"white-space:pre;overflow-x:auto;line-height:normal;font-family:Menlo,'DejaVu Sans Mono',consolas,'Courier New',monospace\">19:05:43.192 | <span style=\"color: #008080; text-decoration-color: #008080\">INFO</span>    | Flow run<span style=\"color: #800080; text-decoration-color: #800080\"> 'sticky-cougar'</span> - Executing 'read_csv-3609c996-0' immediately...\n",
       "</pre>\n"
      ],
      "text/plain": [
       "19:05:43.192 | \u001b[36mINFO\u001b[0m    | Flow run\u001b[35m 'sticky-cougar'\u001b[0m - Executing 'read_csv-3609c996-0' immediately...\n"
      ]
     },
     "metadata": {},
     "output_type": "display_data"
    },
    {
     "data": {
      "text/html": [
       "<pre style=\"white-space:pre;overflow-x:auto;line-height:normal;font-family:Menlo,'DejaVu Sans Mono',consolas,'Courier New',monospace\">19:05:43.458 | <span style=\"color: #008080; text-decoration-color: #008080\">INFO</span>    | Task run 'read_csv-3609c996-0' - Finished in state <span style=\"color: #008000; text-decoration-color: #008000\">Completed</span>()\n",
       "</pre>\n"
      ],
      "text/plain": [
       "19:05:43.458 | \u001b[36mINFO\u001b[0m    | Task run 'read_csv-3609c996-0' - Finished in state \u001b[32mCompleted\u001b[0m()\n"
      ]
     },
     "metadata": {},
     "output_type": "display_data"
    },
    {
     "data": {
      "text/html": [
       "<pre style=\"white-space:pre;overflow-x:auto;line-height:normal;font-family:Menlo,'DejaVu Sans Mono',consolas,'Courier New',monospace\">19:05:43.490 | <span style=\"color: #008080; text-decoration-color: #008080\">INFO</span>    | Flow run<span style=\"color: #800080; text-decoration-color: #800080\"> 'sticky-cougar'</span> - Created task run 'read_csv-3609c996-1' for task 'read_csv'\n",
       "</pre>\n"
      ],
      "text/plain": [
       "19:05:43.490 | \u001b[36mINFO\u001b[0m    | Flow run\u001b[35m 'sticky-cougar'\u001b[0m - Created task run 'read_csv-3609c996-1' for task 'read_csv'\n"
      ]
     },
     "metadata": {},
     "output_type": "display_data"
    },
    {
     "data": {
      "text/html": [
       "<pre style=\"white-space:pre;overflow-x:auto;line-height:normal;font-family:Menlo,'DejaVu Sans Mono',consolas,'Courier New',monospace\">19:05:43.492 | <span style=\"color: #008080; text-decoration-color: #008080\">INFO</span>    | Flow run<span style=\"color: #800080; text-decoration-color: #800080\"> 'sticky-cougar'</span> - Executing 'read_csv-3609c996-1' immediately...\n",
       "</pre>\n"
      ],
      "text/plain": [
       "19:05:43.492 | \u001b[36mINFO\u001b[0m    | Flow run\u001b[35m 'sticky-cougar'\u001b[0m - Executing 'read_csv-3609c996-1' immediately...\n"
      ]
     },
     "metadata": {},
     "output_type": "display_data"
    },
    {
     "data": {
      "text/html": [
       "<pre style=\"white-space:pre;overflow-x:auto;line-height:normal;font-family:Menlo,'DejaVu Sans Mono',consolas,'Courier New',monospace\">19:05:44.833 | <span style=\"color: #008080; text-decoration-color: #008080\">INFO</span>    | Task run 'read_csv-3609c996-1' - Finished in state <span style=\"color: #008000; text-decoration-color: #008000\">Completed</span>()\n",
       "</pre>\n"
      ],
      "text/plain": [
       "19:05:44.833 | \u001b[36mINFO\u001b[0m    | Task run 'read_csv-3609c996-1' - Finished in state \u001b[32mCompleted\u001b[0m()\n"
      ]
     },
     "metadata": {},
     "output_type": "display_data"
    },
    {
     "data": {
      "text/html": [
       "<pre style=\"white-space:pre;overflow-x:auto;line-height:normal;font-family:Menlo,'DejaVu Sans Mono',consolas,'Courier New',monospace\">19:05:45.222 | <span style=\"color: #008080; text-decoration-color: #008080\">INFO</span>    | Flow run<span style=\"color: #800080; text-decoration-color: #800080\"> 'sticky-cougar'</span> - Created task run 'transform_to_frames-3446c324-0' for task 'transform_to_frames'\n",
       "</pre>\n"
      ],
      "text/plain": [
       "19:05:45.222 | \u001b[36mINFO\u001b[0m    | Flow run\u001b[35m 'sticky-cougar'\u001b[0m - Created task run 'transform_to_frames-3446c324-0' for task 'transform_to_frames'\n"
      ]
     },
     "metadata": {},
     "output_type": "display_data"
    },
    {
     "data": {
      "text/html": [
       "<pre style=\"white-space:pre;overflow-x:auto;line-height:normal;font-family:Menlo,'DejaVu Sans Mono',consolas,'Courier New',monospace\">19:05:45.225 | <span style=\"color: #008080; text-decoration-color: #008080\">INFO</span>    | Flow run<span style=\"color: #800080; text-decoration-color: #800080\"> 'sticky-cougar'</span> - Executing 'transform_to_frames-3446c324-0' immediately...\n",
       "</pre>\n"
      ],
      "text/plain": [
       "19:05:45.225 | \u001b[36mINFO\u001b[0m    | Flow run\u001b[35m 'sticky-cougar'\u001b[0m - Executing 'transform_to_frames-3446c324-0' immediately...\n"
      ]
     },
     "metadata": {},
     "output_type": "display_data"
    },
    {
     "data": {
      "text/html": [
       "<pre style=\"white-space:pre;overflow-x:auto;line-height:normal;font-family:Menlo,'DejaVu Sans Mono',consolas,'Courier New',monospace\">19:05:45.360 | <span style=\"color: #008080; text-decoration-color: #008080\">INFO</span>    | Task run 'transform_to_frames-3446c324-0' - Finished in state <span style=\"color: #008000; text-decoration-color: #008000\">Completed</span>()\n",
       "</pre>\n"
      ],
      "text/plain": [
       "19:05:45.360 | \u001b[36mINFO\u001b[0m    | Task run 'transform_to_frames-3446c324-0' - Finished in state \u001b[32mCompleted\u001b[0m()\n"
      ]
     },
     "metadata": {},
     "output_type": "display_data"
    },
    {
     "data": {
      "text/html": [
       "<pre style=\"white-space:pre;overflow-x:auto;line-height:normal;font-family:Menlo,'DejaVu Sans Mono',consolas,'Courier New',monospace\">19:05:45.392 | <span style=\"color: #008080; text-decoration-color: #008080\">INFO</span>    | Flow run<span style=\"color: #800080; text-decoration-color: #800080\"> 'sticky-cougar'</span> - Created task run 'transform_to_records_per_frame-823b8998-0' for task 'transform_to_records_per_frame'\n",
       "</pre>\n"
      ],
      "text/plain": [
       "19:05:45.392 | \u001b[36mINFO\u001b[0m    | Flow run\u001b[35m 'sticky-cougar'\u001b[0m - Created task run 'transform_to_records_per_frame-823b8998-0' for task 'transform_to_records_per_frame'\n"
      ]
     },
     "metadata": {},
     "output_type": "display_data"
    },
    {
     "data": {
      "text/html": [
       "<pre style=\"white-space:pre;overflow-x:auto;line-height:normal;font-family:Menlo,'DejaVu Sans Mono',consolas,'Courier New',monospace\">19:05:45.394 | <span style=\"color: #008080; text-decoration-color: #008080\">INFO</span>    | Flow run<span style=\"color: #800080; text-decoration-color: #800080\"> 'sticky-cougar'</span> - Executing 'transform_to_records_per_frame-823b8998-0' immediately...\n",
       "</pre>\n"
      ],
      "text/plain": [
       "19:05:45.394 | \u001b[36mINFO\u001b[0m    | Flow run\u001b[35m 'sticky-cougar'\u001b[0m - Executing 'transform_to_records_per_frame-823b8998-0' immediately...\n"
      ]
     },
     "metadata": {},
     "output_type": "display_data"
    },
    {
     "data": {
      "text/html": [
       "<pre style=\"white-space:pre;overflow-x:auto;line-height:normal;font-family:Menlo,'DejaVu Sans Mono',consolas,'Courier New',monospace\">19:05:45.593 | <span style=\"color: #008080; text-decoration-color: #008080\">INFO</span>    | Task run 'transform_to_records_per_frame-823b8998-0' - Finished in state <span style=\"color: #008000; text-decoration-color: #008000\">Completed</span>()\n",
       "</pre>\n"
      ],
      "text/plain": [
       "19:05:45.593 | \u001b[36mINFO\u001b[0m    | Task run 'transform_to_records_per_frame-823b8998-0' - Finished in state \u001b[32mCompleted\u001b[0m()\n"
      ]
     },
     "metadata": {},
     "output_type": "display_data"
    },
    {
     "data": {
      "text/html": [
       "<pre style=\"white-space:pre;overflow-x:auto;line-height:normal;font-family:Menlo,'DejaVu Sans Mono',consolas,'Courier New',monospace\">19:05:45.633 | <span style=\"color: #008080; text-decoration-color: #008080\">INFO</span>    | Flow run<span style=\"color: #800080; text-decoration-color: #800080\"> 'sticky-cougar'</span> - Created task run 'calculate_pocket_area-cc18ef62-0' for task 'calculate_pocket_area'\n",
       "</pre>\n"
      ],
      "text/plain": [
       "19:05:45.633 | \u001b[36mINFO\u001b[0m    | Flow run\u001b[35m 'sticky-cougar'\u001b[0m - Created task run 'calculate_pocket_area-cc18ef62-0' for task 'calculate_pocket_area'\n"
      ]
     },
     "metadata": {},
     "output_type": "display_data"
    },
    {
     "data": {
      "text/html": [
       "<pre style=\"white-space:pre;overflow-x:auto;line-height:normal;font-family:Menlo,'DejaVu Sans Mono',consolas,'Courier New',monospace\">19:05:45.636 | <span style=\"color: #008080; text-decoration-color: #008080\">INFO</span>    | Flow run<span style=\"color: #800080; text-decoration-color: #800080\"> 'sticky-cougar'</span> - Submitted task run 'calculate_pocket_area-cc18ef62-0' for execution.\n",
       "</pre>\n"
      ],
      "text/plain": [
       "19:05:45.636 | \u001b[36mINFO\u001b[0m    | Flow run\u001b[35m 'sticky-cougar'\u001b[0m - Submitted task run 'calculate_pocket_area-cc18ef62-0' for execution.\n"
      ]
     },
     "metadata": {},
     "output_type": "display_data"
    },
    {
     "data": {
      "text/html": [
       "<pre style=\"white-space:pre;overflow-x:auto;line-height:normal;font-family:Menlo,'DejaVu Sans Mono',consolas,'Courier New',monospace\">19:05:45.666 | <span style=\"color: #008080; text-decoration-color: #008080\">INFO</span>    | Flow run<span style=\"color: #800080; text-decoration-color: #800080\"> 'sticky-cougar'</span> - Created task run 'calculate_pocket_area-cc18ef62-1' for task 'calculate_pocket_area'\n",
       "</pre>\n"
      ],
      "text/plain": [
       "19:05:45.666 | \u001b[36mINFO\u001b[0m    | Flow run\u001b[35m 'sticky-cougar'\u001b[0m - Created task run 'calculate_pocket_area-cc18ef62-1' for task 'calculate_pocket_area'\n"
      ]
     },
     "metadata": {},
     "output_type": "display_data"
    },
    {
     "data": {
      "text/html": [
       "<pre style=\"white-space:pre;overflow-x:auto;line-height:normal;font-family:Menlo,'DejaVu Sans Mono',consolas,'Courier New',monospace\">19:05:45.669 | <span style=\"color: #008080; text-decoration-color: #008080\">INFO</span>    | Flow run<span style=\"color: #800080; text-decoration-color: #800080\"> 'sticky-cougar'</span> - Submitted task run 'calculate_pocket_area-cc18ef62-1' for execution.\n",
       "</pre>\n"
      ],
      "text/plain": [
       "19:05:45.669 | \u001b[36mINFO\u001b[0m    | Flow run\u001b[35m 'sticky-cougar'\u001b[0m - Submitted task run 'calculate_pocket_area-cc18ef62-1' for execution.\n"
      ]
     },
     "metadata": {},
     "output_type": "display_data"
    },
    {
     "data": {
      "text/html": [
       "<pre style=\"white-space:pre;overflow-x:auto;line-height:normal;font-family:Menlo,'DejaVu Sans Mono',consolas,'Courier New',monospace\">19:05:45.784 | <span style=\"color: #008080; text-decoration-color: #008080\">INFO</span>    | Flow run<span style=\"color: #800080; text-decoration-color: #800080\"> 'sticky-cougar'</span> - Created task run 'union_dataframes-8a4e3d8f-0' for task 'union_dataframes'\n",
       "</pre>\n"
      ],
      "text/plain": [
       "19:05:45.784 | \u001b[36mINFO\u001b[0m    | Flow run\u001b[35m 'sticky-cougar'\u001b[0m - Created task run 'union_dataframes-8a4e3d8f-0' for task 'union_dataframes'\n"
      ]
     },
     "metadata": {},
     "output_type": "display_data"
    },
    {
     "data": {
      "text/html": [
       "<pre style=\"white-space:pre;overflow-x:auto;line-height:normal;font-family:Menlo,'DejaVu Sans Mono',consolas,'Courier New',monospace\">19:05:45.787 | <span style=\"color: #008080; text-decoration-color: #008080\">INFO</span>    | Flow run<span style=\"color: #800080; text-decoration-color: #800080\"> 'sticky-cougar'</span> - Executing 'union_dataframes-8a4e3d8f-0' immediately...\n",
       "</pre>\n"
      ],
      "text/plain": [
       "19:05:45.787 | \u001b[36mINFO\u001b[0m    | Flow run\u001b[35m 'sticky-cougar'\u001b[0m - Executing 'union_dataframes-8a4e3d8f-0' immediately...\n"
      ]
     },
     "metadata": {},
     "output_type": "display_data"
    },
    {
     "data": {
      "text/html": [
       "<pre style=\"white-space:pre;overflow-x:auto;line-height:normal;font-family:Menlo,'DejaVu Sans Mono',consolas,'Courier New',monospace\">19:05:45.818 | <span style=\"color: #008080; text-decoration-color: #008080\">INFO</span>    | Task run 'calculate_pocket_area-cc18ef62-0' - Finished in state <span style=\"color: #008000; text-decoration-color: #008000\">Completed</span>()\n",
       "</pre>\n"
      ],
      "text/plain": [
       "19:05:45.818 | \u001b[36mINFO\u001b[0m    | Task run 'calculate_pocket_area-cc18ef62-0' - Finished in state \u001b[32mCompleted\u001b[0m()\n"
      ]
     },
     "metadata": {},
     "output_type": "display_data"
    },
    {
     "data": {
      "text/html": [
       "<pre style=\"white-space:pre;overflow-x:auto;line-height:normal;font-family:Menlo,'DejaVu Sans Mono',consolas,'Courier New',monospace\">19:05:45.833 | <span style=\"color: #008080; text-decoration-color: #008080\">INFO</span>    | Task run 'calculate_pocket_area-cc18ef62-1' - Finished in state <span style=\"color: #008000; text-decoration-color: #008000\">Completed</span>()\n",
       "</pre>\n"
      ],
      "text/plain": [
       "19:05:45.833 | \u001b[36mINFO\u001b[0m    | Task run 'calculate_pocket_area-cc18ef62-1' - Finished in state \u001b[32mCompleted\u001b[0m()\n"
      ]
     },
     "metadata": {},
     "output_type": "display_data"
    },
    {
     "data": {
      "text/html": [
       "<pre style=\"white-space:pre;overflow-x:auto;line-height:normal;font-family:Menlo,'DejaVu Sans Mono',consolas,'Courier New',monospace\">19:05:45.894 | <span style=\"color: #008080; text-decoration-color: #008080\">INFO</span>    | Task run 'union_dataframes-8a4e3d8f-0' - Finished in state <span style=\"color: #008000; text-decoration-color: #008000\">Completed</span>()\n",
       "</pre>\n"
      ],
      "text/plain": [
       "19:05:45.894 | \u001b[36mINFO\u001b[0m    | Task run 'union_dataframes-8a4e3d8f-0' - Finished in state \u001b[32mCompleted\u001b[0m()\n"
      ]
     },
     "metadata": {},
     "output_type": "display_data"
    },
    {
     "data": {
      "text/html": [
       "<pre style=\"white-space:pre;overflow-x:auto;line-height:normal;font-family:Menlo,'DejaVu Sans Mono',consolas,'Courier New',monospace\">19:05:45.924 | <span style=\"color: #008080; text-decoration-color: #008080\">INFO</span>    | Flow run<span style=\"color: #800080; text-decoration-color: #800080\"> 'sticky-cougar'</span> - Created task run 'write_csv-386fe2af-0' for task 'write_csv'\n",
       "</pre>\n"
      ],
      "text/plain": [
       "19:05:45.924 | \u001b[36mINFO\u001b[0m    | Flow run\u001b[35m 'sticky-cougar'\u001b[0m - Created task run 'write_csv-386fe2af-0' for task 'write_csv'\n"
      ]
     },
     "metadata": {},
     "output_type": "display_data"
    },
    {
     "data": {
      "text/html": [
       "<pre style=\"white-space:pre;overflow-x:auto;line-height:normal;font-family:Menlo,'DejaVu Sans Mono',consolas,'Courier New',monospace\">19:05:45.926 | <span style=\"color: #008080; text-decoration-color: #008080\">INFO</span>    | Flow run<span style=\"color: #800080; text-decoration-color: #800080\"> 'sticky-cougar'</span> - Executing 'write_csv-386fe2af-0' immediately...\n",
       "</pre>\n"
      ],
      "text/plain": [
       "19:05:45.926 | \u001b[36mINFO\u001b[0m    | Flow run\u001b[35m 'sticky-cougar'\u001b[0m - Executing 'write_csv-386fe2af-0' immediately...\n"
      ]
     },
     "metadata": {},
     "output_type": "display_data"
    },
    {
     "data": {
      "text/html": [
       "<pre style=\"white-space:pre;overflow-x:auto;line-height:normal;font-family:Menlo,'DejaVu Sans Mono',consolas,'Courier New',monospace\">19:05:46.002 | <span style=\"color: #008080; text-decoration-color: #008080\">INFO</span>    | Task run 'write_csv-386fe2af-0' - Finished in state <span style=\"color: #008000; text-decoration-color: #008000\">Completed</span>()\n",
       "</pre>\n"
      ],
      "text/plain": [
       "19:05:46.002 | \u001b[36mINFO\u001b[0m    | Task run 'write_csv-386fe2af-0' - Finished in state \u001b[32mCompleted\u001b[0m()\n"
      ]
     },
     "metadata": {},
     "output_type": "display_data"
    },
    {
     "data": {
      "text/html": [
       "<pre style=\"white-space:pre;overflow-x:auto;line-height:normal;font-family:Menlo,'DejaVu Sans Mono',consolas,'Courier New',monospace\">19:05:46.031 | <span style=\"color: #008080; text-decoration-color: #008080\">INFO</span>    | Flow run<span style=\"color: #800080; text-decoration-color: #800080\"> 'sticky-cougar'</span> - Created task run 'write_csv-386fe2af-1' for task 'write_csv'\n",
       "</pre>\n"
      ],
      "text/plain": [
       "19:05:46.031 | \u001b[36mINFO\u001b[0m    | Flow run\u001b[35m 'sticky-cougar'\u001b[0m - Created task run 'write_csv-386fe2af-1' for task 'write_csv'\n"
      ]
     },
     "metadata": {},
     "output_type": "display_data"
    },
    {
     "data": {
      "text/html": [
       "<pre style=\"white-space:pre;overflow-x:auto;line-height:normal;font-family:Menlo,'DejaVu Sans Mono',consolas,'Courier New',monospace\">19:05:46.033 | <span style=\"color: #008080; text-decoration-color: #008080\">INFO</span>    | Flow run<span style=\"color: #800080; text-decoration-color: #800080\"> 'sticky-cougar'</span> - Executing 'write_csv-386fe2af-1' immediately...\n",
       "</pre>\n"
      ],
      "text/plain": [
       "19:05:46.033 | \u001b[36mINFO\u001b[0m    | Flow run\u001b[35m 'sticky-cougar'\u001b[0m - Executing 'write_csv-386fe2af-1' immediately...\n"
      ]
     },
     "metadata": {},
     "output_type": "display_data"
    },
    {
     "data": {
      "text/html": [
       "<pre style=\"white-space:pre;overflow-x:auto;line-height:normal;font-family:Menlo,'DejaVu Sans Mono',consolas,'Courier New',monospace\">19:05:46.104 | <span style=\"color: #008080; text-decoration-color: #008080\">INFO</span>    | Task run 'write_csv-386fe2af-1' - Finished in state <span style=\"color: #008000; text-decoration-color: #008000\">Completed</span>()\n",
       "</pre>\n"
      ],
      "text/plain": [
       "19:05:46.104 | \u001b[36mINFO\u001b[0m    | Task run 'write_csv-386fe2af-1' - Finished in state \u001b[32mCompleted\u001b[0m()\n"
      ]
     },
     "metadata": {},
     "output_type": "display_data"
    },
    {
     "data": {
      "text/html": [
       "<pre style=\"white-space:pre;overflow-x:auto;line-height:normal;font-family:Menlo,'DejaVu Sans Mono',consolas,'Courier New',monospace\">19:05:46.140 | <span style=\"color: #008080; text-decoration-color: #008080\">INFO</span>    | Flow run<span style=\"color: #800080; text-decoration-color: #800080\"> 'sticky-cougar'</span> - Finished in state <span style=\"color: #008000; text-decoration-color: #008000\">Completed</span>('All states completed.')\n",
       "</pre>\n"
      ],
      "text/plain": [
       "19:05:46.140 | \u001b[36mINFO\u001b[0m    | Flow run\u001b[35m 'sticky-cougar'\u001b[0m - Finished in state \u001b[32mCompleted\u001b[0m('All states completed.')\n"
      ]
     },
     "metadata": {},
     "output_type": "display_data"
    }
   ],
   "source": [
    "_ = main_flow(max_plays=3)"
   ]
  },
  {
   "cell_type": "code",
   "execution_count": 15,
   "id": "f8607a90",
   "metadata": {},
   "outputs": [],
   "source": [
    "df_frame_records_all = pd.read_csv(f\"{DIR}/data/outputs/frame_records.csv\")\n",
    "df_frame_records_all[\"records\"] = df_frame_records_all[\"records\"].apply(literal_eval)\n",
    "\n",
    "df_areas_all = pd.read_csv(f\"{DIR}/data/outputs/pocket_areas.csv\")\n",
    "df_areas_all[\"pocket\"] = df_areas_all[\"pocket\"].apply(literal_eval)"
   ]
  },
  {
   "cell_type": "code",
   "execution_count": 19,
   "id": "0477caef",
   "metadata": {},
   "outputs": [],
   "source": [
    "game_id = 2021090900\n",
    "play_id = 97\n",
    "query = f\"gameId == {game_id} and playId == {play_id}\"\n",
    "\n",
    "df_frame_records = df_frame_records_all.query(query)\n",
    "df_frame_area = df_areas_all.query(query)"
   ]
  },
  {
   "cell_type": "code",
   "execution_count": 21,
   "id": "b23cb1a9",
   "metadata": {},
   "outputs": [
    {
     "data": {
      "text/html": [
       "<div>\n",
       "<style scoped>\n",
       "    .dataframe tbody tr th:only-of-type {\n",
       "        vertical-align: middle;\n",
       "    }\n",
       "\n",
       "    .dataframe tbody tr th {\n",
       "        vertical-align: top;\n",
       "    }\n",
       "\n",
       "    .dataframe thead th {\n",
       "        text-align: right;\n",
       "    }\n",
       "</style>\n",
       "<table border=\"1\" class=\"dataframe\">\n",
       "  <thead>\n",
       "    <tr style=\"text-align: right;\">\n",
       "      <th></th>\n",
       "      <th>gameId</th>\n",
       "      <th>playId</th>\n",
       "      <th>frameId</th>\n",
       "      <th>method</th>\n",
       "      <th>pocket</th>\n",
       "      <th>area</th>\n",
       "    </tr>\n",
       "  </thead>\n",
       "  <tbody>\n",
       "    <tr>\n",
       "      <th>0</th>\n",
       "      <td>2021090900</td>\n",
       "      <td>97</td>\n",
       "      <td>1</td>\n",
       "      <td>passer_radius</td>\n",
       "      <td>{'area': 104.72938933713064, 'metadata': {'ver...</td>\n",
       "      <td>104.729389</td>\n",
       "    </tr>\n",
       "    <tr>\n",
       "      <th>1</th>\n",
       "      <td>2021090900</td>\n",
       "      <td>97</td>\n",
       "      <td>2</td>\n",
       "      <td>passer_radius</td>\n",
       "      <td>{'area': 104.01436284917375, 'metadata': {'ver...</td>\n",
       "      <td>104.014363</td>\n",
       "    </tr>\n",
       "    <tr>\n",
       "      <th>2</th>\n",
       "      <td>2021090900</td>\n",
       "      <td>97</td>\n",
       "      <td>3</td>\n",
       "      <td>passer_radius</td>\n",
       "      <td>{'area': 103.95687170361305, 'metadata': {'ver...</td>\n",
       "      <td>103.956872</td>\n",
       "    </tr>\n",
       "    <tr>\n",
       "      <th>3</th>\n",
       "      <td>2021090900</td>\n",
       "      <td>97</td>\n",
       "      <td>4</td>\n",
       "      <td>passer_radius</td>\n",
       "      <td>{'area': 104.9172565778155, 'metadata': {'vert...</td>\n",
       "      <td>104.917257</td>\n",
       "    </tr>\n",
       "    <tr>\n",
       "      <th>4</th>\n",
       "      <td>2021090900</td>\n",
       "      <td>97</td>\n",
       "      <td>5</td>\n",
       "      <td>passer_radius</td>\n",
       "      <td>{'area': 105.33257512661999, 'metadata': {'ver...</td>\n",
       "      <td>105.332575</td>\n",
       "    </tr>\n",
       "  </tbody>\n",
       "</table>\n",
       "</div>"
      ],
      "text/plain": [
       "       gameId  playId  frameId         method  \\\n",
       "0  2021090900      97        1  passer_radius   \n",
       "1  2021090900      97        2  passer_radius   \n",
       "2  2021090900      97        3  passer_radius   \n",
       "3  2021090900      97        4  passer_radius   \n",
       "4  2021090900      97        5  passer_radius   \n",
       "\n",
       "                                              pocket        area  \n",
       "0  {'area': 104.72938933713064, 'metadata': {'ver...  104.729389  \n",
       "1  {'area': 104.01436284917375, 'metadata': {'ver...  104.014363  \n",
       "2  {'area': 103.95687170361305, 'metadata': {'ver...  103.956872  \n",
       "3  {'area': 104.9172565778155, 'metadata': {'vert...  104.917257  \n",
       "4  {'area': 105.33257512661999, 'metadata': {'ver...  105.332575  "
      ]
     },
     "execution_count": 21,
     "metadata": {},
     "output_type": "execute_result"
    }
   ],
   "source": [
    "df_frame_area.head()"
   ]
  },
  {
   "cell_type": "code",
   "execution_count": null,
   "id": "be2221d2",
   "metadata": {},
   "outputs": [],
   "source": [
    "def gen_frames(input_rows):\n",
    "    rows = []\n",
    "    curr_frame = 1\n",
    "    for row in input_rows:\n",
    "        frame = row[\"frameId\"]\n",
    "        if curr_frame == frame:\n",
    "            rows.append(row)\n",
    "        else:\n",
    "            # Stop adding to this frame and yield it\n",
    "            yield rows\n",
    "            # Reset for the next frame\n",
    "            curr_frame = frame\n",
    "            rows = [row]\n",
    "    # Yield the last frame\n",
    "    yield rows\n",
    "    # Yield terminal value\n",
    "    yield None\n",
    "\n",
    "    \n",
    "def animate_play(df_play_tracking_normalized):\n",
    "    \"\"\"Sorry for the unreadable code, I'll clean it up later.\"\"\"\n",
    "    team_options = list({team for team in df_play_tracking_normalized[\"team\"].unique() if team != \"football\"})\n",
    "    team_a = df_play_tracking_normalized[\"team\"] == team_options[0]\n",
    "    team_b = df_play_tracking_normalized[\"team\"] == team_options[1]\n",
    "\n",
    "    x = df_play_tracking_normalized[\"nx\"]\n",
    "    y = df_play_tracking_normalized[\"ny\"]\n",
    "    g_min = min(x.min(), y.min())\n",
    "    g_max = max(x.max(), y.max())\n",
    "\n",
    "    ratio = 0.4\n",
    "    dim = ratio * (g_max - g_min)\n",
    "    fig, ax = plt.subplots(1, 1)\n",
    "    fig.set_size_inches(dim, dim)\n",
    "\n",
    "    ax.axvline(0, color=\"gray\", dashes=[5, 1])\n",
    "    ax.axhline(0, color=\"gray\", dashes=[5, 1])\n",
    "\n",
    "    trails = pd.DataFrame(df_play_tracking_normalized.query(\"team != 'football' and pff_role in ('Pass', 'Pass Block', 'Pass Rush')\"))\n",
    "    trails[\"color\"] = trails[\"team\"].apply(lambda team: \"red\" if team == team_options[0] else \"blue\")\n",
    "\n",
    "    ax.scatter(trails[\"nx\"], trails[\"ny\"], s=1, color=trails[\"color\"])\n",
    "\n",
    "    ax.set_xlim(g_min - 1, g_max + 1)\n",
    "    ax.set_ylim(g_min - 1, g_max + 1)\n",
    "\n",
    "    df_sorted = df_play_tracking_normalized.sort_values(by=\"frameId\", ascending=True)\n",
    "    rows = []\n",
    "    for r in df_sorted.to_dict(orient=\"records\"):\n",
    "        team = r[\"team\"]\n",
    "        if team == \"football\":\n",
    "            row = {\n",
    "                \"frameId\": r[\"frameId\"],\n",
    "                \"pid\": \"football\",\n",
    "                \"x\": r[\"nx\"],\n",
    "                \"y\": r[\"ny\"],\n",
    "            }\n",
    "            rows.append(row)\n",
    "            continue\n",
    "        jersey = str(int(r[\"jerseyNumber\"]))\n",
    "        row = {\n",
    "            \"frameId\": r[\"frameId\"],\n",
    "            \"pid\": f\"{team} {jersey}\",\n",
    "            \"j\": jersey,\n",
    "            \"x\": r[\"nx\"],\n",
    "            \"y\": r[\"ny\"],\n",
    "            \"o\": r[\"no\"],\n",
    "            \"dir\": r[\"ndir\"],\n",
    "            \"c\": \"red\" if team == team_options[0] else \"blue\",\n",
    "        }\n",
    "        rows.append(row)\n",
    "\n",
    "    frame_list = list(gen_frames(rows))\n",
    "\n",
    "    diameter = 1.125\n",
    "    font_size = 12 * diameter\n",
    "    radius = 0.5 * diameter\n",
    "    y_offset = 0.175 * diameter\n",
    "\n",
    "    ball = None\n",
    "    jerseys = {}\n",
    "    numbers = {}\n",
    "    orientations = {}\n",
    "    directions = {}\n",
    "    for p in frame_list[0]:\n",
    "        pid = p[\"pid\"]\n",
    "        x, y = p[\"x\"], p[\"y\"]\n",
    "\n",
    "        if pid == \"football\":\n",
    "            ball = plt.Circle((x, y), radius * 0.5, color=\"brown\")\n",
    "            continue\n",
    "\n",
    "        x_offset = (0.375 if len(p[\"j\"]) > 1 else 0.2) * diameter\n",
    "\n",
    "        degrees = p[\"o\"]\n",
    "        radians = math.radians((-1 * degrees) + 90)\n",
    "        dx = math.cos(radians)\n",
    "        dy = math.sin(radians)\n",
    "        orientation = ax.arrow(x, y, dx, dy, color=p[\"c\"])\n",
    "        orientations[pid] = orientation\n",
    "\n",
    "        degrees = p[\"dir\"]\n",
    "        radians = math.radians((-1 * degrees) + 90)\n",
    "        dx = math.cos(radians)\n",
    "        dy = math.sin(radians)\n",
    "        direction = ax.arrow(x, y, dx, dy, color=\"lightgray\")\n",
    "        directions[pid] = direction\n",
    "\n",
    "        circle = plt.Circle((x, y), radius, color=p[\"c\"])\n",
    "        ax.add_patch(circle)\n",
    "        jerseys[pid] = circle\n",
    "\n",
    "        text = ax.text(x - x_offset, y - y_offset, p[\"j\"], fontsize=font_size, color=\"white\")\n",
    "        numbers[pid] = text\n",
    "\n",
    "    ax.add_patch(ball)\n",
    "\n",
    "    \n",
    "    def animate(i):\n",
    "        if i >= len(frame_list):\n",
    "            return ()\n",
    "        frame_rows = frame_list[i] or []\n",
    "        for row in frame_rows:\n",
    "            pid = row[\"pid\"]\n",
    "            x, y = row[\"x\"], row[\"y\"]\\\n",
    "\n",
    "            if pid == \"football\":\n",
    "                ball.center = x, y\n",
    "                continue\n",
    "\n",
    "            j = jerseys[pid]    \n",
    "            j.center = x, y\n",
    "\n",
    "            n = numbers[pid]\n",
    "            x_offset = (0.375 if len(row[\"j\"]) > 1 else 0.2) * diameter\n",
    "            n.set_x(x - x_offset)\n",
    "            n.set_y(y - y_offset)\n",
    "\n",
    "            o = orientations[pid]\n",
    "            degrees = row[\"o\"]\n",
    "            radians = math.radians((-1 * degrees) + 90)\n",
    "            dx = math.cos(radians)\n",
    "            dy = math.sin(radians)\n",
    "            o.set_data(x=x, y=y, dx=dx, dy=dy)\n",
    "\n",
    "            d = directions[pid]\n",
    "            degrees = row[\"dir\"]\n",
    "            radians = math.radians((-1 * degrees) + 90)\n",
    "            dx = math.cos(radians)\n",
    "            dy = math.sin(radians)\n",
    "            d.set_data(x=x, y=y, dx=dx, dy=dy)\n",
    "\n",
    "        return (*jerseys.values(), *numbers.values(), *orientations.values(), *directions.values())\n",
    "\n",
    "\n",
    "    ani = animation.FuncAnimation(fig, animate, frames=range(len(frame_list) + 1), interval=100, blit=True)\n",
    "    plt.close(\"all\")\n",
    "    video = ani.to_html5_video()\n",
    "    return HTML(video)"
   ]
  }
 ],
 "metadata": {
  "kernelspec": {
   "display_name": "Python 3 (ipykernel)",
   "language": "python",
   "name": "python3"
  },
  "language_info": {
   "codemirror_mode": {
    "name": "ipython",
    "version": 3
   },
   "file_extension": ".py",
   "mimetype": "text/x-python",
   "name": "python",
   "nbconvert_exporter": "python",
   "pygments_lexer": "ipython3",
   "version": "3.8.13"
  }
 },
 "nbformat": 4,
 "nbformat_minor": 5
}
