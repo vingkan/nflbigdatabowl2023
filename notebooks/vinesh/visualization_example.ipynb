{
 "cells": [
  {
   "cell_type": "markdown",
   "id": "9754e686",
   "metadata": {},
   "source": [
    "# Visualization Example"
   ]
  },
  {
   "cell_type": "code",
   "execution_count": 1,
   "id": "b945a06e",
   "metadata": {},
   "outputs": [],
   "source": [
    "%load_ext autoreload\n",
    "%autoreload 2"
   ]
  },
  {
   "cell_type": "code",
   "execution_count": 2,
   "id": "fb4c19ef",
   "metadata": {},
   "outputs": [],
   "source": [
    "import sys\n",
    "DIR = \"/workspace/nflbigdatabowl2023\"\n",
    "sys.path.append(DIR)"
   ]
  },
  {
   "cell_type": "code",
   "execution_count": 3,
   "id": "da35fb4e",
   "metadata": {},
   "outputs": [],
   "source": [
    "import math\n",
    "from ast import literal_eval\n",
    "\n",
    "import pandas as pd\n",
    "import matplotlib.pyplot as plt\n",
    "\n",
    "from src.pipeline.flows.main import main_flow\n",
    "from src.visualization.interactive_play_selector import create_interactive_play_selector"
   ]
  },
  {
   "cell_type": "code",
   "execution_count": 4,
   "id": "52e7c8a7",
   "metadata": {
    "scrolled": false
   },
   "outputs": [
    {
     "data": {
      "text/html": [
       "<pre style=\"white-space:pre;overflow-x:auto;line-height:normal;font-family:Menlo,'DejaVu Sans Mono',consolas,'Courier New',monospace\">04:09:17.326 | <span style=\"color: #008080; text-decoration-color: #008080\">INFO</span>    | prefect.engine - Created flow run<span style=\"color: #800080; text-decoration-color: #800080\"> 'impressive-zebra'</span> for flow<span style=\"color: #800080; text-decoration-color: #800080; font-weight: bold\"> 'main-flow'</span>\n",
       "</pre>\n"
      ],
      "text/plain": [
       "04:09:17.326 | \u001b[36mINFO\u001b[0m    | prefect.engine - Created flow run\u001b[35m 'impressive-zebra'\u001b[0m for flow\u001b[1;35m 'main-flow'\u001b[0m\n"
      ]
     },
     "metadata": {},
     "output_type": "display_data"
    },
    {
     "data": {
      "text/html": [
       "<pre style=\"white-space:pre;overflow-x:auto;line-height:normal;font-family:Menlo,'DejaVu Sans Mono',consolas,'Courier New',monospace\">04:09:17.569 | <span style=\"color: #008080; text-decoration-color: #008080\">INFO</span>    | Flow run<span style=\"color: #800080; text-decoration-color: #800080\"> 'impressive-zebra'</span> - Created task run 'read_csv-3609c996-0' for task 'read_csv'\n",
       "</pre>\n"
      ],
      "text/plain": [
       "04:09:17.569 | \u001b[36mINFO\u001b[0m    | Flow run\u001b[35m 'impressive-zebra'\u001b[0m - Created task run 'read_csv-3609c996-0' for task 'read_csv'\n"
      ]
     },
     "metadata": {},
     "output_type": "display_data"
    },
    {
     "data": {
      "text/html": [
       "<pre style=\"white-space:pre;overflow-x:auto;line-height:normal;font-family:Menlo,'DejaVu Sans Mono',consolas,'Courier New',monospace\">04:09:17.572 | <span style=\"color: #008080; text-decoration-color: #008080\">INFO</span>    | Flow run<span style=\"color: #800080; text-decoration-color: #800080\"> 'impressive-zebra'</span> - Executing 'read_csv-3609c996-0' immediately...\n",
       "</pre>\n"
      ],
      "text/plain": [
       "04:09:17.572 | \u001b[36mINFO\u001b[0m    | Flow run\u001b[35m 'impressive-zebra'\u001b[0m - Executing 'read_csv-3609c996-0' immediately...\n"
      ]
     },
     "metadata": {},
     "output_type": "display_data"
    },
    {
     "data": {
      "text/html": [
       "<pre style=\"white-space:pre;overflow-x:auto;line-height:normal;font-family:Menlo,'DejaVu Sans Mono',consolas,'Courier New',monospace\">04:09:17.865 | <span style=\"color: #008080; text-decoration-color: #008080\">INFO</span>    | Task run 'read_csv-3609c996-0' - Finished in state <span style=\"color: #008000; text-decoration-color: #008000\">Completed</span>()\n",
       "</pre>\n"
      ],
      "text/plain": [
       "04:09:17.865 | \u001b[36mINFO\u001b[0m    | Task run 'read_csv-3609c996-0' - Finished in state \u001b[32mCompleted\u001b[0m()\n"
      ]
     },
     "metadata": {},
     "output_type": "display_data"
    },
    {
     "data": {
      "text/html": [
       "<pre style=\"white-space:pre;overflow-x:auto;line-height:normal;font-family:Menlo,'DejaVu Sans Mono',consolas,'Courier New',monospace\">04:09:17.904 | <span style=\"color: #008080; text-decoration-color: #008080\">INFO</span>    | Flow run<span style=\"color: #800080; text-decoration-color: #800080\"> 'impressive-zebra'</span> - Created task run 'read_csv-3609c996-1' for task 'read_csv'\n",
       "</pre>\n"
      ],
      "text/plain": [
       "04:09:17.904 | \u001b[36mINFO\u001b[0m    | Flow run\u001b[35m 'impressive-zebra'\u001b[0m - Created task run 'read_csv-3609c996-1' for task 'read_csv'\n"
      ]
     },
     "metadata": {},
     "output_type": "display_data"
    },
    {
     "data": {
      "text/html": [
       "<pre style=\"white-space:pre;overflow-x:auto;line-height:normal;font-family:Menlo,'DejaVu Sans Mono',consolas,'Courier New',monospace\">04:09:17.907 | <span style=\"color: #008080; text-decoration-color: #008080\">INFO</span>    | Flow run<span style=\"color: #800080; text-decoration-color: #800080\"> 'impressive-zebra'</span> - Executing 'read_csv-3609c996-1' immediately...\n",
       "</pre>\n"
      ],
      "text/plain": [
       "04:09:17.907 | \u001b[36mINFO\u001b[0m    | Flow run\u001b[35m 'impressive-zebra'\u001b[0m - Executing 'read_csv-3609c996-1' immediately...\n"
      ]
     },
     "metadata": {},
     "output_type": "display_data"
    },
    {
     "data": {
      "text/html": [
       "<pre style=\"white-space:pre;overflow-x:auto;line-height:normal;font-family:Menlo,'DejaVu Sans Mono',consolas,'Courier New',monospace\">04:09:18.012 | <span style=\"color: #008080; text-decoration-color: #008080\">INFO</span>    | Task run 'read_csv-3609c996-1' - Finished in state <span style=\"color: #008000; text-decoration-color: #008000\">Completed</span>()\n",
       "</pre>\n"
      ],
      "text/plain": [
       "04:09:18.012 | \u001b[36mINFO\u001b[0m    | Task run 'read_csv-3609c996-1' - Finished in state \u001b[32mCompleted\u001b[0m()\n"
      ]
     },
     "metadata": {},
     "output_type": "display_data"
    },
    {
     "data": {
      "text/html": [
       "<pre style=\"white-space:pre;overflow-x:auto;line-height:normal;font-family:Menlo,'DejaVu Sans Mono',consolas,'Courier New',monospace\">04:09:18.037 | <span style=\"color: #008080; text-decoration-color: #008080\">INFO</span>    | Flow run<span style=\"color: #800080; text-decoration-color: #800080\"> 'impressive-zebra'</span> - Created task run 'read_tracking_data-e2eae939-0' for task 'read_tracking_data'\n",
       "</pre>\n"
      ],
      "text/plain": [
       "04:09:18.037 | \u001b[36mINFO\u001b[0m    | Flow run\u001b[35m 'impressive-zebra'\u001b[0m - Created task run 'read_tracking_data-e2eae939-0' for task 'read_tracking_data'\n"
      ]
     },
     "metadata": {},
     "output_type": "display_data"
    },
    {
     "data": {
      "text/html": [
       "<pre style=\"white-space:pre;overflow-x:auto;line-height:normal;font-family:Menlo,'DejaVu Sans Mono',consolas,'Courier New',monospace\">04:09:18.040 | <span style=\"color: #008080; text-decoration-color: #008080\">INFO</span>    | Flow run<span style=\"color: #800080; text-decoration-color: #800080\"> 'impressive-zebra'</span> - Executing 'read_tracking_data-e2eae939-0' immediately...\n",
       "</pre>\n"
      ],
      "text/plain": [
       "04:09:18.040 | \u001b[36mINFO\u001b[0m    | Flow run\u001b[35m 'impressive-zebra'\u001b[0m - Executing 'read_tracking_data-e2eae939-0' immediately...\n"
      ]
     },
     "metadata": {},
     "output_type": "display_data"
    },
    {
     "data": {
      "text/html": [
       "<pre style=\"white-space:pre;overflow-x:auto;line-height:normal;font-family:Menlo,'DejaVu Sans Mono',consolas,'Courier New',monospace\">04:09:22.601 | <span style=\"color: #008080; text-decoration-color: #008080\">INFO</span>    | Task run 'read_tracking_data-e2eae939-0' - Finished in state <span style=\"color: #008000; text-decoration-color: #008000\">Completed</span>()\n",
       "</pre>\n"
      ],
      "text/plain": [
       "04:09:22.601 | \u001b[36mINFO\u001b[0m    | Task run 'read_tracking_data-e2eae939-0' - Finished in state \u001b[32mCompleted\u001b[0m()\n"
      ]
     },
     "metadata": {},
     "output_type": "display_data"
    },
    {
     "data": {
      "text/html": [
       "<pre style=\"white-space:pre;overflow-x:auto;line-height:normal;font-family:Menlo,'DejaVu Sans Mono',consolas,'Courier New',monospace\">04:09:22.633 | <span style=\"color: #008080; text-decoration-color: #008080\">INFO</span>    | Flow run<span style=\"color: #800080; text-decoration-color: #800080\"> 'impressive-zebra'</span> - Created task run 'limit_by_child_keys-4238f776-0' for task 'limit_by_child_keys'\n",
       "</pre>\n"
      ],
      "text/plain": [
       "04:09:22.633 | \u001b[36mINFO\u001b[0m    | Flow run\u001b[35m 'impressive-zebra'\u001b[0m - Created task run 'limit_by_child_keys-4238f776-0' for task 'limit_by_child_keys'\n"
      ]
     },
     "metadata": {},
     "output_type": "display_data"
    },
    {
     "data": {
      "text/html": [
       "<pre style=\"white-space:pre;overflow-x:auto;line-height:normal;font-family:Menlo,'DejaVu Sans Mono',consolas,'Courier New',monospace\">04:09:22.635 | <span style=\"color: #008080; text-decoration-color: #008080\">INFO</span>    | Flow run<span style=\"color: #800080; text-decoration-color: #800080\"> 'impressive-zebra'</span> - Executing 'limit_by_child_keys-4238f776-0' immediately...\n",
       "</pre>\n"
      ],
      "text/plain": [
       "04:09:22.635 | \u001b[36mINFO\u001b[0m    | Flow run\u001b[35m 'impressive-zebra'\u001b[0m - Executing 'limit_by_child_keys-4238f776-0' immediately...\n"
      ]
     },
     "metadata": {},
     "output_type": "display_data"
    },
    {
     "data": {
      "text/html": [
       "<pre style=\"white-space:pre;overflow-x:auto;line-height:normal;font-family:Menlo,'DejaVu Sans Mono',consolas,'Courier New',monospace\">04:09:23.337 | <span style=\"color: #008080; text-decoration-color: #008080\">INFO</span>    | Task run 'limit_by_child_keys-4238f776-0' - Finished in state <span style=\"color: #008000; text-decoration-color: #008000\">Completed</span>()\n",
       "</pre>\n"
      ],
      "text/plain": [
       "04:09:23.337 | \u001b[36mINFO\u001b[0m    | Task run 'limit_by_child_keys-4238f776-0' - Finished in state \u001b[32mCompleted\u001b[0m()\n"
      ]
     },
     "metadata": {},
     "output_type": "display_data"
    },
    {
     "data": {
      "text/html": [
       "<pre style=\"white-space:pre;overflow-x:auto;line-height:normal;font-family:Menlo,'DejaVu Sans Mono',consolas,'Courier New',monospace\">04:09:23.362 | <span style=\"color: #008080; text-decoration-color: #008080\">INFO</span>    | Flow run<span style=\"color: #800080; text-decoration-color: #800080\"> 'impressive-zebra'</span> - Created task run 'limit_by_child_keys-4238f776-1' for task 'limit_by_child_keys'\n",
       "</pre>\n"
      ],
      "text/plain": [
       "04:09:23.362 | \u001b[36mINFO\u001b[0m    | Flow run\u001b[35m 'impressive-zebra'\u001b[0m - Created task run 'limit_by_child_keys-4238f776-1' for task 'limit_by_child_keys'\n"
      ]
     },
     "metadata": {},
     "output_type": "display_data"
    },
    {
     "data": {
      "text/html": [
       "<pre style=\"white-space:pre;overflow-x:auto;line-height:normal;font-family:Menlo,'DejaVu Sans Mono',consolas,'Courier New',monospace\">04:09:23.364 | <span style=\"color: #008080; text-decoration-color: #008080\">INFO</span>    | Flow run<span style=\"color: #800080; text-decoration-color: #800080\"> 'impressive-zebra'</span> - Executing 'limit_by_child_keys-4238f776-1' immediately...\n",
       "</pre>\n"
      ],
      "text/plain": [
       "04:09:23.364 | \u001b[36mINFO\u001b[0m    | Flow run\u001b[35m 'impressive-zebra'\u001b[0m - Executing 'limit_by_child_keys-4238f776-1' immediately...\n"
      ]
     },
     "metadata": {},
     "output_type": "display_data"
    },
    {
     "data": {
      "text/html": [
       "<pre style=\"white-space:pre;overflow-x:auto;line-height:normal;font-family:Menlo,'DejaVu Sans Mono',consolas,'Courier New',monospace\">04:09:23.586 | <span style=\"color: #008080; text-decoration-color: #008080\">INFO</span>    | Task run 'limit_by_child_keys-4238f776-1' - Finished in state <span style=\"color: #008000; text-decoration-color: #008000\">Completed</span>()\n",
       "</pre>\n"
      ],
      "text/plain": [
       "04:09:23.586 | \u001b[36mINFO\u001b[0m    | Task run 'limit_by_child_keys-4238f776-1' - Finished in state \u001b[32mCompleted\u001b[0m()\n"
      ]
     },
     "metadata": {},
     "output_type": "display_data"
    },
    {
     "data": {
      "text/html": [
       "<pre style=\"white-space:pre;overflow-x:auto;line-height:normal;font-family:Menlo,'DejaVu Sans Mono',consolas,'Courier New',monospace\">04:09:23.628 | <span style=\"color: #008080; text-decoration-color: #008080\">INFO</span>    | Flow run<span style=\"color: #800080; text-decoration-color: #800080\"> 'impressive-zebra'</span> - Created task run 'align_tracking_data-ea7afe30-0' for task 'align_tracking_data'\n",
       "</pre>\n"
      ],
      "text/plain": [
       "04:09:23.628 | \u001b[36mINFO\u001b[0m    | Flow run\u001b[35m 'impressive-zebra'\u001b[0m - Created task run 'align_tracking_data-ea7afe30-0' for task 'align_tracking_data'\n"
      ]
     },
     "metadata": {},
     "output_type": "display_data"
    },
    {
     "data": {
      "text/html": [
       "<pre style=\"white-space:pre;overflow-x:auto;line-height:normal;font-family:Menlo,'DejaVu Sans Mono',consolas,'Courier New',monospace\">04:09:23.631 | <span style=\"color: #008080; text-decoration-color: #008080\">INFO</span>    | Flow run<span style=\"color: #800080; text-decoration-color: #800080\"> 'impressive-zebra'</span> - Executing 'align_tracking_data-ea7afe30-0' immediately...\n",
       "</pre>\n"
      ],
      "text/plain": [
       "04:09:23.631 | \u001b[36mINFO\u001b[0m    | Flow run\u001b[35m 'impressive-zebra'\u001b[0m - Executing 'align_tracking_data-ea7afe30-0' immediately...\n"
      ]
     },
     "metadata": {},
     "output_type": "display_data"
    },
    {
     "data": {
      "text/html": [
       "<pre style=\"white-space:pre;overflow-x:auto;line-height:normal;font-family:Menlo,'DejaVu Sans Mono',consolas,'Courier New',monospace\">04:09:23.718 | <span style=\"color: #008080; text-decoration-color: #008080\">INFO</span>    | Task run 'align_tracking_data-ea7afe30-0' - Finished in state <span style=\"color: #008000; text-decoration-color: #008000\">Completed</span>()\n",
       "</pre>\n"
      ],
      "text/plain": [
       "04:09:23.718 | \u001b[36mINFO\u001b[0m    | Task run 'align_tracking_data-ea7afe30-0' - Finished in state \u001b[32mCompleted\u001b[0m()\n"
      ]
     },
     "metadata": {},
     "output_type": "display_data"
    },
    {
     "data": {
      "text/html": [
       "<pre style=\"white-space:pre;overflow-x:auto;line-height:normal;font-family:Menlo,'DejaVu Sans Mono',consolas,'Courier New',monospace\">04:09:23.745 | <span style=\"color: #008080; text-decoration-color: #008080\">INFO</span>    | Flow run<span style=\"color: #800080; text-decoration-color: #800080\"> 'impressive-zebra'</span> - Created task run 'rotate_tracking_data-13ea6cce-0' for task 'rotate_tracking_data'\n",
       "</pre>\n"
      ],
      "text/plain": [
       "04:09:23.745 | \u001b[36mINFO\u001b[0m    | Flow run\u001b[35m 'impressive-zebra'\u001b[0m - Created task run 'rotate_tracking_data-13ea6cce-0' for task 'rotate_tracking_data'\n"
      ]
     },
     "metadata": {},
     "output_type": "display_data"
    },
    {
     "data": {
      "text/html": [
       "<pre style=\"white-space:pre;overflow-x:auto;line-height:normal;font-family:Menlo,'DejaVu Sans Mono',consolas,'Courier New',monospace\">04:09:23.747 | <span style=\"color: #008080; text-decoration-color: #008080\">INFO</span>    | Flow run<span style=\"color: #800080; text-decoration-color: #800080\"> 'impressive-zebra'</span> - Executing 'rotate_tracking_data-13ea6cce-0' immediately...\n",
       "</pre>\n"
      ],
      "text/plain": [
       "04:09:23.747 | \u001b[36mINFO\u001b[0m    | Flow run\u001b[35m 'impressive-zebra'\u001b[0m - Executing 'rotate_tracking_data-13ea6cce-0' immediately...\n"
      ]
     },
     "metadata": {},
     "output_type": "display_data"
    },
    {
     "data": {
      "text/html": [
       "<pre style=\"white-space:pre;overflow-x:auto;line-height:normal;font-family:Menlo,'DejaVu Sans Mono',consolas,'Courier New',monospace\">04:09:23.817 | <span style=\"color: #008080; text-decoration-color: #008080\">INFO</span>    | Task run 'rotate_tracking_data-13ea6cce-0' - Finished in state <span style=\"color: #008000; text-decoration-color: #008000\">Completed</span>()\n",
       "</pre>\n"
      ],
      "text/plain": [
       "04:09:23.817 | \u001b[36mINFO\u001b[0m    | Task run 'rotate_tracking_data-13ea6cce-0' - Finished in state \u001b[32mCompleted\u001b[0m()\n"
      ]
     },
     "metadata": {},
     "output_type": "display_data"
    },
    {
     "data": {
      "text/html": [
       "<pre style=\"white-space:pre;overflow-x:auto;line-height:normal;font-family:Menlo,'DejaVu Sans Mono',consolas,'Courier New',monospace\">04:09:23.844 | <span style=\"color: #008080; text-decoration-color: #008080\">INFO</span>    | Flow run<span style=\"color: #800080; text-decoration-color: #800080\"> 'impressive-zebra'</span> - Created task run 'get_passer_out_of_pocket-98072e46-0' for task 'get_passer_out_of_pocket'\n",
       "</pre>\n"
      ],
      "text/plain": [
       "04:09:23.844 | \u001b[36mINFO\u001b[0m    | Flow run\u001b[35m 'impressive-zebra'\u001b[0m - Created task run 'get_passer_out_of_pocket-98072e46-0' for task 'get_passer_out_of_pocket'\n"
      ]
     },
     "metadata": {},
     "output_type": "display_data"
    },
    {
     "data": {
      "text/html": [
       "<pre style=\"white-space:pre;overflow-x:auto;line-height:normal;font-family:Menlo,'DejaVu Sans Mono',consolas,'Courier New',monospace\">04:09:23.846 | <span style=\"color: #008080; text-decoration-color: #008080\">INFO</span>    | Flow run<span style=\"color: #800080; text-decoration-color: #800080\"> 'impressive-zebra'</span> - Executing 'get_passer_out_of_pocket-98072e46-0' immediately...\n",
       "</pre>\n"
      ],
      "text/plain": [
       "04:09:23.846 | \u001b[36mINFO\u001b[0m    | Flow run\u001b[35m 'impressive-zebra'\u001b[0m - Executing 'get_passer_out_of_pocket-98072e46-0' immediately...\n"
      ]
     },
     "metadata": {},
     "output_type": "display_data"
    },
    {
     "data": {
      "text/html": [
       "<pre style=\"white-space:pre;overflow-x:auto;line-height:normal;font-family:Menlo,'DejaVu Sans Mono',consolas,'Courier New',monospace\">04:09:24.004 | <span style=\"color: #008080; text-decoration-color: #008080\">INFO</span>    | Task run 'get_passer_out_of_pocket-98072e46-0' - Finished in state <span style=\"color: #008000; text-decoration-color: #008000\">Completed</span>()\n",
       "</pre>\n"
      ],
      "text/plain": [
       "04:09:24.004 | \u001b[36mINFO\u001b[0m    | Task run 'get_passer_out_of_pocket-98072e46-0' - Finished in state \u001b[32mCompleted\u001b[0m()\n"
      ]
     },
     "metadata": {},
     "output_type": "display_data"
    },
    {
     "data": {
      "text/html": [
       "<pre style=\"white-space:pre;overflow-x:auto;line-height:normal;font-family:Menlo,'DejaVu Sans Mono',consolas,'Courier New',monospace\">04:09:24.034 | <span style=\"color: #008080; text-decoration-color: #008080\">INFO</span>    | Flow run<span style=\"color: #800080; text-decoration-color: #800080\"> 'impressive-zebra'</span> - Created task run 'clean_event_data-657c8302-0' for task 'clean_event_data'\n",
       "</pre>\n"
      ],
      "text/plain": [
       "04:09:24.034 | \u001b[36mINFO\u001b[0m    | Flow run\u001b[35m 'impressive-zebra'\u001b[0m - Created task run 'clean_event_data-657c8302-0' for task 'clean_event_data'\n"
      ]
     },
     "metadata": {},
     "output_type": "display_data"
    },
    {
     "data": {
      "text/html": [
       "<pre style=\"white-space:pre;overflow-x:auto;line-height:normal;font-family:Menlo,'DejaVu Sans Mono',consolas,'Courier New',monospace\">04:09:24.036 | <span style=\"color: #008080; text-decoration-color: #008080\">INFO</span>    | Flow run<span style=\"color: #800080; text-decoration-color: #800080\"> 'impressive-zebra'</span> - Executing 'clean_event_data-657c8302-0' immediately...\n",
       "</pre>\n"
      ],
      "text/plain": [
       "04:09:24.036 | \u001b[36mINFO\u001b[0m    | Flow run\u001b[35m 'impressive-zebra'\u001b[0m - Executing 'clean_event_data-657c8302-0' immediately...\n"
      ]
     },
     "metadata": {},
     "output_type": "display_data"
    },
    {
     "data": {
      "text/html": [
       "<pre style=\"white-space:pre;overflow-x:auto;line-height:normal;font-family:Menlo,'DejaVu Sans Mono',consolas,'Courier New',monospace\">04:09:24.135 | <span style=\"color: #008080; text-decoration-color: #008080\">INFO</span>    | Task run 'clean_event_data-657c8302-0' - Finished in state <span style=\"color: #008000; text-decoration-color: #008000\">Completed</span>()\n",
       "</pre>\n"
      ],
      "text/plain": [
       "04:09:24.135 | \u001b[36mINFO\u001b[0m    | Task run 'clean_event_data-657c8302-0' - Finished in state \u001b[32mCompleted\u001b[0m()\n"
      ]
     },
     "metadata": {},
     "output_type": "display_data"
    },
    {
     "data": {
      "text/html": [
       "<pre style=\"white-space:pre;overflow-x:auto;line-height:normal;font-family:Menlo,'DejaVu Sans Mono',consolas,'Courier New',monospace\">04:09:24.162 | <span style=\"color: #008080; text-decoration-color: #008080\">INFO</span>    | Flow run<span style=\"color: #800080; text-decoration-color: #800080\"> 'impressive-zebra'</span> - Created task run 'get_pocket_eligibility-6d653879-0' for task 'get_pocket_eligibility'\n",
       "</pre>\n"
      ],
      "text/plain": [
       "04:09:24.162 | \u001b[36mINFO\u001b[0m    | Flow run\u001b[35m 'impressive-zebra'\u001b[0m - Created task run 'get_pocket_eligibility-6d653879-0' for task 'get_pocket_eligibility'\n"
      ]
     },
     "metadata": {},
     "output_type": "display_data"
    },
    {
     "data": {
      "text/html": [
       "<pre style=\"white-space:pre;overflow-x:auto;line-height:normal;font-family:Menlo,'DejaVu Sans Mono',consolas,'Courier New',monospace\">04:09:24.164 | <span style=\"color: #008080; text-decoration-color: #008080\">INFO</span>    | Flow run<span style=\"color: #800080; text-decoration-color: #800080\"> 'impressive-zebra'</span> - Executing 'get_pocket_eligibility-6d653879-0' immediately...\n",
       "</pre>\n"
      ],
      "text/plain": [
       "04:09:24.164 | \u001b[36mINFO\u001b[0m    | Flow run\u001b[35m 'impressive-zebra'\u001b[0m - Executing 'get_pocket_eligibility-6d653879-0' immediately...\n"
      ]
     },
     "metadata": {},
     "output_type": "display_data"
    },
    {
     "data": {
      "text/html": [
       "<pre style=\"white-space:pre;overflow-x:auto;line-height:normal;font-family:Menlo,'DejaVu Sans Mono',consolas,'Courier New',monospace\">04:09:24.265 | <span style=\"color: #008080; text-decoration-color: #008080\">INFO</span>    | Task run 'get_pocket_eligibility-6d653879-0' - Finished in state <span style=\"color: #008000; text-decoration-color: #008000\">Completed</span>()\n",
       "</pre>\n"
      ],
      "text/plain": [
       "04:09:24.265 | \u001b[36mINFO\u001b[0m    | Task run 'get_pocket_eligibility-6d653879-0' - Finished in state \u001b[32mCompleted\u001b[0m()\n"
      ]
     },
     "metadata": {},
     "output_type": "display_data"
    },
    {
     "data": {
      "text/html": [
       "<pre style=\"white-space:pre;overflow-x:auto;line-height:normal;font-family:Menlo,'DejaVu Sans Mono',consolas,'Courier New',monospace\">04:09:24.294 | <span style=\"color: #008080; text-decoration-color: #008080\">INFO</span>    | Flow run<span style=\"color: #800080; text-decoration-color: #800080\"> 'impressive-zebra'</span> - Created task run 'augment_tracking_events-342a9dc3-0' for task 'augment_tracking_events'\n",
       "</pre>\n"
      ],
      "text/plain": [
       "04:09:24.294 | \u001b[36mINFO\u001b[0m    | Flow run\u001b[35m 'impressive-zebra'\u001b[0m - Created task run 'augment_tracking_events-342a9dc3-0' for task 'augment_tracking_events'\n"
      ]
     },
     "metadata": {},
     "output_type": "display_data"
    },
    {
     "data": {
      "text/html": [
       "<pre style=\"white-space:pre;overflow-x:auto;line-height:normal;font-family:Menlo,'DejaVu Sans Mono',consolas,'Courier New',monospace\">04:09:24.297 | <span style=\"color: #008080; text-decoration-color: #008080\">INFO</span>    | Flow run<span style=\"color: #800080; text-decoration-color: #800080\"> 'impressive-zebra'</span> - Executing 'augment_tracking_events-342a9dc3-0' immediately...\n",
       "</pre>\n"
      ],
      "text/plain": [
       "04:09:24.297 | \u001b[36mINFO\u001b[0m    | Flow run\u001b[35m 'impressive-zebra'\u001b[0m - Executing 'augment_tracking_events-342a9dc3-0' immediately...\n"
      ]
     },
     "metadata": {},
     "output_type": "display_data"
    },
    {
     "data": {
      "text/html": [
       "<pre style=\"white-space:pre;overflow-x:auto;line-height:normal;font-family:Menlo,'DejaVu Sans Mono',consolas,'Courier New',monospace\">04:09:24.376 | <span style=\"color: #008080; text-decoration-color: #008080\">INFO</span>    | Task run 'augment_tracking_events-342a9dc3-0' - Finished in state <span style=\"color: #008000; text-decoration-color: #008000\">Completed</span>()\n",
       "</pre>\n"
      ],
      "text/plain": [
       "04:09:24.376 | \u001b[36mINFO\u001b[0m    | Task run 'augment_tracking_events-342a9dc3-0' - Finished in state \u001b[32mCompleted\u001b[0m()\n"
      ]
     },
     "metadata": {},
     "output_type": "display_data"
    },
    {
     "data": {
      "text/html": [
       "<pre style=\"white-space:pre;overflow-x:auto;line-height:normal;font-family:Menlo,'DejaVu Sans Mono',consolas,'Courier New',monospace\">04:09:24.413 | <span style=\"color: #008080; text-decoration-color: #008080\">INFO</span>    | Flow run<span style=\"color: #800080; text-decoration-color: #800080\"> 'impressive-zebra'</span> - Created task run 'transform_to_tracking_display-0c78dc49-0' for task 'transform_to_tracking_display'\n",
       "</pre>\n"
      ],
      "text/plain": [
       "04:09:24.413 | \u001b[36mINFO\u001b[0m    | Flow run\u001b[35m 'impressive-zebra'\u001b[0m - Created task run 'transform_to_tracking_display-0c78dc49-0' for task 'transform_to_tracking_display'\n"
      ]
     },
     "metadata": {},
     "output_type": "display_data"
    },
    {
     "data": {
      "text/html": [
       "<pre style=\"white-space:pre;overflow-x:auto;line-height:normal;font-family:Menlo,'DejaVu Sans Mono',consolas,'Courier New',monospace\">04:09:24.415 | <span style=\"color: #008080; text-decoration-color: #008080\">INFO</span>    | Flow run<span style=\"color: #800080; text-decoration-color: #800080\"> 'impressive-zebra'</span> - Executing 'transform_to_tracking_display-0c78dc49-0' immediately...\n",
       "</pre>\n"
      ],
      "text/plain": [
       "04:09:24.415 | \u001b[36mINFO\u001b[0m    | Flow run\u001b[35m 'impressive-zebra'\u001b[0m - Executing 'transform_to_tracking_display-0c78dc49-0' immediately...\n"
      ]
     },
     "metadata": {},
     "output_type": "display_data"
    },
    {
     "data": {
      "text/html": [
       "<pre style=\"white-space:pre;overflow-x:auto;line-height:normal;font-family:Menlo,'DejaVu Sans Mono',consolas,'Courier New',monospace\">04:09:24.557 | <span style=\"color: #008080; text-decoration-color: #008080\">INFO</span>    | Task run 'transform_to_tracking_display-0c78dc49-0' - Finished in state <span style=\"color: #008000; text-decoration-color: #008000\">Completed</span>()\n",
       "</pre>\n"
      ],
      "text/plain": [
       "04:09:24.557 | \u001b[36mINFO\u001b[0m    | Task run 'transform_to_tracking_display-0c78dc49-0' - Finished in state \u001b[32mCompleted\u001b[0m()\n"
      ]
     },
     "metadata": {},
     "output_type": "display_data"
    },
    {
     "data": {
      "text/html": [
       "<pre style=\"white-space:pre;overflow-x:auto;line-height:normal;font-family:Menlo,'DejaVu Sans Mono',consolas,'Courier New',monospace\">04:09:24.584 | <span style=\"color: #008080; text-decoration-color: #008080\">INFO</span>    | Flow run<span style=\"color: #800080; text-decoration-color: #800080\"> 'impressive-zebra'</span> - Created task run 'transform_to_frames-3446c324-0' for task 'transform_to_frames'\n",
       "</pre>\n"
      ],
      "text/plain": [
       "04:09:24.584 | \u001b[36mINFO\u001b[0m    | Flow run\u001b[35m 'impressive-zebra'\u001b[0m - Created task run 'transform_to_frames-3446c324-0' for task 'transform_to_frames'\n"
      ]
     },
     "metadata": {},
     "output_type": "display_data"
    },
    {
     "data": {
      "text/html": [
       "<pre style=\"white-space:pre;overflow-x:auto;line-height:normal;font-family:Menlo,'DejaVu Sans Mono',consolas,'Courier New',monospace\">04:09:24.587 | <span style=\"color: #008080; text-decoration-color: #008080\">INFO</span>    | Flow run<span style=\"color: #800080; text-decoration-color: #800080\"> 'impressive-zebra'</span> - Executing 'transform_to_frames-3446c324-0' immediately...\n",
       "</pre>\n"
      ],
      "text/plain": [
       "04:09:24.587 | \u001b[36mINFO\u001b[0m    | Flow run\u001b[35m 'impressive-zebra'\u001b[0m - Executing 'transform_to_frames-3446c324-0' immediately...\n"
      ]
     },
     "metadata": {},
     "output_type": "display_data"
    },
    {
     "data": {
      "text/html": [
       "<pre style=\"white-space:pre;overflow-x:auto;line-height:normal;font-family:Menlo,'DejaVu Sans Mono',consolas,'Courier New',monospace\">04:09:24.776 | <span style=\"color: #008080; text-decoration-color: #008080\">INFO</span>    | Task run 'transform_to_frames-3446c324-0' - Finished in state <span style=\"color: #008000; text-decoration-color: #008000\">Completed</span>()\n",
       "</pre>\n"
      ],
      "text/plain": [
       "04:09:24.776 | \u001b[36mINFO\u001b[0m    | Task run 'transform_to_frames-3446c324-0' - Finished in state \u001b[32mCompleted\u001b[0m()\n"
      ]
     },
     "metadata": {},
     "output_type": "display_data"
    },
    {
     "data": {
      "text/html": [
       "<pre style=\"white-space:pre;overflow-x:auto;line-height:normal;font-family:Menlo,'DejaVu Sans Mono',consolas,'Courier New',monospace\">04:09:24.810 | <span style=\"color: #008080; text-decoration-color: #008080\">INFO</span>    | Flow run<span style=\"color: #800080; text-decoration-color: #800080\"> 'impressive-zebra'</span> - Created task run 'transform_to_records_per_frame-823b8998-0' for task 'transform_to_records_per_frame'\n",
       "</pre>\n"
      ],
      "text/plain": [
       "04:09:24.810 | \u001b[36mINFO\u001b[0m    | Flow run\u001b[35m 'impressive-zebra'\u001b[0m - Created task run 'transform_to_records_per_frame-823b8998-0' for task 'transform_to_records_per_frame'\n"
      ]
     },
     "metadata": {},
     "output_type": "display_data"
    },
    {
     "data": {
      "text/html": [
       "<pre style=\"white-space:pre;overflow-x:auto;line-height:normal;font-family:Menlo,'DejaVu Sans Mono',consolas,'Courier New',monospace\">04:09:24.812 | <span style=\"color: #008080; text-decoration-color: #008080\">INFO</span>    | Flow run<span style=\"color: #800080; text-decoration-color: #800080\"> 'impressive-zebra'</span> - Executing 'transform_to_records_per_frame-823b8998-0' immediately...\n",
       "</pre>\n"
      ],
      "text/plain": [
       "04:09:24.812 | \u001b[36mINFO\u001b[0m    | Flow run\u001b[35m 'impressive-zebra'\u001b[0m - Executing 'transform_to_records_per_frame-823b8998-0' immediately...\n"
      ]
     },
     "metadata": {},
     "output_type": "display_data"
    },
    {
     "data": {
      "text/html": [
       "<pre style=\"white-space:pre;overflow-x:auto;line-height:normal;font-family:Menlo,'DejaVu Sans Mono',consolas,'Courier New',monospace\">04:09:24.943 | <span style=\"color: #008080; text-decoration-color: #008080\">INFO</span>    | Task run 'transform_to_records_per_frame-823b8998-0' - Finished in state <span style=\"color: #008000; text-decoration-color: #008000\">Completed</span>()\n",
       "</pre>\n"
      ],
      "text/plain": [
       "04:09:24.943 | \u001b[36mINFO\u001b[0m    | Task run 'transform_to_records_per_frame-823b8998-0' - Finished in state \u001b[32mCompleted\u001b[0m()\n"
      ]
     },
     "metadata": {},
     "output_type": "display_data"
    },
    {
     "data": {
      "text/html": [
       "<pre style=\"white-space:pre;overflow-x:auto;line-height:normal;font-family:Menlo,'DejaVu Sans Mono',consolas,'Courier New',monospace\">04:09:25.003 | <span style=\"color: #008080; text-decoration-color: #008080\">INFO</span>    | Flow run<span style=\"color: #800080; text-decoration-color: #800080\"> 'impressive-zebra'</span> - Created task run 'calculate_pocket_area-cc18ef62-3' for task 'calculate_pocket_area'\n",
       "</pre>\n"
      ],
      "text/plain": [
       "04:09:25.003 | \u001b[36mINFO\u001b[0m    | Flow run\u001b[35m 'impressive-zebra'\u001b[0m - Created task run 'calculate_pocket_area-cc18ef62-3' for task 'calculate_pocket_area'\n"
      ]
     },
     "metadata": {},
     "output_type": "display_data"
    },
    {
     "data": {
      "text/html": [
       "<pre style=\"white-space:pre;overflow-x:auto;line-height:normal;font-family:Menlo,'DejaVu Sans Mono',consolas,'Courier New',monospace\">04:09:25.006 | <span style=\"color: #008080; text-decoration-color: #008080\">INFO</span>    | Flow run<span style=\"color: #800080; text-decoration-color: #800080\"> 'impressive-zebra'</span> - Submitted task run 'calculate_pocket_area-cc18ef62-3' for execution.\n",
       "</pre>\n"
      ],
      "text/plain": [
       "04:09:25.006 | \u001b[36mINFO\u001b[0m    | Flow run\u001b[35m 'impressive-zebra'\u001b[0m - Submitted task run 'calculate_pocket_area-cc18ef62-3' for execution.\n"
      ]
     },
     "metadata": {},
     "output_type": "display_data"
    },
    {
     "data": {
      "text/html": [
       "<pre style=\"white-space:pre;overflow-x:auto;line-height:normal;font-family:Menlo,'DejaVu Sans Mono',consolas,'Courier New',monospace\">04:09:25.030 | <span style=\"color: #008080; text-decoration-color: #008080\">INFO</span>    | Flow run<span style=\"color: #800080; text-decoration-color: #800080\"> 'impressive-zebra'</span> - Created task run 'calculate_pocket_area-cc18ef62-1' for task 'calculate_pocket_area'\n",
       "</pre>\n"
      ],
      "text/plain": [
       "04:09:25.030 | \u001b[36mINFO\u001b[0m    | Flow run\u001b[35m 'impressive-zebra'\u001b[0m - Created task run 'calculate_pocket_area-cc18ef62-1' for task 'calculate_pocket_area'\n"
      ]
     },
     "metadata": {},
     "output_type": "display_data"
    },
    {
     "data": {
      "text/html": [
       "<pre style=\"white-space:pre;overflow-x:auto;line-height:normal;font-family:Menlo,'DejaVu Sans Mono',consolas,'Courier New',monospace\">04:09:25.033 | <span style=\"color: #008080; text-decoration-color: #008080\">INFO</span>    | Flow run<span style=\"color: #800080; text-decoration-color: #800080\"> 'impressive-zebra'</span> - Submitted task run 'calculate_pocket_area-cc18ef62-1' for execution.\n",
       "</pre>\n"
      ],
      "text/plain": [
       "04:09:25.033 | \u001b[36mINFO\u001b[0m    | Flow run\u001b[35m 'impressive-zebra'\u001b[0m - Submitted task run 'calculate_pocket_area-cc18ef62-1' for execution.\n"
      ]
     },
     "metadata": {},
     "output_type": "display_data"
    },
    {
     "data": {
      "text/html": [
       "<pre style=\"white-space:pre;overflow-x:auto;line-height:normal;font-family:Menlo,'DejaVu Sans Mono',consolas,'Courier New',monospace\">04:09:25.064 | <span style=\"color: #008080; text-decoration-color: #008080\">INFO</span>    | Flow run<span style=\"color: #800080; text-decoration-color: #800080\"> 'impressive-zebra'</span> - Created task run 'calculate_pocket_area-cc18ef62-0' for task 'calculate_pocket_area'\n",
       "</pre>\n"
      ],
      "text/plain": [
       "04:09:25.064 | \u001b[36mINFO\u001b[0m    | Flow run\u001b[35m 'impressive-zebra'\u001b[0m - Created task run 'calculate_pocket_area-cc18ef62-0' for task 'calculate_pocket_area'\n"
      ]
     },
     "metadata": {},
     "output_type": "display_data"
    },
    {
     "data": {
      "text/html": [
       "<pre style=\"white-space:pre;overflow-x:auto;line-height:normal;font-family:Menlo,'DejaVu Sans Mono',consolas,'Courier New',monospace\">04:09:25.066 | <span style=\"color: #008080; text-decoration-color: #008080\">INFO</span>    | Flow run<span style=\"color: #800080; text-decoration-color: #800080\"> 'impressive-zebra'</span> - Submitted task run 'calculate_pocket_area-cc18ef62-0' for execution.\n",
       "</pre>\n"
      ],
      "text/plain": [
       "04:09:25.066 | \u001b[36mINFO\u001b[0m    | Flow run\u001b[35m 'impressive-zebra'\u001b[0m - Submitted task run 'calculate_pocket_area-cc18ef62-0' for execution.\n"
      ]
     },
     "metadata": {},
     "output_type": "display_data"
    },
    {
     "data": {
      "text/html": [
       "<pre style=\"white-space:pre;overflow-x:auto;line-height:normal;font-family:Menlo,'DejaVu Sans Mono',consolas,'Courier New',monospace\">04:09:25.122 | <span style=\"color: #008080; text-decoration-color: #008080\">INFO</span>    | Flow run<span style=\"color: #800080; text-decoration-color: #800080\"> 'impressive-zebra'</span> - Created task run 'calculate_pocket_area-cc18ef62-2' for task 'calculate_pocket_area'\n",
       "</pre>\n"
      ],
      "text/plain": [
       "04:09:25.122 | \u001b[36mINFO\u001b[0m    | Flow run\u001b[35m 'impressive-zebra'\u001b[0m - Created task run 'calculate_pocket_area-cc18ef62-2' for task 'calculate_pocket_area'\n"
      ]
     },
     "metadata": {},
     "output_type": "display_data"
    },
    {
     "data": {
      "text/html": [
       "<pre style=\"white-space:pre;overflow-x:auto;line-height:normal;font-family:Menlo,'DejaVu Sans Mono',consolas,'Courier New',monospace\">04:09:25.126 | <span style=\"color: #008080; text-decoration-color: #008080\">INFO</span>    | Flow run<span style=\"color: #800080; text-decoration-color: #800080\"> 'impressive-zebra'</span> - Submitted task run 'calculate_pocket_area-cc18ef62-2' for execution.\n",
       "</pre>\n"
      ],
      "text/plain": [
       "04:09:25.126 | \u001b[36mINFO\u001b[0m    | Flow run\u001b[35m 'impressive-zebra'\u001b[0m - Submitted task run 'calculate_pocket_area-cc18ef62-2' for execution.\n"
      ]
     },
     "metadata": {},
     "output_type": "display_data"
    },
    {
     "data": {
      "text/html": [
       "<pre style=\"white-space:pre;overflow-x:auto;line-height:normal;font-family:Menlo,'DejaVu Sans Mono',consolas,'Courier New',monospace\">04:09:25.281 | <span style=\"color: #008080; text-decoration-color: #008080\">INFO</span>    | Flow run<span style=\"color: #800080; text-decoration-color: #800080\"> 'impressive-zebra'</span> - Created task run 'union_dataframes-8a4e3d8f-0' for task 'union_dataframes'\n",
       "</pre>\n"
      ],
      "text/plain": [
       "04:09:25.281 | \u001b[36mINFO\u001b[0m    | Flow run\u001b[35m 'impressive-zebra'\u001b[0m - Created task run 'union_dataframes-8a4e3d8f-0' for task 'union_dataframes'\n"
      ]
     },
     "metadata": {},
     "output_type": "display_data"
    },
    {
     "data": {
      "text/html": [
       "<pre style=\"white-space:pre;overflow-x:auto;line-height:normal;font-family:Menlo,'DejaVu Sans Mono',consolas,'Courier New',monospace\">04:09:25.317 | <span style=\"color: #008080; text-decoration-color: #008080\">INFO</span>    | Flow run<span style=\"color: #800080; text-decoration-color: #800080\"> 'impressive-zebra'</span> - Executing 'union_dataframes-8a4e3d8f-0' immediately...\n",
       "</pre>\n"
      ],
      "text/plain": [
       "04:09:25.317 | \u001b[36mINFO\u001b[0m    | Flow run\u001b[35m 'impressive-zebra'\u001b[0m - Executing 'union_dataframes-8a4e3d8f-0' immediately...\n"
      ]
     },
     "metadata": {},
     "output_type": "display_data"
    },
    {
     "data": {
      "text/html": [
       "<pre style=\"white-space:pre;overflow-x:auto;line-height:normal;font-family:Menlo,'DejaVu Sans Mono',consolas,'Courier New',monospace\">04:09:25.380 | <span style=\"color: #008080; text-decoration-color: #008080\">INFO</span>    | Task run 'calculate_pocket_area-cc18ef62-0' - Finished in state <span style=\"color: #008000; text-decoration-color: #008000\">Completed</span>()\n",
       "</pre>\n"
      ],
      "text/plain": [
       "04:09:25.380 | \u001b[36mINFO\u001b[0m    | Task run 'calculate_pocket_area-cc18ef62-0' - Finished in state \u001b[32mCompleted\u001b[0m()\n"
      ]
     },
     "metadata": {},
     "output_type": "display_data"
    },
    {
     "data": {
      "text/html": [
       "<pre style=\"white-space:pre;overflow-x:auto;line-height:normal;font-family:Menlo,'DejaVu Sans Mono',consolas,'Courier New',monospace\">04:09:26.937 | <span style=\"color: #008080; text-decoration-color: #008080\">INFO</span>    | Task run 'calculate_pocket_area-cc18ef62-1' - Finished in state <span style=\"color: #008000; text-decoration-color: #008000\">Completed</span>()\n",
       "</pre>\n"
      ],
      "text/plain": [
       "04:09:26.937 | \u001b[36mINFO\u001b[0m    | Task run 'calculate_pocket_area-cc18ef62-1' - Finished in state \u001b[32mCompleted\u001b[0m()\n"
      ]
     },
     "metadata": {},
     "output_type": "display_data"
    },
    {
     "data": {
      "text/html": [
       "<pre style=\"white-space:pre;overflow-x:auto;line-height:normal;font-family:Menlo,'DejaVu Sans Mono',consolas,'Courier New',monospace\">04:09:27.004 | <span style=\"color: #008080; text-decoration-color: #008080\">INFO</span>    | Task run 'calculate_pocket_area-cc18ef62-3' - Finished in state <span style=\"color: #008000; text-decoration-color: #008000\">Completed</span>()\n",
       "</pre>\n"
      ],
      "text/plain": [
       "04:09:27.004 | \u001b[36mINFO\u001b[0m    | Task run 'calculate_pocket_area-cc18ef62-3' - Finished in state \u001b[32mCompleted\u001b[0m()\n"
      ]
     },
     "metadata": {},
     "output_type": "display_data"
    },
    {
     "data": {
      "text/html": [
       "<pre style=\"white-space:pre;overflow-x:auto;line-height:normal;font-family:Menlo,'DejaVu Sans Mono',consolas,'Courier New',monospace\">04:09:27.074 | <span style=\"color: #008080; text-decoration-color: #008080\">INFO</span>    | Task run 'calculate_pocket_area-cc18ef62-2' - Finished in state <span style=\"color: #008000; text-decoration-color: #008000\">Completed</span>()\n",
       "</pre>\n"
      ],
      "text/plain": [
       "04:09:27.074 | \u001b[36mINFO\u001b[0m    | Task run 'calculate_pocket_area-cc18ef62-2' - Finished in state \u001b[32mCompleted\u001b[0m()\n"
      ]
     },
     "metadata": {},
     "output_type": "display_data"
    },
    {
     "data": {
      "text/html": [
       "<pre style=\"white-space:pre;overflow-x:auto;line-height:normal;font-family:Menlo,'DejaVu Sans Mono',consolas,'Courier New',monospace\">04:09:27.141 | <span style=\"color: #008080; text-decoration-color: #008080\">INFO</span>    | Task run 'union_dataframes-8a4e3d8f-0' - Finished in state <span style=\"color: #008000; text-decoration-color: #008000\">Completed</span>()\n",
       "</pre>\n"
      ],
      "text/plain": [
       "04:09:27.141 | \u001b[36mINFO\u001b[0m    | Task run 'union_dataframes-8a4e3d8f-0' - Finished in state \u001b[32mCompleted\u001b[0m()\n"
      ]
     },
     "metadata": {},
     "output_type": "display_data"
    },
    {
     "data": {
      "text/html": [
       "<pre style=\"white-space:pre;overflow-x:auto;line-height:normal;font-family:Menlo,'DejaVu Sans Mono',consolas,'Courier New',monospace\">04:09:27.168 | <span style=\"color: #008080; text-decoration-color: #008080\">INFO</span>    | Flow run<span style=\"color: #800080; text-decoration-color: #800080\"> 'impressive-zebra'</span> - Created task run 'get_frames_for_time_windows-182f3eb1-0' for task 'get_frames_for_time_windows'\n",
       "</pre>\n"
      ],
      "text/plain": [
       "04:09:27.168 | \u001b[36mINFO\u001b[0m    | Flow run\u001b[35m 'impressive-zebra'\u001b[0m - Created task run 'get_frames_for_time_windows-182f3eb1-0' for task 'get_frames_for_time_windows'\n"
      ]
     },
     "metadata": {},
     "output_type": "display_data"
    },
    {
     "data": {
      "text/html": [
       "<pre style=\"white-space:pre;overflow-x:auto;line-height:normal;font-family:Menlo,'DejaVu Sans Mono',consolas,'Courier New',monospace\">04:09:27.170 | <span style=\"color: #008080; text-decoration-color: #008080\">INFO</span>    | Flow run<span style=\"color: #800080; text-decoration-color: #800080\"> 'impressive-zebra'</span> - Executing 'get_frames_for_time_windows-182f3eb1-0' immediately...\n",
       "</pre>\n"
      ],
      "text/plain": [
       "04:09:27.170 | \u001b[36mINFO\u001b[0m    | Flow run\u001b[35m 'impressive-zebra'\u001b[0m - Executing 'get_frames_for_time_windows-182f3eb1-0' immediately...\n"
      ]
     },
     "metadata": {},
     "output_type": "display_data"
    },
    {
     "data": {
      "text/html": [
       "<pre style=\"white-space:pre;overflow-x:auto;line-height:normal;font-family:Menlo,'DejaVu Sans Mono',consolas,'Courier New',monospace\">04:09:27.267 | <span style=\"color: #008080; text-decoration-color: #008080\">INFO</span>    | Task run 'get_frames_for_time_windows-182f3eb1-0' - Finished in state <span style=\"color: #008000; text-decoration-color: #008000\">Completed</span>()\n",
       "</pre>\n"
      ],
      "text/plain": [
       "04:09:27.267 | \u001b[36mINFO\u001b[0m    | Task run 'get_frames_for_time_windows-182f3eb1-0' - Finished in state \u001b[32mCompleted\u001b[0m()\n"
      ]
     },
     "metadata": {},
     "output_type": "display_data"
    },
    {
     "data": {
      "text/html": [
       "<pre style=\"white-space:pre;overflow-x:auto;line-height:normal;font-family:Menlo,'DejaVu Sans Mono',consolas,'Courier New',monospace\">04:09:27.293 | <span style=\"color: #008080; text-decoration-color: #008080\">INFO</span>    | Flow run<span style=\"color: #800080; text-decoration-color: #800080\"> 'impressive-zebra'</span> - Created task run 'get_play_pocket_metrics-c9059079-0' for task 'get_play_pocket_metrics'\n",
       "</pre>\n"
      ],
      "text/plain": [
       "04:09:27.293 | \u001b[36mINFO\u001b[0m    | Flow run\u001b[35m 'impressive-zebra'\u001b[0m - Created task run 'get_play_pocket_metrics-c9059079-0' for task 'get_play_pocket_metrics'\n"
      ]
     },
     "metadata": {},
     "output_type": "display_data"
    },
    {
     "data": {
      "text/html": [
       "<pre style=\"white-space:pre;overflow-x:auto;line-height:normal;font-family:Menlo,'DejaVu Sans Mono',consolas,'Courier New',monospace\">04:09:27.295 | <span style=\"color: #008080; text-decoration-color: #008080\">INFO</span>    | Flow run<span style=\"color: #800080; text-decoration-color: #800080\"> 'impressive-zebra'</span> - Executing 'get_play_pocket_metrics-c9059079-0' immediately...\n",
       "</pre>\n"
      ],
      "text/plain": [
       "04:09:27.295 | \u001b[36mINFO\u001b[0m    | Flow run\u001b[35m 'impressive-zebra'\u001b[0m - Executing 'get_play_pocket_metrics-c9059079-0' immediately...\n"
      ]
     },
     "metadata": {},
     "output_type": "display_data"
    },
    {
     "data": {
      "text/html": [
       "<pre style=\"white-space:pre;overflow-x:auto;line-height:normal;font-family:Menlo,'DejaVu Sans Mono',consolas,'Courier New',monospace\">04:09:27.383 | <span style=\"color: #008080; text-decoration-color: #008080\">INFO</span>    | Task run 'get_play_pocket_metrics-c9059079-0' - Finished in state <span style=\"color: #008000; text-decoration-color: #008000\">Completed</span>()\n",
       "</pre>\n"
      ],
      "text/plain": [
       "04:09:27.383 | \u001b[36mINFO\u001b[0m    | Task run 'get_play_pocket_metrics-c9059079-0' - Finished in state \u001b[32mCompleted\u001b[0m()\n"
      ]
     },
     "metadata": {},
     "output_type": "display_data"
    },
    {
     "data": {
      "text/html": [
       "<pre style=\"white-space:pre;overflow-x:auto;line-height:normal;font-family:Menlo,'DejaVu Sans Mono',consolas,'Courier New',monospace\">04:09:27.421 | <span style=\"color: #008080; text-decoration-color: #008080\">INFO</span>    | Flow run<span style=\"color: #800080; text-decoration-color: #800080\"> 'impressive-zebra'</span> - Created task run 'calculate_average_pocket_area_loss_per_second-c688e278-0' for task 'calculate_average_pocket_area_loss_per_second'\n",
       "</pre>\n"
      ],
      "text/plain": [
       "04:09:27.421 | \u001b[36mINFO\u001b[0m    | Flow run\u001b[35m 'impressive-zebra'\u001b[0m - Created task run 'calculate_average_pocket_area_loss_per_second-c688e278-0' for task 'calculate_average_pocket_area_loss_per_second'\n"
      ]
     },
     "metadata": {},
     "output_type": "display_data"
    },
    {
     "data": {
      "text/html": [
       "<pre style=\"white-space:pre;overflow-x:auto;line-height:normal;font-family:Menlo,'DejaVu Sans Mono',consolas,'Courier New',monospace\">04:09:27.423 | <span style=\"color: #008080; text-decoration-color: #008080\">INFO</span>    | Flow run<span style=\"color: #800080; text-decoration-color: #800080\"> 'impressive-zebra'</span> - Executing 'calculate_average_pocket_area_loss_per_second-c688e278-0' immediately...\n",
       "</pre>\n"
      ],
      "text/plain": [
       "04:09:27.423 | \u001b[36mINFO\u001b[0m    | Flow run\u001b[35m 'impressive-zebra'\u001b[0m - Executing 'calculate_average_pocket_area_loss_per_second-c688e278-0' immediately...\n"
      ]
     },
     "metadata": {},
     "output_type": "display_data"
    },
    {
     "data": {
      "text/html": [
       "<pre style=\"white-space:pre;overflow-x:auto;line-height:normal;font-family:Menlo,'DejaVu Sans Mono',consolas,'Courier New',monospace\">04:09:27.486 | <span style=\"color: #008080; text-decoration-color: #008080\">INFO</span>    | Task run 'calculate_average_pocket_area_loss_per_second-c688e278-0' - Finished in state <span style=\"color: #008000; text-decoration-color: #008000\">Completed</span>()\n",
       "</pre>\n"
      ],
      "text/plain": [
       "04:09:27.486 | \u001b[36mINFO\u001b[0m    | Task run 'calculate_average_pocket_area_loss_per_second-c688e278-0' - Finished in state \u001b[32mCompleted\u001b[0m()\n"
      ]
     },
     "metadata": {},
     "output_type": "display_data"
    },
    {
     "data": {
      "text/html": [
       "<pre style=\"white-space:pre;overflow-x:auto;line-height:normal;font-family:Menlo,'DejaVu Sans Mono',consolas,'Courier New',monospace\">04:09:27.521 | <span style=\"color: #008080; text-decoration-color: #008080\">INFO</span>    | Flow run<span style=\"color: #800080; text-decoration-color: #800080\"> 'impressive-zebra'</span> - Created task run 'write_csv-386fe2af-0' for task 'write_csv'\n",
       "</pre>\n"
      ],
      "text/plain": [
       "04:09:27.521 | \u001b[36mINFO\u001b[0m    | Flow run\u001b[35m 'impressive-zebra'\u001b[0m - Created task run 'write_csv-386fe2af-0' for task 'write_csv'\n"
      ]
     },
     "metadata": {},
     "output_type": "display_data"
    },
    {
     "data": {
      "text/html": [
       "<pre style=\"white-space:pre;overflow-x:auto;line-height:normal;font-family:Menlo,'DejaVu Sans Mono',consolas,'Courier New',monospace\">04:09:27.524 | <span style=\"color: #008080; text-decoration-color: #008080\">INFO</span>    | Flow run<span style=\"color: #800080; text-decoration-color: #800080\"> 'impressive-zebra'</span> - Executing 'write_csv-386fe2af-0' immediately...\n",
       "</pre>\n"
      ],
      "text/plain": [
       "04:09:27.524 | \u001b[36mINFO\u001b[0m    | Flow run\u001b[35m 'impressive-zebra'\u001b[0m - Executing 'write_csv-386fe2af-0' immediately...\n"
      ]
     },
     "metadata": {},
     "output_type": "display_data"
    },
    {
     "data": {
      "text/html": [
       "<pre style=\"white-space:pre;overflow-x:auto;line-height:normal;font-family:Menlo,'DejaVu Sans Mono',consolas,'Courier New',monospace\">04:09:27.801 | <span style=\"color: #008080; text-decoration-color: #008080\">INFO</span>    | Task run 'write_csv-386fe2af-0' - Finished in state <span style=\"color: #008000; text-decoration-color: #008000\">Completed</span>()\n",
       "</pre>\n"
      ],
      "text/plain": [
       "04:09:27.801 | \u001b[36mINFO\u001b[0m    | Task run 'write_csv-386fe2af-0' - Finished in state \u001b[32mCompleted\u001b[0m()\n"
      ]
     },
     "metadata": {},
     "output_type": "display_data"
    },
    {
     "data": {
      "text/html": [
       "<pre style=\"white-space:pre;overflow-x:auto;line-height:normal;font-family:Menlo,'DejaVu Sans Mono',consolas,'Courier New',monospace\">04:09:27.849 | <span style=\"color: #008080; text-decoration-color: #008080\">INFO</span>    | Flow run<span style=\"color: #800080; text-decoration-color: #800080\"> 'impressive-zebra'</span> - Created task run 'write_csv-386fe2af-1' for task 'write_csv'\n",
       "</pre>\n"
      ],
      "text/plain": [
       "04:09:27.849 | \u001b[36mINFO\u001b[0m    | Flow run\u001b[35m 'impressive-zebra'\u001b[0m - Created task run 'write_csv-386fe2af-1' for task 'write_csv'\n"
      ]
     },
     "metadata": {},
     "output_type": "display_data"
    },
    {
     "data": {
      "text/html": [
       "<pre style=\"white-space:pre;overflow-x:auto;line-height:normal;font-family:Menlo,'DejaVu Sans Mono',consolas,'Courier New',monospace\">04:09:27.851 | <span style=\"color: #008080; text-decoration-color: #008080\">INFO</span>    | Flow run<span style=\"color: #800080; text-decoration-color: #800080\"> 'impressive-zebra'</span> - Executing 'write_csv-386fe2af-1' immediately...\n",
       "</pre>\n"
      ],
      "text/plain": [
       "04:09:27.851 | \u001b[36mINFO\u001b[0m    | Flow run\u001b[35m 'impressive-zebra'\u001b[0m - Executing 'write_csv-386fe2af-1' immediately...\n"
      ]
     },
     "metadata": {},
     "output_type": "display_data"
    },
    {
     "data": {
      "text/html": [
       "<pre style=\"white-space:pre;overflow-x:auto;line-height:normal;font-family:Menlo,'DejaVu Sans Mono',consolas,'Courier New',monospace\">04:09:27.923 | <span style=\"color: #008080; text-decoration-color: #008080\">INFO</span>    | Task run 'write_csv-386fe2af-1' - Finished in state <span style=\"color: #008000; text-decoration-color: #008000\">Completed</span>()\n",
       "</pre>\n"
      ],
      "text/plain": [
       "04:09:27.923 | \u001b[36mINFO\u001b[0m    | Task run 'write_csv-386fe2af-1' - Finished in state \u001b[32mCompleted\u001b[0m()\n"
      ]
     },
     "metadata": {},
     "output_type": "display_data"
    },
    {
     "data": {
      "text/html": [
       "<pre style=\"white-space:pre;overflow-x:auto;line-height:normal;font-family:Menlo,'DejaVu Sans Mono',consolas,'Courier New',monospace\">04:09:27.950 | <span style=\"color: #008080; text-decoration-color: #008080\">INFO</span>    | Flow run<span style=\"color: #800080; text-decoration-color: #800080\"> 'impressive-zebra'</span> - Created task run 'write_csv-386fe2af-2' for task 'write_csv'\n",
       "</pre>\n"
      ],
      "text/plain": [
       "04:09:27.950 | \u001b[36mINFO\u001b[0m    | Flow run\u001b[35m 'impressive-zebra'\u001b[0m - Created task run 'write_csv-386fe2af-2' for task 'write_csv'\n"
      ]
     },
     "metadata": {},
     "output_type": "display_data"
    },
    {
     "data": {
      "text/html": [
       "<pre style=\"white-space:pre;overflow-x:auto;line-height:normal;font-family:Menlo,'DejaVu Sans Mono',consolas,'Courier New',monospace\">04:09:27.952 | <span style=\"color: #008080; text-decoration-color: #008080\">INFO</span>    | Flow run<span style=\"color: #800080; text-decoration-color: #800080\"> 'impressive-zebra'</span> - Executing 'write_csv-386fe2af-2' immediately...\n",
       "</pre>\n"
      ],
      "text/plain": [
       "04:09:27.952 | \u001b[36mINFO\u001b[0m    | Flow run\u001b[35m 'impressive-zebra'\u001b[0m - Executing 'write_csv-386fe2af-2' immediately...\n"
      ]
     },
     "metadata": {},
     "output_type": "display_data"
    },
    {
     "data": {
      "text/html": [
       "<pre style=\"white-space:pre;overflow-x:auto;line-height:normal;font-family:Menlo,'DejaVu Sans Mono',consolas,'Courier New',monospace\">04:09:28.212 | <span style=\"color: #008080; text-decoration-color: #008080\">INFO</span>    | Task run 'write_csv-386fe2af-2' - Finished in state <span style=\"color: #008000; text-decoration-color: #008000\">Completed</span>()\n",
       "</pre>\n"
      ],
      "text/plain": [
       "04:09:28.212 | \u001b[36mINFO\u001b[0m    | Task run 'write_csv-386fe2af-2' - Finished in state \u001b[32mCompleted\u001b[0m()\n"
      ]
     },
     "metadata": {},
     "output_type": "display_data"
    },
    {
     "data": {
      "text/html": [
       "<pre style=\"white-space:pre;overflow-x:auto;line-height:normal;font-family:Menlo,'DejaVu Sans Mono',consolas,'Courier New',monospace\">04:09:28.238 | <span style=\"color: #008080; text-decoration-color: #008080\">INFO</span>    | Flow run<span style=\"color: #800080; text-decoration-color: #800080\"> 'impressive-zebra'</span> - Created task run 'write_csv-386fe2af-3' for task 'write_csv'\n",
       "</pre>\n"
      ],
      "text/plain": [
       "04:09:28.238 | \u001b[36mINFO\u001b[0m    | Flow run\u001b[35m 'impressive-zebra'\u001b[0m - Created task run 'write_csv-386fe2af-3' for task 'write_csv'\n"
      ]
     },
     "metadata": {},
     "output_type": "display_data"
    },
    {
     "data": {
      "text/html": [
       "<pre style=\"white-space:pre;overflow-x:auto;line-height:normal;font-family:Menlo,'DejaVu Sans Mono',consolas,'Courier New',monospace\">04:09:28.241 | <span style=\"color: #008080; text-decoration-color: #008080\">INFO</span>    | Flow run<span style=\"color: #800080; text-decoration-color: #800080\"> 'impressive-zebra'</span> - Executing 'write_csv-386fe2af-3' immediately...\n",
       "</pre>\n"
      ],
      "text/plain": [
       "04:09:28.241 | \u001b[36mINFO\u001b[0m    | Flow run\u001b[35m 'impressive-zebra'\u001b[0m - Executing 'write_csv-386fe2af-3' immediately...\n"
      ]
     },
     "metadata": {},
     "output_type": "display_data"
    },
    {
     "data": {
      "text/html": [
       "<pre style=\"white-space:pre;overflow-x:auto;line-height:normal;font-family:Menlo,'DejaVu Sans Mono',consolas,'Courier New',monospace\">04:09:28.378 | <span style=\"color: #008080; text-decoration-color: #008080\">INFO</span>    | Task run 'write_csv-386fe2af-3' - Finished in state <span style=\"color: #008000; text-decoration-color: #008000\">Completed</span>()\n",
       "</pre>\n"
      ],
      "text/plain": [
       "04:09:28.378 | \u001b[36mINFO\u001b[0m    | Task run 'write_csv-386fe2af-3' - Finished in state \u001b[32mCompleted\u001b[0m()\n"
      ]
     },
     "metadata": {},
     "output_type": "display_data"
    },
    {
     "data": {
      "text/html": [
       "<pre style=\"white-space:pre;overflow-x:auto;line-height:normal;font-family:Menlo,'DejaVu Sans Mono',consolas,'Courier New',monospace\">04:09:28.413 | <span style=\"color: #008080; text-decoration-color: #008080\">INFO</span>    | Flow run<span style=\"color: #800080; text-decoration-color: #800080\"> 'impressive-zebra'</span> - Created task run 'write_csv-386fe2af-4' for task 'write_csv'\n",
       "</pre>\n"
      ],
      "text/plain": [
       "04:09:28.413 | \u001b[36mINFO\u001b[0m    | Flow run\u001b[35m 'impressive-zebra'\u001b[0m - Created task run 'write_csv-386fe2af-4' for task 'write_csv'\n"
      ]
     },
     "metadata": {},
     "output_type": "display_data"
    },
    {
     "data": {
      "text/html": [
       "<pre style=\"white-space:pre;overflow-x:auto;line-height:normal;font-family:Menlo,'DejaVu Sans Mono',consolas,'Courier New',monospace\">04:09:28.415 | <span style=\"color: #008080; text-decoration-color: #008080\">INFO</span>    | Flow run<span style=\"color: #800080; text-decoration-color: #800080\"> 'impressive-zebra'</span> - Executing 'write_csv-386fe2af-4' immediately...\n",
       "</pre>\n"
      ],
      "text/plain": [
       "04:09:28.415 | \u001b[36mINFO\u001b[0m    | Flow run\u001b[35m 'impressive-zebra'\u001b[0m - Executing 'write_csv-386fe2af-4' immediately...\n"
      ]
     },
     "metadata": {},
     "output_type": "display_data"
    },
    {
     "data": {
      "text/html": [
       "<pre style=\"white-space:pre;overflow-x:auto;line-height:normal;font-family:Menlo,'DejaVu Sans Mono',consolas,'Courier New',monospace\">04:09:28.556 | <span style=\"color: #008080; text-decoration-color: #008080\">INFO</span>    | Task run 'write_csv-386fe2af-4' - Finished in state <span style=\"color: #008000; text-decoration-color: #008000\">Completed</span>()\n",
       "</pre>\n"
      ],
      "text/plain": [
       "04:09:28.556 | \u001b[36mINFO\u001b[0m    | Task run 'write_csv-386fe2af-4' - Finished in state \u001b[32mCompleted\u001b[0m()\n"
      ]
     },
     "metadata": {},
     "output_type": "display_data"
    },
    {
     "data": {
      "text/html": [
       "<pre style=\"white-space:pre;overflow-x:auto;line-height:normal;font-family:Menlo,'DejaVu Sans Mono',consolas,'Courier New',monospace\">04:09:28.582 | <span style=\"color: #008080; text-decoration-color: #008080\">INFO</span>    | Flow run<span style=\"color: #800080; text-decoration-color: #800080\"> 'impressive-zebra'</span> - Created task run 'write_csv-386fe2af-5' for task 'write_csv'\n",
       "</pre>\n"
      ],
      "text/plain": [
       "04:09:28.582 | \u001b[36mINFO\u001b[0m    | Flow run\u001b[35m 'impressive-zebra'\u001b[0m - Created task run 'write_csv-386fe2af-5' for task 'write_csv'\n"
      ]
     },
     "metadata": {},
     "output_type": "display_data"
    },
    {
     "data": {
      "text/html": [
       "<pre style=\"white-space:pre;overflow-x:auto;line-height:normal;font-family:Menlo,'DejaVu Sans Mono',consolas,'Courier New',monospace\">04:09:28.584 | <span style=\"color: #008080; text-decoration-color: #008080\">INFO</span>    | Flow run<span style=\"color: #800080; text-decoration-color: #800080\"> 'impressive-zebra'</span> - Executing 'write_csv-386fe2af-5' immediately...\n",
       "</pre>\n"
      ],
      "text/plain": [
       "04:09:28.584 | \u001b[36mINFO\u001b[0m    | Flow run\u001b[35m 'impressive-zebra'\u001b[0m - Executing 'write_csv-386fe2af-5' immediately...\n"
      ]
     },
     "metadata": {},
     "output_type": "display_data"
    },
    {
     "data": {
      "text/html": [
       "<pre style=\"white-space:pre;overflow-x:auto;line-height:normal;font-family:Menlo,'DejaVu Sans Mono',consolas,'Courier New',monospace\">04:09:28.663 | <span style=\"color: #008080; text-decoration-color: #008080\">INFO</span>    | Task run 'write_csv-386fe2af-5' - Finished in state <span style=\"color: #008000; text-decoration-color: #008000\">Completed</span>()\n",
       "</pre>\n"
      ],
      "text/plain": [
       "04:09:28.663 | \u001b[36mINFO\u001b[0m    | Task run 'write_csv-386fe2af-5' - Finished in state \u001b[32mCompleted\u001b[0m()\n"
      ]
     },
     "metadata": {},
     "output_type": "display_data"
    },
    {
     "data": {
      "text/html": [
       "<pre style=\"white-space:pre;overflow-x:auto;line-height:normal;font-family:Menlo,'DejaVu Sans Mono',consolas,'Courier New',monospace\">04:09:28.714 | <span style=\"color: #008080; text-decoration-color: #008080\">INFO</span>    | Flow run<span style=\"color: #800080; text-decoration-color: #800080\"> 'impressive-zebra'</span> - Finished in state <span style=\"color: #008000; text-decoration-color: #008000\">Completed</span>('All states completed.')\n",
       "</pre>\n"
      ],
      "text/plain": [
       "04:09:28.714 | \u001b[36mINFO\u001b[0m    | Flow run\u001b[35m 'impressive-zebra'\u001b[0m - Finished in state \u001b[32mCompleted\u001b[0m('All states completed.')\n"
      ]
     },
     "metadata": {},
     "output_type": "display_data"
    }
   ],
   "source": [
    "_ = main_flow(max_weeks=3, max_games=3, max_plays=3)"
   ]
  },
  {
   "cell_type": "code",
   "execution_count": 5,
   "id": "f8607a90",
   "metadata": {},
   "outputs": [],
   "source": [
    "df_plays_all = pd.read_csv(f\"{DIR}/data/raw/plays.csv\")\n",
    "df_tracking_display_all = pd.read_csv(f\"{DIR}/data/outputs/tracking_display.csv\")\n",
    "df_areas_all = pd.read_csv(f\"{DIR}/data/outputs/pocket_areas.csv\")\n",
    "df_areas_all[\"pocket\"] = df_areas_all[\"pocket\"].apply(literal_eval)"
   ]
  },
  {
   "cell_type": "code",
   "execution_count": 7,
   "id": "a8b17aa2",
   "metadata": {
    "scrolled": false
   },
   "outputs": [
    {
     "data": {
      "application/vnd.jupyter.widget-view+json": {
       "model_id": "3285dc2600674546b74dd038cb9d5c77",
       "version_major": 2,
       "version_minor": 0
      },
      "text/plain": [
       "interactive(children=(Dropdown(description='Week', options=(1, 2, 3), value=1), Dropdown(description='Game ID'…"
      ]
     },
     "metadata": {},
     "output_type": "display_data"
    }
   ],
   "source": [
    "create_interactive_play_selector(\n",
    "    df_plays_all,\n",
    "    df_tracking_display_all,\n",
    "    df_areas_all,\n",
    "    continuous_update=True\n",
    ")"
   ]
  },
  {
   "cell_type": "code",
   "execution_count": null,
   "id": "6df5d438",
   "metadata": {},
   "outputs": [],
   "source": []
  }
 ],
 "metadata": {
  "kernelspec": {
   "display_name": "Python 3 (ipykernel)",
   "language": "python",
   "name": "python3"
  },
  "language_info": {
   "codemirror_mode": {
    "name": "ipython",
    "version": 3
   },
   "file_extension": ".py",
   "mimetype": "text/x-python",
   "name": "python",
   "nbconvert_exporter": "python",
   "pygments_lexer": "ipython3",
   "version": "3.8.13"
  },
  "vscode": {
   "interpreter": {
    "hash": "32851c0586613b673c0e930c323ba937886b2f699c9a23a5a6ddc560d53801f6"
   }
  }
 },
 "nbformat": 4,
 "nbformat_minor": 5
}
