{
 "cells": [
  {
   "cell_type": "markdown",
   "id": "9754e686",
   "metadata": {},
   "source": [
    "# Visualization Example"
   ]
  },
  {
   "cell_type": "code",
   "execution_count": 1,
   "id": "b945a06e",
   "metadata": {
    "scrolled": true
   },
   "outputs": [],
   "source": [
    "%load_ext autoreload\n",
    "%autoreload 2"
   ]
  },
  {
   "cell_type": "code",
   "execution_count": 2,
   "id": "fb4c19ef",
   "metadata": {},
   "outputs": [],
   "source": [
    "import sys\n",
    "DIR = \"/workspace/nflbigdatabowl2023\"\n",
    "sys.path.append(DIR)"
   ]
  },
  {
   "cell_type": "code",
   "execution_count": 3,
   "id": "da35fb4e",
   "metadata": {},
   "outputs": [],
   "source": [
    "import math\n",
    "from ast import literal_eval\n",
    "\n",
    "import pandas as pd\n",
    "import matplotlib.pyplot as plt\n",
    "\n",
    "from src.pipeline.flows.main import main_flow\n",
    "from src.visualization.interactive_play_selector import create_interactive_play_selector"
   ]
  },
  {
   "cell_type": "code",
   "execution_count": 4,
   "id": "52e7c8a7",
   "metadata": {
    "scrolled": false
   },
   "outputs": [
    {
     "data": {
      "text/html": [
       "<pre style=\"white-space:pre;overflow-x:auto;line-height:normal;font-family:Menlo,'DejaVu Sans Mono',consolas,'Courier New',monospace\">22:27:00.979 | <span style=\"color: #008080; text-decoration-color: #008080\">INFO</span>    | prefect.engine - Created flow run<span style=\"color: #800080; text-decoration-color: #800080\"> 'capable-viper'</span> for flow<span style=\"color: #800080; text-decoration-color: #800080; font-weight: bold\"> 'main-flow'</span>\n",
       "</pre>\n"
      ],
      "text/plain": [
       "22:27:00.979 | \u001b[36mINFO\u001b[0m    | prefect.engine - Created flow run\u001b[35m 'capable-viper'\u001b[0m for flow\u001b[1;35m 'main-flow'\u001b[0m\n"
      ]
     },
     "metadata": {},
     "output_type": "display_data"
    },
    {
     "data": {
      "text/html": [
       "<pre style=\"white-space:pre;overflow-x:auto;line-height:normal;font-family:Menlo,'DejaVu Sans Mono',consolas,'Courier New',monospace\">22:27:01.199 | <span style=\"color: #008080; text-decoration-color: #008080\">INFO</span>    | Flow run<span style=\"color: #800080; text-decoration-color: #800080\"> 'capable-viper'</span> - Created task run 'read_csv-3609c996-0' for task 'read_csv'\n",
       "</pre>\n"
      ],
      "text/plain": [
       "22:27:01.199 | \u001b[36mINFO\u001b[0m    | Flow run\u001b[35m 'capable-viper'\u001b[0m - Created task run 'read_csv-3609c996-0' for task 'read_csv'\n"
      ]
     },
     "metadata": {},
     "output_type": "display_data"
    },
    {
     "data": {
      "text/html": [
       "<pre style=\"white-space:pre;overflow-x:auto;line-height:normal;font-family:Menlo,'DejaVu Sans Mono',consolas,'Courier New',monospace\">22:27:01.202 | <span style=\"color: #008080; text-decoration-color: #008080\">INFO</span>    | Flow run<span style=\"color: #800080; text-decoration-color: #800080\"> 'capable-viper'</span> - Executing 'read_csv-3609c996-0' immediately...\n",
       "</pre>\n"
      ],
      "text/plain": [
       "22:27:01.202 | \u001b[36mINFO\u001b[0m    | Flow run\u001b[35m 'capable-viper'\u001b[0m - Executing 'read_csv-3609c996-0' immediately...\n"
      ]
     },
     "metadata": {},
     "output_type": "display_data"
    },
    {
     "data": {
      "text/html": [
       "<pre style=\"white-space:pre;overflow-x:auto;line-height:normal;font-family:Menlo,'DejaVu Sans Mono',consolas,'Courier New',monospace\">22:27:01.444 | <span style=\"color: #008080; text-decoration-color: #008080\">INFO</span>    | Task run 'read_csv-3609c996-0' - Finished in state <span style=\"color: #008000; text-decoration-color: #008000\">Completed</span>()\n",
       "</pre>\n"
      ],
      "text/plain": [
       "22:27:01.444 | \u001b[36mINFO\u001b[0m    | Task run 'read_csv-3609c996-0' - Finished in state \u001b[32mCompleted\u001b[0m()\n"
      ]
     },
     "metadata": {},
     "output_type": "display_data"
    },
    {
     "data": {
      "text/html": [
       "<pre style=\"white-space:pre;overflow-x:auto;line-height:normal;font-family:Menlo,'DejaVu Sans Mono',consolas,'Courier New',monospace\">22:27:01.471 | <span style=\"color: #008080; text-decoration-color: #008080\">INFO</span>    | Flow run<span style=\"color: #800080; text-decoration-color: #800080\"> 'capable-viper'</span> - Created task run 'read_csv-3609c996-1' for task 'read_csv'\n",
       "</pre>\n"
      ],
      "text/plain": [
       "22:27:01.471 | \u001b[36mINFO\u001b[0m    | Flow run\u001b[35m 'capable-viper'\u001b[0m - Created task run 'read_csv-3609c996-1' for task 'read_csv'\n"
      ]
     },
     "metadata": {},
     "output_type": "display_data"
    },
    {
     "data": {
      "text/html": [
       "<pre style=\"white-space:pre;overflow-x:auto;line-height:normal;font-family:Menlo,'DejaVu Sans Mono',consolas,'Courier New',monospace\">22:27:01.474 | <span style=\"color: #008080; text-decoration-color: #008080\">INFO</span>    | Flow run<span style=\"color: #800080; text-decoration-color: #800080\"> 'capable-viper'</span> - Executing 'read_csv-3609c996-1' immediately...\n",
       "</pre>\n"
      ],
      "text/plain": [
       "22:27:01.474 | \u001b[36mINFO\u001b[0m    | Flow run\u001b[35m 'capable-viper'\u001b[0m - Executing 'read_csv-3609c996-1' immediately...\n"
      ]
     },
     "metadata": {},
     "output_type": "display_data"
    },
    {
     "data": {
      "text/html": [
       "<pre style=\"white-space:pre;overflow-x:auto;line-height:normal;font-family:Menlo,'DejaVu Sans Mono',consolas,'Courier New',monospace\">22:27:01.573 | <span style=\"color: #008080; text-decoration-color: #008080\">INFO</span>    | Task run 'read_csv-3609c996-1' - Finished in state <span style=\"color: #008000; text-decoration-color: #008000\">Completed</span>()\n",
       "</pre>\n"
      ],
      "text/plain": [
       "22:27:01.573 | \u001b[36mINFO\u001b[0m    | Task run 'read_csv-3609c996-1' - Finished in state \u001b[32mCompleted\u001b[0m()\n"
      ]
     },
     "metadata": {},
     "output_type": "display_data"
    },
    {
     "data": {
      "text/html": [
       "<pre style=\"white-space:pre;overflow-x:auto;line-height:normal;font-family:Menlo,'DejaVu Sans Mono',consolas,'Courier New',monospace\">22:27:01.601 | <span style=\"color: #008080; text-decoration-color: #008080\">INFO</span>    | Flow run<span style=\"color: #800080; text-decoration-color: #800080\"> 'capable-viper'</span> - Created task run 'read_tracking_data-e2eae939-0' for task 'read_tracking_data'\n",
       "</pre>\n"
      ],
      "text/plain": [
       "22:27:01.601 | \u001b[36mINFO\u001b[0m    | Flow run\u001b[35m 'capable-viper'\u001b[0m - Created task run 'read_tracking_data-e2eae939-0' for task 'read_tracking_data'\n"
      ]
     },
     "metadata": {},
     "output_type": "display_data"
    },
    {
     "data": {
      "text/html": [
       "<pre style=\"white-space:pre;overflow-x:auto;line-height:normal;font-family:Menlo,'DejaVu Sans Mono',consolas,'Courier New',monospace\">22:27:01.604 | <span style=\"color: #008080; text-decoration-color: #008080\">INFO</span>    | Flow run<span style=\"color: #800080; text-decoration-color: #800080\"> 'capable-viper'</span> - Executing 'read_tracking_data-e2eae939-0' immediately...\n",
       "</pre>\n"
      ],
      "text/plain": [
       "22:27:01.604 | \u001b[36mINFO\u001b[0m    | Flow run\u001b[35m 'capable-viper'\u001b[0m - Executing 'read_tracking_data-e2eae939-0' immediately...\n"
      ]
     },
     "metadata": {},
     "output_type": "display_data"
    },
    {
     "data": {
      "text/html": [
       "<pre style=\"white-space:pre;overflow-x:auto;line-height:normal;font-family:Menlo,'DejaVu Sans Mono',consolas,'Courier New',monospace\">22:27:06.022 | <span style=\"color: #008080; text-decoration-color: #008080\">INFO</span>    | Task run 'read_tracking_data-e2eae939-0' - Finished in state <span style=\"color: #008000; text-decoration-color: #008000\">Completed</span>()\n",
       "</pre>\n"
      ],
      "text/plain": [
       "22:27:06.022 | \u001b[36mINFO\u001b[0m    | Task run 'read_tracking_data-e2eae939-0' - Finished in state \u001b[32mCompleted\u001b[0m()\n"
      ]
     },
     "metadata": {},
     "output_type": "display_data"
    },
    {
     "data": {
      "text/html": [
       "<pre style=\"white-space:pre;overflow-x:auto;line-height:normal;font-family:Menlo,'DejaVu Sans Mono',consolas,'Courier New',monospace\">22:27:06.067 | <span style=\"color: #008080; text-decoration-color: #008080\">INFO</span>    | Flow run<span style=\"color: #800080; text-decoration-color: #800080\"> 'capable-viper'</span> - Created task run 'limit_by_child_keys-4238f776-0' for task 'limit_by_child_keys'\n",
       "</pre>\n"
      ],
      "text/plain": [
       "22:27:06.067 | \u001b[36mINFO\u001b[0m    | Flow run\u001b[35m 'capable-viper'\u001b[0m - Created task run 'limit_by_child_keys-4238f776-0' for task 'limit_by_child_keys'\n"
      ]
     },
     "metadata": {},
     "output_type": "display_data"
    },
    {
     "data": {
      "text/html": [
       "<pre style=\"white-space:pre;overflow-x:auto;line-height:normal;font-family:Menlo,'DejaVu Sans Mono',consolas,'Courier New',monospace\">22:27:06.071 | <span style=\"color: #008080; text-decoration-color: #008080\">INFO</span>    | Flow run<span style=\"color: #800080; text-decoration-color: #800080\"> 'capable-viper'</span> - Executing 'limit_by_child_keys-4238f776-0' immediately...\n",
       "</pre>\n"
      ],
      "text/plain": [
       "22:27:06.071 | \u001b[36mINFO\u001b[0m    | Flow run\u001b[35m 'capable-viper'\u001b[0m - Executing 'limit_by_child_keys-4238f776-0' immediately...\n"
      ]
     },
     "metadata": {},
     "output_type": "display_data"
    },
    {
     "data": {
      "text/html": [
       "<pre style=\"white-space:pre;overflow-x:auto;line-height:normal;font-family:Menlo,'DejaVu Sans Mono',consolas,'Courier New',monospace\">22:27:06.946 | <span style=\"color: #008080; text-decoration-color: #008080\">INFO</span>    | Task run 'limit_by_child_keys-4238f776-0' - Finished in state <span style=\"color: #008000; text-decoration-color: #008000\">Completed</span>()\n",
       "</pre>\n"
      ],
      "text/plain": [
       "22:27:06.946 | \u001b[36mINFO\u001b[0m    | Task run 'limit_by_child_keys-4238f776-0' - Finished in state \u001b[32mCompleted\u001b[0m()\n"
      ]
     },
     "metadata": {},
     "output_type": "display_data"
    },
    {
     "data": {
      "text/html": [
       "<pre style=\"white-space:pre;overflow-x:auto;line-height:normal;font-family:Menlo,'DejaVu Sans Mono',consolas,'Courier New',monospace\">22:27:06.979 | <span style=\"color: #008080; text-decoration-color: #008080\">INFO</span>    | Flow run<span style=\"color: #800080; text-decoration-color: #800080\"> 'capable-viper'</span> - Created task run 'limit_by_child_keys-4238f776-1' for task 'limit_by_child_keys'\n",
       "</pre>\n"
      ],
      "text/plain": [
       "22:27:06.979 | \u001b[36mINFO\u001b[0m    | Flow run\u001b[35m 'capable-viper'\u001b[0m - Created task run 'limit_by_child_keys-4238f776-1' for task 'limit_by_child_keys'\n"
      ]
     },
     "metadata": {},
     "output_type": "display_data"
    },
    {
     "data": {
      "text/html": [
       "<pre style=\"white-space:pre;overflow-x:auto;line-height:normal;font-family:Menlo,'DejaVu Sans Mono',consolas,'Courier New',monospace\">22:27:06.982 | <span style=\"color: #008080; text-decoration-color: #008080\">INFO</span>    | Flow run<span style=\"color: #800080; text-decoration-color: #800080\"> 'capable-viper'</span> - Executing 'limit_by_child_keys-4238f776-1' immediately...\n",
       "</pre>\n"
      ],
      "text/plain": [
       "22:27:06.982 | \u001b[36mINFO\u001b[0m    | Flow run\u001b[35m 'capable-viper'\u001b[0m - Executing 'limit_by_child_keys-4238f776-1' immediately...\n"
      ]
     },
     "metadata": {},
     "output_type": "display_data"
    },
    {
     "data": {
      "text/html": [
       "<pre style=\"white-space:pre;overflow-x:auto;line-height:normal;font-family:Menlo,'DejaVu Sans Mono',consolas,'Courier New',monospace\">22:27:07.207 | <span style=\"color: #008080; text-decoration-color: #008080\">INFO</span>    | Task run 'limit_by_child_keys-4238f776-1' - Finished in state <span style=\"color: #008000; text-decoration-color: #008000\">Completed</span>()\n",
       "</pre>\n"
      ],
      "text/plain": [
       "22:27:07.207 | \u001b[36mINFO\u001b[0m    | Task run 'limit_by_child_keys-4238f776-1' - Finished in state \u001b[32mCompleted\u001b[0m()\n"
      ]
     },
     "metadata": {},
     "output_type": "display_data"
    },
    {
     "data": {
      "text/html": [
       "<pre style=\"white-space:pre;overflow-x:auto;line-height:normal;font-family:Menlo,'DejaVu Sans Mono',consolas,'Courier New',monospace\">22:27:07.238 | <span style=\"color: #008080; text-decoration-color: #008080\">INFO</span>    | Flow run<span style=\"color: #800080; text-decoration-color: #800080\"> 'capable-viper'</span> - Created task run 'align_tracking_data-ea7afe30-0' for task 'align_tracking_data'\n",
       "</pre>\n"
      ],
      "text/plain": [
       "22:27:07.238 | \u001b[36mINFO\u001b[0m    | Flow run\u001b[35m 'capable-viper'\u001b[0m - Created task run 'align_tracking_data-ea7afe30-0' for task 'align_tracking_data'\n"
      ]
     },
     "metadata": {},
     "output_type": "display_data"
    },
    {
     "data": {
      "text/html": [
       "<pre style=\"white-space:pre;overflow-x:auto;line-height:normal;font-family:Menlo,'DejaVu Sans Mono',consolas,'Courier New',monospace\">22:27:07.247 | <span style=\"color: #008080; text-decoration-color: #008080\">INFO</span>    | Flow run<span style=\"color: #800080; text-decoration-color: #800080\"> 'capable-viper'</span> - Executing 'align_tracking_data-ea7afe30-0' immediately...\n",
       "</pre>\n"
      ],
      "text/plain": [
       "22:27:07.247 | \u001b[36mINFO\u001b[0m    | Flow run\u001b[35m 'capable-viper'\u001b[0m - Executing 'align_tracking_data-ea7afe30-0' immediately...\n"
      ]
     },
     "metadata": {},
     "output_type": "display_data"
    },
    {
     "data": {
      "text/html": [
       "<pre style=\"white-space:pre;overflow-x:auto;line-height:normal;font-family:Menlo,'DejaVu Sans Mono',consolas,'Courier New',monospace\">22:27:07.336 | <span style=\"color: #008080; text-decoration-color: #008080\">INFO</span>    | Task run 'align_tracking_data-ea7afe30-0' - Finished in state <span style=\"color: #008000; text-decoration-color: #008000\">Completed</span>()\n",
       "</pre>\n"
      ],
      "text/plain": [
       "22:27:07.336 | \u001b[36mINFO\u001b[0m    | Task run 'align_tracking_data-ea7afe30-0' - Finished in state \u001b[32mCompleted\u001b[0m()\n"
      ]
     },
     "metadata": {},
     "output_type": "display_data"
    },
    {
     "data": {
      "text/html": [
       "<pre style=\"white-space:pre;overflow-x:auto;line-height:normal;font-family:Menlo,'DejaVu Sans Mono',consolas,'Courier New',monospace\">22:27:07.371 | <span style=\"color: #008080; text-decoration-color: #008080\">INFO</span>    | Flow run<span style=\"color: #800080; text-decoration-color: #800080\"> 'capable-viper'</span> - Created task run 'rotate_tracking_data-13ea6cce-0' for task 'rotate_tracking_data'\n",
       "</pre>\n"
      ],
      "text/plain": [
       "22:27:07.371 | \u001b[36mINFO\u001b[0m    | Flow run\u001b[35m 'capable-viper'\u001b[0m - Created task run 'rotate_tracking_data-13ea6cce-0' for task 'rotate_tracking_data'\n"
      ]
     },
     "metadata": {},
     "output_type": "display_data"
    },
    {
     "data": {
      "text/html": [
       "<pre style=\"white-space:pre;overflow-x:auto;line-height:normal;font-family:Menlo,'DejaVu Sans Mono',consolas,'Courier New',monospace\">22:27:07.373 | <span style=\"color: #008080; text-decoration-color: #008080\">INFO</span>    | Flow run<span style=\"color: #800080; text-decoration-color: #800080\"> 'capable-viper'</span> - Executing 'rotate_tracking_data-13ea6cce-0' immediately...\n",
       "</pre>\n"
      ],
      "text/plain": [
       "22:27:07.373 | \u001b[36mINFO\u001b[0m    | Flow run\u001b[35m 'capable-viper'\u001b[0m - Executing 'rotate_tracking_data-13ea6cce-0' immediately...\n"
      ]
     },
     "metadata": {},
     "output_type": "display_data"
    },
    {
     "data": {
      "text/html": [
       "<pre style=\"white-space:pre;overflow-x:auto;line-height:normal;font-family:Menlo,'DejaVu Sans Mono',consolas,'Courier New',monospace\">22:27:07.450 | <span style=\"color: #008080; text-decoration-color: #008080\">INFO</span>    | Task run 'rotate_tracking_data-13ea6cce-0' - Finished in state <span style=\"color: #008000; text-decoration-color: #008000\">Completed</span>()\n",
       "</pre>\n"
      ],
      "text/plain": [
       "22:27:07.450 | \u001b[36mINFO\u001b[0m    | Task run 'rotate_tracking_data-13ea6cce-0' - Finished in state \u001b[32mCompleted\u001b[0m()\n"
      ]
     },
     "metadata": {},
     "output_type": "display_data"
    },
    {
     "data": {
      "text/html": [
       "<pre style=\"white-space:pre;overflow-x:auto;line-height:normal;font-family:Menlo,'DejaVu Sans Mono',consolas,'Courier New',monospace\">22:27:07.482 | <span style=\"color: #008080; text-decoration-color: #008080\">INFO</span>    | Flow run<span style=\"color: #800080; text-decoration-color: #800080\"> 'capable-viper'</span> - Created task run 'get_passer_out_of_pocket-98072e46-0' for task 'get_passer_out_of_pocket'\n",
       "</pre>\n"
      ],
      "text/plain": [
       "22:27:07.482 | \u001b[36mINFO\u001b[0m    | Flow run\u001b[35m 'capable-viper'\u001b[0m - Created task run 'get_passer_out_of_pocket-98072e46-0' for task 'get_passer_out_of_pocket'\n"
      ]
     },
     "metadata": {},
     "output_type": "display_data"
    },
    {
     "data": {
      "text/html": [
       "<pre style=\"white-space:pre;overflow-x:auto;line-height:normal;font-family:Menlo,'DejaVu Sans Mono',consolas,'Courier New',monospace\">22:27:07.484 | <span style=\"color: #008080; text-decoration-color: #008080\">INFO</span>    | Flow run<span style=\"color: #800080; text-decoration-color: #800080\"> 'capable-viper'</span> - Executing 'get_passer_out_of_pocket-98072e46-0' immediately...\n",
       "</pre>\n"
      ],
      "text/plain": [
       "22:27:07.484 | \u001b[36mINFO\u001b[0m    | Flow run\u001b[35m 'capable-viper'\u001b[0m - Executing 'get_passer_out_of_pocket-98072e46-0' immediately...\n"
      ]
     },
     "metadata": {},
     "output_type": "display_data"
    },
    {
     "data": {
      "text/html": [
       "<pre style=\"white-space:pre;overflow-x:auto;line-height:normal;font-family:Menlo,'DejaVu Sans Mono',consolas,'Courier New',monospace\">22:27:07.651 | <span style=\"color: #008080; text-decoration-color: #008080\">INFO</span>    | Task run 'get_passer_out_of_pocket-98072e46-0' - Finished in state <span style=\"color: #008000; text-decoration-color: #008000\">Completed</span>()\n",
       "</pre>\n"
      ],
      "text/plain": [
       "22:27:07.651 | \u001b[36mINFO\u001b[0m    | Task run 'get_passer_out_of_pocket-98072e46-0' - Finished in state \u001b[32mCompleted\u001b[0m()\n"
      ]
     },
     "metadata": {},
     "output_type": "display_data"
    },
    {
     "data": {
      "text/html": [
       "<pre style=\"white-space:pre;overflow-x:auto;line-height:normal;font-family:Menlo,'DejaVu Sans Mono',consolas,'Courier New',monospace\">22:27:07.679 | <span style=\"color: #008080; text-decoration-color: #008080\">INFO</span>    | Flow run<span style=\"color: #800080; text-decoration-color: #800080\"> 'capable-viper'</span> - Created task run 'clean_event_data-657c8302-0' for task 'clean_event_data'\n",
       "</pre>\n"
      ],
      "text/plain": [
       "22:27:07.679 | \u001b[36mINFO\u001b[0m    | Flow run\u001b[35m 'capable-viper'\u001b[0m - Created task run 'clean_event_data-657c8302-0' for task 'clean_event_data'\n"
      ]
     },
     "metadata": {},
     "output_type": "display_data"
    },
    {
     "data": {
      "text/html": [
       "<pre style=\"white-space:pre;overflow-x:auto;line-height:normal;font-family:Menlo,'DejaVu Sans Mono',consolas,'Courier New',monospace\">22:27:07.681 | <span style=\"color: #008080; text-decoration-color: #008080\">INFO</span>    | Flow run<span style=\"color: #800080; text-decoration-color: #800080\"> 'capable-viper'</span> - Executing 'clean_event_data-657c8302-0' immediately...\n",
       "</pre>\n"
      ],
      "text/plain": [
       "22:27:07.681 | \u001b[36mINFO\u001b[0m    | Flow run\u001b[35m 'capable-viper'\u001b[0m - Executing 'clean_event_data-657c8302-0' immediately...\n"
      ]
     },
     "metadata": {},
     "output_type": "display_data"
    },
    {
     "data": {
      "text/html": [
       "<pre style=\"white-space:pre;overflow-x:auto;line-height:normal;font-family:Menlo,'DejaVu Sans Mono',consolas,'Courier New',monospace\">22:27:07.781 | <span style=\"color: #008080; text-decoration-color: #008080\">INFO</span>    | Task run 'clean_event_data-657c8302-0' - Finished in state <span style=\"color: #008000; text-decoration-color: #008000\">Completed</span>()\n",
       "</pre>\n"
      ],
      "text/plain": [
       "22:27:07.781 | \u001b[36mINFO\u001b[0m    | Task run 'clean_event_data-657c8302-0' - Finished in state \u001b[32mCompleted\u001b[0m()\n"
      ]
     },
     "metadata": {},
     "output_type": "display_data"
    },
    {
     "data": {
      "text/html": [
       "<pre style=\"white-space:pre;overflow-x:auto;line-height:normal;font-family:Menlo,'DejaVu Sans Mono',consolas,'Courier New',monospace\">22:27:07.809 | <span style=\"color: #008080; text-decoration-color: #008080\">INFO</span>    | Flow run<span style=\"color: #800080; text-decoration-color: #800080\"> 'capable-viper'</span> - Created task run 'get_pocket_eligibility-6d653879-0' for task 'get_pocket_eligibility'\n",
       "</pre>\n"
      ],
      "text/plain": [
       "22:27:07.809 | \u001b[36mINFO\u001b[0m    | Flow run\u001b[35m 'capable-viper'\u001b[0m - Created task run 'get_pocket_eligibility-6d653879-0' for task 'get_pocket_eligibility'\n"
      ]
     },
     "metadata": {},
     "output_type": "display_data"
    },
    {
     "data": {
      "text/html": [
       "<pre style=\"white-space:pre;overflow-x:auto;line-height:normal;font-family:Menlo,'DejaVu Sans Mono',consolas,'Courier New',monospace\">22:27:07.811 | <span style=\"color: #008080; text-decoration-color: #008080\">INFO</span>    | Flow run<span style=\"color: #800080; text-decoration-color: #800080\"> 'capable-viper'</span> - Executing 'get_pocket_eligibility-6d653879-0' immediately...\n",
       "</pre>\n"
      ],
      "text/plain": [
       "22:27:07.811 | \u001b[36mINFO\u001b[0m    | Flow run\u001b[35m 'capable-viper'\u001b[0m - Executing 'get_pocket_eligibility-6d653879-0' immediately...\n"
      ]
     },
     "metadata": {},
     "output_type": "display_data"
    },
    {
     "data": {
      "text/html": [
       "<pre style=\"white-space:pre;overflow-x:auto;line-height:normal;font-family:Menlo,'DejaVu Sans Mono',consolas,'Courier New',monospace\">22:27:07.907 | <span style=\"color: #008080; text-decoration-color: #008080\">INFO</span>    | Task run 'get_pocket_eligibility-6d653879-0' - Finished in state <span style=\"color: #008000; text-decoration-color: #008000\">Completed</span>()\n",
       "</pre>\n"
      ],
      "text/plain": [
       "22:27:07.907 | \u001b[36mINFO\u001b[0m    | Task run 'get_pocket_eligibility-6d653879-0' - Finished in state \u001b[32mCompleted\u001b[0m()\n"
      ]
     },
     "metadata": {},
     "output_type": "display_data"
    },
    {
     "data": {
      "text/html": [
       "<pre style=\"white-space:pre;overflow-x:auto;line-height:normal;font-family:Menlo,'DejaVu Sans Mono',consolas,'Courier New',monospace\">22:27:07.933 | <span style=\"color: #008080; text-decoration-color: #008080\">INFO</span>    | Flow run<span style=\"color: #800080; text-decoration-color: #800080\"> 'capable-viper'</span> - Created task run 'augment_tracking_events-342a9dc3-0' for task 'augment_tracking_events'\n",
       "</pre>\n"
      ],
      "text/plain": [
       "22:27:07.933 | \u001b[36mINFO\u001b[0m    | Flow run\u001b[35m 'capable-viper'\u001b[0m - Created task run 'augment_tracking_events-342a9dc3-0' for task 'augment_tracking_events'\n"
      ]
     },
     "metadata": {},
     "output_type": "display_data"
    },
    {
     "data": {
      "text/html": [
       "<pre style=\"white-space:pre;overflow-x:auto;line-height:normal;font-family:Menlo,'DejaVu Sans Mono',consolas,'Courier New',monospace\">22:27:07.935 | <span style=\"color: #008080; text-decoration-color: #008080\">INFO</span>    | Flow run<span style=\"color: #800080; text-decoration-color: #800080\"> 'capable-viper'</span> - Executing 'augment_tracking_events-342a9dc3-0' immediately...\n",
       "</pre>\n"
      ],
      "text/plain": [
       "22:27:07.935 | \u001b[36mINFO\u001b[0m    | Flow run\u001b[35m 'capable-viper'\u001b[0m - Executing 'augment_tracking_events-342a9dc3-0' immediately...\n"
      ]
     },
     "metadata": {},
     "output_type": "display_data"
    },
    {
     "data": {
      "text/html": [
       "<pre style=\"white-space:pre;overflow-x:auto;line-height:normal;font-family:Menlo,'DejaVu Sans Mono',consolas,'Courier New',monospace\">22:27:08.010 | <span style=\"color: #008080; text-decoration-color: #008080\">INFO</span>    | Task run 'augment_tracking_events-342a9dc3-0' - Finished in state <span style=\"color: #008000; text-decoration-color: #008000\">Completed</span>()\n",
       "</pre>\n"
      ],
      "text/plain": [
       "22:27:08.010 | \u001b[36mINFO\u001b[0m    | Task run 'augment_tracking_events-342a9dc3-0' - Finished in state \u001b[32mCompleted\u001b[0m()\n"
      ]
     },
     "metadata": {},
     "output_type": "display_data"
    },
    {
     "data": {
      "text/html": [
       "<pre style=\"white-space:pre;overflow-x:auto;line-height:normal;font-family:Menlo,'DejaVu Sans Mono',consolas,'Courier New',monospace\">22:27:08.037 | <span style=\"color: #008080; text-decoration-color: #008080\">INFO</span>    | Flow run<span style=\"color: #800080; text-decoration-color: #800080\"> 'capable-viper'</span> - Created task run 'transform_to_tracking_display-0c78dc49-0' for task 'transform_to_tracking_display'\n",
       "</pre>\n"
      ],
      "text/plain": [
       "22:27:08.037 | \u001b[36mINFO\u001b[0m    | Flow run\u001b[35m 'capable-viper'\u001b[0m - Created task run 'transform_to_tracking_display-0c78dc49-0' for task 'transform_to_tracking_display'\n"
      ]
     },
     "metadata": {},
     "output_type": "display_data"
    },
    {
     "data": {
      "text/html": [
       "<pre style=\"white-space:pre;overflow-x:auto;line-height:normal;font-family:Menlo,'DejaVu Sans Mono',consolas,'Courier New',monospace\">22:27:08.039 | <span style=\"color: #008080; text-decoration-color: #008080\">INFO</span>    | Flow run<span style=\"color: #800080; text-decoration-color: #800080\"> 'capable-viper'</span> - Executing 'transform_to_tracking_display-0c78dc49-0' immediately...\n",
       "</pre>\n"
      ],
      "text/plain": [
       "22:27:08.039 | \u001b[36mINFO\u001b[0m    | Flow run\u001b[35m 'capable-viper'\u001b[0m - Executing 'transform_to_tracking_display-0c78dc49-0' immediately...\n"
      ]
     },
     "metadata": {},
     "output_type": "display_data"
    },
    {
     "data": {
      "text/html": [
       "<pre style=\"white-space:pre;overflow-x:auto;line-height:normal;font-family:Menlo,'DejaVu Sans Mono',consolas,'Courier New',monospace\">22:27:08.186 | <span style=\"color: #008080; text-decoration-color: #008080\">INFO</span>    | Task run 'transform_to_tracking_display-0c78dc49-0' - Finished in state <span style=\"color: #008000; text-decoration-color: #008000\">Completed</span>()\n",
       "</pre>\n"
      ],
      "text/plain": [
       "22:27:08.186 | \u001b[36mINFO\u001b[0m    | Task run 'transform_to_tracking_display-0c78dc49-0' - Finished in state \u001b[32mCompleted\u001b[0m()\n"
      ]
     },
     "metadata": {},
     "output_type": "display_data"
    },
    {
     "data": {
      "text/html": [
       "<pre style=\"white-space:pre;overflow-x:auto;line-height:normal;font-family:Menlo,'DejaVu Sans Mono',consolas,'Courier New',monospace\">22:27:08.212 | <span style=\"color: #008080; text-decoration-color: #008080\">INFO</span>    | Flow run<span style=\"color: #800080; text-decoration-color: #800080\"> 'capable-viper'</span> - Created task run 'transform_to_frames-3446c324-0' for task 'transform_to_frames'\n",
       "</pre>\n"
      ],
      "text/plain": [
       "22:27:08.212 | \u001b[36mINFO\u001b[0m    | Flow run\u001b[35m 'capable-viper'\u001b[0m - Created task run 'transform_to_frames-3446c324-0' for task 'transform_to_frames'\n"
      ]
     },
     "metadata": {},
     "output_type": "display_data"
    },
    {
     "data": {
      "text/html": [
       "<pre style=\"white-space:pre;overflow-x:auto;line-height:normal;font-family:Menlo,'DejaVu Sans Mono',consolas,'Courier New',monospace\">22:27:08.214 | <span style=\"color: #008080; text-decoration-color: #008080\">INFO</span>    | Flow run<span style=\"color: #800080; text-decoration-color: #800080\"> 'capable-viper'</span> - Executing 'transform_to_frames-3446c324-0' immediately...\n",
       "</pre>\n"
      ],
      "text/plain": [
       "22:27:08.214 | \u001b[36mINFO\u001b[0m    | Flow run\u001b[35m 'capable-viper'\u001b[0m - Executing 'transform_to_frames-3446c324-0' immediately...\n"
      ]
     },
     "metadata": {},
     "output_type": "display_data"
    },
    {
     "data": {
      "text/html": [
       "<pre style=\"white-space:pre;overflow-x:auto;line-height:normal;font-family:Menlo,'DejaVu Sans Mono',consolas,'Courier New',monospace\">22:27:08.400 | <span style=\"color: #008080; text-decoration-color: #008080\">INFO</span>    | Task run 'transform_to_frames-3446c324-0' - Finished in state <span style=\"color: #008000; text-decoration-color: #008000\">Completed</span>()\n",
       "</pre>\n"
      ],
      "text/plain": [
       "22:27:08.400 | \u001b[36mINFO\u001b[0m    | Task run 'transform_to_frames-3446c324-0' - Finished in state \u001b[32mCompleted\u001b[0m()\n"
      ]
     },
     "metadata": {},
     "output_type": "display_data"
    },
    {
     "data": {
      "text/html": [
       "<pre style=\"white-space:pre;overflow-x:auto;line-height:normal;font-family:Menlo,'DejaVu Sans Mono',consolas,'Courier New',monospace\">22:27:08.428 | <span style=\"color: #008080; text-decoration-color: #008080\">INFO</span>    | Flow run<span style=\"color: #800080; text-decoration-color: #800080\"> 'capable-viper'</span> - Created task run 'transform_to_records_per_frame-823b8998-0' for task 'transform_to_records_per_frame'\n",
       "</pre>\n"
      ],
      "text/plain": [
       "22:27:08.428 | \u001b[36mINFO\u001b[0m    | Flow run\u001b[35m 'capable-viper'\u001b[0m - Created task run 'transform_to_records_per_frame-823b8998-0' for task 'transform_to_records_per_frame'\n"
      ]
     },
     "metadata": {},
     "output_type": "display_data"
    },
    {
     "data": {
      "text/html": [
       "<pre style=\"white-space:pre;overflow-x:auto;line-height:normal;font-family:Menlo,'DejaVu Sans Mono',consolas,'Courier New',monospace\">22:27:08.430 | <span style=\"color: #008080; text-decoration-color: #008080\">INFO</span>    | Flow run<span style=\"color: #800080; text-decoration-color: #800080\"> 'capable-viper'</span> - Executing 'transform_to_records_per_frame-823b8998-0' immediately...\n",
       "</pre>\n"
      ],
      "text/plain": [
       "22:27:08.430 | \u001b[36mINFO\u001b[0m    | Flow run\u001b[35m 'capable-viper'\u001b[0m - Executing 'transform_to_records_per_frame-823b8998-0' immediately...\n"
      ]
     },
     "metadata": {},
     "output_type": "display_data"
    },
    {
     "data": {
      "text/html": [
       "<pre style=\"white-space:pre;overflow-x:auto;line-height:normal;font-family:Menlo,'DejaVu Sans Mono',consolas,'Courier New',monospace\">22:27:08.533 | <span style=\"color: #008080; text-decoration-color: #008080\">INFO</span>    | Task run 'transform_to_records_per_frame-823b8998-0' - Finished in state <span style=\"color: #008000; text-decoration-color: #008000\">Completed</span>()\n",
       "</pre>\n"
      ],
      "text/plain": [
       "22:27:08.533 | \u001b[36mINFO\u001b[0m    | Task run 'transform_to_records_per_frame-823b8998-0' - Finished in state \u001b[32mCompleted\u001b[0m()\n"
      ]
     },
     "metadata": {},
     "output_type": "display_data"
    },
    {
     "data": {
      "text/html": [
       "<pre style=\"white-space:pre;overflow-x:auto;line-height:normal;font-family:Menlo,'DejaVu Sans Mono',consolas,'Courier New',monospace\">22:27:08.601 | <span style=\"color: #008080; text-decoration-color: #008080\">INFO</span>    | Flow run<span style=\"color: #800080; text-decoration-color: #800080\"> 'capable-viper'</span> - Created task run 'calculate_pocket_area-cc18ef62-2' for task 'calculate_pocket_area'\n",
       "</pre>\n"
      ],
      "text/plain": [
       "22:27:08.601 | \u001b[36mINFO\u001b[0m    | Flow run\u001b[35m 'capable-viper'\u001b[0m - Created task run 'calculate_pocket_area-cc18ef62-2' for task 'calculate_pocket_area'\n"
      ]
     },
     "metadata": {},
     "output_type": "display_data"
    },
    {
     "data": {
      "text/html": [
       "<pre style=\"white-space:pre;overflow-x:auto;line-height:normal;font-family:Menlo,'DejaVu Sans Mono',consolas,'Courier New',monospace\">22:27:08.603 | <span style=\"color: #008080; text-decoration-color: #008080\">INFO</span>    | Flow run<span style=\"color: #800080; text-decoration-color: #800080\"> 'capable-viper'</span> - Submitted task run 'calculate_pocket_area-cc18ef62-2' for execution.\n",
       "</pre>\n"
      ],
      "text/plain": [
       "22:27:08.603 | \u001b[36mINFO\u001b[0m    | Flow run\u001b[35m 'capable-viper'\u001b[0m - Submitted task run 'calculate_pocket_area-cc18ef62-2' for execution.\n"
      ]
     },
     "metadata": {},
     "output_type": "display_data"
    },
    {
     "data": {
      "text/html": [
       "<pre style=\"white-space:pre;overflow-x:auto;line-height:normal;font-family:Menlo,'DejaVu Sans Mono',consolas,'Courier New',monospace\">22:27:08.626 | <span style=\"color: #008080; text-decoration-color: #008080\">INFO</span>    | Flow run<span style=\"color: #800080; text-decoration-color: #800080\"> 'capable-viper'</span> - Created task run 'calculate_pocket_area-cc18ef62-1' for task 'calculate_pocket_area'\n",
       "</pre>\n"
      ],
      "text/plain": [
       "22:27:08.626 | \u001b[36mINFO\u001b[0m    | Flow run\u001b[35m 'capable-viper'\u001b[0m - Created task run 'calculate_pocket_area-cc18ef62-1' for task 'calculate_pocket_area'\n"
      ]
     },
     "metadata": {},
     "output_type": "display_data"
    },
    {
     "data": {
      "text/html": [
       "<pre style=\"white-space:pre;overflow-x:auto;line-height:normal;font-family:Menlo,'DejaVu Sans Mono',consolas,'Courier New',monospace\">22:27:08.628 | <span style=\"color: #008080; text-decoration-color: #008080\">INFO</span>    | Flow run<span style=\"color: #800080; text-decoration-color: #800080\"> 'capable-viper'</span> - Submitted task run 'calculate_pocket_area-cc18ef62-1' for execution.\n",
       "</pre>\n"
      ],
      "text/plain": [
       "22:27:08.628 | \u001b[36mINFO\u001b[0m    | Flow run\u001b[35m 'capable-viper'\u001b[0m - Submitted task run 'calculate_pocket_area-cc18ef62-1' for execution.\n"
      ]
     },
     "metadata": {},
     "output_type": "display_data"
    },
    {
     "data": {
      "text/html": [
       "<pre style=\"white-space:pre;overflow-x:auto;line-height:normal;font-family:Menlo,'DejaVu Sans Mono',consolas,'Courier New',monospace\">22:27:08.660 | <span style=\"color: #008080; text-decoration-color: #008080\">INFO</span>    | Flow run<span style=\"color: #800080; text-decoration-color: #800080\"> 'capable-viper'</span> - Created task run 'calculate_pocket_area-cc18ef62-0' for task 'calculate_pocket_area'\n",
       "</pre>\n"
      ],
      "text/plain": [
       "22:27:08.660 | \u001b[36mINFO\u001b[0m    | Flow run\u001b[35m 'capable-viper'\u001b[0m - Created task run 'calculate_pocket_area-cc18ef62-0' for task 'calculate_pocket_area'\n"
      ]
     },
     "metadata": {},
     "output_type": "display_data"
    },
    {
     "data": {
      "text/html": [
       "<pre style=\"white-space:pre;overflow-x:auto;line-height:normal;font-family:Menlo,'DejaVu Sans Mono',consolas,'Courier New',monospace\">22:27:08.663 | <span style=\"color: #008080; text-decoration-color: #008080\">INFO</span>    | Flow run<span style=\"color: #800080; text-decoration-color: #800080\"> 'capable-viper'</span> - Submitted task run 'calculate_pocket_area-cc18ef62-0' for execution.\n",
       "</pre>\n"
      ],
      "text/plain": [
       "22:27:08.663 | \u001b[36mINFO\u001b[0m    | Flow run\u001b[35m 'capable-viper'\u001b[0m - Submitted task run 'calculate_pocket_area-cc18ef62-0' for execution.\n"
      ]
     },
     "metadata": {},
     "output_type": "display_data"
    },
    {
     "data": {
      "text/html": [
       "<pre style=\"white-space:pre;overflow-x:auto;line-height:normal;font-family:Menlo,'DejaVu Sans Mono',consolas,'Courier New',monospace\">22:27:08.720 | <span style=\"color: #008080; text-decoration-color: #008080\">INFO</span>    | Flow run<span style=\"color: #800080; text-decoration-color: #800080\"> 'capable-viper'</span> - Created task run 'calculate_pocket_area-cc18ef62-3' for task 'calculate_pocket_area'\n",
       "</pre>\n"
      ],
      "text/plain": [
       "22:27:08.720 | \u001b[36mINFO\u001b[0m    | Flow run\u001b[35m 'capable-viper'\u001b[0m - Created task run 'calculate_pocket_area-cc18ef62-3' for task 'calculate_pocket_area'\n"
      ]
     },
     "metadata": {},
     "output_type": "display_data"
    },
    {
     "data": {
      "text/html": [
       "<pre style=\"white-space:pre;overflow-x:auto;line-height:normal;font-family:Menlo,'DejaVu Sans Mono',consolas,'Courier New',monospace\">22:27:08.724 | <span style=\"color: #008080; text-decoration-color: #008080\">INFO</span>    | Flow run<span style=\"color: #800080; text-decoration-color: #800080\"> 'capable-viper'</span> - Submitted task run 'calculate_pocket_area-cc18ef62-3' for execution.\n",
       "</pre>\n"
      ],
      "text/plain": [
       "22:27:08.724 | \u001b[36mINFO\u001b[0m    | Flow run\u001b[35m 'capable-viper'\u001b[0m - Submitted task run 'calculate_pocket_area-cc18ef62-3' for execution.\n"
      ]
     },
     "metadata": {},
     "output_type": "display_data"
    },
    {
     "data": {
      "text/html": [
       "<pre style=\"white-space:pre;overflow-x:auto;line-height:normal;font-family:Menlo,'DejaVu Sans Mono',consolas,'Courier New',monospace\">22:27:08.912 | <span style=\"color: #008080; text-decoration-color: #008080\">INFO</span>    | Flow run<span style=\"color: #800080; text-decoration-color: #800080\"> 'capable-viper'</span> - Created task run 'calculate_pocket_area-cc18ef62-4' for task 'calculate_pocket_area'\n",
       "</pre>\n"
      ],
      "text/plain": [
       "22:27:08.912 | \u001b[36mINFO\u001b[0m    | Flow run\u001b[35m 'capable-viper'\u001b[0m - Created task run 'calculate_pocket_area-cc18ef62-4' for task 'calculate_pocket_area'\n"
      ]
     },
     "metadata": {},
     "output_type": "display_data"
    },
    {
     "data": {
      "text/html": [
       "<pre style=\"white-space:pre;overflow-x:auto;line-height:normal;font-family:Menlo,'DejaVu Sans Mono',consolas,'Courier New',monospace\">22:27:08.916 | <span style=\"color: #008080; text-decoration-color: #008080\">INFO</span>    | Flow run<span style=\"color: #800080; text-decoration-color: #800080\"> 'capable-viper'</span> - Submitted task run 'calculate_pocket_area-cc18ef62-4' for execution.\n",
       "</pre>\n"
      ],
      "text/plain": [
       "22:27:08.916 | \u001b[36mINFO\u001b[0m    | Flow run\u001b[35m 'capable-viper'\u001b[0m - Submitted task run 'calculate_pocket_area-cc18ef62-4' for execution.\n"
      ]
     },
     "metadata": {},
     "output_type": "display_data"
    },
    {
     "data": {
      "text/html": [
       "<pre style=\"white-space:pre;overflow-x:auto;line-height:normal;font-family:Menlo,'DejaVu Sans Mono',consolas,'Courier New',monospace\">22:27:09.192 | <span style=\"color: #008080; text-decoration-color: #008080\">INFO</span>    | Flow run<span style=\"color: #800080; text-decoration-color: #800080\"> 'capable-viper'</span> - Created task run 'union_dataframes-8a4e3d8f-0' for task 'union_dataframes'\n",
       "</pre>\n"
      ],
      "text/plain": [
       "22:27:09.192 | \u001b[36mINFO\u001b[0m    | Flow run\u001b[35m 'capable-viper'\u001b[0m - Created task run 'union_dataframes-8a4e3d8f-0' for task 'union_dataframes'\n"
      ]
     },
     "metadata": {},
     "output_type": "display_data"
    },
    {
     "data": {
      "text/html": [
       "<pre style=\"white-space:pre;overflow-x:auto;line-height:normal;font-family:Menlo,'DejaVu Sans Mono',consolas,'Courier New',monospace\">22:27:09.198 | <span style=\"color: #008080; text-decoration-color: #008080\">INFO</span>    | Flow run<span style=\"color: #800080; text-decoration-color: #800080\"> 'capable-viper'</span> - Executing 'union_dataframes-8a4e3d8f-0' immediately...\n",
       "</pre>\n"
      ],
      "text/plain": [
       "22:27:09.198 | \u001b[36mINFO\u001b[0m    | Flow run\u001b[35m 'capable-viper'\u001b[0m - Executing 'union_dataframes-8a4e3d8f-0' immediately...\n"
      ]
     },
     "metadata": {},
     "output_type": "display_data"
    },
    {
     "data": {
      "text/html": [
       "<pre style=\"white-space:pre;overflow-x:auto;line-height:normal;font-family:Menlo,'DejaVu Sans Mono',consolas,'Courier New',monospace\">22:27:09.287 | <span style=\"color: #008080; text-decoration-color: #008080\">INFO</span>    | Task run 'calculate_pocket_area-cc18ef62-0' - Finished in state <span style=\"color: #008000; text-decoration-color: #008000\">Completed</span>()\n",
       "</pre>\n"
      ],
      "text/plain": [
       "22:27:09.287 | \u001b[36mINFO\u001b[0m    | Task run 'calculate_pocket_area-cc18ef62-0' - Finished in state \u001b[32mCompleted\u001b[0m()\n"
      ]
     },
     "metadata": {},
     "output_type": "display_data"
    },
    {
     "data": {
      "text/html": [
       "<pre style=\"white-space:pre;overflow-x:auto;line-height:normal;font-family:Menlo,'DejaVu Sans Mono',consolas,'Courier New',monospace\">22:27:10.874 | <span style=\"color: #008080; text-decoration-color: #008080\">INFO</span>    | Task run 'calculate_pocket_area-cc18ef62-3' - Finished in state <span style=\"color: #008000; text-decoration-color: #008000\">Completed</span>()\n",
       "</pre>\n"
      ],
      "text/plain": [
       "22:27:10.874 | \u001b[36mINFO\u001b[0m    | Task run 'calculate_pocket_area-cc18ef62-3' - Finished in state \u001b[32mCompleted\u001b[0m()\n"
      ]
     },
     "metadata": {},
     "output_type": "display_data"
    },
    {
     "data": {
      "text/html": [
       "<pre style=\"white-space:pre;overflow-x:auto;line-height:normal;font-family:Menlo,'DejaVu Sans Mono',consolas,'Courier New',monospace\">22:27:11.010 | <span style=\"color: #008080; text-decoration-color: #008080\">INFO</span>    | Task run 'calculate_pocket_area-cc18ef62-2' - Finished in state <span style=\"color: #008000; text-decoration-color: #008000\">Completed</span>()\n",
       "</pre>\n"
      ],
      "text/plain": [
       "22:27:11.010 | \u001b[36mINFO\u001b[0m    | Task run 'calculate_pocket_area-cc18ef62-2' - Finished in state \u001b[32mCompleted\u001b[0m()\n"
      ]
     },
     "metadata": {},
     "output_type": "display_data"
    },
    {
     "data": {
      "text/html": [
       "<pre style=\"white-space:pre;overflow-x:auto;line-height:normal;font-family:Menlo,'DejaVu Sans Mono',consolas,'Courier New',monospace\">22:27:11.146 | <span style=\"color: #008080; text-decoration-color: #008080\">INFO</span>    | Task run 'calculate_pocket_area-cc18ef62-1' - Finished in state <span style=\"color: #008000; text-decoration-color: #008000\">Completed</span>()\n",
       "</pre>\n"
      ],
      "text/plain": [
       "22:27:11.146 | \u001b[36mINFO\u001b[0m    | Task run 'calculate_pocket_area-cc18ef62-1' - Finished in state \u001b[32mCompleted\u001b[0m()\n"
      ]
     },
     "metadata": {},
     "output_type": "display_data"
    },
    {
     "data": {
      "text/html": [
       "<pre style=\"white-space:pre;overflow-x:auto;line-height:normal;font-family:Menlo,'DejaVu Sans Mono',consolas,'Courier New',monospace\">22:27:11.181 | <span style=\"color: #008080; text-decoration-color: #008080\">INFO</span>    | Task run 'calculate_pocket_area-cc18ef62-4' - Finished in state <span style=\"color: #008000; text-decoration-color: #008000\">Completed</span>()\n",
       "</pre>\n"
      ],
      "text/plain": [
       "22:27:11.181 | \u001b[36mINFO\u001b[0m    | Task run 'calculate_pocket_area-cc18ef62-4' - Finished in state \u001b[32mCompleted\u001b[0m()\n"
      ]
     },
     "metadata": {},
     "output_type": "display_data"
    },
    {
     "data": {
      "text/html": [
       "<pre style=\"white-space:pre;overflow-x:auto;line-height:normal;font-family:Menlo,'DejaVu Sans Mono',consolas,'Courier New',monospace\">22:27:11.245 | <span style=\"color: #008080; text-decoration-color: #008080\">INFO</span>    | Task run 'union_dataframes-8a4e3d8f-0' - Finished in state <span style=\"color: #008000; text-decoration-color: #008000\">Completed</span>()\n",
       "</pre>\n"
      ],
      "text/plain": [
       "22:27:11.245 | \u001b[36mINFO\u001b[0m    | Task run 'union_dataframes-8a4e3d8f-0' - Finished in state \u001b[32mCompleted\u001b[0m()\n"
      ]
     },
     "metadata": {},
     "output_type": "display_data"
    },
    {
     "data": {
      "text/html": [
       "<pre style=\"white-space:pre;overflow-x:auto;line-height:normal;font-family:Menlo,'DejaVu Sans Mono',consolas,'Courier New',monospace\">22:27:11.274 | <span style=\"color: #008080; text-decoration-color: #008080\">INFO</span>    | Flow run<span style=\"color: #800080; text-decoration-color: #800080\"> 'capable-viper'</span> - Created task run 'get_frames_for_time_windows-182f3eb1-0' for task 'get_frames_for_time_windows'\n",
       "</pre>\n"
      ],
      "text/plain": [
       "22:27:11.274 | \u001b[36mINFO\u001b[0m    | Flow run\u001b[35m 'capable-viper'\u001b[0m - Created task run 'get_frames_for_time_windows-182f3eb1-0' for task 'get_frames_for_time_windows'\n"
      ]
     },
     "metadata": {},
     "output_type": "display_data"
    },
    {
     "data": {
      "text/html": [
       "<pre style=\"white-space:pre;overflow-x:auto;line-height:normal;font-family:Menlo,'DejaVu Sans Mono',consolas,'Courier New',monospace\">22:27:11.276 | <span style=\"color: #008080; text-decoration-color: #008080\">INFO</span>    | Flow run<span style=\"color: #800080; text-decoration-color: #800080\"> 'capable-viper'</span> - Executing 'get_frames_for_time_windows-182f3eb1-0' immediately...\n",
       "</pre>\n"
      ],
      "text/plain": [
       "22:27:11.276 | \u001b[36mINFO\u001b[0m    | Flow run\u001b[35m 'capable-viper'\u001b[0m - Executing 'get_frames_for_time_windows-182f3eb1-0' immediately...\n"
      ]
     },
     "metadata": {},
     "output_type": "display_data"
    },
    {
     "data": {
      "text/html": [
       "<pre style=\"white-space:pre;overflow-x:auto;line-height:normal;font-family:Menlo,'DejaVu Sans Mono',consolas,'Courier New',monospace\">22:27:11.370 | <span style=\"color: #008080; text-decoration-color: #008080\">INFO</span>    | Task run 'get_frames_for_time_windows-182f3eb1-0' - Finished in state <span style=\"color: #008000; text-decoration-color: #008000\">Completed</span>()\n",
       "</pre>\n"
      ],
      "text/plain": [
       "22:27:11.370 | \u001b[36mINFO\u001b[0m    | Task run 'get_frames_for_time_windows-182f3eb1-0' - Finished in state \u001b[32mCompleted\u001b[0m()\n"
      ]
     },
     "metadata": {},
     "output_type": "display_data"
    },
    {
     "data": {
      "text/html": [
       "<pre style=\"white-space:pre;overflow-x:auto;line-height:normal;font-family:Menlo,'DejaVu Sans Mono',consolas,'Courier New',monospace\">22:27:11.397 | <span style=\"color: #008080; text-decoration-color: #008080\">INFO</span>    | Flow run<span style=\"color: #800080; text-decoration-color: #800080\"> 'capable-viper'</span> - Created task run 'get_play_pocket_metrics-c9059079-0' for task 'get_play_pocket_metrics'\n",
       "</pre>\n"
      ],
      "text/plain": [
       "22:27:11.397 | \u001b[36mINFO\u001b[0m    | Flow run\u001b[35m 'capable-viper'\u001b[0m - Created task run 'get_play_pocket_metrics-c9059079-0' for task 'get_play_pocket_metrics'\n"
      ]
     },
     "metadata": {},
     "output_type": "display_data"
    },
    {
     "data": {
      "text/html": [
       "<pre style=\"white-space:pre;overflow-x:auto;line-height:normal;font-family:Menlo,'DejaVu Sans Mono',consolas,'Courier New',monospace\">22:27:11.399 | <span style=\"color: #008080; text-decoration-color: #008080\">INFO</span>    | Flow run<span style=\"color: #800080; text-decoration-color: #800080\"> 'capable-viper'</span> - Executing 'get_play_pocket_metrics-c9059079-0' immediately...\n",
       "</pre>\n"
      ],
      "text/plain": [
       "22:27:11.399 | \u001b[36mINFO\u001b[0m    | Flow run\u001b[35m 'capable-viper'\u001b[0m - Executing 'get_play_pocket_metrics-c9059079-0' immediately...\n"
      ]
     },
     "metadata": {},
     "output_type": "display_data"
    },
    {
     "data": {
      "text/html": [
       "<pre style=\"white-space:pre;overflow-x:auto;line-height:normal;font-family:Menlo,'DejaVu Sans Mono',consolas,'Courier New',monospace\">22:27:11.494 | <span style=\"color: #008080; text-decoration-color: #008080\">INFO</span>    | Task run 'get_play_pocket_metrics-c9059079-0' - Finished in state <span style=\"color: #008000; text-decoration-color: #008000\">Completed</span>()\n",
       "</pre>\n"
      ],
      "text/plain": [
       "22:27:11.494 | \u001b[36mINFO\u001b[0m    | Task run 'get_play_pocket_metrics-c9059079-0' - Finished in state \u001b[32mCompleted\u001b[0m()\n"
      ]
     },
     "metadata": {},
     "output_type": "display_data"
    },
    {
     "data": {
      "text/html": [
       "<pre style=\"white-space:pre;overflow-x:auto;line-height:normal;font-family:Menlo,'DejaVu Sans Mono',consolas,'Courier New',monospace\">22:27:11.532 | <span style=\"color: #008080; text-decoration-color: #008080\">INFO</span>    | Flow run<span style=\"color: #800080; text-decoration-color: #800080\"> 'capable-viper'</span> - Created task run 'calculate_average_pocket_area_loss_per_second-c688e278-0' for task 'calculate_average_pocket_area_loss_per_second'\n",
       "</pre>\n"
      ],
      "text/plain": [
       "22:27:11.532 | \u001b[36mINFO\u001b[0m    | Flow run\u001b[35m 'capable-viper'\u001b[0m - Created task run 'calculate_average_pocket_area_loss_per_second-c688e278-0' for task 'calculate_average_pocket_area_loss_per_second'\n"
      ]
     },
     "metadata": {},
     "output_type": "display_data"
    },
    {
     "data": {
      "text/html": [
       "<pre style=\"white-space:pre;overflow-x:auto;line-height:normal;font-family:Menlo,'DejaVu Sans Mono',consolas,'Courier New',monospace\">22:27:11.535 | <span style=\"color: #008080; text-decoration-color: #008080\">INFO</span>    | Flow run<span style=\"color: #800080; text-decoration-color: #800080\"> 'capable-viper'</span> - Executing 'calculate_average_pocket_area_loss_per_second-c688e278-0' immediately...\n",
       "</pre>\n"
      ],
      "text/plain": [
       "22:27:11.535 | \u001b[36mINFO\u001b[0m    | Flow run\u001b[35m 'capable-viper'\u001b[0m - Executing 'calculate_average_pocket_area_loss_per_second-c688e278-0' immediately...\n"
      ]
     },
     "metadata": {},
     "output_type": "display_data"
    },
    {
     "data": {
      "text/html": [
       "<pre style=\"white-space:pre;overflow-x:auto;line-height:normal;font-family:Menlo,'DejaVu Sans Mono',consolas,'Courier New',monospace\">22:27:11.613 | <span style=\"color: #008080; text-decoration-color: #008080\">INFO</span>    | Task run 'calculate_average_pocket_area_loss_per_second-c688e278-0' - Finished in state <span style=\"color: #008000; text-decoration-color: #008000\">Completed</span>()\n",
       "</pre>\n"
      ],
      "text/plain": [
       "22:27:11.613 | \u001b[36mINFO\u001b[0m    | Task run 'calculate_average_pocket_area_loss_per_second-c688e278-0' - Finished in state \u001b[32mCompleted\u001b[0m()\n"
      ]
     },
     "metadata": {},
     "output_type": "display_data"
    },
    {
     "data": {
      "text/html": [
       "<pre style=\"white-space:pre;overflow-x:auto;line-height:normal;font-family:Menlo,'DejaVu Sans Mono',consolas,'Courier New',monospace\">22:27:11.640 | <span style=\"color: #008080; text-decoration-color: #008080\">INFO</span>    | Flow run<span style=\"color: #800080; text-decoration-color: #800080\"> 'capable-viper'</span> - Created task run 'write_csv-386fe2af-0' for task 'write_csv'\n",
       "</pre>\n"
      ],
      "text/plain": [
       "22:27:11.640 | \u001b[36mINFO\u001b[0m    | Flow run\u001b[35m 'capable-viper'\u001b[0m - Created task run 'write_csv-386fe2af-0' for task 'write_csv'\n"
      ]
     },
     "metadata": {},
     "output_type": "display_data"
    },
    {
     "data": {
      "text/html": [
       "<pre style=\"white-space:pre;overflow-x:auto;line-height:normal;font-family:Menlo,'DejaVu Sans Mono',consolas,'Courier New',monospace\">22:27:11.643 | <span style=\"color: #008080; text-decoration-color: #008080\">INFO</span>    | Flow run<span style=\"color: #800080; text-decoration-color: #800080\"> 'capable-viper'</span> - Executing 'write_csv-386fe2af-0' immediately...\n",
       "</pre>\n"
      ],
      "text/plain": [
       "22:27:11.643 | \u001b[36mINFO\u001b[0m    | Flow run\u001b[35m 'capable-viper'\u001b[0m - Executing 'write_csv-386fe2af-0' immediately...\n"
      ]
     },
     "metadata": {},
     "output_type": "display_data"
    },
    {
     "data": {
      "text/html": [
       "<pre style=\"white-space:pre;overflow-x:auto;line-height:normal;font-family:Menlo,'DejaVu Sans Mono',consolas,'Courier New',monospace\">22:27:11.911 | <span style=\"color: #008080; text-decoration-color: #008080\">INFO</span>    | Task run 'write_csv-386fe2af-0' - Finished in state <span style=\"color: #008000; text-decoration-color: #008000\">Completed</span>()\n",
       "</pre>\n"
      ],
      "text/plain": [
       "22:27:11.911 | \u001b[36mINFO\u001b[0m    | Task run 'write_csv-386fe2af-0' - Finished in state \u001b[32mCompleted\u001b[0m()\n"
      ]
     },
     "metadata": {},
     "output_type": "display_data"
    },
    {
     "data": {
      "text/html": [
       "<pre style=\"white-space:pre;overflow-x:auto;line-height:normal;font-family:Menlo,'DejaVu Sans Mono',consolas,'Courier New',monospace\">22:27:11.940 | <span style=\"color: #008080; text-decoration-color: #008080\">INFO</span>    | Flow run<span style=\"color: #800080; text-decoration-color: #800080\"> 'capable-viper'</span> - Created task run 'write_csv-386fe2af-1' for task 'write_csv'\n",
       "</pre>\n"
      ],
      "text/plain": [
       "22:27:11.940 | \u001b[36mINFO\u001b[0m    | Flow run\u001b[35m 'capable-viper'\u001b[0m - Created task run 'write_csv-386fe2af-1' for task 'write_csv'\n"
      ]
     },
     "metadata": {},
     "output_type": "display_data"
    },
    {
     "data": {
      "text/html": [
       "<pre style=\"white-space:pre;overflow-x:auto;line-height:normal;font-family:Menlo,'DejaVu Sans Mono',consolas,'Courier New',monospace\">22:27:11.942 | <span style=\"color: #008080; text-decoration-color: #008080\">INFO</span>    | Flow run<span style=\"color: #800080; text-decoration-color: #800080\"> 'capable-viper'</span> - Executing 'write_csv-386fe2af-1' immediately...\n",
       "</pre>\n"
      ],
      "text/plain": [
       "22:27:11.942 | \u001b[36mINFO\u001b[0m    | Flow run\u001b[35m 'capable-viper'\u001b[0m - Executing 'write_csv-386fe2af-1' immediately...\n"
      ]
     },
     "metadata": {},
     "output_type": "display_data"
    },
    {
     "data": {
      "text/html": [
       "<pre style=\"white-space:pre;overflow-x:auto;line-height:normal;font-family:Menlo,'DejaVu Sans Mono',consolas,'Courier New',monospace\">22:27:12.008 | <span style=\"color: #008080; text-decoration-color: #008080\">INFO</span>    | Task run 'write_csv-386fe2af-1' - Finished in state <span style=\"color: #008000; text-decoration-color: #008000\">Completed</span>()\n",
       "</pre>\n"
      ],
      "text/plain": [
       "22:27:12.008 | \u001b[36mINFO\u001b[0m    | Task run 'write_csv-386fe2af-1' - Finished in state \u001b[32mCompleted\u001b[0m()\n"
      ]
     },
     "metadata": {},
     "output_type": "display_data"
    },
    {
     "data": {
      "text/html": [
       "<pre style=\"white-space:pre;overflow-x:auto;line-height:normal;font-family:Menlo,'DejaVu Sans Mono',consolas,'Courier New',monospace\">22:27:12.036 | <span style=\"color: #008080; text-decoration-color: #008080\">INFO</span>    | Flow run<span style=\"color: #800080; text-decoration-color: #800080\"> 'capable-viper'</span> - Created task run 'write_csv-386fe2af-2' for task 'write_csv'\n",
       "</pre>\n"
      ],
      "text/plain": [
       "22:27:12.036 | \u001b[36mINFO\u001b[0m    | Flow run\u001b[35m 'capable-viper'\u001b[0m - Created task run 'write_csv-386fe2af-2' for task 'write_csv'\n"
      ]
     },
     "metadata": {},
     "output_type": "display_data"
    },
    {
     "data": {
      "text/html": [
       "<pre style=\"white-space:pre;overflow-x:auto;line-height:normal;font-family:Menlo,'DejaVu Sans Mono',consolas,'Courier New',monospace\">22:27:12.038 | <span style=\"color: #008080; text-decoration-color: #008080\">INFO</span>    | Flow run<span style=\"color: #800080; text-decoration-color: #800080\"> 'capable-viper'</span> - Executing 'write_csv-386fe2af-2' immediately...\n",
       "</pre>\n"
      ],
      "text/plain": [
       "22:27:12.038 | \u001b[36mINFO\u001b[0m    | Flow run\u001b[35m 'capable-viper'\u001b[0m - Executing 'write_csv-386fe2af-2' immediately...\n"
      ]
     },
     "metadata": {},
     "output_type": "display_data"
    },
    {
     "data": {
      "text/html": [
       "<pre style=\"white-space:pre;overflow-x:auto;line-height:normal;font-family:Menlo,'DejaVu Sans Mono',consolas,'Courier New',monospace\">22:27:12.188 | <span style=\"color: #008080; text-decoration-color: #008080\">INFO</span>    | Task run 'write_csv-386fe2af-2' - Finished in state <span style=\"color: #008000; text-decoration-color: #008000\">Completed</span>()\n",
       "</pre>\n"
      ],
      "text/plain": [
       "22:27:12.188 | \u001b[36mINFO\u001b[0m    | Task run 'write_csv-386fe2af-2' - Finished in state \u001b[32mCompleted\u001b[0m()\n"
      ]
     },
     "metadata": {},
     "output_type": "display_data"
    },
    {
     "data": {
      "text/html": [
       "<pre style=\"white-space:pre;overflow-x:auto;line-height:normal;font-family:Menlo,'DejaVu Sans Mono',consolas,'Courier New',monospace\">22:27:12.216 | <span style=\"color: #008080; text-decoration-color: #008080\">INFO</span>    | Flow run<span style=\"color: #800080; text-decoration-color: #800080\"> 'capable-viper'</span> - Created task run 'write_csv-386fe2af-3' for task 'write_csv'\n",
       "</pre>\n"
      ],
      "text/plain": [
       "22:27:12.216 | \u001b[36mINFO\u001b[0m    | Flow run\u001b[35m 'capable-viper'\u001b[0m - Created task run 'write_csv-386fe2af-3' for task 'write_csv'\n"
      ]
     },
     "metadata": {},
     "output_type": "display_data"
    },
    {
     "data": {
      "text/html": [
       "<pre style=\"white-space:pre;overflow-x:auto;line-height:normal;font-family:Menlo,'DejaVu Sans Mono',consolas,'Courier New',monospace\">22:27:12.219 | <span style=\"color: #008080; text-decoration-color: #008080\">INFO</span>    | Flow run<span style=\"color: #800080; text-decoration-color: #800080\"> 'capable-viper'</span> - Executing 'write_csv-386fe2af-3' immediately...\n",
       "</pre>\n"
      ],
      "text/plain": [
       "22:27:12.219 | \u001b[36mINFO\u001b[0m    | Flow run\u001b[35m 'capable-viper'\u001b[0m - Executing 'write_csv-386fe2af-3' immediately...\n"
      ]
     },
     "metadata": {},
     "output_type": "display_data"
    },
    {
     "data": {
      "text/html": [
       "<pre style=\"white-space:pre;overflow-x:auto;line-height:normal;font-family:Menlo,'DejaVu Sans Mono',consolas,'Courier New',monospace\">22:27:12.295 | <span style=\"color: #008080; text-decoration-color: #008080\">INFO</span>    | Task run 'write_csv-386fe2af-3' - Finished in state <span style=\"color: #008000; text-decoration-color: #008000\">Completed</span>()\n",
       "</pre>\n"
      ],
      "text/plain": [
       "22:27:12.295 | \u001b[36mINFO\u001b[0m    | Task run 'write_csv-386fe2af-3' - Finished in state \u001b[32mCompleted\u001b[0m()\n"
      ]
     },
     "metadata": {},
     "output_type": "display_data"
    },
    {
     "data": {
      "text/html": [
       "<pre style=\"white-space:pre;overflow-x:auto;line-height:normal;font-family:Menlo,'DejaVu Sans Mono',consolas,'Courier New',monospace\">22:27:12.344 | <span style=\"color: #008080; text-decoration-color: #008080\">INFO</span>    | Flow run<span style=\"color: #800080; text-decoration-color: #800080\"> 'capable-viper'</span> - Finished in state <span style=\"color: #008000; text-decoration-color: #008000\">Completed</span>('All states completed.')\n",
       "</pre>\n"
      ],
      "text/plain": [
       "22:27:12.344 | \u001b[36mINFO\u001b[0m    | Flow run\u001b[35m 'capable-viper'\u001b[0m - Finished in state \u001b[32mCompleted\u001b[0m('All states completed.')\n"
      ]
     },
     "metadata": {},
     "output_type": "display_data"
    }
   ],
   "source": [
    "_ = main_flow(max_weeks=3, max_games=3, max_plays=3)"
   ]
  },
  {
   "cell_type": "code",
   "execution_count": 6,
   "id": "f8607a90",
   "metadata": {},
   "outputs": [
    {
     "name": "stderr",
     "output_type": "stream",
     "text": [
      "/workspace/nflbigdatabowl2023/.venv/lib/python3.8/site-packages/prefect/flows.py:206: UserWarning: A flow named 'main-flow' and defined at '/workspace/nflbigdatabowl2023/src/pipeline/flows/main.py:31' conflicts with another flow. Consider specifying a unique `name` parameter in the flow definition:\n",
      "\n",
      " `@flow(name='my_unique_name', ...)`\n",
      "  warnings.warn(\n"
     ]
    }
   ],
   "source": [
    "df_plays_all = pd.read_csv(f\"{DIR}/data/raw/plays.csv\")\n",
    "df_tracking_display_all = pd.read_csv(f\"{DIR}/data/outputs/tracking_display.csv\")\n",
    "df_areas_all = pd.read_csv(f\"{DIR}/data/outputs/pocket_areas.csv\")\n",
    "df_areas_all[\"pocket\"] = df_areas_all[\"pocket\"].apply(literal_eval)"
   ]
  },
  {
   "cell_type": "code",
   "execution_count": 7,
   "id": "a8b17aa2",
   "metadata": {
    "scrolled": false
   },
   "outputs": [
    {
     "data": {
      "application/vnd.jupyter.widget-view+json": {
       "model_id": "66f8ea92bfcd470f9c26cd1b3fdbc17d",
       "version_major": 2,
       "version_minor": 0
      },
      "text/plain": [
       "interactive(children=(Dropdown(description='Week', options=(1, 2, 3), value=1), Dropdown(description='Game ID'…"
      ]
     },
     "metadata": {},
     "output_type": "display_data"
    }
   ],
   "source": [
    "create_interactive_play_selector(\n",
    "    df_plays_all,\n",
    "    df_tracking_display_all,\n",
    "    df_areas_all,\n",
    "    continuous_update=True\n",
    ")"
   ]
  },
  {
   "cell_type": "code",
   "execution_count": null,
   "id": "6df5d438",
   "metadata": {},
   "outputs": [],
   "source": []
  }
 ],
 "metadata": {
  "kernelspec": {
   "display_name": "Python 3 (ipykernel)",
   "language": "python",
   "name": "python3"
  },
  "language_info": {
   "codemirror_mode": {
    "name": "ipython",
    "version": 3
   },
   "file_extension": ".py",
   "mimetype": "text/x-python",
   "name": "python",
   "nbconvert_exporter": "python",
   "pygments_lexer": "ipython3",
   "version": "3.8.13"
  },
  "vscode": {
   "interpreter": {
    "hash": "32851c0586613b673c0e930c323ba937886b2f699c9a23a5a6ddc560d53801f6"
   }
  }
 },
 "nbformat": 4,
 "nbformat_minor": 5
}
