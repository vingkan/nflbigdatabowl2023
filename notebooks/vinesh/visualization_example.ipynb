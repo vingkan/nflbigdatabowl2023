{
 "cells": [
  {
   "cell_type": "markdown",
   "id": "9754e686",
   "metadata": {},
   "source": [
    "# Visualization Example"
   ]
  },
  {
   "cell_type": "code",
   "execution_count": 1,
   "id": "b945a06e",
   "metadata": {},
   "outputs": [],
   "source": [
    "%load_ext autoreload\n",
    "%autoreload 2"
   ]
  },
  {
   "cell_type": "code",
   "execution_count": 2,
   "id": "fb4c19ef",
   "metadata": {},
   "outputs": [],
   "source": [
    "import sys\n",
    "DIR = \"/workspace/nflbigdatabowl2023\"\n",
    "sys.path.append(DIR)"
   ]
  },
  {
   "cell_type": "code",
   "execution_count": 3,
   "id": "da35fb4e",
   "metadata": {},
   "outputs": [],
   "source": [
    "import math\n",
    "from ast import literal_eval\n",
    "\n",
    "import pandas as pd\n",
    "import matplotlib.pyplot as plt\n",
    "import matplotlib.animation as animation\n",
    "from IPython.display import HTML\n",
    "\n",
    "from src.metrics.pocket_area.base import PocketArea\n",
    "from src.pipeline.flows.main import main_flow"
   ]
  },
  {
   "cell_type": "code",
   "execution_count": 4,
   "id": "52e7c8a7",
   "metadata": {},
   "outputs": [
    {
     "data": {
      "text/html": [
       "<pre style=\"white-space:pre;overflow-x:auto;line-height:normal;font-family:Menlo,'DejaVu Sans Mono',consolas,'Courier New',monospace\">19:58:23.712 | <span style=\"color: #008080; text-decoration-color: #008080\">INFO</span>    | prefect.engine - Created flow run<span style=\"color: #800080; text-decoration-color: #800080\"> 'satisfied-pogona'</span> for flow<span style=\"color: #800080; text-decoration-color: #800080; font-weight: bold\"> 'main-flow'</span>\n",
       "</pre>\n"
      ],
      "text/plain": [
       "19:58:23.712 | \u001b[36mINFO\u001b[0m    | prefect.engine - Created flow run\u001b[35m 'satisfied-pogona'\u001b[0m for flow\u001b[1;35m 'main-flow'\u001b[0m\n"
      ]
     },
     "metadata": {},
     "output_type": "display_data"
    },
    {
     "data": {
      "text/html": [
       "<pre style=\"white-space:pre;overflow-x:auto;line-height:normal;font-family:Menlo,'DejaVu Sans Mono',consolas,'Courier New',monospace\">19:58:23.943 | <span style=\"color: #008080; text-decoration-color: #008080\">INFO</span>    | Flow run<span style=\"color: #800080; text-decoration-color: #800080\"> 'satisfied-pogona'</span> - Created task run 'read_csv-3609c996-0' for task 'read_csv'\n",
       "</pre>\n"
      ],
      "text/plain": [
       "19:58:23.943 | \u001b[36mINFO\u001b[0m    | Flow run\u001b[35m 'satisfied-pogona'\u001b[0m - Created task run 'read_csv-3609c996-0' for task 'read_csv'\n"
      ]
     },
     "metadata": {},
     "output_type": "display_data"
    },
    {
     "data": {
      "text/html": [
       "<pre style=\"white-space:pre;overflow-x:auto;line-height:normal;font-family:Menlo,'DejaVu Sans Mono',consolas,'Courier New',monospace\">19:58:23.947 | <span style=\"color: #008080; text-decoration-color: #008080\">INFO</span>    | Flow run<span style=\"color: #800080; text-decoration-color: #800080\"> 'satisfied-pogona'</span> - Executing 'read_csv-3609c996-0' immediately...\n",
       "</pre>\n"
      ],
      "text/plain": [
       "19:58:23.947 | \u001b[36mINFO\u001b[0m    | Flow run\u001b[35m 'satisfied-pogona'\u001b[0m - Executing 'read_csv-3609c996-0' immediately...\n"
      ]
     },
     "metadata": {},
     "output_type": "display_data"
    },
    {
     "data": {
      "text/html": [
       "<pre style=\"white-space:pre;overflow-x:auto;line-height:normal;font-family:Menlo,'DejaVu Sans Mono',consolas,'Courier New',monospace\">19:58:24.237 | <span style=\"color: #008080; text-decoration-color: #008080\">INFO</span>    | Task run 'read_csv-3609c996-0' - Finished in state <span style=\"color: #008000; text-decoration-color: #008000\">Completed</span>()\n",
       "</pre>\n"
      ],
      "text/plain": [
       "19:58:24.237 | \u001b[36mINFO\u001b[0m    | Task run 'read_csv-3609c996-0' - Finished in state \u001b[32mCompleted\u001b[0m()\n"
      ]
     },
     "metadata": {},
     "output_type": "display_data"
    },
    {
     "data": {
      "text/html": [
       "<pre style=\"white-space:pre;overflow-x:auto;line-height:normal;font-family:Menlo,'DejaVu Sans Mono',consolas,'Courier New',monospace\">19:58:24.274 | <span style=\"color: #008080; text-decoration-color: #008080\">INFO</span>    | Flow run<span style=\"color: #800080; text-decoration-color: #800080\"> 'satisfied-pogona'</span> - Created task run 'read_csv-3609c996-1' for task 'read_csv'\n",
       "</pre>\n"
      ],
      "text/plain": [
       "19:58:24.274 | \u001b[36mINFO\u001b[0m    | Flow run\u001b[35m 'satisfied-pogona'\u001b[0m - Created task run 'read_csv-3609c996-1' for task 'read_csv'\n"
      ]
     },
     "metadata": {},
     "output_type": "display_data"
    },
    {
     "data": {
      "text/html": [
       "<pre style=\"white-space:pre;overflow-x:auto;line-height:normal;font-family:Menlo,'DejaVu Sans Mono',consolas,'Courier New',monospace\">19:58:24.277 | <span style=\"color: #008080; text-decoration-color: #008080\">INFO</span>    | Flow run<span style=\"color: #800080; text-decoration-color: #800080\"> 'satisfied-pogona'</span> - Executing 'read_csv-3609c996-1' immediately...\n",
       "</pre>\n"
      ],
      "text/plain": [
       "19:58:24.277 | \u001b[36mINFO\u001b[0m    | Flow run\u001b[35m 'satisfied-pogona'\u001b[0m - Executing 'read_csv-3609c996-1' immediately...\n"
      ]
     },
     "metadata": {},
     "output_type": "display_data"
    },
    {
     "data": {
      "text/html": [
       "<pre style=\"white-space:pre;overflow-x:auto;line-height:normal;font-family:Menlo,'DejaVu Sans Mono',consolas,'Courier New',monospace\">19:58:25.714 | <span style=\"color: #008080; text-decoration-color: #008080\">INFO</span>    | Task run 'read_csv-3609c996-1' - Finished in state <span style=\"color: #008000; text-decoration-color: #008000\">Completed</span>()\n",
       "</pre>\n"
      ],
      "text/plain": [
       "19:58:25.714 | \u001b[36mINFO\u001b[0m    | Task run 'read_csv-3609c996-1' - Finished in state \u001b[32mCompleted\u001b[0m()\n"
      ]
     },
     "metadata": {},
     "output_type": "display_data"
    },
    {
     "data": {
      "text/html": [
       "<pre style=\"white-space:pre;overflow-x:auto;line-height:normal;font-family:Menlo,'DejaVu Sans Mono',consolas,'Courier New',monospace\">19:58:26.012 | <span style=\"color: #008080; text-decoration-color: #008080\">INFO</span>    | Flow run<span style=\"color: #800080; text-decoration-color: #800080\"> 'satisfied-pogona'</span> - Created task run 'transform_to_frames-3446c324-0' for task 'transform_to_frames'\n",
       "</pre>\n"
      ],
      "text/plain": [
       "19:58:26.012 | \u001b[36mINFO\u001b[0m    | Flow run\u001b[35m 'satisfied-pogona'\u001b[0m - Created task run 'transform_to_frames-3446c324-0' for task 'transform_to_frames'\n"
      ]
     },
     "metadata": {},
     "output_type": "display_data"
    },
    {
     "data": {
      "text/html": [
       "<pre style=\"white-space:pre;overflow-x:auto;line-height:normal;font-family:Menlo,'DejaVu Sans Mono',consolas,'Courier New',monospace\">19:58:26.017 | <span style=\"color: #008080; text-decoration-color: #008080\">INFO</span>    | Flow run<span style=\"color: #800080; text-decoration-color: #800080\"> 'satisfied-pogona'</span> - Executing 'transform_to_frames-3446c324-0' immediately...\n",
       "</pre>\n"
      ],
      "text/plain": [
       "19:58:26.017 | \u001b[36mINFO\u001b[0m    | Flow run\u001b[35m 'satisfied-pogona'\u001b[0m - Executing 'transform_to_frames-3446c324-0' immediately...\n"
      ]
     },
     "metadata": {},
     "output_type": "display_data"
    },
    {
     "data": {
      "text/html": [
       "<pre style=\"white-space:pre;overflow-x:auto;line-height:normal;font-family:Menlo,'DejaVu Sans Mono',consolas,'Courier New',monospace\">19:58:26.164 | <span style=\"color: #008080; text-decoration-color: #008080\">INFO</span>    | Task run 'transform_to_frames-3446c324-0' - Finished in state <span style=\"color: #008000; text-decoration-color: #008000\">Completed</span>()\n",
       "</pre>\n"
      ],
      "text/plain": [
       "19:58:26.164 | \u001b[36mINFO\u001b[0m    | Task run 'transform_to_frames-3446c324-0' - Finished in state \u001b[32mCompleted\u001b[0m()\n"
      ]
     },
     "metadata": {},
     "output_type": "display_data"
    },
    {
     "data": {
      "text/html": [
       "<pre style=\"white-space:pre;overflow-x:auto;line-height:normal;font-family:Menlo,'DejaVu Sans Mono',consolas,'Courier New',monospace\">19:58:26.200 | <span style=\"color: #008080; text-decoration-color: #008080\">INFO</span>    | Flow run<span style=\"color: #800080; text-decoration-color: #800080\"> 'satisfied-pogona'</span> - Created task run 'transform_to_records_per_frame-823b8998-0' for task 'transform_to_records_per_frame'\n",
       "</pre>\n"
      ],
      "text/plain": [
       "19:58:26.200 | \u001b[36mINFO\u001b[0m    | Flow run\u001b[35m 'satisfied-pogona'\u001b[0m - Created task run 'transform_to_records_per_frame-823b8998-0' for task 'transform_to_records_per_frame'\n"
      ]
     },
     "metadata": {},
     "output_type": "display_data"
    },
    {
     "data": {
      "text/html": [
       "<pre style=\"white-space:pre;overflow-x:auto;line-height:normal;font-family:Menlo,'DejaVu Sans Mono',consolas,'Courier New',monospace\">19:58:26.204 | <span style=\"color: #008080; text-decoration-color: #008080\">INFO</span>    | Flow run<span style=\"color: #800080; text-decoration-color: #800080\"> 'satisfied-pogona'</span> - Executing 'transform_to_records_per_frame-823b8998-0' immediately...\n",
       "</pre>\n"
      ],
      "text/plain": [
       "19:58:26.204 | \u001b[36mINFO\u001b[0m    | Flow run\u001b[35m 'satisfied-pogona'\u001b[0m - Executing 'transform_to_records_per_frame-823b8998-0' immediately...\n"
      ]
     },
     "metadata": {},
     "output_type": "display_data"
    },
    {
     "data": {
      "text/html": [
       "<pre style=\"white-space:pre;overflow-x:auto;line-height:normal;font-family:Menlo,'DejaVu Sans Mono',consolas,'Courier New',monospace\">19:58:26.443 | <span style=\"color: #008080; text-decoration-color: #008080\">INFO</span>    | Task run 'transform_to_records_per_frame-823b8998-0' - Finished in state <span style=\"color: #008000; text-decoration-color: #008000\">Completed</span>()\n",
       "</pre>\n"
      ],
      "text/plain": [
       "19:58:26.443 | \u001b[36mINFO\u001b[0m    | Task run 'transform_to_records_per_frame-823b8998-0' - Finished in state \u001b[32mCompleted\u001b[0m()\n"
      ]
     },
     "metadata": {},
     "output_type": "display_data"
    },
    {
     "data": {
      "text/html": [
       "<pre style=\"white-space:pre;overflow-x:auto;line-height:normal;font-family:Menlo,'DejaVu Sans Mono',consolas,'Courier New',monospace\">19:58:26.487 | <span style=\"color: #008080; text-decoration-color: #008080\">INFO</span>    | Flow run<span style=\"color: #800080; text-decoration-color: #800080\"> 'satisfied-pogona'</span> - Created task run 'calculate_pocket_area-cc18ef62-0' for task 'calculate_pocket_area'\n",
       "</pre>\n"
      ],
      "text/plain": [
       "19:58:26.487 | \u001b[36mINFO\u001b[0m    | Flow run\u001b[35m 'satisfied-pogona'\u001b[0m - Created task run 'calculate_pocket_area-cc18ef62-0' for task 'calculate_pocket_area'\n"
      ]
     },
     "metadata": {},
     "output_type": "display_data"
    },
    {
     "data": {
      "text/html": [
       "<pre style=\"white-space:pre;overflow-x:auto;line-height:normal;font-family:Menlo,'DejaVu Sans Mono',consolas,'Courier New',monospace\">19:58:26.489 | <span style=\"color: #008080; text-decoration-color: #008080\">INFO</span>    | Flow run<span style=\"color: #800080; text-decoration-color: #800080\"> 'satisfied-pogona'</span> - Submitted task run 'calculate_pocket_area-cc18ef62-0' for execution.\n",
       "</pre>\n"
      ],
      "text/plain": [
       "19:58:26.489 | \u001b[36mINFO\u001b[0m    | Flow run\u001b[35m 'satisfied-pogona'\u001b[0m - Submitted task run 'calculate_pocket_area-cc18ef62-0' for execution.\n"
      ]
     },
     "metadata": {},
     "output_type": "display_data"
    },
    {
     "data": {
      "text/html": [
       "<pre style=\"white-space:pre;overflow-x:auto;line-height:normal;font-family:Menlo,'DejaVu Sans Mono',consolas,'Courier New',monospace\">19:58:26.520 | <span style=\"color: #008080; text-decoration-color: #008080\">INFO</span>    | Flow run<span style=\"color: #800080; text-decoration-color: #800080\"> 'satisfied-pogona'</span> - Created task run 'calculate_pocket_area-cc18ef62-1' for task 'calculate_pocket_area'\n",
       "</pre>\n"
      ],
      "text/plain": [
       "19:58:26.520 | \u001b[36mINFO\u001b[0m    | Flow run\u001b[35m 'satisfied-pogona'\u001b[0m - Created task run 'calculate_pocket_area-cc18ef62-1' for task 'calculate_pocket_area'\n"
      ]
     },
     "metadata": {},
     "output_type": "display_data"
    },
    {
     "data": {
      "text/html": [
       "<pre style=\"white-space:pre;overflow-x:auto;line-height:normal;font-family:Menlo,'DejaVu Sans Mono',consolas,'Courier New',monospace\">19:58:26.524 | <span style=\"color: #008080; text-decoration-color: #008080\">INFO</span>    | Flow run<span style=\"color: #800080; text-decoration-color: #800080\"> 'satisfied-pogona'</span> - Submitted task run 'calculate_pocket_area-cc18ef62-1' for execution.\n",
       "</pre>\n"
      ],
      "text/plain": [
       "19:58:26.524 | \u001b[36mINFO\u001b[0m    | Flow run\u001b[35m 'satisfied-pogona'\u001b[0m - Submitted task run 'calculate_pocket_area-cc18ef62-1' for execution.\n"
      ]
     },
     "metadata": {},
     "output_type": "display_data"
    },
    {
     "data": {
      "text/html": [
       "<pre style=\"white-space:pre;overflow-x:auto;line-height:normal;font-family:Menlo,'DejaVu Sans Mono',consolas,'Courier New',monospace\">19:58:26.637 | <span style=\"color: #008080; text-decoration-color: #008080\">INFO</span>    | Flow run<span style=\"color: #800080; text-decoration-color: #800080\"> 'satisfied-pogona'</span> - Created task run 'union_dataframes-8a4e3d8f-0' for task 'union_dataframes'\n",
       "</pre>\n"
      ],
      "text/plain": [
       "19:58:26.637 | \u001b[36mINFO\u001b[0m    | Flow run\u001b[35m 'satisfied-pogona'\u001b[0m - Created task run 'union_dataframes-8a4e3d8f-0' for task 'union_dataframes'\n"
      ]
     },
     "metadata": {},
     "output_type": "display_data"
    },
    {
     "data": {
      "text/html": [
       "<pre style=\"white-space:pre;overflow-x:auto;line-height:normal;font-family:Menlo,'DejaVu Sans Mono',consolas,'Courier New',monospace\">19:58:26.640 | <span style=\"color: #008080; text-decoration-color: #008080\">INFO</span>    | Flow run<span style=\"color: #800080; text-decoration-color: #800080\"> 'satisfied-pogona'</span> - Executing 'union_dataframes-8a4e3d8f-0' immediately...\n",
       "</pre>\n"
      ],
      "text/plain": [
       "19:58:26.640 | \u001b[36mINFO\u001b[0m    | Flow run\u001b[35m 'satisfied-pogona'\u001b[0m - Executing 'union_dataframes-8a4e3d8f-0' immediately...\n"
      ]
     },
     "metadata": {},
     "output_type": "display_data"
    },
    {
     "data": {
      "text/html": [
       "<pre style=\"white-space:pre;overflow-x:auto;line-height:normal;font-family:Menlo,'DejaVu Sans Mono',consolas,'Courier New',monospace\">19:58:26.681 | <span style=\"color: #008080; text-decoration-color: #008080\">INFO</span>    | Task run 'calculate_pocket_area-cc18ef62-0' - Finished in state <span style=\"color: #008000; text-decoration-color: #008000\">Completed</span>()\n",
       "</pre>\n"
      ],
      "text/plain": [
       "19:58:26.681 | \u001b[36mINFO\u001b[0m    | Task run 'calculate_pocket_area-cc18ef62-0' - Finished in state \u001b[32mCompleted\u001b[0m()\n"
      ]
     },
     "metadata": {},
     "output_type": "display_data"
    },
    {
     "data": {
      "text/html": [
       "<pre style=\"white-space:pre;overflow-x:auto;line-height:normal;font-family:Menlo,'DejaVu Sans Mono',consolas,'Courier New',monospace\">19:58:26.729 | <span style=\"color: #008080; text-decoration-color: #008080\">INFO</span>    | Task run 'calculate_pocket_area-cc18ef62-1' - Finished in state <span style=\"color: #008000; text-decoration-color: #008000\">Completed</span>()\n",
       "</pre>\n"
      ],
      "text/plain": [
       "19:58:26.729 | \u001b[36mINFO\u001b[0m    | Task run 'calculate_pocket_area-cc18ef62-1' - Finished in state \u001b[32mCompleted\u001b[0m()\n"
      ]
     },
     "metadata": {},
     "output_type": "display_data"
    },
    {
     "data": {
      "text/html": [
       "<pre style=\"white-space:pre;overflow-x:auto;line-height:normal;font-family:Menlo,'DejaVu Sans Mono',consolas,'Courier New',monospace\">19:58:26.805 | <span style=\"color: #008080; text-decoration-color: #008080\">INFO</span>    | Task run 'union_dataframes-8a4e3d8f-0' - Finished in state <span style=\"color: #008000; text-decoration-color: #008000\">Completed</span>()\n",
       "</pre>\n"
      ],
      "text/plain": [
       "19:58:26.805 | \u001b[36mINFO\u001b[0m    | Task run 'union_dataframes-8a4e3d8f-0' - Finished in state \u001b[32mCompleted\u001b[0m()\n"
      ]
     },
     "metadata": {},
     "output_type": "display_data"
    },
    {
     "data": {
      "text/html": [
       "<pre style=\"white-space:pre;overflow-x:auto;line-height:normal;font-family:Menlo,'DejaVu Sans Mono',consolas,'Courier New',monospace\">19:58:26.838 | <span style=\"color: #008080; text-decoration-color: #008080\">INFO</span>    | Flow run<span style=\"color: #800080; text-decoration-color: #800080\"> 'satisfied-pogona'</span> - Created task run 'write_csv-386fe2af-0' for task 'write_csv'\n",
       "</pre>\n"
      ],
      "text/plain": [
       "19:58:26.838 | \u001b[36mINFO\u001b[0m    | Flow run\u001b[35m 'satisfied-pogona'\u001b[0m - Created task run 'write_csv-386fe2af-0' for task 'write_csv'\n"
      ]
     },
     "metadata": {},
     "output_type": "display_data"
    },
    {
     "data": {
      "text/html": [
       "<pre style=\"white-space:pre;overflow-x:auto;line-height:normal;font-family:Menlo,'DejaVu Sans Mono',consolas,'Courier New',monospace\">19:58:26.841 | <span style=\"color: #008080; text-decoration-color: #008080\">INFO</span>    | Flow run<span style=\"color: #800080; text-decoration-color: #800080\"> 'satisfied-pogona'</span> - Executing 'write_csv-386fe2af-0' immediately...\n",
       "</pre>\n"
      ],
      "text/plain": [
       "19:58:26.841 | \u001b[36mINFO\u001b[0m    | Flow run\u001b[35m 'satisfied-pogona'\u001b[0m - Executing 'write_csv-386fe2af-0' immediately...\n"
      ]
     },
     "metadata": {},
     "output_type": "display_data"
    },
    {
     "data": {
      "text/html": [
       "<pre style=\"white-space:pre;overflow-x:auto;line-height:normal;font-family:Menlo,'DejaVu Sans Mono',consolas,'Courier New',monospace\">19:58:26.921 | <span style=\"color: #008080; text-decoration-color: #008080\">INFO</span>    | Task run 'write_csv-386fe2af-0' - Finished in state <span style=\"color: #008000; text-decoration-color: #008000\">Completed</span>()\n",
       "</pre>\n"
      ],
      "text/plain": [
       "19:58:26.921 | \u001b[36mINFO\u001b[0m    | Task run 'write_csv-386fe2af-0' - Finished in state \u001b[32mCompleted\u001b[0m()\n"
      ]
     },
     "metadata": {},
     "output_type": "display_data"
    },
    {
     "data": {
      "text/html": [
       "<pre style=\"white-space:pre;overflow-x:auto;line-height:normal;font-family:Menlo,'DejaVu Sans Mono',consolas,'Courier New',monospace\">19:58:26.956 | <span style=\"color: #008080; text-decoration-color: #008080\">INFO</span>    | Flow run<span style=\"color: #800080; text-decoration-color: #800080\"> 'satisfied-pogona'</span> - Created task run 'write_csv-386fe2af-1' for task 'write_csv'\n",
       "</pre>\n"
      ],
      "text/plain": [
       "19:58:26.956 | \u001b[36mINFO\u001b[0m    | Flow run\u001b[35m 'satisfied-pogona'\u001b[0m - Created task run 'write_csv-386fe2af-1' for task 'write_csv'\n"
      ]
     },
     "metadata": {},
     "output_type": "display_data"
    },
    {
     "data": {
      "text/html": [
       "<pre style=\"white-space:pre;overflow-x:auto;line-height:normal;font-family:Menlo,'DejaVu Sans Mono',consolas,'Courier New',monospace\">19:58:26.959 | <span style=\"color: #008080; text-decoration-color: #008080\">INFO</span>    | Flow run<span style=\"color: #800080; text-decoration-color: #800080\"> 'satisfied-pogona'</span> - Executing 'write_csv-386fe2af-1' immediately...\n",
       "</pre>\n"
      ],
      "text/plain": [
       "19:58:26.959 | \u001b[36mINFO\u001b[0m    | Flow run\u001b[35m 'satisfied-pogona'\u001b[0m - Executing 'write_csv-386fe2af-1' immediately...\n"
      ]
     },
     "metadata": {},
     "output_type": "display_data"
    },
    {
     "data": {
      "text/html": [
       "<pre style=\"white-space:pre;overflow-x:auto;line-height:normal;font-family:Menlo,'DejaVu Sans Mono',consolas,'Courier New',monospace\">19:58:27.034 | <span style=\"color: #008080; text-decoration-color: #008080\">INFO</span>    | Task run 'write_csv-386fe2af-1' - Finished in state <span style=\"color: #008000; text-decoration-color: #008000\">Completed</span>()\n",
       "</pre>\n"
      ],
      "text/plain": [
       "19:58:27.034 | \u001b[36mINFO\u001b[0m    | Task run 'write_csv-386fe2af-1' - Finished in state \u001b[32mCompleted\u001b[0m()\n"
      ]
     },
     "metadata": {},
     "output_type": "display_data"
    },
    {
     "data": {
      "text/html": [
       "<pre style=\"white-space:pre;overflow-x:auto;line-height:normal;font-family:Menlo,'DejaVu Sans Mono',consolas,'Courier New',monospace\">19:58:27.073 | <span style=\"color: #008080; text-decoration-color: #008080\">INFO</span>    | Flow run<span style=\"color: #800080; text-decoration-color: #800080\"> 'satisfied-pogona'</span> - Finished in state <span style=\"color: #008000; text-decoration-color: #008000\">Completed</span>('All states completed.')\n",
       "</pre>\n"
      ],
      "text/plain": [
       "19:58:27.073 | \u001b[36mINFO\u001b[0m    | Flow run\u001b[35m 'satisfied-pogona'\u001b[0m - Finished in state \u001b[32mCompleted\u001b[0m('All states completed.')\n"
      ]
     },
     "metadata": {},
     "output_type": "display_data"
    }
   ],
   "source": [
    "_ = main_flow(max_plays=3)"
   ]
  },
  {
   "cell_type": "code",
   "execution_count": 5,
   "id": "f8607a90",
   "metadata": {},
   "outputs": [],
   "source": [
    "df_tracking_all = pd.read_csv(f\"{DIR}/data/raw/week1.csv\")\n",
    "df_pff_all = pd.read_csv(f\"{DIR}/data/raw/pffScoutingData.csv\")\n",
    "\n",
    "df_frame_records_all = pd.read_csv(f\"{DIR}/data/outputs/frame_records.csv\")\n",
    "df_frame_records_all[\"records\"] = df_frame_records_all[\"records\"].apply(literal_eval)\n",
    "\n",
    "df_areas_all = pd.read_csv(f\"{DIR}/data/outputs/pocket_areas.csv\")\n",
    "df_areas_all[\"pocket\"] = df_areas_all[\"pocket\"].apply(literal_eval)"
   ]
  },
  {
   "cell_type": "code",
   "execution_count": 6,
   "id": "0477caef",
   "metadata": {},
   "outputs": [],
   "source": [
    "game_id = 2021090900\n",
    "play_id = 97\n",
    "query = f\"gameId == {game_id} and playId == {play_id}\"\n",
    "\n",
    "\n",
    "df_frame_records = df_frame_records_all.query(query)\n",
    "df_area = df_areas_all.query(query)\n",
    "df_pff = df_pff_all.query(query)\n",
    "df_tracking = df_tracking_all.query(query).merge(df_pff, on=[\"gameId\", \"playId\"], how=\"left\")"
   ]
  },
  {
   "cell_type": "code",
   "execution_count": 7,
   "id": "b23cb1a9",
   "metadata": {},
   "outputs": [
    {
     "data": {
      "text/plain": [
       "Index(['gameId', 'playId', 'nflId_x', 'frameId', 'time', 'jerseyNumber',\n",
       "       'team', 'playDirection', 'x', 'y', 's', 'a', 'dis', 'o', 'dir', 'event',\n",
       "       'nflId_y', 'pff_role', 'pff_positionLinedUp', 'pff_hit', 'pff_hurry',\n",
       "       'pff_sack', 'pff_beatenByDefender', 'pff_hitAllowed',\n",
       "       'pff_hurryAllowed', 'pff_sackAllowed', 'pff_nflIdBlockedPlayer',\n",
       "       'pff_blockType', 'pff_backFieldBlock'],\n",
       "      dtype='object')"
      ]
     },
     "execution_count": 7,
     "metadata": {},
     "output_type": "execute_result"
    }
   ],
   "source": [
    "df_tracking.columns"
   ]
  },
  {
   "cell_type": "code",
   "execution_count": 9,
   "id": "74eb03b9",
   "metadata": {},
   "outputs": [
    {
     "data": {
      "text/plain": [
       "PocketArea(area={'area': 104.72938933713064, 'metadata': {'vertices': None, 'radius': 5.773768266911996}}, metadata=PocketAreaMetadata(vertices=None, radius=None))"
      ]
     },
     "execution_count": 9,
     "metadata": {},
     "output_type": "execute_result"
    }
   ],
   "source": [
    "PocketArea(df_area[\"pocket\"][0])"
   ]
  },
  {
   "cell_type": "code",
   "execution_count": 10,
   "id": "be2221d2",
   "metadata": {},
   "outputs": [],
   "source": [
    "def gen_frames(input_rows):\n",
    "    rows = []\n",
    "    curr_frame = 1\n",
    "    for row in input_rows:\n",
    "        frame = row[\"frameId\"]\n",
    "        if curr_frame == frame:\n",
    "            rows.append(row)\n",
    "        else:\n",
    "            # Stop adding to this frame and yield it\n",
    "            yield rows\n",
    "            # Reset for the next frame\n",
    "            curr_frame = frame\n",
    "            rows = [row]\n",
    "    # Yield the last frame\n",
    "    yield rows\n",
    "    # Yield terminal value\n",
    "    yield None\n",
    "\n",
    "    \n",
    "def animate_play(df_play_tracking_normalized, df_area):\n",
    "    \"\"\"Sorry for the unreadable code, I'll clean it up later.\"\"\"\n",
    "    team_options = list({team for team in df_play_tracking_normalized[\"team\"].unique() if team != \"football\"})\n",
    "    team_a = df_play_tracking_normalized[\"team\"] == team_options[0]\n",
    "    team_b = df_play_tracking_normalized[\"team\"] == team_options[1]\n",
    "\n",
    "    x = df_play_tracking_normalized[\"x\"]\n",
    "    y = df_play_tracking_normalized[\"y\"]\n",
    "    g_min = min(x.min(), y.min())\n",
    "    g_max = max(x.max(), y.max())\n",
    "\n",
    "    ratio = 0.4\n",
    "    dim = ratio * (g_max - g_min)\n",
    "    fig, ax = plt.subplots(1, 1)\n",
    "    fig.set_size_inches(dim, dim)\n",
    "\n",
    "    ax.axvline(0, color=\"gray\", dashes=[5, 1])\n",
    "    ax.axhline(0, color=\"gray\", dashes=[5, 1])\n",
    "\n",
    "    trails = pd.DataFrame(df_play_tracking_normalized.query(\"team != 'football' and pff_role in ('Pass', 'Pass Block', 'Pass Rush')\"))\n",
    "    trails[\"color\"] = trails[\"team\"].apply(lambda team: \"red\" if team == team_options[0] else \"blue\")\n",
    "\n",
    "    ax.scatter(trails[\"x\"], trails[\"y\"], s=1, color=trails[\"color\"])\n",
    "\n",
    "    ax.set_xlim(g_min - 1, g_max + 1)\n",
    "    ax.set_ylim(g_min - 1, g_max + 1)\n",
    "\n",
    "    df_sorted = df_play_tracking_normalized.sort_values(by=\"frameId\", ascending=True)\n",
    "    rows = []\n",
    "    for r in df_sorted.to_dict(orient=\"records\"):\n",
    "        team = r[\"team\"]\n",
    "        if team == \"football\":\n",
    "            row = {\n",
    "                \"frameId\": r[\"frameId\"],\n",
    "                \"pid\": \"football\",\n",
    "                \"x\": r[\"x\"],\n",
    "                \"y\": r[\"y\"],\n",
    "            }\n",
    "            rows.append(row)\n",
    "            continue\n",
    "        jersey = str(int(r[\"jerseyNumber\"]))\n",
    "        row = {\n",
    "            \"frameId\": r[\"frameId\"],\n",
    "            \"pid\": f\"{team} {jersey}\",\n",
    "            \"j\": jersey,\n",
    "            \"x\": r[\"x\"],\n",
    "            \"y\": r[\"y\"],\n",
    "            \"o\": r[\"o\"],\n",
    "            \"dir\": r[\"dir\"],\n",
    "            \"c\": \"red\" if team == team_options[0] else \"blue\",\n",
    "        }\n",
    "        rows.append(row)\n",
    "\n",
    "    frame_list = list(gen_frames(rows))\n",
    "\n",
    "    diameter = 1.125\n",
    "    font_size = 12 * diameter\n",
    "    radius = 0.5 * diameter\n",
    "    y_offset = 0.175 * diameter\n",
    "\n",
    "    ball = None\n",
    "    jerseys = {}\n",
    "    numbers = {}\n",
    "    orientations = {}\n",
    "    directions = {}\n",
    "    for p in frame_list[0]:\n",
    "        pid = p[\"pid\"]\n",
    "        x, y = p[\"x\"], p[\"y\"]\n",
    "\n",
    "        if pid == \"football\":\n",
    "            ball = plt.Circle((x, y), radius * 0.5, color=\"brown\")\n",
    "            continue\n",
    "\n",
    "        x_offset = (0.375 if len(p[\"j\"]) > 1 else 0.2) * diameter\n",
    "\n",
    "        degrees = p[\"o\"]\n",
    "        radians = math.radians((-1 * degrees) + 90)\n",
    "        dx = math.cos(radians)\n",
    "        dy = math.sin(radians)\n",
    "        orientation = ax.arrow(x, y, dx, dy, color=p[\"c\"])\n",
    "        orientations[pid] = orientation\n",
    "\n",
    "        degrees = p[\"dir\"]\n",
    "        radians = math.radians((-1 * degrees) + 90)\n",
    "        dx = math.cos(radians)\n",
    "        dy = math.sin(radians)\n",
    "        direction = ax.arrow(x, y, dx, dy, color=\"lightgray\")\n",
    "        directions[pid] = direction\n",
    "\n",
    "        circle = plt.Circle((x, y), radius, color=p[\"c\"])\n",
    "        ax.add_patch(circle)\n",
    "        jerseys[pid] = circle\n",
    "\n",
    "        text = ax.text(x - x_offset, y - y_offset, p[\"j\"], fontsize=font_size, color=\"white\")\n",
    "        numbers[pid] = text\n",
    "\n",
    "    ax.add_patch(ball)\n",
    "\n",
    "    \n",
    "    def animate(i):\n",
    "        if i >= len(frame_list):\n",
    "            return ()\n",
    "        frame_rows = frame_list[i] or []\n",
    "        for row in frame_rows:\n",
    "            pid = row[\"pid\"]\n",
    "            x, y = row[\"x\"], row[\"y\"]\n",
    "\n",
    "            if pid == \"football\":\n",
    "                ball.center = x, y\n",
    "                continue\n",
    "\n",
    "            j = jerseys[pid]    \n",
    "            j.center = x, y\n",
    "\n",
    "            n = numbers[pid]\n",
    "            x_offset = (0.375 if len(row[\"j\"]) > 1 else 0.2) * diameter\n",
    "            n.set_x(x - x_offset)\n",
    "            n.set_y(y - y_offset)\n",
    "\n",
    "            o = orientations[pid]\n",
    "            degrees = row[\"o\"]\n",
    "            radians = math.radians((-1 * degrees) + 90)\n",
    "            dx = math.cos(radians)\n",
    "            dy = math.sin(radians)\n",
    "            o.set_data(x=x, y=y, dx=dx, dy=dy)\n",
    "\n",
    "            d = directions[pid]\n",
    "            degrees = row[\"dir\"]\n",
    "            radians = math.radians((-1 * degrees) + 90)\n",
    "            dx = math.cos(radians)\n",
    "            dy = math.sin(radians)\n",
    "            d.set_data(x=x, y=y, dx=dx, dy=dy)\n",
    "\n",
    "        return (*jerseys.values(), *numbers.values(), *orientations.values(), *directions.values())\n",
    "\n",
    "\n",
    "    ani = animation.FuncAnimation(fig, animate, frames=range(len(frame_list) + 1), interval=100, blit=True)\n",
    "    plt.close(\"all\")\n",
    "    video = ani.to_html5_video()\n",
    "    return HTML(video)"
   ]
  },
  {
   "cell_type": "code",
   "execution_count": 11,
   "id": "29c9ccbd",
   "metadata": {},
   "outputs": [
    {
     "ename": "RuntimeError",
     "evalue": "Requested MovieWriter (ffmpeg) not available",
     "output_type": "error",
     "traceback": [
      "\u001b[0;31m---------------------------------------------------------------------------\u001b[0m",
      "\u001b[0;31mRuntimeError\u001b[0m                              Traceback (most recent call last)",
      "Cell \u001b[0;32mIn[11], line 1\u001b[0m\n\u001b[0;32m----> 1\u001b[0m \u001b[43manimate_play\u001b[49m\u001b[43m(\u001b[49m\u001b[43mdf_tracking\u001b[49m\u001b[43m,\u001b[49m\u001b[43m \u001b[49m\u001b[43mdf_area\u001b[49m\u001b[43m)\u001b[49m\n",
      "Cell \u001b[0;32mIn[10], line 158\u001b[0m, in \u001b[0;36manimate_play\u001b[0;34m(df_play_tracking_normalized, df_area)\u001b[0m\n\u001b[1;32m    156\u001b[0m ani \u001b[38;5;241m=\u001b[39m animation\u001b[38;5;241m.\u001b[39mFuncAnimation(fig, animate, frames\u001b[38;5;241m=\u001b[39m\u001b[38;5;28mrange\u001b[39m(\u001b[38;5;28mlen\u001b[39m(frame_list) \u001b[38;5;241m+\u001b[39m \u001b[38;5;241m1\u001b[39m), interval\u001b[38;5;241m=\u001b[39m\u001b[38;5;241m100\u001b[39m, blit\u001b[38;5;241m=\u001b[39m\u001b[38;5;28;01mTrue\u001b[39;00m)\n\u001b[1;32m    157\u001b[0m plt\u001b[38;5;241m.\u001b[39mclose(\u001b[38;5;124m\"\u001b[39m\u001b[38;5;124mall\u001b[39m\u001b[38;5;124m\"\u001b[39m)\n\u001b[0;32m--> 158\u001b[0m video \u001b[38;5;241m=\u001b[39m \u001b[43mani\u001b[49m\u001b[38;5;241;43m.\u001b[39;49m\u001b[43mto_html5_video\u001b[49m\u001b[43m(\u001b[49m\u001b[43m)\u001b[49m\n\u001b[1;32m    159\u001b[0m \u001b[38;5;28;01mreturn\u001b[39;00m HTML(video)\n",
      "File \u001b[0;32m/workspace/nflbigdatabowl2023/.venv/lib/python3.8/site-packages/matplotlib/animation.py:1262\u001b[0m, in \u001b[0;36mAnimation.to_html5_video\u001b[0;34m(self, embed_limit)\u001b[0m\n\u001b[1;32m   1259\u001b[0m path \u001b[38;5;241m=\u001b[39m Path(tmpdir, \u001b[38;5;124m\"\u001b[39m\u001b[38;5;124mtemp.m4v\u001b[39m\u001b[38;5;124m\"\u001b[39m)\n\u001b[1;32m   1260\u001b[0m \u001b[38;5;66;03m# We create a writer manually so that we can get the\u001b[39;00m\n\u001b[1;32m   1261\u001b[0m \u001b[38;5;66;03m# appropriate size for the tag\u001b[39;00m\n\u001b[0;32m-> 1262\u001b[0m Writer \u001b[38;5;241m=\u001b[39m \u001b[43mwriters\u001b[49m\u001b[43m[\u001b[49m\u001b[43mmpl\u001b[49m\u001b[38;5;241;43m.\u001b[39;49m\u001b[43mrcParams\u001b[49m\u001b[43m[\u001b[49m\u001b[38;5;124;43m'\u001b[39;49m\u001b[38;5;124;43manimation.writer\u001b[39;49m\u001b[38;5;124;43m'\u001b[39;49m\u001b[43m]\u001b[49m\u001b[43m]\u001b[49m\n\u001b[1;32m   1263\u001b[0m writer \u001b[38;5;241m=\u001b[39m Writer(codec\u001b[38;5;241m=\u001b[39m\u001b[38;5;124m'\u001b[39m\u001b[38;5;124mh264\u001b[39m\u001b[38;5;124m'\u001b[39m,\n\u001b[1;32m   1264\u001b[0m                 bitrate\u001b[38;5;241m=\u001b[39mmpl\u001b[38;5;241m.\u001b[39mrcParams[\u001b[38;5;124m'\u001b[39m\u001b[38;5;124manimation.bitrate\u001b[39m\u001b[38;5;124m'\u001b[39m],\n\u001b[1;32m   1265\u001b[0m                 fps\u001b[38;5;241m=\u001b[39m\u001b[38;5;241m1000.\u001b[39m \u001b[38;5;241m/\u001b[39m \u001b[38;5;28mself\u001b[39m\u001b[38;5;241m.\u001b[39m_interval)\n\u001b[1;32m   1266\u001b[0m \u001b[38;5;28mself\u001b[39m\u001b[38;5;241m.\u001b[39msave(\u001b[38;5;28mstr\u001b[39m(path), writer\u001b[38;5;241m=\u001b[39mwriter)\n",
      "File \u001b[0;32m/workspace/nflbigdatabowl2023/.venv/lib/python3.8/site-packages/matplotlib/animation.py:148\u001b[0m, in \u001b[0;36mMovieWriterRegistry.__getitem__\u001b[0;34m(self, name)\u001b[0m\n\u001b[1;32m    146\u001b[0m \u001b[38;5;28;01mif\u001b[39;00m \u001b[38;5;28mself\u001b[39m\u001b[38;5;241m.\u001b[39mis_available(name):\n\u001b[1;32m    147\u001b[0m     \u001b[38;5;28;01mreturn\u001b[39;00m \u001b[38;5;28mself\u001b[39m\u001b[38;5;241m.\u001b[39m_registered[name]\n\u001b[0;32m--> 148\u001b[0m \u001b[38;5;28;01mraise\u001b[39;00m \u001b[38;5;167;01mRuntimeError\u001b[39;00m(\u001b[38;5;124mf\u001b[39m\u001b[38;5;124m\"\u001b[39m\u001b[38;5;124mRequested MovieWriter (\u001b[39m\u001b[38;5;132;01m{\u001b[39;00mname\u001b[38;5;132;01m}\u001b[39;00m\u001b[38;5;124m) not available\u001b[39m\u001b[38;5;124m\"\u001b[39m)\n",
      "\u001b[0;31mRuntimeError\u001b[0m: Requested MovieWriter (ffmpeg) not available"
     ]
    }
   ],
   "source": [
    "animate_play(df_tracking, df_area)"
   ]
  },
  {
   "cell_type": "code",
   "execution_count": null,
   "id": "b1f41626",
   "metadata": {},
   "outputs": [],
   "source": []
  }
 ],
 "metadata": {
  "kernelspec": {
   "display_name": "Python 3 (ipykernel)",
   "language": "python",
   "name": "python3"
  },
  "language_info": {
   "codemirror_mode": {
    "name": "ipython",
    "version": 3
   },
   "file_extension": ".py",
   "mimetype": "text/x-python",
   "name": "python",
   "nbconvert_exporter": "python",
   "pygments_lexer": "ipython3",
   "version": "3.8.13"
  }
 },
 "nbformat": 4,
 "nbformat_minor": 5
}
