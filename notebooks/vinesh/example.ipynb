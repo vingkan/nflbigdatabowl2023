{
 "cells": [
  {
   "cell_type": "markdown",
   "id": "10e440ff",
   "metadata": {},
   "source": [
    "# Example Notebook"
   ]
  },
  {
   "cell_type": "markdown",
   "id": "8a1d6264",
   "metadata": {},
   "source": [
    "Include these first two cells in all your notebooks.\n",
    "\n",
    "- The first cell uses the `autoreload` magic to keep your notebook updated with the latest version of code in your workspace. This allows you to make edits in GitPod and then use them in your notebook.\n",
    "- The second cell adds the repository folder to the notebook system path so that you can import code from the package and use it in your notebook."
   ]
  },
  {
   "cell_type": "code",
   "execution_count": 1,
   "id": "d761b838",
   "metadata": {},
   "outputs": [],
   "source": [
    "%load_ext autoreload\n",
    "%autoreload 2"
   ]
  },
  {
   "cell_type": "code",
   "execution_count": 2,
   "id": "ad12a792",
   "metadata": {},
   "outputs": [],
   "source": [
    "import sys\n",
    "DIR = \"/workspace/nflbigdatabowl2023\"\n",
    "sys.path.append(DIR)"
   ]
  },
  {
   "cell_type": "markdown",
   "id": "445191f5",
   "metadata": {},
   "source": [
    "## Example Imports\n",
    "\n",
    "You can use functions from the package in your notebooks the same way you do within the package, use an absolute import."
   ]
  },
  {
   "cell_type": "code",
   "execution_count": 3,
   "id": "b0585dbf",
   "metadata": {},
   "outputs": [],
   "source": [
    "from nflpocketarea2023.metrics.pocket_area.helpers import convert_pff_role_to_pocket_role\n",
    "from nflpocketarea2023.metrics.pocket_area.passer_radius_area import get_passer_radius_area"
   ]
  },
  {
   "cell_type": "code",
   "execution_count": 4,
   "id": "75d53dd3",
   "metadata": {},
   "outputs": [
    {
     "name": "stdout",
     "output_type": "stream",
     "text": [
      "Object = PocketArea(area=12.566370614359172, metadata=PocketAreaMetadata(vertices=None, radius=2.0))\n",
      "\n",
      "Area   = 12.566\n",
      "Radius = 2.0\n"
     ]
    }
   ],
   "source": [
    "frame = [\n",
    "    {\"role\": \"passer\", \"x\": 0, \"y\": 0},\n",
    "    {\"role\": \"blocker\", \"x\": 0, \"y\": -2},\n",
    "    {\"role\": \"rusher\", \"x\": 0, \"y\": 2},\n",
    "    {\"role\": \"rusher\", \"x\": 0, \"y\": 4},\n",
    "]\n",
    "pocket_area = get_passer_radius_area(frame)\n",
    "print(f\"Object = {pocket_area}\\n\")\n",
    "print(f\"Area   = {pocket_area.area:.3f}\")\n",
    "print(f\"Radius = {pocket_area.metadata.radius}\")"
   ]
  },
  {
   "cell_type": "markdown",
   "id": "f5efa6ce",
   "metadata": {},
   "source": [
    "## Example Data Transformation\n",
    "\n",
    "Here is an example of reading data from the data folder and running code from the package on it."
   ]
  },
  {
   "cell_type": "code",
   "execution_count": 5,
   "id": "f1659594",
   "metadata": {},
   "outputs": [],
   "source": [
    "import pandas as pd\n",
    "from nflpocketarea2023.pipeline.tasks import transform_to_frames, transform_to_records_per_frame"
   ]
  },
  {
   "cell_type": "code",
   "execution_count": 6,
   "id": "dbb9ecec",
   "metadata": {},
   "outputs": [
    {
     "data": {
      "text/plain": [
       "(188254, 15)"
      ]
     },
     "execution_count": 6,
     "metadata": {},
     "output_type": "execute_result"
    }
   ],
   "source": [
    "df_pff = pd.read_csv(f\"{DIR}/data/raw/pffScoutingData.csv\")\n",
    "df_pff.shape"
   ]
  },
  {
   "cell_type": "code",
   "execution_count": 7,
   "id": "755eb478",
   "metadata": {},
   "outputs": [
    {
     "data": {
      "text/plain": [
       "(1118122, 16)"
      ]
     },
     "execution_count": 7,
     "metadata": {},
     "output_type": "execute_result"
    }
   ],
   "source": [
    "df_tracking = pd.read_csv(f\"{DIR}/data/raw/week1.csv\")\n",
    "df_tracking.shape"
   ]
  },
  {
   "cell_type": "markdown",
   "id": "978e7e7e",
   "metadata": {},
   "source": [
    "Choose a specific game, play, and frame ID. Convert the data for that play into the format used by the pocket area calculators, then calculate the pocket area."
   ]
  },
  {
   "cell_type": "code",
   "execution_count": 8,
   "id": "add2eff5",
   "metadata": {},
   "outputs": [],
   "source": [
    "game_id = 2021090900\n",
    "play_id = 97\n",
    "frame_id = 40"
   ]
  },
  {
   "cell_type": "code",
   "execution_count": 9,
   "id": "5f0e7dd1",
   "metadata": {},
   "outputs": [
    {
     "data": {
      "text/plain": [
       "[{'x': 32.69, 'y': 20.5, 'role': 'passer'},\n",
       " {'x': 46.88, 'y': 44.67, 'role': 'unknown'},\n",
       " {'x': 54.72, 'y': 41.19, 'role': 'unknown'},\n",
       " {'x': 37.69, 'y': 15.17, 'role': 'unknown'},\n",
       " {'x': 36.31, 'y': 21.42, 'role': 'blocker'},\n",
       " {'x': 46.61, 'y': 31.87, 'role': 'unknown'},\n",
       " {'x': 33.21, 'y': 24.06, 'role': 'rusher'},\n",
       " {'x': 33.9, 'y': 24.09, 'role': 'blocker'},\n",
       " {'x': 34.39, 'y': 24.48, 'role': 'rusher'},\n",
       " {'x': 39.43, 'y': 27.87, 'role': 'blocker'},\n",
       " {'x': 48.03, 'y': 43.14, 'role': 'unknown'},\n",
       " {'x': 55.34, 'y': 42.82, 'role': 'unknown'},\n",
       " {'x': 53.64, 'y': 22.02, 'role': 'unknown'},\n",
       " {'x': 54.39, 'y': 23.31, 'role': 'unknown'},\n",
       " {'x': 40.47, 'y': 28.73, 'role': 'rusher'},\n",
       " {'x': 69.32, 'y': 30.43, 'role': 'unknown'},\n",
       " {'x': 35.54, 'y': 26.09, 'role': 'blocker'},\n",
       " {'x': 46.7, 'y': 19.09, 'role': 'unknown'},\n",
       " {'x': 34.29, 'y': 23.41, 'role': 'blocker'},\n",
       " {'x': 50.26, 'y': 26.02, 'role': 'unknown'},\n",
       " {'x': 33.77, 'y': 22.7, 'role': 'rusher'},\n",
       " {'x': 34.42, 'y': 20.06, 'role': 'rusher'},\n",
       " {'x': 36.55, 'y': 19.21, 'role': 'unknown'}]"
      ]
     },
     "execution_count": 9,
     "metadata": {},
     "output_type": "execute_result"
    }
   ],
   "source": [
    "df_pff_frame = df_pff.query(f\"gameId == {game_id} and playId == {play_id}\")\n",
    "df_tracking_frame = df_tracking.query(f\"gameId == {game_id} and playId == {play_id} and frameId == {frame_id}\")\n",
    "\n",
    "df_frame = transform_to_frames(df_tracking_frame, df_pff_frame)\n",
    "df_frame_records = transform_to_records_per_frame(df_frame)\n",
    "\n",
    "frame_dicts = df_frame_records[\"records\"][0]\n",
    "frame_dicts"
   ]
  },
  {
   "cell_type": "code",
   "execution_count": 10,
   "id": "a225ae11",
   "metadata": {},
   "outputs": [
    {
     "name": "stdout",
     "output_type": "stream",
     "text": [
      "Object = PocketArea(area=10.010684990663922, metadata=PocketAreaMetadata(vertices=None, radius=1.785077029150287))\n",
      "\n",
      "Area   = 10.011\n",
      "Radius = 1.785077029150287\n"
     ]
    }
   ],
   "source": [
    "pocket_area = get_passer_radius_area(frame_dicts)\n",
    "print(f\"Object = {pocket_area}\\n\")\n",
    "print(f\"Area   = {pocket_area.area:.3f}\")\n",
    "print(f\"Radius = {pocket_area.metadata.radius}\")"
   ]
  },
  {
   "cell_type": "code",
   "execution_count": null,
   "id": "62f9b5e5",
   "metadata": {},
   "outputs": [],
   "source": []
  }
 ],
 "metadata": {
  "kernelspec": {
   "display_name": "Python 3 (ipykernel)",
   "language": "python",
   "name": "python3"
  },
  "language_info": {
   "codemirror_mode": {
    "name": "ipython",
    "version": 3
   },
   "file_extension": ".py",
   "mimetype": "text/x-python",
   "name": "python",
   "nbconvert_exporter": "python",
   "pygments_lexer": "ipython3",
   "version": "3.8.13"
  }
 },
 "nbformat": 4,
 "nbformat_minor": 5
}
